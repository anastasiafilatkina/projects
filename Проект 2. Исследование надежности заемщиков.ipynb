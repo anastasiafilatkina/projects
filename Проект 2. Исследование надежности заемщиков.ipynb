{
 "cells": [
  {
   "cell_type": "markdown",
   "metadata": {},
   "source": [
    "# Исследование надёжности заёмщиков\n",
    "\n",
    "Заказчик — кредитный отдел банка. Нужно разобраться, влияет ли семейное положение и количество детей клиента на факт погашения кредита в срок. Входные данные от банка — статистика о платёжеспособности клиентов.\n",
    "\n",
    "Результаты исследования будут учтены при построении модели **кредитного скоринга** — специальной системы, которая оценивает способность потенциального заёмщика вернуть кредит банку."
   ]
  },
  {
   "cell_type": "markdown",
   "metadata": {},
   "source": [
    "**Цель исследования** — проверяем гипотезы:\n",
    "1. Возврат кредита в срок зависит от наличия детей.\n",
    "2. Возврат кредита в срок зависит от семейного положения заёмщика.\n",
    "3. Между уровнем дохода и возвратом кредита в срок существует зависимость.\n",
    "4. Возврат кредита в срок различно зависит от цели получения кредита.\n",
    "\n",
    "**Ход исследования**\n",
    "\n",
    "Данные о платежеспособности получены из файла `/datasets/data.csv`. О качестве данных ничего не известно. Поэтому перед проверкой гипотез понадобится обзор данных. Потребуется оценить наличие ошибок в данных и по возможности исправить самые критичные из них.\n",
    " \n",
    "Таким образом, исследование пройдёт в три этапа:\n",
    " 1. Обзор данных.\n",
    " 2. Предобработка данных.\n",
    " 3. Проверка гипотез.\n",
    "\n"
   ]
  },
  {
   "cell_type": "markdown",
   "metadata": {},
   "source": [
    "## Обзор данных"
   ]
  },
  {
   "cell_type": "code",
   "execution_count": 1,
   "metadata": {},
   "outputs": [
    {
     "data": {
      "text/html": [
       "<div>\n",
       "<style scoped>\n",
       "    .dataframe tbody tr th:only-of-type {\n",
       "        vertical-align: middle;\n",
       "    }\n",
       "\n",
       "    .dataframe tbody tr th {\n",
       "        vertical-align: top;\n",
       "    }\n",
       "\n",
       "    .dataframe thead th {\n",
       "        text-align: right;\n",
       "    }\n",
       "</style>\n",
       "<table border=\"1\" class=\"dataframe\">\n",
       "  <thead>\n",
       "    <tr style=\"text-align: right;\">\n",
       "      <th></th>\n",
       "      <th>children</th>\n",
       "      <th>days_employed</th>\n",
       "      <th>dob_years</th>\n",
       "      <th>education</th>\n",
       "      <th>education_id</th>\n",
       "      <th>family_status</th>\n",
       "      <th>family_status_id</th>\n",
       "      <th>gender</th>\n",
       "      <th>income_type</th>\n",
       "      <th>debt</th>\n",
       "      <th>total_income</th>\n",
       "      <th>purpose</th>\n",
       "    </tr>\n",
       "  </thead>\n",
       "  <tbody>\n",
       "    <tr>\n",
       "      <td>0</td>\n",
       "      <td>1</td>\n",
       "      <td>-8437.673028</td>\n",
       "      <td>42</td>\n",
       "      <td>высшее</td>\n",
       "      <td>0</td>\n",
       "      <td>женат / замужем</td>\n",
       "      <td>0</td>\n",
       "      <td>F</td>\n",
       "      <td>сотрудник</td>\n",
       "      <td>0</td>\n",
       "      <td>253875.639453</td>\n",
       "      <td>покупка жилья</td>\n",
       "    </tr>\n",
       "    <tr>\n",
       "      <td>1</td>\n",
       "      <td>1</td>\n",
       "      <td>-4024.803754</td>\n",
       "      <td>36</td>\n",
       "      <td>среднее</td>\n",
       "      <td>1</td>\n",
       "      <td>женат / замужем</td>\n",
       "      <td>0</td>\n",
       "      <td>F</td>\n",
       "      <td>сотрудник</td>\n",
       "      <td>0</td>\n",
       "      <td>112080.014102</td>\n",
       "      <td>приобретение автомобиля</td>\n",
       "    </tr>\n",
       "    <tr>\n",
       "      <td>2</td>\n",
       "      <td>0</td>\n",
       "      <td>-5623.422610</td>\n",
       "      <td>33</td>\n",
       "      <td>Среднее</td>\n",
       "      <td>1</td>\n",
       "      <td>женат / замужем</td>\n",
       "      <td>0</td>\n",
       "      <td>M</td>\n",
       "      <td>сотрудник</td>\n",
       "      <td>0</td>\n",
       "      <td>145885.952297</td>\n",
       "      <td>покупка жилья</td>\n",
       "    </tr>\n",
       "    <tr>\n",
       "      <td>3</td>\n",
       "      <td>3</td>\n",
       "      <td>-4124.747207</td>\n",
       "      <td>32</td>\n",
       "      <td>среднее</td>\n",
       "      <td>1</td>\n",
       "      <td>женат / замужем</td>\n",
       "      <td>0</td>\n",
       "      <td>M</td>\n",
       "      <td>сотрудник</td>\n",
       "      <td>0</td>\n",
       "      <td>267628.550329</td>\n",
       "      <td>дополнительное образование</td>\n",
       "    </tr>\n",
       "    <tr>\n",
       "      <td>4</td>\n",
       "      <td>0</td>\n",
       "      <td>340266.072047</td>\n",
       "      <td>53</td>\n",
       "      <td>среднее</td>\n",
       "      <td>1</td>\n",
       "      <td>гражданский брак</td>\n",
       "      <td>1</td>\n",
       "      <td>F</td>\n",
       "      <td>пенсионер</td>\n",
       "      <td>0</td>\n",
       "      <td>158616.077870</td>\n",
       "      <td>сыграть свадьбу</td>\n",
       "    </tr>\n",
       "    <tr>\n",
       "      <td>5</td>\n",
       "      <td>0</td>\n",
       "      <td>-926.185831</td>\n",
       "      <td>27</td>\n",
       "      <td>высшее</td>\n",
       "      <td>0</td>\n",
       "      <td>гражданский брак</td>\n",
       "      <td>1</td>\n",
       "      <td>M</td>\n",
       "      <td>компаньон</td>\n",
       "      <td>0</td>\n",
       "      <td>255763.565419</td>\n",
       "      <td>покупка жилья</td>\n",
       "    </tr>\n",
       "    <tr>\n",
       "      <td>6</td>\n",
       "      <td>0</td>\n",
       "      <td>-2879.202052</td>\n",
       "      <td>43</td>\n",
       "      <td>высшее</td>\n",
       "      <td>0</td>\n",
       "      <td>женат / замужем</td>\n",
       "      <td>0</td>\n",
       "      <td>F</td>\n",
       "      <td>компаньон</td>\n",
       "      <td>0</td>\n",
       "      <td>240525.971920</td>\n",
       "      <td>операции с жильем</td>\n",
       "    </tr>\n",
       "    <tr>\n",
       "      <td>7</td>\n",
       "      <td>0</td>\n",
       "      <td>-152.779569</td>\n",
       "      <td>50</td>\n",
       "      <td>СРЕДНЕЕ</td>\n",
       "      <td>1</td>\n",
       "      <td>женат / замужем</td>\n",
       "      <td>0</td>\n",
       "      <td>M</td>\n",
       "      <td>сотрудник</td>\n",
       "      <td>0</td>\n",
       "      <td>135823.934197</td>\n",
       "      <td>образование</td>\n",
       "    </tr>\n",
       "    <tr>\n",
       "      <td>8</td>\n",
       "      <td>2</td>\n",
       "      <td>-6929.865299</td>\n",
       "      <td>35</td>\n",
       "      <td>ВЫСШЕЕ</td>\n",
       "      <td>0</td>\n",
       "      <td>гражданский брак</td>\n",
       "      <td>1</td>\n",
       "      <td>F</td>\n",
       "      <td>сотрудник</td>\n",
       "      <td>0</td>\n",
       "      <td>95856.832424</td>\n",
       "      <td>на проведение свадьбы</td>\n",
       "    </tr>\n",
       "    <tr>\n",
       "      <td>9</td>\n",
       "      <td>0</td>\n",
       "      <td>-2188.756445</td>\n",
       "      <td>41</td>\n",
       "      <td>среднее</td>\n",
       "      <td>1</td>\n",
       "      <td>женат / замужем</td>\n",
       "      <td>0</td>\n",
       "      <td>M</td>\n",
       "      <td>сотрудник</td>\n",
       "      <td>0</td>\n",
       "      <td>144425.938277</td>\n",
       "      <td>покупка жилья для семьи</td>\n",
       "    </tr>\n",
       "  </tbody>\n",
       "</table>\n",
       "</div>"
      ],
      "text/plain": [
       "   children  days_employed  dob_years education  education_id  \\\n",
       "0         1   -8437.673028         42    высшее             0   \n",
       "1         1   -4024.803754         36   среднее             1   \n",
       "2         0   -5623.422610         33   Среднее             1   \n",
       "3         3   -4124.747207         32   среднее             1   \n",
       "4         0  340266.072047         53   среднее             1   \n",
       "5         0    -926.185831         27    высшее             0   \n",
       "6         0   -2879.202052         43    высшее             0   \n",
       "7         0    -152.779569         50   СРЕДНЕЕ             1   \n",
       "8         2   -6929.865299         35    ВЫСШЕЕ             0   \n",
       "9         0   -2188.756445         41   среднее             1   \n",
       "\n",
       "      family_status  family_status_id gender income_type  debt   total_income  \\\n",
       "0   женат / замужем                 0      F   сотрудник     0  253875.639453   \n",
       "1   женат / замужем                 0      F   сотрудник     0  112080.014102   \n",
       "2   женат / замужем                 0      M   сотрудник     0  145885.952297   \n",
       "3   женат / замужем                 0      M   сотрудник     0  267628.550329   \n",
       "4  гражданский брак                 1      F   пенсионер     0  158616.077870   \n",
       "5  гражданский брак                 1      M   компаньон     0  255763.565419   \n",
       "6   женат / замужем                 0      F   компаньон     0  240525.971920   \n",
       "7   женат / замужем                 0      M   сотрудник     0  135823.934197   \n",
       "8  гражданский брак                 1      F   сотрудник     0   95856.832424   \n",
       "9   женат / замужем                 0      M   сотрудник     0  144425.938277   \n",
       "\n",
       "                      purpose  \n",
       "0               покупка жилья  \n",
       "1     приобретение автомобиля  \n",
       "2               покупка жилья  \n",
       "3  дополнительное образование  \n",
       "4             сыграть свадьбу  \n",
       "5               покупка жилья  \n",
       "6           операции с жильем  \n",
       "7                 образование  \n",
       "8       на проведение свадьбы  \n",
       "9     покупка жилья для семьи  "
      ]
     },
     "execution_count": 1,
     "metadata": {},
     "output_type": "execute_result"
    }
   ],
   "source": [
    "import pandas as pd\n",
    "\n",
    "from nltk.stem import SnowballStemmer \n",
    "russian_stemmer = SnowballStemmer('russian')\n",
    "\n",
    "from pymystem3 import Mystem\n",
    "m = Mystem() \n",
    "\n",
    "import collections\n",
    "from collections import Counter\n",
    "\n",
    "try:\n",
    "    df = pd.read_csv('C:/Users/datasets/data.csv')  # Локальный путь\n",
    "except:\n",
    "    df = pd.read_csv('/datasets/data.csv')  # Серверный путь\n",
    "    \n",
    "df.head(10)"
   ]
  },
  {
   "cell_type": "code",
   "execution_count": 2,
   "metadata": {},
   "outputs": [
    {
     "name": "stdout",
     "output_type": "stream",
     "text": [
      "<class 'pandas.core.frame.DataFrame'>\n",
      "RangeIndex: 21525 entries, 0 to 21524\n",
      "Data columns (total 12 columns):\n",
      "children            21525 non-null int64\n",
      "days_employed       19351 non-null float64\n",
      "dob_years           21525 non-null int64\n",
      "education           21525 non-null object\n",
      "education_id        21525 non-null int64\n",
      "family_status       21525 non-null object\n",
      "family_status_id    21525 non-null int64\n",
      "gender              21525 non-null object\n",
      "income_type         21525 non-null object\n",
      "debt                21525 non-null int64\n",
      "total_income        19351 non-null float64\n",
      "purpose             21525 non-null object\n",
      "dtypes: float64(2), int64(5), object(5)\n",
      "memory usage: 2.0+ MB\n"
     ]
    }
   ],
   "source": [
    "df.info()"
   ]
  },
  {
   "cell_type": "markdown",
   "metadata": {},
   "source": [
    "В таблице 12 столбцов. Типы данных в столбцах — `float64`, `int64`,`object`.\n",
    "\n",
    "Согласно документации к данным:\n",
    "* `children` — количество детей в семье;\n",
    "* `days_employed` — общий трудовой стаж в днях;\n",
    "* `dob_years` — возраст клиента в годах;\n",
    "* `education` — уровень образования клиента;\n",
    "* `education_id` — идентификатор уровня образования;\n",
    "* `family_status` — семейное положение;\n",
    "* `family_status_id` — идентификатор семейного положения;\n",
    "* `gender` — пол клиента;\n",
    "* `income_type` — тип занятости;\n",
    "* `debt` — имел ли задолженность по возврату кредитов;\n",
    "* `total_income` — ежемесячный доход;\n",
    "* `purpose` — цель получения кредита.\n",
    "\n",
    "Количество значений в столбцах различается. В столбцах `days_employed` и `total_income`данных есть пропущенные значения."
   ]
  },
  {
   "cell_type": "code",
   "execution_count": 3,
   "metadata": {},
   "outputs": [
    {
     "data": {
      "text/html": [
       "<div>\n",
       "<style scoped>\n",
       "    .dataframe tbody tr th:only-of-type {\n",
       "        vertical-align: middle;\n",
       "    }\n",
       "\n",
       "    .dataframe tbody tr th {\n",
       "        vertical-align: top;\n",
       "    }\n",
       "\n",
       "    .dataframe thead th {\n",
       "        text-align: right;\n",
       "    }\n",
       "</style>\n",
       "<table border=\"1\" class=\"dataframe\">\n",
       "  <thead>\n",
       "    <tr style=\"text-align: right;\">\n",
       "      <th></th>\n",
       "      <th>children</th>\n",
       "      <th>days_employed</th>\n",
       "      <th>dob_years</th>\n",
       "      <th>education_id</th>\n",
       "      <th>family_status_id</th>\n",
       "      <th>debt</th>\n",
       "      <th>total_income</th>\n",
       "    </tr>\n",
       "  </thead>\n",
       "  <tbody>\n",
       "    <tr>\n",
       "      <td>count</td>\n",
       "      <td>21525.000000</td>\n",
       "      <td>19351.000000</td>\n",
       "      <td>21525.000000</td>\n",
       "      <td>21525.000000</td>\n",
       "      <td>21525.000000</td>\n",
       "      <td>21525.000000</td>\n",
       "      <td>1.935100e+04</td>\n",
       "    </tr>\n",
       "    <tr>\n",
       "      <td>mean</td>\n",
       "      <td>0.538908</td>\n",
       "      <td>63046.497661</td>\n",
       "      <td>43.293380</td>\n",
       "      <td>0.817236</td>\n",
       "      <td>0.972544</td>\n",
       "      <td>0.080883</td>\n",
       "      <td>1.674223e+05</td>\n",
       "    </tr>\n",
       "    <tr>\n",
       "      <td>std</td>\n",
       "      <td>1.381587</td>\n",
       "      <td>140827.311974</td>\n",
       "      <td>12.574584</td>\n",
       "      <td>0.548138</td>\n",
       "      <td>1.420324</td>\n",
       "      <td>0.272661</td>\n",
       "      <td>1.029716e+05</td>\n",
       "    </tr>\n",
       "    <tr>\n",
       "      <td>min</td>\n",
       "      <td>-1.000000</td>\n",
       "      <td>-18388.949901</td>\n",
       "      <td>0.000000</td>\n",
       "      <td>0.000000</td>\n",
       "      <td>0.000000</td>\n",
       "      <td>0.000000</td>\n",
       "      <td>2.066726e+04</td>\n",
       "    </tr>\n",
       "    <tr>\n",
       "      <td>25%</td>\n",
       "      <td>0.000000</td>\n",
       "      <td>-2747.423625</td>\n",
       "      <td>33.000000</td>\n",
       "      <td>1.000000</td>\n",
       "      <td>0.000000</td>\n",
       "      <td>0.000000</td>\n",
       "      <td>1.030532e+05</td>\n",
       "    </tr>\n",
       "    <tr>\n",
       "      <td>50%</td>\n",
       "      <td>0.000000</td>\n",
       "      <td>-1203.369529</td>\n",
       "      <td>42.000000</td>\n",
       "      <td>1.000000</td>\n",
       "      <td>0.000000</td>\n",
       "      <td>0.000000</td>\n",
       "      <td>1.450179e+05</td>\n",
       "    </tr>\n",
       "    <tr>\n",
       "      <td>75%</td>\n",
       "      <td>1.000000</td>\n",
       "      <td>-291.095954</td>\n",
       "      <td>53.000000</td>\n",
       "      <td>1.000000</td>\n",
       "      <td>1.000000</td>\n",
       "      <td>0.000000</td>\n",
       "      <td>2.034351e+05</td>\n",
       "    </tr>\n",
       "    <tr>\n",
       "      <td>max</td>\n",
       "      <td>20.000000</td>\n",
       "      <td>401755.400475</td>\n",
       "      <td>75.000000</td>\n",
       "      <td>4.000000</td>\n",
       "      <td>4.000000</td>\n",
       "      <td>1.000000</td>\n",
       "      <td>2.265604e+06</td>\n",
       "    </tr>\n",
       "  </tbody>\n",
       "</table>\n",
       "</div>"
      ],
      "text/plain": [
       "           children  days_employed     dob_years  education_id  \\\n",
       "count  21525.000000   19351.000000  21525.000000  21525.000000   \n",
       "mean       0.538908   63046.497661     43.293380      0.817236   \n",
       "std        1.381587  140827.311974     12.574584      0.548138   \n",
       "min       -1.000000  -18388.949901      0.000000      0.000000   \n",
       "25%        0.000000   -2747.423625     33.000000      1.000000   \n",
       "50%        0.000000   -1203.369529     42.000000      1.000000   \n",
       "75%        1.000000    -291.095954     53.000000      1.000000   \n",
       "max       20.000000  401755.400475     75.000000      4.000000   \n",
       "\n",
       "       family_status_id          debt  total_income  \n",
       "count      21525.000000  21525.000000  1.935100e+04  \n",
       "mean           0.972544      0.080883  1.674223e+05  \n",
       "std            1.420324      0.272661  1.029716e+05  \n",
       "min            0.000000      0.000000  2.066726e+04  \n",
       "25%            0.000000      0.000000  1.030532e+05  \n",
       "50%            0.000000      0.000000  1.450179e+05  \n",
       "75%            1.000000      0.000000  2.034351e+05  \n",
       "max            4.000000      1.000000  2.265604e+06  "
      ]
     },
     "execution_count": 3,
     "metadata": {},
     "output_type": "execute_result"
    }
   ],
   "source": [
    "df.describe()"
   ]
  },
  {
   "cell_type": "markdown",
   "metadata": {},
   "source": [
    "**Выводы**\n",
    "\n",
    "В каждой строке таблицы — данные о заёмщике. Часть колонок содержит данные о заемщике:семейное положение, в том числе количестве детей заемщика, возрасте, уровне образования, пол заемщика. Часть колонок содержит информацию о трудоустройстве заемщика: стаж, тип занятости и ежемесячных доход. Часть колонок отражает информацию о кредите: целях получения кредита и наличии задолженностей.\n",
    "\n",
    "Предварительно можно утверждать, что данных достаточно для проверки гипотез. Но встречаются пропуски в данных, а в некоторых колонках значения отличаются по регистру, цели кредита имеют различные вариации для описания подобных целей. Общий стаж в днях частично представлен отрицательными значениями, частично нереалистично большими. При этом встречается отрицательное количество детей и аномальное 20 в столбце `children`, данные к тому же представлены в неудобном формате."
   ]
  },
  {
   "cell_type": "markdown",
   "metadata": {},
   "source": [
    "## Предобработка данных"
   ]
  },
  {
   "cell_type": "markdown",
   "metadata": {},
   "source": [
    "### Обработка пропусков"
   ]
  },
  {
   "cell_type": "markdown",
   "metadata": {},
   "source": [
    "Проверим, в каких столбцах встречаются пропущенные значения."
   ]
  },
  {
   "cell_type": "code",
   "execution_count": 4,
   "metadata": {},
   "outputs": [
    {
     "data": {
      "text/plain": [
       "children               0\n",
       "days_employed       2174\n",
       "dob_years              0\n",
       "education              0\n",
       "education_id           0\n",
       "family_status          0\n",
       "family_status_id       0\n",
       "gender                 0\n",
       "income_type            0\n",
       "debt                   0\n",
       "total_income        2174\n",
       "purpose                0\n",
       "dtype: int64"
      ]
     },
     "execution_count": 4,
     "metadata": {},
     "output_type": "execute_result"
    }
   ],
   "source": [
    "df.isna().sum()"
   ]
  },
  {
   "cell_type": "markdown",
   "metadata": {},
   "source": [
    "В таблице имеется 2174 строки с пропущенными значениями в столбцах `days_employed` и `total_income`. То есть у 10% датасета отсутствуют значения в этих столбцах. Пропуски в `days_employed` не повлияют на проверку гипотез, но столбец `total_income` важен для исследования, а отсутствующие значения могут сильно повлиять на конечный результат. Поэтому заменим пропуски на медианные значения для каждого типа занятости. Поскольку количество пропусков одинаково именно в этих столбцах, это наталкивает на мысль, что в датасете просто присутствуют люди, у которых нет стажа и, соответственно, нет дохода. Либо при выгрузке конкретно этих значений произошел сбой."
   ]
  },
  {
   "cell_type": "markdown",
   "metadata": {},
   "source": [
    "Заменим пропуски на медианные значения для каждого типа занятости."
   ]
  },
  {
   "cell_type": "code",
   "execution_count": 5,
   "metadata": {},
   "outputs": [],
   "source": [
    "income_types = df['income_type'].unique()\n",
    "\n",
    "for type in income_types:\n",
    "    median = df.loc[df['income_type'] == type, 'total_income'].median()\n",
    "    df.loc[(df['total_income'].isna()) & (df['income_type'] == type), 'total_income'] = median"
   ]
  },
  {
   "cell_type": "markdown",
   "metadata": {},
   "source": [
    "<div class=\"alert alert-success\">\n",
    "<b>Комментарий ревьюера ✔️:</b>\n",
    "    \n",
    "Хорошая  замена пропущенных значений на медиану.</div>"
   ]
  },
  {
   "cell_type": "markdown",
   "metadata": {},
   "source": [
    "Займемся трудовым стажем. Встречаются отрицательные числа, заменим их на те же числа, но по модулю."
   ]
  },
  {
   "cell_type": "code",
   "execution_count": 6,
   "metadata": {},
   "outputs": [],
   "source": [
    "df['days_employed'] = abs(df['days_employed'])"
   ]
  },
  {
   "cell_type": "markdown",
   "metadata": {},
   "source": [
    "Для типа занятости пенсионер и безработный наблюдаются нереалистичные значения стажа, вероятно, вычисленного в часах, а не днях. Заменим эти значения."
   ]
  },
  {
   "cell_type": "code",
   "execution_count": 7,
   "metadata": {},
   "outputs": [
    {
     "data": {
      "text/html": [
       "<div>\n",
       "<style scoped>\n",
       "    .dataframe tbody tr th:only-of-type {\n",
       "        vertical-align: middle;\n",
       "    }\n",
       "\n",
       "    .dataframe tbody tr th {\n",
       "        vertical-align: top;\n",
       "    }\n",
       "\n",
       "    .dataframe thead th {\n",
       "        text-align: right;\n",
       "    }\n",
       "</style>\n",
       "<table border=\"1\" class=\"dataframe\">\n",
       "  <thead>\n",
       "    <tr style=\"text-align: right;\">\n",
       "      <th></th>\n",
       "      <th>children</th>\n",
       "      <th>days_employed</th>\n",
       "      <th>dob_years</th>\n",
       "      <th>education</th>\n",
       "      <th>education_id</th>\n",
       "      <th>family_status</th>\n",
       "      <th>family_status_id</th>\n",
       "      <th>gender</th>\n",
       "      <th>income_type</th>\n",
       "      <th>debt</th>\n",
       "      <th>total_income</th>\n",
       "      <th>purpose</th>\n",
       "    </tr>\n",
       "  </thead>\n",
       "  <tbody>\n",
       "    <tr>\n",
       "      <td>0</td>\n",
       "      <td>1</td>\n",
       "      <td>8437.673028</td>\n",
       "      <td>42</td>\n",
       "      <td>высшее</td>\n",
       "      <td>0</td>\n",
       "      <td>женат / замужем</td>\n",
       "      <td>0</td>\n",
       "      <td>F</td>\n",
       "      <td>сотрудник</td>\n",
       "      <td>0</td>\n",
       "      <td>253875.639453</td>\n",
       "      <td>покупка жилья</td>\n",
       "    </tr>\n",
       "    <tr>\n",
       "      <td>1</td>\n",
       "      <td>1</td>\n",
       "      <td>4024.803754</td>\n",
       "      <td>36</td>\n",
       "      <td>среднее</td>\n",
       "      <td>1</td>\n",
       "      <td>женат / замужем</td>\n",
       "      <td>0</td>\n",
       "      <td>F</td>\n",
       "      <td>сотрудник</td>\n",
       "      <td>0</td>\n",
       "      <td>112080.014102</td>\n",
       "      <td>приобретение автомобиля</td>\n",
       "    </tr>\n",
       "    <tr>\n",
       "      <td>2</td>\n",
       "      <td>0</td>\n",
       "      <td>5623.422610</td>\n",
       "      <td>33</td>\n",
       "      <td>Среднее</td>\n",
       "      <td>1</td>\n",
       "      <td>женат / замужем</td>\n",
       "      <td>0</td>\n",
       "      <td>M</td>\n",
       "      <td>сотрудник</td>\n",
       "      <td>0</td>\n",
       "      <td>145885.952297</td>\n",
       "      <td>покупка жилья</td>\n",
       "    </tr>\n",
       "    <tr>\n",
       "      <td>3</td>\n",
       "      <td>3</td>\n",
       "      <td>4124.747207</td>\n",
       "      <td>32</td>\n",
       "      <td>среднее</td>\n",
       "      <td>1</td>\n",
       "      <td>женат / замужем</td>\n",
       "      <td>0</td>\n",
       "      <td>M</td>\n",
       "      <td>сотрудник</td>\n",
       "      <td>0</td>\n",
       "      <td>267628.550329</td>\n",
       "      <td>дополнительное образование</td>\n",
       "    </tr>\n",
       "    <tr>\n",
       "      <td>4</td>\n",
       "      <td>0</td>\n",
       "      <td>14177.753002</td>\n",
       "      <td>53</td>\n",
       "      <td>среднее</td>\n",
       "      <td>1</td>\n",
       "      <td>гражданский брак</td>\n",
       "      <td>1</td>\n",
       "      <td>F</td>\n",
       "      <td>пенсионер</td>\n",
       "      <td>0</td>\n",
       "      <td>158616.077870</td>\n",
       "      <td>сыграть свадьбу</td>\n",
       "    </tr>\n",
       "    <tr>\n",
       "      <td>5</td>\n",
       "      <td>0</td>\n",
       "      <td>926.185831</td>\n",
       "      <td>27</td>\n",
       "      <td>высшее</td>\n",
       "      <td>0</td>\n",
       "      <td>гражданский брак</td>\n",
       "      <td>1</td>\n",
       "      <td>M</td>\n",
       "      <td>компаньон</td>\n",
       "      <td>0</td>\n",
       "      <td>255763.565419</td>\n",
       "      <td>покупка жилья</td>\n",
       "    </tr>\n",
       "    <tr>\n",
       "      <td>6</td>\n",
       "      <td>0</td>\n",
       "      <td>2879.202052</td>\n",
       "      <td>43</td>\n",
       "      <td>высшее</td>\n",
       "      <td>0</td>\n",
       "      <td>женат / замужем</td>\n",
       "      <td>0</td>\n",
       "      <td>F</td>\n",
       "      <td>компаньон</td>\n",
       "      <td>0</td>\n",
       "      <td>240525.971920</td>\n",
       "      <td>операции с жильем</td>\n",
       "    </tr>\n",
       "    <tr>\n",
       "      <td>7</td>\n",
       "      <td>0</td>\n",
       "      <td>152.779569</td>\n",
       "      <td>50</td>\n",
       "      <td>СРЕДНЕЕ</td>\n",
       "      <td>1</td>\n",
       "      <td>женат / замужем</td>\n",
       "      <td>0</td>\n",
       "      <td>M</td>\n",
       "      <td>сотрудник</td>\n",
       "      <td>0</td>\n",
       "      <td>135823.934197</td>\n",
       "      <td>образование</td>\n",
       "    </tr>\n",
       "    <tr>\n",
       "      <td>8</td>\n",
       "      <td>2</td>\n",
       "      <td>6929.865299</td>\n",
       "      <td>35</td>\n",
       "      <td>ВЫСШЕЕ</td>\n",
       "      <td>0</td>\n",
       "      <td>гражданский брак</td>\n",
       "      <td>1</td>\n",
       "      <td>F</td>\n",
       "      <td>сотрудник</td>\n",
       "      <td>0</td>\n",
       "      <td>95856.832424</td>\n",
       "      <td>на проведение свадьбы</td>\n",
       "    </tr>\n",
       "    <tr>\n",
       "      <td>9</td>\n",
       "      <td>0</td>\n",
       "      <td>2188.756445</td>\n",
       "      <td>41</td>\n",
       "      <td>среднее</td>\n",
       "      <td>1</td>\n",
       "      <td>женат / замужем</td>\n",
       "      <td>0</td>\n",
       "      <td>M</td>\n",
       "      <td>сотрудник</td>\n",
       "      <td>0</td>\n",
       "      <td>144425.938277</td>\n",
       "      <td>покупка жилья для семьи</td>\n",
       "    </tr>\n",
       "  </tbody>\n",
       "</table>\n",
       "</div>"
      ],
      "text/plain": [
       "   children  days_employed  dob_years education  education_id  \\\n",
       "0         1    8437.673028         42    высшее             0   \n",
       "1         1    4024.803754         36   среднее             1   \n",
       "2         0    5623.422610         33   Среднее             1   \n",
       "3         3    4124.747207         32   среднее             1   \n",
       "4         0   14177.753002         53   среднее             1   \n",
       "5         0     926.185831         27    высшее             0   \n",
       "6         0    2879.202052         43    высшее             0   \n",
       "7         0     152.779569         50   СРЕДНЕЕ             1   \n",
       "8         2    6929.865299         35    ВЫСШЕЕ             0   \n",
       "9         0    2188.756445         41   среднее             1   \n",
       "\n",
       "      family_status  family_status_id gender income_type  debt   total_income  \\\n",
       "0   женат / замужем                 0      F   сотрудник     0  253875.639453   \n",
       "1   женат / замужем                 0      F   сотрудник     0  112080.014102   \n",
       "2   женат / замужем                 0      M   сотрудник     0  145885.952297   \n",
       "3   женат / замужем                 0      M   сотрудник     0  267628.550329   \n",
       "4  гражданский брак                 1      F   пенсионер     0  158616.077870   \n",
       "5  гражданский брак                 1      M   компаньон     0  255763.565419   \n",
       "6   женат / замужем                 0      F   компаньон     0  240525.971920   \n",
       "7   женат / замужем                 0      M   сотрудник     0  135823.934197   \n",
       "8  гражданский брак                 1      F   сотрудник     0   95856.832424   \n",
       "9   женат / замужем                 0      M   сотрудник     0  144425.938277   \n",
       "\n",
       "                      purpose  \n",
       "0               покупка жилья  \n",
       "1     приобретение автомобиля  \n",
       "2               покупка жилья  \n",
       "3  дополнительное образование  \n",
       "4             сыграть свадьбу  \n",
       "5               покупка жилья  \n",
       "6           операции с жильем  \n",
       "7                 образование  \n",
       "8       на проведение свадьбы  \n",
       "9     покупка жилья для семьи  "
      ]
     },
     "execution_count": 7,
     "metadata": {},
     "output_type": "execute_result"
    }
   ],
   "source": [
    "df.loc[df['days_employed'] > df['dob_years'] * 365, 'days_employed'] = df.loc[df['days_employed'] > df['dob_years'] * 365, 'days_employed'] / 24\n",
    "df.head(10)"
   ]
  },
  {
   "cell_type": "markdown",
   "metadata": {},
   "source": [
    "Проверим, остались ли в таблице пропуски."
   ]
  },
  {
   "cell_type": "code",
   "execution_count": 8,
   "metadata": {
    "scrolled": true
   },
   "outputs": [
    {
     "name": "stdout",
     "output_type": "stream",
     "text": [
      "<class 'pandas.core.frame.DataFrame'>\n",
      "RangeIndex: 21525 entries, 0 to 21524\n",
      "Data columns (total 12 columns):\n",
      "children            21525 non-null int64\n",
      "days_employed       19351 non-null float64\n",
      "dob_years           21525 non-null int64\n",
      "education           21525 non-null object\n",
      "education_id        21525 non-null int64\n",
      "family_status       21525 non-null object\n",
      "family_status_id    21525 non-null int64\n",
      "gender              21525 non-null object\n",
      "income_type         21525 non-null object\n",
      "debt                21525 non-null int64\n",
      "total_income        21525 non-null float64\n",
      "purpose             21525 non-null object\n",
      "dtypes: float64(2), int64(5), object(5)\n",
      "memory usage: 2.0+ MB\n"
     ]
    }
   ],
   "source": [
    "df.info()"
   ]
  },
  {
   "cell_type": "markdown",
   "metadata": {},
   "source": [
    "**Выводы**"
   ]
  },
  {
   "cell_type": "markdown",
   "metadata": {},
   "source": [
    "Пропуски присутствуют в столбцах `days_employed` и `total_income` в одинаковых количествах, следовательно это могут быть люди, у которых пока нет стажа, следовательно нет и дохода, также возможен сбой при выгрузке значений конкретно для этих строк. Не все пропущенные значения влияют на исследование. Так в `days_employed` пропуски не столь важны для доказательства гипотез. Поэтому принято решение оставить значения NaN.\n",
    "\n",
    "Но пропуски в `total_income` могут помешать при выяснении связи между уровнем дохода и возвратом кредита в срок. На практике было бы правильно установить причину пропусков и восстановить данные. Такой возможности нет в учебном проекте. Поэтому произведена замена пропусков на медианные значения для каждого типа занятости."
   ]
  },
  {
   "cell_type": "markdown",
   "metadata": {},
   "source": [
    "### Замена типа данных"
   ]
  },
  {
   "cell_type": "markdown",
   "metadata": {},
   "source": [
    "Столбцы `total_income` и `children` представлены типом float64. Для удобства восприятия и проведения математических операций, заменим вещественный тип на целочисленный методом astype()."
   ]
  },
  {
   "cell_type": "code",
   "execution_count": 9,
   "metadata": {
    "scrolled": true
   },
   "outputs": [
    {
     "name": "stdout",
     "output_type": "stream",
     "text": [
      "<class 'pandas.core.frame.DataFrame'>\n",
      "RangeIndex: 21525 entries, 0 to 21524\n",
      "Data columns (total 12 columns):\n",
      "children            21525 non-null int64\n",
      "days_employed       19351 non-null float64\n",
      "dob_years           21525 non-null int64\n",
      "education           21525 non-null object\n",
      "education_id        21525 non-null int64\n",
      "family_status       21525 non-null object\n",
      "family_status_id    21525 non-null int64\n",
      "gender              21525 non-null object\n",
      "income_type         21525 non-null object\n",
      "debt                21525 non-null int64\n",
      "total_income        21525 non-null int64\n",
      "purpose             21525 non-null object\n",
      "dtypes: float64(1), int64(6), object(5)\n",
      "memory usage: 2.0+ MB\n"
     ]
    }
   ],
   "source": [
    "df['total_income'] = df['total_income'].astype('int')\n",
    "df['children'] = df['children'].astype('int')\n",
    "df.info()"
   ]
  },
  {
   "cell_type": "markdown",
   "metadata": {},
   "source": [
    "Также обработаем выявленные аномальные значения -1 и 20 в столбце с количеством детей."
   ]
  },
  {
   "cell_type": "code",
   "execution_count": 10,
   "metadata": {},
   "outputs": [],
   "source": [
    "df['children'] = abs(df['children'])\n",
    "ch_median = df.loc[df.loc[:, 'children'] != 20]['children'].median()\n",
    "df['children'] = df['children'].replace(20, ch_median)"
   ]
  },
  {
   "cell_type": "markdown",
   "metadata": {},
   "source": [
    "**Выводы**"
   ]
  },
  {
   "cell_type": "markdown",
   "metadata": {},
   "source": [
    "Данные в таблице представлены в удобных для анализа типах."
   ]
  },
  {
   "cell_type": "markdown",
   "metadata": {},
   "source": [
    "### Обработка дубликатов"
   ]
  },
  {
   "cell_type": "markdown",
   "metadata": {},
   "source": [
    "Избавимся от неявных дубликатов в столбце `education`."
   ]
  },
  {
   "cell_type": "code",
   "execution_count": 11,
   "metadata": {},
   "outputs": [
    {
     "data": {
      "text/plain": [
       "['ВЫСШЕЕ',\n",
       " 'Высшее',\n",
       " 'НАЧАЛЬНОЕ',\n",
       " 'НЕОКОНЧЕННОЕ ВЫСШЕЕ',\n",
       " 'Начальное',\n",
       " 'Неоконченное высшее',\n",
       " 'СРЕДНЕЕ',\n",
       " 'Среднее',\n",
       " 'УЧЕНАЯ СТЕПЕНЬ',\n",
       " 'Ученая степень',\n",
       " 'высшее',\n",
       " 'начальное',\n",
       " 'неоконченное высшее',\n",
       " 'среднее',\n",
       " 'ученая степень']"
      ]
     },
     "execution_count": 11,
     "metadata": {},
     "output_type": "execute_result"
    }
   ],
   "source": [
    "sorted(df['education'].unique())"
   ]
  },
  {
   "cell_type": "markdown",
   "metadata": {},
   "source": [
    "Видим, что в столбце с образованием дубликаты возникают из-за различного регистра, скорее всего это возникло при заполнении данных, поскольку люди, заполнявшие эти графы, использовали различные регистры. Исправим это."
   ]
  },
  {
   "cell_type": "code",
   "execution_count": 12,
   "metadata": {},
   "outputs": [],
   "source": [
    "df['education'] = df['education'].str.lower()"
   ]
  },
  {
   "cell_type": "markdown",
   "metadata": {},
   "source": [
    "Проверим результат."
   ]
  },
  {
   "cell_type": "code",
   "execution_count": 13,
   "metadata": {},
   "outputs": [
    {
     "data": {
      "text/plain": [
       "array(['высшее', 'начальное', 'неоконченное высшее', 'среднее',\n",
       "       'ученая степень'], dtype=object)"
      ]
     },
     "execution_count": 13,
     "metadata": {},
     "output_type": "execute_result"
    }
   ],
   "source": [
    "df['education'].sort_values().unique()"
   ]
  },
  {
   "cell_type": "markdown",
   "metadata": {},
   "source": [
    "Подсчитаем явные дубликаты в таблице."
   ]
  },
  {
   "cell_type": "code",
   "execution_count": 14,
   "metadata": {},
   "outputs": [
    {
     "data": {
      "text/plain": [
       "71"
      ]
     },
     "execution_count": 14,
     "metadata": {},
     "output_type": "execute_result"
    }
   ],
   "source": [
    "df.duplicated().sum()"
   ]
  },
  {
   "cell_type": "markdown",
   "metadata": {},
   "source": [
    "Удалим явные дубликаты методом drop_duplicates()."
   ]
  },
  {
   "cell_type": "code",
   "execution_count": 15,
   "metadata": {},
   "outputs": [],
   "source": [
    "df = df.drop_duplicates().reset_index(drop=True)"
   ]
  },
  {
   "cell_type": "markdown",
   "metadata": {},
   "source": [
    "Проверим наличие явных дубликатов ещё раз."
   ]
  },
  {
   "cell_type": "code",
   "execution_count": 16,
   "metadata": {},
   "outputs": [
    {
     "data": {
      "text/plain": [
       "0"
      ]
     },
     "execution_count": 16,
     "metadata": {},
     "output_type": "execute_result"
    }
   ],
   "source": [
    "df.duplicated().sum()"
   ]
  },
  {
   "cell_type": "markdown",
   "metadata": {},
   "source": [
    "**Выводы**"
   ]
  },
  {
   "cell_type": "markdown",
   "metadata": {},
   "source": [
    "Явные дубликаты удалены методом drop_duplicates(), значения в столбце с образованием приведены к единому регистру. Дубликаты могли возникнуть из-за ошибки ввода. Некоторые данные могли быть введены несколько раз, ещё и с разным регистром."
   ]
  },
  {
   "cell_type": "markdown",
   "metadata": {},
   "source": [
    "### Лемматизация"
   ]
  },
  {
   "cell_type": "markdown",
   "metadata": {},
   "source": [
    "Оценим все уникальные виды переменных из столбца `purpose`."
   ]
  },
  {
   "cell_type": "code",
   "execution_count": 17,
   "metadata": {},
   "outputs": [
    {
     "data": {
      "text/plain": [
       "['автомобили',\n",
       " 'автомобиль',\n",
       " 'высшее образование',\n",
       " 'дополнительное образование',\n",
       " 'жилье',\n",
       " 'заняться высшим образованием',\n",
       " 'заняться образованием',\n",
       " 'на покупку автомобиля',\n",
       " 'на покупку подержанного автомобиля',\n",
       " 'на покупку своего автомобиля',\n",
       " 'на проведение свадьбы',\n",
       " 'недвижимость',\n",
       " 'образование',\n",
       " 'операции с жильем',\n",
       " 'операции с коммерческой недвижимостью',\n",
       " 'операции с недвижимостью',\n",
       " 'операции со своей недвижимостью',\n",
       " 'покупка жилой недвижимости',\n",
       " 'покупка жилья',\n",
       " 'покупка жилья для сдачи',\n",
       " 'покупка жилья для семьи',\n",
       " 'покупка коммерческой недвижимости',\n",
       " 'покупка недвижимости',\n",
       " 'покупка своего жилья',\n",
       " 'получение высшего образования',\n",
       " 'получение дополнительного образования',\n",
       " 'получение образования',\n",
       " 'приобретение автомобиля',\n",
       " 'профильное образование',\n",
       " 'ремонт жилью',\n",
       " 'свадьба',\n",
       " 'свой автомобиль',\n",
       " 'сделка с автомобилем',\n",
       " 'сделка с подержанным автомобилем',\n",
       " 'строительство жилой недвижимости',\n",
       " 'строительство недвижимости',\n",
       " 'строительство собственной недвижимости',\n",
       " 'сыграть свадьбу']"
      ]
     },
     "execution_count": 17,
     "metadata": {},
     "output_type": "execute_result"
    }
   ],
   "source": [
    "sorted(df['purpose'].unique())"
   ]
  },
  {
   "cell_type": "markdown",
   "metadata": {},
   "source": [
    "Для каждого элемента найдем основу."
   ]
  },
  {
   "cell_type": "code",
   "execution_count": 18,
   "metadata": {},
   "outputs": [],
   "source": [
    "df['purpose_lemmatize']=df['purpose'].apply(m.lemmatize)"
   ]
  },
  {
   "cell_type": "code",
   "execution_count": 19,
   "metadata": {
    "scrolled": true
   },
   "outputs": [
    {
     "data": {
      "text/html": [
       "<div>\n",
       "<style scoped>\n",
       "    .dataframe tbody tr th:only-of-type {\n",
       "        vertical-align: middle;\n",
       "    }\n",
       "\n",
       "    .dataframe tbody tr th {\n",
       "        vertical-align: top;\n",
       "    }\n",
       "\n",
       "    .dataframe thead th {\n",
       "        text-align: right;\n",
       "    }\n",
       "</style>\n",
       "<table border=\"1\" class=\"dataframe\">\n",
       "  <thead>\n",
       "    <tr style=\"text-align: right;\">\n",
       "      <th></th>\n",
       "      <th>children</th>\n",
       "      <th>days_employed</th>\n",
       "      <th>dob_years</th>\n",
       "      <th>education</th>\n",
       "      <th>education_id</th>\n",
       "      <th>family_status</th>\n",
       "      <th>family_status_id</th>\n",
       "      <th>gender</th>\n",
       "      <th>income_type</th>\n",
       "      <th>debt</th>\n",
       "      <th>total_income</th>\n",
       "      <th>purpose</th>\n",
       "      <th>purpose_lemmatize</th>\n",
       "    </tr>\n",
       "  </thead>\n",
       "  <tbody>\n",
       "    <tr>\n",
       "      <td>0</td>\n",
       "      <td>1</td>\n",
       "      <td>8437.673028</td>\n",
       "      <td>42</td>\n",
       "      <td>высшее</td>\n",
       "      <td>0</td>\n",
       "      <td>женат / замужем</td>\n",
       "      <td>0</td>\n",
       "      <td>F</td>\n",
       "      <td>сотрудник</td>\n",
       "      <td>0</td>\n",
       "      <td>253875</td>\n",
       "      <td>покупка жилья</td>\n",
       "      <td>[покупка,  , жилье, \\n]</td>\n",
       "    </tr>\n",
       "    <tr>\n",
       "      <td>1</td>\n",
       "      <td>1</td>\n",
       "      <td>4024.803754</td>\n",
       "      <td>36</td>\n",
       "      <td>среднее</td>\n",
       "      <td>1</td>\n",
       "      <td>женат / замужем</td>\n",
       "      <td>0</td>\n",
       "      <td>F</td>\n",
       "      <td>сотрудник</td>\n",
       "      <td>0</td>\n",
       "      <td>112080</td>\n",
       "      <td>приобретение автомобиля</td>\n",
       "      <td>[приобретение,  , автомобиль, \\n]</td>\n",
       "    </tr>\n",
       "    <tr>\n",
       "      <td>2</td>\n",
       "      <td>0</td>\n",
       "      <td>5623.422610</td>\n",
       "      <td>33</td>\n",
       "      <td>среднее</td>\n",
       "      <td>1</td>\n",
       "      <td>женат / замужем</td>\n",
       "      <td>0</td>\n",
       "      <td>M</td>\n",
       "      <td>сотрудник</td>\n",
       "      <td>0</td>\n",
       "      <td>145885</td>\n",
       "      <td>покупка жилья</td>\n",
       "      <td>[покупка,  , жилье, \\n]</td>\n",
       "    </tr>\n",
       "    <tr>\n",
       "      <td>3</td>\n",
       "      <td>3</td>\n",
       "      <td>4124.747207</td>\n",
       "      <td>32</td>\n",
       "      <td>среднее</td>\n",
       "      <td>1</td>\n",
       "      <td>женат / замужем</td>\n",
       "      <td>0</td>\n",
       "      <td>M</td>\n",
       "      <td>сотрудник</td>\n",
       "      <td>0</td>\n",
       "      <td>267628</td>\n",
       "      <td>дополнительное образование</td>\n",
       "      <td>[дополнительный,  , образование, \\n]</td>\n",
       "    </tr>\n",
       "    <tr>\n",
       "      <td>4</td>\n",
       "      <td>0</td>\n",
       "      <td>14177.753002</td>\n",
       "      <td>53</td>\n",
       "      <td>среднее</td>\n",
       "      <td>1</td>\n",
       "      <td>гражданский брак</td>\n",
       "      <td>1</td>\n",
       "      <td>F</td>\n",
       "      <td>пенсионер</td>\n",
       "      <td>0</td>\n",
       "      <td>158616</td>\n",
       "      <td>сыграть свадьбу</td>\n",
       "      <td>[сыграть,  , свадьба, \\n]</td>\n",
       "    </tr>\n",
       "    <tr>\n",
       "      <td>5</td>\n",
       "      <td>0</td>\n",
       "      <td>926.185831</td>\n",
       "      <td>27</td>\n",
       "      <td>высшее</td>\n",
       "      <td>0</td>\n",
       "      <td>гражданский брак</td>\n",
       "      <td>1</td>\n",
       "      <td>M</td>\n",
       "      <td>компаньон</td>\n",
       "      <td>0</td>\n",
       "      <td>255763</td>\n",
       "      <td>покупка жилья</td>\n",
       "      <td>[покупка,  , жилье, \\n]</td>\n",
       "    </tr>\n",
       "    <tr>\n",
       "      <td>6</td>\n",
       "      <td>0</td>\n",
       "      <td>2879.202052</td>\n",
       "      <td>43</td>\n",
       "      <td>высшее</td>\n",
       "      <td>0</td>\n",
       "      <td>женат / замужем</td>\n",
       "      <td>0</td>\n",
       "      <td>F</td>\n",
       "      <td>компаньон</td>\n",
       "      <td>0</td>\n",
       "      <td>240525</td>\n",
       "      <td>операции с жильем</td>\n",
       "      <td>[операция,  , с,  , жилье, \\n]</td>\n",
       "    </tr>\n",
       "    <tr>\n",
       "      <td>7</td>\n",
       "      <td>0</td>\n",
       "      <td>152.779569</td>\n",
       "      <td>50</td>\n",
       "      <td>среднее</td>\n",
       "      <td>1</td>\n",
       "      <td>женат / замужем</td>\n",
       "      <td>0</td>\n",
       "      <td>M</td>\n",
       "      <td>сотрудник</td>\n",
       "      <td>0</td>\n",
       "      <td>135823</td>\n",
       "      <td>образование</td>\n",
       "      <td>[образование, \\n]</td>\n",
       "    </tr>\n",
       "    <tr>\n",
       "      <td>8</td>\n",
       "      <td>2</td>\n",
       "      <td>6929.865299</td>\n",
       "      <td>35</td>\n",
       "      <td>высшее</td>\n",
       "      <td>0</td>\n",
       "      <td>гражданский брак</td>\n",
       "      <td>1</td>\n",
       "      <td>F</td>\n",
       "      <td>сотрудник</td>\n",
       "      <td>0</td>\n",
       "      <td>95856</td>\n",
       "      <td>на проведение свадьбы</td>\n",
       "      <td>[на,  , проведение,  , свадьба, \\n]</td>\n",
       "    </tr>\n",
       "    <tr>\n",
       "      <td>9</td>\n",
       "      <td>0</td>\n",
       "      <td>2188.756445</td>\n",
       "      <td>41</td>\n",
       "      <td>среднее</td>\n",
       "      <td>1</td>\n",
       "      <td>женат / замужем</td>\n",
       "      <td>0</td>\n",
       "      <td>M</td>\n",
       "      <td>сотрудник</td>\n",
       "      <td>0</td>\n",
       "      <td>144425</td>\n",
       "      <td>покупка жилья для семьи</td>\n",
       "      <td>[покупка,  , жилье,  , для,  , семья, \\n]</td>\n",
       "    </tr>\n",
       "    <tr>\n",
       "      <td>10</td>\n",
       "      <td>2</td>\n",
       "      <td>4171.483647</td>\n",
       "      <td>36</td>\n",
       "      <td>высшее</td>\n",
       "      <td>0</td>\n",
       "      <td>женат / замужем</td>\n",
       "      <td>0</td>\n",
       "      <td>M</td>\n",
       "      <td>компаньон</td>\n",
       "      <td>0</td>\n",
       "      <td>113943</td>\n",
       "      <td>покупка недвижимости</td>\n",
       "      <td>[покупка,  , недвижимость, \\n]</td>\n",
       "    </tr>\n",
       "    <tr>\n",
       "      <td>11</td>\n",
       "      <td>0</td>\n",
       "      <td>792.701887</td>\n",
       "      <td>40</td>\n",
       "      <td>среднее</td>\n",
       "      <td>1</td>\n",
       "      <td>женат / замужем</td>\n",
       "      <td>0</td>\n",
       "      <td>F</td>\n",
       "      <td>сотрудник</td>\n",
       "      <td>0</td>\n",
       "      <td>77069</td>\n",
       "      <td>покупка коммерческой недвижимости</td>\n",
       "      <td>[покупка,  , коммерческий,  , недвижимость, \\n]</td>\n",
       "    </tr>\n",
       "    <tr>\n",
       "      <td>12</td>\n",
       "      <td>0</td>\n",
       "      <td>NaN</td>\n",
       "      <td>65</td>\n",
       "      <td>среднее</td>\n",
       "      <td>1</td>\n",
       "      <td>гражданский брак</td>\n",
       "      <td>1</td>\n",
       "      <td>M</td>\n",
       "      <td>пенсионер</td>\n",
       "      <td>0</td>\n",
       "      <td>118514</td>\n",
       "      <td>сыграть свадьбу</td>\n",
       "      <td>[сыграть,  , свадьба, \\n]</td>\n",
       "    </tr>\n",
       "    <tr>\n",
       "      <td>13</td>\n",
       "      <td>0</td>\n",
       "      <td>1846.641941</td>\n",
       "      <td>54</td>\n",
       "      <td>неоконченное высшее</td>\n",
       "      <td>2</td>\n",
       "      <td>женат / замужем</td>\n",
       "      <td>0</td>\n",
       "      <td>F</td>\n",
       "      <td>сотрудник</td>\n",
       "      <td>0</td>\n",
       "      <td>130458</td>\n",
       "      <td>приобретение автомобиля</td>\n",
       "      <td>[приобретение,  , автомобиль, \\n]</td>\n",
       "    </tr>\n",
       "    <tr>\n",
       "      <td>14</td>\n",
       "      <td>0</td>\n",
       "      <td>1844.956182</td>\n",
       "      <td>56</td>\n",
       "      <td>высшее</td>\n",
       "      <td>0</td>\n",
       "      <td>гражданский брак</td>\n",
       "      <td>1</td>\n",
       "      <td>F</td>\n",
       "      <td>компаньон</td>\n",
       "      <td>1</td>\n",
       "      <td>165127</td>\n",
       "      <td>покупка жилой недвижимости</td>\n",
       "      <td>[покупка,  , жилой,  , недвижимость, \\n]</td>\n",
       "    </tr>\n",
       "    <tr>\n",
       "      <td>15</td>\n",
       "      <td>1</td>\n",
       "      <td>972.364419</td>\n",
       "      <td>26</td>\n",
       "      <td>среднее</td>\n",
       "      <td>1</td>\n",
       "      <td>женат / замужем</td>\n",
       "      <td>0</td>\n",
       "      <td>F</td>\n",
       "      <td>сотрудник</td>\n",
       "      <td>0</td>\n",
       "      <td>116820</td>\n",
       "      <td>строительство собственной недвижимости</td>\n",
       "      <td>[строительство,  , собственный,  , недвижимост...</td>\n",
       "    </tr>\n",
       "    <tr>\n",
       "      <td>16</td>\n",
       "      <td>0</td>\n",
       "      <td>1719.934226</td>\n",
       "      <td>35</td>\n",
       "      <td>среднее</td>\n",
       "      <td>1</td>\n",
       "      <td>женат / замужем</td>\n",
       "      <td>0</td>\n",
       "      <td>F</td>\n",
       "      <td>сотрудник</td>\n",
       "      <td>0</td>\n",
       "      <td>289202</td>\n",
       "      <td>недвижимость</td>\n",
       "      <td>[недвижимость, \\n]</td>\n",
       "    </tr>\n",
       "    <tr>\n",
       "      <td>17</td>\n",
       "      <td>0</td>\n",
       "      <td>2369.999720</td>\n",
       "      <td>33</td>\n",
       "      <td>высшее</td>\n",
       "      <td>0</td>\n",
       "      <td>гражданский брак</td>\n",
       "      <td>1</td>\n",
       "      <td>M</td>\n",
       "      <td>сотрудник</td>\n",
       "      <td>0</td>\n",
       "      <td>90410</td>\n",
       "      <td>строительство недвижимости</td>\n",
       "      <td>[строительство,  , недвижимость, \\n]</td>\n",
       "    </tr>\n",
       "    <tr>\n",
       "      <td>18</td>\n",
       "      <td>0</td>\n",
       "      <td>16678.380705</td>\n",
       "      <td>53</td>\n",
       "      <td>среднее</td>\n",
       "      <td>1</td>\n",
       "      <td>вдовец / вдова</td>\n",
       "      <td>2</td>\n",
       "      <td>F</td>\n",
       "      <td>пенсионер</td>\n",
       "      <td>0</td>\n",
       "      <td>56823</td>\n",
       "      <td>на покупку подержанного автомобиля</td>\n",
       "      <td>[на,  , покупка,  , подержать,  , автомобиль, \\n]</td>\n",
       "    </tr>\n",
       "    <tr>\n",
       "      <td>19</td>\n",
       "      <td>0</td>\n",
       "      <td>10038.818549</td>\n",
       "      <td>48</td>\n",
       "      <td>среднее</td>\n",
       "      <td>1</td>\n",
       "      <td>в разводе</td>\n",
       "      <td>3</td>\n",
       "      <td>F</td>\n",
       "      <td>сотрудник</td>\n",
       "      <td>0</td>\n",
       "      <td>242831</td>\n",
       "      <td>на покупку своего автомобиля</td>\n",
       "      <td>[на,  , покупка,  , свой,  , автомобиль, \\n]</td>\n",
       "    </tr>\n",
       "  </tbody>\n",
       "</table>\n",
       "</div>"
      ],
      "text/plain": [
       "    children  days_employed  dob_years            education  education_id  \\\n",
       "0          1    8437.673028         42               высшее             0   \n",
       "1          1    4024.803754         36              среднее             1   \n",
       "2          0    5623.422610         33              среднее             1   \n",
       "3          3    4124.747207         32              среднее             1   \n",
       "4          0   14177.753002         53              среднее             1   \n",
       "5          0     926.185831         27               высшее             0   \n",
       "6          0    2879.202052         43               высшее             0   \n",
       "7          0     152.779569         50              среднее             1   \n",
       "8          2    6929.865299         35               высшее             0   \n",
       "9          0    2188.756445         41              среднее             1   \n",
       "10         2    4171.483647         36               высшее             0   \n",
       "11         0     792.701887         40              среднее             1   \n",
       "12         0            NaN         65              среднее             1   \n",
       "13         0    1846.641941         54  неоконченное высшее             2   \n",
       "14         0    1844.956182         56               высшее             0   \n",
       "15         1     972.364419         26              среднее             1   \n",
       "16         0    1719.934226         35              среднее             1   \n",
       "17         0    2369.999720         33               высшее             0   \n",
       "18         0   16678.380705         53              среднее             1   \n",
       "19         0   10038.818549         48              среднее             1   \n",
       "\n",
       "       family_status  family_status_id gender income_type  debt  total_income  \\\n",
       "0    женат / замужем                 0      F   сотрудник     0        253875   \n",
       "1    женат / замужем                 0      F   сотрудник     0        112080   \n",
       "2    женат / замужем                 0      M   сотрудник     0        145885   \n",
       "3    женат / замужем                 0      M   сотрудник     0        267628   \n",
       "4   гражданский брак                 1      F   пенсионер     0        158616   \n",
       "5   гражданский брак                 1      M   компаньон     0        255763   \n",
       "6    женат / замужем                 0      F   компаньон     0        240525   \n",
       "7    женат / замужем                 0      M   сотрудник     0        135823   \n",
       "8   гражданский брак                 1      F   сотрудник     0         95856   \n",
       "9    женат / замужем                 0      M   сотрудник     0        144425   \n",
       "10   женат / замужем                 0      M   компаньон     0        113943   \n",
       "11   женат / замужем                 0      F   сотрудник     0         77069   \n",
       "12  гражданский брак                 1      M   пенсионер     0        118514   \n",
       "13   женат / замужем                 0      F   сотрудник     0        130458   \n",
       "14  гражданский брак                 1      F   компаньон     1        165127   \n",
       "15   женат / замужем                 0      F   сотрудник     0        116820   \n",
       "16   женат / замужем                 0      F   сотрудник     0        289202   \n",
       "17  гражданский брак                 1      M   сотрудник     0         90410   \n",
       "18    вдовец / вдова                 2      F   пенсионер     0         56823   \n",
       "19         в разводе                 3      F   сотрудник     0        242831   \n",
       "\n",
       "                                   purpose  \\\n",
       "0                            покупка жилья   \n",
       "1                  приобретение автомобиля   \n",
       "2                            покупка жилья   \n",
       "3               дополнительное образование   \n",
       "4                          сыграть свадьбу   \n",
       "5                            покупка жилья   \n",
       "6                        операции с жильем   \n",
       "7                              образование   \n",
       "8                    на проведение свадьбы   \n",
       "9                  покупка жилья для семьи   \n",
       "10                    покупка недвижимости   \n",
       "11       покупка коммерческой недвижимости   \n",
       "12                         сыграть свадьбу   \n",
       "13                 приобретение автомобиля   \n",
       "14              покупка жилой недвижимости   \n",
       "15  строительство собственной недвижимости   \n",
       "16                            недвижимость   \n",
       "17              строительство недвижимости   \n",
       "18      на покупку подержанного автомобиля   \n",
       "19            на покупку своего автомобиля   \n",
       "\n",
       "                                    purpose_lemmatize  \n",
       "0                             [покупка,  , жилье, \\n]  \n",
       "1                   [приобретение,  , автомобиль, \\n]  \n",
       "2                             [покупка,  , жилье, \\n]  \n",
       "3                [дополнительный,  , образование, \\n]  \n",
       "4                           [сыграть,  , свадьба, \\n]  \n",
       "5                             [покупка,  , жилье, \\n]  \n",
       "6                      [операция,  , с,  , жилье, \\n]  \n",
       "7                                   [образование, \\n]  \n",
       "8                 [на,  , проведение,  , свадьба, \\n]  \n",
       "9           [покупка,  , жилье,  , для,  , семья, \\n]  \n",
       "10                     [покупка,  , недвижимость, \\n]  \n",
       "11    [покупка,  , коммерческий,  , недвижимость, \\n]  \n",
       "12                          [сыграть,  , свадьба, \\n]  \n",
       "13                  [приобретение,  , автомобиль, \\n]  \n",
       "14           [покупка,  , жилой,  , недвижимость, \\n]  \n",
       "15  [строительство,  , собственный,  , недвижимост...  \n",
       "16                                 [недвижимость, \\n]  \n",
       "17               [строительство,  , недвижимость, \\n]  \n",
       "18  [на,  , покупка,  , подержать,  , автомобиль, \\n]  \n",
       "19       [на,  , покупка,  , свой,  , автомобиль, \\n]  "
      ]
     },
     "execution_count": 19,
     "metadata": {},
     "output_type": "execute_result"
    }
   ],
   "source": [
    "df.head(20)"
   ]
  },
  {
   "cell_type": "code",
   "execution_count": 20,
   "metadata": {},
   "outputs": [
    {
     "data": {
      "text/plain": [
       "[(',', 14),\n",
       " ('\\\\n]', 10),\n",
       " ('автомобиль,', 4),\n",
       " ('жилье,', 3),\n",
       " ('[покупка,', 2),\n",
       " ('с,', 2),\n",
       " ('[на,', 2),\n",
       " ('покупка,', 2),\n",
       " ('0', 1),\n",
       " ('1', 1),\n",
       " ('[приобретение,', 1),\n",
       " ('2', 1),\n",
       " ('3', 1),\n",
       " ('[дополнительный,', 1),\n",
       " ('образование,', 1),\n",
       " ('4', 1),\n",
       " ('[сыграть,', 1),\n",
       " ('свадьба,', 1),\n",
       " ('...', 1),\n",
       " ('21449', 1),\n",
       " ('[операция,', 1),\n",
       " ('21450', 1),\n",
       " ('[сделка,', 1),\n",
       " ('21451', 1),\n",
       " ('[недвижимость,', 1),\n",
       " ('21452', 1),\n",
       " ('свой,', 1),\n",
       " ('21453', 1),\n",
       " ('Name:', 1),\n",
       " ('purpose_lemmatize,', 1),\n",
       " ('Length:', 1),\n",
       " ('21454,', 1),\n",
       " ('dtype:', 1),\n",
       " ('object', 1)]"
      ]
     },
     "execution_count": 20,
     "metadata": {},
     "output_type": "execute_result"
    }
   ],
   "source": [
    "words = str(df['purpose_lemmatize']).split()\n",
    "Counter(words).most_common()"
   ]
  },
  {
   "cell_type": "markdown",
   "metadata": {},
   "source": [
    "**Выводы**"
   ]
  },
  {
   "cell_type": "markdown",
   "metadata": {},
   "source": [
    "В столбце с целью много вариаций записи одних и тех же целей. Исходя из того, какие значения встречаются чаще всего, можно выделить основные 4: автомобиль, недвижимость, свадьба и образование. Благодаря столбцу с леммами, можно категоризировать данные."
   ]
  },
  {
   "cell_type": "markdown",
   "metadata": {},
   "source": [
    "### Категоризация данных"
   ]
  },
  {
   "cell_type": "markdown",
   "metadata": {},
   "source": [
    "Видим, что в столбце с целью кредита много похожим по сути записей, но в различном виде. Всего можно выделить четыре категории. Напишем функцию, которая будет возвращать нужную категорию вместо лемматизированной переменной."
   ]
  },
  {
   "cell_type": "code",
   "execution_count": 21,
   "metadata": {},
   "outputs": [
    {
     "data": {
      "text/plain": [
       "недвижимость    10811\n",
       "автомобиль       4306\n",
       "образование      4013\n",
       "свадьба          2324\n",
       "Name: purpose_category, dtype: int64"
      ]
     },
     "execution_count": 21,
     "metadata": {},
     "output_type": "execute_result"
    }
   ],
   "source": [
    "def purpose(row):\n",
    "    if 'автомобиль' in row:\n",
    "        return 'автомобиль'\n",
    "    if 'свадьба' in row:\n",
    "        return 'свадьба'\n",
    "    if 'образование' in row:\n",
    "        return 'образование' \n",
    "    if 'недвижимость' or 'жилье' in row:\n",
    "        return 'недвижимость'\n",
    "\n",
    "df['purpose_category'] = df['purpose_lemmatize'].apply(purpose)\n",
    "df['purpose_category'].value_counts()"
   ]
  },
  {
   "cell_type": "markdown",
   "metadata": {},
   "source": [
    "Теперь все данные удобно поделены на 4 категории в зависимости от цели кредита."
   ]
  },
  {
   "cell_type": "markdown",
   "metadata": {},
   "source": [
    "Теперь проведем категоризацию по столбцу с доходами и распределим заемщиков по 4 категориям в зависимости от уровня дохода с шагом в 43.788."
   ]
  },
  {
   "cell_type": "code",
   "execution_count": 22,
   "metadata": {
    "scrolled": true
   },
   "outputs": [
    {
     "data": {
      "text/plain": [
       "count    2.145400e+04\n",
       "mean     1.653196e+05\n",
       "std      9.818730e+04\n",
       "min      2.066700e+04\n",
       "25%      1.076230e+05\n",
       "50%      1.425940e+05\n",
       "75%      1.958202e+05\n",
       "max      2.265604e+06\n",
       "Name: total_income, dtype: float64"
      ]
     },
     "execution_count": 22,
     "metadata": {},
     "output_type": "execute_result"
    }
   ],
   "source": [
    "df['total_income'].describe()"
   ]
  },
  {
   "cell_type": "markdown",
   "metadata": {},
   "source": [
    "Видим, что минимальное значение дохода составляет 20.667, максимальный 2.265.604, при этом по показателям видно, что людей, близких по доходу к максимальному достаточно мало, поэтому как очень высокий доход будем рассматривать 195.820 и выше. Разницу между низким и очень высоким поделим на 4, чтобы получить четыре категории низкого, среднего, высокого и очень высокого дохода."
   ]
  },
  {
   "cell_type": "code",
   "execution_count": 23,
   "metadata": {},
   "outputs": [],
   "source": [
    "def total_income_category(total_income):\n",
    "    if total_income >= 20666 and total_income <= 64454:\n",
    "        return 'низкий'\n",
    "    if total_income > 64454 and total_income <= 108242:\n",
    "        return 'средний'\n",
    "    if total_income > 108242 and total_income <= 152030:\n",
    "        return 'выше среднего'\n",
    "    if total_income > 152030 and total_income <= 195820:\n",
    "        return 'высокий'\n",
    "    if total_income > 195820:\n",
    "        return 'очень высокий'\n",
    "    \n",
    "    \n",
    "df['total_income_category'] = df['total_income'].apply(total_income_category)"
   ]
  },
  {
   "cell_type": "markdown",
   "metadata": {},
   "source": [
    "Также требуется категоризация по возрасту, разобьет заемщиков по двум категориям: до 30 лет, от 30."
   ]
  },
  {
   "cell_type": "code",
   "execution_count": 24,
   "metadata": {},
   "outputs": [
    {
     "data": {
      "text/html": [
       "<div>\n",
       "<style scoped>\n",
       "    .dataframe tbody tr th:only-of-type {\n",
       "        vertical-align: middle;\n",
       "    }\n",
       "\n",
       "    .dataframe tbody tr th {\n",
       "        vertical-align: top;\n",
       "    }\n",
       "\n",
       "    .dataframe thead th {\n",
       "        text-align: right;\n",
       "    }\n",
       "</style>\n",
       "<table border=\"1\" class=\"dataframe\">\n",
       "  <thead>\n",
       "    <tr style=\"text-align: right;\">\n",
       "      <th></th>\n",
       "      <th>children</th>\n",
       "      <th>days_employed</th>\n",
       "      <th>dob_years</th>\n",
       "      <th>education</th>\n",
       "      <th>education_id</th>\n",
       "      <th>family_status</th>\n",
       "      <th>family_status_id</th>\n",
       "      <th>gender</th>\n",
       "      <th>income_type</th>\n",
       "      <th>debt</th>\n",
       "      <th>total_income</th>\n",
       "      <th>purpose</th>\n",
       "      <th>purpose_lemmatize</th>\n",
       "      <th>purpose_category</th>\n",
       "      <th>total_income_category</th>\n",
       "      <th>age_category</th>\n",
       "    </tr>\n",
       "  </thead>\n",
       "  <tbody>\n",
       "    <tr>\n",
       "      <td>0</td>\n",
       "      <td>1</td>\n",
       "      <td>8437.673028</td>\n",
       "      <td>42</td>\n",
       "      <td>высшее</td>\n",
       "      <td>0</td>\n",
       "      <td>женат / замужем</td>\n",
       "      <td>0</td>\n",
       "      <td>F</td>\n",
       "      <td>сотрудник</td>\n",
       "      <td>0</td>\n",
       "      <td>253875</td>\n",
       "      <td>покупка жилья</td>\n",
       "      <td>[покупка,  , жилье, \\n]</td>\n",
       "      <td>недвижимость</td>\n",
       "      <td>очень высокий</td>\n",
       "      <td>взрослые</td>\n",
       "    </tr>\n",
       "    <tr>\n",
       "      <td>1</td>\n",
       "      <td>1</td>\n",
       "      <td>4024.803754</td>\n",
       "      <td>36</td>\n",
       "      <td>среднее</td>\n",
       "      <td>1</td>\n",
       "      <td>женат / замужем</td>\n",
       "      <td>0</td>\n",
       "      <td>F</td>\n",
       "      <td>сотрудник</td>\n",
       "      <td>0</td>\n",
       "      <td>112080</td>\n",
       "      <td>приобретение автомобиля</td>\n",
       "      <td>[приобретение,  , автомобиль, \\n]</td>\n",
       "      <td>автомобиль</td>\n",
       "      <td>выше среднего</td>\n",
       "      <td>взрослые</td>\n",
       "    </tr>\n",
       "    <tr>\n",
       "      <td>2</td>\n",
       "      <td>0</td>\n",
       "      <td>5623.422610</td>\n",
       "      <td>33</td>\n",
       "      <td>среднее</td>\n",
       "      <td>1</td>\n",
       "      <td>женат / замужем</td>\n",
       "      <td>0</td>\n",
       "      <td>M</td>\n",
       "      <td>сотрудник</td>\n",
       "      <td>0</td>\n",
       "      <td>145885</td>\n",
       "      <td>покупка жилья</td>\n",
       "      <td>[покупка,  , жилье, \\n]</td>\n",
       "      <td>недвижимость</td>\n",
       "      <td>выше среднего</td>\n",
       "      <td>взрослые</td>\n",
       "    </tr>\n",
       "    <tr>\n",
       "      <td>3</td>\n",
       "      <td>3</td>\n",
       "      <td>4124.747207</td>\n",
       "      <td>32</td>\n",
       "      <td>среднее</td>\n",
       "      <td>1</td>\n",
       "      <td>женат / замужем</td>\n",
       "      <td>0</td>\n",
       "      <td>M</td>\n",
       "      <td>сотрудник</td>\n",
       "      <td>0</td>\n",
       "      <td>267628</td>\n",
       "      <td>дополнительное образование</td>\n",
       "      <td>[дополнительный,  , образование, \\n]</td>\n",
       "      <td>образование</td>\n",
       "      <td>очень высокий</td>\n",
       "      <td>взрослые</td>\n",
       "    </tr>\n",
       "    <tr>\n",
       "      <td>4</td>\n",
       "      <td>0</td>\n",
       "      <td>14177.753002</td>\n",
       "      <td>53</td>\n",
       "      <td>среднее</td>\n",
       "      <td>1</td>\n",
       "      <td>гражданский брак</td>\n",
       "      <td>1</td>\n",
       "      <td>F</td>\n",
       "      <td>пенсионер</td>\n",
       "      <td>0</td>\n",
       "      <td>158616</td>\n",
       "      <td>сыграть свадьбу</td>\n",
       "      <td>[сыграть,  , свадьба, \\n]</td>\n",
       "      <td>свадьба</td>\n",
       "      <td>высокий</td>\n",
       "      <td>взрослые</td>\n",
       "    </tr>\n",
       "    <tr>\n",
       "      <td>5</td>\n",
       "      <td>0</td>\n",
       "      <td>926.185831</td>\n",
       "      <td>27</td>\n",
       "      <td>высшее</td>\n",
       "      <td>0</td>\n",
       "      <td>гражданский брак</td>\n",
       "      <td>1</td>\n",
       "      <td>M</td>\n",
       "      <td>компаньон</td>\n",
       "      <td>0</td>\n",
       "      <td>255763</td>\n",
       "      <td>покупка жилья</td>\n",
       "      <td>[покупка,  , жилье, \\n]</td>\n",
       "      <td>недвижимость</td>\n",
       "      <td>очень высокий</td>\n",
       "      <td>молодые</td>\n",
       "    </tr>\n",
       "    <tr>\n",
       "      <td>6</td>\n",
       "      <td>0</td>\n",
       "      <td>2879.202052</td>\n",
       "      <td>43</td>\n",
       "      <td>высшее</td>\n",
       "      <td>0</td>\n",
       "      <td>женат / замужем</td>\n",
       "      <td>0</td>\n",
       "      <td>F</td>\n",
       "      <td>компаньон</td>\n",
       "      <td>0</td>\n",
       "      <td>240525</td>\n",
       "      <td>операции с жильем</td>\n",
       "      <td>[операция,  , с,  , жилье, \\n]</td>\n",
       "      <td>недвижимость</td>\n",
       "      <td>очень высокий</td>\n",
       "      <td>взрослые</td>\n",
       "    </tr>\n",
       "    <tr>\n",
       "      <td>7</td>\n",
       "      <td>0</td>\n",
       "      <td>152.779569</td>\n",
       "      <td>50</td>\n",
       "      <td>среднее</td>\n",
       "      <td>1</td>\n",
       "      <td>женат / замужем</td>\n",
       "      <td>0</td>\n",
       "      <td>M</td>\n",
       "      <td>сотрудник</td>\n",
       "      <td>0</td>\n",
       "      <td>135823</td>\n",
       "      <td>образование</td>\n",
       "      <td>[образование, \\n]</td>\n",
       "      <td>образование</td>\n",
       "      <td>выше среднего</td>\n",
       "      <td>взрослые</td>\n",
       "    </tr>\n",
       "    <tr>\n",
       "      <td>8</td>\n",
       "      <td>2</td>\n",
       "      <td>6929.865299</td>\n",
       "      <td>35</td>\n",
       "      <td>высшее</td>\n",
       "      <td>0</td>\n",
       "      <td>гражданский брак</td>\n",
       "      <td>1</td>\n",
       "      <td>F</td>\n",
       "      <td>сотрудник</td>\n",
       "      <td>0</td>\n",
       "      <td>95856</td>\n",
       "      <td>на проведение свадьбы</td>\n",
       "      <td>[на,  , проведение,  , свадьба, \\n]</td>\n",
       "      <td>свадьба</td>\n",
       "      <td>средний</td>\n",
       "      <td>взрослые</td>\n",
       "    </tr>\n",
       "    <tr>\n",
       "      <td>9</td>\n",
       "      <td>0</td>\n",
       "      <td>2188.756445</td>\n",
       "      <td>41</td>\n",
       "      <td>среднее</td>\n",
       "      <td>1</td>\n",
       "      <td>женат / замужем</td>\n",
       "      <td>0</td>\n",
       "      <td>M</td>\n",
       "      <td>сотрудник</td>\n",
       "      <td>0</td>\n",
       "      <td>144425</td>\n",
       "      <td>покупка жилья для семьи</td>\n",
       "      <td>[покупка,  , жилье,  , для,  , семья, \\n]</td>\n",
       "      <td>недвижимость</td>\n",
       "      <td>выше среднего</td>\n",
       "      <td>взрослые</td>\n",
       "    </tr>\n",
       "  </tbody>\n",
       "</table>\n",
       "</div>"
      ],
      "text/plain": [
       "   children  days_employed  dob_years education  education_id  \\\n",
       "0         1    8437.673028         42    высшее             0   \n",
       "1         1    4024.803754         36   среднее             1   \n",
       "2         0    5623.422610         33   среднее             1   \n",
       "3         3    4124.747207         32   среднее             1   \n",
       "4         0   14177.753002         53   среднее             1   \n",
       "5         0     926.185831         27    высшее             0   \n",
       "6         0    2879.202052         43    высшее             0   \n",
       "7         0     152.779569         50   среднее             1   \n",
       "8         2    6929.865299         35    высшее             0   \n",
       "9         0    2188.756445         41   среднее             1   \n",
       "\n",
       "      family_status  family_status_id gender income_type  debt  total_income  \\\n",
       "0   женат / замужем                 0      F   сотрудник     0        253875   \n",
       "1   женат / замужем                 0      F   сотрудник     0        112080   \n",
       "2   женат / замужем                 0      M   сотрудник     0        145885   \n",
       "3   женат / замужем                 0      M   сотрудник     0        267628   \n",
       "4  гражданский брак                 1      F   пенсионер     0        158616   \n",
       "5  гражданский брак                 1      M   компаньон     0        255763   \n",
       "6   женат / замужем                 0      F   компаньон     0        240525   \n",
       "7   женат / замужем                 0      M   сотрудник     0        135823   \n",
       "8  гражданский брак                 1      F   сотрудник     0         95856   \n",
       "9   женат / замужем                 0      M   сотрудник     0        144425   \n",
       "\n",
       "                      purpose                          purpose_lemmatize  \\\n",
       "0               покупка жилья                    [покупка,  , жилье, \\n]   \n",
       "1     приобретение автомобиля          [приобретение,  , автомобиль, \\n]   \n",
       "2               покупка жилья                    [покупка,  , жилье, \\n]   \n",
       "3  дополнительное образование       [дополнительный,  , образование, \\n]   \n",
       "4             сыграть свадьбу                  [сыграть,  , свадьба, \\n]   \n",
       "5               покупка жилья                    [покупка,  , жилье, \\n]   \n",
       "6           операции с жильем             [операция,  , с,  , жилье, \\n]   \n",
       "7                 образование                          [образование, \\n]   \n",
       "8       на проведение свадьбы        [на,  , проведение,  , свадьба, \\n]   \n",
       "9     покупка жилья для семьи  [покупка,  , жилье,  , для,  , семья, \\n]   \n",
       "\n",
       "  purpose_category total_income_category age_category  \n",
       "0     недвижимость         очень высокий     взрослые  \n",
       "1       автомобиль         выше среднего     взрослые  \n",
       "2     недвижимость         выше среднего     взрослые  \n",
       "3      образование         очень высокий     взрослые  \n",
       "4          свадьба               высокий     взрослые  \n",
       "5     недвижимость         очень высокий      молодые  \n",
       "6     недвижимость         очень высокий     взрослые  \n",
       "7      образование         выше среднего     взрослые  \n",
       "8          свадьба               средний     взрослые  \n",
       "9     недвижимость         выше среднего     взрослые  "
      ]
     },
     "execution_count": 24,
     "metadata": {},
     "output_type": "execute_result"
    }
   ],
   "source": [
    "def age(dob_years):\n",
    "    if dob_years <=30:\n",
    "        return 'молодые'\n",
    "    if dob_years >=31:\n",
    "        return 'взрослые'\n",
    "df['age_category'] = df['dob_years'].apply(age)\n",
    "df.head(10)"
   ]
  },
  {
   "cell_type": "markdown",
   "metadata": {},
   "source": [
    "**Выводы**"
   ]
  },
  {
   "cell_type": "markdown",
   "metadata": {},
   "source": [
    "Методом лемматизации в таблицу добавлен столбец, содержащий результаты этой операции, который впредь можно использовать для категоризации целей кредита. Выбраны наиболее часто встречаюшиеся категории для целей кредита, так, ими оказались: образование, автомобиль, недвижимость и свадьба. В соответствии с этим проведена категоризация целей кредита. Доход также потребуется нам для проверки гипотез, поэтому было решено разбить заемщиков на несколько категорий, исходя из минимальных и максимальных значений в столбце дохода, а также их разницы. Выбраны категории для проведения проверки гипотез. Так, принято решение поделить заемщиков в зависимости от возраста на две категории: взрослые и молодые, это люди после 30 и до соответственно, так как взятие кредитов часто различно для разных возрастных категорий и правильнее будет учитывать этот факт. "
   ]
  },
  {
   "cell_type": "markdown",
   "metadata": {},
   "source": [
    "## Проверка гипотез"
   ]
  },
  {
   "cell_type": "markdown",
   "metadata": {},
   "source": [
    "**3.1 Анализ зависимости между наличием детей и возвратом кредита**"
   ]
  },
  {
   "cell_type": "markdown",
   "metadata": {},
   "source": [
    "При анализе были выявлены отрицательные значения количества детей, что является опечаткой. Предварительно заменим значения в столбце их модулями. Также попадаются строки со значением 20 детей, поскольку нет никаких промежуточных вариантов, а строк со значением 20 достаточно много, можно предположить, что это также опечатка. Не совсем понятно каким именно образом эта опечатка появилась, поэтому заменим значение количества детей в этих строках на медианное."
   ]
  },
  {
   "cell_type": "code",
   "execution_count": 25,
   "metadata": {},
   "outputs": [
    {
     "data": {
      "text/html": [
       "<div>\n",
       "<style scoped>\n",
       "    .dataframe tbody tr th:only-of-type {\n",
       "        vertical-align: middle;\n",
       "    }\n",
       "\n",
       "    .dataframe tbody tr th {\n",
       "        vertical-align: top;\n",
       "    }\n",
       "\n",
       "    .dataframe thead th {\n",
       "        text-align: right;\n",
       "    }\n",
       "</style>\n",
       "<table border=\"1\" class=\"dataframe\">\n",
       "  <thead>\n",
       "    <tr style=\"text-align: right;\">\n",
       "      <th></th>\n",
       "      <th>Количество записей</th>\n",
       "      <th>Среднее</th>\n",
       "    </tr>\n",
       "    <tr>\n",
       "      <th>children</th>\n",
       "      <th></th>\n",
       "      <th></th>\n",
       "    </tr>\n",
       "  </thead>\n",
       "  <tbody>\n",
       "    <tr>\n",
       "      <td>0</td>\n",
       "      <td>14167.0</td>\n",
       "      <td>7.56%</td>\n",
       "    </tr>\n",
       "    <tr>\n",
       "      <td>1</td>\n",
       "      <td>4855.0</td>\n",
       "      <td>9.17%</td>\n",
       "    </tr>\n",
       "    <tr>\n",
       "      <td>2</td>\n",
       "      <td>2052.0</td>\n",
       "      <td>9.45%</td>\n",
       "    </tr>\n",
       "    <tr>\n",
       "      <td>3</td>\n",
       "      <td>330.0</td>\n",
       "      <td>8.18%</td>\n",
       "    </tr>\n",
       "    <tr>\n",
       "      <td>4</td>\n",
       "      <td>41.0</td>\n",
       "      <td>9.76%</td>\n",
       "    </tr>\n",
       "    <tr>\n",
       "      <td>5</td>\n",
       "      <td>9.0</td>\n",
       "      <td>0.00%</td>\n",
       "    </tr>\n",
       "  </tbody>\n",
       "</table>\n",
       "</div>"
      ],
      "text/plain": [
       "          Количество записей Среднее\n",
       "children                            \n",
       "0                    14167.0   7.56%\n",
       "1                     4855.0   9.17%\n",
       "2                     2052.0   9.45%\n",
       "3                      330.0   8.18%\n",
       "4                       41.0   9.76%\n",
       "5                        9.0   0.00%"
      ]
     },
     "execution_count": 25,
     "metadata": {},
     "output_type": "execute_result"
    }
   ],
   "source": [
    "child = pd.pivot_table(df, index = ['children'], values='debt', aggfunc = ('mean', lambda X:X.count()))\n",
    "\n",
    "def perc(x):\n",
    "    return \"{0:.2%}\".format(x)\n",
    "\n",
    "child['mean'] = child['mean'].apply(perc)\n",
    "child = child.rename(columns={\"<lambda_0>\": \"Количество записей\", \"mean\": \"Среднее\"})\n",
    "child.sort_values(by='Количество записей', ascending=False)\n",
    "\n"
   ]
  },
  {
   "cell_type": "markdown",
   "metadata": {},
   "source": [
    "**Вывод**"
   ]
  },
  {
   "cell_type": "markdown",
   "metadata": {},
   "source": [
    "По результатам видно, что бездетные люди имеют меньше всего задолженностей по кредиту, что может быть связано с тем, что в семьях без детей меньше незапланированных трат, что позволяет вовремя выплачивать заем. При этом в семьях, с одним/двумя/четырьмя детьми, процент заемщиков, не выплативших кредит в срок, увеличивается в сравнение с бездетными на 1.6-2.2 процентных пункта. Однако, число не вернувших кредит в срок среди заемщиков без детей больше, чем у заемщиков с тремя детьми, однако выборка с большим количеством детей достаточно мала и не позволяет с точностью утверждать, что при соразмерном количестве данных, картина выглядела бы также."
   ]
  },
  {
   "cell_type": "markdown",
   "metadata": {},
   "source": [
    "**3.2 Анализ зависимости между семейным положением и возвратом кредита в срок**"
   ]
  },
  {
   "cell_type": "markdown",
   "metadata": {},
   "source": [
    "Оценим процент невернувших в срок кредит, в зависимости от семейного положения."
   ]
  },
  {
   "cell_type": "code",
   "execution_count": 26,
   "metadata": {},
   "outputs": [
    {
     "data": {
      "text/html": [
       "<div>\n",
       "<style scoped>\n",
       "    .dataframe tbody tr th:only-of-type {\n",
       "        vertical-align: middle;\n",
       "    }\n",
       "\n",
       "    .dataframe tbody tr th {\n",
       "        vertical-align: top;\n",
       "    }\n",
       "\n",
       "    .dataframe thead th {\n",
       "        text-align: right;\n",
       "    }\n",
       "</style>\n",
       "<table border=\"1\" class=\"dataframe\">\n",
       "  <thead>\n",
       "    <tr style=\"text-align: right;\">\n",
       "      <th></th>\n",
       "      <th>Количество записей</th>\n",
       "      <th>Среднее</th>\n",
       "    </tr>\n",
       "    <tr>\n",
       "      <th>family_status</th>\n",
       "      <th></th>\n",
       "      <th></th>\n",
       "    </tr>\n",
       "  </thead>\n",
       "  <tbody>\n",
       "    <tr>\n",
       "      <td>женат / замужем</td>\n",
       "      <td>12339.0</td>\n",
       "      <td>7.55%</td>\n",
       "    </tr>\n",
       "    <tr>\n",
       "      <td>гражданский брак</td>\n",
       "      <td>4151.0</td>\n",
       "      <td>9.35%</td>\n",
       "    </tr>\n",
       "    <tr>\n",
       "      <td>не женат / не замужем</td>\n",
       "      <td>2810.0</td>\n",
       "      <td>9.75%</td>\n",
       "    </tr>\n",
       "    <tr>\n",
       "      <td>в разводе</td>\n",
       "      <td>1195.0</td>\n",
       "      <td>7.11%</td>\n",
       "    </tr>\n",
       "    <tr>\n",
       "      <td>вдовец / вдова</td>\n",
       "      <td>959.0</td>\n",
       "      <td>6.57%</td>\n",
       "    </tr>\n",
       "  </tbody>\n",
       "</table>\n",
       "</div>"
      ],
      "text/plain": [
       "                       Количество записей Среднее\n",
       "family_status                                    \n",
       "женат / замужем                   12339.0   7.55%\n",
       "гражданский брак                   4151.0   9.35%\n",
       "не женат / не замужем              2810.0   9.75%\n",
       "в разводе                          1195.0   7.11%\n",
       "вдовец / вдова                      959.0   6.57%"
      ]
     },
     "execution_count": 26,
     "metadata": {},
     "output_type": "execute_result"
    }
   ],
   "source": [
    "df['family_status'] = df['family_status'].str.lower()\n",
    "\n",
    "f_status = pd.pivot_table(df, index = ['family_status'], values='debt', aggfunc = ('mean', lambda X:X.count()))\n",
    "\n",
    "f_status['mean'] = f_status['mean'].apply(perc)\n",
    "f_status = f_status.rename(columns={\"<lambda_0>\": \"Количество записей\", \"mean\": \"Среднее\"})\n",
    "f_status.sort_values(by='Количество записей', ascending=False)"
   ]
  },
  {
   "cell_type": "markdown",
   "metadata": {},
   "source": [
    "**Вывод**"
   ]
  },
  {
   "cell_type": "markdown",
   "metadata": {},
   "source": [
    "Видим, что самый высокий процент невозврата у категории заемщиков, не состоящих ни в каких отношениях. Вероятно, что им требуются кредиты на какие-либо личные цели и из-за отсутствия семьи и вероятности, что им потребуется кредит в будущем, они не сильно следят за сроками возврата и своей кредитной историей. При этом наблюдается на 2 процентных пункта меньше людей, не погасивших кредит вовремя среди заемщиков в официально оформленном браке. Возможно, это связано с тем, что в семьях доходы обычно больше, чем у людей не в браке, и к распределению бюджета, в том числе на погашение кредита, они подходят ответственнее, сохраняют положительную кредитную историю. У заемщиков вдова/вдовец и в разводе наблюдается тенденция выплачивать кредит в срок чаще, чем у заемщиков с другим семейным положением."
   ]
  },
  {
   "cell_type": "markdown",
   "metadata": {},
   "source": [
    "**3.3 Анализ зависимости между уровнем дохода и возвратом кредита в срок**"
   ]
  },
  {
   "cell_type": "code",
   "execution_count": 27,
   "metadata": {},
   "outputs": [
    {
     "data": {
      "text/html": [
       "<div>\n",
       "<style scoped>\n",
       "    .dataframe tbody tr th:only-of-type {\n",
       "        vertical-align: middle;\n",
       "    }\n",
       "\n",
       "    .dataframe tbody tr th {\n",
       "        vertical-align: top;\n",
       "    }\n",
       "\n",
       "    .dataframe thead th {\n",
       "        text-align: right;\n",
       "    }\n",
       "</style>\n",
       "<table border=\"1\" class=\"dataframe\">\n",
       "  <thead>\n",
       "    <tr style=\"text-align: right;\">\n",
       "      <th></th>\n",
       "      <th>Количество записей</th>\n",
       "      <th>Среднее по задолжностям</th>\n",
       "    </tr>\n",
       "    <tr>\n",
       "      <th>total_income_category</th>\n",
       "      <th></th>\n",
       "      <th></th>\n",
       "    </tr>\n",
       "  </thead>\n",
       "  <tbody>\n",
       "    <tr>\n",
       "      <td>выше среднего</td>\n",
       "      <td>6517.0</td>\n",
       "      <td>8.78%</td>\n",
       "    </tr>\n",
       "    <tr>\n",
       "      <td>очень высокий</td>\n",
       "      <td>5364.0</td>\n",
       "      <td>7.14%</td>\n",
       "    </tr>\n",
       "    <tr>\n",
       "      <td>средний</td>\n",
       "      <td>4379.0</td>\n",
       "      <td>8.31%</td>\n",
       "    </tr>\n",
       "    <tr>\n",
       "      <td>высокий</td>\n",
       "      <td>4127.0</td>\n",
       "      <td>8.50%</td>\n",
       "    </tr>\n",
       "    <tr>\n",
       "      <td>низкий</td>\n",
       "      <td>1067.0</td>\n",
       "      <td>6.65%</td>\n",
       "    </tr>\n",
       "  </tbody>\n",
       "</table>\n",
       "</div>"
      ],
      "text/plain": [
       "                       Количество записей Среднее по задолжностям\n",
       "total_income_category                                            \n",
       "выше среднего                      6517.0                   8.78%\n",
       "очень высокий                      5364.0                   7.14%\n",
       "средний                            4379.0                   8.31%\n",
       "высокий                            4127.0                   8.50%\n",
       "низкий                             1067.0                   6.65%"
      ]
     },
     "execution_count": 27,
     "metadata": {},
     "output_type": "execute_result"
    }
   ],
   "source": [
    "inc = pd.pivot_table(df, index = 'total_income_category', values='debt', aggfunc = ('mean', lambda X:X.count()))\n",
    "\n",
    "inc['mean'] = inc['mean'].apply(perc)\n",
    "inc = inc.rename(columns={\"<lambda_0>\": \"Количество записей\", \"mean\": \"Среднее по задолжностям\"})\n",
    "inc.sort_values(by='Количество записей', ascending=False)"
   ]
  },
  {
   "cell_type": "markdown",
   "metadata": {},
   "source": [
    "**Вывод**"
   ]
  },
  {
   "cell_type": "markdown",
   "metadata": {},
   "source": [
    "Судя по получившимся данным, чаще всего в срок кредит выплачивают люди либо с очень высоким доходом, либо с низким, вероятно, что люди с очень высоким доходом достаточно внимательно относятся к финансовым вопросам, а людей с низким доходом более тщательно проверяет банк, поскольку риски проблем с выплатами в этом случае возрастают. У людей с доходом средним, выше среднего и высоким наблюдается достаточно схожий процент по невыплатам."
   ]
  },
  {
   "cell_type": "markdown",
   "metadata": {},
   "source": [
    "**3.4 Влияние цели кредита на его возврат в срок**"
   ]
  },
  {
   "cell_type": "code",
   "execution_count": 28,
   "metadata": {
    "scrolled": true
   },
   "outputs": [
    {
     "data": {
      "text/html": [
       "<div>\n",
       "<style scoped>\n",
       "    .dataframe tbody tr th:only-of-type {\n",
       "        vertical-align: middle;\n",
       "    }\n",
       "\n",
       "    .dataframe tbody tr th {\n",
       "        vertical-align: top;\n",
       "    }\n",
       "\n",
       "    .dataframe thead th {\n",
       "        text-align: right;\n",
       "    }\n",
       "</style>\n",
       "<table border=\"1\" class=\"dataframe\">\n",
       "  <thead>\n",
       "    <tr style=\"text-align: right;\">\n",
       "      <th></th>\n",
       "      <th>Количество записей</th>\n",
       "      <th>Среднее по задолжностям</th>\n",
       "    </tr>\n",
       "    <tr>\n",
       "      <th>purpose_category</th>\n",
       "      <th></th>\n",
       "      <th></th>\n",
       "    </tr>\n",
       "  </thead>\n",
       "  <tbody>\n",
       "    <tr>\n",
       "      <td>недвижимость</td>\n",
       "      <td>10811.0</td>\n",
       "      <td>7.23%</td>\n",
       "    </tr>\n",
       "    <tr>\n",
       "      <td>автомобиль</td>\n",
       "      <td>4306.0</td>\n",
       "      <td>9.36%</td>\n",
       "    </tr>\n",
       "    <tr>\n",
       "      <td>образование</td>\n",
       "      <td>4013.0</td>\n",
       "      <td>9.22%</td>\n",
       "    </tr>\n",
       "    <tr>\n",
       "      <td>свадьба</td>\n",
       "      <td>2324.0</td>\n",
       "      <td>8.00%</td>\n",
       "    </tr>\n",
       "  </tbody>\n",
       "</table>\n",
       "</div>"
      ],
      "text/plain": [
       "                  Количество записей Среднее по задолжностям\n",
       "purpose_category                                            \n",
       "недвижимость                 10811.0                   7.23%\n",
       "автомобиль                    4306.0                   9.36%\n",
       "образование                   4013.0                   9.22%\n",
       "свадьба                       2324.0                   8.00%"
      ]
     },
     "execution_count": 28,
     "metadata": {},
     "output_type": "execute_result"
    }
   ],
   "source": [
    "purp = pd.pivot_table(df, index = ['purpose_category'], values='debt', aggfunc = ('mean', lambda X:X.count()))\n",
    "\n",
    "purp['mean'] = purp['mean'].apply(perc)\n",
    "purp = purp.rename(columns={\"<lambda_0>\": \"Количество записей\", \"mean\": \"Среднее по задолжностям\"})\n",
    "purp.sort_values(by='Количество записей', ascending=False)"
   ]
  },
  {
   "cell_type": "markdown",
   "metadata": {},
   "source": [
    "Взаимосвязь между выплатой в срок кредита и целью не совсем очевидна, попробуем посмотреть не только на цель, но на цель в совокупности с возрастом заемщика."
   ]
  },
  {
   "cell_type": "code",
   "execution_count": 29,
   "metadata": {},
   "outputs": [
    {
     "data": {
      "text/html": [
       "<div>\n",
       "<style scoped>\n",
       "    .dataframe tbody tr th:only-of-type {\n",
       "        vertical-align: middle;\n",
       "    }\n",
       "\n",
       "    .dataframe tbody tr th {\n",
       "        vertical-align: top;\n",
       "    }\n",
       "\n",
       "    .dataframe thead th {\n",
       "        text-align: right;\n",
       "    }\n",
       "</style>\n",
       "<table border=\"1\" class=\"dataframe\">\n",
       "  <thead>\n",
       "    <tr style=\"text-align: right;\">\n",
       "      <th></th>\n",
       "      <th></th>\n",
       "      <th>Количество записей</th>\n",
       "      <th>Среднее по задолжностям</th>\n",
       "    </tr>\n",
       "    <tr>\n",
       "      <th>purpose_category</th>\n",
       "      <th>age_category</th>\n",
       "      <th></th>\n",
       "      <th></th>\n",
       "    </tr>\n",
       "  </thead>\n",
       "  <tbody>\n",
       "    <tr>\n",
       "      <td>недвижимость</td>\n",
       "      <td>взрослые</td>\n",
       "      <td>8844.0</td>\n",
       "      <td>6.68%</td>\n",
       "    </tr>\n",
       "    <tr>\n",
       "      <td>автомобиль</td>\n",
       "      <td>взрослые</td>\n",
       "      <td>3598.0</td>\n",
       "      <td>8.78%</td>\n",
       "    </tr>\n",
       "    <tr>\n",
       "      <td>образование</td>\n",
       "      <td>взрослые</td>\n",
       "      <td>3276.0</td>\n",
       "      <td>8.46%</td>\n",
       "    </tr>\n",
       "    <tr>\n",
       "      <td>недвижимость</td>\n",
       "      <td>молодые</td>\n",
       "      <td>1967.0</td>\n",
       "      <td>9.71%</td>\n",
       "    </tr>\n",
       "    <tr>\n",
       "      <td>свадьба</td>\n",
       "      <td>взрослые</td>\n",
       "      <td>1918.0</td>\n",
       "      <td>7.61%</td>\n",
       "    </tr>\n",
       "    <tr>\n",
       "      <td>образование</td>\n",
       "      <td>молодые</td>\n",
       "      <td>737.0</td>\n",
       "      <td>12.62%</td>\n",
       "    </tr>\n",
       "    <tr>\n",
       "      <td>автомобиль</td>\n",
       "      <td>молодые</td>\n",
       "      <td>708.0</td>\n",
       "      <td>12.29%</td>\n",
       "    </tr>\n",
       "    <tr>\n",
       "      <td>свадьба</td>\n",
       "      <td>молодые</td>\n",
       "      <td>406.0</td>\n",
       "      <td>9.85%</td>\n",
       "    </tr>\n",
       "  </tbody>\n",
       "</table>\n",
       "</div>"
      ],
      "text/plain": [
       "                               Количество записей Среднее по задолжностям\n",
       "purpose_category age_category                                            \n",
       "недвижимость     взрослые                  8844.0                   6.68%\n",
       "автомобиль       взрослые                  3598.0                   8.78%\n",
       "образование      взрослые                  3276.0                   8.46%\n",
       "недвижимость     молодые                   1967.0                   9.71%\n",
       "свадьба          взрослые                  1918.0                   7.61%\n",
       "образование      молодые                    737.0                  12.62%\n",
       "автомобиль       молодые                    708.0                  12.29%\n",
       "свадьба          молодые                    406.0                   9.85%"
      ]
     },
     "execution_count": 29,
     "metadata": {},
     "output_type": "execute_result"
    }
   ],
   "source": [
    "purp_age = pd.pivot_table(df, index = ['purpose_category', 'age_category'], values='debt', aggfunc = ('mean', lambda X:X.count()))\n",
    "\n",
    "purp_age['mean'] = purp_age['mean'].apply(perc)\n",
    "purp_age = purp_age.rename(columns={\"<lambda_0>\": \"Количество записей\", \"mean\": \"Среднее по задолжностям\"})\n",
    "purp_age.sort_values(by='Количество записей', ascending=False)"
   ]
  },
  {
   "cell_type": "markdown",
   "metadata": {},
   "source": [
    "**Вывод**"
   ]
  },
  {
   "cell_type": "markdown",
   "metadata": {},
   "source": [
    "Теперь видно, что у категории взрослые людей процент невыплаты кредита гораздо меньше, чем у молодых. Это скорее всего связано с тем, что доход молодых обычно меньше, чем у категории взрослых. При этом категория взрослых чаще всего не выплачивает в срок кредит за автомобиль. Категория молодых заемщиков в целом показывает большие проценты по невыплатам. Чаще всего категория молодых имеет задолженности по кредитам с целью оплаты образования и покупки автомобиля."
   ]
  },
  {
   "cell_type": "markdown",
   "metadata": {},
   "source": [
    "## Общий вывод"
   ]
  },
  {
   "cell_type": "markdown",
   "metadata": {},
   "source": [
    "- Семейный статус влияет на выплату кредита вовремя, заемщики, в разводе или вдовцы выплачивают кредит в срок чаще, чем остальные категории, при этом состоящие в браке выплачивают кредит вовремя чаще, чем люди, не состоящие ни в каких отношениях.\n",
    "- Бездетные чаще выплачивают в срок кредит, нежели люди с детьми. При этом люди с тремя детьми выплачивают кредит вовремя чаще,чем бездетные.\n",
    "- Люди с низким и с очень высоким доходом чаще выплачивают кредит в срок.\n",
    "- Если говорить о целях, то многое зависит от возраста заемщика, так, молодые не выплачивают кредит в срок в среднем чаще, чем взрослые. При этом чаще всего кредит не выплачен в срок, когда целью является образование или покупка автомобиля, а заемщик относится к молодой категории.\n",
    "\n",
    "Таким образом, выгодным клиентом окажется заемщик:\n",
    "1. Состоящий в браке\n",
    "2. Без детей\n",
    "3. С очень высоким уровнем дохода\n",
    "4. Из категории взрослых( старше 30 лет)."
   ]
  }
 ],
 "metadata": {
  "ExecuteTimeLog": [
   {
    "duration": 558,
    "start_time": "2021-11-16T10:51:40.331Z"
   },
   {
    "duration": 52,
    "start_time": "2021-11-16T10:51:56.636Z"
   },
   {
    "duration": 60,
    "start_time": "2021-11-16T10:55:25.382Z"
   },
   {
    "duration": 467,
    "start_time": "2021-11-16T14:52:51.253Z"
   },
   {
    "duration": 708,
    "start_time": "2021-11-16T14:53:09.971Z"
   },
   {
    "duration": 11,
    "start_time": "2021-11-16T14:53:10.681Z"
   },
   {
    "duration": 58,
    "start_time": "2021-11-16T15:03:07.496Z"
   },
   {
    "duration": 10,
    "start_time": "2021-11-16T15:16:38.156Z"
   },
   {
    "duration": 5,
    "start_time": "2021-11-16T15:17:37.164Z"
   },
   {
    "duration": 437,
    "start_time": "2021-11-16T15:17:49.208Z"
   },
   {
    "duration": 5,
    "start_time": "2021-11-16T15:17:57.908Z"
   },
   {
    "duration": 5,
    "start_time": "2021-11-16T15:18:03.541Z"
   },
   {
    "duration": 384,
    "start_time": "2021-11-16T15:18:16.243Z"
   },
   {
    "duration": 369,
    "start_time": "2021-11-16T15:18:28.422Z"
   },
   {
    "duration": 357,
    "start_time": "2021-11-16T15:18:47.486Z"
   },
   {
    "duration": 388,
    "start_time": "2021-11-16T15:18:58.628Z"
   },
   {
    "duration": 11,
    "start_time": "2021-11-16T15:19:29.452Z"
   },
   {
    "duration": 4,
    "start_time": "2021-11-16T15:20:59.423Z"
   },
   {
    "duration": 62,
    "start_time": "2021-11-16T15:23:49.728Z"
   },
   {
    "duration": 7,
    "start_time": "2021-11-16T15:24:01.001Z"
   },
   {
    "duration": 2326,
    "start_time": "2021-11-16T15:30:26.629Z"
   },
   {
    "duration": 341,
    "start_time": "2021-11-22T09:23:58.514Z"
   },
   {
    "duration": 630,
    "start_time": "2021-11-22T09:24:07.889Z"
   },
   {
    "duration": 11,
    "start_time": "2021-11-22T09:24:08.521Z"
   },
   {
    "duration": 14,
    "start_time": "2021-11-22T09:24:08.533Z"
   },
   {
    "duration": 5,
    "start_time": "2021-11-22T09:24:08.549Z"
   },
   {
    "duration": 9,
    "start_time": "2021-11-22T09:25:46.976Z"
   },
   {
    "duration": 10,
    "start_time": "2021-11-22T09:29:51.031Z"
   },
   {
    "duration": 5,
    "start_time": "2021-11-22T09:30:11.432Z"
   },
   {
    "duration": 5,
    "start_time": "2021-11-22T09:30:56.131Z"
   },
   {
    "duration": 612,
    "start_time": "2021-11-22T09:31:26.670Z"
   },
   {
    "duration": 9,
    "start_time": "2021-11-22T09:31:33.570Z"
   },
   {
    "duration": 9,
    "start_time": "2021-11-22T09:31:43.512Z"
   },
   {
    "duration": 9,
    "start_time": "2021-11-22T09:32:22.900Z"
   },
   {
    "duration": 6,
    "start_time": "2021-11-22T09:32:38.031Z"
   },
   {
    "duration": 5,
    "start_time": "2021-11-22T09:33:20.270Z"
   },
   {
    "duration": 9,
    "start_time": "2021-11-22T09:46:06.220Z"
   },
   {
    "duration": 16,
    "start_time": "2021-11-22T09:46:14.431Z"
   },
   {
    "duration": 13,
    "start_time": "2021-11-22T09:47:03.688Z"
   },
   {
    "duration": 18,
    "start_time": "2021-11-22T09:47:14.518Z"
   },
   {
    "duration": 8,
    "start_time": "2021-11-22T14:14:13.977Z"
   },
   {
    "duration": 10,
    "start_time": "2021-11-22T14:14:18.441Z"
   },
   {
    "duration": 6,
    "start_time": "2021-11-22T14:14:34.934Z"
   },
   {
    "duration": 451,
    "start_time": "2021-11-22T14:15:08.580Z"
   },
   {
    "duration": 8,
    "start_time": "2021-11-22T14:15:19.294Z"
   },
   {
    "duration": 7,
    "start_time": "2021-11-22T14:29:12.154Z"
   },
   {
    "duration": 7,
    "start_time": "2021-11-22T14:30:25.371Z"
   },
   {
    "duration": 270,
    "start_time": "2021-11-22T14:43:56.150Z"
   },
   {
    "duration": 670,
    "start_time": "2021-11-22T14:44:29.974Z"
   },
   {
    "duration": 15,
    "start_time": "2021-11-22T14:44:30.648Z"
   },
   {
    "duration": 15,
    "start_time": "2021-11-22T14:44:30.667Z"
   },
   {
    "duration": 9,
    "start_time": "2021-11-22T14:44:30.683Z"
   },
   {
    "duration": 10,
    "start_time": "2021-11-22T14:44:53.419Z"
   },
   {
    "duration": 20,
    "start_time": "2021-11-22T14:45:13.160Z"
   },
   {
    "duration": 21,
    "start_time": "2021-11-22T14:45:31.561Z"
   },
   {
    "duration": 10,
    "start_time": "2021-11-22T14:47:04.852Z"
   },
   {
    "duration": 9,
    "start_time": "2021-11-22T14:48:58.719Z"
   },
   {
    "duration": 9,
    "start_time": "2021-11-22T14:50:34.565Z"
   },
   {
    "duration": 9,
    "start_time": "2021-11-22T14:51:08.399Z"
   },
   {
    "duration": 5,
    "start_time": "2021-11-22T15:01:16.187Z"
   },
   {
    "duration": 38,
    "start_time": "2021-11-22T15:02:48.499Z"
   },
   {
    "duration": 37,
    "start_time": "2021-11-22T15:03:30.679Z"
   },
   {
    "duration": 9,
    "start_time": "2021-11-22T15:03:44.762Z"
   },
   {
    "duration": 4,
    "start_time": "2021-11-22T15:25:05.320Z"
   },
   {
    "duration": 15,
    "start_time": "2021-11-22T15:25:20.757Z"
   },
   {
    "duration": 3,
    "start_time": "2021-11-22T15:26:16.149Z"
   },
   {
    "duration": 339,
    "start_time": "2021-11-22T15:31:53.823Z"
   },
   {
    "duration": 301,
    "start_time": "2021-11-22T15:32:36.024Z"
   },
   {
    "duration": 5,
    "start_time": "2021-11-22T15:33:12.592Z"
   },
   {
    "duration": 21,
    "start_time": "2021-11-22T15:33:35.530Z"
   },
   {
    "duration": 413,
    "start_time": "2021-11-22T15:34:45.956Z"
   },
   {
    "duration": 7,
    "start_time": "2021-11-22T15:35:39.478Z"
   },
   {
    "duration": 28,
    "start_time": "2021-11-22T15:35:50.126Z"
   },
   {
    "duration": 18,
    "start_time": "2021-11-22T15:38:42.889Z"
   },
   {
    "duration": 608,
    "start_time": "2021-11-22T15:39:12.797Z"
   },
   {
    "duration": 10,
    "start_time": "2021-11-22T15:39:13.407Z"
   },
   {
    "duration": 14,
    "start_time": "2021-11-22T15:39:13.419Z"
   },
   {
    "duration": 61,
    "start_time": "2021-11-22T15:39:13.435Z"
   },
   {
    "duration": 3,
    "start_time": "2021-11-22T15:39:13.498Z"
   },
   {
    "duration": 18,
    "start_time": "2021-11-22T15:39:26.221Z"
   },
   {
    "duration": 45,
    "start_time": "2021-11-22T15:41:39.312Z"
   },
   {
    "duration": 30,
    "start_time": "2021-11-22T15:45:16.402Z"
   },
   {
    "duration": 23,
    "start_time": "2021-11-22T15:45:29.488Z"
   },
   {
    "duration": 13,
    "start_time": "2021-11-22T15:59:41.447Z"
   },
   {
    "duration": 11,
    "start_time": "2021-11-22T16:00:35.141Z"
   },
   {
    "duration": 320,
    "start_time": "2021-11-22T16:00:37.940Z"
   },
   {
    "duration": 5,
    "start_time": "2021-11-22T16:00:50.755Z"
   },
   {
    "duration": 5,
    "start_time": "2021-11-22T16:00:56.525Z"
   },
   {
    "duration": 22,
    "start_time": "2021-11-22T16:01:06.811Z"
   },
   {
    "duration": 16,
    "start_time": "2021-11-22T16:01:45.227Z"
   },
   {
    "duration": 44,
    "start_time": "2021-11-22T16:02:00.546Z"
   },
   {
    "duration": 62,
    "start_time": "2021-11-22T16:02:10.233Z"
   },
   {
    "duration": 54,
    "start_time": "2021-11-22T16:02:22.272Z"
   },
   {
    "duration": 641,
    "start_time": "2021-11-22T16:02:34.460Z"
   },
   {
    "duration": 10,
    "start_time": "2021-11-22T16:02:35.103Z"
   },
   {
    "duration": 11,
    "start_time": "2021-11-22T16:02:35.115Z"
   },
   {
    "duration": 66,
    "start_time": "2021-11-22T16:02:35.128Z"
   },
   {
    "duration": 38,
    "start_time": "2021-11-22T16:03:14.559Z"
   },
   {
    "duration": 3,
    "start_time": "2021-11-22T16:03:47.420Z"
   },
   {
    "duration": 4,
    "start_time": "2021-11-22T16:09:35.755Z"
   },
   {
    "duration": 7543,
    "start_time": "2021-11-22T16:17:56.283Z"
   },
   {
    "duration": 7067,
    "start_time": "2021-11-22T16:18:48.952Z"
   },
   {
    "duration": 18,
    "start_time": "2021-11-22T16:30:14.850Z"
   },
   {
    "duration": 407,
    "start_time": "2021-11-22T16:34:14.297Z"
   },
   {
    "duration": 15,
    "start_time": "2021-11-22T16:34:40.718Z"
   },
   {
    "duration": 23783,
    "start_time": "2021-11-22T16:35:55.587Z"
   },
   {
    "duration": 15,
    "start_time": "2021-11-22T16:37:25.762Z"
   },
   {
    "duration": 15,
    "start_time": "2021-11-22T16:37:39.691Z"
   },
   {
    "duration": 28,
    "start_time": "2021-11-22T16:38:01.541Z"
   },
   {
    "duration": 27,
    "start_time": "2021-11-22T16:38:24.835Z"
   },
   {
    "duration": 680,
    "start_time": "2021-11-22T16:39:30.921Z"
   },
   {
    "duration": 11,
    "start_time": "2021-11-22T16:39:31.603Z"
   },
   {
    "duration": 9,
    "start_time": "2021-11-22T16:39:31.617Z"
   },
   {
    "duration": 47,
    "start_time": "2021-11-22T16:39:31.628Z"
   },
   {
    "duration": 3,
    "start_time": "2021-11-22T16:39:31.677Z"
   },
   {
    "duration": 4383,
    "start_time": "2021-11-22T16:39:31.682Z"
   },
   {
    "duration": 18,
    "start_time": "2021-11-22T16:40:01.422Z"
   },
   {
    "duration": 7,
    "start_time": "2021-11-22T16:49:02.176Z"
   },
   {
    "duration": 5,
    "start_time": "2021-11-22T17:22:19.433Z"
   },
   {
    "duration": 14,
    "start_time": "2021-11-22T17:22:22.353Z"
   },
   {
    "duration": 11,
    "start_time": "2021-11-22T17:22:48.684Z"
   },
   {
    "duration": 7,
    "start_time": "2021-11-22T17:23:53.704Z"
   },
   {
    "duration": 8,
    "start_time": "2021-11-22T17:25:21.618Z"
   },
   {
    "duration": 14,
    "start_time": "2021-11-22T17:25:24.403Z"
   },
   {
    "duration": 691,
    "start_time": "2021-11-22T17:25:31.435Z"
   },
   {
    "duration": 12,
    "start_time": "2021-11-22T17:25:32.129Z"
   },
   {
    "duration": 12,
    "start_time": "2021-11-22T17:25:32.145Z"
   },
   {
    "duration": 57,
    "start_time": "2021-11-22T17:25:32.160Z"
   },
   {
    "duration": 3,
    "start_time": "2021-11-22T17:25:32.219Z"
   },
   {
    "duration": 4820,
    "start_time": "2021-11-22T17:25:32.224Z"
   },
   {
    "duration": 6,
    "start_time": "2021-11-22T17:25:37.046Z"
   },
   {
    "duration": 10,
    "start_time": "2021-11-22T17:25:37.054Z"
   },
   {
    "duration": 8,
    "start_time": "2021-11-22T17:27:07.626Z"
   },
   {
    "duration": 12,
    "start_time": "2021-11-22T17:27:16.420Z"
   },
   {
    "duration": 5,
    "start_time": "2021-11-22T17:27:36.897Z"
   },
   {
    "duration": 11,
    "start_time": "2021-11-22T17:27:42.857Z"
   },
   {
    "duration": 14,
    "start_time": "2021-11-22T17:30:31.789Z"
   },
   {
    "duration": 25,
    "start_time": "2021-11-22T17:31:07.703Z"
   },
   {
    "duration": 23,
    "start_time": "2021-11-22T17:31:27.611Z"
   },
   {
    "duration": 17,
    "start_time": "2021-11-22T17:32:30.998Z"
   },
   {
    "duration": 17,
    "start_time": "2021-11-22T17:32:52.771Z"
   },
   {
    "duration": 752,
    "start_time": "2021-11-22T17:33:04.349Z"
   },
   {
    "duration": 12,
    "start_time": "2021-11-22T17:33:05.103Z"
   },
   {
    "duration": 8,
    "start_time": "2021-11-22T17:33:05.117Z"
   },
   {
    "duration": 63,
    "start_time": "2021-11-22T17:33:05.127Z"
   },
   {
    "duration": 4,
    "start_time": "2021-11-22T17:33:05.191Z"
   },
   {
    "duration": 4828,
    "start_time": "2021-11-22T17:33:05.197Z"
   },
   {
    "duration": 38,
    "start_time": "2021-11-22T17:33:10.027Z"
   },
   {
    "duration": 15,
    "start_time": "2021-11-22T17:33:10.068Z"
   },
   {
    "duration": 6,
    "start_time": "2021-11-22T17:33:35.559Z"
   },
   {
    "duration": 12,
    "start_time": "2021-11-22T17:48:36.108Z"
   },
   {
    "duration": 346,
    "start_time": "2021-11-22T17:48:39.092Z"
   },
   {
    "duration": 665,
    "start_time": "2021-11-22T17:48:48.712Z"
   },
   {
    "duration": 11,
    "start_time": "2021-11-22T17:48:49.380Z"
   },
   {
    "duration": 15,
    "start_time": "2021-11-22T17:48:49.393Z"
   },
   {
    "duration": 53,
    "start_time": "2021-11-22T17:48:49.410Z"
   },
   {
    "duration": 4,
    "start_time": "2021-11-22T17:48:49.465Z"
   },
   {
    "duration": 4336,
    "start_time": "2021-11-22T17:48:49.471Z"
   },
   {
    "duration": 11,
    "start_time": "2021-11-22T17:48:53.808Z"
   },
   {
    "duration": 445,
    "start_time": "2021-11-22T18:01:37.709Z"
   },
   {
    "duration": 328,
    "start_time": "2021-11-22T18:02:00.514Z"
   },
   {
    "duration": 411,
    "start_time": "2021-11-22T18:06:29.398Z"
   },
   {
    "duration": 263,
    "start_time": "2021-11-22T18:06:47.874Z"
   },
   {
    "duration": 5,
    "start_time": "2021-11-22T18:08:50.764Z"
   },
   {
    "duration": 276,
    "start_time": "2021-11-22T18:09:24.202Z"
   },
   {
    "duration": 4,
    "start_time": "2021-11-22T18:10:05.629Z"
   },
   {
    "duration": 13,
    "start_time": "2021-11-22T18:10:23.636Z"
   },
   {
    "duration": 15,
    "start_time": "2021-11-22T18:13:51.826Z"
   },
   {
    "duration": 17,
    "start_time": "2021-11-22T18:15:23.623Z"
   },
   {
    "duration": 15,
    "start_time": "2021-11-22T18:16:09.618Z"
   },
   {
    "duration": 5,
    "start_time": "2021-11-22T18:18:31.198Z"
   },
   {
    "duration": 251,
    "start_time": "2021-11-22T18:21:46.550Z"
   },
   {
    "duration": 13,
    "start_time": "2021-11-22T18:22:35.932Z"
   },
   {
    "duration": 13,
    "start_time": "2021-11-22T18:22:52.218Z"
   },
   {
    "duration": 5,
    "start_time": "2021-11-22T18:23:09.953Z"
   },
   {
    "duration": 649,
    "start_time": "2021-11-22T18:23:52.357Z"
   },
   {
    "duration": 11,
    "start_time": "2021-11-22T18:23:53.008Z"
   },
   {
    "duration": 10,
    "start_time": "2021-11-22T18:23:53.021Z"
   },
   {
    "duration": 39,
    "start_time": "2021-11-22T18:23:53.033Z"
   },
   {
    "duration": 4,
    "start_time": "2021-11-22T18:23:53.073Z"
   },
   {
    "duration": 4424,
    "start_time": "2021-11-22T18:23:53.079Z"
   },
   {
    "duration": 10,
    "start_time": "2021-11-22T18:23:57.505Z"
   },
   {
    "duration": 26,
    "start_time": "2021-11-22T18:23:57.518Z"
   },
   {
    "duration": 16,
    "start_time": "2021-11-22T18:23:57.546Z"
   },
   {
    "duration": 20,
    "start_time": "2021-11-22T18:23:57.564Z"
   },
   {
    "duration": 16,
    "start_time": "2021-11-22T18:23:57.586Z"
   },
   {
    "duration": 6,
    "start_time": "2021-11-22T18:23:57.604Z"
   },
   {
    "duration": 42,
    "start_time": "2021-11-22T18:23:57.612Z"
   },
   {
    "duration": 22,
    "start_time": "2021-11-22T18:23:57.656Z"
   },
   {
    "duration": 13,
    "start_time": "2021-11-22T18:26:29.550Z"
   },
   {
    "duration": 6,
    "start_time": "2021-11-22T18:29:41.678Z"
   },
   {
    "duration": 10,
    "start_time": "2021-11-22T18:29:52.759Z"
   },
   {
    "duration": 12,
    "start_time": "2021-11-22T18:29:56.271Z"
   },
   {
    "duration": 7,
    "start_time": "2021-11-22T18:29:58.495Z"
   },
   {
    "duration": 6,
    "start_time": "2021-11-22T18:31:24.468Z"
   },
   {
    "duration": 585,
    "start_time": "2021-11-22T18:38:50.213Z"
   },
   {
    "duration": 402,
    "start_time": "2021-11-23T18:42:15.743Z"
   },
   {
    "duration": 909,
    "start_time": "2021-11-23T18:42:27.080Z"
   },
   {
    "duration": 15,
    "start_time": "2021-11-23T18:42:27.992Z"
   },
   {
    "duration": 13,
    "start_time": "2021-11-23T18:42:28.010Z"
   },
   {
    "duration": 82,
    "start_time": "2021-11-23T18:42:28.026Z"
   },
   {
    "duration": 5,
    "start_time": "2021-11-23T18:42:28.111Z"
   },
   {
    "duration": 7530,
    "start_time": "2021-11-23T18:42:28.118Z"
   },
   {
    "duration": 15,
    "start_time": "2021-11-23T18:42:35.650Z"
   },
   {
    "duration": 34,
    "start_time": "2021-11-23T18:42:35.668Z"
   },
   {
    "duration": 22,
    "start_time": "2021-11-23T18:42:35.705Z"
   },
   {
    "duration": 28,
    "start_time": "2021-11-23T18:42:35.729Z"
   },
   {
    "duration": 52,
    "start_time": "2021-11-23T18:42:35.759Z"
   },
   {
    "duration": 7,
    "start_time": "2021-11-23T18:42:35.814Z"
   },
   {
    "duration": 21,
    "start_time": "2021-11-23T18:42:35.824Z"
   },
   {
    "duration": 14,
    "start_time": "2021-11-23T18:42:35.848Z"
   },
   {
    "duration": 786,
    "start_time": "2021-11-23T18:42:35.865Z"
   },
   {
    "duration": 7,
    "start_time": "2021-11-23T18:42:36.654Z"
   },
   {
    "duration": 7,
    "start_time": "2021-11-23T18:42:53.784Z"
   },
   {
    "duration": 8,
    "start_time": "2021-11-23T18:43:04.649Z"
   },
   {
    "duration": 17,
    "start_time": "2021-11-23T18:46:11.105Z"
   },
   {
    "duration": 12,
    "start_time": "2021-11-23T18:50:34.382Z"
   },
   {
    "duration": 12,
    "start_time": "2021-11-23T18:50:41.732Z"
   },
   {
    "duration": 12,
    "start_time": "2021-11-23T18:50:54.197Z"
   },
   {
    "duration": 878,
    "start_time": "2021-11-23T18:51:45.603Z"
   },
   {
    "duration": 19,
    "start_time": "2021-11-23T18:51:46.483Z"
   },
   {
    "duration": 13,
    "start_time": "2021-11-23T18:51:46.506Z"
   },
   {
    "duration": 83,
    "start_time": "2021-11-23T18:51:46.522Z"
   },
   {
    "duration": 5,
    "start_time": "2021-11-23T18:51:46.607Z"
   },
   {
    "duration": 7374,
    "start_time": "2021-11-23T18:51:46.614Z"
   },
   {
    "duration": 16,
    "start_time": "2021-11-23T18:51:53.990Z"
   },
   {
    "duration": 18,
    "start_time": "2021-11-23T18:51:54.009Z"
   },
   {
    "duration": 22,
    "start_time": "2021-11-23T18:51:54.031Z"
   },
   {
    "duration": 66,
    "start_time": "2021-11-23T18:51:54.056Z"
   },
   {
    "duration": 22,
    "start_time": "2021-11-23T18:51:54.125Z"
   },
   {
    "duration": 7,
    "start_time": "2021-11-23T18:51:54.149Z"
   },
   {
    "duration": 47,
    "start_time": "2021-11-23T18:51:54.158Z"
   },
   {
    "duration": 10,
    "start_time": "2021-11-23T18:51:54.209Z"
   },
   {
    "duration": 821,
    "start_time": "2021-11-23T18:51:54.222Z"
   },
   {
    "duration": 8,
    "start_time": "2021-11-23T18:51:55.045Z"
   },
   {
    "duration": 12,
    "start_time": "2021-11-23T18:51:55.056Z"
   },
   {
    "duration": 36,
    "start_time": "2021-11-23T18:51:55.071Z"
   },
   {
    "duration": 564,
    "start_time": "2021-11-23T18:54:42.004Z"
   },
   {
    "duration": 420,
    "start_time": "2021-11-23T19:14:58.583Z"
   },
   {
    "duration": 366,
    "start_time": "2021-11-23T19:15:10.029Z"
   },
   {
    "duration": 419,
    "start_time": "2021-11-23T19:19:03.820Z"
   },
   {
    "duration": 378,
    "start_time": "2021-11-23T19:20:09.484Z"
   },
   {
    "duration": 898,
    "start_time": "2021-11-23T19:23:28.067Z"
   },
   {
    "duration": 15,
    "start_time": "2021-11-23T19:23:28.968Z"
   },
   {
    "duration": 21,
    "start_time": "2021-11-23T19:23:28.986Z"
   },
   {
    "duration": 60,
    "start_time": "2021-11-23T19:23:29.011Z"
   },
   {
    "duration": 28,
    "start_time": "2021-11-23T19:23:29.074Z"
   },
   {
    "duration": 7354,
    "start_time": "2021-11-23T19:23:29.106Z"
   },
   {
    "duration": 14,
    "start_time": "2021-11-23T19:23:36.462Z"
   },
   {
    "duration": 33,
    "start_time": "2021-11-23T19:23:36.480Z"
   },
   {
    "duration": 22,
    "start_time": "2021-11-23T19:23:36.516Z"
   },
   {
    "duration": 26,
    "start_time": "2021-11-23T19:23:36.541Z"
   },
   {
    "duration": 47,
    "start_time": "2021-11-23T19:23:36.569Z"
   },
   {
    "duration": 6,
    "start_time": "2021-11-23T19:23:36.619Z"
   },
   {
    "duration": 16,
    "start_time": "2021-11-23T19:23:36.627Z"
   },
   {
    "duration": 11,
    "start_time": "2021-11-23T19:23:36.646Z"
   },
   {
    "duration": 779,
    "start_time": "2021-11-23T19:23:36.659Z"
   },
   {
    "duration": 126,
    "start_time": "2021-11-23T19:23:37.441Z"
   },
   {
    "duration": 2401,
    "start_time": "2021-11-23T19:23:35.169Z"
   },
   {
    "duration": 944,
    "start_time": "2021-11-23T19:24:06.463Z"
   },
   {
    "duration": 16,
    "start_time": "2021-11-23T19:24:07.410Z"
   },
   {
    "duration": 12,
    "start_time": "2021-11-23T19:24:07.429Z"
   },
   {
    "duration": 88,
    "start_time": "2021-11-23T19:24:07.444Z"
   },
   {
    "duration": 5,
    "start_time": "2021-11-23T19:24:07.535Z"
   },
   {
    "duration": 7316,
    "start_time": "2021-11-23T19:24:07.542Z"
   },
   {
    "duration": 14,
    "start_time": "2021-11-23T19:24:14.860Z"
   },
   {
    "duration": 37,
    "start_time": "2021-11-23T19:24:14.877Z"
   },
   {
    "duration": 34,
    "start_time": "2021-11-23T19:24:14.918Z"
   },
   {
    "duration": 53,
    "start_time": "2021-11-23T19:24:14.955Z"
   },
   {
    "duration": 26,
    "start_time": "2021-11-23T19:24:15.011Z"
   },
   {
    "duration": 7,
    "start_time": "2021-11-23T19:24:15.039Z"
   },
   {
    "duration": 29,
    "start_time": "2021-11-23T19:24:15.048Z"
   },
   {
    "duration": 10,
    "start_time": "2021-11-23T19:24:15.101Z"
   },
   {
    "duration": 872,
    "start_time": "2021-11-23T19:24:15.113Z"
   },
   {
    "duration": 14,
    "start_time": "2021-11-23T19:24:15.987Z"
   },
   {
    "duration": 143751,
    "start_time": "2021-11-23T19:24:16.004Z"
   },
   {
    "duration": 35,
    "start_time": "2021-11-23T19:28:05.112Z"
   },
   {
    "duration": 500,
    "start_time": "2021-11-26T20:06:11.206Z"
   },
   {
    "duration": 908,
    "start_time": "2021-11-26T20:06:21.464Z"
   },
   {
    "duration": 15,
    "start_time": "2021-11-26T20:06:22.375Z"
   },
   {
    "duration": 15,
    "start_time": "2021-11-26T20:06:22.393Z"
   },
   {
    "duration": 94,
    "start_time": "2021-11-26T20:06:22.411Z"
   },
   {
    "duration": 5,
    "start_time": "2021-11-26T20:06:22.507Z"
   },
   {
    "duration": 7294,
    "start_time": "2021-11-26T20:06:22.514Z"
   },
   {
    "duration": 14,
    "start_time": "2021-11-26T20:06:29.811Z"
   },
   {
    "duration": 40,
    "start_time": "2021-11-26T20:06:29.829Z"
   },
   {
    "duration": 22,
    "start_time": "2021-11-26T20:06:29.872Z"
   },
   {
    "duration": 26,
    "start_time": "2021-11-26T20:06:29.896Z"
   },
   {
    "duration": 53,
    "start_time": "2021-11-26T20:06:29.925Z"
   },
   {
    "duration": 9,
    "start_time": "2021-11-26T20:06:29.981Z"
   },
   {
    "duration": 26,
    "start_time": "2021-11-26T20:06:29.993Z"
   },
   {
    "duration": 44,
    "start_time": "2021-11-26T20:06:30.022Z"
   },
   {
    "duration": 1079,
    "start_time": "2021-11-26T20:06:30.069Z"
   },
   {
    "duration": 12,
    "start_time": "2021-11-26T20:06:31.151Z"
   },
   {
    "duration": 161979,
    "start_time": "2021-11-26T20:06:31.166Z"
   },
   {
    "duration": 56,
    "start_time": "2021-11-26T20:09:13.148Z"
   },
   {
    "duration": 24,
    "start_time": "2021-11-26T20:09:13.207Z"
   },
   {
    "duration": 5,
    "start_time": "2021-11-26T20:10:33.475Z"
   },
   {
    "duration": 6391,
    "start_time": "2021-11-26T20:14:47.235Z"
   },
   {
    "duration": 2141,
    "start_time": "2021-11-26T20:17:17.640Z"
   },
   {
    "duration": 1672,
    "start_time": "2021-11-26T20:20:40.490Z"
   },
   {
    "duration": 1521,
    "start_time": "2021-11-26T20:21:00.396Z"
   },
   {
    "duration": 1778,
    "start_time": "2021-11-26T20:23:27.844Z"
   },
   {
    "duration": 2091,
    "start_time": "2021-11-26T20:23:34.232Z"
   },
   {
    "duration": 437,
    "start_time": "2021-11-26T20:45:23.216Z"
   },
   {
    "duration": 10478,
    "start_time": "2021-11-26T20:46:03.301Z"
   },
   {
    "duration": 9622,
    "start_time": "2021-11-26T20:47:33.223Z"
   },
   {
    "duration": 390,
    "start_time": "2021-11-26T20:49:30.580Z"
   },
   {
    "duration": 376,
    "start_time": "2021-11-26T20:54:13.550Z"
   },
   {
    "duration": 2265,
    "start_time": "2021-11-26T20:54:25.989Z"
   },
   {
    "duration": 5560,
    "start_time": "2021-11-26T20:55:28.089Z"
   },
   {
    "duration": 25,
    "start_time": "2021-11-26T20:56:07.817Z"
   },
   {
    "duration": 28,
    "start_time": "2021-11-26T20:58:47.355Z"
   },
   {
    "duration": 26,
    "start_time": "2021-11-26T20:59:03.188Z"
   },
   {
    "duration": 17,
    "start_time": "2021-11-26T21:05:28.776Z"
   },
   {
    "duration": 16,
    "start_time": "2021-11-26T21:06:12.755Z"
   },
   {
    "duration": 49,
    "start_time": "2021-11-26T21:07:40.822Z"
   },
   {
    "duration": 305,
    "start_time": "2021-11-30T08:16:56.881Z"
   },
   {
    "duration": 644,
    "start_time": "2021-11-30T08:17:04.956Z"
   },
   {
    "duration": 11,
    "start_time": "2021-11-30T08:17:05.602Z"
   },
   {
    "duration": 22,
    "start_time": "2021-11-30T08:17:05.615Z"
   },
   {
    "duration": 72,
    "start_time": "2021-11-30T08:17:05.639Z"
   },
   {
    "duration": 3,
    "start_time": "2021-11-30T08:17:05.713Z"
   },
   {
    "duration": 4765,
    "start_time": "2021-11-30T08:17:05.717Z"
   },
   {
    "duration": 9,
    "start_time": "2021-11-30T08:17:10.484Z"
   },
   {
    "duration": 35,
    "start_time": "2021-11-30T08:17:10.495Z"
   },
   {
    "duration": 25,
    "start_time": "2021-11-30T08:17:10.532Z"
   },
   {
    "duration": 32,
    "start_time": "2021-11-30T08:17:10.558Z"
   },
   {
    "duration": 25,
    "start_time": "2021-11-30T08:17:10.592Z"
   },
   {
    "duration": 26,
    "start_time": "2021-11-30T08:17:10.618Z"
   },
   {
    "duration": 39,
    "start_time": "2021-11-30T08:17:10.646Z"
   },
   {
    "duration": 31,
    "start_time": "2021-11-30T08:17:10.687Z"
   },
   {
    "duration": 575,
    "start_time": "2021-11-30T08:17:10.720Z"
   },
   {
    "duration": 6,
    "start_time": "2021-11-30T08:17:11.297Z"
   },
   {
    "duration": 109323,
    "start_time": "2021-11-30T08:17:11.304Z"
   },
   {
    "duration": 28,
    "start_time": "2021-11-30T08:19:00.629Z"
   },
   {
    "duration": 34,
    "start_time": "2021-11-30T08:19:00.659Z"
   },
   {
    "duration": 44,
    "start_time": "2021-11-30T08:19:00.695Z"
   },
   {
    "duration": 87,
    "start_time": "2021-11-30T08:19:00.741Z"
   },
   {
    "duration": 31,
    "start_time": "2021-11-30T08:21:22.768Z"
   },
   {
    "duration": 29,
    "start_time": "2021-11-30T08:21:37.588Z"
   },
   {
    "duration": 55,
    "start_time": "2021-11-30T08:21:54.788Z"
   },
   {
    "duration": 406,
    "start_time": "2021-12-01T04:42:37.152Z"
   },
   {
    "duration": 342,
    "start_time": "2021-12-01T04:42:51.997Z"
   },
   {
    "duration": 1017,
    "start_time": "2021-12-01T04:43:02.294Z"
   },
   {
    "duration": 17,
    "start_time": "2021-12-01T04:43:03.313Z"
   },
   {
    "duration": 15,
    "start_time": "2021-12-01T04:43:03.333Z"
   },
   {
    "duration": 93,
    "start_time": "2021-12-01T04:43:03.351Z"
   },
   {
    "duration": 4,
    "start_time": "2021-12-01T04:43:03.447Z"
   },
   {
    "duration": 6374,
    "start_time": "2021-12-01T04:43:03.453Z"
   },
   {
    "duration": 15,
    "start_time": "2021-12-01T04:43:09.829Z"
   },
   {
    "duration": 12,
    "start_time": "2021-12-01T04:43:09.847Z"
   },
   {
    "duration": 15,
    "start_time": "2021-12-01T04:43:09.861Z"
   },
   {
    "duration": 37,
    "start_time": "2021-12-01T04:43:09.877Z"
   },
   {
    "duration": 15,
    "start_time": "2021-12-01T04:43:09.916Z"
   },
   {
    "duration": 5,
    "start_time": "2021-12-01T04:43:09.932Z"
   },
   {
    "duration": 12,
    "start_time": "2021-12-01T04:43:09.938Z"
   },
   {
    "duration": 9,
    "start_time": "2021-12-01T04:43:09.951Z"
   },
   {
    "duration": 613,
    "start_time": "2021-12-01T04:43:09.962Z"
   },
   {
    "duration": 7,
    "start_time": "2021-12-01T04:43:10.577Z"
   },
   {
    "duration": 119590,
    "start_time": "2021-12-01T04:43:10.586Z"
   },
   {
    "duration": 29,
    "start_time": "2021-12-01T04:45:10.178Z"
   },
   {
    "duration": 18,
    "start_time": "2021-12-01T04:45:10.209Z"
   },
   {
    "duration": 11,
    "start_time": "2021-12-01T04:45:10.228Z"
   },
   {
    "duration": 67,
    "start_time": "2021-12-01T04:45:10.241Z"
   },
   {
    "duration": 510,
    "start_time": "2021-12-01T04:45:10.310Z"
   },
   {
    "duration": 108,
    "start_time": "2021-12-01T05:17:58.801Z"
   },
   {
    "duration": 354,
    "start_time": "2021-12-01T05:18:13.911Z"
   },
   {
    "duration": 444,
    "start_time": "2021-12-01T05:18:52.114Z"
   },
   {
    "duration": 29,
    "start_time": "2021-12-01T05:22:11.446Z"
   },
   {
    "duration": 25,
    "start_time": "2021-12-01T05:22:36.904Z"
   },
   {
    "duration": 371,
    "start_time": "2021-12-01T05:25:55.473Z"
   },
   {
    "duration": 27,
    "start_time": "2021-12-01T05:26:43.640Z"
   },
   {
    "duration": 27,
    "start_time": "2021-12-01T05:30:15.366Z"
   },
   {
    "duration": 41,
    "start_time": "2021-12-01T05:32:57.008Z"
   },
   {
    "duration": 683,
    "start_time": "2021-12-01T05:35:31.933Z"
   },
   {
    "duration": 26,
    "start_time": "2021-12-01T05:35:39.122Z"
   },
   {
    "duration": 25,
    "start_time": "2021-12-01T05:40:15.628Z"
   },
   {
    "duration": 360,
    "start_time": "2021-12-01T05:41:05.877Z"
   },
   {
    "duration": 25,
    "start_time": "2021-12-01T05:42:01.794Z"
   },
   {
    "duration": 26,
    "start_time": "2021-12-01T05:44:10.997Z"
   },
   {
    "duration": 5,
    "start_time": "2021-12-01T05:44:58.332Z"
   },
   {
    "duration": 5,
    "start_time": "2021-12-01T05:45:15.182Z"
   },
   {
    "duration": 380,
    "start_time": "2021-12-01T05:47:19.259Z"
   },
   {
    "duration": 372,
    "start_time": "2021-12-01T05:48:02.118Z"
   },
   {
    "duration": 409,
    "start_time": "2021-12-01T07:23:06.656Z"
   },
   {
    "duration": 406,
    "start_time": "2021-12-01T07:24:28.903Z"
   },
   {
    "duration": 1699,
    "start_time": "2021-12-01T07:36:17.249Z"
   },
   {
    "duration": 694,
    "start_time": "2021-12-01T07:36:29.115Z"
   },
   {
    "duration": 12,
    "start_time": "2021-12-01T07:36:29.812Z"
   },
   {
    "duration": 11,
    "start_time": "2021-12-01T07:36:29.827Z"
   },
   {
    "duration": 67,
    "start_time": "2021-12-01T07:36:29.840Z"
   },
   {
    "duration": 4,
    "start_time": "2021-12-01T07:36:29.909Z"
   },
   {
    "duration": 4466,
    "start_time": "2021-12-01T07:36:29.915Z"
   },
   {
    "duration": 10,
    "start_time": "2021-12-01T07:36:34.383Z"
   },
   {
    "duration": 23,
    "start_time": "2021-12-01T07:36:34.395Z"
   },
   {
    "duration": 17,
    "start_time": "2021-12-01T07:36:34.420Z"
   },
   {
    "duration": 18,
    "start_time": "2021-12-01T07:36:34.439Z"
   },
   {
    "duration": 16,
    "start_time": "2021-12-01T07:36:34.459Z"
   },
   {
    "duration": 34,
    "start_time": "2021-12-01T07:36:34.476Z"
   },
   {
    "duration": 17,
    "start_time": "2021-12-01T07:36:34.512Z"
   },
   {
    "duration": 12,
    "start_time": "2021-12-01T07:36:34.530Z"
   },
   {
    "duration": 635,
    "start_time": "2021-12-01T07:36:34.544Z"
   },
   {
    "duration": 6,
    "start_time": "2021-12-01T07:36:35.181Z"
   },
   {
    "duration": 117833,
    "start_time": "2021-12-01T07:36:35.188Z"
   },
   {
    "duration": 20,
    "start_time": "2021-12-01T07:38:33.023Z"
   },
   {
    "duration": 28,
    "start_time": "2021-12-01T07:38:33.045Z"
   },
   {
    "duration": 20,
    "start_time": "2021-12-01T07:38:33.074Z"
   },
   {
    "duration": 30,
    "start_time": "2021-12-01T07:38:33.095Z"
   },
   {
    "duration": 37,
    "start_time": "2021-12-01T07:38:33.126Z"
   },
   {
    "duration": 75,
    "start_time": "2021-12-01T07:38:33.164Z"
   },
   {
    "duration": 24,
    "start_time": "2021-12-01T07:38:33.240Z"
   },
   {
    "duration": 41,
    "start_time": "2021-12-01T07:38:33.265Z"
   },
   {
    "duration": 4,
    "start_time": "2021-12-01T07:38:33.308Z"
   },
   {
    "duration": 2489,
    "start_time": "2021-12-01T08:24:36.873Z"
   },
   {
    "duration": 17,
    "start_time": "2021-12-01T08:24:50.441Z"
   },
   {
    "duration": 35,
    "start_time": "2021-12-01T08:27:13.604Z"
   },
   {
    "duration": 27,
    "start_time": "2021-12-01T08:27:32.286Z"
   },
   {
    "duration": 26,
    "start_time": "2021-12-01T08:27:49.462Z"
   },
   {
    "duration": 26,
    "start_time": "2021-12-01T08:28:39.078Z"
   },
   {
    "duration": 29,
    "start_time": "2021-12-01T08:29:05.652Z"
   },
   {
    "duration": 670,
    "start_time": "2021-12-01T08:29:15.762Z"
   },
   {
    "duration": 13,
    "start_time": "2021-12-01T08:29:16.433Z"
   },
   {
    "duration": 13,
    "start_time": "2021-12-01T08:29:16.448Z"
   },
   {
    "duration": 67,
    "start_time": "2021-12-01T08:29:16.463Z"
   },
   {
    "duration": 3,
    "start_time": "2021-12-01T08:29:16.532Z"
   },
   {
    "duration": 4696,
    "start_time": "2021-12-01T08:29:16.537Z"
   },
   {
    "duration": 11,
    "start_time": "2021-12-01T08:29:21.235Z"
   },
   {
    "duration": 16,
    "start_time": "2021-12-01T08:29:21.249Z"
   },
   {
    "duration": 41,
    "start_time": "2021-12-01T08:29:21.268Z"
   },
   {
    "duration": 24,
    "start_time": "2021-12-01T08:29:21.311Z"
   },
   {
    "duration": 22,
    "start_time": "2021-12-01T08:29:21.337Z"
   },
   {
    "duration": 6,
    "start_time": "2021-12-01T08:29:21.361Z"
   },
   {
    "duration": 50,
    "start_time": "2021-12-01T08:29:21.369Z"
   },
   {
    "duration": 10,
    "start_time": "2021-12-01T08:29:21.422Z"
   },
   {
    "duration": 687,
    "start_time": "2021-12-01T08:29:21.435Z"
   },
   {
    "duration": 6,
    "start_time": "2021-12-01T08:29:22.123Z"
   },
   {
    "duration": 136648,
    "start_time": "2021-12-01T08:29:22.131Z"
   },
   {
    "duration": 35,
    "start_time": "2021-12-01T08:31:38.781Z"
   },
   {
    "duration": 31,
    "start_time": "2021-12-01T08:31:38.817Z"
   },
   {
    "duration": 18,
    "start_time": "2021-12-01T08:31:38.850Z"
   },
   {
    "duration": 69,
    "start_time": "2021-12-01T08:31:38.870Z"
   },
   {
    "duration": 71,
    "start_time": "2021-12-01T08:31:38.942Z"
   },
   {
    "duration": 115,
    "start_time": "2021-12-01T08:31:39.018Z"
   },
   {
    "duration": 25,
    "start_time": "2021-12-01T08:31:39.135Z"
   },
   {
    "duration": 47,
    "start_time": "2021-12-01T08:31:39.161Z"
   },
   {
    "duration": 5,
    "start_time": "2021-12-01T08:31:39.210Z"
   },
   {
    "duration": 38,
    "start_time": "2021-12-01T08:34:12.006Z"
   },
   {
    "duration": 698,
    "start_time": "2021-12-01T08:34:24.422Z"
   },
   {
    "duration": 12,
    "start_time": "2021-12-01T08:34:25.122Z"
   },
   {
    "duration": 9,
    "start_time": "2021-12-01T08:34:25.137Z"
   },
   {
    "duration": 63,
    "start_time": "2021-12-01T08:34:25.148Z"
   },
   {
    "duration": 3,
    "start_time": "2021-12-01T08:34:25.213Z"
   },
   {
    "duration": 4488,
    "start_time": "2021-12-01T08:34:25.218Z"
   },
   {
    "duration": 10,
    "start_time": "2021-12-01T08:34:29.708Z"
   },
   {
    "duration": 14,
    "start_time": "2021-12-01T08:34:29.720Z"
   },
   {
    "duration": 16,
    "start_time": "2021-12-01T08:34:29.736Z"
   },
   {
    "duration": 17,
    "start_time": "2021-12-01T08:34:29.754Z"
   },
   {
    "duration": 45,
    "start_time": "2021-12-01T08:34:29.772Z"
   },
   {
    "duration": 5,
    "start_time": "2021-12-01T08:34:29.819Z"
   },
   {
    "duration": 12,
    "start_time": "2021-12-01T08:34:29.826Z"
   },
   {
    "duration": 13,
    "start_time": "2021-12-01T08:34:29.840Z"
   },
   {
    "duration": 632,
    "start_time": "2021-12-01T08:34:29.854Z"
   },
   {
    "duration": 6,
    "start_time": "2021-12-01T08:34:30.488Z"
   },
   {
    "duration": 138495,
    "start_time": "2021-12-01T08:34:30.496Z"
   },
   {
    "duration": 37,
    "start_time": "2021-12-01T08:36:48.993Z"
   },
   {
    "duration": 23,
    "start_time": "2021-12-01T08:36:49.032Z"
   },
   {
    "duration": 22,
    "start_time": "2021-12-01T08:36:49.056Z"
   },
   {
    "duration": 48,
    "start_time": "2021-12-01T08:36:49.080Z"
   },
   {
    "duration": 50,
    "start_time": "2021-12-01T08:36:49.130Z"
   },
   {
    "duration": 75,
    "start_time": "2021-12-01T08:36:49.183Z"
   },
   {
    "duration": 25,
    "start_time": "2021-12-01T08:36:49.260Z"
   },
   {
    "duration": 49,
    "start_time": "2021-12-01T08:36:49.286Z"
   },
   {
    "duration": 3,
    "start_time": "2021-12-01T08:36:49.337Z"
   },
   {
    "duration": 66,
    "start_time": "2021-12-01T08:48:55.268Z"
   },
   {
    "duration": 32,
    "start_time": "2021-12-01T09:02:56.018Z"
   },
   {
    "duration": 26,
    "start_time": "2021-12-01T09:07:19.405Z"
   },
   {
    "duration": 30,
    "start_time": "2021-12-01T09:09:01.175Z"
   },
   {
    "duration": 754,
    "start_time": "2021-12-01T09:45:10.149Z"
   },
   {
    "duration": 21,
    "start_time": "2021-12-01T09:45:10.905Z"
   },
   {
    "duration": 21,
    "start_time": "2021-12-01T09:45:10.929Z"
   },
   {
    "duration": 70,
    "start_time": "2021-12-01T09:45:10.952Z"
   },
   {
    "duration": 3,
    "start_time": "2021-12-01T09:45:11.025Z"
   },
   {
    "duration": 5324,
    "start_time": "2021-12-01T09:45:11.031Z"
   },
   {
    "duration": 11,
    "start_time": "2021-12-01T09:45:16.357Z"
   },
   {
    "duration": 37,
    "start_time": "2021-12-01T09:45:16.372Z"
   },
   {
    "duration": 50,
    "start_time": "2021-12-01T09:45:16.413Z"
   },
   {
    "duration": 25,
    "start_time": "2021-12-01T09:45:16.465Z"
   },
   {
    "duration": 32,
    "start_time": "2021-12-01T09:45:16.492Z"
   },
   {
    "duration": 5,
    "start_time": "2021-12-01T09:45:16.525Z"
   },
   {
    "duration": 29,
    "start_time": "2021-12-01T09:45:16.532Z"
   },
   {
    "duration": 30,
    "start_time": "2021-12-01T09:45:16.563Z"
   },
   {
    "duration": 611,
    "start_time": "2021-12-01T09:45:16.595Z"
   },
   {
    "duration": 8,
    "start_time": "2021-12-01T09:45:17.208Z"
   },
   {
    "duration": 124450,
    "start_time": "2021-12-01T09:45:17.217Z"
   },
   {
    "duration": 44,
    "start_time": "2021-12-01T09:47:21.669Z"
   },
   {
    "duration": 28,
    "start_time": "2021-12-01T09:47:21.716Z"
   },
   {
    "duration": 17,
    "start_time": "2021-12-01T09:47:21.747Z"
   },
   {
    "duration": 31,
    "start_time": "2021-12-01T09:47:21.766Z"
   },
   {
    "duration": 53,
    "start_time": "2021-12-01T09:47:21.809Z"
   },
   {
    "duration": 103,
    "start_time": "2021-12-01T09:47:21.865Z"
   },
   {
    "duration": 26,
    "start_time": "2021-12-01T09:47:21.971Z"
   },
   {
    "duration": 42,
    "start_time": "2021-12-01T09:47:21.998Z"
   },
   {
    "duration": 34,
    "start_time": "2021-12-01T09:47:22.041Z"
   },
   {
    "duration": 735,
    "start_time": "2021-12-01T11:24:55.784Z"
   },
   {
    "duration": 17,
    "start_time": "2021-12-01T11:24:56.522Z"
   },
   {
    "duration": 13,
    "start_time": "2021-12-01T11:24:56.546Z"
   },
   {
    "duration": 62,
    "start_time": "2021-12-01T11:24:56.561Z"
   },
   {
    "duration": 4,
    "start_time": "2021-12-01T11:24:56.625Z"
   },
   {
    "duration": 6386,
    "start_time": "2021-12-01T11:24:56.630Z"
   },
   {
    "duration": 17,
    "start_time": "2021-12-01T11:25:03.018Z"
   },
   {
    "duration": 22,
    "start_time": "2021-12-01T11:25:03.040Z"
   },
   {
    "duration": 53,
    "start_time": "2021-12-01T11:25:03.065Z"
   },
   {
    "duration": 25,
    "start_time": "2021-12-01T11:25:03.120Z"
   },
   {
    "duration": 53,
    "start_time": "2021-12-01T11:25:03.147Z"
   },
   {
    "duration": 26,
    "start_time": "2021-12-01T11:25:03.202Z"
   },
   {
    "duration": 14,
    "start_time": "2021-12-01T11:25:03.230Z"
   },
   {
    "duration": 27,
    "start_time": "2021-12-01T11:25:03.247Z"
   },
   {
    "duration": 704,
    "start_time": "2021-12-01T11:25:03.276Z"
   },
   {
    "duration": 6,
    "start_time": "2021-12-01T11:25:03.983Z"
   },
   {
    "duration": 145039,
    "start_time": "2021-12-01T11:25:03.991Z"
   },
   {
    "duration": 24,
    "start_time": "2021-12-01T11:27:29.033Z"
   },
   {
    "duration": 30,
    "start_time": "2021-12-01T11:27:29.059Z"
   },
   {
    "duration": 27,
    "start_time": "2021-12-01T11:27:29.091Z"
   },
   {
    "duration": 39,
    "start_time": "2021-12-01T11:27:29.120Z"
   },
   {
    "duration": 65,
    "start_time": "2021-12-01T11:27:29.160Z"
   },
   {
    "duration": 102,
    "start_time": "2021-12-01T11:27:29.228Z"
   },
   {
    "duration": 28,
    "start_time": "2021-12-01T11:27:29.332Z"
   },
   {
    "duration": 47,
    "start_time": "2021-12-01T11:27:29.362Z"
   },
   {
    "duration": 41,
    "start_time": "2021-12-01T11:27:29.414Z"
   },
   {
    "duration": 606,
    "start_time": "2021-12-01T17:15:54.325Z"
   },
   {
    "duration": 11,
    "start_time": "2021-12-01T17:15:54.933Z"
   },
   {
    "duration": 9,
    "start_time": "2021-12-01T17:15:54.946Z"
   },
   {
    "duration": 68,
    "start_time": "2021-12-01T17:15:54.957Z"
   },
   {
    "duration": 4,
    "start_time": "2021-12-01T17:15:55.027Z"
   },
   {
    "duration": 4604,
    "start_time": "2021-12-01T17:15:55.033Z"
   },
   {
    "duration": 11,
    "start_time": "2021-12-01T17:15:59.638Z"
   },
   {
    "duration": 12,
    "start_time": "2021-12-01T17:15:59.652Z"
   },
   {
    "duration": 43,
    "start_time": "2021-12-01T17:15:59.667Z"
   },
   {
    "duration": 17,
    "start_time": "2021-12-01T17:15:59.712Z"
   },
   {
    "duration": 15,
    "start_time": "2021-12-01T17:15:59.731Z"
   },
   {
    "duration": 6,
    "start_time": "2021-12-01T17:15:59.748Z"
   },
   {
    "duration": 35,
    "start_time": "2021-12-01T17:15:59.756Z"
   },
   {
    "duration": 14,
    "start_time": "2021-12-01T17:15:59.797Z"
   },
   {
    "duration": 592,
    "start_time": "2021-12-01T17:15:59.813Z"
   },
   {
    "duration": 6,
    "start_time": "2021-12-01T17:16:00.407Z"
   },
   {
    "duration": 109357,
    "start_time": "2021-12-01T17:16:00.414Z"
   },
   {
    "duration": -109,
    "start_time": "2021-12-01T17:17:49.882Z"
   },
   {
    "duration": -111,
    "start_time": "2021-12-01T17:17:49.885Z"
   },
   {
    "duration": -113,
    "start_time": "2021-12-01T17:17:49.888Z"
   },
   {
    "duration": -113,
    "start_time": "2021-12-01T17:17:49.890Z"
   },
   {
    "duration": -115,
    "start_time": "2021-12-01T17:17:49.892Z"
   },
   {
    "duration": -117,
    "start_time": "2021-12-01T17:17:49.895Z"
   },
   {
    "duration": -117,
    "start_time": "2021-12-01T17:17:49.897Z"
   },
   {
    "duration": -119,
    "start_time": "2021-12-01T17:17:49.899Z"
   },
   {
    "duration": -120,
    "start_time": "2021-12-01T17:17:49.901Z"
   },
   {
    "duration": 625,
    "start_time": "2021-12-01T17:17:55.911Z"
   },
   {
    "duration": 10,
    "start_time": "2021-12-01T17:17:56.538Z"
   },
   {
    "duration": 10,
    "start_time": "2021-12-01T17:17:56.549Z"
   },
   {
    "duration": 66,
    "start_time": "2021-12-01T17:17:56.561Z"
   },
   {
    "duration": 3,
    "start_time": "2021-12-01T17:17:56.629Z"
   },
   {
    "duration": 4552,
    "start_time": "2021-12-01T17:17:56.634Z"
   },
   {
    "duration": 16,
    "start_time": "2021-12-01T17:18:01.188Z"
   },
   {
    "duration": 19,
    "start_time": "2021-12-01T17:18:01.206Z"
   },
   {
    "duration": 16,
    "start_time": "2021-12-01T17:18:01.228Z"
   },
   {
    "duration": 17,
    "start_time": "2021-12-01T17:18:01.246Z"
   },
   {
    "duration": 46,
    "start_time": "2021-12-01T17:18:01.265Z"
   },
   {
    "duration": 4,
    "start_time": "2021-12-01T17:18:01.313Z"
   },
   {
    "duration": 25,
    "start_time": "2021-12-01T17:18:01.319Z"
   },
   {
    "duration": 16,
    "start_time": "2021-12-01T17:18:01.346Z"
   },
   {
    "duration": 608,
    "start_time": "2021-12-01T17:18:01.364Z"
   },
   {
    "duration": 6,
    "start_time": "2021-12-01T17:18:01.974Z"
   },
   {
    "duration": 84942,
    "start_time": "2021-12-01T17:18:01.981Z"
   },
   {
    "duration": -1157,
    "start_time": "2021-12-01T17:19:28.082Z"
   },
   {
    "duration": -1160,
    "start_time": "2021-12-01T17:19:28.086Z"
   },
   {
    "duration": -1163,
    "start_time": "2021-12-01T17:19:28.090Z"
   },
   {
    "duration": -1165,
    "start_time": "2021-12-01T17:19:28.093Z"
   },
   {
    "duration": -1167,
    "start_time": "2021-12-01T17:19:28.096Z"
   },
   {
    "duration": -1229,
    "start_time": "2021-12-01T17:19:28.159Z"
   },
   {
    "duration": -1238,
    "start_time": "2021-12-01T17:19:28.169Z"
   },
   {
    "duration": -1241,
    "start_time": "2021-12-01T17:19:28.172Z"
   },
   {
    "duration": -1243,
    "start_time": "2021-12-01T17:19:28.175Z"
   },
   {
    "duration": 103626,
    "start_time": "2021-12-01T17:19:31.837Z"
   },
   {
    "duration": 20,
    "start_time": "2021-12-01T17:22:22.115Z"
   },
   {
    "duration": 18,
    "start_time": "2021-12-01T17:22:27.820Z"
   },
   {
    "duration": 11,
    "start_time": "2021-12-01T17:22:32.050Z"
   },
   {
    "duration": 23,
    "start_time": "2021-12-01T17:22:33.670Z"
   },
   {
    "duration": 52,
    "start_time": "2021-12-01T17:22:39.043Z"
   },
   {
    "duration": 71,
    "start_time": "2021-12-01T17:22:40.620Z"
   },
   {
    "duration": 24,
    "start_time": "2021-12-01T17:22:41.494Z"
   },
   {
    "duration": 25,
    "start_time": "2021-12-01T17:22:42.520Z"
   },
   {
    "duration": 29,
    "start_time": "2021-12-01T17:22:43.091Z"
   },
   {
    "duration": 22,
    "start_time": "2021-12-01T17:30:31.003Z"
   },
   {
    "duration": 563,
    "start_time": "2021-12-01T17:30:51.454Z"
   },
   {
    "duration": 11,
    "start_time": "2021-12-01T17:30:52.019Z"
   },
   {
    "duration": 10,
    "start_time": "2021-12-01T17:30:59.157Z"
   },
   {
    "duration": 19,
    "start_time": "2021-12-01T17:31:04.342Z"
   },
   {
    "duration": 40,
    "start_time": "2021-12-01T17:31:29.353Z"
   },
   {
    "duration": 4,
    "start_time": "2021-12-01T17:33:03.503Z"
   },
   {
    "duration": 4406,
    "start_time": "2021-12-01T17:33:17.455Z"
   },
   {
    "duration": 12,
    "start_time": "2021-12-01T17:40:02.045Z"
   },
   {
    "duration": 5,
    "start_time": "2021-12-01T17:41:24.765Z"
   },
   {
    "duration": 24,
    "start_time": "2021-12-01T17:41:52.646Z"
   },
   {
    "duration": 13,
    "start_time": "2021-12-01T17:50:01.991Z"
   },
   {
    "duration": 15,
    "start_time": "2021-12-01T17:55:15.169Z"
   },
   {
    "duration": 17,
    "start_time": "2021-12-01T17:55:26.922Z"
   },
   {
    "duration": 16,
    "start_time": "2021-12-01T17:55:28.059Z"
   },
   {
    "duration": 5,
    "start_time": "2021-12-01T17:55:30.751Z"
   },
   {
    "duration": 10,
    "start_time": "2021-12-01T17:55:36.655Z"
   },
   {
    "duration": 6,
    "start_time": "2021-12-01T17:55:41.209Z"
   },
   {
    "duration": 6,
    "start_time": "2021-12-01T17:57:30.669Z"
   },
   {
    "duration": 15,
    "start_time": "2021-12-01T17:57:34.005Z"
   },
   {
    "duration": 582,
    "start_time": "2021-12-01T18:02:04.555Z"
   },
   {
    "duration": 10,
    "start_time": "2021-12-01T18:02:05.139Z"
   },
   {
    "duration": 14,
    "start_time": "2021-12-01T18:02:05.151Z"
   },
   {
    "duration": 53,
    "start_time": "2021-12-01T18:02:05.166Z"
   },
   {
    "duration": 3,
    "start_time": "2021-12-01T18:02:05.220Z"
   },
   {
    "duration": 4262,
    "start_time": "2021-12-01T18:02:05.225Z"
   },
   {
    "duration": 11,
    "start_time": "2021-12-01T18:02:09.488Z"
   },
   {
    "duration": 14,
    "start_time": "2021-12-01T18:02:09.500Z"
   },
   {
    "duration": 16,
    "start_time": "2021-12-01T18:02:09.516Z"
   },
   {
    "duration": 18,
    "start_time": "2021-12-01T18:02:09.533Z"
   },
   {
    "duration": 47,
    "start_time": "2021-12-01T18:02:09.553Z"
   },
   {
    "duration": 4,
    "start_time": "2021-12-01T18:02:09.602Z"
   },
   {
    "duration": 15,
    "start_time": "2021-12-01T18:02:09.607Z"
   },
   {
    "duration": 11,
    "start_time": "2021-12-01T18:02:09.624Z"
   },
   {
    "duration": 535,
    "start_time": "2021-12-01T18:04:17.306Z"
   },
   {
    "duration": 7,
    "start_time": "2021-12-01T18:04:23.373Z"
   },
   {
    "duration": 6,
    "start_time": "2021-12-01T18:04:55.990Z"
   },
   {
    "duration": 6,
    "start_time": "2021-12-01T18:05:03.639Z"
   },
   {
    "duration": 12,
    "start_time": "2021-12-01T18:06:50.109Z"
   },
   {
    "duration": 104752,
    "start_time": "2021-12-01T18:08:00.595Z"
   },
   {
    "duration": 19,
    "start_time": "2021-12-01T18:11:01.643Z"
   },
   {
    "duration": 18,
    "start_time": "2021-12-01T18:24:43.392Z"
   },
   {
    "duration": 26,
    "start_time": "2021-12-01T18:25:26.222Z"
   },
   {
    "duration": 11,
    "start_time": "2021-12-01T18:30:41.697Z"
   },
   {
    "duration": 21,
    "start_time": "2021-12-01T18:34:49.059Z"
   },
   {
    "duration": 38,
    "start_time": "2021-12-01T18:42:13.334Z"
   },
   {
    "duration": 8,
    "start_time": "2021-12-01T18:46:55.751Z"
   },
   {
    "duration": 22,
    "start_time": "2021-12-01T18:48:30.329Z"
   },
   {
    "duration": 354,
    "start_time": "2021-12-01T18:49:16.615Z"
   },
   {
    "duration": 25,
    "start_time": "2021-12-01T18:49:24.252Z"
   },
   {
    "duration": 20,
    "start_time": "2021-12-01T18:50:57.576Z"
   },
   {
    "duration": 18,
    "start_time": "2021-12-01T18:51:31.840Z"
   },
   {
    "duration": 21,
    "start_time": "2021-12-01T18:52:13.861Z"
   },
   {
    "duration": 21,
    "start_time": "2021-12-01T18:52:56.013Z"
   },
   {
    "duration": 23,
    "start_time": "2021-12-01T18:53:02.403Z"
   },
   {
    "duration": 65,
    "start_time": "2021-12-01T18:53:21.645Z"
   },
   {
    "duration": 22,
    "start_time": "2021-12-01T18:53:27.736Z"
   },
   {
    "duration": 19,
    "start_time": "2021-12-01T18:56:11.186Z"
   },
   {
    "duration": 77,
    "start_time": "2021-12-01T18:59:44.101Z"
   },
   {
    "duration": 566,
    "start_time": "2021-12-01T19:01:18.744Z"
   },
   {
    "duration": 11,
    "start_time": "2021-12-01T19:01:19.312Z"
   },
   {
    "duration": 19,
    "start_time": "2021-12-01T19:01:19.325Z"
   },
   {
    "duration": 49,
    "start_time": "2021-12-01T19:01:19.345Z"
   },
   {
    "duration": 3,
    "start_time": "2021-12-01T19:01:19.396Z"
   },
   {
    "duration": 4431,
    "start_time": "2021-12-01T19:01:19.400Z"
   },
   {
    "duration": 9,
    "start_time": "2021-12-01T19:01:23.833Z"
   },
   {
    "duration": 12,
    "start_time": "2021-12-01T19:01:23.844Z"
   },
   {
    "duration": 33,
    "start_time": "2021-12-01T19:01:23.859Z"
   },
   {
    "duration": 16,
    "start_time": "2021-12-01T19:01:23.894Z"
   },
   {
    "duration": 14,
    "start_time": "2021-12-01T19:01:23.912Z"
   },
   {
    "duration": 5,
    "start_time": "2021-12-01T19:01:23.927Z"
   },
   {
    "duration": 12,
    "start_time": "2021-12-01T19:01:23.933Z"
   },
   {
    "duration": 8,
    "start_time": "2021-12-01T19:01:23.946Z"
   },
   {
    "duration": 617,
    "start_time": "2021-12-01T19:01:23.956Z"
   },
   {
    "duration": 6,
    "start_time": "2021-12-01T19:01:24.575Z"
   },
   {
    "duration": 104816,
    "start_time": "2021-12-01T19:01:24.583Z"
   },
   {
    "duration": 19,
    "start_time": "2021-12-01T19:03:09.401Z"
   },
   {
    "duration": 42,
    "start_time": "2021-12-01T19:03:09.422Z"
   },
   {
    "duration": 38,
    "start_time": "2021-12-01T19:03:09.466Z"
   },
   {
    "duration": 39,
    "start_time": "2021-12-01T19:03:09.505Z"
   },
   {
    "duration": 59,
    "start_time": "2021-12-01T19:03:09.546Z"
   },
   {
    "duration": 5,
    "start_time": "2021-12-01T19:03:32.233Z"
   },
   {
    "duration": 15,
    "start_time": "2021-12-01T19:04:14.420Z"
   },
   {
    "duration": 65,
    "start_time": "2021-12-01T19:04:57.997Z"
   },
   {
    "duration": 28,
    "start_time": "2021-12-01T19:08:27.038Z"
   },
   {
    "duration": 21,
    "start_time": "2021-12-01T19:09:37.352Z"
   },
   {
    "duration": 24,
    "start_time": "2021-12-01T19:10:01.941Z"
   },
   {
    "duration": 25,
    "start_time": "2021-12-01T19:16:44.289Z"
   },
   {
    "duration": 30,
    "start_time": "2021-12-01T19:18:01.106Z"
   },
   {
    "duration": 584,
    "start_time": "2021-12-01T19:33:10.648Z"
   },
   {
    "duration": 10,
    "start_time": "2021-12-01T19:33:11.234Z"
   },
   {
    "duration": 10,
    "start_time": "2021-12-01T19:33:11.245Z"
   },
   {
    "duration": 58,
    "start_time": "2021-12-01T19:33:11.257Z"
   },
   {
    "duration": 3,
    "start_time": "2021-12-01T19:33:11.317Z"
   },
   {
    "duration": 4371,
    "start_time": "2021-12-01T19:33:11.321Z"
   },
   {
    "duration": 9,
    "start_time": "2021-12-01T19:33:15.694Z"
   },
   {
    "duration": 12,
    "start_time": "2021-12-01T19:33:15.706Z"
   },
   {
    "duration": 15,
    "start_time": "2021-12-01T19:33:15.720Z"
   },
   {
    "duration": 16,
    "start_time": "2021-12-01T19:33:15.737Z"
   },
   {
    "duration": 48,
    "start_time": "2021-12-01T19:33:15.754Z"
   },
   {
    "duration": 5,
    "start_time": "2021-12-01T19:33:15.803Z"
   },
   {
    "duration": 12,
    "start_time": "2021-12-01T19:33:15.810Z"
   },
   {
    "duration": 9,
    "start_time": "2021-12-01T19:33:15.824Z"
   },
   {
    "duration": 838,
    "start_time": "2021-12-01T19:33:15.834Z"
   },
   {
    "duration": 7,
    "start_time": "2021-12-01T19:33:16.673Z"
   },
   {
    "duration": 104246,
    "start_time": "2021-12-01T19:33:16.681Z"
   },
   {
    "duration": 20,
    "start_time": "2021-12-01T19:35:00.928Z"
   },
   {
    "duration": 27,
    "start_time": "2021-12-01T19:35:00.950Z"
   },
   {
    "duration": 21,
    "start_time": "2021-12-01T19:35:00.979Z"
   },
   {
    "duration": 28,
    "start_time": "2021-12-01T19:35:01.002Z"
   },
   {
    "duration": 42,
    "start_time": "2021-12-01T19:35:01.032Z"
   },
   {
    "duration": 83,
    "start_time": "2021-12-01T19:35:01.077Z"
   },
   {
    "duration": 42,
    "start_time": "2021-12-01T19:35:01.162Z"
   },
   {
    "duration": 26,
    "start_time": "2021-12-01T19:35:01.206Z"
   },
   {
    "duration": 59,
    "start_time": "2021-12-01T19:35:01.234Z"
   },
   {
    "duration": 377,
    "start_time": "2021-12-02T06:40:23.638Z"
   },
   {
    "duration": 2415,
    "start_time": "2021-12-02T06:40:34.827Z"
   },
   {
    "duration": 15,
    "start_time": "2021-12-02T06:40:37.245Z"
   },
   {
    "duration": 69,
    "start_time": "2021-12-02T06:40:37.263Z"
   },
   {
    "duration": 15,
    "start_time": "2021-12-02T06:40:37.334Z"
   },
   {
    "duration": 119,
    "start_time": "2021-12-02T06:40:37.352Z"
   },
   {
    "duration": 6,
    "start_time": "2021-12-02T06:40:37.474Z"
   },
   {
    "duration": 7212,
    "start_time": "2021-12-02T06:40:37.483Z"
   },
   {
    "duration": 31,
    "start_time": "2021-12-02T06:40:44.698Z"
   },
   {
    "duration": 18,
    "start_time": "2021-12-02T06:40:44.735Z"
   },
   {
    "duration": 25,
    "start_time": "2021-12-02T06:40:44.757Z"
   },
   {
    "duration": 64,
    "start_time": "2021-12-02T06:40:44.785Z"
   },
   {
    "duration": 26,
    "start_time": "2021-12-02T06:40:44.851Z"
   },
   {
    "duration": 8,
    "start_time": "2021-12-02T06:40:44.880Z"
   },
   {
    "duration": 54,
    "start_time": "2021-12-02T06:40:44.891Z"
   },
   {
    "duration": 11,
    "start_time": "2021-12-02T06:40:44.948Z"
   },
   {
    "duration": 5,
    "start_time": "2021-12-02T06:40:44.962Z"
   },
   {
    "duration": 13,
    "start_time": "2021-12-02T06:40:44.970Z"
   },
   {
    "duration": 162986,
    "start_time": "2021-12-02T06:40:44.986Z"
   },
   {
    "duration": 33,
    "start_time": "2021-12-02T06:43:27.975Z"
   },
   {
    "duration": 43,
    "start_time": "2021-12-02T06:43:28.030Z"
   },
   {
    "duration": 21,
    "start_time": "2021-12-02T06:43:28.076Z"
   },
   {
    "duration": 58,
    "start_time": "2021-12-02T06:43:28.099Z"
   },
   {
    "duration": 77,
    "start_time": "2021-12-02T06:43:28.160Z"
   },
   {
    "duration": 128,
    "start_time": "2021-12-02T06:43:28.240Z"
   },
   {
    "duration": 60,
    "start_time": "2021-12-02T06:43:28.371Z"
   },
   {
    "duration": 45,
    "start_time": "2021-12-02T06:43:28.433Z"
   },
   {
    "duration": 69,
    "start_time": "2021-12-02T06:43:28.483Z"
   },
   {
    "duration": 15,
    "start_time": "2021-12-02T06:43:28.555Z"
   },
   {
    "duration": 100,
    "start_time": "2021-12-02T06:48:00.859Z"
   },
   {
    "duration": 105,
    "start_time": "2021-12-02T06:48:19.774Z"
   },
   {
    "duration": 101,
    "start_time": "2021-12-02T06:48:35.780Z"
   },
   {
    "duration": 19,
    "start_time": "2021-12-02T06:49:12.805Z"
   },
   {
    "duration": 39,
    "start_time": "2021-12-02T06:49:29.116Z"
   },
   {
    "duration": 1414,
    "start_time": "2021-12-02T06:51:02.053Z"
   },
   {
    "duration": 22,
    "start_time": "2021-12-02T06:52:02.733Z"
   },
   {
    "duration": 1840,
    "start_time": "2021-12-02T06:57:47.248Z"
   },
   {
    "duration": 39,
    "start_time": "2021-12-02T06:57:49.092Z"
   },
   {
    "duration": 19,
    "start_time": "2021-12-02T06:57:49.135Z"
   },
   {
    "duration": 126,
    "start_time": "2021-12-02T06:57:49.159Z"
   },
   {
    "duration": 6,
    "start_time": "2021-12-02T06:57:49.289Z"
   },
   {
    "duration": 50,
    "start_time": "2021-12-02T06:57:49.298Z"
   },
   {
    "duration": 15,
    "start_time": "2021-12-02T06:57:49.350Z"
   },
   {
    "duration": 17,
    "start_time": "2021-12-02T06:57:49.369Z"
   },
   {
    "duration": 42,
    "start_time": "2021-12-02T06:57:49.389Z"
   },
   {
    "duration": 17,
    "start_time": "2021-12-02T06:57:49.433Z"
   },
   {
    "duration": 34,
    "start_time": "2021-12-02T06:57:49.452Z"
   },
   {
    "duration": 63,
    "start_time": "2021-12-02T06:57:49.488Z"
   },
   {
    "duration": 27,
    "start_time": "2021-12-02T06:57:49.554Z"
   },
   {
    "duration": 58,
    "start_time": "2021-12-02T06:57:49.583Z"
   },
   {
    "duration": 4,
    "start_time": "2021-12-02T06:57:49.644Z"
   },
   {
    "duration": 16,
    "start_time": "2021-12-02T06:57:49.651Z"
   },
   {
    "duration": 159552,
    "start_time": "2021-12-02T06:57:49.671Z"
   },
   {
    "duration": 53,
    "start_time": "2021-12-02T07:00:29.233Z"
   },
   {
    "duration": 44,
    "start_time": "2021-12-02T07:00:29.288Z"
   },
   {
    "duration": 20,
    "start_time": "2021-12-02T07:00:29.334Z"
   },
   {
    "duration": 87,
    "start_time": "2021-12-02T07:00:29.358Z"
   },
   {
    "duration": 96,
    "start_time": "2021-12-02T07:00:29.448Z"
   },
   {
    "duration": 180,
    "start_time": "2021-12-02T07:00:29.550Z"
   },
   {
    "duration": 60,
    "start_time": "2021-12-02T07:00:29.734Z"
   },
   {
    "duration": 61,
    "start_time": "2021-12-02T07:00:29.798Z"
   },
   {
    "duration": 91,
    "start_time": "2021-12-02T07:00:29.862Z"
   },
   {
    "duration": 6528,
    "start_time": "2021-12-02T07:11:10.368Z"
   },
   {
    "duration": 6309,
    "start_time": "2021-12-02T07:12:54.706Z"
   },
   {
    "duration": 59,
    "start_time": "2021-12-02T07:13:05.105Z"
   },
   {
    "duration": 2757,
    "start_time": "2021-12-02T18:06:58.832Z"
   },
   {
    "duration": 12,
    "start_time": "2021-12-02T18:07:01.591Z"
   },
   {
    "duration": 20,
    "start_time": "2021-12-02T18:07:01.605Z"
   },
   {
    "duration": 53,
    "start_time": "2021-12-02T18:07:01.627Z"
   },
   {
    "duration": 3,
    "start_time": "2021-12-02T18:07:01.682Z"
   },
   {
    "duration": 40,
    "start_time": "2021-12-02T18:07:01.687Z"
   },
   {
    "duration": 11,
    "start_time": "2021-12-02T18:07:01.729Z"
   },
   {
    "duration": 20,
    "start_time": "2021-12-02T18:07:01.743Z"
   },
   {
    "duration": 16,
    "start_time": "2021-12-02T18:07:01.765Z"
   },
   {
    "duration": 41,
    "start_time": "2021-12-02T18:07:01.783Z"
   },
   {
    "duration": 49,
    "start_time": "2021-12-02T18:07:01.826Z"
   },
   {
    "duration": 68,
    "start_time": "2021-12-02T18:07:01.877Z"
   },
   {
    "duration": 43,
    "start_time": "2021-12-02T18:07:01.947Z"
   },
   {
    "duration": 99,
    "start_time": "2021-12-02T18:07:01.992Z"
   },
   {
    "duration": 117,
    "start_time": "2021-12-02T18:07:02.093Z"
   },
   {
    "duration": 31,
    "start_time": "2021-12-02T18:07:02.211Z"
   },
   {
    "duration": 3666,
    "start_time": "2021-12-02T18:07:02.244Z"
   },
   {
    "duration": 21,
    "start_time": "2021-12-02T18:07:05.912Z"
   },
   {
    "duration": 6135,
    "start_time": "2021-12-02T18:07:05.935Z"
   },
   {
    "duration": 2777,
    "start_time": "2021-12-02T18:07:09.295Z"
   },
   {
    "duration": 2777,
    "start_time": "2021-12-02T18:07:09.297Z"
   },
   {
    "duration": 2775,
    "start_time": "2021-12-02T18:07:09.300Z"
   },
   {
    "duration": 2773,
    "start_time": "2021-12-02T18:07:09.303Z"
   },
   {
    "duration": 2772,
    "start_time": "2021-12-02T18:07:09.305Z"
   },
   {
    "duration": 2765,
    "start_time": "2021-12-02T18:07:09.313Z"
   },
   {
    "duration": 2763,
    "start_time": "2021-12-02T18:07:09.316Z"
   },
   {
    "duration": 19,
    "start_time": "2021-12-02T18:09:30.011Z"
   },
   {
    "duration": 258,
    "start_time": "2021-12-02T18:12:42.161Z"
   },
   {
    "duration": 87,
    "start_time": "2021-12-02T18:20:56.721Z"
   },
   {
    "duration": 260,
    "start_time": "2021-12-02T18:21:29.567Z"
   },
   {
    "duration": 290,
    "start_time": "2021-12-02T18:21:36.907Z"
   },
   {
    "duration": 257,
    "start_time": "2021-12-02T18:21:46.705Z"
   },
   {
    "duration": 83,
    "start_time": "2021-12-02T18:47:46.432Z"
   },
   {
    "duration": 249,
    "start_time": "2021-12-02T18:47:51.151Z"
   },
   {
    "duration": 428,
    "start_time": "2021-12-02T18:48:01.114Z"
   },
   {
    "duration": 256,
    "start_time": "2021-12-02T18:48:19.013Z"
   },
   {
    "duration": 273,
    "start_time": "2021-12-02T18:48:24.442Z"
   },
   {
    "duration": 416,
    "start_time": "2021-12-02T18:52:09.555Z"
   },
   {
    "duration": 1562,
    "start_time": "2021-12-02T18:52:41.431Z"
   },
   {
    "duration": 11,
    "start_time": "2021-12-02T18:52:42.994Z"
   },
   {
    "duration": 27,
    "start_time": "2021-12-02T18:52:43.006Z"
   },
   {
    "duration": 59,
    "start_time": "2021-12-02T18:52:43.035Z"
   },
   {
    "duration": 4,
    "start_time": "2021-12-02T18:52:43.096Z"
   },
   {
    "duration": 29,
    "start_time": "2021-12-02T18:52:43.102Z"
   },
   {
    "duration": 46,
    "start_time": "2021-12-02T18:52:43.133Z"
   },
   {
    "duration": 29,
    "start_time": "2021-12-02T18:52:43.182Z"
   },
   {
    "duration": 13,
    "start_time": "2021-12-02T18:52:43.214Z"
   },
   {
    "duration": 32,
    "start_time": "2021-12-02T18:52:43.228Z"
   },
   {
    "duration": 46,
    "start_time": "2021-12-02T18:52:43.261Z"
   },
   {
    "duration": 26,
    "start_time": "2021-12-02T18:52:43.309Z"
   },
   {
    "duration": 23,
    "start_time": "2021-12-02T18:52:43.337Z"
   },
   {
    "duration": 25,
    "start_time": "2021-12-02T18:52:43.362Z"
   },
   {
    "duration": 28,
    "start_time": "2021-12-02T18:52:43.389Z"
   },
   {
    "duration": 46,
    "start_time": "2021-12-02T18:52:43.420Z"
   },
   {
    "duration": 3584,
    "start_time": "2021-12-02T18:52:43.468Z"
   },
   {
    "duration": 32,
    "start_time": "2021-12-02T18:52:47.053Z"
   },
   {
    "duration": 356,
    "start_time": "2021-12-02T18:52:47.086Z"
   },
   {
    "duration": 20,
    "start_time": "2021-12-02T18:52:47.424Z"
   },
   {
    "duration": 18,
    "start_time": "2021-12-02T18:52:47.427Z"
   },
   {
    "duration": 16,
    "start_time": "2021-12-02T18:52:47.430Z"
   },
   {
    "duration": 14,
    "start_time": "2021-12-02T18:52:47.433Z"
   },
   {
    "duration": 8,
    "start_time": "2021-12-02T18:52:47.440Z"
   },
   {
    "duration": 6,
    "start_time": "2021-12-02T18:52:47.443Z"
   },
   {
    "duration": 5,
    "start_time": "2021-12-02T18:52:47.445Z"
   },
   {
    "duration": 3,
    "start_time": "2021-12-02T18:52:47.447Z"
   },
   {
    "duration": 256,
    "start_time": "2021-12-02T18:56:17.123Z"
   },
   {
    "duration": 253,
    "start_time": "2021-12-02T19:01:44.586Z"
   },
   {
    "duration": 256,
    "start_time": "2021-12-02T19:01:53.470Z"
   },
   {
    "duration": 5,
    "start_time": "2021-12-02T19:02:12.918Z"
   },
   {
    "duration": 5,
    "start_time": "2021-12-02T19:03:55.681Z"
   },
   {
    "duration": 246,
    "start_time": "2021-12-02T19:04:51.878Z"
   },
   {
    "duration": 238,
    "start_time": "2021-12-02T19:05:44.601Z"
   },
   {
    "duration": 380,
    "start_time": "2021-12-02T19:06:07.716Z"
   },
   {
    "duration": 250,
    "start_time": "2021-12-02T19:08:03.810Z"
   },
   {
    "duration": 1437,
    "start_time": "2021-12-02T19:08:42.925Z"
   },
   {
    "duration": 11,
    "start_time": "2021-12-02T19:08:44.363Z"
   },
   {
    "duration": 8,
    "start_time": "2021-12-02T19:08:44.377Z"
   },
   {
    "duration": 52,
    "start_time": "2021-12-02T19:08:44.387Z"
   },
   {
    "duration": 4,
    "start_time": "2021-12-02T19:08:44.440Z"
   },
   {
    "duration": 33,
    "start_time": "2021-12-02T19:08:44.445Z"
   },
   {
    "duration": 11,
    "start_time": "2021-12-02T19:08:44.480Z"
   },
   {
    "duration": 15,
    "start_time": "2021-12-02T19:08:44.494Z"
   },
   {
    "duration": 8,
    "start_time": "2021-12-02T19:08:44.511Z"
   },
   {
    "duration": 43,
    "start_time": "2021-12-02T19:08:44.521Z"
   },
   {
    "duration": 46,
    "start_time": "2021-12-02T19:08:44.566Z"
   },
   {
    "duration": 23,
    "start_time": "2021-12-02T19:08:44.614Z"
   },
   {
    "duration": 26,
    "start_time": "2021-12-02T19:08:44.640Z"
   },
   {
    "duration": 16,
    "start_time": "2021-12-02T19:08:44.667Z"
   },
   {
    "duration": 2,
    "start_time": "2021-12-02T19:08:44.685Z"
   },
   {
    "duration": 21,
    "start_time": "2021-12-02T19:08:44.689Z"
   },
   {
    "duration": 3487,
    "start_time": "2021-12-02T19:08:44.712Z"
   },
   {
    "duration": 22,
    "start_time": "2021-12-02T19:08:48.202Z"
   },
   {
    "duration": 370,
    "start_time": "2021-12-02T19:08:48.226Z"
   },
   {
    "duration": 45,
    "start_time": "2021-12-02T19:08:48.554Z"
   },
   {
    "duration": 43,
    "start_time": "2021-12-02T19:08:48.557Z"
   },
   {
    "duration": 41,
    "start_time": "2021-12-02T19:08:48.560Z"
   },
   {
    "duration": 39,
    "start_time": "2021-12-02T19:08:48.563Z"
   },
   {
    "duration": 38,
    "start_time": "2021-12-02T19:08:48.565Z"
   },
   {
    "duration": 32,
    "start_time": "2021-12-02T19:08:48.572Z"
   },
   {
    "duration": 30,
    "start_time": "2021-12-02T19:08:48.575Z"
   },
   {
    "duration": 28,
    "start_time": "2021-12-02T19:08:48.578Z"
   },
   {
    "duration": 6326,
    "start_time": "2021-12-02T19:12:29.494Z"
   },
   {
    "duration": 248,
    "start_time": "2021-12-02T19:12:49.895Z"
   },
   {
    "duration": 229,
    "start_time": "2021-12-03T08:54:33.385Z"
   },
   {
    "duration": 1317,
    "start_time": "2021-12-03T08:54:43.013Z"
   },
   {
    "duration": 10,
    "start_time": "2021-12-03T08:54:44.332Z"
   },
   {
    "duration": 13,
    "start_time": "2021-12-03T08:54:44.344Z"
   },
   {
    "duration": 55,
    "start_time": "2021-12-03T08:54:44.358Z"
   },
   {
    "duration": 3,
    "start_time": "2021-12-03T08:54:44.414Z"
   },
   {
    "duration": 32,
    "start_time": "2021-12-03T08:54:44.419Z"
   },
   {
    "duration": 10,
    "start_time": "2021-12-03T08:54:44.453Z"
   },
   {
    "duration": 301,
    "start_time": "2021-12-03T08:54:44.464Z"
   },
   {
    "duration": 2325,
    "start_time": "2021-12-03T08:54:42.442Z"
   },
   {
    "duration": 2321,
    "start_time": "2021-12-03T08:54:42.447Z"
   },
   {
    "duration": 2315,
    "start_time": "2021-12-03T08:54:42.454Z"
   },
   {
    "duration": 2309,
    "start_time": "2021-12-03T08:54:42.461Z"
   },
   {
    "duration": 2305,
    "start_time": "2021-12-03T08:54:42.466Z"
   },
   {
    "duration": 2301,
    "start_time": "2021-12-03T08:54:42.471Z"
   },
   {
    "duration": 2296,
    "start_time": "2021-12-03T08:54:42.476Z"
   },
   {
    "duration": 2294,
    "start_time": "2021-12-03T08:54:42.479Z"
   },
   {
    "duration": 2284,
    "start_time": "2021-12-03T08:54:42.490Z"
   },
   {
    "duration": 2282,
    "start_time": "2021-12-03T08:54:42.493Z"
   },
   {
    "duration": 2278,
    "start_time": "2021-12-03T08:54:42.498Z"
   },
   {
    "duration": 2274,
    "start_time": "2021-12-03T08:54:42.503Z"
   },
   {
    "duration": 2270,
    "start_time": "2021-12-03T08:54:42.508Z"
   },
   {
    "duration": 2266,
    "start_time": "2021-12-03T08:54:42.512Z"
   },
   {
    "duration": 2263,
    "start_time": "2021-12-03T08:54:42.516Z"
   },
   {
    "duration": 2260,
    "start_time": "2021-12-03T08:54:42.520Z"
   },
   {
    "duration": 2256,
    "start_time": "2021-12-03T08:54:42.525Z"
   },
   {
    "duration": 2253,
    "start_time": "2021-12-03T08:54:42.529Z"
   },
   {
    "duration": 2249,
    "start_time": "2021-12-03T08:54:42.534Z"
   },
   {
    "duration": 2245,
    "start_time": "2021-12-03T08:54:42.539Z"
   },
   {
    "duration": 6,
    "start_time": "2021-12-03T08:56:52.536Z"
   },
   {
    "duration": 9,
    "start_time": "2021-12-03T08:57:24.508Z"
   },
   {
    "duration": 34,
    "start_time": "2021-12-03T09:01:24.362Z"
   },
   {
    "duration": 189,
    "start_time": "2021-12-03T09:02:10.258Z"
   },
   {
    "duration": 31,
    "start_time": "2021-12-03T09:02:13.312Z"
   },
   {
    "duration": 15,
    "start_time": "2021-12-03T09:06:56.845Z"
   },
   {
    "duration": 30,
    "start_time": "2021-12-03T09:14:27.887Z"
   },
   {
    "duration": 2015,
    "start_time": "2021-12-03T10:39:01.473Z"
   },
   {
    "duration": 10,
    "start_time": "2021-12-03T10:39:03.490Z"
   },
   {
    "duration": 33,
    "start_time": "2021-12-03T10:39:03.502Z"
   },
   {
    "duration": 8,
    "start_time": "2021-12-03T10:39:03.537Z"
   },
   {
    "duration": 61,
    "start_time": "2021-12-03T10:39:03.547Z"
   },
   {
    "duration": 3,
    "start_time": "2021-12-03T10:39:03.610Z"
   },
   {
    "duration": 18,
    "start_time": "2021-12-03T10:39:03.615Z"
   },
   {
    "duration": 11,
    "start_time": "2021-12-03T10:39:03.635Z"
   },
   {
    "duration": 12,
    "start_time": "2021-12-03T10:39:03.650Z"
   },
   {
    "duration": 4,
    "start_time": "2021-12-03T10:39:03.692Z"
   },
   {
    "duration": 23,
    "start_time": "2021-12-03T10:39:03.698Z"
   },
   {
    "duration": 32,
    "start_time": "2021-12-03T10:39:03.723Z"
   },
   {
    "duration": 27,
    "start_time": "2021-12-03T10:39:03.757Z"
   },
   {
    "duration": 17,
    "start_time": "2021-12-03T10:39:03.785Z"
   },
   {
    "duration": 20,
    "start_time": "2021-12-03T10:39:03.804Z"
   },
   {
    "duration": 3,
    "start_time": "2021-12-03T10:39:03.826Z"
   },
   {
    "duration": 26,
    "start_time": "2021-12-03T10:39:03.830Z"
   },
   {
    "duration": 3504,
    "start_time": "2021-12-03T10:39:03.858Z"
   },
   {
    "duration": 33,
    "start_time": "2021-12-03T10:39:07.364Z"
   },
   {
    "duration": 74,
    "start_time": "2021-12-03T10:39:07.399Z"
   },
   {
    "duration": 25,
    "start_time": "2021-12-03T10:39:07.475Z"
   },
   {
    "duration": 294,
    "start_time": "2021-12-03T10:39:07.502Z"
   },
   {
    "duration": 2506,
    "start_time": "2021-12-03T10:39:05.293Z"
   },
   {
    "duration": 2502,
    "start_time": "2021-12-03T10:39:05.299Z"
   },
   {
    "duration": 2497,
    "start_time": "2021-12-03T10:39:05.305Z"
   },
   {
    "duration": 2440,
    "start_time": "2021-12-03T10:39:05.363Z"
   },
   {
    "duration": 2423,
    "start_time": "2021-12-03T10:39:05.382Z"
   },
   {
    "duration": 2417,
    "start_time": "2021-12-03T10:39:05.389Z"
   },
   {
    "duration": 2414,
    "start_time": "2021-12-03T10:39:05.393Z"
   },
   {
    "duration": 69,
    "start_time": "2021-12-03T10:48:52.812Z"
   },
   {
    "duration": 74,
    "start_time": "2021-12-03T10:49:07.146Z"
   },
   {
    "duration": 13,
    "start_time": "2021-12-03T10:49:12.824Z"
   },
   {
    "duration": 96,
    "start_time": "2021-12-03T10:50:04.102Z"
   },
   {
    "duration": 7,
    "start_time": "2021-12-03T10:50:09.698Z"
   },
   {
    "duration": 5,
    "start_time": "2021-12-03T10:50:47.625Z"
   },
   {
    "duration": 6,
    "start_time": "2021-12-03T10:50:58.019Z"
   },
   {
    "duration": 68,
    "start_time": "2021-12-03T10:52:33.672Z"
   },
   {
    "duration": 191,
    "start_time": "2021-12-03T10:52:40.465Z"
   },
   {
    "duration": 70,
    "start_time": "2021-12-03T10:53:08.891Z"
   },
   {
    "duration": 201,
    "start_time": "2021-12-03T10:53:14.648Z"
   },
   {
    "duration": 187,
    "start_time": "2021-12-03T10:53:24.664Z"
   },
   {
    "duration": 186,
    "start_time": "2021-12-03T10:53:38.953Z"
   },
   {
    "duration": 215,
    "start_time": "2021-12-03T10:53:49.883Z"
   },
   {
    "duration": 192,
    "start_time": "2021-12-03T10:57:25.148Z"
   },
   {
    "duration": 218,
    "start_time": "2021-12-03T10:57:45.016Z"
   },
   {
    "duration": 211,
    "start_time": "2021-12-03T10:57:59.015Z"
   },
   {
    "duration": 185,
    "start_time": "2021-12-03T10:58:14.126Z"
   },
   {
    "duration": 9,
    "start_time": "2021-12-03T11:08:09.858Z"
   },
   {
    "duration": 6,
    "start_time": "2021-12-03T11:10:10.614Z"
   },
   {
    "duration": 6,
    "start_time": "2021-12-03T11:10:38.961Z"
   },
   {
    "duration": 7,
    "start_time": "2021-12-03T11:10:46.720Z"
   },
   {
    "duration": 1311,
    "start_time": "2021-12-03T11:12:43.955Z"
   },
   {
    "duration": 10,
    "start_time": "2021-12-03T11:12:45.268Z"
   },
   {
    "duration": 44,
    "start_time": "2021-12-03T11:12:45.280Z"
   },
   {
    "duration": 22,
    "start_time": "2021-12-03T11:12:45.326Z"
   },
   {
    "duration": 54,
    "start_time": "2021-12-03T11:12:45.349Z"
   },
   {
    "duration": 3,
    "start_time": "2021-12-03T11:12:45.405Z"
   },
   {
    "duration": 29,
    "start_time": "2021-12-03T11:12:45.409Z"
   },
   {
    "duration": 16,
    "start_time": "2021-12-03T11:12:45.441Z"
   },
   {
    "duration": 23,
    "start_time": "2021-12-03T11:12:45.458Z"
   },
   {
    "duration": 12,
    "start_time": "2021-12-03T11:12:45.482Z"
   },
   {
    "duration": 26,
    "start_time": "2021-12-03T11:12:45.496Z"
   },
   {
    "duration": 43,
    "start_time": "2021-12-03T11:12:45.523Z"
   },
   {
    "duration": 34,
    "start_time": "2021-12-03T11:12:45.568Z"
   },
   {
    "duration": 20,
    "start_time": "2021-12-03T11:12:45.604Z"
   },
   {
    "duration": 42,
    "start_time": "2021-12-03T11:12:45.625Z"
   },
   {
    "duration": 10,
    "start_time": "2021-12-03T11:12:45.669Z"
   },
   {
    "duration": 37,
    "start_time": "2021-12-03T11:12:45.681Z"
   },
   {
    "duration": 3495,
    "start_time": "2021-12-03T11:12:45.719Z"
   },
   {
    "duration": 22,
    "start_time": "2021-12-03T11:12:49.216Z"
   },
   {
    "duration": 7,
    "start_time": "2021-12-03T11:12:49.240Z"
   },
   {
    "duration": 20,
    "start_time": "2021-12-03T11:12:49.249Z"
   },
   {
    "duration": 319,
    "start_time": "2021-12-03T11:12:49.270Z"
   },
   {
    "duration": 2572,
    "start_time": "2021-12-03T11:12:47.019Z"
   },
   {
    "duration": 2567,
    "start_time": "2021-12-03T11:12:47.025Z"
   },
   {
    "duration": 2560,
    "start_time": "2021-12-03T11:12:47.033Z"
   },
   {
    "duration": 2547,
    "start_time": "2021-12-03T11:12:47.047Z"
   },
   {
    "duration": 2542,
    "start_time": "2021-12-03T11:12:47.053Z"
   },
   {
    "duration": 2536,
    "start_time": "2021-12-03T11:12:47.060Z"
   },
   {
    "duration": 2529,
    "start_time": "2021-12-03T11:12:47.067Z"
   },
   {
    "duration": 226,
    "start_time": "2021-12-03T11:18:58.806Z"
   },
   {
    "duration": 1350,
    "start_time": "2021-12-03T11:19:08.483Z"
   },
   {
    "duration": 10,
    "start_time": "2021-12-03T11:19:09.835Z"
   },
   {
    "duration": 45,
    "start_time": "2021-12-03T11:19:09.847Z"
   },
   {
    "duration": 9,
    "start_time": "2021-12-03T11:19:09.894Z"
   },
   {
    "duration": 39,
    "start_time": "2021-12-03T11:19:09.904Z"
   },
   {
    "duration": 3,
    "start_time": "2021-12-03T11:19:09.944Z"
   },
   {
    "duration": 20,
    "start_time": "2021-12-03T11:19:09.949Z"
   },
   {
    "duration": 9,
    "start_time": "2021-12-03T11:19:09.992Z"
   },
   {
    "duration": 14,
    "start_time": "2021-12-03T11:19:10.003Z"
   },
   {
    "duration": 8,
    "start_time": "2021-12-03T11:19:10.020Z"
   },
   {
    "duration": 27,
    "start_time": "2021-12-03T11:19:10.030Z"
   },
   {
    "duration": 40,
    "start_time": "2021-12-03T11:19:10.059Z"
   },
   {
    "duration": 19,
    "start_time": "2021-12-03T11:19:10.101Z"
   },
   {
    "duration": 17,
    "start_time": "2021-12-03T11:19:10.122Z"
   },
   {
    "duration": 21,
    "start_time": "2021-12-03T11:19:10.141Z"
   },
   {
    "duration": 2,
    "start_time": "2021-12-03T11:19:10.164Z"
   },
   {
    "duration": 28,
    "start_time": "2021-12-03T11:19:10.168Z"
   },
   {
    "duration": 3273,
    "start_time": "2021-12-03T11:19:10.197Z"
   },
   {
    "duration": 37,
    "start_time": "2021-12-03T11:19:13.473Z"
   },
   {
    "duration": 13,
    "start_time": "2021-12-03T11:19:13.512Z"
   },
   {
    "duration": 23,
    "start_time": "2021-12-03T11:19:13.526Z"
   },
   {
    "duration": 331,
    "start_time": "2021-12-03T11:19:13.551Z"
   },
   {
    "duration": 2539,
    "start_time": "2021-12-03T11:19:11.345Z"
   },
   {
    "duration": 2534,
    "start_time": "2021-12-03T11:19:11.351Z"
   },
   {
    "duration": 2524,
    "start_time": "2021-12-03T11:19:11.362Z"
   },
   {
    "duration": 2519,
    "start_time": "2021-12-03T11:19:11.368Z"
   },
   {
    "duration": 2511,
    "start_time": "2021-12-03T11:19:11.377Z"
   },
   {
    "duration": 2501,
    "start_time": "2021-12-03T11:19:11.387Z"
   },
   {
    "duration": 2493,
    "start_time": "2021-12-03T11:19:11.396Z"
   },
   {
    "duration": 11,
    "start_time": "2021-12-03T11:19:58.982Z"
   },
   {
    "duration": 22,
    "start_time": "2021-12-03T11:20:06.472Z"
   },
   {
    "duration": 39,
    "start_time": "2021-12-03T11:20:17.309Z"
   },
   {
    "duration": 8,
    "start_time": "2021-12-03T11:39:42.852Z"
   },
   {
    "duration": 10,
    "start_time": "2021-12-03T11:48:52.774Z"
   },
   {
    "duration": 243,
    "start_time": "2021-12-03T11:50:57.412Z"
   },
   {
    "duration": 1427,
    "start_time": "2021-12-03T11:51:06.018Z"
   },
   {
    "duration": 11,
    "start_time": "2021-12-03T11:51:07.448Z"
   },
   {
    "duration": 64,
    "start_time": "2021-12-03T11:51:07.462Z"
   },
   {
    "duration": 10,
    "start_time": "2021-12-03T11:51:07.528Z"
   },
   {
    "duration": 53,
    "start_time": "2021-12-03T11:51:07.540Z"
   },
   {
    "duration": 5,
    "start_time": "2021-12-03T11:51:07.596Z"
   },
   {
    "duration": 23,
    "start_time": "2021-12-03T11:51:07.604Z"
   },
   {
    "duration": 11,
    "start_time": "2021-12-03T11:51:07.628Z"
   },
   {
    "duration": 24,
    "start_time": "2021-12-03T11:51:07.641Z"
   },
   {
    "duration": 5,
    "start_time": "2021-12-03T11:51:07.667Z"
   },
   {
    "duration": 23,
    "start_time": "2021-12-03T11:51:07.692Z"
   },
   {
    "duration": 27,
    "start_time": "2021-12-03T11:51:07.719Z"
   },
   {
    "duration": 46,
    "start_time": "2021-12-03T11:51:07.748Z"
   },
   {
    "duration": 28,
    "start_time": "2021-12-03T11:51:07.796Z"
   },
   {
    "duration": 16,
    "start_time": "2021-12-03T11:51:07.825Z"
   },
   {
    "duration": 2,
    "start_time": "2021-12-03T11:51:07.843Z"
   },
   {
    "duration": 8,
    "start_time": "2021-12-03T11:51:07.847Z"
   },
   {
    "duration": 3986,
    "start_time": "2021-12-03T11:51:07.892Z"
   },
   {
    "duration": 36,
    "start_time": "2021-12-03T11:51:11.880Z"
   },
   {
    "duration": 13,
    "start_time": "2021-12-03T11:51:11.918Z"
   },
   {
    "duration": 18,
    "start_time": "2021-12-03T11:51:11.933Z"
   },
   {
    "duration": 13,
    "start_time": "2021-12-03T11:51:11.953Z"
   },
   {
    "duration": 22,
    "start_time": "2021-12-03T11:51:11.968Z"
   },
   {
    "duration": 34,
    "start_time": "2021-12-03T11:51:11.993Z"
   },
   {
    "duration": 35,
    "start_time": "2021-12-03T11:51:12.029Z"
   },
   {
    "duration": 75,
    "start_time": "2021-12-03T11:51:12.066Z"
   },
   {
    "duration": 23,
    "start_time": "2021-12-03T11:51:12.144Z"
   },
   {
    "duration": 57,
    "start_time": "2021-12-03T11:51:12.169Z"
   },
   {
    "duration": 29,
    "start_time": "2021-12-03T11:51:12.228Z"
   },
   {
    "duration": 10,
    "start_time": "2021-12-03T11:56:37.582Z"
   },
   {
    "duration": 1431,
    "start_time": "2021-12-03T11:57:56.457Z"
   },
   {
    "duration": 24,
    "start_time": "2021-12-03T11:57:57.890Z"
   },
   {
    "duration": 32,
    "start_time": "2021-12-03T11:57:57.916Z"
   },
   {
    "duration": 8,
    "start_time": "2021-12-03T11:57:57.950Z"
   },
   {
    "duration": 75,
    "start_time": "2021-12-03T11:57:57.960Z"
   },
   {
    "duration": 4,
    "start_time": "2021-12-03T11:57:58.036Z"
   },
   {
    "duration": 19,
    "start_time": "2021-12-03T11:57:58.042Z"
   },
   {
    "duration": 11,
    "start_time": "2021-12-03T11:57:58.063Z"
   },
   {
    "duration": 23,
    "start_time": "2021-12-03T11:57:58.094Z"
   },
   {
    "duration": 9,
    "start_time": "2021-12-03T11:57:58.119Z"
   },
   {
    "duration": 6,
    "start_time": "2021-12-03T11:57:58.130Z"
   },
   {
    "duration": 28,
    "start_time": "2021-12-03T11:57:58.138Z"
   },
   {
    "duration": 58,
    "start_time": "2021-12-03T11:57:58.168Z"
   },
   {
    "duration": 17,
    "start_time": "2021-12-03T11:57:58.228Z"
   },
   {
    "duration": 17,
    "start_time": "2021-12-03T11:57:58.246Z"
   },
   {
    "duration": 36,
    "start_time": "2021-12-03T11:57:58.264Z"
   },
   {
    "duration": 2,
    "start_time": "2021-12-03T11:57:58.302Z"
   },
   {
    "duration": 9,
    "start_time": "2021-12-03T11:57:58.308Z"
   },
   {
    "duration": 3852,
    "start_time": "2021-12-03T11:57:58.319Z"
   },
   {
    "duration": 40,
    "start_time": "2021-12-03T11:58:02.172Z"
   },
   {
    "duration": 15,
    "start_time": "2021-12-03T11:58:02.214Z"
   },
   {
    "duration": 38,
    "start_time": "2021-12-03T11:58:02.231Z"
   },
   {
    "duration": 24,
    "start_time": "2021-12-03T11:58:02.271Z"
   },
   {
    "duration": 21,
    "start_time": "2021-12-03T11:58:02.298Z"
   },
   {
    "duration": 23,
    "start_time": "2021-12-03T11:58:02.321Z"
   },
   {
    "duration": 75,
    "start_time": "2021-12-03T11:58:02.346Z"
   },
   {
    "duration": 40,
    "start_time": "2021-12-03T11:58:02.425Z"
   },
   {
    "duration": 47,
    "start_time": "2021-12-03T11:58:02.467Z"
   },
   {
    "duration": 25,
    "start_time": "2021-12-03T11:58:02.518Z"
   },
   {
    "duration": 55,
    "start_time": "2021-12-03T11:58:02.545Z"
   },
   {
    "duration": 1446,
    "start_time": "2021-12-03T21:09:05.926Z"
   },
   {
    "duration": 11,
    "start_time": "2021-12-03T21:09:07.373Z"
   },
   {
    "duration": 40,
    "start_time": "2021-12-03T21:09:07.386Z"
   },
   {
    "duration": 9,
    "start_time": "2021-12-03T21:09:07.427Z"
   },
   {
    "duration": 53,
    "start_time": "2021-12-03T21:09:07.438Z"
   },
   {
    "duration": 3,
    "start_time": "2021-12-03T21:09:07.493Z"
   },
   {
    "duration": 27,
    "start_time": "2021-12-03T21:09:07.497Z"
   },
   {
    "duration": 22,
    "start_time": "2021-12-03T21:09:40.360Z"
   },
   {
    "duration": 11,
    "start_time": "2021-12-03T21:13:05.792Z"
   },
   {
    "duration": 22,
    "start_time": "2021-12-03T21:16:33.005Z"
   },
   {
    "duration": 6,
    "start_time": "2021-12-03T21:16:57.617Z"
   },
   {
    "duration": 6,
    "start_time": "2021-12-03T21:19:15.466Z"
   },
   {
    "duration": 13,
    "start_time": "2021-12-03T21:25:00.924Z"
   },
   {
    "duration": 8,
    "start_time": "2021-12-03T21:29:20.662Z"
   },
   {
    "duration": 7,
    "start_time": "2021-12-03T21:29:48.961Z"
   },
   {
    "duration": 338,
    "start_time": "2021-12-03T21:29:56.825Z"
   },
   {
    "duration": 292,
    "start_time": "2021-12-03T21:31:22.642Z"
   },
   {
    "duration": 295,
    "start_time": "2021-12-03T21:31:30.637Z"
   },
   {
    "duration": 6,
    "start_time": "2021-12-03T21:33:00.484Z"
   },
   {
    "duration": 7,
    "start_time": "2021-12-03T21:33:09.251Z"
   },
   {
    "duration": 611,
    "start_time": "2021-12-03T21:35:03.548Z"
   },
   {
    "duration": 8,
    "start_time": "2021-12-03T21:35:34.258Z"
   },
   {
    "duration": 20,
    "start_time": "2021-12-03T21:37:24.983Z"
   },
   {
    "duration": 7660,
    "start_time": "2021-12-03T21:37:42.366Z"
   },
   {
    "duration": 7,
    "start_time": "2021-12-03T21:37:50.822Z"
   },
   {
    "duration": 4,
    "start_time": "2021-12-03T21:38:00.132Z"
   },
   {
    "duration": 242,
    "start_time": "2021-12-03T21:38:07.674Z"
   },
   {
    "duration": 4,
    "start_time": "2021-12-03T21:38:18.854Z"
   },
   {
    "duration": 3,
    "start_time": "2021-12-03T21:38:43.879Z"
   },
   {
    "duration": 5,
    "start_time": "2021-12-03T21:41:09.551Z"
   },
   {
    "duration": 14,
    "start_time": "2021-12-03T21:41:13.067Z"
   },
   {
    "duration": 27,
    "start_time": "2021-12-03T21:41:14.880Z"
   },
   {
    "duration": 19,
    "start_time": "2021-12-03T21:41:19.694Z"
   },
   {
    "duration": 25,
    "start_time": "2021-12-03T21:41:22.943Z"
   },
   {
    "duration": 16,
    "start_time": "2021-12-03T21:41:24.343Z"
   },
   {
    "duration": 16,
    "start_time": "2021-12-03T21:51:33.268Z"
   },
   {
    "duration": 6,
    "start_time": "2021-12-03T21:53:58.624Z"
   },
   {
    "duration": 3773,
    "start_time": "2021-12-03T21:54:48.705Z"
   },
   {
    "duration": 29,
    "start_time": "2021-12-03T21:54:57.796Z"
   },
   {
    "duration": 272,
    "start_time": "2021-12-03T21:56:28.293Z"
   },
   {
    "duration": 8,
    "start_time": "2021-12-03T21:56:39.797Z"
   },
   {
    "duration": 297,
    "start_time": "2021-12-03T21:56:50.921Z"
   },
   {
    "duration": 252,
    "start_time": "2021-12-03T21:57:27.137Z"
   },
   {
    "duration": 1984,
    "start_time": "2021-12-03T21:58:49.952Z"
   },
   {
    "duration": 6,
    "start_time": "2021-12-03T21:59:15.806Z"
   },
   {
    "duration": 280,
    "start_time": "2021-12-03T21:59:22.377Z"
   },
   {
    "duration": 5,
    "start_time": "2021-12-03T21:59:24.461Z"
   },
   {
    "duration": 5,
    "start_time": "2021-12-03T21:59:55.922Z"
   },
   {
    "duration": 4,
    "start_time": "2021-12-03T22:00:03.680Z"
   },
   {
    "duration": 10,
    "start_time": "2021-12-03T22:00:19.228Z"
   },
   {
    "duration": 8,
    "start_time": "2021-12-03T22:01:05.524Z"
   },
   {
    "duration": 4,
    "start_time": "2021-12-03T22:02:17.722Z"
   },
   {
    "duration": 4,
    "start_time": "2021-12-03T22:02:27.567Z"
   },
   {
    "duration": 6,
    "start_time": "2021-12-03T22:02:52.926Z"
   },
   {
    "duration": 81,
    "start_time": "2021-12-03T22:05:51.000Z"
   },
   {
    "duration": 79,
    "start_time": "2021-12-03T22:06:01.716Z"
   },
   {
    "duration": 250,
    "start_time": "2021-12-03T22:07:19.143Z"
   },
   {
    "duration": 5,
    "start_time": "2021-12-03T22:14:52.729Z"
   },
   {
    "duration": 3,
    "start_time": "2021-12-03T22:14:59.790Z"
   },
   {
    "duration": 4,
    "start_time": "2021-12-03T22:15:04.702Z"
   },
   {
    "duration": 11,
    "start_time": "2021-12-03T22:15:24.742Z"
   },
   {
    "duration": 5,
    "start_time": "2021-12-03T22:18:41.469Z"
   },
   {
    "duration": 16,
    "start_time": "2021-12-03T22:22:27.276Z"
   },
   {
    "duration": 4,
    "start_time": "2021-12-03T22:22:38.950Z"
   },
   {
    "duration": 277,
    "start_time": "2021-12-03T22:22:50.905Z"
   },
   {
    "duration": 5,
    "start_time": "2021-12-03T22:23:10.036Z"
   },
   {
    "duration": 82,
    "start_time": "2021-12-03T22:23:19.060Z"
   },
   {
    "duration": 261,
    "start_time": "2021-12-03T22:23:28.842Z"
   },
   {
    "duration": 5573,
    "start_time": "2021-12-03T22:23:41.791Z"
   },
   {
    "duration": 5451,
    "start_time": "2021-12-03T22:23:59.758Z"
   },
   {
    "duration": 10612,
    "start_time": "2021-12-03T22:24:43.073Z"
   },
   {
    "duration": 5309,
    "start_time": "2021-12-03T22:24:55.761Z"
   },
   {
    "duration": 246,
    "start_time": "2021-12-03T22:30:16.772Z"
   },
   {
    "duration": 248,
    "start_time": "2021-12-03T22:30:21.914Z"
   },
   {
    "duration": 3,
    "start_time": "2021-12-03T22:31:48.355Z"
   },
   {
    "duration": 3,
    "start_time": "2021-12-03T22:31:55.562Z"
   },
   {
    "duration": 4,
    "start_time": "2021-12-03T22:32:02.761Z"
   },
   {
    "duration": 18,
    "start_time": "2021-12-03T22:36:25.136Z"
   },
   {
    "duration": 10,
    "start_time": "2021-12-03T22:39:01.652Z"
   },
   {
    "duration": 18,
    "start_time": "2021-12-03T22:40:00.535Z"
   },
   {
    "duration": 24,
    "start_time": "2021-12-03T22:42:46.221Z"
   },
   {
    "duration": 48,
    "start_time": "2021-12-03T22:45:30.823Z"
   },
   {
    "duration": 60,
    "start_time": "2021-12-03T22:47:29.953Z"
   },
   {
    "duration": 4,
    "start_time": "2021-12-03T22:51:13.250Z"
   },
   {
    "duration": 4,
    "start_time": "2021-12-03T22:51:34.423Z"
   },
   {
    "duration": 4,
    "start_time": "2021-12-03T22:53:00.073Z"
   },
   {
    "duration": 5,
    "start_time": "2021-12-03T22:53:12.658Z"
   },
   {
    "duration": 4,
    "start_time": "2021-12-03T22:53:36.530Z"
   },
   {
    "duration": 5,
    "start_time": "2021-12-03T22:53:44.904Z"
   },
   {
    "duration": 4,
    "start_time": "2021-12-03T23:13:46.320Z"
   },
   {
    "duration": 1658,
    "start_time": "2021-12-03T23:17:15.184Z"
   },
   {
    "duration": 8,
    "start_time": "2021-12-03T23:17:24.775Z"
   },
   {
    "duration": 6,
    "start_time": "2021-12-03T23:20:04.432Z"
   },
   {
    "duration": 4,
    "start_time": "2021-12-03T23:23:02.579Z"
   },
   {
    "duration": 4,
    "start_time": "2021-12-03T23:23:08.027Z"
   },
   {
    "duration": 7,
    "start_time": "2021-12-03T23:23:28.864Z"
   },
   {
    "duration": 7,
    "start_time": "2021-12-03T23:23:32.741Z"
   },
   {
    "duration": 14,
    "start_time": "2021-12-04T00:47:10.799Z"
   },
   {
    "duration": 24,
    "start_time": "2021-12-04T00:47:31.597Z"
   },
   {
    "duration": 1430,
    "start_time": "2021-12-04T00:50:58.719Z"
   },
   {
    "duration": 10,
    "start_time": "2021-12-04T00:51:00.151Z"
   },
   {
    "duration": 46,
    "start_time": "2021-12-04T00:51:00.163Z"
   },
   {
    "duration": 9,
    "start_time": "2021-12-04T00:51:00.211Z"
   },
   {
    "duration": 47,
    "start_time": "2021-12-04T00:51:00.222Z"
   },
   {
    "duration": 4,
    "start_time": "2021-12-04T00:51:00.271Z"
   },
   {
    "duration": 36,
    "start_time": "2021-12-04T00:51:00.277Z"
   },
   {
    "duration": 11,
    "start_time": "2021-12-04T00:51:00.316Z"
   },
   {
    "duration": 20,
    "start_time": "2021-12-04T00:51:00.330Z"
   },
   {
    "duration": 18,
    "start_time": "2021-12-04T00:51:00.352Z"
   },
   {
    "duration": 9,
    "start_time": "2021-12-04T00:51:00.372Z"
   },
   {
    "duration": 15,
    "start_time": "2021-12-04T00:51:00.383Z"
   },
   {
    "duration": 35,
    "start_time": "2021-12-04T00:51:00.400Z"
   },
   {
    "duration": 17,
    "start_time": "2021-12-04T00:51:00.437Z"
   },
   {
    "duration": 18,
    "start_time": "2021-12-04T00:51:00.464Z"
   },
   {
    "duration": 16,
    "start_time": "2021-12-04T00:51:00.484Z"
   },
   {
    "duration": 2,
    "start_time": "2021-12-04T00:51:00.502Z"
   },
   {
    "duration": 24,
    "start_time": "2021-12-04T00:51:00.506Z"
   },
   {
    "duration": 3356,
    "start_time": "2021-12-04T00:51:00.532Z"
   },
   {
    "duration": 19,
    "start_time": "2021-12-04T00:51:03.890Z"
   },
   {
    "duration": 18,
    "start_time": "2021-12-04T00:51:03.911Z"
   },
   {
    "duration": 32,
    "start_time": "2021-12-04T00:51:03.931Z"
   },
   {
    "duration": 17,
    "start_time": "2021-12-04T00:51:03.967Z"
   },
   {
    "duration": 26,
    "start_time": "2021-12-04T00:51:03.986Z"
   },
   {
    "duration": 37,
    "start_time": "2021-12-04T00:51:04.014Z"
   },
   {
    "duration": 37,
    "start_time": "2021-12-04T00:51:04.053Z"
   },
   {
    "duration": 36,
    "start_time": "2021-12-04T00:51:04.092Z"
   },
   {
    "duration": 35,
    "start_time": "2021-12-04T00:51:04.130Z"
   },
   {
    "duration": 25,
    "start_time": "2021-12-04T00:51:04.168Z"
   },
   {
    "duration": 53,
    "start_time": "2021-12-04T00:51:04.195Z"
   },
   {
    "duration": 1429,
    "start_time": "2021-12-04T01:03:46.883Z"
   },
   {
    "duration": 11,
    "start_time": "2021-12-04T01:03:48.314Z"
   },
   {
    "duration": 48,
    "start_time": "2021-12-04T01:03:48.330Z"
   },
   {
    "duration": 10,
    "start_time": "2021-12-04T01:03:48.379Z"
   },
   {
    "duration": 58,
    "start_time": "2021-12-04T01:03:48.390Z"
   },
   {
    "duration": 5,
    "start_time": "2021-12-04T01:03:48.463Z"
   },
   {
    "duration": 32,
    "start_time": "2021-12-04T01:03:48.471Z"
   },
   {
    "duration": 14,
    "start_time": "2021-12-04T01:03:48.506Z"
   },
   {
    "duration": 14,
    "start_time": "2021-12-04T01:03:48.521Z"
   },
   {
    "duration": 34,
    "start_time": "2021-12-04T01:03:48.536Z"
   },
   {
    "duration": 5,
    "start_time": "2021-12-04T01:03:48.571Z"
   },
   {
    "duration": 12,
    "start_time": "2021-12-04T01:03:48.578Z"
   },
   {
    "duration": 29,
    "start_time": "2021-12-04T01:03:48.592Z"
   },
   {
    "duration": 46,
    "start_time": "2021-12-04T01:03:48.623Z"
   },
   {
    "duration": 19,
    "start_time": "2021-12-04T01:03:48.671Z"
   },
   {
    "duration": 15,
    "start_time": "2021-12-04T01:03:48.692Z"
   },
   {
    "duration": 3,
    "start_time": "2021-12-04T01:03:48.708Z"
   },
   {
    "duration": 8,
    "start_time": "2021-12-04T01:03:48.712Z"
   },
   {
    "duration": 4070,
    "start_time": "2021-12-04T01:03:48.722Z"
   },
   {
    "duration": 21,
    "start_time": "2021-12-04T01:03:52.794Z"
   },
   {
    "duration": 17,
    "start_time": "2021-12-04T01:03:52.817Z"
   },
   {
    "duration": 42,
    "start_time": "2021-12-04T01:03:52.837Z"
   },
   {
    "duration": 15,
    "start_time": "2021-12-04T01:03:52.881Z"
   },
   {
    "duration": 31,
    "start_time": "2021-12-04T01:03:52.897Z"
   },
   {
    "duration": 34,
    "start_time": "2021-12-04T01:03:52.930Z"
   },
   {
    "duration": 36,
    "start_time": "2021-12-04T01:03:52.965Z"
   },
   {
    "duration": 37,
    "start_time": "2021-12-04T01:03:53.003Z"
   },
   {
    "duration": 25,
    "start_time": "2021-12-04T01:03:53.063Z"
   },
   {
    "duration": 30,
    "start_time": "2021-12-04T01:03:53.090Z"
   },
   {
    "duration": 26,
    "start_time": "2021-12-04T01:03:53.122Z"
   },
   {
    "duration": 2003,
    "start_time": "2021-12-04T12:00:16.720Z"
   },
   {
    "duration": 33,
    "start_time": "2021-12-04T12:00:18.727Z"
   },
   {
    "duration": 50,
    "start_time": "2021-12-04T12:00:18.764Z"
   },
   {
    "duration": 13,
    "start_time": "2021-12-04T12:00:18.818Z"
   },
   {
    "duration": 61,
    "start_time": "2021-12-04T12:00:18.860Z"
   },
   {
    "duration": 7,
    "start_time": "2021-12-04T12:00:18.924Z"
   },
   {
    "duration": 45,
    "start_time": "2021-12-04T12:00:18.933Z"
   },
   {
    "duration": 14,
    "start_time": "2021-12-04T12:00:18.981Z"
   },
   {
    "duration": 17,
    "start_time": "2021-12-04T12:00:18.999Z"
   },
   {
    "duration": 48,
    "start_time": "2021-12-04T12:00:19.019Z"
   },
   {
    "duration": 8,
    "start_time": "2021-12-04T12:00:19.069Z"
   },
   {
    "duration": 21,
    "start_time": "2021-12-04T12:00:19.079Z"
   },
   {
    "duration": 59,
    "start_time": "2021-12-04T12:00:19.102Z"
   },
   {
    "duration": 24,
    "start_time": "2021-12-04T12:00:19.163Z"
   },
   {
    "duration": 27,
    "start_time": "2021-12-04T12:00:19.190Z"
   },
   {
    "duration": 53,
    "start_time": "2021-12-04T12:00:19.219Z"
   },
   {
    "duration": 8,
    "start_time": "2021-12-04T12:00:19.275Z"
   },
   {
    "duration": 4725,
    "start_time": "2021-12-04T12:00:19.285Z"
   },
   {
    "duration": 51,
    "start_time": "2021-12-04T12:00:24.013Z"
   },
   {
    "duration": 12,
    "start_time": "2021-12-04T12:00:24.067Z"
   },
   {
    "duration": 42,
    "start_time": "2021-12-04T12:00:24.083Z"
   },
   {
    "duration": 30,
    "start_time": "2021-12-04T12:00:24.128Z"
   },
   {
    "duration": 21,
    "start_time": "2021-12-04T12:00:24.160Z"
   },
   {
    "duration": 56,
    "start_time": "2021-12-04T12:00:24.183Z"
   },
   {
    "duration": 51,
    "start_time": "2021-12-04T12:00:24.241Z"
   },
   {
    "duration": 74,
    "start_time": "2021-12-04T12:00:24.295Z"
   },
   {
    "duration": 37,
    "start_time": "2021-12-04T12:00:24.376Z"
   },
   {
    "duration": 67,
    "start_time": "2021-12-04T12:00:24.415Z"
   },
   {
    "duration": 46,
    "start_time": "2021-12-04T12:00:24.484Z"
   },
   {
    "duration": 2437,
    "start_time": "2021-12-04T12:47:56.097Z"
   },
   {
    "duration": 26,
    "start_time": "2021-12-04T12:47:58.536Z"
   },
   {
    "duration": 46,
    "start_time": "2021-12-04T12:47:58.564Z"
   },
   {
    "duration": 14,
    "start_time": "2021-12-04T12:47:58.613Z"
   },
   {
    "duration": 88,
    "start_time": "2021-12-04T12:47:58.629Z"
   },
   {
    "duration": 5,
    "start_time": "2021-12-04T12:47:58.720Z"
   },
   {
    "duration": 50,
    "start_time": "2021-12-04T12:47:58.727Z"
   },
   {
    "duration": 14,
    "start_time": "2021-12-04T12:47:58.779Z"
   },
   {
    "duration": 18,
    "start_time": "2021-12-04T12:47:58.797Z"
   },
   {
    "duration": 49,
    "start_time": "2021-12-04T12:47:58.818Z"
   },
   {
    "duration": 7,
    "start_time": "2021-12-04T12:47:58.870Z"
   },
   {
    "duration": 17,
    "start_time": "2021-12-04T12:47:58.879Z"
   },
   {
    "duration": 79,
    "start_time": "2021-12-04T12:47:58.898Z"
   },
   {
    "duration": 47,
    "start_time": "2021-12-04T12:47:58.979Z"
   },
   {
    "duration": 47,
    "start_time": "2021-12-04T12:47:59.030Z"
   },
   {
    "duration": 25,
    "start_time": "2021-12-04T12:47:59.080Z"
   },
   {
    "duration": 8,
    "start_time": "2021-12-04T12:47:59.108Z"
   },
   {
    "duration": 5386,
    "start_time": "2021-12-04T12:47:59.119Z"
   },
   {
    "duration": 51,
    "start_time": "2021-12-04T12:48:04.508Z"
   },
   {
    "duration": 7,
    "start_time": "2021-12-04T12:48:39.548Z"
   },
   {
    "duration": 452,
    "start_time": "2021-12-04T12:48:50.991Z"
   },
   {
    "duration": 6,
    "start_time": "2021-12-04T12:48:58.669Z"
   },
   {
    "duration": 8571,
    "start_time": "2021-12-04T12:50:51.913Z"
   },
   {
    "duration": 1856,
    "start_time": "2021-12-04T12:59:44.244Z"
   },
   {
    "duration": 17,
    "start_time": "2021-12-04T12:59:46.104Z"
   },
   {
    "duration": 65,
    "start_time": "2021-12-04T12:59:46.124Z"
   },
   {
    "duration": 13,
    "start_time": "2021-12-04T12:59:46.192Z"
   },
   {
    "duration": 98,
    "start_time": "2021-12-04T12:59:46.208Z"
   },
   {
    "duration": 5,
    "start_time": "2021-12-04T12:59:46.309Z"
   },
   {
    "duration": 43,
    "start_time": "2021-12-04T12:59:46.316Z"
   },
   {
    "duration": 15,
    "start_time": "2021-12-04T12:59:46.363Z"
   },
   {
    "duration": 18,
    "start_time": "2021-12-04T12:59:46.382Z"
   },
   {
    "duration": 12,
    "start_time": "2021-12-04T12:59:46.403Z"
   },
   {
    "duration": 44,
    "start_time": "2021-12-04T12:59:46.418Z"
   },
   {
    "duration": 16,
    "start_time": "2021-12-04T12:59:46.465Z"
   },
   {
    "duration": 37,
    "start_time": "2021-12-04T12:59:46.484Z"
   },
   {
    "duration": 59,
    "start_time": "2021-12-04T12:59:46.523Z"
   },
   {
    "duration": 27,
    "start_time": "2021-12-04T12:59:46.584Z"
   },
   {
    "duration": 48,
    "start_time": "2021-12-04T12:59:46.614Z"
   },
   {
    "duration": 8,
    "start_time": "2021-12-04T12:59:46.664Z"
   },
   {
    "duration": 5452,
    "start_time": "2021-12-04T12:59:46.675Z"
   },
   {
    "duration": 73,
    "start_time": "2021-12-04T12:59:52.131Z"
   },
   {
    "duration": 18,
    "start_time": "2021-12-04T12:59:52.207Z"
   },
   {
    "duration": 67,
    "start_time": "2021-12-04T12:59:52.228Z"
   },
   {
    "duration": 13,
    "start_time": "2021-12-04T12:59:52.298Z"
   },
   {
    "duration": 44,
    "start_time": "2021-12-04T12:59:52.316Z"
   },
   {
    "duration": 42,
    "start_time": "2021-12-04T12:59:52.363Z"
   },
   {
    "duration": 74,
    "start_time": "2021-12-04T12:59:52.408Z"
   },
   {
    "duration": 75,
    "start_time": "2021-12-04T12:59:52.485Z"
   },
   {
    "duration": 37,
    "start_time": "2021-12-04T12:59:52.563Z"
   },
   {
    "duration": 61,
    "start_time": "2021-12-04T12:59:52.603Z"
   },
   {
    "duration": 44,
    "start_time": "2021-12-04T12:59:52.667Z"
   }
  ],
  "kernelspec": {
   "display_name": "Python 3 (ipykernel)",
   "language": "python",
   "name": "python3"
  },
  "language_info": {
   "codemirror_mode": {
    "name": "ipython",
    "version": 3
   },
   "file_extension": ".py",
   "mimetype": "text/x-python",
   "name": "python",
   "nbconvert_exporter": "python",
   "pygments_lexer": "ipython3",
   "version": "3.9.5"
  },
  "toc": {
   "base_numbering": 1,
   "nav_menu": {},
   "number_sections": true,
   "sideBar": true,
   "skip_h1_title": true,
   "title_cell": "Table of Contents",
   "title_sidebar": "Contents",
   "toc_cell": false,
   "toc_position": {},
   "toc_section_display": true,
   "toc_window_display": false
  }
 },
 "nbformat": 4,
 "nbformat_minor": 2
}
