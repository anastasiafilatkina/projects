{
 "cells": [
  {
   "cell_type": "markdown",
   "metadata": {
    "toc": true
   },
   "source": [
    "<h1>Содержание<span class=\"tocSkip\"></span></h1>\n",
    "<div class=\"toc\"><ul class=\"toc-item\"><li><span><a href=\"#Изучение-данных-из-файла\" data-toc-modified-id=\"Изучение-данных-из-файла-1\"><span class=\"toc-item-num\">1&nbsp;&nbsp;</span>Изучение данных из файла</a></span><ul class=\"toc-item\"><li><span><a href=\"#Вывод\" data-toc-modified-id=\"Вывод-1.1\"><span class=\"toc-item-num\">1.1&nbsp;&nbsp;</span>Вывод</a></span></li></ul></li><li><span><a href=\"#Предобработка-данных\" data-toc-modified-id=\"Предобработка-данных-2\"><span class=\"toc-item-num\">2&nbsp;&nbsp;</span>Предобработка данных</a></span><ul class=\"toc-item\"><li><span><a href=\"#Заменим-названия-некоторых-столбцов\" data-toc-modified-id=\"Заменим-названия-некоторых-столбцов-2.1\"><span class=\"toc-item-num\">2.1&nbsp;&nbsp;</span>Заменим названия некоторых столбцов</a></span></li><li><span><a href=\"#Поиск-дубликатов\" data-toc-modified-id=\"Поиск-дубликатов-2.2\"><span class=\"toc-item-num\">2.2&nbsp;&nbsp;</span>Поиск дубликатов</a></span></li><li><span><a href=\"#Обработка-пропусков\" data-toc-modified-id=\"Обработка-пропусков-2.3\"><span class=\"toc-item-num\">2.3&nbsp;&nbsp;</span>Обработка пропусков</a></span></li><li><span><a href=\"#Изменение-типа-данных\" data-toc-modified-id=\"Изменение-типа-данных-2.4\"><span class=\"toc-item-num\">2.4&nbsp;&nbsp;</span>Изменение типа данных</a></span></li><li><span><a href=\"#Выводы\" data-toc-modified-id=\"Выводы-2.5\"><span class=\"toc-item-num\">2.5&nbsp;&nbsp;</span>Выводы</a></span></li></ul></li><li><span><a href=\"#Расчёты-и-добавление-результатов-в-таблицу\" data-toc-modified-id=\"Расчёты-и-добавление-результатов-в-таблицу-3\"><span class=\"toc-item-num\">3&nbsp;&nbsp;</span>Расчёты и добавление результатов в таблицу</a></span><ul class=\"toc-item\"><li><span><a href=\"#Выводы\" data-toc-modified-id=\"Выводы-3.1\"><span class=\"toc-item-num\">3.1&nbsp;&nbsp;</span>Выводы</a></span></li></ul></li><li><span><a href=\"#Исследовательский-анализ-данных\" data-toc-modified-id=\"Исследовательский-анализ-данных-4\"><span class=\"toc-item-num\">4&nbsp;&nbsp;</span>Исследовательский анализ данных</a></span><ul class=\"toc-item\"><li><span><a href=\"#Изучим-параметры:-площадь,-цена,-число-комнат,-высота-потолков.\" data-toc-modified-id=\"Изучим-параметры:-площадь,-цена,-число-комнат,-высота-потолков.-4.1\"><span class=\"toc-item-num\">4.1&nbsp;&nbsp;</span>Изучим параметры: площадь, цена, число комнат, высота потолков.</a></span><ul class=\"toc-item\"><li><span><a href=\"#Выводы\" data-toc-modified-id=\"Выводы-4.1.1\"><span class=\"toc-item-num\">4.1.1&nbsp;&nbsp;</span>Выводы</a></span></li></ul></li><li><span><a href=\"#Изучаем-время-продажи-квартиры\" data-toc-modified-id=\"Изучаем-время-продажи-квартиры-4.2\"><span class=\"toc-item-num\">4.2&nbsp;&nbsp;</span>Изучаем время продажи квартиры</a></span><ul class=\"toc-item\"><li><span><a href=\"#Выводы\" data-toc-modified-id=\"Выводы-4.2.1\"><span class=\"toc-item-num\">4.2.1&nbsp;&nbsp;</span>Выводы</a></span></li></ul></li><li><span><a href=\"#Изучаем-особенности-и-убираем-редкие-значения\" data-toc-modified-id=\"Изучаем-особенности-и-убираем-редкие-значения-4.3\"><span class=\"toc-item-num\">4.3&nbsp;&nbsp;</span>Изучаем особенности и убираем редкие значения</a></span></li><li><span><a href=\"#Изучаем,-какие-факторы-влияют-на-стоимость-квартиры\" data-toc-modified-id=\"Изучаем,-какие-факторы-влияют-на-стоимость-квартиры-4.4\"><span class=\"toc-item-num\">4.4&nbsp;&nbsp;</span>Изучаем, какие факторы влияют на стоимость квартиры</a></span></li><li><span><a href=\"#Выясняем,-какая-область-входит-в-центр-Санкт-Петербурга\" data-toc-modified-id=\"Выясняем,-какая-область-входит-в-центр-Санкт-Петербурга-4.5\"><span class=\"toc-item-num\">4.5&nbsp;&nbsp;</span>Выясняем, какая область входит в центр Санкт-Петербурга</a></span></li><li><span><a href=\"#Проанализируем-квартиры-в-центре-Санкт-Петербурга\" data-toc-modified-id=\"Проанализируем-квартиры-в-центре-Санкт-Петербурга-4.6\"><span class=\"toc-item-num\">4.6&nbsp;&nbsp;</span>Проанализируем квартиры в центре Санкт-Петербурга</a></span></li></ul></li><li><span><a href=\"#Общий-вывод\" data-toc-modified-id=\"Общий-вывод-5\"><span class=\"toc-item-num\">5&nbsp;&nbsp;</span>Общий вывод</a></span></li><li><span><a href=\"#Чек-лист-готовности-проекта\" data-toc-modified-id=\"Чек-лист-готовности-проекта-6\"><span class=\"toc-item-num\">6&nbsp;&nbsp;</span>Чек-лист готовности проекта</a></span></li></ul></div>"
   ]
  },
  {
   "cell_type": "markdown",
   "metadata": {},
   "source": [
    "# Исследование объявлений о продаже квартир\n",
    "\n",
    "В вашем распоряжении данные сервиса Яндекс.Недвижимость — архив объявлений о продаже квартир в Санкт-Петербурге и соседних населённых пунктах за несколько лет. Нужно научиться определять рыночную стоимость объектов недвижимости. Ваша задача — установить параметры. Это позволит построить автоматизированную систему: она отследит аномалии и мошенническую деятельность. \n",
    "\n",
    "По каждой квартире на продажу доступны два вида данных. Первые вписаны пользователем, вторые получены автоматически на основе картографических данных. Например, расстояние до центра, аэропорта, ближайшего парка и водоёма. \n",
    "\n",
    "# Описание данных\n",
    "\n",
    "- `airports_nearest` — расстояние до ближайшего аэропорта в метрах (м)\n",
    "- `balcony` — число балконов\n",
    "- `ceiling_height` — высота потолков (м)\n",
    "- `cityCenters_nearest` — расстояние до центра города (м)\n",
    "- `days_exposition` — сколько дней было размещено объявление (от публикации до снятия)\n",
    "- `first_day_exposition` — дата публикации\n",
    "- `floor` — этаж\n",
    "- `floors_total` — всего этажей в доме\n",
    "- `is_apartment` — апартаменты (булев тип)\n",
    "- `kitchen_area` — площадь кухни в квадратных метрах (м²)\n",
    "- `last_price` — цена на момент снятия с публикации\n",
    "- `living_area` — жилая площадь в квадратных метрах (м²)\n",
    "- `locality_name` — название населённого пункта\n",
    "- `open_plan` — свободная планировка (булев тип)\n",
    "- `parks_around3000` — число парков в радиусе 3 км\n",
    "- `parks_nearest` — расстояние до ближайшего парка (м)\n",
    "- `ponds_around3000` — число водоёмов в радиусе 3 км\n",
    "- `ponds_nearest` — расстояние до ближайшего водоёма (м)\n",
    "- `rooms` — число комнат\n",
    "- `studio` — квартира-студия (булев тип)\n",
    "- `total_area` — площадь квартиры в квадратных метрах (м²)\n",
    "- `total_images` — число фотографий квартиры в объявлении"
   ]
  },
  {
   "cell_type": "markdown",
   "metadata": {},
   "source": [
    "**Ход исследования**\n",
    "\n",
    "Данные об объектах недвижимости получены из файла `/datasets/real_estate_data.csv`. О качестве данных ничего не известно. Поэтому прежде всего понадобится обзор данных. Потребуется оценить наличие ошибок в данных и по возможности исправить самые критичные из них.\n",
    " \n",
    "Исследование пройдёт в три этапа:\n",
    " 1. Обзор данных.\n",
    " 2. Предобработка данных\n",
    " 3. Добавление в таблицу требуемых значений: \n",
    "- цена квадратного метра\n",
    "- день недели, месяц и год публикации объявления\n",
    "- этаж квартиры (первый, последний, другой)\n",
    "- соотношение жилой и общей площади\n",
    "- отношение площади кухни к общей\n",
    " 4. Проведение исследовательского анализа данных\n",
    " 5. Общий вывод по полученным данным\n",
    "\n"
   ]
  },
  {
   "cell_type": "markdown",
   "metadata": {},
   "source": [
    "## Изучение данных из файла"
   ]
  },
  {
   "cell_type": "markdown",
   "metadata": {},
   "source": [
    "Импортируем требуемые библиотеки."
   ]
  },
  {
   "cell_type": "code",
   "execution_count": 1,
   "metadata": {},
   "outputs": [],
   "source": [
    "import pandas as pd\n",
    "import numpy as np\n",
    "import matplotlib.pyplot as plt\n",
    "from datetime import datetime"
   ]
  },
  {
   "cell_type": "markdown",
   "metadata": {},
   "source": [
    "Загрузим данные и предварительно оценим их. Посмотрим типы данных, значения в таблице и определимся с возможными проблемами."
   ]
  },
  {
   "cell_type": "code",
   "execution_count": 2,
   "metadata": {
    "scrolled": true
   },
   "outputs": [
    {
     "data": {
      "text/html": [
       "<div>\n",
       "<style scoped>\n",
       "    .dataframe tbody tr th:only-of-type {\n",
       "        vertical-align: middle;\n",
       "    }\n",
       "\n",
       "    .dataframe tbody tr th {\n",
       "        vertical-align: top;\n",
       "    }\n",
       "\n",
       "    .dataframe thead th {\n",
       "        text-align: right;\n",
       "    }\n",
       "</style>\n",
       "<table border=\"1\" class=\"dataframe\">\n",
       "  <thead>\n",
       "    <tr style=\"text-align: right;\">\n",
       "      <th></th>\n",
       "      <th>total_images</th>\n",
       "      <th>last_price</th>\n",
       "      <th>total_area</th>\n",
       "      <th>first_day_exposition</th>\n",
       "      <th>rooms</th>\n",
       "      <th>ceiling_height</th>\n",
       "      <th>floors_total</th>\n",
       "      <th>living_area</th>\n",
       "      <th>floor</th>\n",
       "      <th>is_apartment</th>\n",
       "      <th>...</th>\n",
       "      <th>kitchen_area</th>\n",
       "      <th>balcony</th>\n",
       "      <th>locality_name</th>\n",
       "      <th>airports_nearest</th>\n",
       "      <th>cityCenters_nearest</th>\n",
       "      <th>parks_around3000</th>\n",
       "      <th>parks_nearest</th>\n",
       "      <th>ponds_around3000</th>\n",
       "      <th>ponds_nearest</th>\n",
       "      <th>days_exposition</th>\n",
       "    </tr>\n",
       "  </thead>\n",
       "  <tbody>\n",
       "    <tr>\n",
       "      <td>0</td>\n",
       "      <td>20</td>\n",
       "      <td>13000000.0</td>\n",
       "      <td>108.0</td>\n",
       "      <td>2019-03-07T00:00:00</td>\n",
       "      <td>3</td>\n",
       "      <td>2.7</td>\n",
       "      <td>16.0</td>\n",
       "      <td>51.0</td>\n",
       "      <td>8</td>\n",
       "      <td>NaN</td>\n",
       "      <td>...</td>\n",
       "      <td>25.0</td>\n",
       "      <td>NaN</td>\n",
       "      <td>Санкт-Петербург</td>\n",
       "      <td>18863.0</td>\n",
       "      <td>16028.0</td>\n",
       "      <td>1.0</td>\n",
       "      <td>482.0</td>\n",
       "      <td>2.0</td>\n",
       "      <td>755.0</td>\n",
       "      <td>NaN</td>\n",
       "    </tr>\n",
       "    <tr>\n",
       "      <td>1</td>\n",
       "      <td>7</td>\n",
       "      <td>3350000.0</td>\n",
       "      <td>40.4</td>\n",
       "      <td>2018-12-04T00:00:00</td>\n",
       "      <td>1</td>\n",
       "      <td>NaN</td>\n",
       "      <td>11.0</td>\n",
       "      <td>18.6</td>\n",
       "      <td>1</td>\n",
       "      <td>NaN</td>\n",
       "      <td>...</td>\n",
       "      <td>11.0</td>\n",
       "      <td>2.0</td>\n",
       "      <td>посёлок Шушары</td>\n",
       "      <td>12817.0</td>\n",
       "      <td>18603.0</td>\n",
       "      <td>0.0</td>\n",
       "      <td>NaN</td>\n",
       "      <td>0.0</td>\n",
       "      <td>NaN</td>\n",
       "      <td>81.0</td>\n",
       "    </tr>\n",
       "    <tr>\n",
       "      <td>2</td>\n",
       "      <td>10</td>\n",
       "      <td>5196000.0</td>\n",
       "      <td>56.0</td>\n",
       "      <td>2015-08-20T00:00:00</td>\n",
       "      <td>2</td>\n",
       "      <td>NaN</td>\n",
       "      <td>5.0</td>\n",
       "      <td>34.3</td>\n",
       "      <td>4</td>\n",
       "      <td>NaN</td>\n",
       "      <td>...</td>\n",
       "      <td>8.3</td>\n",
       "      <td>0.0</td>\n",
       "      <td>Санкт-Петербург</td>\n",
       "      <td>21741.0</td>\n",
       "      <td>13933.0</td>\n",
       "      <td>1.0</td>\n",
       "      <td>90.0</td>\n",
       "      <td>2.0</td>\n",
       "      <td>574.0</td>\n",
       "      <td>558.0</td>\n",
       "    </tr>\n",
       "    <tr>\n",
       "      <td>3</td>\n",
       "      <td>0</td>\n",
       "      <td>64900000.0</td>\n",
       "      <td>159.0</td>\n",
       "      <td>2015-07-24T00:00:00</td>\n",
       "      <td>3</td>\n",
       "      <td>NaN</td>\n",
       "      <td>14.0</td>\n",
       "      <td>NaN</td>\n",
       "      <td>9</td>\n",
       "      <td>NaN</td>\n",
       "      <td>...</td>\n",
       "      <td>NaN</td>\n",
       "      <td>0.0</td>\n",
       "      <td>Санкт-Петербург</td>\n",
       "      <td>28098.0</td>\n",
       "      <td>6800.0</td>\n",
       "      <td>2.0</td>\n",
       "      <td>84.0</td>\n",
       "      <td>3.0</td>\n",
       "      <td>234.0</td>\n",
       "      <td>424.0</td>\n",
       "    </tr>\n",
       "    <tr>\n",
       "      <td>4</td>\n",
       "      <td>2</td>\n",
       "      <td>10000000.0</td>\n",
       "      <td>100.0</td>\n",
       "      <td>2018-06-19T00:00:00</td>\n",
       "      <td>2</td>\n",
       "      <td>3.03</td>\n",
       "      <td>14.0</td>\n",
       "      <td>32.0</td>\n",
       "      <td>13</td>\n",
       "      <td>NaN</td>\n",
       "      <td>...</td>\n",
       "      <td>41.0</td>\n",
       "      <td>NaN</td>\n",
       "      <td>Санкт-Петербург</td>\n",
       "      <td>31856.0</td>\n",
       "      <td>8098.0</td>\n",
       "      <td>2.0</td>\n",
       "      <td>112.0</td>\n",
       "      <td>1.0</td>\n",
       "      <td>48.0</td>\n",
       "      <td>121.0</td>\n",
       "    </tr>\n",
       "    <tr>\n",
       "      <td>5</td>\n",
       "      <td>10</td>\n",
       "      <td>2890000.0</td>\n",
       "      <td>30.4</td>\n",
       "      <td>2018-09-10T00:00:00</td>\n",
       "      <td>1</td>\n",
       "      <td>NaN</td>\n",
       "      <td>12.0</td>\n",
       "      <td>14.4</td>\n",
       "      <td>5</td>\n",
       "      <td>NaN</td>\n",
       "      <td>...</td>\n",
       "      <td>9.1</td>\n",
       "      <td>NaN</td>\n",
       "      <td>городской посёлок Янино-1</td>\n",
       "      <td>NaN</td>\n",
       "      <td>NaN</td>\n",
       "      <td>NaN</td>\n",
       "      <td>NaN</td>\n",
       "      <td>NaN</td>\n",
       "      <td>NaN</td>\n",
       "      <td>55.0</td>\n",
       "    </tr>\n",
       "    <tr>\n",
       "      <td>6</td>\n",
       "      <td>6</td>\n",
       "      <td>3700000.0</td>\n",
       "      <td>37.3</td>\n",
       "      <td>2017-11-02T00:00:00</td>\n",
       "      <td>1</td>\n",
       "      <td>NaN</td>\n",
       "      <td>26.0</td>\n",
       "      <td>10.6</td>\n",
       "      <td>6</td>\n",
       "      <td>NaN</td>\n",
       "      <td>...</td>\n",
       "      <td>14.4</td>\n",
       "      <td>1.0</td>\n",
       "      <td>посёлок Парголово</td>\n",
       "      <td>52996.0</td>\n",
       "      <td>19143.0</td>\n",
       "      <td>0.0</td>\n",
       "      <td>NaN</td>\n",
       "      <td>0.0</td>\n",
       "      <td>NaN</td>\n",
       "      <td>155.0</td>\n",
       "    </tr>\n",
       "    <tr>\n",
       "      <td>7</td>\n",
       "      <td>5</td>\n",
       "      <td>7915000.0</td>\n",
       "      <td>71.6</td>\n",
       "      <td>2019-04-18T00:00:00</td>\n",
       "      <td>2</td>\n",
       "      <td>NaN</td>\n",
       "      <td>24.0</td>\n",
       "      <td>NaN</td>\n",
       "      <td>22</td>\n",
       "      <td>NaN</td>\n",
       "      <td>...</td>\n",
       "      <td>18.9</td>\n",
       "      <td>2.0</td>\n",
       "      <td>Санкт-Петербург</td>\n",
       "      <td>23982.0</td>\n",
       "      <td>11634.0</td>\n",
       "      <td>0.0</td>\n",
       "      <td>NaN</td>\n",
       "      <td>0.0</td>\n",
       "      <td>NaN</td>\n",
       "      <td>NaN</td>\n",
       "    </tr>\n",
       "    <tr>\n",
       "      <td>8</td>\n",
       "      <td>20</td>\n",
       "      <td>2900000.0</td>\n",
       "      <td>33.16</td>\n",
       "      <td>2018-05-23T00:00:00</td>\n",
       "      <td>1</td>\n",
       "      <td>NaN</td>\n",
       "      <td>27.0</td>\n",
       "      <td>15.43</td>\n",
       "      <td>26</td>\n",
       "      <td>NaN</td>\n",
       "      <td>...</td>\n",
       "      <td>8.81</td>\n",
       "      <td>NaN</td>\n",
       "      <td>посёлок Мурино</td>\n",
       "      <td>NaN</td>\n",
       "      <td>NaN</td>\n",
       "      <td>NaN</td>\n",
       "      <td>NaN</td>\n",
       "      <td>NaN</td>\n",
       "      <td>NaN</td>\n",
       "      <td>189.00000000000003</td>\n",
       "    </tr>\n",
       "    <tr>\n",
       "      <td>9</td>\n",
       "      <td>18</td>\n",
       "      <td>5400000.0</td>\n",
       "      <td>61.0</td>\n",
       "      <td>2017-02-26T00:00:00</td>\n",
       "      <td>3</td>\n",
       "      <td>2.5</td>\n",
       "      <td>9.0</td>\n",
       "      <td>43.6</td>\n",
       "      <td>7</td>\n",
       "      <td>NaN</td>\n",
       "      <td>...</td>\n",
       "      <td>6.5</td>\n",
       "      <td>2.0</td>\n",
       "      <td>Санкт-Петербург</td>\n",
       "      <td>50898.0</td>\n",
       "      <td>15008.0</td>\n",
       "      <td>0.0</td>\n",
       "      <td>NaN</td>\n",
       "      <td>0.0</td>\n",
       "      <td>NaN</td>\n",
       "      <td>289.0</td>\n",
       "    </tr>\n",
       "  </tbody>\n",
       "</table>\n",
       "<p>10 rows × 22 columns</p>\n",
       "</div>"
      ],
      "text/plain": [
       "   total_images  last_price total_area first_day_exposition  rooms  \\\n",
       "0            20  13000000.0      108.0  2019-03-07T00:00:00      3   \n",
       "1             7   3350000.0       40.4  2018-12-04T00:00:00      1   \n",
       "2            10   5196000.0       56.0  2015-08-20T00:00:00      2   \n",
       "3             0  64900000.0      159.0  2015-07-24T00:00:00      3   \n",
       "4             2  10000000.0      100.0  2018-06-19T00:00:00      2   \n",
       "5            10   2890000.0       30.4  2018-09-10T00:00:00      1   \n",
       "6             6   3700000.0       37.3  2017-11-02T00:00:00      1   \n",
       "7             5   7915000.0       71.6  2019-04-18T00:00:00      2   \n",
       "8            20   2900000.0      33.16  2018-05-23T00:00:00      1   \n",
       "9            18   5400000.0       61.0  2017-02-26T00:00:00      3   \n",
       "\n",
       "  ceiling_height floors_total living_area  floor is_apartment  ...  \\\n",
       "0            2.7         16.0        51.0      8          NaN  ...   \n",
       "1            NaN         11.0        18.6      1          NaN  ...   \n",
       "2            NaN          5.0        34.3      4          NaN  ...   \n",
       "3            NaN         14.0         NaN      9          NaN  ...   \n",
       "4           3.03         14.0        32.0     13          NaN  ...   \n",
       "5            NaN         12.0        14.4      5          NaN  ...   \n",
       "6            NaN         26.0        10.6      6          NaN  ...   \n",
       "7            NaN         24.0         NaN     22          NaN  ...   \n",
       "8            NaN         27.0       15.43     26          NaN  ...   \n",
       "9            2.5          9.0        43.6      7          NaN  ...   \n",
       "\n",
       "   kitchen_area  balcony              locality_name airports_nearest  \\\n",
       "0          25.0      NaN            Санкт-Петербург          18863.0   \n",
       "1          11.0      2.0             посёлок Шушары          12817.0   \n",
       "2           8.3      0.0            Санкт-Петербург          21741.0   \n",
       "3           NaN      0.0            Санкт-Петербург          28098.0   \n",
       "4          41.0      NaN            Санкт-Петербург          31856.0   \n",
       "5           9.1      NaN  городской посёлок Янино-1              NaN   \n",
       "6          14.4      1.0          посёлок Парголово          52996.0   \n",
       "7          18.9      2.0            Санкт-Петербург          23982.0   \n",
       "8          8.81      NaN             посёлок Мурино              NaN   \n",
       "9           6.5      2.0            Санкт-Петербург          50898.0   \n",
       "\n",
       "  cityCenters_nearest parks_around3000 parks_nearest ponds_around3000  \\\n",
       "0             16028.0              1.0         482.0              2.0   \n",
       "1             18603.0              0.0           NaN              0.0   \n",
       "2             13933.0              1.0          90.0              2.0   \n",
       "3              6800.0              2.0          84.0              3.0   \n",
       "4              8098.0              2.0         112.0              1.0   \n",
       "5                 NaN              NaN           NaN              NaN   \n",
       "6             19143.0              0.0           NaN              0.0   \n",
       "7             11634.0              0.0           NaN              0.0   \n",
       "8                 NaN              NaN           NaN              NaN   \n",
       "9             15008.0              0.0           NaN              0.0   \n",
       "\n",
       "  ponds_nearest     days_exposition  \n",
       "0         755.0                 NaN  \n",
       "1           NaN                81.0  \n",
       "2         574.0               558.0  \n",
       "3         234.0               424.0  \n",
       "4          48.0               121.0  \n",
       "5           NaN                55.0  \n",
       "6           NaN               155.0  \n",
       "7           NaN                 NaN  \n",
       "8           NaN  189.00000000000003  \n",
       "9           NaN               289.0  \n",
       "\n",
       "[10 rows x 22 columns]"
      ]
     },
     "execution_count": 2,
     "metadata": {},
     "output_type": "execute_result"
    }
   ],
   "source": [
    "try:\n",
    "    data = pd.read_csv('C:/Users/datasets/real_estate_data.csv', sep='\\t', decimal=',')  # Локальный путь\n",
    "except:\n",
    "    data = pd.read_csv('/datasets/real_estate_data.csv', sep='\\t', decimal=',')  # Серверный путь\n",
    "\n",
    "data.head(10)"
   ]
  },
  {
   "cell_type": "code",
   "execution_count": 3,
   "metadata": {},
   "outputs": [
    {
     "data": {
      "text/html": [
       "<div>\n",
       "<style scoped>\n",
       "    .dataframe tbody tr th:only-of-type {\n",
       "        vertical-align: middle;\n",
       "    }\n",
       "\n",
       "    .dataframe tbody tr th {\n",
       "        vertical-align: top;\n",
       "    }\n",
       "\n",
       "    .dataframe thead th {\n",
       "        text-align: right;\n",
       "    }\n",
       "</style>\n",
       "<table border=\"1\" class=\"dataframe\">\n",
       "  <thead>\n",
       "    <tr style=\"text-align: right;\">\n",
       "      <th></th>\n",
       "      <th>total_images</th>\n",
       "      <th>rooms</th>\n",
       "      <th>floor</th>\n",
       "    </tr>\n",
       "  </thead>\n",
       "  <tbody>\n",
       "    <tr>\n",
       "      <td>count</td>\n",
       "      <td>23699.000000</td>\n",
       "      <td>23699.000000</td>\n",
       "      <td>23699.000000</td>\n",
       "    </tr>\n",
       "    <tr>\n",
       "      <td>mean</td>\n",
       "      <td>9.858475</td>\n",
       "      <td>2.070636</td>\n",
       "      <td>5.892358</td>\n",
       "    </tr>\n",
       "    <tr>\n",
       "      <td>std</td>\n",
       "      <td>5.682529</td>\n",
       "      <td>1.078405</td>\n",
       "      <td>4.885249</td>\n",
       "    </tr>\n",
       "    <tr>\n",
       "      <td>min</td>\n",
       "      <td>0.000000</td>\n",
       "      <td>0.000000</td>\n",
       "      <td>1.000000</td>\n",
       "    </tr>\n",
       "    <tr>\n",
       "      <td>25%</td>\n",
       "      <td>6.000000</td>\n",
       "      <td>1.000000</td>\n",
       "      <td>2.000000</td>\n",
       "    </tr>\n",
       "    <tr>\n",
       "      <td>50%</td>\n",
       "      <td>9.000000</td>\n",
       "      <td>2.000000</td>\n",
       "      <td>4.000000</td>\n",
       "    </tr>\n",
       "    <tr>\n",
       "      <td>75%</td>\n",
       "      <td>14.000000</td>\n",
       "      <td>3.000000</td>\n",
       "      <td>8.000000</td>\n",
       "    </tr>\n",
       "    <tr>\n",
       "      <td>max</td>\n",
       "      <td>50.000000</td>\n",
       "      <td>19.000000</td>\n",
       "      <td>33.000000</td>\n",
       "    </tr>\n",
       "  </tbody>\n",
       "</table>\n",
       "</div>"
      ],
      "text/plain": [
       "       total_images         rooms         floor\n",
       "count  23699.000000  23699.000000  23699.000000\n",
       "mean       9.858475      2.070636      5.892358\n",
       "std        5.682529      1.078405      4.885249\n",
       "min        0.000000      0.000000      1.000000\n",
       "25%        6.000000      1.000000      2.000000\n",
       "50%        9.000000      2.000000      4.000000\n",
       "75%       14.000000      3.000000      8.000000\n",
       "max       50.000000     19.000000     33.000000"
      ]
     },
     "execution_count": 3,
     "metadata": {},
     "output_type": "execute_result"
    }
   ],
   "source": [
    "data.describe()"
   ]
  },
  {
   "cell_type": "code",
   "execution_count": 4,
   "metadata": {},
   "outputs": [
    {
     "data": {
      "text/html": [
       "<div>\n",
       "<style scoped>\n",
       "    .dataframe tbody tr th:only-of-type {\n",
       "        vertical-align: middle;\n",
       "    }\n",
       "\n",
       "    .dataframe tbody tr th {\n",
       "        vertical-align: top;\n",
       "    }\n",
       "\n",
       "    .dataframe thead th {\n",
       "        text-align: right;\n",
       "    }\n",
       "</style>\n",
       "<table border=\"1\" class=\"dataframe\">\n",
       "  <thead>\n",
       "    <tr style=\"text-align: right;\">\n",
       "      <th></th>\n",
       "      <th>last_price</th>\n",
       "      <th>total_area</th>\n",
       "      <th>first_day_exposition</th>\n",
       "      <th>ceiling_height</th>\n",
       "      <th>floors_total</th>\n",
       "      <th>living_area</th>\n",
       "      <th>is_apartment</th>\n",
       "      <th>kitchen_area</th>\n",
       "      <th>balcony</th>\n",
       "      <th>locality_name</th>\n",
       "      <th>airports_nearest</th>\n",
       "      <th>cityCenters_nearest</th>\n",
       "      <th>parks_around3000</th>\n",
       "      <th>parks_nearest</th>\n",
       "      <th>ponds_around3000</th>\n",
       "      <th>ponds_nearest</th>\n",
       "      <th>days_exposition</th>\n",
       "    </tr>\n",
       "  </thead>\n",
       "  <tbody>\n",
       "    <tr>\n",
       "      <td>count</td>\n",
       "      <td>23699</td>\n",
       "      <td>23699</td>\n",
       "      <td>23699</td>\n",
       "      <td>14504</td>\n",
       "      <td>23613</td>\n",
       "      <td>21796</td>\n",
       "      <td>2775</td>\n",
       "      <td>21421</td>\n",
       "      <td>12180</td>\n",
       "      <td>23650</td>\n",
       "      <td>18157</td>\n",
       "      <td>18180</td>\n",
       "      <td>18181</td>\n",
       "      <td>8079</td>\n",
       "      <td>18181</td>\n",
       "      <td>9110</td>\n",
       "      <td>20518</td>\n",
       "    </tr>\n",
       "    <tr>\n",
       "      <td>unique</td>\n",
       "      <td>2978</td>\n",
       "      <td>2182</td>\n",
       "      <td>1491</td>\n",
       "      <td>183</td>\n",
       "      <td>36</td>\n",
       "      <td>1782</td>\n",
       "      <td>2</td>\n",
       "      <td>971</td>\n",
       "      <td>6</td>\n",
       "      <td>364</td>\n",
       "      <td>8275</td>\n",
       "      <td>7642</td>\n",
       "      <td>4</td>\n",
       "      <td>995</td>\n",
       "      <td>4</td>\n",
       "      <td>1096</td>\n",
       "      <td>1141</td>\n",
       "    </tr>\n",
       "    <tr>\n",
       "      <td>top</td>\n",
       "      <td>4500000.0</td>\n",
       "      <td>45.0</td>\n",
       "      <td>2018-02-01T00:00:00</td>\n",
       "      <td>2.5</td>\n",
       "      <td>5.0</td>\n",
       "      <td>18.0</td>\n",
       "      <td>False</td>\n",
       "      <td>6.0</td>\n",
       "      <td>1.0</td>\n",
       "      <td>Санкт-Петербург</td>\n",
       "      <td>37434.0</td>\n",
       "      <td>8460.0</td>\n",
       "      <td>0.0</td>\n",
       "      <td>441.0</td>\n",
       "      <td>0.0</td>\n",
       "      <td>427.0</td>\n",
       "      <td>45.00000000000001</td>\n",
       "    </tr>\n",
       "    <tr>\n",
       "      <td>freq</td>\n",
       "      <td>342</td>\n",
       "      <td>419</td>\n",
       "      <td>368</td>\n",
       "      <td>3515</td>\n",
       "      <td>5788</td>\n",
       "      <td>882</td>\n",
       "      <td>2725</td>\n",
       "      <td>1300</td>\n",
       "      <td>4195</td>\n",
       "      <td>15721</td>\n",
       "      <td>61</td>\n",
       "      <td>61</td>\n",
       "      <td>10106</td>\n",
       "      <td>67</td>\n",
       "      <td>9071</td>\n",
       "      <td>70</td>\n",
       "      <td>880</td>\n",
       "    </tr>\n",
       "  </tbody>\n",
       "</table>\n",
       "</div>"
      ],
      "text/plain": [
       "       last_price total_area first_day_exposition ceiling_height floors_total  \\\n",
       "count       23699      23699                23699          14504        23613   \n",
       "unique       2978       2182                 1491            183           36   \n",
       "top     4500000.0       45.0  2018-02-01T00:00:00            2.5          5.0   \n",
       "freq          342        419                  368           3515         5788   \n",
       "\n",
       "       living_area is_apartment kitchen_area balcony    locality_name  \\\n",
       "count        21796         2775        21421   12180            23650   \n",
       "unique        1782            2          971       6              364   \n",
       "top           18.0        False          6.0     1.0  Санкт-Петербург   \n",
       "freq           882         2725         1300    4195            15721   \n",
       "\n",
       "       airports_nearest cityCenters_nearest parks_around3000 parks_nearest  \\\n",
       "count             18157               18180            18181          8079   \n",
       "unique             8275                7642                4           995   \n",
       "top             37434.0              8460.0              0.0         441.0   \n",
       "freq                 61                  61            10106            67   \n",
       "\n",
       "       ponds_around3000 ponds_nearest    days_exposition  \n",
       "count             18181          9110              20518  \n",
       "unique                4          1096               1141  \n",
       "top                 0.0         427.0  45.00000000000001  \n",
       "freq               9071            70                880  "
      ]
     },
     "execution_count": 4,
     "metadata": {},
     "output_type": "execute_result"
    }
   ],
   "source": [
    "data.describe(include=[object]) "
   ]
  },
  {
   "cell_type": "code",
   "execution_count": 5,
   "metadata": {
    "scrolled": true
   },
   "outputs": [
    {
     "name": "stdout",
     "output_type": "stream",
     "text": [
      "<class 'pandas.core.frame.DataFrame'>\n",
      "RangeIndex: 23699 entries, 0 to 23698\n",
      "Data columns (total 22 columns):\n",
      "total_images            23699 non-null int64\n",
      "last_price              23699 non-null object\n",
      "total_area              23699 non-null object\n",
      "first_day_exposition    23699 non-null object\n",
      "rooms                   23699 non-null int64\n",
      "ceiling_height          14504 non-null object\n",
      "floors_total            23613 non-null object\n",
      "living_area             21796 non-null object\n",
      "floor                   23699 non-null int64\n",
      "is_apartment            2775 non-null object\n",
      "studio                  23699 non-null bool\n",
      "open_plan               23699 non-null bool\n",
      "kitchen_area            21421 non-null object\n",
      "balcony                 12180 non-null object\n",
      "locality_name           23650 non-null object\n",
      "airports_nearest        18157 non-null object\n",
      "cityCenters_nearest     18180 non-null object\n",
      "parks_around3000        18181 non-null object\n",
      "parks_nearest           8079 non-null object\n",
      "ponds_around3000        18181 non-null object\n",
      "ponds_nearest           9110 non-null object\n",
      "days_exposition         20518 non-null object\n",
      "dtypes: bool(2), int64(3), object(17)\n",
      "memory usage: 3.7+ MB\n"
     ]
    }
   ],
   "source": [
    "data.info()"
   ]
  },
  {
   "cell_type": "code",
   "execution_count": 6,
   "metadata": {},
   "outputs": [
    {
     "data": {
      "text/plain": [
       "0"
      ]
     },
     "execution_count": 6,
     "metadata": {},
     "output_type": "execute_result"
    }
   ],
   "source": [
    "data.duplicated().sum()"
   ]
  },
  {
   "cell_type": "markdown",
   "metadata": {},
   "source": [
    "### Вывод"
   ]
  },
  {
   "cell_type": "markdown",
   "metadata": {},
   "source": [
    " В данных присутствует достаточно много пропусков, потребуется разобраться с их природой и постараться устранить. Некоторые данные представлены в неудобном формате, как, например, столбец `days_exposition` и площади комнат, который для работы требуется представить как целочисленный. Дата указана вплоть до часов, причем с нулевым значением, поэтому стоит поменять тип отображения и этого столбца. Столбцы в формате object выглядят без аномалий, но требуется поработать с форматом, в некоторых столбцах после перевода в числовой тип потребуется округлить значения. Явные дубликаты в начальных данных отсутствуют. Есть проблемы в названии столбцов."
   ]
  },
  {
   "cell_type": "markdown",
   "metadata": {},
   "source": [
    "## Предобработка данных "
   ]
  },
  {
   "cell_type": "markdown",
   "metadata": {},
   "source": [
    "###  Заменим названия некоторых столбцов"
   ]
  },
  {
   "cell_type": "code",
   "execution_count": 7,
   "metadata": {
    "scrolled": true
   },
   "outputs": [
    {
     "data": {
      "text/plain": [
       "['total_images',\n",
       " 'last_price',\n",
       " 'total_area',\n",
       " 'first_day_exposition',\n",
       " 'rooms',\n",
       " 'ceiling_height',\n",
       " 'floors_total',\n",
       " 'living_area',\n",
       " 'floor',\n",
       " 'is_apartment',\n",
       " 'studio',\n",
       " 'open_plan',\n",
       " 'kitchen_area',\n",
       " 'balcony',\n",
       " 'locality_name',\n",
       " 'airports_nearest',\n",
       " 'cityCenters_nearest',\n",
       " 'parks_around3000',\n",
       " 'parks_nearest',\n",
       " 'ponds_around3000',\n",
       " 'ponds_nearest',\n",
       " 'days_exposition']"
      ]
     },
     "execution_count": 7,
     "metadata": {},
     "output_type": "execute_result"
    }
   ],
   "source": [
    "data.columns.tolist()"
   ]
  },
  {
   "cell_type": "markdown",
   "metadata": {},
   "source": [
    "Уберем заглавные буквы из названий и приведем к единому виду столбцы `is_apartment`, `studio`, `open_plan`."
   ]
  },
  {
   "cell_type": "code",
   "execution_count": 8,
   "metadata": {},
   "outputs": [],
   "source": [
    "columns = ['total_images',\n",
    " 'last_price',\n",
    " 'total_area',\n",
    " 'first_day_exposition',\n",
    " 'rooms',\n",
    " 'ceiling_height',\n",
    " 'floors_total',\n",
    " 'living_area',\n",
    " 'floor',\n",
    " 'is_apartment',\n",
    " 'is_studio',\n",
    " 'is_open_plan',\n",
    " 'kitchen_area',\n",
    " 'balcony',\n",
    " 'locality_name',\n",
    " 'airports_nearest',\n",
    " 'city_centers_nearest',\n",
    " 'parks_around3000',\n",
    " 'parks_nearest',\n",
    " 'ponds_around3000',\n",
    " 'ponds_nearest',\n",
    " 'days_exposition']\n",
    "\n",
    "data.set_axis(columns, axis='columns', inplace=True)"
   ]
  },
  {
   "cell_type": "markdown",
   "metadata": {},
   "source": [
    "Проверим результат."
   ]
  },
  {
   "cell_type": "code",
   "execution_count": 9,
   "metadata": {
    "scrolled": true
   },
   "outputs": [
    {
     "data": {
      "text/plain": [
       "['total_images',\n",
       " 'last_price',\n",
       " 'total_area',\n",
       " 'first_day_exposition',\n",
       " 'rooms',\n",
       " 'ceiling_height',\n",
       " 'floors_total',\n",
       " 'living_area',\n",
       " 'floor',\n",
       " 'is_apartment',\n",
       " 'is_studio',\n",
       " 'is_open_plan',\n",
       " 'kitchen_area',\n",
       " 'balcony',\n",
       " 'locality_name',\n",
       " 'airports_nearest',\n",
       " 'city_centers_nearest',\n",
       " 'parks_around3000',\n",
       " 'parks_nearest',\n",
       " 'ponds_around3000',\n",
       " 'ponds_nearest',\n",
       " 'days_exposition']"
      ]
     },
     "execution_count": 9,
     "metadata": {},
     "output_type": "execute_result"
    }
   ],
   "source": [
    "data.columns.tolist()"
   ]
  },
  {
   "cell_type": "markdown",
   "metadata": {},
   "source": [
    "### Поиск дубликатов"
   ]
  },
  {
   "cell_type": "markdown",
   "metadata": {},
   "source": [
    "Для получения требуемых данных нам понадобится столбец `locality_name`. Поскольку данные заполнялись вручную, стоит проверить, не возникли ли дубликаты при различных записях одного и того же населенного пункта. Посмотрим уникальные значения."
   ]
  },
  {
   "cell_type": "code",
   "execution_count": 10,
   "metadata": {},
   "outputs": [
    {
     "data": {
      "text/plain": [
       "['Санкт-Петербург',\n",
       " 'посёлок Шушары',\n",
       " 'городской посёлок Янино-1',\n",
       " 'посёлок Парголово',\n",
       " 'посёлок Мурино',\n",
       " 'Ломоносов',\n",
       " 'Сертолово',\n",
       " 'Петергоф',\n",
       " 'Пушкин',\n",
       " 'деревня Кудрово',\n",
       " 'Коммунар',\n",
       " 'Колпино',\n",
       " 'поселок городского типа Красный Бор',\n",
       " 'Гатчина',\n",
       " 'поселок Мурино',\n",
       " 'деревня Фёдоровское',\n",
       " 'Выборг',\n",
       " 'Кронштадт',\n",
       " 'Кировск',\n",
       " 'деревня Новое Девяткино',\n",
       " 'посёлок Металлострой',\n",
       " 'посёлок городского типа Лебяжье',\n",
       " 'посёлок городского типа Сиверский',\n",
       " 'поселок Молодцово',\n",
       " 'поселок городского типа Кузьмоловский',\n",
       " 'садовое товарищество Новая Ропша',\n",
       " 'Павловск',\n",
       " 'деревня Пикколово',\n",
       " 'Всеволожск',\n",
       " 'Волхов',\n",
       " 'Кингисепп',\n",
       " 'Приозерск',\n",
       " 'Сестрорецк',\n",
       " 'деревня Куттузи',\n",
       " 'посёлок Аннино',\n",
       " 'поселок городского типа Ефимовский',\n",
       " 'посёлок Плодовое',\n",
       " 'деревня Заклинье',\n",
       " 'поселок Торковичи',\n",
       " 'поселок Первомайское',\n",
       " 'Красное Село',\n",
       " 'посёлок Понтонный',\n",
       " 'Сясьстрой',\n",
       " 'деревня Старая',\n",
       " 'деревня Лесколово',\n",
       " 'посёлок Новый Свет',\n",
       " 'Сланцы',\n",
       " 'село Путилово',\n",
       " 'Ивангород',\n",
       " 'Мурино',\n",
       " 'Шлиссельбург',\n",
       " 'Никольское',\n",
       " 'Зеленогорск',\n",
       " 'Сосновый Бор',\n",
       " 'поселок Новый Свет',\n",
       " 'деревня Оржицы',\n",
       " 'деревня Кальтино',\n",
       " 'Кудрово',\n",
       " 'поселок Романовка',\n",
       " 'посёлок Бугры',\n",
       " 'поселок Бугры',\n",
       " 'поселок городского типа Рощино',\n",
       " 'Кириши',\n",
       " 'Луга',\n",
       " 'Волосово',\n",
       " 'Отрадное',\n",
       " 'село Павлово',\n",
       " 'поселок Оредеж',\n",
       " 'село Копорье',\n",
       " 'посёлок городского типа Красный Бор',\n",
       " 'посёлок Молодёжное',\n",
       " 'Тихвин',\n",
       " 'посёлок Победа',\n",
       " 'деревня Нурма',\n",
       " 'поселок городского типа Синявино',\n",
       " 'Тосно',\n",
       " 'посёлок городского типа Кузьмоловский',\n",
       " 'посёлок Стрельна',\n",
       " 'Бокситогорск',\n",
       " 'посёлок Александровская',\n",
       " 'деревня Лопухинка',\n",
       " 'Пикалёво',\n",
       " 'поселок Терволово',\n",
       " 'поселок городского типа Советский',\n",
       " 'Подпорожье',\n",
       " 'посёлок Петровское',\n",
       " 'посёлок городского типа Токсово',\n",
       " 'поселок Сельцо',\n",
       " 'посёлок городского типа Вырица',\n",
       " 'деревня Кипень',\n",
       " 'деревня Келози',\n",
       " 'деревня Вартемяги',\n",
       " 'посёлок Тельмана',\n",
       " 'поселок Севастьяново',\n",
       " 'городской поселок Большая Ижора',\n",
       " nan,\n",
       " 'городской посёлок Павлово',\n",
       " 'деревня Агалатово',\n",
       " 'посёлок Новогорелово',\n",
       " 'городской посёлок Лесогорский',\n",
       " 'деревня Лаголово',\n",
       " 'поселок Цвелодубово',\n",
       " 'поселок городского типа Рахья',\n",
       " 'поселок городского типа Вырица',\n",
       " 'деревня Белогорка',\n",
       " 'поселок Заводской',\n",
       " 'городской посёлок Новоселье',\n",
       " 'деревня Большие Колпаны',\n",
       " 'деревня Горбунки',\n",
       " 'деревня Батово',\n",
       " 'деревня Заневка',\n",
       " 'деревня Иссад',\n",
       " 'Приморск',\n",
       " 'городской посёлок Фёдоровское',\n",
       " 'деревня Мистолово',\n",
       " 'Новая Ладога',\n",
       " 'поселок Зимитицы',\n",
       " 'поселок Барышево',\n",
       " 'деревня Разметелево',\n",
       " 'поселок городского типа имени Свердлова',\n",
       " 'деревня Пеники',\n",
       " 'поселок Рябово',\n",
       " 'деревня Пудомяги',\n",
       " 'поселок станции Корнево',\n",
       " 'деревня Низино',\n",
       " 'деревня Бегуницы',\n",
       " 'посёлок Поляны',\n",
       " 'городской посёлок Мга',\n",
       " 'поселок Елизаветино',\n",
       " 'посёлок городского типа Кузнечное',\n",
       " 'деревня Колтуши',\n",
       " 'поселок Запорожское',\n",
       " 'посёлок городского типа Рощино',\n",
       " 'деревня Гостилицы',\n",
       " 'деревня Малое Карлино',\n",
       " 'посёлок Мичуринское',\n",
       " 'посёлок городского типа имени Морозова',\n",
       " 'посёлок Песочный',\n",
       " 'посёлок Сосново',\n",
       " 'деревня Аро',\n",
       " 'поселок Ильичёво',\n",
       " 'посёлок городского типа Тайцы',\n",
       " 'деревня Малое Верево',\n",
       " 'деревня Извара',\n",
       " 'поселок станции Вещево',\n",
       " 'село Паша',\n",
       " 'деревня Калитино',\n",
       " 'посёлок городского типа Ульяновка',\n",
       " 'деревня Чудской Бор',\n",
       " 'поселок городского типа Дубровка',\n",
       " 'деревня Мины',\n",
       " 'поселок Войсковицы',\n",
       " 'посёлок городского типа имени Свердлова',\n",
       " 'деревня Коркино',\n",
       " 'посёлок Ропша',\n",
       " 'поселок городского типа Приладожский',\n",
       " 'посёлок Щеглово',\n",
       " 'посёлок Гаврилово',\n",
       " 'Лодейное Поле',\n",
       " 'деревня Рабитицы',\n",
       " 'поселок городского типа Никольский',\n",
       " 'деревня Кузьмолово',\n",
       " 'деревня Малые Колпаны',\n",
       " 'поселок Тельмана',\n",
       " 'посёлок Петро-Славянка',\n",
       " 'городской посёлок Назия',\n",
       " 'посёлок Репино',\n",
       " 'посёлок Ильичёво',\n",
       " 'поселок Углово',\n",
       " 'поселок Старая Малукса',\n",
       " 'садовое товарищество Рахья',\n",
       " 'поселок Аннино',\n",
       " 'поселок Победа',\n",
       " 'деревня Меньково',\n",
       " 'деревня Старые Бегуницы',\n",
       " 'посёлок Сапёрный',\n",
       " 'поселок Семрино',\n",
       " 'поселок Гаврилово',\n",
       " 'поселок Глажево',\n",
       " 'поселок Кобринское',\n",
       " 'деревня Гарболово',\n",
       " 'деревня Юкки',\n",
       " 'поселок станции Приветнинское',\n",
       " 'деревня Мануйлово',\n",
       " 'деревня Пчева',\n",
       " 'поселок Поляны',\n",
       " 'поселок Цвылёво',\n",
       " 'поселок Мельниково',\n",
       " 'посёлок Пудость',\n",
       " 'посёлок Усть-Луга',\n",
       " 'Светогорск',\n",
       " 'Любань',\n",
       " 'поселок Селезнёво',\n",
       " 'поселок городского типа Рябово',\n",
       " 'Каменногорск',\n",
       " 'деревня Кривко',\n",
       " 'поселок Глебычево',\n",
       " 'деревня Парицы',\n",
       " 'поселок Жилпосёлок',\n",
       " 'посёлок городского типа Мга',\n",
       " 'городской поселок Янино-1',\n",
       " 'посёлок Войскорово',\n",
       " 'село Никольское',\n",
       " 'посёлок Терволово',\n",
       " 'поселок Стеклянный',\n",
       " 'посёлок городского типа Важины',\n",
       " 'посёлок Мыза-Ивановка',\n",
       " 'село Русско-Высоцкое',\n",
       " 'поселок городского типа Лебяжье',\n",
       " 'поселок городского типа Форносово',\n",
       " 'село Старая Ладога',\n",
       " 'поселок Житково',\n",
       " 'городской посёлок Виллози',\n",
       " 'деревня Лампово',\n",
       " 'деревня Шпаньково',\n",
       " 'деревня Лаврики',\n",
       " 'посёлок Сумино',\n",
       " 'посёлок Возрождение',\n",
       " 'деревня Старосиверская',\n",
       " 'посёлок Кикерино',\n",
       " 'поселок Возрождение',\n",
       " 'деревня Старое Хинколово',\n",
       " 'посёлок Пригородный',\n",
       " 'посёлок Торфяное',\n",
       " 'городской посёлок Будогощь',\n",
       " 'поселок Суходолье',\n",
       " 'поселок Красная Долина',\n",
       " 'деревня Хапо-Ое',\n",
       " 'поселок городского типа Дружная Горка',\n",
       " 'поселок Лисий Нос',\n",
       " 'деревня Яльгелево',\n",
       " 'посёлок Стеклянный',\n",
       " 'село Рождествено',\n",
       " 'деревня Старополье',\n",
       " 'посёлок Левашово',\n",
       " 'деревня Сяськелево',\n",
       " 'деревня Камышовка',\n",
       " 'садоводческое некоммерческое товарищество Лесная Поляна',\n",
       " 'деревня Хязельки',\n",
       " 'поселок Жилгородок',\n",
       " 'посёлок городского типа Павлово',\n",
       " 'деревня Ялгино',\n",
       " 'поселок Новый Учхоз',\n",
       " 'городской посёлок Рощино',\n",
       " 'поселок Гончарово',\n",
       " 'поселок Почап',\n",
       " 'посёлок Сапёрное',\n",
       " 'посёлок Платформа 69-й километр',\n",
       " 'поселок Каложицы',\n",
       " 'деревня Фалилеево',\n",
       " 'деревня Пельгора',\n",
       " 'поселок городского типа Лесогорский',\n",
       " 'деревня Торошковичи',\n",
       " 'посёлок Белоостров',\n",
       " 'посёлок Алексеевка',\n",
       " 'поселок Серебрянский',\n",
       " 'поселок Лукаши',\n",
       " 'поселок Петровское',\n",
       " 'деревня Щеглово',\n",
       " 'поселок Мичуринское',\n",
       " 'деревня Тарасово',\n",
       " 'поселок Кингисеппский',\n",
       " 'посёлок при железнодорожной станции Вещево',\n",
       " 'поселок Ушаки',\n",
       " 'деревня Котлы',\n",
       " 'деревня Сижно',\n",
       " 'деревня Торосово',\n",
       " 'посёлок Форт Красная Горка',\n",
       " 'поселок городского типа Токсово',\n",
       " 'деревня Новолисино',\n",
       " 'посёлок станции Громово',\n",
       " 'деревня Глинка',\n",
       " 'посёлок Мельниково',\n",
       " 'поселок городского типа Назия',\n",
       " 'деревня Старая Пустошь',\n",
       " 'поселок Коммунары',\n",
       " 'поселок Починок',\n",
       " 'посёлок городского типа Вознесенье',\n",
       " 'деревня Разбегаево',\n",
       " 'посёлок городского типа Рябово',\n",
       " 'поселок Гладкое',\n",
       " 'посёлок при железнодорожной станции Приветнинское',\n",
       " 'поселок Тёсово-4',\n",
       " 'посёлок Жилгородок',\n",
       " 'деревня Бор',\n",
       " 'посёлок Коробицыно',\n",
       " 'деревня Большая Вруда',\n",
       " 'деревня Курковицы',\n",
       " 'посёлок Лисий Нос',\n",
       " 'городской посёлок Советский',\n",
       " 'посёлок Кобралово',\n",
       " 'деревня Суоранда',\n",
       " 'поселок Кобралово',\n",
       " 'поселок городского типа Кондратьево',\n",
       " 'коттеджный поселок Счастье',\n",
       " 'поселок Любань',\n",
       " 'деревня Реброво',\n",
       " 'деревня Зимитицы',\n",
       " 'деревня Тойворово',\n",
       " 'поселок Семиозерье',\n",
       " 'поселок Лесное',\n",
       " 'поселок Совхозный',\n",
       " 'поселок Усть-Луга',\n",
       " 'посёлок Ленинское',\n",
       " 'посёлок Суйда',\n",
       " 'посёлок городского типа Форносово',\n",
       " 'деревня Нижние Осельки',\n",
       " 'посёлок станции Свирь',\n",
       " 'поселок Перово',\n",
       " 'Высоцк',\n",
       " 'поселок Гарболово',\n",
       " 'село Шум',\n",
       " 'поселок Котельский',\n",
       " 'поселок станции Лужайка',\n",
       " 'деревня Большая Пустомержа',\n",
       " 'поселок Красносельское',\n",
       " 'деревня Вахнова Кара',\n",
       " 'деревня Пижма',\n",
       " 'коттеджный поселок Кивеннапа Север',\n",
       " 'поселок Коробицыно',\n",
       " 'поселок Ромашки',\n",
       " 'посёлок Перово',\n",
       " 'деревня Каськово',\n",
       " 'деревня Куровицы',\n",
       " 'посёлок Плоское',\n",
       " 'поселок Сумино',\n",
       " 'поселок городского типа Большая Ижора',\n",
       " 'поселок Кирпичное',\n",
       " 'деревня Ям-Тесово',\n",
       " 'деревня Раздолье',\n",
       " 'деревня Терпилицы',\n",
       " 'посёлок Шугозеро',\n",
       " 'деревня Ваганово',\n",
       " 'поселок Пушное',\n",
       " 'садовое товарищество Садко',\n",
       " 'посёлок Усть-Ижора',\n",
       " 'деревня Выскатка',\n",
       " 'городской посёлок Свирьстрой',\n",
       " 'поселок Громово',\n",
       " 'деревня Кисельня',\n",
       " 'посёлок Старая Малукса',\n",
       " 'деревня Трубников Бор',\n",
       " 'поселок Калитино',\n",
       " 'посёлок Высокоключевой',\n",
       " 'садовое товарищество Приладожский',\n",
       " 'посёлок Пансионат Зелёный Бор',\n",
       " 'деревня Ненимяки',\n",
       " 'поселок Пансионат Зелёный Бор',\n",
       " 'деревня Снегирёвка',\n",
       " 'деревня Рапполово',\n",
       " 'деревня Пустынка',\n",
       " 'поселок Рабитицы',\n",
       " 'деревня Большой Сабск',\n",
       " 'деревня Русско',\n",
       " 'деревня Лупполово',\n",
       " 'деревня Большое Рейзино',\n",
       " 'деревня Малая Романовка',\n",
       " 'поселок Дружноселье',\n",
       " 'поселок Пчевжа',\n",
       " 'поселок Володарское',\n",
       " 'деревня Нижняя',\n",
       " 'коттеджный посёлок Лесное',\n",
       " 'деревня Тихковицы',\n",
       " 'деревня Борисова Грива',\n",
       " 'посёлок Дзержинского']"
      ]
     },
     "execution_count": 10,
     "metadata": {},
     "output_type": "execute_result"
    }
   ],
   "source": [
    "data['locality_name'].unique().tolist()"
   ]
  },
  {
   "cell_type": "code",
   "execution_count": 11,
   "metadata": {},
   "outputs": [
    {
     "data": {
      "text/plain": [
       "365"
      ]
     },
     "execution_count": 11,
     "metadata": {},
     "output_type": "execute_result"
    }
   ],
   "source": [
    "len(data['locality_name'].unique())"
   ]
  },
  {
   "cell_type": "markdown",
   "metadata": {},
   "source": [
    "Судя по всему, самая очевидная проблема этого столбца в буквах \"е\" и \"ё\". Поробуем заменить все эти буквы на \"е\" и посмотреть, не возникнут ли у нас дубликаты."
   ]
  },
  {
   "cell_type": "code",
   "execution_count": 12,
   "metadata": {},
   "outputs": [],
   "source": [
    "data['locality_name'] = data['locality_name'].str.replace('ё', 'е', regex=True)"
   ]
  },
  {
   "cell_type": "code",
   "execution_count": 13,
   "metadata": {},
   "outputs": [
    {
     "data": {
      "text/plain": [
       "331"
      ]
     },
     "execution_count": 13,
     "metadata": {},
     "output_type": "execute_result"
    }
   ],
   "source": [
    "len(data['locality_name'].unique())"
   ]
  },
  {
   "cell_type": "markdown",
   "metadata": {},
   "source": [
    "Видим, что количество уникальных населенных пунктов уменьшилось, а значит, какие-то дубли в этом столбце всё-таки были."
   ]
  },
  {
   "cell_type": "markdown",
   "metadata": {},
   "source": [
    "### Обработка пропусков"
   ]
  },
  {
   "cell_type": "code",
   "execution_count": 14,
   "metadata": {
    "scrolled": true
   },
   "outputs": [
    {
     "data": {
      "text/plain": [
       "total_images                0\n",
       "is_open_plan                0\n",
       "floor                       0\n",
       "rooms                       0\n",
       "is_studio                   0\n",
       "total_area                  0\n",
       "last_price                  0\n",
       "first_day_exposition        0\n",
       "locality_name              49\n",
       "floors_total               86\n",
       "living_area              1903\n",
       "kitchen_area             2278\n",
       "days_exposition          3181\n",
       "ponds_around3000         5518\n",
       "parks_around3000         5518\n",
       "city_centers_nearest     5519\n",
       "airports_nearest         5542\n",
       "ceiling_height           9195\n",
       "balcony                 11519\n",
       "ponds_nearest           14589\n",
       "parks_nearest           15620\n",
       "is_apartment            20924\n",
       "dtype: int64"
      ]
     },
     "execution_count": 14,
     "metadata": {},
     "output_type": "execute_result"
    }
   ],
   "source": [
    "data.isnull().sum().sort_values()"
   ]
  },
  {
   "cell_type": "markdown",
   "metadata": {},
   "source": [
    "Рассмотрим какой процент составляют пропуски в каждом из столбцов, чтобы понять насколько это критично."
   ]
  },
  {
   "cell_type": "code",
   "execution_count": 15,
   "metadata": {},
   "outputs": [
    {
     "data": {
      "text/html": [
       "<style  type=\"text/css\" >\n",
       "    #T_e543fc84_667e_11ec_96ef_02420a393c65row0_col0 {\n",
       "            background-color:  #3b4cc0;\n",
       "            color:  #f1f1f1;\n",
       "        }    #T_e543fc84_667e_11ec_96ef_02420a393c65row1_col0 {\n",
       "            background-color:  #3b4cc0;\n",
       "            color:  #f1f1f1;\n",
       "        }    #T_e543fc84_667e_11ec_96ef_02420a393c65row2_col0 {\n",
       "            background-color:  #3b4cc0;\n",
       "            color:  #f1f1f1;\n",
       "        }    #T_e543fc84_667e_11ec_96ef_02420a393c65row3_col0 {\n",
       "            background-color:  #3b4cc0;\n",
       "            color:  #f1f1f1;\n",
       "        }    #T_e543fc84_667e_11ec_96ef_02420a393c65row4_col0 {\n",
       "            background-color:  #3b4cc0;\n",
       "            color:  #f1f1f1;\n",
       "        }    #T_e543fc84_667e_11ec_96ef_02420a393c65row5_col0 {\n",
       "            background-color:  #ccd9ed;\n",
       "            color:  #000000;\n",
       "        }    #T_e543fc84_667e_11ec_96ef_02420a393c65row6_col0 {\n",
       "            background-color:  #3c4ec2;\n",
       "            color:  #f1f1f1;\n",
       "        }    #T_e543fc84_667e_11ec_96ef_02420a393c65row7_col0 {\n",
       "            background-color:  #5673e0;\n",
       "            color:  #000000;\n",
       "        }    #T_e543fc84_667e_11ec_96ef_02420a393c65row8_col0 {\n",
       "            background-color:  #3b4cc0;\n",
       "            color:  #f1f1f1;\n",
       "        }    #T_e543fc84_667e_11ec_96ef_02420a393c65row9_col0 {\n",
       "            background-color:  #b40426;\n",
       "            color:  #f1f1f1;\n",
       "        }    #T_e543fc84_667e_11ec_96ef_02420a393c65row10_col0 {\n",
       "            background-color:  #3b4cc0;\n",
       "            color:  #f1f1f1;\n",
       "        }    #T_e543fc84_667e_11ec_96ef_02420a393c65row11_col0 {\n",
       "            background-color:  #3b4cc0;\n",
       "            color:  #f1f1f1;\n",
       "        }    #T_e543fc84_667e_11ec_96ef_02420a393c65row12_col0 {\n",
       "            background-color:  #5b7ae5;\n",
       "            color:  #000000;\n",
       "        }    #T_e543fc84_667e_11ec_96ef_02420a393c65row13_col0 {\n",
       "            background-color:  #e9d5cb;\n",
       "            color:  #000000;\n",
       "        }    #T_e543fc84_667e_11ec_96ef_02420a393c65row14_col0 {\n",
       "            background-color:  #3b4cc0;\n",
       "            color:  #f1f1f1;\n",
       "        }    #T_e543fc84_667e_11ec_96ef_02420a393c65row15_col0 {\n",
       "            background-color:  #92b4fe;\n",
       "            color:  #000000;\n",
       "        }    #T_e543fc84_667e_11ec_96ef_02420a393c65row16_col0 {\n",
       "            background-color:  #92b4fe;\n",
       "            color:  #000000;\n",
       "        }    #T_e543fc84_667e_11ec_96ef_02420a393c65row17_col0 {\n",
       "            background-color:  #92b4fe;\n",
       "            color:  #000000;\n",
       "        }    #T_e543fc84_667e_11ec_96ef_02420a393c65row18_col0 {\n",
       "            background-color:  #f49a7b;\n",
       "            color:  #000000;\n",
       "        }    #T_e543fc84_667e_11ec_96ef_02420a393c65row19_col0 {\n",
       "            background-color:  #92b4fe;\n",
       "            color:  #000000;\n",
       "        }    #T_e543fc84_667e_11ec_96ef_02420a393c65row20_col0 {\n",
       "            background-color:  #f7ad90;\n",
       "            color:  #000000;\n",
       "        }    #T_e543fc84_667e_11ec_96ef_02420a393c65row21_col0 {\n",
       "            background-color:  #6a8bef;\n",
       "            color:  #000000;\n",
       "        }</style><table id=\"T_e543fc84_667e_11ec_96ef_02420a393c65\" ><thead>    <tr>        <th class=\"blank level0\" ></th>        <th class=\"col_heading level0 col0\" >0</th>    </tr></thead><tbody>\n",
       "                <tr>\n",
       "                        <th id=\"T_e543fc84_667e_11ec_96ef_02420a393c65level0_row0\" class=\"row_heading level0 row0\" >total_images</th>\n",
       "                        <td id=\"T_e543fc84_667e_11ec_96ef_02420a393c65row0_col0\" class=\"data row0 col0\" >0</td>\n",
       "            </tr>\n",
       "            <tr>\n",
       "                        <th id=\"T_e543fc84_667e_11ec_96ef_02420a393c65level0_row1\" class=\"row_heading level0 row1\" >last_price</th>\n",
       "                        <td id=\"T_e543fc84_667e_11ec_96ef_02420a393c65row1_col0\" class=\"data row1 col0\" >0</td>\n",
       "            </tr>\n",
       "            <tr>\n",
       "                        <th id=\"T_e543fc84_667e_11ec_96ef_02420a393c65level0_row2\" class=\"row_heading level0 row2\" >total_area</th>\n",
       "                        <td id=\"T_e543fc84_667e_11ec_96ef_02420a393c65row2_col0\" class=\"data row2 col0\" >0</td>\n",
       "            </tr>\n",
       "            <tr>\n",
       "                        <th id=\"T_e543fc84_667e_11ec_96ef_02420a393c65level0_row3\" class=\"row_heading level0 row3\" >first_day_exposition</th>\n",
       "                        <td id=\"T_e543fc84_667e_11ec_96ef_02420a393c65row3_col0\" class=\"data row3 col0\" >0</td>\n",
       "            </tr>\n",
       "            <tr>\n",
       "                        <th id=\"T_e543fc84_667e_11ec_96ef_02420a393c65level0_row4\" class=\"row_heading level0 row4\" >rooms</th>\n",
       "                        <td id=\"T_e543fc84_667e_11ec_96ef_02420a393c65row4_col0\" class=\"data row4 col0\" >0</td>\n",
       "            </tr>\n",
       "            <tr>\n",
       "                        <th id=\"T_e543fc84_667e_11ec_96ef_02420a393c65level0_row5\" class=\"row_heading level0 row5\" >ceiling_height</th>\n",
       "                        <td id=\"T_e543fc84_667e_11ec_96ef_02420a393c65row5_col0\" class=\"data row5 col0\" >38.8</td>\n",
       "            </tr>\n",
       "            <tr>\n",
       "                        <th id=\"T_e543fc84_667e_11ec_96ef_02420a393c65level0_row6\" class=\"row_heading level0 row6\" >floors_total</th>\n",
       "                        <td id=\"T_e543fc84_667e_11ec_96ef_02420a393c65row6_col0\" class=\"data row6 col0\" >0.36</td>\n",
       "            </tr>\n",
       "            <tr>\n",
       "                        <th id=\"T_e543fc84_667e_11ec_96ef_02420a393c65level0_row7\" class=\"row_heading level0 row7\" >living_area</th>\n",
       "                        <td id=\"T_e543fc84_667e_11ec_96ef_02420a393c65row7_col0\" class=\"data row7 col0\" >8.03</td>\n",
       "            </tr>\n",
       "            <tr>\n",
       "                        <th id=\"T_e543fc84_667e_11ec_96ef_02420a393c65level0_row8\" class=\"row_heading level0 row8\" >floor</th>\n",
       "                        <td id=\"T_e543fc84_667e_11ec_96ef_02420a393c65row8_col0\" class=\"data row8 col0\" >0</td>\n",
       "            </tr>\n",
       "            <tr>\n",
       "                        <th id=\"T_e543fc84_667e_11ec_96ef_02420a393c65level0_row9\" class=\"row_heading level0 row9\" >is_apartment</th>\n",
       "                        <td id=\"T_e543fc84_667e_11ec_96ef_02420a393c65row9_col0\" class=\"data row9 col0\" >88.29</td>\n",
       "            </tr>\n",
       "            <tr>\n",
       "                        <th id=\"T_e543fc84_667e_11ec_96ef_02420a393c65level0_row10\" class=\"row_heading level0 row10\" >is_studio</th>\n",
       "                        <td id=\"T_e543fc84_667e_11ec_96ef_02420a393c65row10_col0\" class=\"data row10 col0\" >0</td>\n",
       "            </tr>\n",
       "            <tr>\n",
       "                        <th id=\"T_e543fc84_667e_11ec_96ef_02420a393c65level0_row11\" class=\"row_heading level0 row11\" >is_open_plan</th>\n",
       "                        <td id=\"T_e543fc84_667e_11ec_96ef_02420a393c65row11_col0\" class=\"data row11 col0\" >0</td>\n",
       "            </tr>\n",
       "            <tr>\n",
       "                        <th id=\"T_e543fc84_667e_11ec_96ef_02420a393c65level0_row12\" class=\"row_heading level0 row12\" >kitchen_area</th>\n",
       "                        <td id=\"T_e543fc84_667e_11ec_96ef_02420a393c65row12_col0\" class=\"data row12 col0\" >9.61</td>\n",
       "            </tr>\n",
       "            <tr>\n",
       "                        <th id=\"T_e543fc84_667e_11ec_96ef_02420a393c65level0_row13\" class=\"row_heading level0 row13\" >balcony</th>\n",
       "                        <td id=\"T_e543fc84_667e_11ec_96ef_02420a393c65row13_col0\" class=\"data row13 col0\" >48.61</td>\n",
       "            </tr>\n",
       "            <tr>\n",
       "                        <th id=\"T_e543fc84_667e_11ec_96ef_02420a393c65level0_row14\" class=\"row_heading level0 row14\" >locality_name</th>\n",
       "                        <td id=\"T_e543fc84_667e_11ec_96ef_02420a393c65row14_col0\" class=\"data row14 col0\" >0.21</td>\n",
       "            </tr>\n",
       "            <tr>\n",
       "                        <th id=\"T_e543fc84_667e_11ec_96ef_02420a393c65level0_row15\" class=\"row_heading level0 row15\" >airports_nearest</th>\n",
       "                        <td id=\"T_e543fc84_667e_11ec_96ef_02420a393c65row15_col0\" class=\"data row15 col0\" >23.38</td>\n",
       "            </tr>\n",
       "            <tr>\n",
       "                        <th id=\"T_e543fc84_667e_11ec_96ef_02420a393c65level0_row16\" class=\"row_heading level0 row16\" >city_centers_nearest</th>\n",
       "                        <td id=\"T_e543fc84_667e_11ec_96ef_02420a393c65row16_col0\" class=\"data row16 col0\" >23.29</td>\n",
       "            </tr>\n",
       "            <tr>\n",
       "                        <th id=\"T_e543fc84_667e_11ec_96ef_02420a393c65level0_row17\" class=\"row_heading level0 row17\" >parks_around3000</th>\n",
       "                        <td id=\"T_e543fc84_667e_11ec_96ef_02420a393c65row17_col0\" class=\"data row17 col0\" >23.28</td>\n",
       "            </tr>\n",
       "            <tr>\n",
       "                        <th id=\"T_e543fc84_667e_11ec_96ef_02420a393c65level0_row18\" class=\"row_heading level0 row18\" >parks_nearest</th>\n",
       "                        <td id=\"T_e543fc84_667e_11ec_96ef_02420a393c65row18_col0\" class=\"data row18 col0\" >65.91</td>\n",
       "            </tr>\n",
       "            <tr>\n",
       "                        <th id=\"T_e543fc84_667e_11ec_96ef_02420a393c65level0_row19\" class=\"row_heading level0 row19\" >ponds_around3000</th>\n",
       "                        <td id=\"T_e543fc84_667e_11ec_96ef_02420a393c65row19_col0\" class=\"data row19 col0\" >23.28</td>\n",
       "            </tr>\n",
       "            <tr>\n",
       "                        <th id=\"T_e543fc84_667e_11ec_96ef_02420a393c65level0_row20\" class=\"row_heading level0 row20\" >ponds_nearest</th>\n",
       "                        <td id=\"T_e543fc84_667e_11ec_96ef_02420a393c65row20_col0\" class=\"data row20 col0\" >61.56</td>\n",
       "            </tr>\n",
       "            <tr>\n",
       "                        <th id=\"T_e543fc84_667e_11ec_96ef_02420a393c65level0_row21\" class=\"row_heading level0 row21\" >days_exposition</th>\n",
       "                        <td id=\"T_e543fc84_667e_11ec_96ef_02420a393c65row21_col0\" class=\"data row21 col0\" >13.42</td>\n",
       "            </tr>\n",
       "    </tbody></table>"
      ],
      "text/plain": [
       "<pandas.io.formats.style.Styler at 0x7f8524469ed0>"
      ]
     },
     "execution_count": 15,
     "metadata": {},
     "output_type": "execute_result"
    }
   ],
   "source": [
    "pd.DataFrame(round((data.isna().mean()*100),2)).style.background_gradient('coolwarm')"
   ]
  },
  {
   "cell_type": "markdown",
   "metadata": {},
   "source": [
    "Пропуски в столбцах есть как в нужных для наших вычислений, так и в тех, которые никак не повлияют на результат. Например, пропуски в столбце, обозначающем местоположение объекта недвижимости, критичны для нашей задачи, поэтому их придется удалить. Их немного, так что это не повлияет на вычисления. Пропуски в большинстве столбцов кажутся логичными, например, отсутствие значения в графах про парки, аэропорты, или про статус квартиры (студия и т.д.), могут указывать, что этих объектов просто нет поблизости, этот объект не является студией и т.д. Тоже и с высотой потолков, возможно, просто не проводились замеры и такой информации нет. Столбцы с высотой потолков, количеством балконов, парками и водоемами поблизости содержат очень большой процент пропусков, поскольку эти данные не понадобятся нам для вычислений, заполнять их какими-либо данными не будем, точно сказать какое именно значение можно вставить на место пропуска сложно, поскольку такое значение сильно повлияет на данные при работе с этими столбцами."
   ]
  },
  {
   "cell_type": "code",
   "execution_count": 16,
   "metadata": {
    "scrolled": true
   },
   "outputs": [
    {
     "data": {
      "text/plain": [
       "0"
      ]
     },
     "execution_count": 16,
     "metadata": {},
     "output_type": "execute_result"
    }
   ],
   "source": [
    "data = data.dropna(subset=['locality_name'])\n",
    "data['locality_name'].isnull().sum()"
   ]
  },
  {
   "cell_type": "markdown",
   "metadata": {},
   "source": [
    "Разберемся с пропусками в столбцах с указанием апартаментов. Пропуски можем заменить на ложь, скорее всего это и подразумевалось на отсутствующих позициях. Но для начала проверим какие значения присутствуют в столбцах и нет ли неожиданных."
   ]
  },
  {
   "cell_type": "code",
   "execution_count": 17,
   "metadata": {},
   "outputs": [
    {
     "data": {
      "text/plain": [
       "array([nan, False, True], dtype=object)"
      ]
     },
     "execution_count": 17,
     "metadata": {},
     "output_type": "execute_result"
    }
   ],
   "source": [
    "data['is_apartment'].unique()"
   ]
  },
  {
   "cell_type": "markdown",
   "metadata": {},
   "source": [
    "Заменим nan на False."
   ]
  },
  {
   "cell_type": "code",
   "execution_count": 18,
   "metadata": {
    "scrolled": true
   },
   "outputs": [],
   "source": [
    "data['is_apartment'] = data['is_apartment'].fillna(False)"
   ]
  },
  {
   "cell_type": "code",
   "execution_count": 19,
   "metadata": {
    "scrolled": true
   },
   "outputs": [
    {
     "data": {
      "text/plain": [
       "array([False,  True])"
      ]
     },
     "execution_count": 19,
     "metadata": {},
     "output_type": "execute_result"
    }
   ],
   "source": [
    "data['is_apartment'].unique()"
   ]
  },
  {
   "cell_type": "code",
   "execution_count": 20,
   "metadata": {},
   "outputs": [
    {
     "name": "stdout",
     "output_type": "stream",
     "text": [
      "<class 'pandas.core.frame.DataFrame'>\n",
      "Int64Index: 23650 entries, 0 to 23698\n",
      "Data columns (total 22 columns):\n",
      "total_images            23650 non-null int64\n",
      "last_price              23650 non-null object\n",
      "total_area              23650 non-null object\n",
      "first_day_exposition    23650 non-null object\n",
      "rooms                   23650 non-null int64\n",
      "ceiling_height          14490 non-null object\n",
      "floors_total            23565 non-null object\n",
      "living_area             21752 non-null object\n",
      "floor                   23650 non-null int64\n",
      "is_apartment            23650 non-null bool\n",
      "is_studio               23650 non-null bool\n",
      "is_open_plan            23650 non-null bool\n",
      "kitchen_area            21381 non-null object\n",
      "balcony                 12137 non-null object\n",
      "locality_name           23650 non-null object\n",
      "airports_nearest        18116 non-null object\n",
      "city_centers_nearest    18139 non-null object\n",
      "parks_around3000        18140 non-null object\n",
      "parks_nearest           8064 non-null object\n",
      "ponds_around3000        18140 non-null object\n",
      "ponds_nearest           9085 non-null object\n",
      "days_exposition         20470 non-null object\n",
      "dtypes: bool(3), int64(3), object(16)\n",
      "memory usage: 3.7+ MB\n"
     ]
    }
   ],
   "source": [
    "data.info()"
   ]
  },
  {
   "cell_type": "markdown",
   "metadata": {},
   "source": [
    "### Изменение типа данных"
   ]
  },
  {
   "cell_type": "markdown",
   "metadata": {},
   "source": [
    "Величины в столбцах `last_price`, `total_area`, `ceiling_height`, `floors_total`, `living_area`, `kitchen_area`, `balcony`, `airports_nearest`, `city_center_nearest`, `parks_around3000`, `parks_nearest`, `ponds_around3000`, `ponds_nearest`, `days_exposition` представлены в формате object. Поскольку нам потребуется проводить некоторые вычисления, заменим все числовые величины на формат, удобный для дальнейшей работы."
   ]
  },
  {
   "cell_type": "code",
   "execution_count": 21,
   "metadata": {},
   "outputs": [],
   "source": [
    "data['last_price'] = data['last_price'].astype('float64')\n",
    "data['total_area'] = data['total_area'].astype('float64')\n",
    "data['ceiling_height'] = data['ceiling_height'].astype('float64')\n",
    "data['floors_total'] = data['floors_total'].astype('float64')\n",
    "data['living_area'] = data['living_area'].astype('float64')\n",
    "data['kitchen_area'] = data['kitchen_area'].astype('float64')\n",
    "data['balcony'] = data['balcony'].astype('float64')\n",
    "data['airports_nearest'] = data['airports_nearest'].astype('float64')\n",
    "data['city_centers_nearest'] = data['city_centers_nearest'].astype('float64')\n",
    "data['parks_around3000'] = data['parks_around3000'].astype('float64')\n",
    "data['parks_nearest'] = data['parks_nearest'].astype('float64')\n",
    "data['ponds_around3000'] = data['ponds_around3000'].astype('float64')\n",
    "data['ponds_nearest'] = data['ponds_nearest'].astype('float64')\n",
    "data['days_exposition'] = data['days_exposition'].astype('float64')"
   ]
  },
  {
   "cell_type": "markdown",
   "metadata": {},
   "source": [
    "Проверим результат."
   ]
  },
  {
   "cell_type": "code",
   "execution_count": 22,
   "metadata": {},
   "outputs": [
    {
     "name": "stdout",
     "output_type": "stream",
     "text": [
      "<class 'pandas.core.frame.DataFrame'>\n",
      "Int64Index: 23650 entries, 0 to 23698\n",
      "Data columns (total 22 columns):\n",
      "total_images            23650 non-null int64\n",
      "last_price              23650 non-null float64\n",
      "total_area              23650 non-null float64\n",
      "first_day_exposition    23650 non-null object\n",
      "rooms                   23650 non-null int64\n",
      "ceiling_height          14490 non-null float64\n",
      "floors_total            23565 non-null float64\n",
      "living_area             21752 non-null float64\n",
      "floor                   23650 non-null int64\n",
      "is_apartment            23650 non-null bool\n",
      "is_studio               23650 non-null bool\n",
      "is_open_plan            23650 non-null bool\n",
      "kitchen_area            21381 non-null float64\n",
      "balcony                 12137 non-null float64\n",
      "locality_name           23650 non-null object\n",
      "airports_nearest        18116 non-null float64\n",
      "city_centers_nearest    18139 non-null float64\n",
      "parks_around3000        18140 non-null float64\n",
      "parks_nearest           8064 non-null float64\n",
      "ponds_around3000        18140 non-null float64\n",
      "ponds_nearest           9085 non-null float64\n",
      "days_exposition         20470 non-null float64\n",
      "dtypes: bool(3), float64(14), int64(3), object(2)\n",
      "memory usage: 3.7+ MB\n"
     ]
    }
   ],
   "source": [
    "data.info()"
   ]
  },
  {
   "cell_type": "markdown",
   "metadata": {},
   "source": [
    "Подкорректируем вид даты публикации, сейчас там присутствует не только дата, но и нулевое время, которое не несет смысла и мешает восприятию."
   ]
  },
  {
   "cell_type": "code",
   "execution_count": 23,
   "metadata": {},
   "outputs": [],
   "source": [
    "data['first_day_exposition'] = pd.to_datetime(data['first_day_exposition'], format=\"%Y-%m-%dT%H:%M:%S\")"
   ]
  },
  {
   "cell_type": "code",
   "execution_count": 24,
   "metadata": {},
   "outputs": [
    {
     "data": {
      "text/html": [
       "<div>\n",
       "<style scoped>\n",
       "    .dataframe tbody tr th:only-of-type {\n",
       "        vertical-align: middle;\n",
       "    }\n",
       "\n",
       "    .dataframe tbody tr th {\n",
       "        vertical-align: top;\n",
       "    }\n",
       "\n",
       "    .dataframe thead th {\n",
       "        text-align: right;\n",
       "    }\n",
       "</style>\n",
       "<table border=\"1\" class=\"dataframe\">\n",
       "  <thead>\n",
       "    <tr style=\"text-align: right;\">\n",
       "      <th></th>\n",
       "      <th>total_images</th>\n",
       "      <th>last_price</th>\n",
       "      <th>total_area</th>\n",
       "      <th>first_day_exposition</th>\n",
       "      <th>rooms</th>\n",
       "      <th>ceiling_height</th>\n",
       "      <th>floors_total</th>\n",
       "      <th>living_area</th>\n",
       "      <th>floor</th>\n",
       "      <th>is_apartment</th>\n",
       "      <th>...</th>\n",
       "      <th>kitchen_area</th>\n",
       "      <th>balcony</th>\n",
       "      <th>locality_name</th>\n",
       "      <th>airports_nearest</th>\n",
       "      <th>city_centers_nearest</th>\n",
       "      <th>parks_around3000</th>\n",
       "      <th>parks_nearest</th>\n",
       "      <th>ponds_around3000</th>\n",
       "      <th>ponds_nearest</th>\n",
       "      <th>days_exposition</th>\n",
       "    </tr>\n",
       "  </thead>\n",
       "  <tbody>\n",
       "    <tr>\n",
       "      <td>0</td>\n",
       "      <td>20</td>\n",
       "      <td>13000000.0</td>\n",
       "      <td>108.0</td>\n",
       "      <td>2019-03-07</td>\n",
       "      <td>3</td>\n",
       "      <td>2.70</td>\n",
       "      <td>16.0</td>\n",
       "      <td>51.0</td>\n",
       "      <td>8</td>\n",
       "      <td>False</td>\n",
       "      <td>...</td>\n",
       "      <td>25.0</td>\n",
       "      <td>NaN</td>\n",
       "      <td>Санкт-Петербург</td>\n",
       "      <td>18863.0</td>\n",
       "      <td>16028.0</td>\n",
       "      <td>1.0</td>\n",
       "      <td>482.0</td>\n",
       "      <td>2.0</td>\n",
       "      <td>755.0</td>\n",
       "      <td>NaN</td>\n",
       "    </tr>\n",
       "    <tr>\n",
       "      <td>1</td>\n",
       "      <td>7</td>\n",
       "      <td>3350000.0</td>\n",
       "      <td>40.4</td>\n",
       "      <td>2018-12-04</td>\n",
       "      <td>1</td>\n",
       "      <td>NaN</td>\n",
       "      <td>11.0</td>\n",
       "      <td>18.6</td>\n",
       "      <td>1</td>\n",
       "      <td>False</td>\n",
       "      <td>...</td>\n",
       "      <td>11.0</td>\n",
       "      <td>2.0</td>\n",
       "      <td>поселок Шушары</td>\n",
       "      <td>12817.0</td>\n",
       "      <td>18603.0</td>\n",
       "      <td>0.0</td>\n",
       "      <td>NaN</td>\n",
       "      <td>0.0</td>\n",
       "      <td>NaN</td>\n",
       "      <td>81.0</td>\n",
       "    </tr>\n",
       "    <tr>\n",
       "      <td>2</td>\n",
       "      <td>10</td>\n",
       "      <td>5196000.0</td>\n",
       "      <td>56.0</td>\n",
       "      <td>2015-08-20</td>\n",
       "      <td>2</td>\n",
       "      <td>NaN</td>\n",
       "      <td>5.0</td>\n",
       "      <td>34.3</td>\n",
       "      <td>4</td>\n",
       "      <td>False</td>\n",
       "      <td>...</td>\n",
       "      <td>8.3</td>\n",
       "      <td>0.0</td>\n",
       "      <td>Санкт-Петербург</td>\n",
       "      <td>21741.0</td>\n",
       "      <td>13933.0</td>\n",
       "      <td>1.0</td>\n",
       "      <td>90.0</td>\n",
       "      <td>2.0</td>\n",
       "      <td>574.0</td>\n",
       "      <td>558.0</td>\n",
       "    </tr>\n",
       "    <tr>\n",
       "      <td>3</td>\n",
       "      <td>0</td>\n",
       "      <td>64900000.0</td>\n",
       "      <td>159.0</td>\n",
       "      <td>2015-07-24</td>\n",
       "      <td>3</td>\n",
       "      <td>NaN</td>\n",
       "      <td>14.0</td>\n",
       "      <td>NaN</td>\n",
       "      <td>9</td>\n",
       "      <td>False</td>\n",
       "      <td>...</td>\n",
       "      <td>NaN</td>\n",
       "      <td>0.0</td>\n",
       "      <td>Санкт-Петербург</td>\n",
       "      <td>28098.0</td>\n",
       "      <td>6800.0</td>\n",
       "      <td>2.0</td>\n",
       "      <td>84.0</td>\n",
       "      <td>3.0</td>\n",
       "      <td>234.0</td>\n",
       "      <td>424.0</td>\n",
       "    </tr>\n",
       "    <tr>\n",
       "      <td>4</td>\n",
       "      <td>2</td>\n",
       "      <td>10000000.0</td>\n",
       "      <td>100.0</td>\n",
       "      <td>2018-06-19</td>\n",
       "      <td>2</td>\n",
       "      <td>3.03</td>\n",
       "      <td>14.0</td>\n",
       "      <td>32.0</td>\n",
       "      <td>13</td>\n",
       "      <td>False</td>\n",
       "      <td>...</td>\n",
       "      <td>41.0</td>\n",
       "      <td>NaN</td>\n",
       "      <td>Санкт-Петербург</td>\n",
       "      <td>31856.0</td>\n",
       "      <td>8098.0</td>\n",
       "      <td>2.0</td>\n",
       "      <td>112.0</td>\n",
       "      <td>1.0</td>\n",
       "      <td>48.0</td>\n",
       "      <td>121.0</td>\n",
       "    </tr>\n",
       "  </tbody>\n",
       "</table>\n",
       "<p>5 rows × 22 columns</p>\n",
       "</div>"
      ],
      "text/plain": [
       "   total_images  last_price  total_area first_day_exposition  rooms  \\\n",
       "0            20  13000000.0       108.0           2019-03-07      3   \n",
       "1             7   3350000.0        40.4           2018-12-04      1   \n",
       "2            10   5196000.0        56.0           2015-08-20      2   \n",
       "3             0  64900000.0       159.0           2015-07-24      3   \n",
       "4             2  10000000.0       100.0           2018-06-19      2   \n",
       "\n",
       "   ceiling_height  floors_total  living_area  floor  is_apartment  ...  \\\n",
       "0            2.70          16.0         51.0      8         False  ...   \n",
       "1             NaN          11.0         18.6      1         False  ...   \n",
       "2             NaN           5.0         34.3      4         False  ...   \n",
       "3             NaN          14.0          NaN      9         False  ...   \n",
       "4            3.03          14.0         32.0     13         False  ...   \n",
       "\n",
       "   kitchen_area  balcony    locality_name  airports_nearest  \\\n",
       "0          25.0      NaN  Санкт-Петербург           18863.0   \n",
       "1          11.0      2.0   поселок Шушары           12817.0   \n",
       "2           8.3      0.0  Санкт-Петербург           21741.0   \n",
       "3           NaN      0.0  Санкт-Петербург           28098.0   \n",
       "4          41.0      NaN  Санкт-Петербург           31856.0   \n",
       "\n",
       "  city_centers_nearest  parks_around3000  parks_nearest  ponds_around3000  \\\n",
       "0              16028.0               1.0          482.0               2.0   \n",
       "1              18603.0               0.0            NaN               0.0   \n",
       "2              13933.0               1.0           90.0               2.0   \n",
       "3               6800.0               2.0           84.0               3.0   \n",
       "4               8098.0               2.0          112.0               1.0   \n",
       "\n",
       "   ponds_nearest  days_exposition  \n",
       "0          755.0              NaN  \n",
       "1            NaN             81.0  \n",
       "2          574.0            558.0  \n",
       "3          234.0            424.0  \n",
       "4           48.0            121.0  \n",
       "\n",
       "[5 rows x 22 columns]"
      ]
     },
     "execution_count": 24,
     "metadata": {},
     "output_type": "execute_result"
    }
   ],
   "source": [
    "data.head(5)"
   ]
  },
  {
   "cell_type": "markdown",
   "metadata": {},
   "source": [
    "### Выводы"
   ]
  },
  {
   "cell_type": "markdown",
   "metadata": {},
   "source": [
    "Мы исправили названия столбцов, не соответствовавших общепринятым правилам.Нашли дубликаты некоторых названий в столбце с населенным пунктом и удалили их. Также удалили те строки, которые не содержали никакой информации о населенном пункте, где находится данный объект недвижимости, поскольку без этих значений эти строки становятся бесполезными и для нашего исследования, и для пользователей в целом. В столбцах со статусом квартиры - `is_apartment`, `is_studio`, `is_open_plan`, пропуски были заменены на значение Ложь, поскольку кажется логичным, что их отсутствие как раз этот статус и передает. Изменили тип данных во всех столбцах, содержащих числа, требуемые для вычислений с object на float, а также убрали время из формата даты публикации."
   ]
  },
  {
   "cell_type": "markdown",
   "metadata": {},
   "source": [
    "## Расчёты и добавление результатов в таблицу"
   ]
  },
  {
   "cell_type": "markdown",
   "metadata": {},
   "source": [
    "Начнём с создания столбца с разбиением этажей на три группы: первый, последний, другой."
   ]
  },
  {
   "cell_type": "code",
   "execution_count": 25,
   "metadata": {},
   "outputs": [],
   "source": [
    "def floor_rating(row):\n",
    "    if row['floor'] == 1:\n",
    "        return 'первый'\n",
    "    elif row['floor'] == row['floors_total']:\n",
    "        return 'последний'\n",
    "    else:\n",
    "        return 'другой'\n",
    "    \n",
    "data['floor_rating'] = data.apply(floor_rating, axis=1)"
   ]
  },
  {
   "cell_type": "markdown",
   "metadata": {},
   "source": [
    "Чтобы рассчитать цену квадратного метра, используем столбцы `last_price` и `total_area`."
   ]
  },
  {
   "cell_type": "code",
   "execution_count": 26,
   "metadata": {},
   "outputs": [],
   "source": [
    "data['price_for_m2'] = data['last_price']/data['total_area']\n",
    "data['price_for_m2'] = data['price_for_m2'].round(decimals = 2)"
   ]
  },
  {
   "cell_type": "markdown",
   "metadata": {},
   "source": [
    "Теперь рассчитаем соотношение жилой площади к общей и кухни к жилой площади."
   ]
  },
  {
   "cell_type": "code",
   "execution_count": 27,
   "metadata": {},
   "outputs": [],
   "source": [
    "data['living_to_total'] = data['living_area']/data['total_area']\n",
    "data['kitchen_to_living'] = data['kitchen_area']/data['living_area']"
   ]
  },
  {
   "cell_type": "markdown",
   "metadata": {},
   "source": [
    "И последнее, что требуется сделать это найти день недели, месяц и год публикации объявления. Займемся этим."
   ]
  },
  {
   "cell_type": "code",
   "execution_count": 28,
   "metadata": {},
   "outputs": [],
   "source": [
    "data['day_week_exposition'] = data['first_day_exposition'].dt.day_name()\n",
    "data['month_exposition'] = data['first_day_exposition'].dt.month_name()\n",
    "data['year_exposition'] = data['first_day_exposition'].dt.year"
   ]
  },
  {
   "cell_type": "code",
   "execution_count": 29,
   "metadata": {},
   "outputs": [
    {
     "data": {
      "text/html": [
       "<div>\n",
       "<style scoped>\n",
       "    .dataframe tbody tr th:only-of-type {\n",
       "        vertical-align: middle;\n",
       "    }\n",
       "\n",
       "    .dataframe tbody tr th {\n",
       "        vertical-align: top;\n",
       "    }\n",
       "\n",
       "    .dataframe thead th {\n",
       "        text-align: right;\n",
       "    }\n",
       "</style>\n",
       "<table border=\"1\" class=\"dataframe\">\n",
       "  <thead>\n",
       "    <tr style=\"text-align: right;\">\n",
       "      <th></th>\n",
       "      <th>total_images</th>\n",
       "      <th>last_price</th>\n",
       "      <th>total_area</th>\n",
       "      <th>first_day_exposition</th>\n",
       "      <th>rooms</th>\n",
       "      <th>ceiling_height</th>\n",
       "      <th>floors_total</th>\n",
       "      <th>living_area</th>\n",
       "      <th>floor</th>\n",
       "      <th>is_apartment</th>\n",
       "      <th>...</th>\n",
       "      <th>ponds_around3000</th>\n",
       "      <th>ponds_nearest</th>\n",
       "      <th>days_exposition</th>\n",
       "      <th>floor_rating</th>\n",
       "      <th>price_for_m2</th>\n",
       "      <th>living_to_total</th>\n",
       "      <th>kitchen_to_living</th>\n",
       "      <th>day_week_exposition</th>\n",
       "      <th>month_exposition</th>\n",
       "      <th>year_exposition</th>\n",
       "    </tr>\n",
       "  </thead>\n",
       "  <tbody>\n",
       "    <tr>\n",
       "      <td>0</td>\n",
       "      <td>20</td>\n",
       "      <td>13000000.0</td>\n",
       "      <td>108.0</td>\n",
       "      <td>2019-03-07</td>\n",
       "      <td>3</td>\n",
       "      <td>2.70</td>\n",
       "      <td>16.0</td>\n",
       "      <td>51.0</td>\n",
       "      <td>8</td>\n",
       "      <td>False</td>\n",
       "      <td>...</td>\n",
       "      <td>2.0</td>\n",
       "      <td>755.0</td>\n",
       "      <td>NaN</td>\n",
       "      <td>другой</td>\n",
       "      <td>120370.37</td>\n",
       "      <td>0.472222</td>\n",
       "      <td>0.490196</td>\n",
       "      <td>Thursday</td>\n",
       "      <td>March</td>\n",
       "      <td>2019</td>\n",
       "    </tr>\n",
       "    <tr>\n",
       "      <td>1</td>\n",
       "      <td>7</td>\n",
       "      <td>3350000.0</td>\n",
       "      <td>40.4</td>\n",
       "      <td>2018-12-04</td>\n",
       "      <td>1</td>\n",
       "      <td>NaN</td>\n",
       "      <td>11.0</td>\n",
       "      <td>18.6</td>\n",
       "      <td>1</td>\n",
       "      <td>False</td>\n",
       "      <td>...</td>\n",
       "      <td>0.0</td>\n",
       "      <td>NaN</td>\n",
       "      <td>81.0</td>\n",
       "      <td>первый</td>\n",
       "      <td>82920.79</td>\n",
       "      <td>0.460396</td>\n",
       "      <td>0.591398</td>\n",
       "      <td>Tuesday</td>\n",
       "      <td>December</td>\n",
       "      <td>2018</td>\n",
       "    </tr>\n",
       "    <tr>\n",
       "      <td>2</td>\n",
       "      <td>10</td>\n",
       "      <td>5196000.0</td>\n",
       "      <td>56.0</td>\n",
       "      <td>2015-08-20</td>\n",
       "      <td>2</td>\n",
       "      <td>NaN</td>\n",
       "      <td>5.0</td>\n",
       "      <td>34.3</td>\n",
       "      <td>4</td>\n",
       "      <td>False</td>\n",
       "      <td>...</td>\n",
       "      <td>2.0</td>\n",
       "      <td>574.0</td>\n",
       "      <td>558.0</td>\n",
       "      <td>другой</td>\n",
       "      <td>92785.71</td>\n",
       "      <td>0.612500</td>\n",
       "      <td>0.241983</td>\n",
       "      <td>Thursday</td>\n",
       "      <td>August</td>\n",
       "      <td>2015</td>\n",
       "    </tr>\n",
       "    <tr>\n",
       "      <td>3</td>\n",
       "      <td>0</td>\n",
       "      <td>64900000.0</td>\n",
       "      <td>159.0</td>\n",
       "      <td>2015-07-24</td>\n",
       "      <td>3</td>\n",
       "      <td>NaN</td>\n",
       "      <td>14.0</td>\n",
       "      <td>NaN</td>\n",
       "      <td>9</td>\n",
       "      <td>False</td>\n",
       "      <td>...</td>\n",
       "      <td>3.0</td>\n",
       "      <td>234.0</td>\n",
       "      <td>424.0</td>\n",
       "      <td>другой</td>\n",
       "      <td>408176.10</td>\n",
       "      <td>NaN</td>\n",
       "      <td>NaN</td>\n",
       "      <td>Friday</td>\n",
       "      <td>July</td>\n",
       "      <td>2015</td>\n",
       "    </tr>\n",
       "    <tr>\n",
       "      <td>4</td>\n",
       "      <td>2</td>\n",
       "      <td>10000000.0</td>\n",
       "      <td>100.0</td>\n",
       "      <td>2018-06-19</td>\n",
       "      <td>2</td>\n",
       "      <td>3.03</td>\n",
       "      <td>14.0</td>\n",
       "      <td>32.0</td>\n",
       "      <td>13</td>\n",
       "      <td>False</td>\n",
       "      <td>...</td>\n",
       "      <td>1.0</td>\n",
       "      <td>48.0</td>\n",
       "      <td>121.0</td>\n",
       "      <td>другой</td>\n",
       "      <td>100000.00</td>\n",
       "      <td>0.320000</td>\n",
       "      <td>1.281250</td>\n",
       "      <td>Tuesday</td>\n",
       "      <td>June</td>\n",
       "      <td>2018</td>\n",
       "    </tr>\n",
       "  </tbody>\n",
       "</table>\n",
       "<p>5 rows × 29 columns</p>\n",
       "</div>"
      ],
      "text/plain": [
       "   total_images  last_price  total_area first_day_exposition  rooms  \\\n",
       "0            20  13000000.0       108.0           2019-03-07      3   \n",
       "1             7   3350000.0        40.4           2018-12-04      1   \n",
       "2            10   5196000.0        56.0           2015-08-20      2   \n",
       "3             0  64900000.0       159.0           2015-07-24      3   \n",
       "4             2  10000000.0       100.0           2018-06-19      2   \n",
       "\n",
       "   ceiling_height  floors_total  living_area  floor  is_apartment  ...  \\\n",
       "0            2.70          16.0         51.0      8         False  ...   \n",
       "1             NaN          11.0         18.6      1         False  ...   \n",
       "2             NaN           5.0         34.3      4         False  ...   \n",
       "3             NaN          14.0          NaN      9         False  ...   \n",
       "4            3.03          14.0         32.0     13         False  ...   \n",
       "\n",
       "   ponds_around3000  ponds_nearest  days_exposition  floor_rating  \\\n",
       "0               2.0          755.0              NaN        другой   \n",
       "1               0.0            NaN             81.0        первый   \n",
       "2               2.0          574.0            558.0        другой   \n",
       "3               3.0          234.0            424.0        другой   \n",
       "4               1.0           48.0            121.0        другой   \n",
       "\n",
       "  price_for_m2  living_to_total  kitchen_to_living  day_week_exposition  \\\n",
       "0    120370.37         0.472222           0.490196             Thursday   \n",
       "1     82920.79         0.460396           0.591398              Tuesday   \n",
       "2     92785.71         0.612500           0.241983             Thursday   \n",
       "3    408176.10              NaN                NaN               Friday   \n",
       "4    100000.00         0.320000           1.281250              Tuesday   \n",
       "\n",
       "   month_exposition  year_exposition  \n",
       "0             March             2019  \n",
       "1          December             2018  \n",
       "2            August             2015  \n",
       "3              July             2015  \n",
       "4              June             2018  \n",
       "\n",
       "[5 rows x 29 columns]"
      ]
     },
     "execution_count": 29,
     "metadata": {},
     "output_type": "execute_result"
    }
   ],
   "source": [
    "data.head(5)"
   ]
  },
  {
   "cell_type": "markdown",
   "metadata": {},
   "source": [
    "### Выводы"
   ]
  },
  {
   "cell_type": "markdown",
   "metadata": {},
   "source": [
    "Вычислили требуемые значения и добавили в таблицу столбцы: `floor_rating` с распределением этажей на три группы, `price_for_m2`, содержащий стоимость за квадратный метр для каждой квартиры, `living_to_total` - отношение жилой площади к общей, рассчитанное для всех случаев, когда нам были даны данные для этого, `kitchen_to_living` с рассчетом отношения площади кухни к жилой также для случаев, когда эти данные даны. Добавили столбцы со значениями дня недели, месяца и года публикации объявления."
   ]
  },
  {
   "cell_type": "markdown",
   "metadata": {},
   "source": [
    "## Исследовательский анализ данных"
   ]
  },
  {
   "cell_type": "markdown",
   "metadata": {},
   "source": [
    "### Изучим параметры: площадь, цена, число комнат, высота потолков. "
   ]
  },
  {
   "cell_type": "markdown",
   "metadata": {},
   "source": [
    "Внимательно посмотрим на значения площади, цены, количества комнат, высоту потолков. Возможно, сможем найти какие-то аномальные значения и интересные зависимости."
   ]
  },
  {
   "cell_type": "code",
   "execution_count": 30,
   "metadata": {
    "scrolled": true
   },
   "outputs": [
    {
     "data": {
      "text/html": [
       "<div>\n",
       "<style scoped>\n",
       "    .dataframe tbody tr th:only-of-type {\n",
       "        vertical-align: middle;\n",
       "    }\n",
       "\n",
       "    .dataframe tbody tr th {\n",
       "        vertical-align: top;\n",
       "    }\n",
       "\n",
       "    .dataframe thead th {\n",
       "        text-align: right;\n",
       "    }\n",
       "</style>\n",
       "<table border=\"1\" class=\"dataframe\">\n",
       "  <thead>\n",
       "    <tr style=\"text-align: right;\">\n",
       "      <th></th>\n",
       "      <th>total_area</th>\n",
       "      <th>last_price</th>\n",
       "      <th>rooms</th>\n",
       "      <th>ceiling_height</th>\n",
       "    </tr>\n",
       "  </thead>\n",
       "  <tbody>\n",
       "    <tr>\n",
       "      <td>count</td>\n",
       "      <td>23650.000000</td>\n",
       "      <td>2.365000e+04</td>\n",
       "      <td>23650.000000</td>\n",
       "      <td>14490.000000</td>\n",
       "    </tr>\n",
       "    <tr>\n",
       "      <td>mean</td>\n",
       "      <td>60.329069</td>\n",
       "      <td>6.541127e+06</td>\n",
       "      <td>2.070106</td>\n",
       "      <td>2.771287</td>\n",
       "    </tr>\n",
       "    <tr>\n",
       "      <td>std</td>\n",
       "      <td>35.661808</td>\n",
       "      <td>1.089640e+07</td>\n",
       "      <td>1.078620</td>\n",
       "      <td>1.261593</td>\n",
       "    </tr>\n",
       "    <tr>\n",
       "      <td>min</td>\n",
       "      <td>12.000000</td>\n",
       "      <td>1.219000e+04</td>\n",
       "      <td>0.000000</td>\n",
       "      <td>1.000000</td>\n",
       "    </tr>\n",
       "    <tr>\n",
       "      <td>25%</td>\n",
       "      <td>40.000000</td>\n",
       "      <td>3.400000e+06</td>\n",
       "      <td>1.000000</td>\n",
       "      <td>2.520000</td>\n",
       "    </tr>\n",
       "    <tr>\n",
       "      <td>50%</td>\n",
       "      <td>52.000000</td>\n",
       "      <td>4.650000e+06</td>\n",
       "      <td>2.000000</td>\n",
       "      <td>2.650000</td>\n",
       "    </tr>\n",
       "    <tr>\n",
       "      <td>75%</td>\n",
       "      <td>69.700000</td>\n",
       "      <td>6.799000e+06</td>\n",
       "      <td>3.000000</td>\n",
       "      <td>2.800000</td>\n",
       "    </tr>\n",
       "    <tr>\n",
       "      <td>max</td>\n",
       "      <td>900.000000</td>\n",
       "      <td>7.630000e+08</td>\n",
       "      <td>19.000000</td>\n",
       "      <td>100.000000</td>\n",
       "    </tr>\n",
       "  </tbody>\n",
       "</table>\n",
       "</div>"
      ],
      "text/plain": [
       "         total_area    last_price         rooms  ceiling_height\n",
       "count  23650.000000  2.365000e+04  23650.000000    14490.000000\n",
       "mean      60.329069  6.541127e+06      2.070106        2.771287\n",
       "std       35.661808  1.089640e+07      1.078620        1.261593\n",
       "min       12.000000  1.219000e+04      0.000000        1.000000\n",
       "25%       40.000000  3.400000e+06      1.000000        2.520000\n",
       "50%       52.000000  4.650000e+06      2.000000        2.650000\n",
       "75%       69.700000  6.799000e+06      3.000000        2.800000\n",
       "max      900.000000  7.630000e+08     19.000000      100.000000"
      ]
     },
     "execution_count": 30,
     "metadata": {},
     "output_type": "execute_result"
    }
   ],
   "source": [
    "data[['total_area', 'last_price', 'rooms', 'ceiling_height']].describe()"
   ]
  },
  {
   "cell_type": "markdown",
   "metadata": {},
   "source": [
    "Достаточно странно выглядит площадь в 900 квадратных метров на фоне остальных значений. Как и максимальная стоимость, которая больше основной массы данных на два порядка. Количество комнат 0 это явно какая-то ошибка, подозрительны и потолки высотой в 1 метр и 100 метров. Минимальная стоимость 12900 не похожа на правдоподобную. В идеале, требуется выяснить у тех, кто заполнял данные, с чем могут быть связаны эти выбросы. Эти данные могут повлиять на зависимость, которую мы в будущем построим, поэтому от аномальных значений надо будет избавляться."
   ]
  },
  {
   "cell_type": "markdown",
   "metadata": {},
   "source": [
    "Построим гистограммы для данных столбцов `total_area`, `last_price`, `rooms`, `ceiling_height`. Благодаря методу describe() мы выяснили, что в каждом столбце присутствуют аномальные значения, которые сильно повлияют на гистограмму, чтобы подробнее рассмотреть распределение, ограничим промежутки, для которых будет постоена гистограмма, исходя из среднего значения и квартилей введем такие ограничения: для высоты потолков ограничим значения до 4 метров, в данных есть выбросы порядка 100 метров, это сильно исказит картину. То же сделаем и с ценой, возьмем промежуток от 0 до 15 млн с небольшим запасом. "
   ]
  },
  {
   "cell_type": "code",
   "execution_count": 31,
   "metadata": {},
   "outputs": [
    {
     "data": {
      "image/png": "[encoded data removed]",
      "text/plain": [
       "<Figure size 360x216 with 1 Axes>"
      ]
     },
     "metadata": {
      "needs_background": "light"
     },
     "output_type": "display_data"
    },
    {
     "data": {
      "image/png": "[encoded data removed]",
      "text/plain": [
       "<Figure size 360x216 with 1 Axes>"
      ]
     },
     "metadata": {
      "needs_background": "light"
     },
     "output_type": "display_data"
    },
    {
     "data": {
      "image/png": "[encoded data removed]",
      "text/plain": [
       "<Figure size 360x216 with 1 Axes>"
      ]
     },
     "metadata": {
      "needs_background": "light"
     },
     "output_type": "display_data"
    },
    {
     "data": {
      "image/png": "[encoded data removed]",
      "text/plain": [
       "<Figure size 360x216 with 1 Axes>"
      ]
     },
     "metadata": {
      "needs_background": "light"
     },
     "output_type": "display_data"
    }
   ],
   "source": [
    "data.plot(y = 'total_area', kind = 'hist', bins = 100, grid=True, figsize = (5,3), range = (0,500), legend = None)\n",
    "plt.title('Гистограмма распределения площади')\n",
    "plt.xlabel('total_area')\n",
    "plt.show()\n",
    "\n",
    "data.plot(y = 'last_price', kind = 'hist', bins = 100, grid=True, range = (0,15000000), figsize = (5,3), legend = None)\n",
    "plt.title('Гистограмма распределения последней стоимости')\n",
    "plt.xlabel('last_price')\n",
    "plt.show()\n",
    "\n",
    "data.plot(y = 'rooms', kind = 'hist', bins = 30, grid=True, figsize = (5,3), legend = None)\n",
    "plt.title('Гистограмма распределения количества комнат')\n",
    "plt.xlabel('rooms')\n",
    "plt.show()\n",
    "\n",
    "\n",
    "data.plot(y = 'ceiling_height', kind = 'hist', bins = 30, range = (2,5), grid=True, figsize = (5,3), legend = None)\n",
    "plt.title('Гистограмма распределения высоты потолков')\n",
    "plt.xlabel('ceiling_height')\n",
    "plt.show()\n"
   ]
  },
  {
   "cell_type": "markdown",
   "metadata": {},
   "source": [
    "Гистограммы для площади и цены напоминают нормальное распределение. Видим, что на гистограмме для `last_price`присутствует достаточно много пиков выбросов, но, в принципе, все данные выглядят нормально, а наличие пиков сильно не сказывается на общем распределении."
   ]
  },
  {
   "cell_type": "markdown",
   "metadata": {},
   "source": [
    "#### Выводы"
   ]
  },
  {
   "cell_type": "markdown",
   "metadata": {},
   "source": [
    "- `total_area`: значения от 20 до 900 м2, среднее значение 60 м2, а отклонение от среднего составляет 35 м2.\n",
    "- `last_price`: минимальная стоимость 12190, максимальная 763 млн, при этом среднее составляет 6,5 млн, а отклонение от среднего 10,9 млн.\n",
    "- `rooms`: значения от 0 до 19 комнат, при этом среднее количество 2 комнаты, и. действительно, видим пики на 1-комнатных и 2,3-комнатных квартирах.\n",
    "- `ceiling_height`: принимает значения от 1,26 м до 100 м, среднее составляет 2,77 м, а отклонение от среднего 1,26 м.\n",
    "Встречаются достаточно большие отклонения от среднего, это может быть связано с аномально больших и маленьких значений в каждом из столбцов."
   ]
  },
  {
   "cell_type": "markdown",
   "metadata": {},
   "source": [
    "### Изучаем время продажи квартиры"
   ]
  },
  {
   "cell_type": "markdown",
   "metadata": {},
   "source": [
    "Построим гистограмму, посчитаем среднее и медиану. Проанализируем, сколько обычно занимает продажа. Ответим на вопрос: когда можно считать, что продажи прошли очень быстро, а когда необычно долго?"
   ]
  },
  {
   "cell_type": "code",
   "execution_count": 32,
   "metadata": {},
   "outputs": [
    {
     "data": {
      "image/png": "[encoded data removed]",
      "text/plain": [
       "<Figure size 432x288 with 1 Axes>"
      ]
     },
     "metadata": {
      "needs_background": "light"
     },
     "output_type": "display_data"
    }
   ],
   "source": [
    "data.plot(y = 'days_exposition', kind = 'hist', bins = 50, grid = True, legend = None)\n",
    "plt.title('Гистограмма распределения дней размещения объявления')\n",
    "plt.xlabel('days_exposition')\n",
    "plt.show()"
   ]
  },
  {
   "cell_type": "markdown",
   "metadata": {},
   "source": [
    "Полученная зависимость выглядит как распределение Пуассона, рассмотрим подробнее промежуток с наиболее встречающимися значениями, чтобы очевиднее понимать, какое количество дней считает обычным для продажи."
   ]
  },
  {
   "cell_type": "code",
   "execution_count": 33,
   "metadata": {
    "scrolled": true
   },
   "outputs": [
    {
     "data": {
      "image/png": "[encoded data removed]",
      "text/plain": [
       "<Figure size 432x288 with 1 Axes>"
      ]
     },
     "metadata": {
      "needs_background": "light"
     },
     "output_type": "display_data"
    }
   ],
   "source": [
    "data.plot(y = 'days_exposition', kind = 'hist', bins = 100, range = (0, 250), grid = True, legend = None)\n",
    "plt.title('Распределение дней размещения для промежутка от 0 до 250 дней')\n",
    "plt.xlabel('days_exposition')\n",
    "plt.show()"
   ]
  },
  {
   "cell_type": "markdown",
   "metadata": {},
   "source": [
    "Видим на гистограмме три аномально больших пика в районе около 45, 55 и 90 дней, вряд ли это связано с тем, что именно в эти дни продажи резко возрастают, возможно, это как-то связано с сервисом размещения или с какими-то ошибками при выгрузке данных. Думаю, что для подсчетов времени продажи нам придется исключить эти аномальные значения. Определим какие конкретно дни выбиваются."
   ]
  },
  {
   "cell_type": "code",
   "execution_count": 34,
   "metadata": {},
   "outputs": [
    {
     "data": {
      "text/plain": [
       "773.0       1\n",
       "1362.0      1\n",
       "1117.0      1\n",
       "628.0       1\n",
       "1076.0      1\n",
       "         ... \n",
       "90.0      203\n",
       "30.0      208\n",
       "7.0       234\n",
       "60.0      538\n",
       "45.0      879\n",
       "Name: days_exposition, Length: 1141, dtype: int64"
      ]
     },
     "execution_count": 34,
     "metadata": {},
     "output_type": "execute_result"
    }
   ],
   "source": [
    "data['days_exposition'].value_counts().sort_values()"
   ]
  },
  {
   "cell_type": "markdown",
   "metadata": {},
   "source": [
    "Проблемный срок это 7, 45, 60 и 90 дней. При этом сильнее всего на картину влияют 45, 60 и 90 дней. Обычно, публикация объявлений прекращается как раз через такие промежутки, если пользователь не продлевает объявление, возможно, проблема в этом, но, получается, что нет точной информации, что эти квартиры действителньо проданы, возможно, объявление просто закрылось, либо же квартиру продали раньше, а объявление не удалили."
   ]
  },
  {
   "cell_type": "markdown",
   "metadata": {},
   "source": [
    "Посчитаем среднее."
   ]
  },
  {
   "cell_type": "code",
   "execution_count": 35,
   "metadata": {},
   "outputs": [
    {
     "data": {
      "text/plain": [
       "180.7531998045921"
      ]
     },
     "execution_count": 35,
     "metadata": {},
     "output_type": "execute_result"
    }
   ],
   "source": [
    "data['days_exposition'].mean()"
   ]
  },
  {
   "cell_type": "markdown",
   "metadata": {},
   "source": [
    "Посчитаем медиану."
   ]
  },
  {
   "cell_type": "code",
   "execution_count": 36,
   "metadata": {},
   "outputs": [
    {
     "data": {
      "text/plain": [
       "95.0"
      ]
     },
     "execution_count": 36,
     "metadata": {},
     "output_type": "execute_result"
    }
   ],
   "source": [
    "data['days_exposition'].median()"
   ]
  },
  {
   "cell_type": "markdown",
   "metadata": {},
   "source": [
    "Посмотрим распределение."
   ]
  },
  {
   "cell_type": "code",
   "execution_count": 37,
   "metadata": {
    "scrolled": false
   },
   "outputs": [
    {
     "data": {
      "text/plain": [
       "count    20470.000000\n",
       "mean       180.753200\n",
       "std        219.777916\n",
       "min          1.000000\n",
       "25%         45.000000\n",
       "50%         95.000000\n",
       "75%        231.000000\n",
       "max       1580.000000\n",
       "Name: days_exposition, dtype: float64"
      ]
     },
     "execution_count": 37,
     "metadata": {},
     "output_type": "execute_result"
    }
   ],
   "source": [
    "data['days_exposition'].describe()"
   ]
  },
  {
   "cell_type": "markdown",
   "metadata": {},
   "source": [
    "#### Выводы"
   ]
  },
  {
   "cell_type": "markdown",
   "metadata": {},
   "source": [
    "Медиана 95 дней, среднее 180 дней, а судя по тому, как расположены значения, нормальным можно считать период 1-240 дней для продажи квартиры, поскольку значение 45 явно возникает из-а каких-то причин, не связанных с большим объемом продаж конкретно в этот срок, всё, что сверх, можно считать уже достаточно длительной продажей."
   ]
  },
  {
   "cell_type": "markdown",
   "metadata": {},
   "source": [
    "### Изучаем особенности и убираем редкие значения"
   ]
  },
  {
   "cell_type": "markdown",
   "metadata": {},
   "source": [
    "У нас обнаружены огромные пики на 30, 45, 60, 90 и 7 днях при закрытии объявлений. Исключим эти значения. И посмотрим что изменилось."
   ]
  },
  {
   "cell_type": "code",
   "execution_count": 38,
   "metadata": {
    "scrolled": true
   },
   "outputs": [
    {
     "data": {
      "text/plain": [
       "count    19490.000000\n",
       "mean       187.781426\n",
       "std        222.877194\n",
       "min          1.000000\n",
       "25%         45.000000\n",
       "50%        104.000000\n",
       "75%        244.000000\n",
       "max       1580.000000\n",
       "Name: days_exposition, dtype: float64"
      ]
     },
     "execution_count": 38,
     "metadata": {},
     "output_type": "execute_result"
    }
   ],
   "source": [
    "good_data = data.query('days_exposition != (7, 30, 45, 60, 90)')\n",
    "good_data['days_exposition'].describe()"
   ]
  },
  {
   "cell_type": "code",
   "execution_count": 39,
   "metadata": {
    "scrolled": true
   },
   "outputs": [
    {
     "data": {
      "text/plain": [
       "104.0"
      ]
     },
     "execution_count": 39,
     "metadata": {},
     "output_type": "execute_result"
    }
   ],
   "source": [
    "good_data['days_exposition'].median()"
   ]
  },
  {
   "cell_type": "markdown",
   "metadata": {},
   "source": [
    "После исключения аномальных значений, среднее и медиана изменились в большую сторону: от 180 до 187 и от 95 до 104 соответственно."
   ]
  },
  {
   "cell_type": "markdown",
   "metadata": {},
   "source": [
    "Посмотрим какие выбросы есть в столбцах с площадью, ценой, числом комнат и высотой потолков."
   ]
  },
  {
   "cell_type": "code",
   "execution_count": 40,
   "metadata": {},
   "outputs": [
    {
     "data": {
      "image/png": "[encoded data removed]",
      "text/plain": [
       "<Figure size 432x288 with 1 Axes>"
      ]
     },
     "metadata": {
      "needs_background": "light"
     },
     "output_type": "display_data"
    }
   ],
   "source": [
    "data.boxplot(column=['total_area'])\n",
    "plt.show()"
   ]
  },
  {
   "cell_type": "markdown",
   "metadata": {},
   "source": [
    "Видим, что есть явный выброс в 900 м2. Создадим новый датасет без выбросов и уберем эту строку."
   ]
  },
  {
   "cell_type": "code",
   "execution_count": 41,
   "metadata": {},
   "outputs": [],
   "source": [
    "good_data1 = data.query('total_area != 900')"
   ]
  },
  {
   "cell_type": "code",
   "execution_count": 42,
   "metadata": {
    "scrolled": true
   },
   "outputs": [
    {
     "data": {
      "image/png": "[encoded data removed]",
      "text/plain": [
       "<Figure size 432x288 with 1 Axes>"
      ]
     },
     "metadata": {
      "needs_background": "light"
     },
     "output_type": "display_data"
    }
   ],
   "source": [
    "good_data1.boxplot(column=['last_price'])\n",
    "plt.show()"
   ]
  },
  {
   "cell_type": "markdown",
   "metadata": {},
   "source": [
    "Видим аномальное значение на уровне 760 млн. Уберем его из нового датасета."
   ]
  },
  {
   "cell_type": "code",
   "execution_count": 43,
   "metadata": {},
   "outputs": [],
   "source": [
    "max_price = max(good_data1['last_price'])\n",
    "good_data1 = good_data1.query('last_price != @max_price')"
   ]
  },
  {
   "cell_type": "code",
   "execution_count": 44,
   "metadata": {
    "scrolled": true
   },
   "outputs": [
    {
     "data": {
      "image/png": "[encoded data removed]",
      "text/plain": [
       "<Figure size 432x288 with 1 Axes>"
      ]
     },
     "metadata": {
      "needs_background": "light"
     },
     "output_type": "display_data"
    }
   ],
   "source": [
    "good_data1.boxplot(column=['rooms'])\n",
    "plt.show()"
   ]
  },
  {
   "cell_type": "markdown",
   "metadata": {},
   "source": [
    "Видим небольшое количество точек свыше 6 комнат, думаю, стоит их убрать из датасета для минимизации их воздействия на результат, который мы получим дальше."
   ]
  },
  {
   "cell_type": "code",
   "execution_count": 45,
   "metadata": {},
   "outputs": [],
   "source": [
    "good_data1 = good_data1.query('rooms <=6')"
   ]
  },
  {
   "cell_type": "code",
   "execution_count": 46,
   "metadata": {
    "scrolled": true
   },
   "outputs": [
    {
     "data": {
      "image/png": "[encoded data removed]",
      "text/plain": [
       "<Figure size 432x288 with 1 Axes>"
      ]
     },
     "metadata": {
      "needs_background": "light"
     },
     "output_type": "display_data"
    },
    {
     "name": "stdout",
     "output_type": "stream",
     "text": [
      "<class 'pandas.core.frame.DataFrame'>\n",
      "Int64Index: 23560 entries, 0 to 23698\n",
      "Data columns (total 29 columns):\n",
      "total_images            23560 non-null int64\n",
      "last_price              23560 non-null float64\n",
      "total_area              23560 non-null float64\n",
      "first_day_exposition    23560 non-null datetime64[ns]\n",
      "rooms                   23560 non-null int64\n",
      "ceiling_height          14425 non-null float64\n",
      "floors_total            23475 non-null float64\n",
      "living_area             21669 non-null float64\n",
      "floor                   23560 non-null int64\n",
      "is_apartment            23560 non-null bool\n",
      "is_studio               23560 non-null bool\n",
      "is_open_plan            23560 non-null bool\n",
      "kitchen_area            21302 non-null float64\n",
      "balcony                 12099 non-null float64\n",
      "locality_name           23560 non-null object\n",
      "airports_nearest        18029 non-null float64\n",
      "city_centers_nearest    18051 non-null float64\n",
      "parks_around3000        18052 non-null float64\n",
      "parks_nearest           8000 non-null float64\n",
      "ponds_around3000        18052 non-null float64\n",
      "ponds_nearest           9030 non-null float64\n",
      "days_exposition         20409 non-null float64\n",
      "floor_rating            23560 non-null object\n",
      "price_for_m2            23560 non-null float64\n",
      "living_to_total         21669 non-null float64\n",
      "kitchen_to_living       20865 non-null float64\n",
      "day_week_exposition     23560 non-null object\n",
      "month_exposition        23560 non-null object\n",
      "year_exposition         23560 non-null int64\n",
      "dtypes: bool(3), datetime64[ns](1), float64(17), int64(4), object(4)\n",
      "memory usage: 4.9+ MB\n"
     ]
    }
   ],
   "source": [
    "good_data1.boxplot(column=['ceiling_height'])\n",
    "plt.show()\n",
    "\n",
    "good_data1.info()"
   ]
  },
  {
   "cell_type": "markdown",
   "metadata": {},
   "source": [
    "В случае в потолками встречается много невероятных данных вроде высоты потолка в 20, а то и 100 метров, возможно, здесь была опечатка в порядке. Также, по общепринятым нормам, потолки не могут быть меньше 2,4 метров (в случае хрущевок), и редко встречаются объекты недвижимости с потолками выше 4 метров даже среди элитной недвижимости. Удалим неправдоподобные значения, выставив ограничения от 2 до 4 метров. "
   ]
  },
  {
   "cell_type": "code",
   "execution_count": 47,
   "metadata": {},
   "outputs": [
    {
     "name": "stdout",
     "output_type": "stream",
     "text": [
      "<class 'pandas.core.frame.DataFrame'>\n",
      "Int64Index: 23524 entries, 0 to 23698\n",
      "Data columns (total 29 columns):\n",
      "total_images            23524 non-null int64\n",
      "last_price              23524 non-null float64\n",
      "total_area              23524 non-null float64\n",
      "first_day_exposition    23524 non-null datetime64[ns]\n",
      "rooms                   23524 non-null int64\n",
      "ceiling_height          23524 non-null float64\n",
      "floors_total            23439 non-null float64\n",
      "living_area             21635 non-null float64\n",
      "floor                   23524 non-null int64\n",
      "is_apartment            23524 non-null bool\n",
      "is_studio               23524 non-null bool\n",
      "is_open_plan            23524 non-null bool\n",
      "kitchen_area            21275 non-null float64\n",
      "balcony                 12074 non-null float64\n",
      "locality_name           23524 non-null object\n",
      "airports_nearest        18003 non-null float64\n",
      "city_centers_nearest    18025 non-null float64\n",
      "parks_around3000        18026 non-null float64\n",
      "parks_nearest           7985 non-null float64\n",
      "ponds_around3000        18026 non-null float64\n",
      "ponds_nearest           9015 non-null float64\n",
      "days_exposition         20381 non-null float64\n",
      "floor_rating            23524 non-null object\n",
      "price_for_m2            23524 non-null float64\n",
      "living_to_total         21635 non-null float64\n",
      "kitchen_to_living       20838 non-null float64\n",
      "day_week_exposition     23524 non-null object\n",
      "month_exposition        23524 non-null object\n",
      "year_exposition         23524 non-null int64\n",
      "dtypes: bool(3), datetime64[ns](1), float64(17), int64(4), object(4)\n",
      "memory usage: 4.9+ MB\n"
     ]
    }
   ],
   "source": [
    "#заполним пропуски в высоте потолков числом -1, чтобы их не потерять и исключим слишком большие значения\n",
    "good_data1['ceiling_height'] = good_data1['ceiling_height'].fillna(0)\n",
    "good_data1 = good_data1.query('ceiling_height <=5')\n",
    "good_data1.info()"
   ]
  },
  {
   "cell_type": "code",
   "execution_count": 48,
   "metadata": {},
   "outputs": [],
   "source": [
    "#исключим слишком маленькие значения\n",
    "good_data1 = good_data1.query('ceiling_height >= 2 | ceiling_height == 0')"
   ]
  },
  {
   "cell_type": "code",
   "execution_count": 49,
   "metadata": {
    "scrolled": true
   },
   "outputs": [
    {
     "name": "stdout",
     "output_type": "stream",
     "text": [
      "<class 'pandas.core.frame.DataFrame'>\n",
      "Int64Index: 23521 entries, 0 to 23698\n",
      "Data columns (total 29 columns):\n",
      "total_images            23521 non-null int64\n",
      "last_price              23521 non-null float64\n",
      "total_area              23521 non-null float64\n",
      "first_day_exposition    23521 non-null datetime64[ns]\n",
      "rooms                   23521 non-null int64\n",
      "ceiling_height          23521 non-null float64\n",
      "floors_total            23436 non-null float64\n",
      "living_area             21632 non-null float64\n",
      "floor                   23521 non-null int64\n",
      "is_apartment            23521 non-null bool\n",
      "is_studio               23521 non-null bool\n",
      "is_open_plan            23521 non-null bool\n",
      "kitchen_area            21272 non-null float64\n",
      "balcony                 12074 non-null float64\n",
      "locality_name           23521 non-null object\n",
      "airports_nearest        18001 non-null float64\n",
      "city_centers_nearest    18023 non-null float64\n",
      "parks_around3000        18024 non-null float64\n",
      "parks_nearest           7984 non-null float64\n",
      "ponds_around3000        18024 non-null float64\n",
      "ponds_nearest           9013 non-null float64\n",
      "days_exposition         20378 non-null float64\n",
      "floor_rating            23521 non-null object\n",
      "price_for_m2            23521 non-null float64\n",
      "living_to_total         21632 non-null float64\n",
      "kitchen_to_living       20835 non-null float64\n",
      "day_week_exposition     23521 non-null object\n",
      "month_exposition        23521 non-null object\n",
      "year_exposition         23521 non-null int64\n",
      "dtypes: bool(3), datetime64[ns](1), float64(17), int64(4), object(4)\n",
      "memory usage: 4.9+ MB\n"
     ]
    }
   ],
   "source": [
    "good_data1.info()"
   ]
  },
  {
   "cell_type": "code",
   "execution_count": 50,
   "metadata": {},
   "outputs": [],
   "source": [
    "#вернем на место нулей значение NaN\n",
    "good_data1['ceiling_height'] = good_data1['ceiling_height'].replace(0, np.nan)"
   ]
  },
  {
   "cell_type": "markdown",
   "metadata": {},
   "source": [
    "<div class=\"alert alert-warning\">\n",
    "    <h2> Комментарий ревьюера <a class=\"tocSkip\"> </h2>\n",
    "    \n",
    "<b>Некоторые замечания и рекомендации💡:</b> \n",
    "        \n",
    "Насчет выбросов: задача по удалению выбросов касается колонок площадь, цена, число комнат, высота потолков, здесь ты придерживался верной логики, в колонке days_exposition удалять выбросы не стоит, так как она содержит чувствительные данные.\n",
    "        \n",
    "Можно использовать для работы с выбросами метод IQR (почти то же самое, что и боксплоты, только метод дает возможность опредилить границы выбросов более точно). Гистограммы не очень полезны для определения выбросов, дают менее точный результат. Оставлю несколько ссылок по работе с выбросами:\n",
    "    \n",
    "https://www.machinelearningmastery.ru/5-ways-to-detect-outliers-that-every-data-scientist-should-know-python-code-70a54335a623/\n",
    "    \n",
    "https://proglib.io/p/moem-dataset-rukovodstvo-po-ochistke-dannyh-v-python-2020-03-27\n",
    "    \n",
    "https://statisticsbyjim.com/basics/outliers/\n",
    "    \n",
    "https://machinelearningmastery.com/how-to-use-statistics-to-identify-outliers-in-data/\n",
    "    \n",
    "https://towardsdatascience.com/ways-to-detect-and-remove-the-outliers-404d16608dba\n",
    "        \n",
    "Важно при этом понимать, что стат методы тоже могут \"отработать\" на данных не совсем адекватно, т.е. корректно с точки зрения механики их работы, но не корректно с точки зрения здравого смысла и специфики данных, с которыми ты работаешь. Поэтому всегда важно подключать к применяемым методам экспертную оценку (наверно, ты лучше понимаешь, что бывают потолки 3 метра, например, а вот стат метод может посчитать это за выброс и удалить в зависимости от набора данных, которые ему скармливаются).\n",
    "    \n",
    "Еще один важный момент: если проводить чистку данных по столбцу с пропусками - это привидет к удалению из датасета всех строк с пропусками в этом столбце. Наиболее критично это при чистке данных по высоте потолка. Поэтому важно заполнять пропуски перед удалением выбросов.\n",
    "        \n",
    "Поэтому у тебя есть два пути: либо заполнить пропуски в таких колонках и потом провести процедуру удаления выбросов, либо, если ты хочешь оставить пропуски в этой колонке (а это возможная стратегия), то есть такие пути:\n",
    "\n",
    "1) можно заполнить пропуски значениями-заглушками и после удаления выбросов опять заменить на пропуски;\n",
    "2) можно отфильтровать и разбить таким образом датасет на 2: в одном оставить пропуски, в другом - остальные значения; после чистки данных второго датасета объединить датасеты, например, с помощью метода `merge()`\n",
    "    \n",
    "https://pythonru.com/uroki/osnovy-pandas-3-vazhnye-metody-formatirovanija-dannyh\n",
    "        \n",
    "У тебя не заполнены пропуски в ceiling_height как минимум, так что стоит еще раз обратить на это внимание."
   ]
  },
  {
   "cell_type": "markdown",
   "metadata": {},
   "source": [
    "### Изучаем, какие факторы влияют на стоимость квартиры"
   ]
  },
  {
   "cell_type": "markdown",
   "metadata": {},
   "source": [
    "Какие факторы больше всего влияют на стоимость квартиры? Изучим, зависит ли цена от площади, числа комнат, удалённости от центра. Изучим зависимость цены от того, на каком этаже расположена квартира: первом, последнем или другом. Также изучим зависимость от даты размещения: дня недели, месяца и года."
   ]
  },
  {
   "cell_type": "markdown",
   "metadata": {},
   "source": [
    "*Зависимость цены от площади.*"
   ]
  },
  {
   "cell_type": "code",
   "execution_count": 51,
   "metadata": {},
   "outputs": [
    {
     "data": {
      "text/plain": [
       "0.2980520385187529"
      ]
     },
     "execution_count": 51,
     "metadata": {},
     "output_type": "execute_result"
    },
    {
     "data": {
      "image/png": "[encoded data removed]",
      "text/plain": [
       "<Figure size 432x288 with 1 Axes>"
      ]
     },
     "metadata": {
      "needs_background": "light"
     },
     "output_type": "display_data"
    }
   ],
   "source": [
    "pivot_table_price_and_m2 = good_data1.pivot_table(index = 'total_area', values = 'price_for_m2', aggfunc = ['mean', 'count', 'median'])\n",
    "pivot_table_price_and_m2.columns = ['mean', 'count', 'median']\n",
    "pivot_table_price_and_m2.plot(y = 'median', style = 'o')\n",
    "plt.title('Зависимость стоимости от общей площади')\n",
    "plt.xlabel('total_area')\n",
    "plt.ylabel('price')\n",
    "\n",
    "pivot_table_price_and_m2.sort_values('median', ascending = False)\n",
    "\n",
    "good_data1['total_area'].corr(good_data1['price_for_m2'])"
   ]
  },
  {
   "cell_type": "markdown",
   "metadata": {},
   "source": [
    "Корреляция Пирсона составляет 0,3. Чем ближе значение к нулю, тем слабее зависимость, то есть можно сделать вывод, что цена не сильно увеличивается при увеличении площади."
   ]
  },
  {
   "cell_type": "markdown",
   "metadata": {},
   "source": [
    "*Зависимость цены от числа комнат*"
   ]
  },
  {
   "cell_type": "code",
   "execution_count": 52,
   "metadata": {},
   "outputs": [
    {
     "data": {
      "text/plain": [
       "0.034813439556773"
      ]
     },
     "execution_count": 52,
     "metadata": {},
     "output_type": "execute_result"
    },
    {
     "data": {
      "image/png": "[encoded data removed]",
      "text/plain": [
       "<Figure size 432x288 with 1 Axes>"
      ]
     },
     "metadata": {
      "needs_background": "light"
     },
     "output_type": "display_data"
    }
   ],
   "source": [
    "pivot_table_price_and_rooms = good_data1.pivot_table(index = 'rooms', values = 'price_for_m2', aggfunc = ['mean', 'count', 'median'])\n",
    "pivot_table_price_and_rooms.columns = ['mean', 'count', 'median']\n",
    "pivot_table_price_and_rooms.plot(y = 'median', style = 'o-')\n",
    "plt.title('Зависимость стоимости от количества комнат')\n",
    "plt.xlabel('rooms')\n",
    "plt.ylabel('price')\n",
    "\n",
    "pivot_table_price_and_rooms.sort_values('median', ascending = False)\n",
    "\n",
    "good_data1['rooms'].corr(good_data1['price_for_m2'])"
   ]
  },
  {
   "cell_type": "markdown",
   "metadata": {},
   "source": [
    "Совсем маленькая корреляция Пирсона, связи почти никакой нет, но видим, что трехкомнатные квартиры в целом оказываются менее дорогими в пересчете за метр квадратный, нежели другие варианты. Возможно, это связано с тем, что в трехкомнатных квартирах меньший метраж выделяется под помещения кухни, санузла и тд, по сравнению с площадью жилых комнат, и стоимость выходит меньше, а четыре и больше квартир, возможно, имеют варианты уже в престижных объектах недвижимости."
   ]
  },
  {
   "cell_type": "markdown",
   "metadata": {},
   "source": [
    "*Зависимость цены от удаленности от центра*"
   ]
  },
  {
   "cell_type": "code",
   "execution_count": 53,
   "metadata": {},
   "outputs": [
    {
     "data": {
      "text/plain": [
       "-0.3300997301535428"
      ]
     },
     "execution_count": 53,
     "metadata": {},
     "output_type": "execute_result"
    },
    {
     "data": {
      "image/png": "[encoded data removed]",
      "text/plain": [
       "<Figure size 432x288 with 1 Axes>"
      ]
     },
     "metadata": {
      "needs_background": "light"
     },
     "output_type": "display_data"
    }
   ],
   "source": [
    "good_data1.plot(kind = 'scatter', y = 'price_for_m2', x = 'city_centers_nearest', alpha = 0.2)\n",
    "plt.title('Зависимость стоимости от близости к центру')\n",
    "\n",
    "good_data1['price_for_m2'].corr(good_data1['city_centers_nearest'])"
   ]
  },
  {
   "cell_type": "markdown",
   "metadata": {},
   "source": [
    "Коэффициент корреляции отрицательный, что может говорить о наличии линейной отрицательной связи между величинами, это же мы видим и на графике - чем меньше расстояние от центра, тем выше цена."
   ]
  },
  {
   "cell_type": "markdown",
   "metadata": {},
   "source": [
    "*Зависимость цены от этажа*"
   ]
  },
  {
   "cell_type": "code",
   "execution_count": 54,
   "metadata": {
    "scrolled": true
   },
   "outputs": [
    {
     "data": {
      "image/png": "[encoded data removed]",
      "text/plain": [
       "<Figure size 432x288 with 1 Axes>"
      ]
     },
     "metadata": {
      "needs_background": "light"
     },
     "output_type": "display_data"
    }
   ],
   "source": [
    "pivot_table_price_and_floors = good_data1.pivot_table(index = 'floor_rating', values = 'price_for_m2', aggfunc = ['mean', 'count', 'median'])\n",
    "pivot_table_price_and_floors.columns = ['mean', 'count', 'median']\n",
    "pivot_table_price_and_floors.plot(y = 'median')\n",
    "plt.title('Зависимость стоимости от расположения на этажах')\n",
    "plt.ylabel('price')\n",
    "plt.show()"
   ]
  },
  {
   "cell_type": "markdown",
   "metadata": {},
   "source": [
    "Получается, что самая низкая цена наблюдается за первый этаж здания, квартиры на последнем стоят дороже, но, в общем, стоимость других этажей значительно больше."
   ]
  },
  {
   "cell_type": "markdown",
   "metadata": {},
   "source": [
    "*Зависимость от даты размещения: дня недели, месяца, года*"
   ]
  },
  {
   "cell_type": "code",
   "execution_count": 55,
   "metadata": {
    "scrolled": false
   },
   "outputs": [
    {
     "data": {
      "image/png": "[encoded data removed]",
      "text/plain": [
       "<Figure size 432x288 with 1 Axes>"
      ]
     },
     "metadata": {
      "needs_background": "light"
     },
     "output_type": "display_data"
    }
   ],
   "source": [
    "pivot_table_price_and_day_of_week = good_data1.pivot_table(index = 'day_week_exposition', values = 'price_for_m2', aggfunc = ['mean', 'count', 'median'])\n",
    "pivot_table_price_and_day_of_week.columns = ['mean', 'count', 'median']\n",
    "pivot_table_price_and_day_of_week.plot(y = 'median')\n",
    "plt.title('Зависимость стоимости м2 от дня недели размещения объявления')\n",
    "plt.ylabel('price_for_m2')\n",
    "plt.show()"
   ]
  },
  {
   "cell_type": "markdown",
   "metadata": {},
   "source": [
    "Из графика видим, что по вторникам наблюдается самая высокая стоимость, в то время, как у объявлений, размещенных в субботу стоимость наименьшая. Возможно, это как-то связано с устройством психики человека, так, во вторник может преобладать пессимистичное настроение и напряжение из-за работы, больше желания поправить материальное положение и не работать, а в субботу взгляды резко меняются на позитивный, человек отдыхает."
   ]
  },
  {
   "cell_type": "markdown",
   "metadata": {},
   "source": [
    "*Зависимость стоимости от месяца размещения*"
   ]
  },
  {
   "cell_type": "code",
   "execution_count": 56,
   "metadata": {
    "scrolled": false
   },
   "outputs": [
    {
     "data": {
      "image/png": "[encoded data removed]",
      "text/plain": [
       "<Figure size 864x288 with 1 Axes>"
      ]
     },
     "metadata": {
      "needs_background": "light"
     },
     "output_type": "display_data"
    }
   ],
   "source": [
    "pivot_table_price_and_month = good_data1.pivot_table(index = 'month_exposition', values = 'price_for_m2', aggfunc = ['mean', 'count', 'median'])\n",
    "pivot_table_price_and_month.columns = ['mean', 'count', 'median']\n",
    "pivot_table_price_and_month.plot(y = 'median', figsize = (12, 4))\n",
    "plt.title('Зависимость стоимости м2 от месяца размещения объявления')\n",
    "plt.ylabel('price_for_m2')\n",
    "plt.show()"
   ]
  },
  {
   "cell_type": "markdown",
   "metadata": {},
   "source": [
    "Получается, что есть какая-то зависимость стоимости от сезона. Видим, что самая большая стоимость наблюдается в апреле и августе, а самые низкие - в июне и мае. Это скорее всего связано с отпусками, летом сделки совершаются реже, поскольку многие отдыхают и тратят сбережения на отдых. Затем возвращаются и начинают заключать сделки."
   ]
  },
  {
   "cell_type": "markdown",
   "metadata": {},
   "source": [
    "*Зависимость цены от года размещения*"
   ]
  },
  {
   "cell_type": "code",
   "execution_count": 57,
   "metadata": {
    "scrolled": true
   },
   "outputs": [
    {
     "data": {
      "image/png": "[encoded data removed]",
      "text/plain": [
       "<Figure size 864x288 with 1 Axes>"
      ]
     },
     "metadata": {
      "needs_background": "light"
     },
     "output_type": "display_data"
    }
   ],
   "source": [
    "pivot_table_price_and_year = good_data1.pivot_table(index = 'year_exposition', values = 'price_for_m2', aggfunc = ['mean', 'count', 'median'])\n",
    "pivot_table_price_and_year.columns = ['mean', 'count', 'median']\n",
    "pivot_table_price_and_year.plot(y = 'median', figsize = (12, 4))\n",
    "plt.title('Зависимость стоимости м2 от года размещения объявления')\n",
    "plt.ylabel('price_for_m2')\n",
    "plt.show()"
   ]
  },
  {
   "cell_type": "markdown",
   "metadata": {},
   "source": [
    "В 2014 и 2015 годах экономика несколько пошатнулась, стал увеличиваться процент безработных, экономические показатели падали, с 2016 как раз всё стало приходить в порядок и к 2018-2019 дела в общем улучшились. В принципе, это мы и видим на графике, стоимость сильно зависит от положения экономических дел в стране."
   ]
  },
  {
   "cell_type": "markdown",
   "metadata": {},
   "source": [
    "*Считаем среднюю стоимость для 10 населённых пунктов*"
   ]
  },
  {
   "cell_type": "markdown",
   "metadata": {},
   "source": [
    "Создадим сводную таблицу с количеством объектов недвижимости и стоимости за квадратный метр."
   ]
  },
  {
   "cell_type": "code",
   "execution_count": 58,
   "metadata": {},
   "outputs": [
    {
     "data": {
      "text/html": [
       "<div>\n",
       "<style scoped>\n",
       "    .dataframe tbody tr th:only-of-type {\n",
       "        vertical-align: middle;\n",
       "    }\n",
       "\n",
       "    .dataframe tbody tr th {\n",
       "        vertical-align: top;\n",
       "    }\n",
       "\n",
       "    .dataframe thead th {\n",
       "        text-align: right;\n",
       "    }\n",
       "</style>\n",
       "<table border=\"1\" class=\"dataframe\">\n",
       "  <thead>\n",
       "    <tr style=\"text-align: right;\">\n",
       "      <th></th>\n",
       "      <th>count</th>\n",
       "      <th>mean</th>\n",
       "    </tr>\n",
       "    <tr>\n",
       "      <th>locality_name</th>\n",
       "      <th></th>\n",
       "      <th></th>\n",
       "    </tr>\n",
       "  </thead>\n",
       "  <tbody>\n",
       "    <tr>\n",
       "      <td>Санкт-Петербург</td>\n",
       "      <td>15608</td>\n",
       "      <td>114500.488374</td>\n",
       "    </tr>\n",
       "    <tr>\n",
       "      <td>поселок Мурино</td>\n",
       "      <td>554</td>\n",
       "      <td>85656.214350</td>\n",
       "    </tr>\n",
       "    <tr>\n",
       "      <td>поселок Шушары</td>\n",
       "      <td>440</td>\n",
       "      <td>78677.364318</td>\n",
       "    </tr>\n",
       "    <tr>\n",
       "      <td>Всеволожск</td>\n",
       "      <td>398</td>\n",
       "      <td>68654.473970</td>\n",
       "    </tr>\n",
       "    <tr>\n",
       "      <td>Пушкин</td>\n",
       "      <td>368</td>\n",
       "      <td>103100.890978</td>\n",
       "    </tr>\n",
       "    <tr>\n",
       "      <td>Колпино</td>\n",
       "      <td>337</td>\n",
       "      <td>75333.295816</td>\n",
       "    </tr>\n",
       "    <tr>\n",
       "      <td>поселок Парголово</td>\n",
       "      <td>326</td>\n",
       "      <td>90332.262638</td>\n",
       "    </tr>\n",
       "    <tr>\n",
       "      <td>Гатчина</td>\n",
       "      <td>306</td>\n",
       "      <td>68757.678399</td>\n",
       "    </tr>\n",
       "    <tr>\n",
       "      <td>деревня Кудрово</td>\n",
       "      <td>299</td>\n",
       "      <td>92473.547559</td>\n",
       "    </tr>\n",
       "    <tr>\n",
       "      <td>Выборг</td>\n",
       "      <td>237</td>\n",
       "      <td>58141.909325</td>\n",
       "    </tr>\n",
       "  </tbody>\n",
       "</table>\n",
       "</div>"
      ],
      "text/plain": [
       "                   count           mean\n",
       "locality_name                          \n",
       "Санкт-Петербург    15608  114500.488374\n",
       "поселок Мурино       554   85656.214350\n",
       "поселок Шушары       440   78677.364318\n",
       "Всеволожск           398   68654.473970\n",
       "Пушкин               368  103100.890978\n",
       "Колпино              337   75333.295816\n",
       "поселок Парголово    326   90332.262638\n",
       "Гатчина              306   68757.678399\n",
       "деревня Кудрово      299   92473.547559\n",
       "Выборг               237   58141.909325"
      ]
     },
     "execution_count": 58,
     "metadata": {},
     "output_type": "execute_result"
    }
   ],
   "source": [
    "pivot_table_locality10 = good_data1.pivot_table(index = 'locality_name', values = 'price_for_m2', aggfunc=['count', 'mean'])\n",
    "pivot_table_locality10.columns = ['count', 'mean']\n",
    "pivot_table_locality10 = pivot_table_locality10.sort_values('count', ascending = False).head(10)\n",
    "pivot_table_locality10"
   ]
  },
  {
   "cell_type": "markdown",
   "metadata": {},
   "source": [
    "Найдем населенный пункт с самой высокой стоимостью:"
   ]
  },
  {
   "cell_type": "code",
   "execution_count": 59,
   "metadata": {},
   "outputs": [
    {
     "data": {
      "text/html": [
       "<div>\n",
       "<style scoped>\n",
       "    .dataframe tbody tr th:only-of-type {\n",
       "        vertical-align: middle;\n",
       "    }\n",
       "\n",
       "    .dataframe tbody tr th {\n",
       "        vertical-align: top;\n",
       "    }\n",
       "\n",
       "    .dataframe thead th {\n",
       "        text-align: right;\n",
       "    }\n",
       "</style>\n",
       "<table border=\"1\" class=\"dataframe\">\n",
       "  <thead>\n",
       "    <tr style=\"text-align: right;\">\n",
       "      <th></th>\n",
       "      <th>count</th>\n",
       "      <th>mean</th>\n",
       "    </tr>\n",
       "    <tr>\n",
       "      <th>locality_name</th>\n",
       "      <th></th>\n",
       "      <th></th>\n",
       "    </tr>\n",
       "  </thead>\n",
       "  <tbody>\n",
       "    <tr>\n",
       "      <td>Санкт-Петербург</td>\n",
       "      <td>15608</td>\n",
       "      <td>114500.488374</td>\n",
       "    </tr>\n",
       "  </tbody>\n",
       "</table>\n",
       "</div>"
      ],
      "text/plain": [
       "                 count           mean\n",
       "locality_name                        \n",
       "Санкт-Петербург  15608  114500.488374"
      ]
     },
     "execution_count": 59,
     "metadata": {},
     "output_type": "execute_result"
    }
   ],
   "source": [
    "pivot_table_locality10[pivot_table_locality10['mean'] == pivot_table_locality10['mean'].max()]"
   ]
  },
  {
   "cell_type": "markdown",
   "metadata": {},
   "source": [
    "Получили достаточно логичное значение - Санкт-Петербург. Теперь найдем населённый пункт с минимальной стоимостью."
   ]
  },
  {
   "cell_type": "code",
   "execution_count": 60,
   "metadata": {},
   "outputs": [
    {
     "data": {
      "text/html": [
       "<div>\n",
       "<style scoped>\n",
       "    .dataframe tbody tr th:only-of-type {\n",
       "        vertical-align: middle;\n",
       "    }\n",
       "\n",
       "    .dataframe tbody tr th {\n",
       "        vertical-align: top;\n",
       "    }\n",
       "\n",
       "    .dataframe thead th {\n",
       "        text-align: right;\n",
       "    }\n",
       "</style>\n",
       "<table border=\"1\" class=\"dataframe\">\n",
       "  <thead>\n",
       "    <tr style=\"text-align: right;\">\n",
       "      <th></th>\n",
       "      <th>count</th>\n",
       "      <th>mean</th>\n",
       "    </tr>\n",
       "    <tr>\n",
       "      <th>locality_name</th>\n",
       "      <th></th>\n",
       "      <th></th>\n",
       "    </tr>\n",
       "  </thead>\n",
       "  <tbody>\n",
       "    <tr>\n",
       "      <td>Выборг</td>\n",
       "      <td>237</td>\n",
       "      <td>58141.909325</td>\n",
       "    </tr>\n",
       "  </tbody>\n",
       "</table>\n",
       "</div>"
      ],
      "text/plain": [
       "               count          mean\n",
       "locality_name                     \n",
       "Выборг           237  58141.909325"
      ]
     },
     "execution_count": 60,
     "metadata": {},
     "output_type": "execute_result"
    }
   ],
   "source": [
    "pivot_table_locality10[pivot_table_locality10['mean'] == pivot_table_locality10['mean'].min()]"
   ]
  },
  {
   "cell_type": "markdown",
   "metadata": {},
   "source": [
    "### Выясняем, какая область входит в центр Санкт-Петербурга"
   ]
  },
  {
   "cell_type": "code",
   "execution_count": 61,
   "metadata": {
    "scrolled": true
   },
   "outputs": [
    {
     "data": {
      "text/html": [
       "<div>\n",
       "<style scoped>\n",
       "    .dataframe tbody tr th:only-of-type {\n",
       "        vertical-align: middle;\n",
       "    }\n",
       "\n",
       "    .dataframe tbody tr th {\n",
       "        vertical-align: top;\n",
       "    }\n",
       "\n",
       "    .dataframe thead th {\n",
       "        text-align: right;\n",
       "    }\n",
       "</style>\n",
       "<table border=\"1\" class=\"dataframe\">\n",
       "  <thead>\n",
       "    <tr style=\"text-align: right;\">\n",
       "      <th></th>\n",
       "      <th>price_for_m2</th>\n",
       "    </tr>\n",
       "    <tr>\n",
       "      <th>city_centers_nearest_km</th>\n",
       "      <th></th>\n",
       "    </tr>\n",
       "  </thead>\n",
       "  <tbody>\n",
       "    <tr>\n",
       "      <td>0.0</td>\n",
       "      <td>248023.708846</td>\n",
       "    </tr>\n",
       "    <tr>\n",
       "      <td>1.0</td>\n",
       "      <td>177834.666902</td>\n",
       "    </tr>\n",
       "    <tr>\n",
       "      <td>2.0</td>\n",
       "      <td>158970.457822</td>\n",
       "    </tr>\n",
       "    <tr>\n",
       "      <td>3.0</td>\n",
       "      <td>121271.359467</td>\n",
       "    </tr>\n",
       "    <tr>\n",
       "      <td>4.0</td>\n",
       "      <td>130357.952730</td>\n",
       "    </tr>\n",
       "    <tr>\n",
       "      <td>5.0</td>\n",
       "      <td>140388.736808</td>\n",
       "    </tr>\n",
       "    <tr>\n",
       "      <td>6.0</td>\n",
       "      <td>149978.766418</td>\n",
       "    </tr>\n",
       "    <tr>\n",
       "      <td>7.0</td>\n",
       "      <td>155886.285300</td>\n",
       "    </tr>\n",
       "    <tr>\n",
       "      <td>8.0</td>\n",
       "      <td>124356.376684</td>\n",
       "    </tr>\n",
       "    <tr>\n",
       "      <td>9.0</td>\n",
       "      <td>113131.041939</td>\n",
       "    </tr>\n",
       "    <tr>\n",
       "      <td>10.0</td>\n",
       "      <td>112901.034160</td>\n",
       "    </tr>\n",
       "    <tr>\n",
       "      <td>11.0</td>\n",
       "      <td>108655.307574</td>\n",
       "    </tr>\n",
       "    <tr>\n",
       "      <td>12.0</td>\n",
       "      <td>107496.735964</td>\n",
       "    </tr>\n",
       "    <tr>\n",
       "      <td>13.0</td>\n",
       "      <td>108162.955402</td>\n",
       "    </tr>\n",
       "    <tr>\n",
       "      <td>14.0</td>\n",
       "      <td>104260.478871</td>\n",
       "    </tr>\n",
       "    <tr>\n",
       "      <td>15.0</td>\n",
       "      <td>104252.468519</td>\n",
       "    </tr>\n",
       "    <tr>\n",
       "      <td>16.0</td>\n",
       "      <td>100567.059937</td>\n",
       "    </tr>\n",
       "    <tr>\n",
       "      <td>17.0</td>\n",
       "      <td>96564.826497</td>\n",
       "    </tr>\n",
       "    <tr>\n",
       "      <td>18.0</td>\n",
       "      <td>96362.263870</td>\n",
       "    </tr>\n",
       "    <tr>\n",
       "      <td>19.0</td>\n",
       "      <td>98652.735732</td>\n",
       "    </tr>\n",
       "    <tr>\n",
       "      <td>20.0</td>\n",
       "      <td>103081.678936</td>\n",
       "    </tr>\n",
       "    <tr>\n",
       "      <td>21.0</td>\n",
       "      <td>94469.584444</td>\n",
       "    </tr>\n",
       "    <tr>\n",
       "      <td>22.0</td>\n",
       "      <td>91330.425099</td>\n",
       "    </tr>\n",
       "    <tr>\n",
       "      <td>23.0</td>\n",
       "      <td>92002.263929</td>\n",
       "    </tr>\n",
       "    <tr>\n",
       "      <td>24.0</td>\n",
       "      <td>85736.904615</td>\n",
       "    </tr>\n",
       "    <tr>\n",
       "      <td>25.0</td>\n",
       "      <td>91531.371154</td>\n",
       "    </tr>\n",
       "    <tr>\n",
       "      <td>26.0</td>\n",
       "      <td>89285.877170</td>\n",
       "    </tr>\n",
       "    <tr>\n",
       "      <td>27.0</td>\n",
       "      <td>132115.710000</td>\n",
       "    </tr>\n",
       "    <tr>\n",
       "      <td>28.0</td>\n",
       "      <td>81161.914286</td>\n",
       "    </tr>\n",
       "    <tr>\n",
       "      <td>29.0</td>\n",
       "      <td>72953.365000</td>\n",
       "    </tr>\n",
       "  </tbody>\n",
       "</table>\n",
       "</div>"
      ],
      "text/plain": [
       "                          price_for_m2\n",
       "city_centers_nearest_km               \n",
       "0.0                      248023.708846\n",
       "1.0                      177834.666902\n",
       "2.0                      158970.457822\n",
       "3.0                      121271.359467\n",
       "4.0                      130357.952730\n",
       "5.0                      140388.736808\n",
       "6.0                      149978.766418\n",
       "7.0                      155886.285300\n",
       "8.0                      124356.376684\n",
       "9.0                      113131.041939\n",
       "10.0                     112901.034160\n",
       "11.0                     108655.307574\n",
       "12.0                     107496.735964\n",
       "13.0                     108162.955402\n",
       "14.0                     104260.478871\n",
       "15.0                     104252.468519\n",
       "16.0                     100567.059937\n",
       "17.0                      96564.826497\n",
       "18.0                      96362.263870\n",
       "19.0                      98652.735732\n",
       "20.0                     103081.678936\n",
       "21.0                      94469.584444\n",
       "22.0                      91330.425099\n",
       "23.0                      92002.263929\n",
       "24.0                      85736.904615\n",
       "25.0                      91531.371154\n",
       "26.0                      89285.877170\n",
       "27.0                     132115.710000\n",
       "28.0                      81161.914286\n",
       "29.0                      72953.365000"
      ]
     },
     "execution_count": 61,
     "metadata": {},
     "output_type": "execute_result"
    }
   ],
   "source": [
    "good_data1['city_centers_nearest_km'] = good_data1['city_centers_nearest']/1000\n",
    "good_data1['city_centers_nearest_km'] = good_data1['city_centers_nearest_km']\n",
    "good_data1['city_centers_nearest_km'] = round(good_data1['city_centers_nearest_km'], 0)\n",
    "town = 'Санкт-Петербург'\n",
    "data_spb = good_data1.query('locality_name == @town')\n",
    "pivot_table_spb = data_spb.pivot_table(index = 'city_centers_nearest_km', values = 'price_for_m2', aggfunc = 'mean')\n",
    "pivot_table_spb\n"
   ]
  },
  {
   "cell_type": "code",
   "execution_count": 62,
   "metadata": {},
   "outputs": [
    {
     "data": {
      "image/png": "[encoded data removed]",
      "text/plain": [
       "<Figure size 432x288 with 1 Axes>"
      ]
     },
     "metadata": {
      "needs_background": "light"
     },
     "output_type": "display_data"
    }
   ],
   "source": [
    "pivot_table_spb.plot(grid = True)\n",
    "plt.title('Зависимость стоимости м2 от удаленности от центра')\n",
    "plt.ylabel('price_for_m2')\n",
    "plt.show()"
   ]
  },
  {
   "cell_type": "markdown",
   "metadata": {},
   "source": [
    "Видим по графику, что стоимость значительно падает на расстоянии 8 км от центра, значит, будем считать, что это и будет являться границей центра."
   ]
  },
  {
   "cell_type": "markdown",
   "metadata": {},
   "source": [
    "### Проанализируем квартиры в центре Санкт-Петербурга"
   ]
  },
  {
   "cell_type": "markdown",
   "metadata": {},
   "source": [
    "Выделим квартиры в Питере в пределах 3 км от центра. Проанализируем эту территорию и изучим следующие параметры: площадь, цена, число комнат, высота потолков. Также выделим факторы, которые влияют на стоимость квартиры (число комнат, этаж, удалённость от центра, дата размещения объявления)."
   ]
  },
  {
   "cell_type": "code",
   "execution_count": 63,
   "metadata": {
    "scrolled": true
   },
   "outputs": [
    {
     "data": {
      "text/html": [
       "<div>\n",
       "<style scoped>\n",
       "    .dataframe tbody tr th:only-of-type {\n",
       "        vertical-align: middle;\n",
       "    }\n",
       "\n",
       "    .dataframe tbody tr th {\n",
       "        vertical-align: top;\n",
       "    }\n",
       "\n",
       "    .dataframe thead th {\n",
       "        text-align: right;\n",
       "    }\n",
       "</style>\n",
       "<table border=\"1\" class=\"dataframe\">\n",
       "  <thead>\n",
       "    <tr style=\"text-align: right;\">\n",
       "      <th></th>\n",
       "      <th>total_area</th>\n",
       "      <th>price_for_m2</th>\n",
       "      <th>rooms</th>\n",
       "      <th>ceiling_height</th>\n",
       "    </tr>\n",
       "  </thead>\n",
       "  <tbody>\n",
       "    <tr>\n",
       "      <td>count</td>\n",
       "      <td>4032.000000</td>\n",
       "      <td>4.032000e+03</td>\n",
       "      <td>4032.000000</td>\n",
       "      <td>2618.000000</td>\n",
       "    </tr>\n",
       "    <tr>\n",
       "      <td>mean</td>\n",
       "      <td>86.621947</td>\n",
       "      <td>1.415957e+05</td>\n",
       "      <td>2.656746</td>\n",
       "      <td>3.045371</td>\n",
       "    </tr>\n",
       "    <tr>\n",
       "      <td>std</td>\n",
       "      <td>49.450404</td>\n",
       "      <td>8.257655e+04</td>\n",
       "      <td>1.192981</td>\n",
       "      <td>0.351218</td>\n",
       "    </tr>\n",
       "    <tr>\n",
       "      <td>min</td>\n",
       "      <td>12.000000</td>\n",
       "      <td>1.534527e+04</td>\n",
       "      <td>0.000000</td>\n",
       "      <td>2.000000</td>\n",
       "    </tr>\n",
       "    <tr>\n",
       "      <td>25%</td>\n",
       "      <td>54.575000</td>\n",
       "      <td>1.000000e+05</td>\n",
       "      <td>2.000000</td>\n",
       "      <td>2.800000</td>\n",
       "    </tr>\n",
       "    <tr>\n",
       "      <td>50%</td>\n",
       "      <td>75.100000</td>\n",
       "      <td>1.236622e+05</td>\n",
       "      <td>3.000000</td>\n",
       "      <td>3.000000</td>\n",
       "    </tr>\n",
       "    <tr>\n",
       "      <td>75%</td>\n",
       "      <td>104.000000</td>\n",
       "      <td>1.534084e+05</td>\n",
       "      <td>3.000000</td>\n",
       "      <td>3.200000</td>\n",
       "    </tr>\n",
       "    <tr>\n",
       "      <td>max</td>\n",
       "      <td>507.000000</td>\n",
       "      <td>1.736842e+06</td>\n",
       "      <td>6.000000</td>\n",
       "      <td>4.900000</td>\n",
       "    </tr>\n",
       "  </tbody>\n",
       "</table>\n",
       "</div>"
      ],
      "text/plain": [
       "        total_area  price_for_m2        rooms  ceiling_height\n",
       "count  4032.000000  4.032000e+03  4032.000000     2618.000000\n",
       "mean     86.621947  1.415957e+05     2.656746        3.045371\n",
       "std      49.450404  8.257655e+04     1.192981        0.351218\n",
       "min      12.000000  1.534527e+04     0.000000        2.000000\n",
       "25%      54.575000  1.000000e+05     2.000000        2.800000\n",
       "50%      75.100000  1.236622e+05     3.000000        3.000000\n",
       "75%     104.000000  1.534084e+05     3.000000        3.200000\n",
       "max     507.000000  1.736842e+06     6.000000        4.900000"
      ]
     },
     "execution_count": 63,
     "metadata": {},
     "output_type": "execute_result"
    }
   ],
   "source": [
    "data_spb_centre = data_spb.query('city_centers_nearest_km in (0, 1, 2, 3, 4, 5, 6, 7, 8)')\n",
    "data_spb_centre[['total_area', 'price_for_m2', 'rooms', 'ceiling_height']].describe()"
   ]
  },
  {
   "cell_type": "markdown",
   "metadata": {},
   "source": [
    "Видим, что параметры квартир не сильно отличаются от того, что мы видели в общей таблице, но присутствуют и необычные варианты с большой площадью 507 м2."
   ]
  },
  {
   "cell_type": "code",
   "execution_count": 64,
   "metadata": {
    "scrolled": true
   },
   "outputs": [
    {
     "data": {
      "image/png": "[encoded data removed]",
      "text/plain": [
       "<Figure size 432x288 with 1 Axes>"
      ]
     },
     "metadata": {
      "needs_background": "light"
     },
     "output_type": "display_data"
    },
    {
     "data": {
      "text/plain": [
       "-0.00669500583114306"
      ]
     },
     "execution_count": 64,
     "metadata": {},
     "output_type": "execute_result"
    }
   ],
   "source": [
    "center_spb_rooms = data_spb_centre.pivot_table(index = 'rooms', values = 'price_for_m2', aggfunc = 'median')\n",
    "center_spb_rooms.columns = ['median']\n",
    "center_spb_rooms.plot(y = 'median', style = 'o-', xlim = (1, 6))\n",
    "plt.title('Зависимость стоимости м2 от количества комнат в Питере')\n",
    "plt.ylabel('price_for_m2')\n",
    "plt.show()\n",
    "data_spb_centre['rooms'].corr(data_spb_centre['price_for_m2'])"
   ]
  },
  {
   "cell_type": "markdown",
   "metadata": {},
   "source": [
    "Судя по графику, стоимость понижается от однокомнатных до шестикомнатных. Скорее всего это связано с тем, что чем больше комнат в квартире, тем меньше отношение площади кухни, санузла и тд к площади жилых комнат, что приводит к удешевлению метра, как писали ранее, однако зависимость слабая."
   ]
  },
  {
   "cell_type": "code",
   "execution_count": 65,
   "metadata": {},
   "outputs": [
    {
     "data": {
      "image/png": "[encoded data removed]",
      "text/plain": [
       "<Figure size 432x288 with 1 Axes>"
      ]
     },
     "metadata": {
      "needs_background": "light"
     },
     "output_type": "display_data"
    }
   ],
   "source": [
    "center_spb_floor = data_spb_centre.pivot_table(index = 'floor_rating', values = 'price_for_m2', aggfunc = 'median')\n",
    "center_spb_floor.columns = ['median']\n",
    "center_spb_floor.plot(y = 'median', style = 'o-')\n",
    "plt.title('Зависимость стоимости м2 от этажа в Питере')\n",
    "plt.ylabel('price_for_m2')\n",
    "plt.show()"
   ]
  },
  {
   "cell_type": "markdown",
   "metadata": {},
   "source": [
    "Для этажей зависимость сохраняется, в центре Питера самые дешевые варианты также на первом этаже, на последнем подороже."
   ]
  },
  {
   "cell_type": "code",
   "execution_count": 66,
   "metadata": {
    "scrolled": false
   },
   "outputs": [
    {
     "data": {
      "image/png": "[encoded data removed]",
      "text/plain": [
       "<Figure size 432x288 with 1 Axes>"
      ]
     },
     "metadata": {
      "needs_background": "light"
     },
     "output_type": "display_data"
    },
    {
     "data": {
      "text/plain": [
       "-0.07040607849098242"
      ]
     },
     "execution_count": 66,
     "metadata": {},
     "output_type": "execute_result"
    }
   ],
   "source": [
    "center_spb_city_centre = data_spb_centre.pivot_table(index = 'city_centers_nearest', values = 'price_for_m2', aggfunc = 'median')\n",
    "center_spb_city_centre.columns = ['median']\n",
    "center_spb_city_centre.plot(y = 'median', style = 'o', alpha = 0.3)\n",
    "plt.title('Зависимость стоимости м2 от близости к центру в Питере')\n",
    "plt.ylabel('price_for_m2')\n",
    "plt.show()\n",
    "data_spb_centre['city_centers_nearest'].corr(data_spb_centre['price_for_m2'])"
   ]
  },
  {
   "cell_type": "markdown",
   "metadata": {},
   "source": [
    "А с удаленностью от центра ситуация другая. Тут уже нет такой сильной зависимости от удаленности, поскольку, предполагаю, всё жилье, находящееся в центре считается дорогостоящим и задана не такая большая площадь, чтобы от нее сильно зависело значение."
   ]
  },
  {
   "cell_type": "code",
   "execution_count": 67,
   "metadata": {},
   "outputs": [
    {
     "data": {
      "image/png": "[encoded data removed]",
      "text/plain": [
       "<Figure size 432x288 with 1 Axes>"
      ]
     },
     "metadata": {
      "needs_background": "light"
     },
     "output_type": "display_data"
    }
   ],
   "source": [
    "center_spb_city_day_week = data_spb_centre.pivot_table(index = 'day_week_exposition', values = 'price_for_m2', aggfunc = 'median')\n",
    "center_spb_city_day_week.columns = ['median']\n",
    "center_spb_city_day_week.plot(y = 'median', style = 'o-')\n",
    "plt.title('Зависимость стоимости м2 от дня недели размещения объявления')\n",
    "plt.ylabel('price_for_m2')\n",
    "plt.show()\n"
   ]
  },
  {
   "cell_type": "markdown",
   "metadata": {},
   "source": [
    "Видим пик в воскресенье, а самая низкая стоимость во вторник, практически то же самое мы видели и в первоначальном датасете."
   ]
  },
  {
   "cell_type": "code",
   "execution_count": 68,
   "metadata": {
    "scrolled": true
   },
   "outputs": [
    {
     "data": {
      "image/png": "[encoded data removed]",
      "text/plain": [
       "<Figure size 1080x216 with 1 Axes>"
      ]
     },
     "metadata": {
      "needs_background": "light"
     },
     "output_type": "display_data"
    }
   ],
   "source": [
    "center_spb_city_exposition = data_spb_centre.pivot_table(index = 'first_day_exposition', values = 'price_for_m2', aggfunc = 'median')\n",
    "center_spb_city_exposition.columns = ['median']\n",
    "center_spb_city_exposition.plot(y = 'median', style = 'o', alpha = 0.3, figsize = (15, 3))\n",
    "plt.title('Зависимость стоимости м2 от даты размещения объявления')\n",
    "plt.ylabel('price_for_m2')\n",
    "plt.show()"
   ]
  },
  {
   "cell_type": "markdown",
   "metadata": {},
   "source": [
    "Видим, что в 2015 году объявлений было меньше, возможно, сервис только запускался. В каждом году видно, что в летние и в зимние месяцы количество объявлений сокращается, а средняя стоимость растет с каждым годом."
   ]
  },
  {
   "cell_type": "markdown",
   "metadata": {},
   "source": [
    "## Общий вывод"
   ]
  },
  {
   "cell_type": "markdown",
   "metadata": {},
   "source": [
    "Для начала мы ознакомились с данными и провели предобработку: заполнили пропуски там, где это требовалось для вычислений, заменили названия столбцов, не соответствующуе общепринятым нормам, удалили дубликаты среди населенных пунктов, перевели типы данных в требуемые для вычислений.\n",
    "\n",
    "В таблицу добавили столбцы с вычисленными значениями стоимости квадратного метра, категории этажа (первый, последний, другой), обозначили день недели, месяц и год публикации объявления, а также соотношение жилой площади к общей и площади кухни к жилой.\n",
    "\n",
    "Методом describe() изучили выбивающиеся значения для некоторых столбцов, а также построили распределения. Определили, что на стоимость квадратного метра сильно влияет этаж квартиры (для первого эта стоимость минимальна), близость к центру (чаще всего чем ближе к центру, тем выше стоимость), а также когда было размещено объявление. Последнее может зависить от настроя продающих, от экономической ситуации, есть некоторая сезонность. По тому, как менялась стоимость при удалении от центра Питера, мы смогли выявить примерную границу центра города - 8 км.\n",
    "\n",
    "Зависимости стоимости квартир в центре Питера от различных факторов разнятся в сравнении с аналогичными характеристиками для квартир в целом без привязанности к местоположению. Поскольку при рассмотрении отдельного сегмента (жилья в центре Питера) мы получили зависимости, отличающиеся от общих, можно сделать вывод, что рассмотрение картины в целом дает лишь общее понимание и никак не отражает тенденции, наблюдаемые в различных сегментах, их требуется рассматривать отдельно.\n",
    "\n",
    "Итог:\n",
    "- стоимость квартиры прежде всего зависит от площади и удаленности от центра\n",
    "- продажа происходит обычно в течение 1-240 дней\n",
    "- высота потолков принимает значения порядка 2,8 метра, много значений от 2 метров\n",
    "- стоимость жилья на первом этаже в среднем меньше, чем на последнем и меньше, чем на любом другом\n",
    "- если говорить о квартирах в центре Питера( с расстоянием от центра менее 8 км), но стоимость м2 не сильно зависит от удаленности от центра"
   ]
  }
 ],
 "metadata": {
  "ExecuteTimeLog": [
   {
    "duration": 625,
    "start_time": "2021-12-21T17:40:48.230Z"
   },
   {
    "duration": 127,
    "start_time": "2021-12-21T17:42:37.600Z"
   },
   {
    "duration": 119,
    "start_time": "2021-12-21T17:43:06.506Z"
   },
   {
    "duration": 88,
    "start_time": "2021-12-21T17:43:14.397Z"
   },
   {
    "duration": 247,
    "start_time": "2021-12-21T18:48:07.786Z"
   },
   {
    "duration": 212,
    "start_time": "2021-12-21T19:01:49.241Z"
   },
   {
    "duration": 254,
    "start_time": "2021-12-21T19:02:07.610Z"
   },
   {
    "duration": 302,
    "start_time": "2021-12-21T19:02:22.346Z"
   },
   {
    "duration": 270,
    "start_time": "2021-12-21T19:02:36.772Z"
   },
   {
    "duration": 82,
    "start_time": "2021-12-21T19:02:56.533Z"
   },
   {
    "duration": 263,
    "start_time": "2021-12-21T19:03:32.423Z"
   },
   {
    "duration": 574,
    "start_time": "2021-12-21T19:04:00.024Z"
   },
   {
    "duration": 26,
    "start_time": "2021-12-21T19:05:20.284Z"
   },
   {
    "duration": 45,
    "start_time": "2021-12-21T19:05:37.740Z"
   },
   {
    "duration": 31,
    "start_time": "2021-12-21T19:06:01.744Z"
   },
   {
    "duration": 24,
    "start_time": "2021-12-21T19:06:08.578Z"
   },
   {
    "duration": 334,
    "start_time": "2021-12-22T14:57:56.204Z"
   },
   {
    "duration": 754,
    "start_time": "2021-12-22T14:58:09.505Z"
   },
   {
    "duration": 353,
    "start_time": "2021-12-22T14:58:10.262Z"
   },
   {
    "duration": 30,
    "start_time": "2021-12-22T14:58:10.618Z"
   },
   {
    "duration": 32,
    "start_time": "2021-12-22T14:58:10.650Z"
   },
   {
    "duration": 372,
    "start_time": "2021-12-22T14:58:10.685Z"
   },
   {
    "duration": 1103,
    "start_time": "2021-12-22T14:58:24.897Z"
   },
   {
    "duration": 278,
    "start_time": "2021-12-22T14:59:34.507Z"
   },
   {
    "duration": 736,
    "start_time": "2021-12-22T14:59:41.867Z"
   },
   {
    "duration": 53,
    "start_time": "2021-12-22T14:59:54.410Z"
   },
   {
    "duration": 109,
    "start_time": "2021-12-22T15:11:08.769Z"
   },
   {
    "duration": 84,
    "start_time": "2021-12-22T15:11:36.989Z"
   },
   {
    "duration": 321,
    "start_time": "2021-12-22T15:51:18.680Z"
   },
   {
    "duration": 294,
    "start_time": "2021-12-22T15:51:25.087Z"
   },
   {
    "duration": 7,
    "start_time": "2021-12-22T15:51:40.283Z"
   },
   {
    "duration": 5,
    "start_time": "2021-12-22T15:56:48.003Z"
   },
   {
    "duration": 5,
    "start_time": "2021-12-22T15:57:16.761Z"
   },
   {
    "duration": 6,
    "start_time": "2021-12-22T15:58:00.622Z"
   },
   {
    "duration": 6,
    "start_time": "2021-12-22T15:58:11.772Z"
   },
   {
    "duration": 28,
    "start_time": "2021-12-22T15:59:25.333Z"
   },
   {
    "duration": 27,
    "start_time": "2021-12-22T15:59:41.198Z"
   },
   {
    "duration": 29,
    "start_time": "2021-12-22T16:00:12.534Z"
   },
   {
    "duration": 8,
    "start_time": "2021-12-22T18:05:44.800Z"
   },
   {
    "duration": 14,
    "start_time": "2021-12-22T18:05:53.929Z"
   },
   {
    "duration": 18,
    "start_time": "2021-12-22T18:09:39.502Z"
   },
   {
    "duration": 54,
    "start_time": "2021-12-22T18:14:30.691Z"
   },
   {
    "duration": 65,
    "start_time": "2021-12-22T18:14:38.287Z"
   },
   {
    "duration": 57,
    "start_time": "2021-12-22T18:14:43.985Z"
   },
   {
    "duration": 7,
    "start_time": "2021-12-22T18:15:45.423Z"
   },
   {
    "duration": 841,
    "start_time": "2021-12-22T18:16:39.304Z"
   },
   {
    "duration": 309,
    "start_time": "2021-12-22T18:16:40.148Z"
   },
   {
    "duration": 31,
    "start_time": "2021-12-22T18:16:40.462Z"
   },
   {
    "duration": 60,
    "start_time": "2021-12-22T18:16:40.497Z"
   },
   {
    "duration": 70,
    "start_time": "2021-12-22T18:16:40.560Z"
   },
   {
    "duration": 5,
    "start_time": "2021-12-22T18:16:40.632Z"
   },
   {
    "duration": 5,
    "start_time": "2021-12-22T18:16:40.640Z"
   },
   {
    "duration": 7,
    "start_time": "2021-12-22T18:16:40.648Z"
   },
   {
    "duration": 13,
    "start_time": "2021-12-22T18:16:40.659Z"
   },
   {
    "duration": 53,
    "start_time": "2021-12-22T18:16:40.675Z"
   },
   {
    "duration": 17,
    "start_time": "2021-12-22T18:16:40.731Z"
   },
   {
    "duration": 9,
    "start_time": "2021-12-22T18:16:40.750Z"
   },
   {
    "duration": 63,
    "start_time": "2021-12-22T18:16:40.762Z"
   },
   {
    "duration": 16,
    "start_time": "2021-12-22T18:27:26.571Z"
   },
   {
    "duration": 21,
    "start_time": "2021-12-22T18:28:44.981Z"
   },
   {
    "duration": 22,
    "start_time": "2021-12-22T18:28:53.323Z"
   },
   {
    "duration": 20,
    "start_time": "2021-12-22T18:29:12.591Z"
   },
   {
    "duration": 7,
    "start_time": "2021-12-22T18:34:23.547Z"
   },
   {
    "duration": 525,
    "start_time": "2021-12-22T18:41:36.277Z"
   },
   {
    "duration": 113,
    "start_time": "2021-12-22T18:43:38.222Z"
   },
   {
    "duration": 10,
    "start_time": "2021-12-22T18:44:03.164Z"
   },
   {
    "duration": 7,
    "start_time": "2021-12-22T18:44:42.792Z"
   },
   {
    "duration": 7,
    "start_time": "2021-12-22T18:44:56.683Z"
   },
   {
    "duration": 814,
    "start_time": "2021-12-22T18:45:49.680Z"
   },
   {
    "duration": 322,
    "start_time": "2021-12-22T18:45:50.497Z"
   },
   {
    "duration": 31,
    "start_time": "2021-12-22T18:45:50.823Z"
   },
   {
    "duration": 32,
    "start_time": "2021-12-22T18:45:50.857Z"
   },
   {
    "duration": 80,
    "start_time": "2021-12-22T18:45:50.892Z"
   },
   {
    "duration": 5,
    "start_time": "2021-12-22T18:45:50.975Z"
   },
   {
    "duration": 7,
    "start_time": "2021-12-22T18:45:50.982Z"
   },
   {
    "duration": 32,
    "start_time": "2021-12-22T18:45:50.993Z"
   },
   {
    "duration": 15,
    "start_time": "2021-12-22T18:45:51.027Z"
   },
   {
    "duration": 9,
    "start_time": "2021-12-22T18:45:51.045Z"
   },
   {
    "duration": 18,
    "start_time": "2021-12-22T18:45:51.056Z"
   },
   {
    "duration": 47,
    "start_time": "2021-12-22T18:45:51.076Z"
   },
   {
    "duration": 29,
    "start_time": "2021-12-22T18:45:51.125Z"
   },
   {
    "duration": 20,
    "start_time": "2021-12-22T18:45:51.157Z"
   },
   {
    "duration": 7,
    "start_time": "2021-12-22T18:45:51.179Z"
   },
   {
    "duration": 43,
    "start_time": "2021-12-22T18:45:51.188Z"
   },
   {
    "duration": 10,
    "start_time": "2021-12-22T18:45:51.234Z"
   },
   {
    "duration": 10,
    "start_time": "2021-12-22T18:46:20.511Z"
   },
   {
    "duration": 7,
    "start_time": "2021-12-22T18:46:24.822Z"
   },
   {
    "duration": 15,
    "start_time": "2021-12-22T18:48:13.961Z"
   },
   {
    "duration": 6,
    "start_time": "2021-12-22T18:48:18.517Z"
   },
   {
    "duration": 6,
    "start_time": "2021-12-22T18:50:02.461Z"
   },
   {
    "duration": 6,
    "start_time": "2021-12-22T18:50:25.865Z"
   },
   {
    "duration": 7,
    "start_time": "2021-12-22T18:52:48.639Z"
   },
   {
    "duration": 28,
    "start_time": "2021-12-22T18:53:20.219Z"
   },
   {
    "duration": 585,
    "start_time": "2021-12-23T06:17:10.539Z"
   },
   {
    "duration": 220,
    "start_time": "2021-12-23T06:17:11.126Z"
   },
   {
    "duration": 21,
    "start_time": "2021-12-23T06:17:11.348Z"
   },
   {
    "duration": 32,
    "start_time": "2021-12-23T06:17:11.371Z"
   },
   {
    "duration": 39,
    "start_time": "2021-12-23T06:17:11.405Z"
   },
   {
    "duration": 4,
    "start_time": "2021-12-23T06:17:11.445Z"
   },
   {
    "duration": 5,
    "start_time": "2021-12-23T06:17:11.451Z"
   },
   {
    "duration": 5,
    "start_time": "2021-12-23T06:17:11.458Z"
   },
   {
    "duration": 34,
    "start_time": "2021-12-23T06:17:11.465Z"
   },
   {
    "duration": 11,
    "start_time": "2021-12-23T06:17:11.500Z"
   },
   {
    "duration": 13,
    "start_time": "2021-12-23T06:17:11.513Z"
   },
   {
    "duration": 8,
    "start_time": "2021-12-23T06:17:11.527Z"
   },
   {
    "duration": 22,
    "start_time": "2021-12-23T06:17:11.536Z"
   },
   {
    "duration": 33,
    "start_time": "2021-12-23T06:17:11.559Z"
   },
   {
    "duration": 5,
    "start_time": "2021-12-23T06:17:11.594Z"
   },
   {
    "duration": 16,
    "start_time": "2021-12-23T06:17:11.601Z"
   },
   {
    "duration": 8,
    "start_time": "2021-12-23T06:17:11.619Z"
   },
   {
    "duration": 22,
    "start_time": "2021-12-23T06:17:11.629Z"
   },
   {
    "duration": 245,
    "start_time": "2021-12-23T06:17:11.653Z"
   },
   {
    "duration": 707,
    "start_time": "2021-12-23T06:17:42.849Z"
   },
   {
    "duration": 681,
    "start_time": "2021-12-23T06:18:17.021Z"
   },
   {
    "duration": 17,
    "start_time": "2021-12-23T06:18:33.698Z"
   },
   {
    "duration": 6,
    "start_time": "2021-12-23T06:19:58.644Z"
   },
   {
    "duration": 5,
    "start_time": "2021-12-23T06:20:12.943Z"
   },
   {
    "duration": 671,
    "start_time": "2021-12-23T06:21:12.221Z"
   },
   {
    "duration": 739,
    "start_time": "2021-12-23T06:23:39.281Z"
   },
   {
    "duration": 9,
    "start_time": "2021-12-23T06:23:55.614Z"
   },
   {
    "duration": 25,
    "start_time": "2021-12-23T06:27:20.539Z"
   },
   {
    "duration": 13,
    "start_time": "2021-12-23T06:27:38.695Z"
   },
   {
    "duration": 8,
    "start_time": "2021-12-23T06:35:59.335Z"
   },
   {
    "duration": 23,
    "start_time": "2021-12-23T06:36:19.678Z"
   },
   {
    "duration": 10,
    "start_time": "2021-12-23T06:36:47.919Z"
   },
   {
    "duration": 24,
    "start_time": "2021-12-23T06:36:54.851Z"
   },
   {
    "duration": 570,
    "start_time": "2021-12-23T06:38:09.452Z"
   },
   {
    "duration": 344,
    "start_time": "2021-12-23T06:38:10.024Z"
   },
   {
    "duration": 26,
    "start_time": "2021-12-23T06:38:10.370Z"
   },
   {
    "duration": 19,
    "start_time": "2021-12-23T06:38:10.398Z"
   },
   {
    "duration": 34,
    "start_time": "2021-12-23T06:38:10.419Z"
   },
   {
    "duration": 3,
    "start_time": "2021-12-23T06:38:10.455Z"
   },
   {
    "duration": 5,
    "start_time": "2021-12-23T06:38:10.460Z"
   },
   {
    "duration": 27,
    "start_time": "2021-12-23T06:38:10.467Z"
   },
   {
    "duration": 11,
    "start_time": "2021-12-23T06:38:10.496Z"
   },
   {
    "duration": 5,
    "start_time": "2021-12-23T06:38:10.509Z"
   },
   {
    "duration": 13,
    "start_time": "2021-12-23T06:38:10.516Z"
   },
   {
    "duration": 5,
    "start_time": "2021-12-23T06:38:10.530Z"
   },
   {
    "duration": 19,
    "start_time": "2021-12-23T06:38:10.537Z"
   },
   {
    "duration": 45,
    "start_time": "2021-12-23T06:38:10.557Z"
   },
   {
    "duration": 5,
    "start_time": "2021-12-23T06:38:10.604Z"
   },
   {
    "duration": 15,
    "start_time": "2021-12-23T06:38:10.610Z"
   },
   {
    "duration": 4,
    "start_time": "2021-12-23T06:38:10.627Z"
   },
   {
    "duration": 23,
    "start_time": "2021-12-23T06:38:10.632Z"
   },
   {
    "duration": 68,
    "start_time": "2021-12-23T06:38:10.656Z"
   },
   {
    "duration": 11,
    "start_time": "2021-12-23T06:38:10.726Z"
   },
   {
    "duration": 8,
    "start_time": "2021-12-23T06:38:10.738Z"
   },
   {
    "duration": 21,
    "start_time": "2021-12-23T06:38:10.748Z"
   },
   {
    "duration": 6,
    "start_time": "2021-12-23T06:43:51.140Z"
   },
   {
    "duration": 538,
    "start_time": "2021-12-23T06:50:21.678Z"
   },
   {
    "duration": 7,
    "start_time": "2021-12-23T06:55:42.925Z"
   },
   {
    "duration": 23,
    "start_time": "2021-12-23T06:55:59.018Z"
   },
   {
    "duration": 5,
    "start_time": "2021-12-23T06:56:48.657Z"
   },
   {
    "duration": 31,
    "start_time": "2021-12-23T06:56:51.529Z"
   },
   {
    "duration": 398,
    "start_time": "2021-12-23T11:25:32.128Z"
   },
   {
    "duration": 787,
    "start_time": "2021-12-23T11:25:40.806Z"
   },
   {
    "duration": 352,
    "start_time": "2021-12-23T11:25:41.595Z"
   },
   {
    "duration": 20,
    "start_time": "2021-12-23T11:25:41.949Z"
   },
   {
    "duration": 35,
    "start_time": "2021-12-23T11:25:41.972Z"
   },
   {
    "duration": 36,
    "start_time": "2021-12-23T11:25:42.009Z"
   },
   {
    "duration": 4,
    "start_time": "2021-12-23T11:25:42.047Z"
   },
   {
    "duration": 6,
    "start_time": "2021-12-23T11:25:42.053Z"
   },
   {
    "duration": 7,
    "start_time": "2021-12-23T11:25:42.061Z"
   },
   {
    "duration": 36,
    "start_time": "2021-12-23T11:25:42.071Z"
   },
   {
    "duration": 5,
    "start_time": "2021-12-23T11:25:42.110Z"
   },
   {
    "duration": 12,
    "start_time": "2021-12-23T11:25:42.116Z"
   },
   {
    "duration": 6,
    "start_time": "2021-12-23T11:25:42.130Z"
   },
   {
    "duration": 20,
    "start_time": "2021-12-23T11:25:42.138Z"
   },
   {
    "duration": 12,
    "start_time": "2021-12-23T11:25:42.160Z"
   },
   {
    "duration": 35,
    "start_time": "2021-12-23T11:25:42.174Z"
   },
   {
    "duration": 12,
    "start_time": "2021-12-23T11:25:42.211Z"
   },
   {
    "duration": 4,
    "start_time": "2021-12-23T11:25:42.225Z"
   },
   {
    "duration": 31,
    "start_time": "2021-12-23T11:25:42.231Z"
   },
   {
    "duration": 71,
    "start_time": "2021-12-23T11:25:42.263Z"
   },
   {
    "duration": 13,
    "start_time": "2021-12-23T11:25:42.336Z"
   },
   {
    "duration": 8,
    "start_time": "2021-12-23T11:25:42.351Z"
   },
   {
    "duration": 25,
    "start_time": "2021-12-23T11:25:42.361Z"
   },
   {
    "duration": 553,
    "start_time": "2021-12-23T11:25:42.407Z"
   },
   {
    "duration": 9,
    "start_time": "2021-12-23T11:25:42.961Z"
   },
   {
    "duration": 4,
    "start_time": "2021-12-23T11:25:42.971Z"
   },
   {
    "duration": 34,
    "start_time": "2021-12-23T11:25:42.977Z"
   },
   {
    "duration": 469,
    "start_time": "2021-12-23T11:39:41.004Z"
   },
   {
    "duration": 22,
    "start_time": "2021-12-23T11:39:45.646Z"
   },
   {
    "duration": 26,
    "start_time": "2021-12-23T11:39:50.990Z"
   },
   {
    "duration": 25,
    "start_time": "2021-12-23T11:40:36.775Z"
   },
   {
    "duration": 25,
    "start_time": "2021-12-23T11:40:38.769Z"
   },
   {
    "duration": 110,
    "start_time": "2021-12-23T11:49:37.258Z"
   },
   {
    "duration": 402,
    "start_time": "2021-12-23T11:51:33.401Z"
   },
   {
    "duration": 368,
    "start_time": "2021-12-23T11:51:39.111Z"
   },
   {
    "duration": 34,
    "start_time": "2021-12-23T11:51:58.851Z"
   },
   {
    "duration": 11,
    "start_time": "2021-12-23T11:52:30.429Z"
   },
   {
    "duration": 773,
    "start_time": "2021-12-23T11:52:37.963Z"
   },
   {
    "duration": 317,
    "start_time": "2021-12-23T11:52:38.738Z"
   },
   {
    "duration": 20,
    "start_time": "2021-12-23T11:52:39.058Z"
   },
   {
    "duration": 35,
    "start_time": "2021-12-23T11:52:39.080Z"
   },
   {
    "duration": 36,
    "start_time": "2021-12-23T11:52:39.117Z"
   },
   {
    "duration": 4,
    "start_time": "2021-12-23T11:52:39.155Z"
   },
   {
    "duration": 5,
    "start_time": "2021-12-23T11:52:39.161Z"
   },
   {
    "duration": 37,
    "start_time": "2021-12-23T11:52:39.169Z"
   },
   {
    "duration": 10,
    "start_time": "2021-12-23T11:52:39.209Z"
   },
   {
    "duration": 6,
    "start_time": "2021-12-23T11:52:39.221Z"
   },
   {
    "duration": 13,
    "start_time": "2021-12-23T11:52:39.229Z"
   },
   {
    "duration": 6,
    "start_time": "2021-12-23T11:52:39.244Z"
   },
   {
    "duration": 20,
    "start_time": "2021-12-23T11:52:39.252Z"
   },
   {
    "duration": 44,
    "start_time": "2021-12-23T11:52:39.273Z"
   },
   {
    "duration": 6,
    "start_time": "2021-12-23T11:52:39.319Z"
   },
   {
    "duration": 11,
    "start_time": "2021-12-23T11:52:39.327Z"
   },
   {
    "duration": 5,
    "start_time": "2021-12-23T11:52:39.340Z"
   },
   {
    "duration": 21,
    "start_time": "2021-12-23T11:52:39.347Z"
   },
   {
    "duration": 78,
    "start_time": "2021-12-23T11:52:39.369Z"
   },
   {
    "duration": 12,
    "start_time": "2021-12-23T11:52:39.449Z"
   },
   {
    "duration": 9,
    "start_time": "2021-12-23T11:52:39.463Z"
   },
   {
    "duration": 48,
    "start_time": "2021-12-23T11:52:39.473Z"
   },
   {
    "duration": 561,
    "start_time": "2021-12-23T11:52:39.524Z"
   },
   {
    "duration": 8,
    "start_time": "2021-12-23T11:52:40.087Z"
   },
   {
    "duration": 10,
    "start_time": "2021-12-23T11:52:40.097Z"
   },
   {
    "duration": 22,
    "start_time": "2021-12-23T11:52:40.108Z"
   },
   {
    "duration": 23,
    "start_time": "2021-12-23T11:52:40.131Z"
   },
   {
    "duration": 53,
    "start_time": "2021-12-23T11:52:40.156Z"
   },
   {
    "duration": 292,
    "start_time": "2021-12-23T11:58:18.598Z"
   },
   {
    "duration": 5,
    "start_time": "2021-12-23T12:02:39.250Z"
   },
   {
    "duration": 51,
    "start_time": "2021-12-23T12:47:59.519Z"
   },
   {
    "duration": 417,
    "start_time": "2021-12-23T12:48:23.405Z"
   },
   {
    "duration": 118,
    "start_time": "2021-12-23T12:51:10.284Z"
   },
   {
    "duration": 395,
    "start_time": "2021-12-23T12:52:08.939Z"
   },
   {
    "duration": 110,
    "start_time": "2021-12-23T12:52:37.696Z"
   },
   {
    "duration": 122,
    "start_time": "2021-12-23T12:52:43.140Z"
   },
   {
    "duration": 145,
    "start_time": "2021-12-23T12:52:48.582Z"
   },
   {
    "duration": 106,
    "start_time": "2021-12-23T12:58:23.597Z"
   },
   {
    "duration": 408,
    "start_time": "2021-12-23T12:58:30.689Z"
   },
   {
    "duration": 2509,
    "start_time": "2021-12-23T12:59:17.931Z"
   },
   {
    "duration": 2818,
    "start_time": "2021-12-23T12:59:45.158Z"
   },
   {
    "duration": 3006,
    "start_time": "2021-12-23T13:00:01.002Z"
   },
   {
    "duration": 115,
    "start_time": "2021-12-23T13:01:09.921Z"
   },
   {
    "duration": 2764,
    "start_time": "2021-12-23T13:01:14.744Z"
   },
   {
    "duration": 702,
    "start_time": "2021-12-23T13:02:24.350Z"
   },
   {
    "duration": 332,
    "start_time": "2021-12-23T13:02:25.055Z"
   },
   {
    "duration": 31,
    "start_time": "2021-12-23T13:02:25.390Z"
   },
   {
    "duration": 22,
    "start_time": "2021-12-23T13:02:25.423Z"
   },
   {
    "duration": 62,
    "start_time": "2021-12-23T13:02:25.447Z"
   },
   {
    "duration": 6,
    "start_time": "2021-12-23T13:02:25.511Z"
   },
   {
    "duration": 10,
    "start_time": "2021-12-23T13:02:25.519Z"
   },
   {
    "duration": 15,
    "start_time": "2021-12-23T13:02:25.532Z"
   },
   {
    "duration": 11,
    "start_time": "2021-12-23T13:02:25.550Z"
   },
   {
    "duration": 11,
    "start_time": "2021-12-23T13:02:25.564Z"
   },
   {
    "duration": 39,
    "start_time": "2021-12-23T13:02:25.577Z"
   },
   {
    "duration": 17,
    "start_time": "2021-12-23T13:02:25.618Z"
   },
   {
    "duration": 25,
    "start_time": "2021-12-23T13:02:25.637Z"
   },
   {
    "duration": 17,
    "start_time": "2021-12-23T13:02:25.664Z"
   },
   {
    "duration": 5,
    "start_time": "2021-12-23T13:02:25.683Z"
   },
   {
    "duration": 11,
    "start_time": "2021-12-23T13:02:25.706Z"
   },
   {
    "duration": 11,
    "start_time": "2021-12-23T13:02:25.719Z"
   },
   {
    "duration": 27,
    "start_time": "2021-12-23T13:02:25.732Z"
   },
   {
    "duration": 70,
    "start_time": "2021-12-23T13:02:25.761Z"
   },
   {
    "duration": 13,
    "start_time": "2021-12-23T13:02:25.833Z"
   },
   {
    "duration": 10,
    "start_time": "2021-12-23T13:02:25.848Z"
   },
   {
    "duration": 49,
    "start_time": "2021-12-23T13:02:25.860Z"
   },
   {
    "duration": 596,
    "start_time": "2021-12-23T13:02:25.913Z"
   },
   {
    "duration": 10,
    "start_time": "2021-12-23T13:02:26.511Z"
   },
   {
    "duration": 5,
    "start_time": "2021-12-23T13:02:26.525Z"
   },
   {
    "duration": 29,
    "start_time": "2021-12-23T13:02:26.532Z"
   },
   {
    "duration": 44,
    "start_time": "2021-12-23T13:02:26.564Z"
   },
   {
    "duration": 32,
    "start_time": "2021-12-23T13:02:26.610Z"
   },
   {
    "duration": 3462,
    "start_time": "2021-12-23T13:02:26.644Z"
   },
   {
    "duration": 3142,
    "start_time": "2021-12-23T13:02:26.967Z"
   },
   {
    "duration": 1108,
    "start_time": "2021-12-24T06:21:37.576Z"
   },
   {
    "duration": 314,
    "start_time": "2021-12-24T06:21:38.687Z"
   },
   {
    "duration": 31,
    "start_time": "2021-12-24T06:21:39.004Z"
   },
   {
    "duration": 42,
    "start_time": "2021-12-24T06:21:39.038Z"
   },
   {
    "duration": 53,
    "start_time": "2021-12-24T06:21:39.083Z"
   },
   {
    "duration": 31,
    "start_time": "2021-12-24T06:21:39.138Z"
   },
   {
    "duration": 5,
    "start_time": "2021-12-24T06:21:39.172Z"
   },
   {
    "duration": 11,
    "start_time": "2021-12-24T06:21:39.181Z"
   },
   {
    "duration": 14,
    "start_time": "2021-12-24T06:21:39.195Z"
   },
   {
    "duration": 6,
    "start_time": "2021-12-24T06:21:39.212Z"
   },
   {
    "duration": 60,
    "start_time": "2021-12-24T06:21:39.220Z"
   },
   {
    "duration": 6,
    "start_time": "2021-12-24T06:21:39.283Z"
   },
   {
    "duration": 47,
    "start_time": "2021-12-24T06:21:39.291Z"
   },
   {
    "duration": 28,
    "start_time": "2021-12-24T06:21:39.341Z"
   },
   {
    "duration": 7,
    "start_time": "2021-12-24T06:21:39.371Z"
   },
   {
    "duration": 16,
    "start_time": "2021-12-24T06:21:39.381Z"
   },
   {
    "duration": 9,
    "start_time": "2021-12-24T06:21:39.400Z"
   },
   {
    "duration": 59,
    "start_time": "2021-12-24T06:21:39.411Z"
   },
   {
    "duration": 73,
    "start_time": "2021-12-24T06:21:39.472Z"
   },
   {
    "duration": 33,
    "start_time": "2021-12-24T06:21:39.548Z"
   },
   {
    "duration": 11,
    "start_time": "2021-12-24T06:21:39.583Z"
   },
   {
    "duration": 42,
    "start_time": "2021-12-24T06:21:39.597Z"
   },
   {
    "duration": 947,
    "start_time": "2021-12-24T06:21:39.668Z"
   },
   {
    "duration": 10,
    "start_time": "2021-12-24T06:21:40.618Z"
   },
   {
    "duration": 6,
    "start_time": "2021-12-24T06:21:40.631Z"
   },
   {
    "duration": 53,
    "start_time": "2021-12-24T06:21:40.639Z"
   },
   {
    "duration": 39,
    "start_time": "2021-12-24T06:21:40.695Z"
   },
   {
    "duration": 66,
    "start_time": "2021-12-24T06:21:40.737Z"
   },
   {
    "duration": 5338,
    "start_time": "2021-12-24T06:21:40.806Z"
   },
   {
    "duration": 3190,
    "start_time": "2021-12-24T06:21:42.958Z"
   },
   {
    "duration": 2112,
    "start_time": "2021-12-24T06:22:20.137Z"
   },
   {
    "duration": 2129,
    "start_time": "2021-12-24T06:25:50.984Z"
   },
   {
    "duration": 2276,
    "start_time": "2021-12-24T06:34:49.964Z"
   },
   {
    "duration": 39,
    "start_time": "2021-12-24T07:47:07.173Z"
   },
   {
    "duration": 2101,
    "start_time": "2021-12-24T07:49:30.568Z"
   },
   {
    "duration": 509,
    "start_time": "2021-12-24T07:53:29.675Z"
   },
   {
    "duration": 7,
    "start_time": "2021-12-24T07:54:13.747Z"
   },
   {
    "duration": 7,
    "start_time": "2021-12-24T07:54:47.059Z"
   },
   {
    "duration": 7,
    "start_time": "2021-12-24T07:54:55.456Z"
   },
   {
    "duration": 8,
    "start_time": "2021-12-24T07:55:34.055Z"
   },
   {
    "duration": 1001,
    "start_time": "2021-12-24T08:04:53.105Z"
   },
   {
    "duration": 886,
    "start_time": "2021-12-24T08:05:12.063Z"
   },
   {
    "duration": 708,
    "start_time": "2021-12-24T08:11:08.599Z"
   },
   {
    "duration": 746,
    "start_time": "2021-12-24T08:11:21.404Z"
   },
   {
    "duration": 686,
    "start_time": "2021-12-24T08:11:26.608Z"
   },
   {
    "duration": 944,
    "start_time": "2021-12-24T08:14:10.142Z"
   },
   {
    "duration": 326,
    "start_time": "2021-12-24T08:14:11.089Z"
   },
   {
    "duration": 31,
    "start_time": "2021-12-24T08:14:11.419Z"
   },
   {
    "duration": 40,
    "start_time": "2021-12-24T08:14:11.453Z"
   },
   {
    "duration": 84,
    "start_time": "2021-12-24T08:14:11.496Z"
   },
   {
    "duration": 5,
    "start_time": "2021-12-24T08:14:11.583Z"
   },
   {
    "duration": 13,
    "start_time": "2021-12-24T08:14:11.591Z"
   },
   {
    "duration": 23,
    "start_time": "2021-12-24T08:14:11.609Z"
   },
   {
    "duration": 33,
    "start_time": "2021-12-24T08:14:11.636Z"
   },
   {
    "duration": 8,
    "start_time": "2021-12-24T08:14:11.672Z"
   },
   {
    "duration": 22,
    "start_time": "2021-12-24T08:14:11.682Z"
   },
   {
    "duration": 9,
    "start_time": "2021-12-24T08:14:11.707Z"
   },
   {
    "duration": 59,
    "start_time": "2021-12-24T08:14:11.718Z"
   },
   {
    "duration": 21,
    "start_time": "2021-12-24T08:14:11.779Z"
   },
   {
    "duration": 7,
    "start_time": "2021-12-24T08:14:11.802Z"
   },
   {
    "duration": 19,
    "start_time": "2021-12-24T08:14:11.812Z"
   },
   {
    "duration": 35,
    "start_time": "2021-12-24T08:14:11.834Z"
   },
   {
    "duration": 33,
    "start_time": "2021-12-24T08:14:11.871Z"
   },
   {
    "duration": 95,
    "start_time": "2021-12-24T08:14:11.906Z"
   },
   {
    "duration": 19,
    "start_time": "2021-12-24T08:14:12.003Z"
   },
   {
    "duration": 16,
    "start_time": "2021-12-24T08:14:12.025Z"
   },
   {
    "duration": 56,
    "start_time": "2021-12-24T08:14:12.044Z"
   },
   {
    "duration": 1079,
    "start_time": "2021-12-24T08:14:12.105Z"
   },
   {
    "duration": 11,
    "start_time": "2021-12-24T08:14:13.187Z"
   },
   {
    "duration": 6,
    "start_time": "2021-12-24T08:14:13.201Z"
   },
   {
    "duration": 59,
    "start_time": "2021-12-24T08:14:13.210Z"
   },
   {
    "duration": 37,
    "start_time": "2021-12-24T08:14:13.272Z"
   },
   {
    "duration": 60,
    "start_time": "2021-12-24T08:14:13.312Z"
   },
   {
    "duration": 2085,
    "start_time": "2021-12-24T08:14:13.374Z"
   },
   {
    "duration": 719,
    "start_time": "2021-12-24T08:14:15.461Z"
   },
   {
    "duration": 6,
    "start_time": "2021-12-24T08:14:16.183Z"
   },
   {
    "duration": 7,
    "start_time": "2021-12-24T08:14:16.192Z"
   },
   {
    "duration": 9,
    "start_time": "2021-12-24T08:14:16.201Z"
   },
   {
    "duration": 436,
    "start_time": "2021-12-24T08:19:42.544Z"
   },
   {
    "duration": 728,
    "start_time": "2021-12-24T08:19:50.599Z"
   },
   {
    "duration": 214,
    "start_time": "2021-12-24T08:20:09.272Z"
   },
   {
    "duration": 1246,
    "start_time": "2021-12-24T08:24:23.901Z"
   },
   {
    "duration": 805,
    "start_time": "2021-12-24T08:28:16.939Z"
   },
   {
    "duration": 536,
    "start_time": "2021-12-24T08:30:31.266Z"
   },
   {
    "duration": 472,
    "start_time": "2021-12-24T08:33:01.838Z"
   },
   {
    "duration": 643,
    "start_time": "2021-12-24T08:33:22.496Z"
   },
   {
    "duration": 309,
    "start_time": "2021-12-24T08:38:26.736Z"
   },
   {
    "duration": 272,
    "start_time": "2021-12-24T08:38:42.224Z"
   },
   {
    "duration": 10,
    "start_time": "2021-12-24T08:38:49.410Z"
   },
   {
    "duration": 11,
    "start_time": "2021-12-24T08:39:12.996Z"
   },
   {
    "duration": 12,
    "start_time": "2021-12-24T08:45:15.716Z"
   },
   {
    "duration": 14,
    "start_time": "2021-12-24T08:57:26.406Z"
   },
   {
    "duration": 151,
    "start_time": "2021-12-24T08:57:45.530Z"
   },
   {
    "duration": 25,
    "start_time": "2021-12-24T08:58:04.562Z"
   },
   {
    "duration": 28,
    "start_time": "2021-12-24T09:00:12.601Z"
   },
   {
    "duration": 27,
    "start_time": "2021-12-24T09:00:26.060Z"
   },
   {
    "duration": 934,
    "start_time": "2021-12-24T09:00:35.876Z"
   },
   {
    "duration": 339,
    "start_time": "2021-12-24T09:00:36.813Z"
   },
   {
    "duration": 47,
    "start_time": "2021-12-24T09:00:37.155Z"
   },
   {
    "duration": 30,
    "start_time": "2021-12-24T09:00:37.204Z"
   },
   {
    "duration": 94,
    "start_time": "2021-12-24T09:00:37.237Z"
   },
   {
    "duration": 5,
    "start_time": "2021-12-24T09:00:37.333Z"
   },
   {
    "duration": 26,
    "start_time": "2021-12-24T09:00:37.341Z"
   },
   {
    "duration": 22,
    "start_time": "2021-12-24T09:00:37.374Z"
   },
   {
    "duration": 22,
    "start_time": "2021-12-24T09:00:37.399Z"
   },
   {
    "duration": 19,
    "start_time": "2021-12-24T09:00:37.424Z"
   },
   {
    "duration": 34,
    "start_time": "2021-12-24T09:00:37.445Z"
   },
   {
    "duration": 7,
    "start_time": "2021-12-24T09:00:37.482Z"
   },
   {
    "duration": 31,
    "start_time": "2021-12-24T09:00:37.492Z"
   },
   {
    "duration": 55,
    "start_time": "2021-12-24T09:00:37.526Z"
   },
   {
    "duration": 8,
    "start_time": "2021-12-24T09:00:37.583Z"
   },
   {
    "duration": 17,
    "start_time": "2021-12-24T09:00:37.593Z"
   },
   {
    "duration": 12,
    "start_time": "2021-12-24T09:00:37.613Z"
   },
   {
    "duration": 65,
    "start_time": "2021-12-24T09:00:37.627Z"
   },
   {
    "duration": 89,
    "start_time": "2021-12-24T09:00:37.695Z"
   },
   {
    "duration": 17,
    "start_time": "2021-12-24T09:00:37.787Z"
   },
   {
    "duration": 12,
    "start_time": "2021-12-24T09:00:37.806Z"
   },
   {
    "duration": 72,
    "start_time": "2021-12-24T09:00:37.820Z"
   },
   {
    "duration": 1097,
    "start_time": "2021-12-24T09:00:37.896Z"
   },
   {
    "duration": 11,
    "start_time": "2021-12-24T09:00:38.996Z"
   },
   {
    "duration": 8,
    "start_time": "2021-12-24T09:00:39.009Z"
   },
   {
    "duration": 64,
    "start_time": "2021-12-24T09:00:39.019Z"
   },
   {
    "duration": 38,
    "start_time": "2021-12-24T09:00:39.086Z"
   },
   {
    "duration": 73,
    "start_time": "2021-12-24T09:00:39.127Z"
   },
   {
    "duration": 2417,
    "start_time": "2021-12-24T09:00:39.202Z"
   },
   {
    "duration": 566,
    "start_time": "2021-12-24T09:00:41.621Z"
   },
   {
    "duration": 713,
    "start_time": "2021-12-24T09:00:42.189Z"
   },
   {
    "duration": 14,
    "start_time": "2021-12-24T09:00:42.905Z"
   },
   {
    "duration": 6,
    "start_time": "2021-12-24T09:00:42.921Z"
   },
   {
    "duration": 43,
    "start_time": "2021-12-24T09:00:42.930Z"
   },
   {
    "duration": 16,
    "start_time": "2021-12-24T09:00:42.976Z"
   },
   {
    "duration": 20,
    "start_time": "2021-12-24T09:00:42.995Z"
   },
   {
    "duration": 7,
    "start_time": "2021-12-24T09:00:43.018Z"
   },
   {
    "duration": 23,
    "start_time": "2021-12-24T09:02:51.687Z"
   },
   {
    "duration": 23,
    "start_time": "2021-12-24T09:03:00.927Z"
   },
   {
    "duration": 8,
    "start_time": "2021-12-24T09:03:44.123Z"
   },
   {
    "duration": 360,
    "start_time": "2021-12-24T11:25:52.557Z"
   },
   {
    "duration": 360,
    "start_time": "2021-12-24T11:29:08.539Z"
   },
   {
    "duration": 453,
    "start_time": "2021-12-24T11:30:04.899Z"
   },
   {
    "duration": 89,
    "start_time": "2021-12-24T11:35:16.406Z"
   },
   {
    "duration": 438,
    "start_time": "2021-12-24T11:35:25.628Z"
   },
   {
    "duration": 303,
    "start_time": "2021-12-24T11:37:15.541Z"
   },
   {
    "duration": 395,
    "start_time": "2021-12-24T11:37:31.916Z"
   },
   {
    "duration": 96,
    "start_time": "2021-12-24T11:37:39.320Z"
   },
   {
    "duration": 87,
    "start_time": "2021-12-24T11:37:48.880Z"
   },
   {
    "duration": 773,
    "start_time": "2021-12-24T11:38:52.411Z"
   },
   {
    "duration": 784,
    "start_time": "2021-12-24T11:38:58.063Z"
   },
   {
    "duration": 742,
    "start_time": "2021-12-24T11:39:46.101Z"
   },
   {
    "duration": 736,
    "start_time": "2021-12-24T11:40:05.909Z"
   },
   {
    "duration": 318,
    "start_time": "2021-12-24T11:44:11.651Z"
   },
   {
    "duration": 333,
    "start_time": "2021-12-24T11:44:27.697Z"
   },
   {
    "duration": 356,
    "start_time": "2021-12-24T11:44:37.475Z"
   },
   {
    "duration": 289,
    "start_time": "2021-12-24T11:44:56.191Z"
   },
   {
    "duration": 293,
    "start_time": "2021-12-24T11:46:05.076Z"
   },
   {
    "duration": 285,
    "start_time": "2021-12-24T11:50:37.310Z"
   },
   {
    "duration": 8780,
    "start_time": "2021-12-24T11:51:24.467Z"
   },
   {
    "duration": 2056,
    "start_time": "2021-12-24T11:51:42.797Z"
   },
   {
    "duration": 287,
    "start_time": "2021-12-24T11:51:57.313Z"
   },
   {
    "duration": 89,
    "start_time": "2021-12-24T11:56:40.378Z"
   },
   {
    "duration": 353,
    "start_time": "2021-12-24T11:57:28.767Z"
   },
   {
    "duration": 461,
    "start_time": "2021-12-24T12:03:22.810Z"
   },
   {
    "duration": 308,
    "start_time": "2021-12-24T12:03:42.830Z"
   },
   {
    "duration": 357,
    "start_time": "2021-12-24T12:04:18.927Z"
   },
   {
    "duration": 365,
    "start_time": "2021-12-24T12:04:26.850Z"
   },
   {
    "duration": 380,
    "start_time": "2021-12-24T12:12:10.999Z"
   },
   {
    "duration": 279,
    "start_time": "2021-12-24T13:05:23.561Z"
   },
   {
    "duration": 40,
    "start_time": "2021-12-24T13:05:37.895Z"
   },
   {
    "duration": 38,
    "start_time": "2021-12-24T13:05:51.913Z"
   },
   {
    "duration": 32,
    "start_time": "2021-12-24T13:07:39.830Z"
   },
   {
    "duration": 38,
    "start_time": "2021-12-24T13:07:52.292Z"
   },
   {
    "duration": 100,
    "start_time": "2021-12-24T13:09:03.463Z"
   },
   {
    "duration": 11,
    "start_time": "2021-12-24T13:10:09.090Z"
   },
   {
    "duration": 11,
    "start_time": "2021-12-24T13:11:16.960Z"
   },
   {
    "duration": 86,
    "start_time": "2021-12-24T13:18:01.384Z"
   },
   {
    "duration": 87,
    "start_time": "2021-12-24T13:18:38.687Z"
   },
   {
    "duration": 309,
    "start_time": "2021-12-24T13:18:46.867Z"
   },
   {
    "duration": 13,
    "start_time": "2021-12-24T13:19:16.168Z"
   },
   {
    "duration": 20,
    "start_time": "2021-12-24T13:23:41.150Z"
   },
   {
    "duration": 94,
    "start_time": "2021-12-24T13:25:24.122Z"
   },
   {
    "duration": 89,
    "start_time": "2021-12-24T13:25:33.992Z"
   },
   {
    "duration": 96,
    "start_time": "2021-12-24T13:26:10.492Z"
   },
   {
    "duration": 23,
    "start_time": "2021-12-24T13:26:17.680Z"
   },
   {
    "duration": 13,
    "start_time": "2021-12-24T13:26:26.210Z"
   },
   {
    "duration": 89,
    "start_time": "2021-12-24T13:26:54.081Z"
   },
   {
    "duration": 336,
    "start_time": "2021-12-24T13:27:32.609Z"
   },
   {
    "duration": 16,
    "start_time": "2021-12-24T13:27:49.877Z"
   },
   {
    "duration": 306,
    "start_time": "2021-12-24T13:29:47.854Z"
   },
   {
    "duration": 27,
    "start_time": "2021-12-24T13:29:53.792Z"
   },
   {
    "duration": 34,
    "start_time": "2021-12-24T13:30:06.801Z"
   },
   {
    "duration": 38,
    "start_time": "2021-12-24T13:30:19.274Z"
   },
   {
    "duration": 280,
    "start_time": "2021-12-24T13:31:44.740Z"
   },
   {
    "duration": 35,
    "start_time": "2021-12-24T13:32:47.786Z"
   },
   {
    "duration": 264,
    "start_time": "2021-12-24T13:34:21.700Z"
   },
   {
    "duration": 38,
    "start_time": "2021-12-24T13:34:33.276Z"
   },
   {
    "duration": 35,
    "start_time": "2021-12-24T13:35:04.228Z"
   },
   {
    "duration": 279,
    "start_time": "2021-12-24T13:35:14.495Z"
   },
   {
    "duration": 34,
    "start_time": "2021-12-24T13:35:22.069Z"
   },
   {
    "duration": 317,
    "start_time": "2021-12-24T13:38:07.807Z"
   },
   {
    "duration": 444,
    "start_time": "2021-12-24T13:39:54.723Z"
   },
   {
    "duration": 11,
    "start_time": "2021-12-24T13:51:39.571Z"
   },
   {
    "duration": 7034,
    "start_time": "2021-12-24T13:56:46.684Z"
   },
   {
    "duration": 7760,
    "start_time": "2021-12-24T13:57:40.479Z"
   },
   {
    "duration": 7440,
    "start_time": "2021-12-24T13:58:09.561Z"
   },
   {
    "duration": 347,
    "start_time": "2021-12-24T13:58:45.082Z"
   },
   {
    "duration": 348,
    "start_time": "2021-12-24T14:01:32.363Z"
   },
   {
    "duration": 330,
    "start_time": "2021-12-24T14:01:52.266Z"
   },
   {
    "duration": 198,
    "start_time": "2021-12-24T14:04:20.220Z"
   },
   {
    "duration": 9520,
    "start_time": "2021-12-24T14:06:51.910Z"
   },
   {
    "duration": 147,
    "start_time": "2021-12-24T14:07:37.503Z"
   },
   {
    "duration": 296,
    "start_time": "2021-12-24T14:07:45.566Z"
   },
   {
    "duration": 412,
    "start_time": "2021-12-24T14:10:10.841Z"
   },
   {
    "duration": 333,
    "start_time": "2021-12-24T14:10:30.924Z"
   },
   {
    "duration": 32,
    "start_time": "2021-12-24T14:10:49.532Z"
   },
   {
    "duration": 34,
    "start_time": "2021-12-24T14:11:43.834Z"
   },
   {
    "duration": 31,
    "start_time": "2021-12-24T14:11:56.847Z"
   },
   {
    "duration": 40,
    "start_time": "2021-12-24T14:18:56.994Z"
   },
   {
    "duration": 317,
    "start_time": "2021-12-24T14:26:34.620Z"
   },
   {
    "duration": 328,
    "start_time": "2021-12-24T14:27:15.002Z"
   },
   {
    "duration": 559,
    "start_time": "2021-12-24T14:27:47.922Z"
   },
   {
    "duration": 521,
    "start_time": "2021-12-24T14:28:10.575Z"
   },
   {
    "duration": 323,
    "start_time": "2021-12-24T14:28:25.039Z"
   },
   {
    "duration": 274,
    "start_time": "2021-12-24T14:32:14.885Z"
   },
   {
    "duration": 287,
    "start_time": "2021-12-24T14:32:25.392Z"
   },
   {
    "duration": 239,
    "start_time": "2021-12-24T14:34:45.429Z"
   },
   {
    "duration": 289,
    "start_time": "2021-12-24T14:35:31.663Z"
   },
   {
    "duration": 277,
    "start_time": "2021-12-24T14:35:50.767Z"
   },
   {
    "duration": 344,
    "start_time": "2021-12-24T14:36:31.773Z"
   },
   {
    "duration": 327,
    "start_time": "2021-12-24T14:37:04.192Z"
   },
   {
    "duration": 442,
    "start_time": "2021-12-24T14:37:09.016Z"
   },
   {
    "duration": 332,
    "start_time": "2021-12-24T14:37:24.675Z"
   },
   {
    "duration": 1183,
    "start_time": "2021-12-24T14:41:22.218Z"
   },
   {
    "duration": 311,
    "start_time": "2021-12-24T14:41:48.156Z"
   },
   {
    "duration": 300,
    "start_time": "2021-12-24T14:41:59.383Z"
   },
   {
    "duration": 399,
    "start_time": "2021-12-24T14:46:59.134Z"
   },
   {
    "duration": 485,
    "start_time": "2021-12-24T14:47:04.111Z"
   },
   {
    "duration": 397,
    "start_time": "2021-12-24T14:47:23.920Z"
   },
   {
    "duration": 437,
    "start_time": "2021-12-24T14:48:15.055Z"
   },
   {
    "duration": 561,
    "start_time": "2021-12-24T14:48:22.906Z"
   },
   {
    "duration": 426,
    "start_time": "2021-12-24T14:49:11.422Z"
   },
   {
    "duration": 658,
    "start_time": "2021-12-25T10:36:44.845Z"
   },
   {
    "duration": 399,
    "start_time": "2021-12-25T10:36:45.505Z"
   },
   {
    "duration": 17,
    "start_time": "2021-12-25T10:36:45.906Z"
   },
   {
    "duration": 22,
    "start_time": "2021-12-25T10:36:45.927Z"
   },
   {
    "duration": 33,
    "start_time": "2021-12-25T10:36:45.951Z"
   },
   {
    "duration": 4,
    "start_time": "2021-12-25T10:36:45.985Z"
   },
   {
    "duration": 4,
    "start_time": "2021-12-25T10:36:45.991Z"
   },
   {
    "duration": 30,
    "start_time": "2021-12-25T10:36:45.998Z"
   },
   {
    "duration": 14,
    "start_time": "2021-12-25T10:36:46.030Z"
   },
   {
    "duration": 8,
    "start_time": "2021-12-25T10:36:46.046Z"
   },
   {
    "duration": 11,
    "start_time": "2021-12-25T10:36:46.056Z"
   },
   {
    "duration": 7,
    "start_time": "2021-12-25T10:36:46.068Z"
   },
   {
    "duration": 18,
    "start_time": "2021-12-25T10:36:46.076Z"
   },
   {
    "duration": 44,
    "start_time": "2021-12-25T10:36:46.096Z"
   },
   {
    "duration": 7,
    "start_time": "2021-12-25T10:36:46.142Z"
   },
   {
    "duration": 12,
    "start_time": "2021-12-25T10:36:46.151Z"
   },
   {
    "duration": 6,
    "start_time": "2021-12-25T10:36:46.164Z"
   },
   {
    "duration": 22,
    "start_time": "2021-12-25T10:36:46.171Z"
   },
   {
    "duration": 77,
    "start_time": "2021-12-25T10:36:46.194Z"
   },
   {
    "duration": 11,
    "start_time": "2021-12-25T10:36:46.272Z"
   },
   {
    "duration": 7,
    "start_time": "2021-12-25T10:36:46.285Z"
   },
   {
    "duration": 44,
    "start_time": "2021-12-25T10:36:46.293Z"
   },
   {
    "duration": 595,
    "start_time": "2021-12-25T10:36:46.343Z"
   },
   {
    "duration": 9,
    "start_time": "2021-12-25T10:36:46.940Z"
   },
   {
    "duration": 5,
    "start_time": "2021-12-25T10:36:46.951Z"
   },
   {
    "duration": 21,
    "start_time": "2021-12-25T10:36:46.958Z"
   },
   {
    "duration": 46,
    "start_time": "2021-12-25T10:36:46.981Z"
   },
   {
    "duration": 27,
    "start_time": "2021-12-25T10:36:47.029Z"
   },
   {
    "duration": 1223,
    "start_time": "2021-12-25T10:36:47.058Z"
   },
   {
    "duration": 276,
    "start_time": "2021-12-25T10:36:48.283Z"
   },
   {
    "duration": 346,
    "start_time": "2021-12-25T10:36:48.561Z"
   },
   {
    "duration": 6,
    "start_time": "2021-12-25T10:36:48.909Z"
   },
   {
    "duration": 11,
    "start_time": "2021-12-25T10:36:48.917Z"
   },
   {
    "duration": 5,
    "start_time": "2021-12-25T10:36:48.930Z"
   },
   {
    "duration": 9,
    "start_time": "2021-12-25T10:36:48.936Z"
   },
   {
    "duration": 14,
    "start_time": "2021-12-25T10:36:48.946Z"
   },
   {
    "duration": 5,
    "start_time": "2021-12-25T10:36:48.961Z"
   },
   {
    "duration": 286,
    "start_time": "2021-12-25T10:36:48.968Z"
   },
   {
    "duration": 210,
    "start_time": "2021-12-25T10:36:49.256Z"
   },
   {
    "duration": 505,
    "start_time": "2021-12-25T10:36:49.468Z"
   },
   {
    "duration": 246,
    "start_time": "2021-12-25T10:36:49.974Z"
   },
   {
    "duration": 209,
    "start_time": "2021-12-25T10:36:50.221Z"
   },
   {
    "duration": 238,
    "start_time": "2021-12-25T10:36:50.432Z"
   },
   {
    "duration": 245,
    "start_time": "2021-12-25T10:36:50.672Z"
   },
   {
    "duration": 27,
    "start_time": "2021-12-25T10:36:50.919Z"
   },
   {
    "duration": 6,
    "start_time": "2021-12-25T10:36:50.948Z"
   },
   {
    "duration": 8,
    "start_time": "2021-12-25T10:36:50.956Z"
   },
   {
    "duration": 25,
    "start_time": "2021-12-25T10:36:50.966Z"
   },
   {
    "duration": 199,
    "start_time": "2021-12-25T10:36:50.993Z"
   },
   {
    "duration": 21,
    "start_time": "2021-12-25T10:36:51.193Z"
   },
   {
    "duration": 179,
    "start_time": "2021-12-25T10:36:51.215Z"
   },
   {
    "duration": 156,
    "start_time": "2021-12-25T10:36:51.395Z"
   },
   {
    "duration": 182,
    "start_time": "2021-12-25T10:36:51.552Z"
   },
   {
    "duration": 179,
    "start_time": "2021-12-25T10:36:51.736Z"
   },
   {
    "duration": 231,
    "start_time": "2021-12-25T10:36:51.917Z"
   },
   {
    "duration": 227,
    "start_time": "2021-12-26T05:14:10.520Z"
   },
   {
    "duration": 621,
    "start_time": "2021-12-26T05:14:18.128Z"
   },
   {
    "duration": 215,
    "start_time": "2021-12-26T05:14:18.751Z"
   },
   {
    "duration": 25,
    "start_time": "2021-12-26T05:14:18.967Z"
   },
   {
    "duration": 98,
    "start_time": "2021-12-26T05:14:18.993Z"
   },
   {
    "duration": 20,
    "start_time": "2021-12-26T05:14:19.092Z"
   },
   {
    "duration": 39,
    "start_time": "2021-12-26T05:14:19.113Z"
   },
   {
    "duration": 4,
    "start_time": "2021-12-26T05:14:19.153Z"
   },
   {
    "duration": 6,
    "start_time": "2021-12-26T05:14:19.159Z"
   },
   {
    "duration": 20,
    "start_time": "2021-12-26T05:14:19.167Z"
   },
   {
    "duration": 22,
    "start_time": "2021-12-26T05:14:19.191Z"
   },
   {
    "duration": 18,
    "start_time": "2021-12-26T05:14:19.215Z"
   },
   {
    "duration": 30,
    "start_time": "2021-12-26T05:14:19.234Z"
   },
   {
    "duration": 11,
    "start_time": "2021-12-26T05:14:19.266Z"
   },
   {
    "duration": 38,
    "start_time": "2021-12-26T05:14:19.278Z"
   },
   {
    "duration": 11,
    "start_time": "2021-12-26T05:14:19.318Z"
   },
   {
    "duration": 5,
    "start_time": "2021-12-26T05:14:19.331Z"
   },
   {
    "duration": 11,
    "start_time": "2021-12-26T05:14:19.338Z"
   },
   {
    "duration": 4,
    "start_time": "2021-12-26T05:14:19.351Z"
   },
   {
    "duration": 36,
    "start_time": "2021-12-26T05:14:19.356Z"
   },
   {
    "duration": 37,
    "start_time": "2021-12-26T05:14:19.394Z"
   },
   {
    "duration": 10,
    "start_time": "2021-12-26T05:14:19.432Z"
   },
   {
    "duration": 8,
    "start_time": "2021-12-26T05:14:19.444Z"
   },
   {
    "duration": 45,
    "start_time": "2021-12-26T05:14:19.455Z"
   },
   {
    "duration": 550,
    "start_time": "2021-12-26T05:14:19.502Z"
   },
   {
    "duration": 6,
    "start_time": "2021-12-26T05:14:20.054Z"
   },
   {
    "duration": 10,
    "start_time": "2021-12-26T05:14:20.061Z"
   },
   {
    "duration": 32,
    "start_time": "2021-12-26T05:14:20.072Z"
   },
   {
    "duration": 23,
    "start_time": "2021-12-26T05:14:20.105Z"
   },
   {
    "duration": 27,
    "start_time": "2021-12-26T05:14:20.130Z"
   },
   {
    "duration": 1265,
    "start_time": "2021-12-26T05:14:20.159Z"
   },
   {
    "duration": 314,
    "start_time": "2021-12-26T05:14:21.426Z"
   },
   {
    "duration": 379,
    "start_time": "2021-12-26T05:14:21.742Z"
   },
   {
    "duration": 7,
    "start_time": "2021-12-26T05:14:22.122Z"
   },
   {
    "duration": 3,
    "start_time": "2021-12-26T05:14:22.131Z"
   },
   {
    "duration": 5,
    "start_time": "2021-12-26T05:14:22.136Z"
   },
   {
    "duration": 7,
    "start_time": "2021-12-26T05:14:22.142Z"
   },
   {
    "duration": 41,
    "start_time": "2021-12-26T05:14:22.151Z"
   },
   {
    "duration": 4,
    "start_time": "2021-12-26T05:14:22.194Z"
   },
   {
    "duration": 229,
    "start_time": "2021-12-26T05:14:22.200Z"
   },
   {
    "duration": 222,
    "start_time": "2021-12-26T05:14:22.431Z"
   },
   {
    "duration": 525,
    "start_time": "2021-12-26T05:14:22.655Z"
   },
   {
    "duration": 252,
    "start_time": "2021-12-26T05:14:23.182Z"
   },
   {
    "duration": 180,
    "start_time": "2021-12-26T05:14:23.435Z"
   },
   {
    "duration": 208,
    "start_time": "2021-12-26T05:14:23.617Z"
   },
   {
    "duration": 229,
    "start_time": "2021-12-26T05:14:23.827Z"
   },
   {
    "duration": 34,
    "start_time": "2021-12-26T05:14:24.058Z"
   },
   {
    "duration": 7,
    "start_time": "2021-12-26T05:14:24.093Z"
   },
   {
    "duration": 9,
    "start_time": "2021-12-26T05:14:24.101Z"
   },
   {
    "duration": 38,
    "start_time": "2021-12-26T05:14:24.112Z"
   },
   {
    "duration": 186,
    "start_time": "2021-12-26T05:14:24.152Z"
   },
   {
    "duration": 22,
    "start_time": "2021-12-26T05:14:24.340Z"
   },
   {
    "duration": 199,
    "start_time": "2021-12-26T05:14:24.364Z"
   },
   {
    "duration": 167,
    "start_time": "2021-12-26T05:14:24.564Z"
   },
   {
    "duration": 195,
    "start_time": "2021-12-26T05:14:24.732Z"
   },
   {
    "duration": 185,
    "start_time": "2021-12-26T05:14:24.929Z"
   },
   {
    "duration": 244,
    "start_time": "2021-12-26T05:14:25.115Z"
   },
   {
    "duration": 12,
    "start_time": "2021-12-26T05:29:27.241Z"
   },
   {
    "duration": 254,
    "start_time": "2021-12-26T05:29:46.243Z"
   },
   {
    "duration": 12,
    "start_time": "2021-12-26T05:29:56.684Z"
   },
   {
    "duration": 358,
    "start_time": "2021-12-26T05:30:20.046Z"
   },
   {
    "duration": 1237,
    "start_time": "2021-12-26T05:39:25.709Z"
   },
   {
    "duration": 1367,
    "start_time": "2021-12-26T05:42:31.629Z"
   },
   {
    "duration": 1154,
    "start_time": "2021-12-26T05:43:34.931Z"
   },
   {
    "duration": 1186,
    "start_time": "2021-12-26T05:45:41.711Z"
   },
   {
    "duration": 290,
    "start_time": "2021-12-26T05:47:04.540Z"
   },
   {
    "duration": 337,
    "start_time": "2021-12-26T05:48:29.732Z"
   },
   {
    "duration": 224,
    "start_time": "2021-12-26T05:52:35.507Z"
   },
   {
    "duration": 217,
    "start_time": "2021-12-26T05:53:57.633Z"
   },
   {
    "duration": 529,
    "start_time": "2021-12-26T05:54:53.178Z"
   },
   {
    "duration": 186,
    "start_time": "2021-12-26T05:56:40.855Z"
   },
   {
    "duration": 288,
    "start_time": "2021-12-26T05:58:04.321Z"
   },
   {
    "duration": 237,
    "start_time": "2021-12-26T05:59:06.462Z"
   },
   {
    "duration": 232,
    "start_time": "2021-12-26T06:01:19.662Z"
   },
   {
    "duration": 236,
    "start_time": "2021-12-26T06:04:35.240Z"
   },
   {
    "duration": 26,
    "start_time": "2021-12-26T06:05:03.167Z"
   },
   {
    "duration": 4,
    "start_time": "2021-12-26T07:03:42.918Z"
   },
   {
    "duration": 14,
    "start_time": "2021-12-26T07:03:57.772Z"
   },
   {
    "duration": 4,
    "start_time": "2021-12-26T07:04:30.024Z"
   },
   {
    "duration": 132,
    "start_time": "2021-12-26T07:09:22.109Z"
   },
   {
    "duration": 128,
    "start_time": "2021-12-26T07:09:37.043Z"
   },
   {
    "duration": 181,
    "start_time": "2021-12-26T07:14:19.210Z"
   },
   {
    "duration": 177,
    "start_time": "2021-12-26T07:14:38.048Z"
   },
   {
    "duration": 187,
    "start_time": "2021-12-26T07:14:44.559Z"
   },
   {
    "duration": 164,
    "start_time": "2021-12-26T07:15:09.377Z"
   },
   {
    "duration": 130,
    "start_time": "2021-12-26T07:17:08.356Z"
   },
   {
    "duration": 13,
    "start_time": "2021-12-26T07:19:31.125Z"
   },
   {
    "duration": 124,
    "start_time": "2021-12-26T07:19:45.800Z"
   },
   {
    "duration": 648,
    "start_time": "2021-12-26T07:20:03.163Z"
   },
   {
    "duration": 225,
    "start_time": "2021-12-26T07:20:03.813Z"
   },
   {
    "duration": 22,
    "start_time": "2021-12-26T07:20:04.040Z"
   },
   {
    "duration": 113,
    "start_time": "2021-12-26T07:20:04.065Z"
   },
   {
    "duration": 30,
    "start_time": "2021-12-26T07:20:04.180Z"
   },
   {
    "duration": 35,
    "start_time": "2021-12-26T07:20:04.212Z"
   },
   {
    "duration": 4,
    "start_time": "2021-12-26T07:20:04.249Z"
   },
   {
    "duration": 34,
    "start_time": "2021-12-26T07:20:04.257Z"
   },
   {
    "duration": 5,
    "start_time": "2021-12-26T07:20:04.294Z"
   },
   {
    "duration": 10,
    "start_time": "2021-12-26T07:20:04.301Z"
   },
   {
    "duration": 6,
    "start_time": "2021-12-26T07:20:04.313Z"
   },
   {
    "duration": 12,
    "start_time": "2021-12-26T07:20:04.321Z"
   },
   {
    "duration": 7,
    "start_time": "2021-12-26T07:20:04.335Z"
   },
   {
    "duration": 58,
    "start_time": "2021-12-26T07:20:04.344Z"
   },
   {
    "duration": 308,
    "start_time": "2021-12-26T07:20:04.404Z"
   },
   {
    "duration": 15,
    "start_time": "2021-12-26T07:20:04.714Z"
   },
   {
    "duration": 5,
    "start_time": "2021-12-26T07:20:04.730Z"
   },
   {
    "duration": 11,
    "start_time": "2021-12-26T07:20:04.737Z"
   },
   {
    "duration": 4,
    "start_time": "2021-12-26T07:20:04.749Z"
   },
   {
    "duration": 48,
    "start_time": "2021-12-26T07:20:04.754Z"
   },
   {
    "duration": 39,
    "start_time": "2021-12-26T07:20:04.804Z"
   },
   {
    "duration": 11,
    "start_time": "2021-12-26T07:20:04.845Z"
   },
   {
    "duration": 7,
    "start_time": "2021-12-26T07:20:04.860Z"
   },
   {
    "duration": 43,
    "start_time": "2021-12-26T07:20:04.869Z"
   },
   {
    "duration": 613,
    "start_time": "2021-12-26T07:20:04.913Z"
   },
   {
    "duration": 5,
    "start_time": "2021-12-26T07:20:05.527Z"
   },
   {
    "duration": 7,
    "start_time": "2021-12-26T07:20:05.533Z"
   },
   {
    "duration": 22,
    "start_time": "2021-12-26T07:20:05.541Z"
   },
   {
    "duration": 48,
    "start_time": "2021-12-26T07:20:05.565Z"
   },
   {
    "duration": 28,
    "start_time": "2021-12-26T07:20:05.615Z"
   },
   {
    "duration": 1177,
    "start_time": "2021-12-26T07:20:05.646Z"
   },
   {
    "duration": 302,
    "start_time": "2021-12-26T07:20:06.825Z"
   },
   {
    "duration": 446,
    "start_time": "2021-12-26T07:20:07.130Z"
   },
   {
    "duration": 18,
    "start_time": "2021-12-26T07:20:07.579Z"
   },
   {
    "duration": 5,
    "start_time": "2021-12-26T07:20:07.599Z"
   },
   {
    "duration": 6,
    "start_time": "2021-12-26T07:20:07.606Z"
   },
   {
    "duration": 13,
    "start_time": "2021-12-26T07:20:07.613Z"
   },
   {
    "duration": 19,
    "start_time": "2021-12-26T07:20:07.628Z"
   },
   {
    "duration": 5,
    "start_time": "2021-12-26T07:20:07.649Z"
   },
   {
    "duration": 32,
    "start_time": "2021-12-26T07:20:07.662Z"
   },
   {
    "duration": 148,
    "start_time": "2021-12-26T07:20:07.695Z"
   },
   {
    "duration": 10,
    "start_time": "2021-12-26T07:20:07.845Z"
   },
   {
    "duration": 141,
    "start_time": "2021-12-26T07:20:07.857Z"
   },
   {
    "duration": 237,
    "start_time": "2021-12-26T07:20:07.999Z"
   },
   {
    "duration": 233,
    "start_time": "2021-12-26T07:20:08.238Z"
   },
   {
    "duration": 569,
    "start_time": "2021-12-26T07:20:08.473Z"
   },
   {
    "duration": 205,
    "start_time": "2021-12-26T07:20:09.044Z"
   },
   {
    "duration": 206,
    "start_time": "2021-12-26T07:20:09.251Z"
   },
   {
    "duration": 236,
    "start_time": "2021-12-26T07:20:09.458Z"
   },
   {
    "duration": 248,
    "start_time": "2021-12-26T07:20:09.696Z"
   },
   {
    "duration": 25,
    "start_time": "2021-12-26T07:20:09.946Z"
   },
   {
    "duration": 24,
    "start_time": "2021-12-26T07:20:09.973Z"
   },
   {
    "duration": 18,
    "start_time": "2021-12-26T07:20:09.998Z"
   },
   {
    "duration": 39,
    "start_time": "2021-12-26T07:20:10.017Z"
   },
   {
    "duration": 217,
    "start_time": "2021-12-26T07:20:10.057Z"
   },
   {
    "duration": 38,
    "start_time": "2021-12-26T07:20:10.276Z"
   },
   {
    "duration": 272,
    "start_time": "2021-12-26T07:20:10.316Z"
   },
   {
    "duration": 182,
    "start_time": "2021-12-26T07:20:10.589Z"
   },
   {
    "duration": 237,
    "start_time": "2021-12-26T07:20:10.773Z"
   },
   {
    "duration": 192,
    "start_time": "2021-12-26T07:20:11.012Z"
   },
   {
    "duration": 289,
    "start_time": "2021-12-26T07:20:11.206Z"
   },
   {
    "duration": 158,
    "start_time": "2021-12-26T07:20:37.508Z"
   },
   {
    "duration": 482,
    "start_time": "2021-12-26T07:22:41.123Z"
   },
   {
    "duration": 143,
    "start_time": "2021-12-26T07:23:22.277Z"
   },
   {
    "duration": 191,
    "start_time": "2021-12-26T07:24:05.263Z"
   },
   {
    "duration": 10,
    "start_time": "2021-12-26T07:26:56.041Z"
   },
   {
    "duration": 160,
    "start_time": "2021-12-26T07:27:13.346Z"
   },
   {
    "duration": 138,
    "start_time": "2021-12-26T07:27:47.395Z"
   },
   {
    "duration": 275,
    "start_time": "2021-12-26T07:29:00.727Z"
   },
   {
    "duration": 174,
    "start_time": "2021-12-26T07:29:51.538Z"
   },
   {
    "duration": 181,
    "start_time": "2021-12-26T07:30:05.234Z"
   },
   {
    "duration": 194,
    "start_time": "2021-12-26T07:30:19.108Z"
   },
   {
    "duration": 362,
    "start_time": "2021-12-26T07:32:12.269Z"
   },
   {
    "duration": 179,
    "start_time": "2021-12-26T07:32:17.530Z"
   },
   {
    "duration": 146,
    "start_time": "2021-12-26T07:35:10.797Z"
   },
   {
    "duration": 12,
    "start_time": "2021-12-26T07:38:12.972Z"
   },
   {
    "duration": 133,
    "start_time": "2021-12-26T07:38:25.981Z"
   },
   {
    "duration": 130,
    "start_time": "2021-12-26T07:39:05.198Z"
   },
   {
    "duration": 661,
    "start_time": "2021-12-26T07:39:35.258Z"
   },
   {
    "duration": 431,
    "start_time": "2021-12-26T07:39:35.920Z"
   },
   {
    "duration": 21,
    "start_time": "2021-12-26T07:39:36.354Z"
   },
   {
    "duration": 114,
    "start_time": "2021-12-26T07:39:36.377Z"
   },
   {
    "duration": 22,
    "start_time": "2021-12-26T07:39:36.493Z"
   },
   {
    "duration": 35,
    "start_time": "2021-12-26T07:39:36.517Z"
   },
   {
    "duration": 4,
    "start_time": "2021-12-26T07:39:36.554Z"
   },
   {
    "duration": 30,
    "start_time": "2021-12-26T07:39:36.561Z"
   },
   {
    "duration": 7,
    "start_time": "2021-12-26T07:39:36.594Z"
   },
   {
    "duration": 10,
    "start_time": "2021-12-26T07:39:36.602Z"
   },
   {
    "duration": 6,
    "start_time": "2021-12-26T07:39:36.613Z"
   },
   {
    "duration": 13,
    "start_time": "2021-12-26T07:39:36.621Z"
   },
   {
    "duration": 6,
    "start_time": "2021-12-26T07:39:36.635Z"
   },
   {
    "duration": 50,
    "start_time": "2021-12-26T07:39:36.643Z"
   },
   {
    "duration": 308,
    "start_time": "2021-12-26T07:39:36.695Z"
   },
   {
    "duration": 15,
    "start_time": "2021-12-26T07:39:37.005Z"
   },
   {
    "duration": 5,
    "start_time": "2021-12-26T07:39:37.021Z"
   },
   {
    "duration": 11,
    "start_time": "2021-12-26T07:39:37.027Z"
   },
   {
    "duration": 4,
    "start_time": "2021-12-26T07:39:37.040Z"
   },
   {
    "duration": 49,
    "start_time": "2021-12-26T07:39:37.045Z"
   },
   {
    "duration": 39,
    "start_time": "2021-12-26T07:39:37.096Z"
   },
   {
    "duration": 12,
    "start_time": "2021-12-26T07:39:37.137Z"
   },
   {
    "duration": 7,
    "start_time": "2021-12-26T07:39:37.153Z"
   },
   {
    "duration": 44,
    "start_time": "2021-12-26T07:39:37.162Z"
   },
   {
    "duration": 625,
    "start_time": "2021-12-26T07:39:37.207Z"
   },
   {
    "duration": 5,
    "start_time": "2021-12-26T07:39:37.833Z"
   },
   {
    "duration": 8,
    "start_time": "2021-12-26T07:39:37.840Z"
   },
   {
    "duration": 22,
    "start_time": "2021-12-26T07:39:37.849Z"
   },
   {
    "duration": 34,
    "start_time": "2021-12-26T07:39:37.873Z"
   },
   {
    "duration": 27,
    "start_time": "2021-12-26T07:39:37.909Z"
   },
   {
    "duration": 1138,
    "start_time": "2021-12-26T07:39:37.938Z"
   },
   {
    "duration": 295,
    "start_time": "2021-12-26T07:39:39.078Z"
   },
   {
    "duration": 434,
    "start_time": "2021-12-26T07:39:39.375Z"
   },
   {
    "duration": 8,
    "start_time": "2021-12-26T07:39:39.811Z"
   },
   {
    "duration": 4,
    "start_time": "2021-12-26T07:39:39.821Z"
   },
   {
    "duration": 5,
    "start_time": "2021-12-26T07:39:39.826Z"
   },
   {
    "duration": 8,
    "start_time": "2021-12-26T07:39:39.833Z"
   },
   {
    "duration": 13,
    "start_time": "2021-12-26T07:39:39.842Z"
   },
   {
    "duration": 37,
    "start_time": "2021-12-26T07:39:39.857Z"
   },
   {
    "duration": 4,
    "start_time": "2021-12-26T07:39:39.896Z"
   },
   {
    "duration": 141,
    "start_time": "2021-12-26T07:39:39.901Z"
   },
   {
    "duration": 11,
    "start_time": "2021-12-26T07:39:40.043Z"
   },
   {
    "duration": 158,
    "start_time": "2021-12-26T07:39:40.056Z"
   },
   {
    "duration": 13,
    "start_time": "2021-12-26T07:39:40.216Z"
   },
   {
    "duration": 145,
    "start_time": "2021-12-26T07:39:40.230Z"
   },
   {
    "duration": 19,
    "start_time": "2021-12-26T07:39:40.377Z"
   },
   {
    "duration": 130,
    "start_time": "2021-12-26T07:39:40.397Z"
   },
   {
    "duration": 230,
    "start_time": "2021-12-26T07:39:40.529Z"
   },
   {
    "duration": 219,
    "start_time": "2021-12-26T07:39:40.760Z"
   },
   {
    "duration": 521,
    "start_time": "2021-12-26T07:39:40.980Z"
   },
   {
    "duration": 179,
    "start_time": "2021-12-26T07:39:41.503Z"
   },
   {
    "duration": 194,
    "start_time": "2021-12-26T07:39:41.684Z"
   },
   {
    "duration": 216,
    "start_time": "2021-12-26T07:39:41.880Z"
   },
   {
    "duration": 309,
    "start_time": "2021-12-26T07:39:42.098Z"
   },
   {
    "duration": 23,
    "start_time": "2021-12-26T07:39:42.409Z"
   },
   {
    "duration": 6,
    "start_time": "2021-12-26T07:39:42.434Z"
   },
   {
    "duration": 9,
    "start_time": "2021-12-26T07:39:42.442Z"
   },
   {
    "duration": 54,
    "start_time": "2021-12-26T07:39:42.453Z"
   },
   {
    "duration": 205,
    "start_time": "2021-12-26T07:39:42.509Z"
   },
   {
    "duration": 27,
    "start_time": "2021-12-26T07:39:42.716Z"
   },
   {
    "duration": 210,
    "start_time": "2021-12-26T07:39:42.745Z"
   },
   {
    "duration": 181,
    "start_time": "2021-12-26T07:39:42.956Z"
   },
   {
    "duration": 219,
    "start_time": "2021-12-26T07:39:43.139Z"
   },
   {
    "duration": 191,
    "start_time": "2021-12-26T07:39:43.359Z"
   },
   {
    "duration": 261,
    "start_time": "2021-12-26T07:39:43.551Z"
   },
   {
    "duration": 629,
    "start_time": "2021-12-26T07:40:46.229Z"
   },
   {
    "duration": 228,
    "start_time": "2021-12-26T07:40:46.860Z"
   },
   {
    "duration": 20,
    "start_time": "2021-12-26T07:40:47.090Z"
   },
   {
    "duration": 107,
    "start_time": "2021-12-26T07:40:47.112Z"
   },
   {
    "duration": 21,
    "start_time": "2021-12-26T07:40:47.221Z"
   },
   {
    "duration": 51,
    "start_time": "2021-12-26T07:40:47.243Z"
   },
   {
    "duration": 4,
    "start_time": "2021-12-26T07:40:47.295Z"
   },
   {
    "duration": 4,
    "start_time": "2021-12-26T07:40:47.301Z"
   },
   {
    "duration": 6,
    "start_time": "2021-12-26T07:40:47.307Z"
   },
   {
    "duration": 10,
    "start_time": "2021-12-26T07:40:47.314Z"
   },
   {
    "duration": 6,
    "start_time": "2021-12-26T07:40:47.326Z"
   },
   {
    "duration": 12,
    "start_time": "2021-12-26T07:40:47.333Z"
   },
   {
    "duration": 8,
    "start_time": "2021-12-26T07:40:47.346Z"
   },
   {
    "duration": 49,
    "start_time": "2021-12-26T07:40:47.355Z"
   },
   {
    "duration": 291,
    "start_time": "2021-12-26T07:40:47.405Z"
   },
   {
    "duration": 17,
    "start_time": "2021-12-26T07:40:47.699Z"
   },
   {
    "duration": 7,
    "start_time": "2021-12-26T07:40:47.717Z"
   },
   {
    "duration": 11,
    "start_time": "2021-12-26T07:40:47.726Z"
   },
   {
    "duration": 5,
    "start_time": "2021-12-26T07:40:47.739Z"
   },
   {
    "duration": 59,
    "start_time": "2021-12-26T07:40:47.746Z"
   },
   {
    "duration": 42,
    "start_time": "2021-12-26T07:40:47.807Z"
   },
   {
    "duration": 12,
    "start_time": "2021-12-26T07:40:47.851Z"
   },
   {
    "duration": 29,
    "start_time": "2021-12-26T07:40:47.868Z"
   },
   {
    "duration": 24,
    "start_time": "2021-12-26T07:40:47.900Z"
   },
   {
    "duration": 620,
    "start_time": "2021-12-26T07:40:47.926Z"
   },
   {
    "duration": 5,
    "start_time": "2021-12-26T07:40:48.548Z"
   },
   {
    "duration": 7,
    "start_time": "2021-12-26T07:40:48.554Z"
   },
   {
    "duration": 34,
    "start_time": "2021-12-26T07:40:48.563Z"
   },
   {
    "duration": 24,
    "start_time": "2021-12-26T07:40:48.598Z"
   },
   {
    "duration": 28,
    "start_time": "2021-12-26T07:40:48.623Z"
   },
   {
    "duration": 1148,
    "start_time": "2021-12-26T07:40:48.652Z"
   },
   {
    "duration": 310,
    "start_time": "2021-12-26T07:40:49.802Z"
   },
   {
    "duration": 466,
    "start_time": "2021-12-26T07:40:50.114Z"
   },
   {
    "duration": 16,
    "start_time": "2021-12-26T07:40:50.582Z"
   },
   {
    "duration": 5,
    "start_time": "2021-12-26T07:40:50.600Z"
   },
   {
    "duration": 9,
    "start_time": "2021-12-26T07:40:50.607Z"
   },
   {
    "duration": 12,
    "start_time": "2021-12-26T07:40:50.618Z"
   },
   {
    "duration": 16,
    "start_time": "2021-12-26T07:40:50.632Z"
   },
   {
    "duration": 5,
    "start_time": "2021-12-26T07:40:50.650Z"
   },
   {
    "duration": 38,
    "start_time": "2021-12-26T07:40:50.656Z"
   },
   {
    "duration": 148,
    "start_time": "2021-12-26T07:40:50.696Z"
   },
   {
    "duration": 10,
    "start_time": "2021-12-26T07:40:50.846Z"
   },
   {
    "duration": 161,
    "start_time": "2021-12-26T07:40:50.858Z"
   },
   {
    "duration": 12,
    "start_time": "2021-12-26T07:40:51.021Z"
   },
   {
    "duration": 157,
    "start_time": "2021-12-26T07:40:51.034Z"
   },
   {
    "duration": 9,
    "start_time": "2021-12-26T07:40:51.193Z"
   },
   {
    "duration": 143,
    "start_time": "2021-12-26T07:40:51.203Z"
   },
   {
    "duration": 243,
    "start_time": "2021-12-26T07:40:51.348Z"
   },
   {
    "duration": 233,
    "start_time": "2021-12-26T07:40:51.593Z"
   },
   {
    "duration": 585,
    "start_time": "2021-12-26T07:40:51.828Z"
   },
   {
    "duration": 199,
    "start_time": "2021-12-26T07:40:52.415Z"
   },
   {
    "duration": 212,
    "start_time": "2021-12-26T07:40:52.616Z"
   },
   {
    "duration": 228,
    "start_time": "2021-12-26T07:40:52.830Z"
   },
   {
    "duration": 317,
    "start_time": "2021-12-26T07:40:53.060Z"
   },
   {
    "duration": 31,
    "start_time": "2021-12-26T07:40:53.380Z"
   },
   {
    "duration": 6,
    "start_time": "2021-12-26T07:40:53.413Z"
   },
   {
    "duration": 8,
    "start_time": "2021-12-26T07:40:53.421Z"
   },
   {
    "duration": 25,
    "start_time": "2021-12-26T07:40:53.431Z"
   },
   {
    "duration": 225,
    "start_time": "2021-12-26T07:40:53.458Z"
   },
   {
    "duration": 28,
    "start_time": "2021-12-26T07:40:53.685Z"
   },
   {
    "duration": 208,
    "start_time": "2021-12-26T07:40:53.714Z"
   },
   {
    "duration": 186,
    "start_time": "2021-12-26T07:40:53.924Z"
   },
   {
    "duration": 217,
    "start_time": "2021-12-26T07:40:54.112Z"
   },
   {
    "duration": 189,
    "start_time": "2021-12-26T07:40:54.330Z"
   },
   {
    "duration": 293,
    "start_time": "2021-12-26T07:40:54.521Z"
   },
   {
    "duration": 136,
    "start_time": "2021-12-26T07:41:41.035Z"
   },
   {
    "duration": 182,
    "start_time": "2021-12-26T07:42:58.744Z"
   },
   {
    "duration": 166,
    "start_time": "2021-12-26T07:43:08.372Z"
   },
   {
    "duration": 191,
    "start_time": "2021-12-26T07:43:22.721Z"
   },
   {
    "duration": 257,
    "start_time": "2021-12-26T07:44:04.782Z"
   },
   {
    "duration": 138,
    "start_time": "2021-12-26T07:45:34.763Z"
   },
   {
    "duration": 51,
    "start_time": "2021-12-26T07:53:39.709Z"
   },
   {
    "duration": 10,
    "start_time": "2021-12-26T07:54:00.048Z"
   },
   {
    "duration": 1990,
    "start_time": "2021-12-26T07:55:13.376Z"
   },
   {
    "duration": 9,
    "start_time": "2021-12-26T07:55:43.836Z"
   },
   {
    "duration": 11,
    "start_time": "2021-12-26T07:56:03.156Z"
   },
   {
    "duration": 10,
    "start_time": "2021-12-26T07:56:08.060Z"
   },
   {
    "duration": 159,
    "start_time": "2021-12-26T07:57:18.080Z"
   },
   {
    "duration": 11,
    "start_time": "2021-12-26T07:57:43.429Z"
   },
   {
    "duration": 11,
    "start_time": "2021-12-26T07:58:27.431Z"
   },
   {
    "duration": 618,
    "start_time": "2021-12-26T07:59:07.937Z"
   },
   {
    "duration": 226,
    "start_time": "2021-12-26T07:59:08.557Z"
   },
   {
    "duration": 23,
    "start_time": "2021-12-26T07:59:08.785Z"
   },
   {
    "duration": 110,
    "start_time": "2021-12-26T07:59:08.810Z"
   },
   {
    "duration": 21,
    "start_time": "2021-12-26T07:59:08.921Z"
   },
   {
    "duration": 47,
    "start_time": "2021-12-26T07:59:08.944Z"
   },
   {
    "duration": 4,
    "start_time": "2021-12-26T07:59:08.993Z"
   },
   {
    "duration": 4,
    "start_time": "2021-12-26T07:59:09.000Z"
   },
   {
    "duration": 6,
    "start_time": "2021-12-26T07:59:09.006Z"
   },
   {
    "duration": 9,
    "start_time": "2021-12-26T07:59:09.014Z"
   },
   {
    "duration": 5,
    "start_time": "2021-12-26T07:59:09.025Z"
   },
   {
    "duration": 11,
    "start_time": "2021-12-26T07:59:09.032Z"
   },
   {
    "duration": 7,
    "start_time": "2021-12-26T07:59:09.045Z"
   },
   {
    "duration": 54,
    "start_time": "2021-12-26T07:59:09.054Z"
   },
   {
    "duration": 299,
    "start_time": "2021-12-26T07:59:09.110Z"
   },
   {
    "duration": 17,
    "start_time": "2021-12-26T07:59:09.411Z"
   },
   {
    "duration": 5,
    "start_time": "2021-12-26T07:59:09.430Z"
   },
   {
    "duration": 14,
    "start_time": "2021-12-26T07:59:09.436Z"
   },
   {
    "duration": 3,
    "start_time": "2021-12-26T07:59:09.452Z"
   },
   {
    "duration": 54,
    "start_time": "2021-12-26T07:59:09.457Z"
   },
   {
    "duration": 43,
    "start_time": "2021-12-26T07:59:09.512Z"
   },
   {
    "duration": 11,
    "start_time": "2021-12-26T07:59:09.557Z"
   },
   {
    "duration": 21,
    "start_time": "2021-12-26T07:59:09.572Z"
   },
   {
    "duration": 28,
    "start_time": "2021-12-26T07:59:09.595Z"
   },
   {
    "duration": 662,
    "start_time": "2021-12-26T07:59:09.624Z"
   },
   {
    "duration": 4,
    "start_time": "2021-12-26T07:59:10.288Z"
   },
   {
    "duration": 6,
    "start_time": "2021-12-26T07:59:10.294Z"
   },
   {
    "duration": 22,
    "start_time": "2021-12-26T07:59:10.301Z"
   },
   {
    "duration": 23,
    "start_time": "2021-12-26T07:59:10.325Z"
   },
   {
    "duration": 52,
    "start_time": "2021-12-26T07:59:10.350Z"
   },
   {
    "duration": 1158,
    "start_time": "2021-12-26T07:59:10.403Z"
   },
   {
    "duration": 302,
    "start_time": "2021-12-26T07:59:11.563Z"
   },
   {
    "duration": 438,
    "start_time": "2021-12-26T07:59:11.867Z"
   },
   {
    "duration": 7,
    "start_time": "2021-12-26T07:59:12.307Z"
   },
   {
    "duration": 15,
    "start_time": "2021-12-26T07:59:12.316Z"
   },
   {
    "duration": 12,
    "start_time": "2021-12-26T07:59:12.333Z"
   },
   {
    "duration": 28,
    "start_time": "2021-12-26T07:59:12.347Z"
   },
   {
    "duration": 14,
    "start_time": "2021-12-26T07:59:12.377Z"
   },
   {
    "duration": 10,
    "start_time": "2021-12-26T07:59:12.393Z"
   },
   {
    "duration": 137,
    "start_time": "2021-12-26T07:59:12.404Z"
   },
   {
    "duration": 10,
    "start_time": "2021-12-26T07:59:12.543Z"
   },
   {
    "duration": 161,
    "start_time": "2021-12-26T07:59:12.555Z"
   },
   {
    "duration": 12,
    "start_time": "2021-12-26T07:59:12.717Z"
   },
   {
    "duration": 166,
    "start_time": "2021-12-26T07:59:12.730Z"
   },
   {
    "duration": 10,
    "start_time": "2021-12-26T07:59:12.897Z"
   },
   {
    "duration": 162,
    "start_time": "2021-12-26T07:59:12.908Z"
   },
   {
    "duration": 9,
    "start_time": "2021-12-26T07:59:13.072Z"
   },
   {
    "duration": 10,
    "start_time": "2021-12-26T07:59:13.090Z"
   },
   {
    "duration": 11,
    "start_time": "2021-12-26T07:59:13.102Z"
   },
   {
    "duration": 259,
    "start_time": "2021-12-26T07:59:13.115Z"
   },
   {
    "duration": 236,
    "start_time": "2021-12-26T07:59:13.376Z"
   },
   {
    "duration": 600,
    "start_time": "2021-12-26T07:59:13.614Z"
   },
   {
    "duration": 210,
    "start_time": "2021-12-26T07:59:14.216Z"
   },
   {
    "duration": 209,
    "start_time": "2021-12-26T07:59:14.428Z"
   },
   {
    "duration": 231,
    "start_time": "2021-12-26T07:59:14.640Z"
   },
   {
    "duration": 321,
    "start_time": "2021-12-26T07:59:14.872Z"
   },
   {
    "duration": 25,
    "start_time": "2021-12-26T07:59:15.195Z"
   },
   {
    "duration": 6,
    "start_time": "2021-12-26T07:59:15.222Z"
   },
   {
    "duration": 9,
    "start_time": "2021-12-26T07:59:15.230Z"
   },
   {
    "duration": 29,
    "start_time": "2021-12-26T07:59:15.240Z"
   },
   {
    "duration": 216,
    "start_time": "2021-12-26T07:59:15.291Z"
   },
   {
    "duration": 25,
    "start_time": "2021-12-26T07:59:15.508Z"
   },
   {
    "duration": 217,
    "start_time": "2021-12-26T07:59:15.535Z"
   },
   {
    "duration": 194,
    "start_time": "2021-12-26T07:59:15.753Z"
   },
   {
    "duration": 229,
    "start_time": "2021-12-26T07:59:15.949Z"
   },
   {
    "duration": 196,
    "start_time": "2021-12-26T07:59:16.180Z"
   },
   {
    "duration": 275,
    "start_time": "2021-12-26T07:59:16.378Z"
   },
   {
    "duration": 263,
    "start_time": "2021-12-26T08:00:20.819Z"
   },
   {
    "duration": 13,
    "start_time": "2021-12-26T08:00:46.812Z"
   },
   {
    "duration": 12,
    "start_time": "2021-12-26T08:02:58.502Z"
   },
   {
    "duration": 12,
    "start_time": "2021-12-26T08:03:08.306Z"
   },
   {
    "duration": 9,
    "start_time": "2021-12-26T08:03:39.940Z"
   },
   {
    "duration": 12,
    "start_time": "2021-12-26T08:03:42.813Z"
   },
   {
    "duration": 12,
    "start_time": "2021-12-26T08:03:45.441Z"
   },
   {
    "duration": 15,
    "start_time": "2021-12-26T08:04:18.320Z"
   },
   {
    "duration": 21,
    "start_time": "2021-12-26T08:04:43.326Z"
   },
   {
    "duration": 13,
    "start_time": "2021-12-26T08:06:25.733Z"
   },
   {
    "duration": 21,
    "start_time": "2021-12-26T08:06:38.960Z"
   },
   {
    "duration": 11,
    "start_time": "2021-12-26T08:07:07.157Z"
   },
   {
    "duration": 10,
    "start_time": "2021-12-26T08:07:11.574Z"
   },
   {
    "duration": 19,
    "start_time": "2021-12-26T08:07:24.172Z"
   },
   {
    "duration": 143,
    "start_time": "2021-12-26T08:07:42.596Z"
   },
   {
    "duration": 660,
    "start_time": "2021-12-26T08:08:17.009Z"
   },
   {
    "duration": 240,
    "start_time": "2021-12-26T08:08:17.671Z"
   },
   {
    "duration": 20,
    "start_time": "2021-12-26T08:08:17.913Z"
   },
   {
    "duration": 119,
    "start_time": "2021-12-26T08:08:17.935Z"
   },
   {
    "duration": 24,
    "start_time": "2021-12-26T08:08:18.056Z"
   },
   {
    "duration": 47,
    "start_time": "2021-12-26T08:08:18.092Z"
   },
   {
    "duration": 4,
    "start_time": "2021-12-26T08:08:18.141Z"
   },
   {
    "duration": 5,
    "start_time": "2021-12-26T08:08:18.148Z"
   },
   {
    "duration": 8,
    "start_time": "2021-12-26T08:08:18.155Z"
   },
   {
    "duration": 34,
    "start_time": "2021-12-26T08:08:18.165Z"
   },
   {
    "duration": 7,
    "start_time": "2021-12-26T08:08:18.201Z"
   },
   {
    "duration": 13,
    "start_time": "2021-12-26T08:08:18.209Z"
   },
   {
    "duration": 10,
    "start_time": "2021-12-26T08:08:18.224Z"
   },
   {
    "duration": 21,
    "start_time": "2021-12-26T08:08:18.236Z"
   },
   {
    "duration": 1077,
    "start_time": "2021-12-26T08:08:18.259Z"
   },
   {
    "duration": 15,
    "start_time": "2021-12-26T08:08:19.338Z"
   },
   {
    "duration": 5,
    "start_time": "2021-12-26T08:08:19.354Z"
   },
   {
    "duration": 13,
    "start_time": "2021-12-26T08:08:19.360Z"
   },
   {
    "duration": 21,
    "start_time": "2021-12-26T08:08:19.374Z"
   },
   {
    "duration": 25,
    "start_time": "2021-12-26T08:08:19.397Z"
   },
   {
    "duration": 39,
    "start_time": "2021-12-26T08:08:19.424Z"
   },
   {
    "duration": 32,
    "start_time": "2021-12-26T08:08:19.465Z"
   },
   {
    "duration": 8,
    "start_time": "2021-12-26T08:08:19.501Z"
   },
   {
    "duration": 26,
    "start_time": "2021-12-26T08:08:19.512Z"
   },
   {
    "duration": 639,
    "start_time": "2021-12-26T08:08:19.540Z"
   },
   {
    "duration": 5,
    "start_time": "2021-12-26T08:08:20.181Z"
   },
   {
    "duration": 5,
    "start_time": "2021-12-26T08:08:20.191Z"
   },
   {
    "duration": 25,
    "start_time": "2021-12-26T08:08:20.198Z"
   },
   {
    "duration": 25,
    "start_time": "2021-12-26T08:08:20.224Z"
   },
   {
    "duration": 51,
    "start_time": "2021-12-26T08:08:20.251Z"
   },
   {
    "duration": 1212,
    "start_time": "2021-12-26T08:08:20.303Z"
   },
   {
    "duration": 315,
    "start_time": "2021-12-26T08:08:21.517Z"
   },
   {
    "duration": 431,
    "start_time": "2021-12-26T08:08:21.834Z"
   },
   {
    "duration": 8,
    "start_time": "2021-12-26T08:08:22.267Z"
   },
   {
    "duration": 16,
    "start_time": "2021-12-26T08:08:22.277Z"
   },
   {
    "duration": 5,
    "start_time": "2021-12-26T08:08:22.295Z"
   },
   {
    "duration": 10,
    "start_time": "2021-12-26T08:08:22.302Z"
   },
   {
    "duration": 14,
    "start_time": "2021-12-26T08:08:22.313Z"
   },
   {
    "duration": 4,
    "start_time": "2021-12-26T08:08:22.329Z"
   },
   {
    "duration": 164,
    "start_time": "2021-12-26T08:08:22.335Z"
   },
   {
    "duration": 12,
    "start_time": "2021-12-26T08:08:22.501Z"
   },
   {
    "duration": 172,
    "start_time": "2021-12-26T08:08:22.514Z"
   },
   {
    "duration": 14,
    "start_time": "2021-12-26T08:08:22.691Z"
   },
   {
    "duration": 167,
    "start_time": "2021-12-26T08:08:22.707Z"
   },
   {
    "duration": 21,
    "start_time": "2021-12-26T08:08:22.876Z"
   },
   {
    "duration": 149,
    "start_time": "2021-12-26T08:08:22.899Z"
   },
   {
    "duration": 11,
    "start_time": "2021-12-26T08:08:23.050Z"
   },
   {
    "duration": 31,
    "start_time": "2021-12-26T08:08:23.062Z"
   },
   {
    "duration": 11,
    "start_time": "2021-12-26T08:08:23.095Z"
   },
   {
    "duration": 257,
    "start_time": "2021-12-26T08:08:23.108Z"
   },
   {
    "duration": 241,
    "start_time": "2021-12-26T08:08:23.366Z"
   },
   {
    "duration": 628,
    "start_time": "2021-12-26T08:08:23.609Z"
   },
   {
    "duration": 198,
    "start_time": "2021-12-26T08:08:24.239Z"
   },
   {
    "duration": 203,
    "start_time": "2021-12-26T08:08:24.439Z"
   },
   {
    "duration": 225,
    "start_time": "2021-12-26T08:08:24.644Z"
   },
   {
    "duration": 314,
    "start_time": "2021-12-26T08:08:24.871Z"
   },
   {
    "duration": 25,
    "start_time": "2021-12-26T08:08:25.187Z"
   },
   {
    "duration": 6,
    "start_time": "2021-12-26T08:08:25.213Z"
   },
   {
    "duration": 8,
    "start_time": "2021-12-26T08:08:25.221Z"
   },
   {
    "duration": 27,
    "start_time": "2021-12-26T08:08:25.230Z"
   },
   {
    "duration": 224,
    "start_time": "2021-12-26T08:08:25.259Z"
   },
   {
    "duration": 32,
    "start_time": "2021-12-26T08:08:25.484Z"
   },
   {
    "duration": 213,
    "start_time": "2021-12-26T08:08:25.518Z"
   },
   {
    "duration": 194,
    "start_time": "2021-12-26T08:08:25.734Z"
   },
   {
    "duration": 224,
    "start_time": "2021-12-26T08:08:25.930Z"
   },
   {
    "duration": 196,
    "start_time": "2021-12-26T08:08:26.156Z"
   },
   {
    "duration": 284,
    "start_time": "2021-12-26T08:08:26.354Z"
   },
   {
    "duration": 17,
    "start_time": "2021-12-26T08:14:03.052Z"
   },
   {
    "duration": 609,
    "start_time": "2021-12-26T08:14:11.449Z"
   },
   {
    "duration": 224,
    "start_time": "2021-12-26T08:14:12.060Z"
   },
   {
    "duration": 20,
    "start_time": "2021-12-26T08:14:12.286Z"
   },
   {
    "duration": 115,
    "start_time": "2021-12-26T08:14:12.308Z"
   },
   {
    "duration": 20,
    "start_time": "2021-12-26T08:14:12.424Z"
   },
   {
    "duration": 47,
    "start_time": "2021-12-26T08:14:12.445Z"
   },
   {
    "duration": 3,
    "start_time": "2021-12-26T08:14:12.494Z"
   },
   {
    "duration": 4,
    "start_time": "2021-12-26T08:14:12.499Z"
   },
   {
    "duration": 5,
    "start_time": "2021-12-26T08:14:12.505Z"
   },
   {
    "duration": 11,
    "start_time": "2021-12-26T08:14:12.512Z"
   },
   {
    "duration": 7,
    "start_time": "2021-12-26T08:14:12.524Z"
   },
   {
    "duration": 12,
    "start_time": "2021-12-26T08:14:12.532Z"
   },
   {
    "duration": 6,
    "start_time": "2021-12-26T08:14:12.546Z"
   },
   {
    "duration": 52,
    "start_time": "2021-12-26T08:14:12.554Z"
   },
   {
    "duration": 296,
    "start_time": "2021-12-26T08:14:12.608Z"
   },
   {
    "duration": 14,
    "start_time": "2021-12-26T08:14:12.906Z"
   },
   {
    "duration": 5,
    "start_time": "2021-12-26T08:14:12.922Z"
   },
   {
    "duration": 13,
    "start_time": "2021-12-26T08:14:12.928Z"
   },
   {
    "duration": 4,
    "start_time": "2021-12-26T08:14:12.942Z"
   },
   {
    "duration": 50,
    "start_time": "2021-12-26T08:14:12.948Z"
   },
   {
    "duration": 41,
    "start_time": "2021-12-26T08:14:13.000Z"
   },
   {
    "duration": 12,
    "start_time": "2021-12-26T08:14:13.042Z"
   },
   {
    "duration": 8,
    "start_time": "2021-12-26T08:14:13.058Z"
   },
   {
    "duration": 44,
    "start_time": "2021-12-26T08:14:13.069Z"
   },
   {
    "duration": 624,
    "start_time": "2021-12-26T08:14:13.115Z"
   },
   {
    "duration": 5,
    "start_time": "2021-12-26T08:14:13.741Z"
   },
   {
    "duration": 6,
    "start_time": "2021-12-26T08:14:13.747Z"
   },
   {
    "duration": 43,
    "start_time": "2021-12-26T08:14:13.755Z"
   },
   {
    "duration": 24,
    "start_time": "2021-12-26T08:14:13.800Z"
   },
   {
    "duration": 28,
    "start_time": "2021-12-26T08:14:13.826Z"
   },
   {
    "duration": 1225,
    "start_time": "2021-12-26T08:14:13.855Z"
   },
   {
    "duration": 320,
    "start_time": "2021-12-26T08:14:15.082Z"
   },
   {
    "duration": 471,
    "start_time": "2021-12-26T08:14:15.404Z"
   },
   {
    "duration": 16,
    "start_time": "2021-12-26T08:14:15.877Z"
   },
   {
    "duration": 5,
    "start_time": "2021-12-26T08:14:15.895Z"
   },
   {
    "duration": 5,
    "start_time": "2021-12-26T08:14:15.902Z"
   },
   {
    "duration": 8,
    "start_time": "2021-12-26T08:14:15.909Z"
   },
   {
    "duration": 14,
    "start_time": "2021-12-26T08:14:15.919Z"
   },
   {
    "duration": 5,
    "start_time": "2021-12-26T08:14:15.935Z"
   },
   {
    "duration": 170,
    "start_time": "2021-12-26T08:14:15.942Z"
   },
   {
    "duration": 12,
    "start_time": "2021-12-26T08:14:16.114Z"
   },
   {
    "duration": 167,
    "start_time": "2021-12-26T08:14:16.128Z"
   },
   {
    "duration": 15,
    "start_time": "2021-12-26T08:14:16.298Z"
   },
   {
    "duration": 157,
    "start_time": "2021-12-26T08:14:16.314Z"
   },
   {
    "duration": 28,
    "start_time": "2021-12-26T08:14:16.473Z"
   },
   {
    "duration": 160,
    "start_time": "2021-12-26T08:14:16.503Z"
   },
   {
    "duration": 11,
    "start_time": "2021-12-26T08:14:16.666Z"
   },
   {
    "duration": 20,
    "start_time": "2021-12-26T08:14:16.678Z"
   },
   {
    "duration": 12,
    "start_time": "2021-12-26T08:14:16.701Z"
   },
   {
    "duration": 257,
    "start_time": "2021-12-26T08:14:16.715Z"
   },
   {
    "duration": 240,
    "start_time": "2021-12-26T08:14:16.974Z"
   },
   {
    "duration": 607,
    "start_time": "2021-12-26T08:14:17.216Z"
   },
   {
    "duration": 197,
    "start_time": "2021-12-26T08:14:17.825Z"
   },
   {
    "duration": 204,
    "start_time": "2021-12-26T08:14:18.024Z"
   },
   {
    "duration": 242,
    "start_time": "2021-12-26T08:14:18.231Z"
   },
   {
    "duration": 322,
    "start_time": "2021-12-26T08:14:18.474Z"
   },
   {
    "duration": 23,
    "start_time": "2021-12-26T08:14:18.798Z"
   },
   {
    "duration": 7,
    "start_time": "2021-12-26T08:14:18.823Z"
   },
   {
    "duration": 8,
    "start_time": "2021-12-26T08:14:18.831Z"
   },
   {
    "duration": 60,
    "start_time": "2021-12-26T08:14:18.841Z"
   },
   {
    "duration": 207,
    "start_time": "2021-12-26T08:14:18.903Z"
   },
   {
    "duration": 25,
    "start_time": "2021-12-26T08:14:19.112Z"
   },
   {
    "duration": 217,
    "start_time": "2021-12-26T08:14:19.139Z"
   },
   {
    "duration": 202,
    "start_time": "2021-12-26T08:14:19.358Z"
   },
   {
    "duration": 236,
    "start_time": "2021-12-26T08:14:19.561Z"
   },
   {
    "duration": 205,
    "start_time": "2021-12-26T08:14:19.799Z"
   },
   {
    "duration": 294,
    "start_time": "2021-12-26T08:14:20.006Z"
   },
   {
    "duration": 430,
    "start_time": "2021-12-26T08:14:45.648Z"
   },
   {
    "duration": 149,
    "start_time": "2021-12-26T08:14:55.748Z"
   },
   {
    "duration": 157,
    "start_time": "2021-12-26T08:15:57.292Z"
   },
   {
    "duration": 643,
    "start_time": "2021-12-26T08:16:27.210Z"
   },
   {
    "duration": 228,
    "start_time": "2021-12-26T08:16:27.854Z"
   },
   {
    "duration": 22,
    "start_time": "2021-12-26T08:16:28.084Z"
   },
   {
    "duration": 109,
    "start_time": "2021-12-26T08:16:28.108Z"
   },
   {
    "duration": 21,
    "start_time": "2021-12-26T08:16:28.218Z"
   },
   {
    "duration": 51,
    "start_time": "2021-12-26T08:16:28.240Z"
   },
   {
    "duration": 4,
    "start_time": "2021-12-26T08:16:28.293Z"
   },
   {
    "duration": 3,
    "start_time": "2021-12-26T08:16:28.300Z"
   },
   {
    "duration": 8,
    "start_time": "2021-12-26T08:16:28.305Z"
   },
   {
    "duration": 9,
    "start_time": "2021-12-26T08:16:28.315Z"
   },
   {
    "duration": 5,
    "start_time": "2021-12-26T08:16:28.325Z"
   },
   {
    "duration": 12,
    "start_time": "2021-12-26T08:16:28.331Z"
   },
   {
    "duration": 6,
    "start_time": "2021-12-26T08:16:28.344Z"
   },
   {
    "duration": 56,
    "start_time": "2021-12-26T08:16:28.351Z"
   },
   {
    "duration": 301,
    "start_time": "2021-12-26T08:16:28.409Z"
   },
   {
    "duration": 15,
    "start_time": "2021-12-26T08:16:28.712Z"
   },
   {
    "duration": 5,
    "start_time": "2021-12-26T08:16:28.729Z"
   },
   {
    "duration": 11,
    "start_time": "2021-12-26T08:16:28.736Z"
   },
   {
    "duration": 4,
    "start_time": "2021-12-26T08:16:28.749Z"
   },
   {
    "duration": 51,
    "start_time": "2021-12-26T08:16:28.754Z"
   },
   {
    "duration": 41,
    "start_time": "2021-12-26T08:16:28.807Z"
   },
   {
    "duration": 12,
    "start_time": "2021-12-26T08:16:28.849Z"
   },
   {
    "duration": 8,
    "start_time": "2021-12-26T08:16:28.865Z"
   },
   {
    "duration": 25,
    "start_time": "2021-12-26T08:16:28.893Z"
   },
   {
    "duration": 627,
    "start_time": "2021-12-26T08:16:28.920Z"
   },
   {
    "duration": 5,
    "start_time": "2021-12-26T08:16:29.549Z"
   },
   {
    "duration": 6,
    "start_time": "2021-12-26T08:16:29.556Z"
   },
   {
    "duration": 38,
    "start_time": "2021-12-26T08:16:29.564Z"
   },
   {
    "duration": 24,
    "start_time": "2021-12-26T08:16:29.604Z"
   },
   {
    "duration": 28,
    "start_time": "2021-12-26T08:16:29.629Z"
   },
   {
    "duration": 1212,
    "start_time": "2021-12-26T08:16:29.658Z"
   },
   {
    "duration": 316,
    "start_time": "2021-12-26T08:16:30.872Z"
   },
   {
    "duration": 458,
    "start_time": "2021-12-26T08:16:31.192Z"
   },
   {
    "duration": 8,
    "start_time": "2021-12-26T08:16:31.651Z"
   },
   {
    "duration": 4,
    "start_time": "2021-12-26T08:16:31.660Z"
   },
   {
    "duration": 7,
    "start_time": "2021-12-26T08:16:31.665Z"
   },
   {
    "duration": 9,
    "start_time": "2021-12-26T08:16:31.692Z"
   },
   {
    "duration": 14,
    "start_time": "2021-12-26T08:16:31.702Z"
   },
   {
    "duration": 4,
    "start_time": "2021-12-26T08:16:31.718Z"
   },
   {
    "duration": 158,
    "start_time": "2021-12-26T08:16:31.724Z"
   },
   {
    "duration": 18,
    "start_time": "2021-12-26T08:16:31.883Z"
   },
   {
    "duration": 159,
    "start_time": "2021-12-26T08:16:31.903Z"
   },
   {
    "duration": 14,
    "start_time": "2021-12-26T08:16:32.064Z"
   },
   {
    "duration": 154,
    "start_time": "2021-12-26T08:16:32.079Z"
   },
   {
    "duration": 20,
    "start_time": "2021-12-26T08:16:32.235Z"
   },
   {
    "duration": 170,
    "start_time": "2021-12-26T08:16:32.257Z"
   },
   {
    "duration": 9,
    "start_time": "2021-12-26T08:16:32.429Z"
   },
   {
    "duration": 9,
    "start_time": "2021-12-26T08:16:32.440Z"
   },
   {
    "duration": 11,
    "start_time": "2021-12-26T08:16:32.451Z"
   },
   {
    "duration": 282,
    "start_time": "2021-12-26T08:16:32.464Z"
   },
   {
    "duration": 239,
    "start_time": "2021-12-26T08:16:32.748Z"
   },
   {
    "duration": 560,
    "start_time": "2021-12-26T08:16:32.988Z"
   },
   {
    "duration": 198,
    "start_time": "2021-12-26T08:16:33.550Z"
   },
   {
    "duration": 198,
    "start_time": "2021-12-26T08:16:33.750Z"
   },
   {
    "duration": 233,
    "start_time": "2021-12-26T08:16:33.949Z"
   },
   {
    "duration": 318,
    "start_time": "2021-12-26T08:16:34.184Z"
   },
   {
    "duration": 24,
    "start_time": "2021-12-26T08:16:34.504Z"
   },
   {
    "duration": 7,
    "start_time": "2021-12-26T08:16:34.529Z"
   },
   {
    "duration": 7,
    "start_time": "2021-12-26T08:16:34.538Z"
   },
   {
    "duration": 47,
    "start_time": "2021-12-26T08:16:34.547Z"
   },
   {
    "duration": 210,
    "start_time": "2021-12-26T08:16:34.596Z"
   },
   {
    "duration": 24,
    "start_time": "2021-12-26T08:16:34.808Z"
   },
   {
    "duration": 215,
    "start_time": "2021-12-26T08:16:34.834Z"
   },
   {
    "duration": 192,
    "start_time": "2021-12-26T08:16:35.051Z"
   },
   {
    "duration": 222,
    "start_time": "2021-12-26T08:16:35.244Z"
   },
   {
    "duration": 199,
    "start_time": "2021-12-26T08:16:35.467Z"
   },
   {
    "duration": 274,
    "start_time": "2021-12-26T08:16:35.668Z"
   },
   {
    "duration": 17,
    "start_time": "2021-12-26T08:17:38.540Z"
   },
   {
    "duration": 15,
    "start_time": "2021-12-26T08:18:09.843Z"
   },
   {
    "duration": 347,
    "start_time": "2021-12-26T11:56:52.158Z"
   },
   {
    "duration": 654,
    "start_time": "2021-12-26T11:57:01.436Z"
   },
   {
    "duration": 235,
    "start_time": "2021-12-26T11:57:02.092Z"
   },
   {
    "duration": 21,
    "start_time": "2021-12-26T11:57:02.330Z"
   },
   {
    "duration": 119,
    "start_time": "2021-12-26T11:57:02.354Z"
   },
   {
    "duration": 29,
    "start_time": "2021-12-26T11:57:02.475Z"
   },
   {
    "duration": 42,
    "start_time": "2021-12-26T11:57:02.506Z"
   },
   {
    "duration": 4,
    "start_time": "2021-12-26T11:57:02.550Z"
   },
   {
    "duration": 4,
    "start_time": "2021-12-26T11:57:02.556Z"
   },
   {
    "duration": 7,
    "start_time": "2021-12-26T11:57:02.562Z"
   },
   {
    "duration": 28,
    "start_time": "2021-12-26T11:57:02.571Z"
   },
   {
    "duration": 14,
    "start_time": "2021-12-26T11:57:02.600Z"
   },
   {
    "duration": 17,
    "start_time": "2021-12-26T11:57:02.615Z"
   },
   {
    "duration": 14,
    "start_time": "2021-12-26T11:57:02.633Z"
   },
   {
    "duration": 30,
    "start_time": "2021-12-26T11:57:02.648Z"
   },
   {
    "duration": 305,
    "start_time": "2021-12-26T11:57:02.680Z"
   },
   {
    "duration": 15,
    "start_time": "2021-12-26T11:57:02.987Z"
   },
   {
    "duration": 4,
    "start_time": "2021-12-26T11:57:03.004Z"
   },
   {
    "duration": 12,
    "start_time": "2021-12-26T11:57:03.010Z"
   },
   {
    "duration": 4,
    "start_time": "2021-12-26T11:57:03.023Z"
   },
   {
    "duration": 22,
    "start_time": "2021-12-26T11:57:03.029Z"
   },
   {
    "duration": 68,
    "start_time": "2021-12-26T11:57:03.052Z"
   },
   {
    "duration": 12,
    "start_time": "2021-12-26T11:57:03.121Z"
   },
   {
    "duration": 9,
    "start_time": "2021-12-26T11:57:03.136Z"
   },
   {
    "duration": 23,
    "start_time": "2021-12-26T11:57:03.148Z"
   },
   {
    "duration": 605,
    "start_time": "2021-12-26T11:57:03.192Z"
   },
   {
    "duration": 4,
    "start_time": "2021-12-26T11:57:03.799Z"
   },
   {
    "duration": 5,
    "start_time": "2021-12-26T11:57:03.805Z"
   },
   {
    "duration": 23,
    "start_time": "2021-12-26T11:57:03.812Z"
   },
   {
    "duration": 22,
    "start_time": "2021-12-26T11:57:03.837Z"
   },
   {
    "duration": 51,
    "start_time": "2021-12-26T11:57:03.860Z"
   },
   {
    "duration": 1152,
    "start_time": "2021-12-26T11:57:03.913Z"
   },
   {
    "duration": 299,
    "start_time": "2021-12-26T11:57:05.067Z"
   },
   {
    "duration": 435,
    "start_time": "2021-12-26T11:57:05.368Z"
   },
   {
    "duration": 8,
    "start_time": "2021-12-26T11:57:05.805Z"
   },
   {
    "duration": 4,
    "start_time": "2021-12-26T11:57:05.815Z"
   },
   {
    "duration": 6,
    "start_time": "2021-12-26T11:57:05.820Z"
   },
   {
    "duration": 9,
    "start_time": "2021-12-26T11:57:05.827Z"
   },
   {
    "duration": 14,
    "start_time": "2021-12-26T11:57:05.838Z"
   },
   {
    "duration": 38,
    "start_time": "2021-12-26T11:57:05.854Z"
   },
   {
    "duration": 135,
    "start_time": "2021-12-26T11:57:05.894Z"
   },
   {
    "duration": 10,
    "start_time": "2021-12-26T11:57:06.030Z"
   },
   {
    "duration": 153,
    "start_time": "2021-12-26T11:57:06.042Z"
   },
   {
    "duration": 13,
    "start_time": "2021-12-26T11:57:06.196Z"
   },
   {
    "duration": 151,
    "start_time": "2021-12-26T11:57:06.211Z"
   },
   {
    "duration": 10,
    "start_time": "2021-12-26T11:57:06.364Z"
   },
   {
    "duration": 156,
    "start_time": "2021-12-26T11:57:06.375Z"
   },
   {
    "duration": 18,
    "start_time": "2021-12-26T11:57:06.533Z"
   },
   {
    "duration": 9,
    "start_time": "2021-12-26T11:57:06.553Z"
   },
   {
    "duration": 31,
    "start_time": "2021-12-26T11:57:06.563Z"
   },
   {
    "duration": 252,
    "start_time": "2021-12-26T11:57:06.596Z"
   },
   {
    "duration": 233,
    "start_time": "2021-12-26T11:57:06.850Z"
   },
   {
    "duration": 592,
    "start_time": "2021-12-26T11:57:07.085Z"
   },
   {
    "duration": 195,
    "start_time": "2021-12-26T11:57:07.678Z"
   },
   {
    "duration": 197,
    "start_time": "2021-12-26T11:57:07.874Z"
   },
   {
    "duration": 226,
    "start_time": "2021-12-26T11:57:08.073Z"
   },
   {
    "duration": 304,
    "start_time": "2021-12-26T11:57:08.300Z"
   },
   {
    "duration": 23,
    "start_time": "2021-12-26T11:57:08.606Z"
   },
   {
    "duration": 6,
    "start_time": "2021-12-26T11:57:08.631Z"
   },
   {
    "duration": 9,
    "start_time": "2021-12-26T11:57:08.639Z"
   },
   {
    "duration": 55,
    "start_time": "2021-12-26T11:57:08.650Z"
   },
   {
    "duration": 189,
    "start_time": "2021-12-26T11:57:08.707Z"
   },
   {
    "duration": 24,
    "start_time": "2021-12-26T11:57:08.897Z"
   },
   {
    "duration": 210,
    "start_time": "2021-12-26T11:57:08.923Z"
   },
   {
    "duration": 189,
    "start_time": "2021-12-26T11:57:09.135Z"
   },
   {
    "duration": 227,
    "start_time": "2021-12-26T11:57:09.325Z"
   },
   {
    "duration": 198,
    "start_time": "2021-12-26T11:57:09.554Z"
   },
   {
    "duration": 279,
    "start_time": "2021-12-26T11:57:09.754Z"
   },
   {
    "duration": 10,
    "start_time": "2021-12-26T11:58:27.440Z"
   },
   {
    "duration": 10,
    "start_time": "2021-12-26T11:59:08.349Z"
   },
   {
    "duration": 691,
    "start_time": "2021-12-26T11:59:20.206Z"
   },
   {
    "duration": 225,
    "start_time": "2021-12-26T11:59:20.899Z"
   },
   {
    "duration": 21,
    "start_time": "2021-12-26T11:59:21.126Z"
   },
   {
    "duration": 112,
    "start_time": "2021-12-26T11:59:21.148Z"
   },
   {
    "duration": 29,
    "start_time": "2021-12-26T11:59:21.262Z"
   },
   {
    "duration": 35,
    "start_time": "2021-12-26T11:59:21.293Z"
   },
   {
    "duration": 3,
    "start_time": "2021-12-26T11:59:21.329Z"
   },
   {
    "duration": 5,
    "start_time": "2021-12-26T11:59:21.334Z"
   },
   {
    "duration": 7,
    "start_time": "2021-12-26T11:59:21.340Z"
   },
   {
    "duration": 9,
    "start_time": "2021-12-26T11:59:21.349Z"
   },
   {
    "duration": 34,
    "start_time": "2021-12-26T11:59:21.360Z"
   },
   {
    "duration": 12,
    "start_time": "2021-12-26T11:59:21.395Z"
   },
   {
    "duration": 7,
    "start_time": "2021-12-26T11:59:21.409Z"
   },
   {
    "duration": 20,
    "start_time": "2021-12-26T11:59:21.417Z"
   },
   {
    "duration": 312,
    "start_time": "2021-12-26T11:59:21.438Z"
   },
   {
    "duration": 14,
    "start_time": "2021-12-26T11:59:21.752Z"
   },
   {
    "duration": 4,
    "start_time": "2021-12-26T11:59:21.768Z"
   },
   {
    "duration": 24,
    "start_time": "2021-12-26T11:59:21.774Z"
   },
   {
    "duration": 3,
    "start_time": "2021-12-26T11:59:21.800Z"
   },
   {
    "duration": 23,
    "start_time": "2021-12-26T11:59:21.805Z"
   },
   {
    "duration": 65,
    "start_time": "2021-12-26T11:59:21.829Z"
   },
   {
    "duration": 12,
    "start_time": "2021-12-26T11:59:21.895Z"
   },
   {
    "duration": 8,
    "start_time": "2021-12-26T11:59:21.910Z"
   },
   {
    "duration": 28,
    "start_time": "2021-12-26T11:59:21.920Z"
   },
   {
    "duration": 611,
    "start_time": "2021-12-26T11:59:21.949Z"
   },
   {
    "duration": 5,
    "start_time": "2021-12-26T11:59:22.562Z"
   },
   {
    "duration": 9,
    "start_time": "2021-12-26T11:59:22.568Z"
   },
   {
    "duration": 37,
    "start_time": "2021-12-26T11:59:22.579Z"
   },
   {
    "duration": 36,
    "start_time": "2021-12-26T11:59:22.618Z"
   },
   {
    "duration": 41,
    "start_time": "2021-12-26T11:59:22.656Z"
   },
   {
    "duration": 1177,
    "start_time": "2021-12-26T11:59:22.699Z"
   },
   {
    "duration": 297,
    "start_time": "2021-12-26T11:59:23.878Z"
   },
   {
    "duration": 439,
    "start_time": "2021-12-26T11:59:24.177Z"
   },
   {
    "duration": 9,
    "start_time": "2021-12-26T11:59:24.618Z"
   },
   {
    "duration": 5,
    "start_time": "2021-12-26T11:59:24.629Z"
   },
   {
    "duration": 6,
    "start_time": "2021-12-26T11:59:24.635Z"
   },
   {
    "duration": 10,
    "start_time": "2021-12-26T11:59:24.642Z"
   },
   {
    "duration": 47,
    "start_time": "2021-12-26T11:59:24.653Z"
   },
   {
    "duration": 6,
    "start_time": "2021-12-26T11:59:24.702Z"
   },
   {
    "duration": 151,
    "start_time": "2021-12-26T11:59:24.709Z"
   },
   {
    "duration": 10,
    "start_time": "2021-12-26T11:59:24.862Z"
   },
   {
    "duration": 160,
    "start_time": "2021-12-26T11:59:24.874Z"
   },
   {
    "duration": 12,
    "start_time": "2021-12-26T11:59:25.036Z"
   },
   {
    "duration": 150,
    "start_time": "2021-12-26T11:59:25.050Z"
   },
   {
    "duration": 8,
    "start_time": "2021-12-26T11:59:25.202Z"
   },
   {
    "duration": 154,
    "start_time": "2021-12-26T11:59:25.211Z"
   },
   {
    "duration": 26,
    "start_time": "2021-12-26T11:59:25.367Z"
   },
   {
    "duration": 9,
    "start_time": "2021-12-26T11:59:25.395Z"
   },
   {
    "duration": 11,
    "start_time": "2021-12-26T11:59:25.406Z"
   },
   {
    "duration": 253,
    "start_time": "2021-12-26T11:59:25.418Z"
   },
   {
    "duration": 235,
    "start_time": "2021-12-26T11:59:25.672Z"
   },
   {
    "duration": 584,
    "start_time": "2021-12-26T11:59:25.909Z"
   },
   {
    "duration": 184,
    "start_time": "2021-12-26T11:59:26.495Z"
   },
   {
    "duration": 194,
    "start_time": "2021-12-26T11:59:26.681Z"
   },
   {
    "duration": 222,
    "start_time": "2021-12-26T11:59:26.876Z"
   },
   {
    "duration": 310,
    "start_time": "2021-12-26T11:59:27.099Z"
   },
   {
    "duration": 22,
    "start_time": "2021-12-26T11:59:27.411Z"
   },
   {
    "duration": 6,
    "start_time": "2021-12-26T11:59:27.435Z"
   },
   {
    "duration": 21,
    "start_time": "2021-12-26T11:59:27.443Z"
   },
   {
    "duration": 47,
    "start_time": "2021-12-26T11:59:27.465Z"
   },
   {
    "duration": 205,
    "start_time": "2021-12-26T11:59:27.513Z"
   },
   {
    "duration": 24,
    "start_time": "2021-12-26T11:59:27.720Z"
   },
   {
    "duration": 208,
    "start_time": "2021-12-26T11:59:27.745Z"
   },
   {
    "duration": 197,
    "start_time": "2021-12-26T11:59:27.955Z"
   },
   {
    "duration": 224,
    "start_time": "2021-12-26T11:59:28.153Z"
   },
   {
    "duration": 190,
    "start_time": "2021-12-26T11:59:28.379Z"
   },
   {
    "duration": 283,
    "start_time": "2021-12-26T11:59:28.571Z"
   },
   {
    "duration": 271,
    "start_time": "2021-12-26T12:02:13.058Z"
   },
   {
    "duration": 12,
    "start_time": "2021-12-26T12:02:20.616Z"
   },
   {
    "duration": 286,
    "start_time": "2021-12-26T12:02:27.036Z"
   },
   {
    "duration": 191,
    "start_time": "2021-12-26T12:02:47.940Z"
   },
   {
    "duration": 652,
    "start_time": "2021-12-26T12:03:02.499Z"
   },
   {
    "duration": 423,
    "start_time": "2021-12-26T12:03:03.153Z"
   },
   {
    "duration": 25,
    "start_time": "2021-12-26T12:03:03.577Z"
   },
   {
    "duration": 111,
    "start_time": "2021-12-26T12:03:03.603Z"
   },
   {
    "duration": 21,
    "start_time": "2021-12-26T12:03:03.716Z"
   },
   {
    "duration": 39,
    "start_time": "2021-12-26T12:03:03.738Z"
   },
   {
    "duration": 17,
    "start_time": "2021-12-26T12:03:03.778Z"
   },
   {
    "duration": 8,
    "start_time": "2021-12-26T12:03:03.798Z"
   },
   {
    "duration": 13,
    "start_time": "2021-12-26T12:03:03.809Z"
   },
   {
    "duration": 30,
    "start_time": "2021-12-26T12:03:03.824Z"
   },
   {
    "duration": 9,
    "start_time": "2021-12-26T12:03:03.856Z"
   },
   {
    "duration": 17,
    "start_time": "2021-12-26T12:03:03.866Z"
   },
   {
    "duration": 9,
    "start_time": "2021-12-26T12:03:03.884Z"
   },
   {
    "duration": 21,
    "start_time": "2021-12-26T12:03:03.894Z"
   },
   {
    "duration": 318,
    "start_time": "2021-12-26T12:03:03.917Z"
   },
   {
    "duration": 16,
    "start_time": "2021-12-26T12:03:04.237Z"
   },
   {
    "duration": 7,
    "start_time": "2021-12-26T12:03:04.254Z"
   },
   {
    "duration": 32,
    "start_time": "2021-12-26T12:03:04.262Z"
   },
   {
    "duration": 5,
    "start_time": "2021-12-26T12:03:04.295Z"
   },
   {
    "duration": 26,
    "start_time": "2021-12-26T12:03:04.301Z"
   },
   {
    "duration": 38,
    "start_time": "2021-12-26T12:03:04.329Z"
   },
   {
    "duration": 29,
    "start_time": "2021-12-26T12:03:04.368Z"
   },
   {
    "duration": 8,
    "start_time": "2021-12-26T12:03:04.400Z"
   },
   {
    "duration": 27,
    "start_time": "2021-12-26T12:03:04.410Z"
   },
   {
    "duration": 614,
    "start_time": "2021-12-26T12:03:04.438Z"
   },
   {
    "duration": 5,
    "start_time": "2021-12-26T12:03:05.053Z"
   },
   {
    "duration": 10,
    "start_time": "2021-12-26T12:03:05.060Z"
   },
   {
    "duration": 34,
    "start_time": "2021-12-26T12:03:05.072Z"
   },
   {
    "duration": 24,
    "start_time": "2021-12-26T12:03:05.108Z"
   },
   {
    "duration": 28,
    "start_time": "2021-12-26T12:03:05.134Z"
   },
   {
    "duration": 1137,
    "start_time": "2021-12-26T12:03:05.164Z"
   },
   {
    "duration": 293,
    "start_time": "2021-12-26T12:03:06.302Z"
   },
   {
    "duration": 428,
    "start_time": "2021-12-26T12:03:06.596Z"
   },
   {
    "duration": 7,
    "start_time": "2021-12-26T12:03:07.025Z"
   },
   {
    "duration": 4,
    "start_time": "2021-12-26T12:03:07.034Z"
   },
   {
    "duration": 7,
    "start_time": "2021-12-26T12:03:07.039Z"
   },
   {
    "duration": 11,
    "start_time": "2021-12-26T12:03:07.047Z"
   },
   {
    "duration": 39,
    "start_time": "2021-12-26T12:03:07.059Z"
   },
   {
    "duration": 4,
    "start_time": "2021-12-26T12:03:07.100Z"
   },
   {
    "duration": 139,
    "start_time": "2021-12-26T12:03:07.106Z"
   },
   {
    "duration": 10,
    "start_time": "2021-12-26T12:03:07.247Z"
   },
   {
    "duration": 157,
    "start_time": "2021-12-26T12:03:07.259Z"
   },
   {
    "duration": 12,
    "start_time": "2021-12-26T12:03:07.418Z"
   },
   {
    "duration": 150,
    "start_time": "2021-12-26T12:03:07.431Z"
   },
   {
    "duration": 16,
    "start_time": "2021-12-26T12:03:07.583Z"
   },
   {
    "duration": 162,
    "start_time": "2021-12-26T12:03:07.601Z"
   },
   {
    "duration": 34,
    "start_time": "2021-12-26T12:03:07.764Z"
   },
   {
    "duration": 9,
    "start_time": "2021-12-26T12:03:07.800Z"
   },
   {
    "duration": 11,
    "start_time": "2021-12-26T12:03:07.811Z"
   },
   {
    "duration": 250,
    "start_time": "2021-12-26T12:03:07.823Z"
   },
   {
    "duration": 242,
    "start_time": "2021-12-26T12:03:08.075Z"
   },
   {
    "duration": 591,
    "start_time": "2021-12-26T12:03:08.319Z"
   },
   {
    "duration": 190,
    "start_time": "2021-12-26T12:03:08.912Z"
   },
   {
    "duration": 198,
    "start_time": "2021-12-26T12:03:09.104Z"
   },
   {
    "duration": 239,
    "start_time": "2021-12-26T12:03:09.303Z"
   },
   {
    "duration": 311,
    "start_time": "2021-12-26T12:03:09.543Z"
   },
   {
    "duration": 25,
    "start_time": "2021-12-26T12:03:09.855Z"
   },
   {
    "duration": 8,
    "start_time": "2021-12-26T12:03:09.892Z"
   },
   {
    "duration": 11,
    "start_time": "2021-12-26T12:03:09.901Z"
   },
   {
    "duration": 25,
    "start_time": "2021-12-26T12:03:09.914Z"
   },
   {
    "duration": 215,
    "start_time": "2021-12-26T12:03:09.941Z"
   },
   {
    "duration": 34,
    "start_time": "2021-12-26T12:03:10.158Z"
   },
   {
    "duration": 207,
    "start_time": "2021-12-26T12:03:10.194Z"
   },
   {
    "duration": 174,
    "start_time": "2021-12-26T12:03:10.403Z"
   },
   {
    "duration": 227,
    "start_time": "2021-12-26T12:03:10.579Z"
   },
   {
    "duration": 192,
    "start_time": "2021-12-26T12:03:10.808Z"
   },
   {
    "duration": 279,
    "start_time": "2021-12-26T12:03:11.002Z"
   },
   {
    "duration": 9,
    "start_time": "2021-12-26T12:03:49.087Z"
   },
   {
    "duration": 12,
    "start_time": "2021-12-26T12:03:51.513Z"
   },
   {
    "duration": 713,
    "start_time": "2021-12-26T12:03:59.185Z"
   },
   {
    "duration": 240,
    "start_time": "2021-12-26T12:03:59.900Z"
   },
   {
    "duration": 21,
    "start_time": "2021-12-26T12:04:00.142Z"
   },
   {
    "duration": 112,
    "start_time": "2021-12-26T12:04:00.165Z"
   },
   {
    "duration": 24,
    "start_time": "2021-12-26T12:04:00.278Z"
   },
   {
    "duration": 36,
    "start_time": "2021-12-26T12:04:00.304Z"
   },
   {
    "duration": 4,
    "start_time": "2021-12-26T12:04:00.342Z"
   },
   {
    "duration": 10,
    "start_time": "2021-12-26T12:04:00.348Z"
   },
   {
    "duration": 14,
    "start_time": "2021-12-26T12:04:00.360Z"
   },
   {
    "duration": 8,
    "start_time": "2021-12-26T12:04:00.392Z"
   },
   {
    "duration": 13,
    "start_time": "2021-12-26T12:04:00.402Z"
   },
   {
    "duration": 18,
    "start_time": "2021-12-26T12:04:00.417Z"
   },
   {
    "duration": 14,
    "start_time": "2021-12-26T12:04:00.437Z"
   },
   {
    "duration": 26,
    "start_time": "2021-12-26T12:04:00.453Z"
   },
   {
    "duration": 304,
    "start_time": "2021-12-26T12:04:00.480Z"
   },
   {
    "duration": 15,
    "start_time": "2021-12-26T12:04:00.786Z"
   },
   {
    "duration": 6,
    "start_time": "2021-12-26T12:04:00.803Z"
   },
   {
    "duration": 24,
    "start_time": "2021-12-26T12:04:00.811Z"
   },
   {
    "duration": 12,
    "start_time": "2021-12-26T12:04:00.836Z"
   },
   {
    "duration": 25,
    "start_time": "2021-12-26T12:04:00.849Z"
   },
   {
    "duration": 44,
    "start_time": "2021-12-26T12:04:00.875Z"
   },
   {
    "duration": 11,
    "start_time": "2021-12-26T12:04:00.920Z"
   },
   {
    "duration": 14,
    "start_time": "2021-12-26T12:04:00.935Z"
   },
   {
    "duration": 32,
    "start_time": "2021-12-26T12:04:00.951Z"
   },
   {
    "duration": 630,
    "start_time": "2021-12-26T12:04:00.985Z"
   },
   {
    "duration": 5,
    "start_time": "2021-12-26T12:04:01.617Z"
   },
   {
    "duration": 9,
    "start_time": "2021-12-26T12:04:01.624Z"
   },
   {
    "duration": 25,
    "start_time": "2021-12-26T12:04:01.635Z"
   },
   {
    "duration": 39,
    "start_time": "2021-12-26T12:04:01.661Z"
   },
   {
    "duration": 29,
    "start_time": "2021-12-26T12:04:01.701Z"
   },
   {
    "duration": 1192,
    "start_time": "2021-12-26T12:04:01.732Z"
   },
   {
    "duration": 299,
    "start_time": "2021-12-26T12:04:02.926Z"
   },
   {
    "duration": 441,
    "start_time": "2021-12-26T12:04:03.227Z"
   },
   {
    "duration": 7,
    "start_time": "2021-12-26T12:04:03.670Z"
   },
   {
    "duration": 4,
    "start_time": "2021-12-26T12:04:03.691Z"
   },
   {
    "duration": 6,
    "start_time": "2021-12-26T12:04:03.696Z"
   },
   {
    "duration": 9,
    "start_time": "2021-12-26T12:04:03.704Z"
   },
   {
    "duration": 13,
    "start_time": "2021-12-26T12:04:03.715Z"
   },
   {
    "duration": 4,
    "start_time": "2021-12-26T12:04:03.730Z"
   },
   {
    "duration": 159,
    "start_time": "2021-12-26T12:04:03.735Z"
   },
   {
    "duration": 10,
    "start_time": "2021-12-26T12:04:03.896Z"
   },
   {
    "duration": 160,
    "start_time": "2021-12-26T12:04:03.907Z"
   },
   {
    "duration": 13,
    "start_time": "2021-12-26T12:04:04.068Z"
   },
   {
    "duration": 148,
    "start_time": "2021-12-26T12:04:04.091Z"
   },
   {
    "duration": 9,
    "start_time": "2021-12-26T12:04:04.241Z"
   },
   {
    "duration": 158,
    "start_time": "2021-12-26T12:04:04.252Z"
   },
   {
    "duration": 19,
    "start_time": "2021-12-26T12:04:04.412Z"
   },
   {
    "duration": 8,
    "start_time": "2021-12-26T12:04:04.433Z"
   },
   {
    "duration": 11,
    "start_time": "2021-12-26T12:04:04.442Z"
   },
   {
    "duration": 272,
    "start_time": "2021-12-26T12:04:04.454Z"
   },
   {
    "duration": 234,
    "start_time": "2021-12-26T12:04:04.727Z"
   },
   {
    "duration": 555,
    "start_time": "2021-12-26T12:04:04.962Z"
   },
   {
    "duration": 196,
    "start_time": "2021-12-26T12:04:05.518Z"
   },
   {
    "duration": 199,
    "start_time": "2021-12-26T12:04:05.716Z"
   },
   {
    "duration": 231,
    "start_time": "2021-12-26T12:04:05.916Z"
   },
   {
    "duration": 319,
    "start_time": "2021-12-26T12:04:06.149Z"
   },
   {
    "duration": 28,
    "start_time": "2021-12-26T12:04:06.470Z"
   },
   {
    "duration": 7,
    "start_time": "2021-12-26T12:04:06.500Z"
   },
   {
    "duration": 16,
    "start_time": "2021-12-26T12:04:06.508Z"
   },
   {
    "duration": 28,
    "start_time": "2021-12-26T12:04:06.526Z"
   },
   {
    "duration": 224,
    "start_time": "2021-12-26T12:04:06.555Z"
   },
   {
    "duration": 28,
    "start_time": "2021-12-26T12:04:06.781Z"
   },
   {
    "duration": 220,
    "start_time": "2021-12-26T12:04:06.810Z"
   },
   {
    "duration": 193,
    "start_time": "2021-12-26T12:04:07.032Z"
   },
   {
    "duration": 235,
    "start_time": "2021-12-26T12:04:07.227Z"
   },
   {
    "duration": 210,
    "start_time": "2021-12-26T12:04:07.464Z"
   },
   {
    "duration": 283,
    "start_time": "2021-12-26T12:04:07.676Z"
   },
   {
    "duration": 9,
    "start_time": "2021-12-26T12:07:47.441Z"
   },
   {
    "duration": 12,
    "start_time": "2021-12-26T12:07:50.813Z"
   },
   {
    "duration": 132,
    "start_time": "2021-12-26T12:08:17.059Z"
   },
   {
    "duration": 7,
    "start_time": "2021-12-26T12:08:28.274Z"
   },
   {
    "duration": 637,
    "start_time": "2021-12-26T12:08:34.310Z"
   },
   {
    "duration": 228,
    "start_time": "2021-12-26T12:08:34.949Z"
   },
   {
    "duration": 24,
    "start_time": "2021-12-26T12:08:35.179Z"
   },
   {
    "duration": 106,
    "start_time": "2021-12-26T12:08:35.204Z"
   },
   {
    "duration": 21,
    "start_time": "2021-12-26T12:08:35.311Z"
   },
   {
    "duration": 35,
    "start_time": "2021-12-26T12:08:35.333Z"
   },
   {
    "duration": 22,
    "start_time": "2021-12-26T12:08:35.370Z"
   },
   {
    "duration": 4,
    "start_time": "2021-12-26T12:08:35.394Z"
   },
   {
    "duration": 8,
    "start_time": "2021-12-26T12:08:35.399Z"
   },
   {
    "duration": 18,
    "start_time": "2021-12-26T12:08:35.408Z"
   },
   {
    "duration": 7,
    "start_time": "2021-12-26T12:08:35.428Z"
   },
   {
    "duration": 13,
    "start_time": "2021-12-26T12:08:35.436Z"
   },
   {
    "duration": 6,
    "start_time": "2021-12-26T12:08:35.451Z"
   },
   {
    "duration": 40,
    "start_time": "2021-12-26T12:08:35.459Z"
   },
   {
    "duration": 301,
    "start_time": "2021-12-26T12:08:35.501Z"
   },
   {
    "duration": 15,
    "start_time": "2021-12-26T12:08:35.804Z"
   },
   {
    "duration": 7,
    "start_time": "2021-12-26T12:08:35.821Z"
   },
   {
    "duration": 27,
    "start_time": "2021-12-26T12:08:35.829Z"
   },
   {
    "duration": 5,
    "start_time": "2021-12-26T12:08:35.858Z"
   },
   {
    "duration": 32,
    "start_time": "2021-12-26T12:08:35.865Z"
   },
   {
    "duration": 40,
    "start_time": "2021-12-26T12:08:35.898Z"
   },
   {
    "duration": 12,
    "start_time": "2021-12-26T12:08:35.939Z"
   },
   {
    "duration": 25,
    "start_time": "2021-12-26T12:08:35.954Z"
   },
   {
    "duration": 34,
    "start_time": "2021-12-26T12:08:35.981Z"
   },
   {
    "duration": 630,
    "start_time": "2021-12-26T12:08:36.016Z"
   },
   {
    "duration": 4,
    "start_time": "2021-12-26T12:08:36.648Z"
   },
   {
    "duration": 8,
    "start_time": "2021-12-26T12:08:36.653Z"
   },
   {
    "duration": 33,
    "start_time": "2021-12-26T12:08:36.663Z"
   },
   {
    "duration": 25,
    "start_time": "2021-12-26T12:08:36.698Z"
   },
   {
    "duration": 30,
    "start_time": "2021-12-26T12:08:36.725Z"
   },
   {
    "duration": 1207,
    "start_time": "2021-12-26T12:08:36.757Z"
   },
   {
    "duration": 307,
    "start_time": "2021-12-26T12:08:37.966Z"
   },
   {
    "duration": 433,
    "start_time": "2021-12-26T12:08:38.275Z"
   },
   {
    "duration": 8,
    "start_time": "2021-12-26T12:08:38.709Z"
   },
   {
    "duration": 5,
    "start_time": "2021-12-26T12:08:38.718Z"
   },
   {
    "duration": 7,
    "start_time": "2021-12-26T12:08:38.725Z"
   },
   {
    "duration": 10,
    "start_time": "2021-12-26T12:08:38.733Z"
   },
   {
    "duration": 52,
    "start_time": "2021-12-26T12:08:38.744Z"
   },
   {
    "duration": 6,
    "start_time": "2021-12-26T12:08:38.798Z"
   },
   {
    "duration": 147,
    "start_time": "2021-12-26T12:08:38.806Z"
   },
   {
    "duration": 11,
    "start_time": "2021-12-26T12:08:38.955Z"
   },
   {
    "duration": 162,
    "start_time": "2021-12-26T12:08:38.967Z"
   },
   {
    "duration": 15,
    "start_time": "2021-12-26T12:08:39.131Z"
   },
   {
    "duration": 159,
    "start_time": "2021-12-26T12:08:39.148Z"
   },
   {
    "duration": 10,
    "start_time": "2021-12-26T12:08:39.309Z"
   },
   {
    "duration": 160,
    "start_time": "2021-12-26T12:08:39.321Z"
   },
   {
    "duration": 27,
    "start_time": "2021-12-26T12:08:39.483Z"
   },
   {
    "duration": 8,
    "start_time": "2021-12-26T12:08:39.512Z"
   },
   {
    "duration": 9,
    "start_time": "2021-12-26T12:08:39.522Z"
   },
   {
    "duration": 282,
    "start_time": "2021-12-26T12:08:39.533Z"
   },
   {
    "duration": 237,
    "start_time": "2021-12-26T12:08:39.817Z"
   },
   {
    "duration": 557,
    "start_time": "2021-12-26T12:08:40.057Z"
   },
   {
    "duration": 195,
    "start_time": "2021-12-26T12:08:40.616Z"
   },
   {
    "duration": 197,
    "start_time": "2021-12-26T12:08:40.813Z"
   },
   {
    "duration": 226,
    "start_time": "2021-12-26T12:08:41.012Z"
   },
   {
    "duration": 315,
    "start_time": "2021-12-26T12:08:41.240Z"
   },
   {
    "duration": 37,
    "start_time": "2021-12-26T12:08:41.557Z"
   },
   {
    "duration": 11,
    "start_time": "2021-12-26T12:08:41.595Z"
   },
   {
    "duration": 17,
    "start_time": "2021-12-26T12:08:41.607Z"
   },
   {
    "duration": 46,
    "start_time": "2021-12-26T12:08:41.625Z"
   },
   {
    "duration": 191,
    "start_time": "2021-12-26T12:08:41.673Z"
   },
   {
    "duration": 33,
    "start_time": "2021-12-26T12:08:41.865Z"
   },
   {
    "duration": 210,
    "start_time": "2021-12-26T12:08:41.899Z"
   },
   {
    "duration": 188,
    "start_time": "2021-12-26T12:08:42.111Z"
   },
   {
    "duration": 223,
    "start_time": "2021-12-26T12:08:42.301Z"
   },
   {
    "duration": 208,
    "start_time": "2021-12-26T12:08:42.526Z"
   },
   {
    "duration": 281,
    "start_time": "2021-12-26T12:08:42.737Z"
   },
   {
    "duration": 6,
    "start_time": "2021-12-26T12:09:31.064Z"
   },
   {
    "duration": 611,
    "start_time": "2021-12-26T12:09:40.939Z"
   },
   {
    "duration": 217,
    "start_time": "2021-12-26T12:09:41.552Z"
   },
   {
    "duration": 33,
    "start_time": "2021-12-26T12:09:41.771Z"
   },
   {
    "duration": 108,
    "start_time": "2021-12-26T12:09:41.805Z"
   },
   {
    "duration": 21,
    "start_time": "2021-12-26T12:09:41.916Z"
   },
   {
    "duration": 52,
    "start_time": "2021-12-26T12:09:41.939Z"
   },
   {
    "duration": 5,
    "start_time": "2021-12-26T12:09:41.993Z"
   },
   {
    "duration": 4,
    "start_time": "2021-12-26T12:09:42.002Z"
   },
   {
    "duration": 14,
    "start_time": "2021-12-26T12:09:42.008Z"
   },
   {
    "duration": 10,
    "start_time": "2021-12-26T12:09:42.024Z"
   },
   {
    "duration": 6,
    "start_time": "2021-12-26T12:09:42.036Z"
   },
   {
    "duration": 12,
    "start_time": "2021-12-26T12:09:42.044Z"
   },
   {
    "duration": 35,
    "start_time": "2021-12-26T12:09:42.058Z"
   },
   {
    "duration": 18,
    "start_time": "2021-12-26T12:09:42.095Z"
   },
   {
    "duration": 314,
    "start_time": "2021-12-26T12:09:42.115Z"
   },
   {
    "duration": 15,
    "start_time": "2021-12-26T12:09:42.431Z"
   },
   {
    "duration": 5,
    "start_time": "2021-12-26T12:09:42.448Z"
   },
   {
    "duration": 11,
    "start_time": "2021-12-26T12:09:42.454Z"
   },
   {
    "duration": 4,
    "start_time": "2021-12-26T12:09:42.467Z"
   },
   {
    "duration": 24,
    "start_time": "2021-12-26T12:09:42.491Z"
   },
   {
    "duration": 42,
    "start_time": "2021-12-26T12:09:42.517Z"
   },
   {
    "duration": 37,
    "start_time": "2021-12-26T12:09:42.561Z"
   },
   {
    "duration": 8,
    "start_time": "2021-12-26T12:09:42.603Z"
   },
   {
    "duration": 26,
    "start_time": "2021-12-26T12:09:42.614Z"
   },
   {
    "duration": 618,
    "start_time": "2021-12-26T12:09:42.642Z"
   },
   {
    "duration": 5,
    "start_time": "2021-12-26T12:09:43.261Z"
   },
   {
    "duration": 19,
    "start_time": "2021-12-26T12:09:43.268Z"
   },
   {
    "duration": 40,
    "start_time": "2021-12-26T12:09:43.289Z"
   },
   {
    "duration": 23,
    "start_time": "2021-12-26T12:09:43.330Z"
   },
   {
    "duration": 28,
    "start_time": "2021-12-26T12:09:43.354Z"
   },
   {
    "duration": 1150,
    "start_time": "2021-12-26T12:09:43.384Z"
   },
   {
    "duration": 304,
    "start_time": "2021-12-26T12:09:44.536Z"
   },
   {
    "duration": 434,
    "start_time": "2021-12-26T12:09:44.842Z"
   },
   {
    "duration": 16,
    "start_time": "2021-12-26T12:09:45.277Z"
   },
   {
    "duration": 4,
    "start_time": "2021-12-26T12:09:45.294Z"
   },
   {
    "duration": 5,
    "start_time": "2021-12-26T12:09:45.299Z"
   },
   {
    "duration": 12,
    "start_time": "2021-12-26T12:09:45.306Z"
   },
   {
    "duration": 15,
    "start_time": "2021-12-26T12:09:45.319Z"
   },
   {
    "duration": 5,
    "start_time": "2021-12-26T12:09:45.335Z"
   },
   {
    "duration": 163,
    "start_time": "2021-12-26T12:09:45.341Z"
   },
   {
    "duration": 10,
    "start_time": "2021-12-26T12:09:45.506Z"
   },
   {
    "duration": 157,
    "start_time": "2021-12-26T12:09:45.517Z"
   },
   {
    "duration": 17,
    "start_time": "2021-12-26T12:09:45.676Z"
   },
   {
    "duration": 145,
    "start_time": "2021-12-26T12:09:45.695Z"
   },
   {
    "duration": 9,
    "start_time": "2021-12-26T12:09:45.842Z"
   },
   {
    "duration": 158,
    "start_time": "2021-12-26T12:09:45.853Z"
   },
   {
    "duration": 18,
    "start_time": "2021-12-26T12:09:46.013Z"
   },
   {
    "duration": 8,
    "start_time": "2021-12-26T12:09:46.032Z"
   },
   {
    "duration": 12,
    "start_time": "2021-12-26T12:09:46.042Z"
   },
   {
    "duration": 265,
    "start_time": "2021-12-26T12:09:46.055Z"
   },
   {
    "duration": 229,
    "start_time": "2021-12-26T12:09:46.322Z"
   },
   {
    "duration": 570,
    "start_time": "2021-12-26T12:09:46.553Z"
   },
   {
    "duration": 192,
    "start_time": "2021-12-26T12:09:47.126Z"
   },
   {
    "duration": 196,
    "start_time": "2021-12-26T12:09:47.320Z"
   },
   {
    "duration": 226,
    "start_time": "2021-12-26T12:09:47.517Z"
   },
   {
    "duration": 312,
    "start_time": "2021-12-26T12:09:47.745Z"
   },
   {
    "duration": 33,
    "start_time": "2021-12-26T12:09:48.059Z"
   },
   {
    "duration": 7,
    "start_time": "2021-12-26T12:09:48.094Z"
   },
   {
    "duration": 9,
    "start_time": "2021-12-26T12:09:48.102Z"
   },
   {
    "duration": 29,
    "start_time": "2021-12-26T12:09:48.112Z"
   },
   {
    "duration": 224,
    "start_time": "2021-12-26T12:09:48.142Z"
   },
   {
    "duration": 35,
    "start_time": "2021-12-26T12:09:48.367Z"
   },
   {
    "duration": 214,
    "start_time": "2021-12-26T12:09:48.403Z"
   },
   {
    "duration": 192,
    "start_time": "2021-12-26T12:09:48.619Z"
   },
   {
    "duration": 217,
    "start_time": "2021-12-26T12:09:48.813Z"
   },
   {
    "duration": 192,
    "start_time": "2021-12-26T12:09:49.031Z"
   },
   {
    "duration": 272,
    "start_time": "2021-12-26T12:09:49.225Z"
   },
   {
    "duration": 4,
    "start_time": "2021-12-26T12:10:34.010Z"
   },
   {
    "duration": 9,
    "start_time": "2021-12-26T12:10:51.939Z"
   },
   {
    "duration": 224,
    "start_time": "2021-12-26T12:12:06.269Z"
   },
   {
    "duration": 226,
    "start_time": "2021-12-26T12:12:37.463Z"
   },
   {
    "duration": 648,
    "start_time": "2021-12-26T12:15:20.309Z"
   },
   {
    "duration": 221,
    "start_time": "2021-12-26T12:15:20.959Z"
   },
   {
    "duration": 24,
    "start_time": "2021-12-26T12:15:21.183Z"
   },
   {
    "duration": 115,
    "start_time": "2021-12-26T12:15:21.209Z"
   },
   {
    "duration": 22,
    "start_time": "2021-12-26T12:15:21.325Z"
   },
   {
    "duration": 51,
    "start_time": "2021-12-26T12:15:21.349Z"
   },
   {
    "duration": 4,
    "start_time": "2021-12-26T12:15:21.403Z"
   },
   {
    "duration": 3,
    "start_time": "2021-12-26T12:15:21.411Z"
   },
   {
    "duration": 14,
    "start_time": "2021-12-26T12:15:21.417Z"
   },
   {
    "duration": 11,
    "start_time": "2021-12-26T12:15:21.432Z"
   },
   {
    "duration": 6,
    "start_time": "2021-12-26T12:15:21.445Z"
   },
   {
    "duration": 42,
    "start_time": "2021-12-26T12:15:21.453Z"
   },
   {
    "duration": 7,
    "start_time": "2021-12-26T12:15:21.497Z"
   },
   {
    "duration": 21,
    "start_time": "2021-12-26T12:15:21.506Z"
   },
   {
    "duration": 314,
    "start_time": "2021-12-26T12:15:21.529Z"
   },
   {
    "duration": 16,
    "start_time": "2021-12-26T12:15:21.845Z"
   },
   {
    "duration": 9,
    "start_time": "2021-12-26T12:15:21.863Z"
   },
   {
    "duration": 29,
    "start_time": "2021-12-26T12:15:21.873Z"
   },
   {
    "duration": 12,
    "start_time": "2021-12-26T12:15:21.904Z"
   },
   {
    "duration": 41,
    "start_time": "2021-12-26T12:15:21.918Z"
   },
   {
    "duration": 45,
    "start_time": "2021-12-26T12:15:21.961Z"
   },
   {
    "duration": 11,
    "start_time": "2021-12-26T12:15:22.008Z"
   },
   {
    "duration": 13,
    "start_time": "2021-12-26T12:15:22.023Z"
   },
   {
    "duration": 34,
    "start_time": "2021-12-26T12:15:22.038Z"
   },
   {
    "duration": 634,
    "start_time": "2021-12-26T12:15:22.074Z"
   },
   {
    "duration": 5,
    "start_time": "2021-12-26T12:15:22.710Z"
   },
   {
    "duration": 6,
    "start_time": "2021-12-26T12:15:22.717Z"
   },
   {
    "duration": 33,
    "start_time": "2021-12-26T12:15:22.725Z"
   },
   {
    "duration": 57,
    "start_time": "2021-12-26T12:15:22.760Z"
   },
   {
    "duration": 30,
    "start_time": "2021-12-26T12:15:22.819Z"
   },
   {
    "duration": 1150,
    "start_time": "2021-12-26T12:15:22.850Z"
   },
   {
    "duration": 299,
    "start_time": "2021-12-26T12:15:24.002Z"
   },
   {
    "duration": 415,
    "start_time": "2021-12-26T12:15:24.303Z"
   },
   {
    "duration": 8,
    "start_time": "2021-12-26T12:15:24.720Z"
   },
   {
    "duration": 3,
    "start_time": "2021-12-26T12:15:24.730Z"
   },
   {
    "duration": 6,
    "start_time": "2021-12-26T12:15:24.735Z"
   },
   {
    "duration": 9,
    "start_time": "2021-12-26T12:15:24.742Z"
   },
   {
    "duration": 41,
    "start_time": "2021-12-26T12:15:24.753Z"
   },
   {
    "duration": 5,
    "start_time": "2021-12-26T12:15:24.795Z"
   },
   {
    "duration": 137,
    "start_time": "2021-12-26T12:15:24.801Z"
   },
   {
    "duration": 10,
    "start_time": "2021-12-26T12:15:24.939Z"
   },
   {
    "duration": 150,
    "start_time": "2021-12-26T12:15:24.950Z"
   },
   {
    "duration": 12,
    "start_time": "2021-12-26T12:15:25.102Z"
   },
   {
    "duration": 150,
    "start_time": "2021-12-26T12:15:25.116Z"
   },
   {
    "duration": 9,
    "start_time": "2021-12-26T12:15:25.268Z"
   },
   {
    "duration": 147,
    "start_time": "2021-12-26T12:15:25.278Z"
   },
   {
    "duration": 17,
    "start_time": "2021-12-26T12:15:25.427Z"
   },
   {
    "duration": 7,
    "start_time": "2021-12-26T12:15:25.446Z"
   },
   {
    "duration": 17,
    "start_time": "2021-12-26T12:15:25.455Z"
   },
   {
    "duration": 20,
    "start_time": "2021-12-26T12:15:25.473Z"
   },
   {
    "duration": 230,
    "start_time": "2021-12-26T12:15:25.494Z"
   },
   {
    "duration": 215,
    "start_time": "2021-12-26T12:15:25.725Z"
   },
   {
    "duration": 555,
    "start_time": "2021-12-26T12:15:25.942Z"
   },
   {
    "duration": 192,
    "start_time": "2021-12-26T12:15:26.499Z"
   },
   {
    "duration": 209,
    "start_time": "2021-12-26T12:15:26.693Z"
   },
   {
    "duration": 216,
    "start_time": "2021-12-26T12:15:26.904Z"
   },
   {
    "duration": 307,
    "start_time": "2021-12-26T12:15:27.122Z"
   },
   {
    "duration": 24,
    "start_time": "2021-12-26T12:15:27.431Z"
   },
   {
    "duration": 7,
    "start_time": "2021-12-26T12:15:27.456Z"
   },
   {
    "duration": 28,
    "start_time": "2021-12-26T12:15:27.464Z"
   },
   {
    "duration": 24,
    "start_time": "2021-12-26T12:15:27.494Z"
   },
   {
    "duration": 202,
    "start_time": "2021-12-26T12:15:27.520Z"
   },
   {
    "duration": 24,
    "start_time": "2021-12-26T12:15:27.724Z"
   },
   {
    "duration": 205,
    "start_time": "2021-12-26T12:15:27.749Z"
   },
   {
    "duration": 180,
    "start_time": "2021-12-26T12:15:27.956Z"
   },
   {
    "duration": 212,
    "start_time": "2021-12-26T12:15:28.138Z"
   },
   {
    "duration": 180,
    "start_time": "2021-12-26T12:15:28.352Z"
   },
   {
    "duration": 280,
    "start_time": "2021-12-26T12:15:28.537Z"
   },
   {
    "duration": 181,
    "start_time": "2021-12-26T12:22:36.133Z"
   },
   {
    "duration": 181,
    "start_time": "2021-12-26T12:23:06.431Z"
   },
   {
    "duration": 188,
    "start_time": "2021-12-26T12:25:25.688Z"
   },
   {
    "duration": 202,
    "start_time": "2021-12-26T12:26:59.860Z"
   },
   {
    "duration": 274,
    "start_time": "2021-12-26T12:27:30.725Z"
   },
   {
    "duration": 189,
    "start_time": "2021-12-26T12:27:49.819Z"
   },
   {
    "duration": 247,
    "start_time": "2021-12-26T12:28:22.589Z"
   },
   {
    "duration": 174,
    "start_time": "2021-12-26T12:29:16.302Z"
   },
   {
    "duration": 291,
    "start_time": "2021-12-26T12:30:30.366Z"
   },
   {
    "duration": 672,
    "start_time": "2021-12-26T19:05:01.392Z"
   },
   {
    "duration": 256,
    "start_time": "2021-12-26T19:05:02.066Z"
   },
   {
    "duration": 26,
    "start_time": "2021-12-26T19:05:02.324Z"
   },
   {
    "duration": 179,
    "start_time": "2021-12-26T19:05:02.352Z"
   },
   {
    "duration": 24,
    "start_time": "2021-12-26T19:05:02.533Z"
   },
   {
    "duration": 39,
    "start_time": "2021-12-26T19:05:02.559Z"
   },
   {
    "duration": 3,
    "start_time": "2021-12-26T19:05:02.600Z"
   },
   {
    "duration": 16,
    "start_time": "2021-12-26T19:05:02.606Z"
   },
   {
    "duration": 26,
    "start_time": "2021-12-26T19:05:02.624Z"
   },
   {
    "duration": 25,
    "start_time": "2021-12-26T19:05:02.652Z"
   },
   {
    "duration": 56,
    "start_time": "2021-12-26T19:05:02.679Z"
   },
   {
    "duration": 39,
    "start_time": "2021-12-26T19:05:02.737Z"
   },
   {
    "duration": 19,
    "start_time": "2021-12-26T19:05:02.777Z"
   },
   {
    "duration": 48,
    "start_time": "2021-12-26T19:05:02.798Z"
   },
   {
    "duration": 71158,
    "start_time": "2021-12-26T19:05:02.848Z"
   },
   {
    "duration": 14,
    "start_time": "2021-12-26T19:06:14.008Z"
   },
   {
    "duration": 31,
    "start_time": "2021-12-26T19:06:14.023Z"
   },
   {
    "duration": 31,
    "start_time": "2021-12-26T19:06:14.056Z"
   },
   {
    "duration": 12,
    "start_time": "2021-12-26T19:06:14.089Z"
   },
   {
    "duration": 32,
    "start_time": "2021-12-26T19:06:14.103Z"
   },
   {
    "duration": 39,
    "start_time": "2021-12-26T19:06:14.136Z"
   },
   {
    "duration": 14,
    "start_time": "2021-12-26T19:06:14.177Z"
   },
   {
    "duration": 8,
    "start_time": "2021-12-26T19:06:14.195Z"
   },
   {
    "duration": 56,
    "start_time": "2021-12-26T19:06:14.205Z"
   },
   {
    "duration": 905,
    "start_time": "2021-12-26T19:06:14.263Z"
   },
   {
    "duration": 5,
    "start_time": "2021-12-26T19:06:15.171Z"
   },
   {
    "duration": 46,
    "start_time": "2021-12-26T19:06:15.178Z"
   },
   {
    "duration": 62,
    "start_time": "2021-12-26T19:06:15.226Z"
   },
   {
    "duration": 39,
    "start_time": "2021-12-26T19:06:15.290Z"
   },
   {
    "duration": 38,
    "start_time": "2021-12-26T19:06:15.332Z"
   },
   {
    "duration": 1587,
    "start_time": "2021-12-26T19:06:15.372Z"
   },
   {
    "duration": 404,
    "start_time": "2021-12-26T19:06:16.961Z"
   },
   {
    "duration": 574,
    "start_time": "2021-12-26T19:06:17.367Z"
   },
   {
    "duration": 11,
    "start_time": "2021-12-26T19:06:17.944Z"
   },
   {
    "duration": 6,
    "start_time": "2021-12-26T19:06:17.958Z"
   },
   {
    "duration": 8,
    "start_time": "2021-12-26T19:06:17.966Z"
   },
   {
    "duration": 14,
    "start_time": "2021-12-26T19:06:17.976Z"
   },
   {
    "duration": 22,
    "start_time": "2021-12-26T19:06:17.992Z"
   },
   {
    "duration": 5,
    "start_time": "2021-12-26T19:06:18.041Z"
   },
   {
    "duration": 157,
    "start_time": "2021-12-26T19:06:18.048Z"
   },
   {
    "duration": 12,
    "start_time": "2021-12-26T19:06:18.207Z"
   },
   {
    "duration": 184,
    "start_time": "2021-12-26T19:06:18.221Z"
   },
   {
    "duration": 18,
    "start_time": "2021-12-26T19:06:18.408Z"
   },
   {
    "duration": 203,
    "start_time": "2021-12-26T19:06:18.428Z"
   },
   {
    "duration": 20,
    "start_time": "2021-12-26T19:06:18.632Z"
   },
   {
    "duration": 255,
    "start_time": "2021-12-26T19:06:18.653Z"
   },
   {
    "duration": 22,
    "start_time": "2021-12-26T19:06:18.909Z"
   },
   {
    "duration": 17,
    "start_time": "2021-12-26T19:06:18.933Z"
   },
   {
    "duration": 15,
    "start_time": "2021-12-26T19:06:18.951Z"
   },
   {
    "duration": 6,
    "start_time": "2021-12-26T19:06:18.967Z"
   },
   {
    "duration": 224,
    "start_time": "2021-12-26T19:06:18.975Z"
   },
   {
    "duration": 213,
    "start_time": "2021-12-26T19:06:19.200Z"
   },
   {
    "duration": 549,
    "start_time": "2021-12-26T19:06:19.415Z"
   },
   {
    "duration": 173,
    "start_time": "2021-12-26T19:06:19.966Z"
   },
   {
    "duration": 185,
    "start_time": "2021-12-26T19:06:20.141Z"
   },
   {
    "duration": 204,
    "start_time": "2021-12-26T19:06:20.328Z"
   },
   {
    "duration": 292,
    "start_time": "2021-12-26T19:06:20.534Z"
   },
   {
    "duration": 34,
    "start_time": "2021-12-26T19:06:20.828Z"
   },
   {
    "duration": 7,
    "start_time": "2021-12-26T19:06:20.864Z"
   },
   {
    "duration": 8,
    "start_time": "2021-12-26T19:06:20.873Z"
   },
   {
    "duration": 25,
    "start_time": "2021-12-26T19:06:20.883Z"
   },
   {
    "duration": 210,
    "start_time": "2021-12-26T19:06:20.910Z"
   },
   {
    "duration": 30,
    "start_time": "2021-12-26T19:06:21.123Z"
   },
   {
    "duration": 188,
    "start_time": "2021-12-26T19:06:21.155Z"
   },
   {
    "duration": 177,
    "start_time": "2021-12-26T19:06:21.345Z"
   },
   {
    "duration": 236,
    "start_time": "2021-12-26T19:06:21.524Z"
   },
   {
    "duration": 181,
    "start_time": "2021-12-26T19:06:21.762Z"
   },
   {
    "duration": 293,
    "start_time": "2021-12-26T19:06:21.949Z"
   }
  ],
  "kernelspec": {
   "display_name": "Python 3 (ipykernel)",
   "language": "python",
   "name": "python3"
  },
  "language_info": {
   "codemirror_mode": {
    "name": "ipython",
    "version": 3
   },
   "file_extension": ".py",
   "mimetype": "text/x-python",
   "name": "python",
   "nbconvert_exporter": "python",
   "pygments_lexer": "ipython3",
   "version": "3.9.5"
  },
  "toc": {
   "base_numbering": 1,
   "nav_menu": {},
   "number_sections": true,
   "sideBar": true,
   "skip_h1_title": true,
   "title_cell": "Содержание",
   "title_sidebar": "Contents",
   "toc_cell": true,
   "toc_position": {},
   "toc_section_display": true,
   "toc_window_display": false
  }
 },
 "nbformat": 4,
 "nbformat_minor": 2
}
