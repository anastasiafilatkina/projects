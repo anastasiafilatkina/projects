{
 "cells": [
  {
   "cell_type": "markdown",
   "metadata": {
    "id": "sIfNaMOxgFyK"
   },
   "source": [
    "## Исследование данных о российском кинопрокате\n",
    "\n"
   ]
  },
  {
   "cell_type": "markdown",
   "metadata": {},
   "source": [
    "Заказчик этого исследования — Министерство культуры Российской Федерации.\n",
    "Потребуется изучить рынок российского кинопроката и выявить текущие тренды. Уделите внимание фильмам, которые получили государственную поддержку. Попробуйте ответить на вопрос, насколько такие фильмы интересны зрителю.\n",
    "Данные опубликованы на портале открытых данных Министерства культуры. Набор данных содержит информацию о прокатных удостоверениях, сборах и государственной поддержке фильмов, а также информацию с сайта КиноПоиск."
   ]
  },
  {
   "cell_type": "markdown",
   "metadata": {},
   "source": [
    "### Описание данных \n",
    "\n",
    "Таблица mkrf_movies содержит информацию из реестра прокатных удостоверений. У одного фильма может быть несколько прокатных удостоверений.\n",
    "\n",
    "- `title` — название фильма;\n",
    "- `puNumber` — номер прокатного удостоверения;\n",
    "- `show_start_date` — дата премьеры фильма;\n",
    "- `type` — тип фильма;\n",
    "- `film_studio` — студия-производитель;\n",
    "- `production_country` — страна-производитель;\n",
    "- `director` — режиссёр;\n",
    "- `producer` — продюсер;\n",
    "- `age_restriction` — возрастная категория;\n",
    "- `refundable_support` — объём возвратных средств государственной поддержки;\n",
    "- `nonrefundable_support` — объём невозвратных средств государственной поддержки;\n",
    "- `financing_source` — источник государственного финансирования;\n",
    "- `budget` — общий бюджет фильма;\n",
    "- `ratings` — рейтинг фильма на КиноПоиске;\n",
    "- `genres` — жанр фильма.\n",
    "\n",
    "Таблица mkrf_shows содержит сведения о показах фильмов в российских кинотеатрах.\n",
    "\n",
    "- `puNumber` — номер прокатного удостоверения;\n",
    "- `box_office` — сборы в рублях."
   ]
  },
  {
   "cell_type": "markdown",
   "metadata": {
    "id": "3bSlkCsbgFyL"
   },
   "source": [
    "### Шаг 1. Обзор данных. Откроем файлы и объединим их в один.\n",
    "\n",
    "Объедините данные таким образом, чтобы все объекты из датасета `mkrf_movies` обязательно вошли в получившийся датафрейм. \n",
    "\n",
    "<div id=\"accordion\">\n",
    "    <div class=\"card\">\n",
    "        <div class=\"card-header\" id=\"headingThree\">\n",
    "            <button class=\"btn btn-link collapsed\" data-toggle=\"collapse\" data-target=\"#collapseHint_0\" aria-expanded=\"false\" aria-controls=\"collapseHint_0\">Подсказка</button>\n",
    "        </div>\n",
    "        <div id=\"collapseHint_0\" class=\"collapse\" aria-labelledby=\"headingThree\" data-parent=\"#accordion\">\n",
    "            <div class=\"card-body\">\n",
    "Обратите внимание на тип данных столбца, по которому будете соединять датафреймы. Тип данных этих столбцов должен быть одинаковым в обоих датафреймах.\n",
    "            </div>\n",
    "        </div>\n",
    "    </div>\n",
    "</div>"
   ]
  },
  {
   "cell_type": "markdown",
   "metadata": {},
   "source": [
    "Импортируем библиотеки, которые потребуются для работы."
   ]
  },
  {
   "cell_type": "code",
   "execution_count": 1,
   "metadata": {},
   "outputs": [],
   "source": [
    "import pandas as pd\n",
    "import numpy as np\n",
    "import matplotlib.pyplot as plt\n",
    "from datetime import datetime"
   ]
  },
  {
   "cell_type": "markdown",
   "metadata": {},
   "source": [
    "Откроем первый файл и оценим данные в нем."
   ]
  },
  {
   "cell_type": "code",
   "execution_count": 2,
   "metadata": {
    "id": "dw87FlzMgFyM"
   },
   "outputs": [
    {
     "data": {
      "text/html": [
       "<div>\n",
       "<style scoped>\n",
       "    .dataframe tbody tr th:only-of-type {\n",
       "        vertical-align: middle;\n",
       "    }\n",
       "\n",
       "    .dataframe tbody tr th {\n",
       "        vertical-align: top;\n",
       "    }\n",
       "\n",
       "    .dataframe thead th {\n",
       "        text-align: right;\n",
       "    }\n",
       "</style>\n",
       "<table border=\"1\" class=\"dataframe\">\n",
       "  <thead>\n",
       "    <tr style=\"text-align: right;\">\n",
       "      <th></th>\n",
       "      <th>title</th>\n",
       "      <th>puNumber</th>\n",
       "      <th>show_start_date</th>\n",
       "      <th>type</th>\n",
       "      <th>film_studio</th>\n",
       "      <th>production_country</th>\n",
       "      <th>director</th>\n",
       "      <th>producer</th>\n",
       "      <th>age_restriction</th>\n",
       "      <th>refundable_support</th>\n",
       "      <th>nonrefundable_support</th>\n",
       "      <th>budget</th>\n",
       "      <th>financing_source</th>\n",
       "      <th>ratings</th>\n",
       "      <th>genres</th>\n",
       "    </tr>\n",
       "  </thead>\n",
       "  <tbody>\n",
       "    <tr>\n",
       "      <td>0</td>\n",
       "      <td>Открытый простор</td>\n",
       "      <td>221048915</td>\n",
       "      <td>2015-11-27T12:00:00.000Z</td>\n",
       "      <td>Художественный</td>\n",
       "      <td>Тачстоун Пикчерз, Кобальт Пикчерз, Бикон Пикче...</td>\n",
       "      <td>США</td>\n",
       "      <td>Кевин Костнер</td>\n",
       "      <td>Дэвид Валдес, Кевин Костнер, Джейк Эбертс</td>\n",
       "      <td>«18+» - запрещено для детей</td>\n",
       "      <td>NaN</td>\n",
       "      <td>NaN</td>\n",
       "      <td>NaN</td>\n",
       "      <td>NaN</td>\n",
       "      <td>7.2</td>\n",
       "      <td>боевик,драма,мелодрама</td>\n",
       "    </tr>\n",
       "    <tr>\n",
       "      <td>1</td>\n",
       "      <td>Особо важное задание</td>\n",
       "      <td>111013716</td>\n",
       "      <td>2016-09-13T12:00:00.000Z</td>\n",
       "      <td>Художественный</td>\n",
       "      <td>Киностудия \"Мосфильм\"</td>\n",
       "      <td>СССР</td>\n",
       "      <td>Е.Матвеев</td>\n",
       "      <td>NaN</td>\n",
       "      <td>«6+» - для детей старше 6 лет</td>\n",
       "      <td>NaN</td>\n",
       "      <td>NaN</td>\n",
       "      <td>NaN</td>\n",
       "      <td>NaN</td>\n",
       "      <td>6.6</td>\n",
       "      <td>драма,военный</td>\n",
       "    </tr>\n",
       "    <tr>\n",
       "      <td>2</td>\n",
       "      <td>Особо опасен</td>\n",
       "      <td>221038416</td>\n",
       "      <td>2016-10-10T12:00:00.000Z</td>\n",
       "      <td>Художественный</td>\n",
       "      <td>Юниверсал Пикчерз, Кикстарт Продакшнз, Марк Пл...</td>\n",
       "      <td>США</td>\n",
       "      <td>Тимур Бекмамбетов</td>\n",
       "      <td>Джим Лемли, Джейсон Нетер, Марк Е.Платт, Яйн Смит</td>\n",
       "      <td>«18+» - запрещено для детей</td>\n",
       "      <td>NaN</td>\n",
       "      <td>NaN</td>\n",
       "      <td>NaN</td>\n",
       "      <td>NaN</td>\n",
       "      <td>6.8</td>\n",
       "      <td>фантастика,боевик,триллер</td>\n",
       "    </tr>\n",
       "    <tr>\n",
       "      <td>3</td>\n",
       "      <td>Особо опасен</td>\n",
       "      <td>221026916</td>\n",
       "      <td>2016-06-10T12:00:00.000Z</td>\n",
       "      <td>Художественный</td>\n",
       "      <td>Юниверсал Пикчерз, Кикстарт Продакшнз, Марк Пл...</td>\n",
       "      <td>США</td>\n",
       "      <td>Тимур Бекмамбетов</td>\n",
       "      <td>Джим Лемли, Джейсон Нетер, Марк Е.Платт, Яйн Смит</td>\n",
       "      <td>«18+» - запрещено для детей</td>\n",
       "      <td>NaN</td>\n",
       "      <td>NaN</td>\n",
       "      <td>NaN</td>\n",
       "      <td>NaN</td>\n",
       "      <td>6.8</td>\n",
       "      <td>фантастика,боевик,триллер</td>\n",
       "    </tr>\n",
       "    <tr>\n",
       "      <td>4</td>\n",
       "      <td>Особо опасен</td>\n",
       "      <td>221030815</td>\n",
       "      <td>2015-07-29T12:00:00.000Z</td>\n",
       "      <td>Художественный</td>\n",
       "      <td>Юниверсал Пикчерз, Кикстарт Продакшнз, Марк Пл...</td>\n",
       "      <td>США</td>\n",
       "      <td>Тимур Бекмамбетов</td>\n",
       "      <td>Джим Лемли, Джейсон Нетер, Марк Е.Платт, Яйн Смит</td>\n",
       "      <td>«18+» - запрещено для детей</td>\n",
       "      <td>NaN</td>\n",
       "      <td>NaN</td>\n",
       "      <td>NaN</td>\n",
       "      <td>NaN</td>\n",
       "      <td>6.8</td>\n",
       "      <td>фантастика,боевик,триллер</td>\n",
       "    </tr>\n",
       "    <tr>\n",
       "      <td>5</td>\n",
       "      <td>Остановился поезд</td>\n",
       "      <td>111013816</td>\n",
       "      <td>2016-09-13T12:00:00.000Z</td>\n",
       "      <td>Художественный</td>\n",
       "      <td>Киностудия \"Мосфильм\"</td>\n",
       "      <td>СССР</td>\n",
       "      <td>В.Абдрашитов</td>\n",
       "      <td>NaN</td>\n",
       "      <td>«6+» - для детей старше 6 лет</td>\n",
       "      <td>NaN</td>\n",
       "      <td>NaN</td>\n",
       "      <td>NaN</td>\n",
       "      <td>NaN</td>\n",
       "      <td>7.7</td>\n",
       "      <td>драма</td>\n",
       "    </tr>\n",
       "    <tr>\n",
       "      <td>6</td>\n",
       "      <td>Любовь и голуби</td>\n",
       "      <td>111007013</td>\n",
       "      <td>2013-10-18T12:00:00.000Z</td>\n",
       "      <td>Художественный</td>\n",
       "      <td>Киностудия \"Мосфильм\"</td>\n",
       "      <td>СССР</td>\n",
       "      <td>В.Меньшов</td>\n",
       "      <td>NaN</td>\n",
       "      <td>«12+» - для детей старше 12 лет</td>\n",
       "      <td>NaN</td>\n",
       "      <td>NaN</td>\n",
       "      <td>NaN</td>\n",
       "      <td>NaN</td>\n",
       "      <td>8.3</td>\n",
       "      <td>мелодрама,комедия</td>\n",
       "    </tr>\n",
       "    <tr>\n",
       "      <td>7</td>\n",
       "      <td>Любовь и сигареты</td>\n",
       "      <td>221074614</td>\n",
       "      <td>2014-12-29T12:00:00.000Z</td>\n",
       "      <td>Художественный</td>\n",
       "      <td>Юнайтед Артистс, Грин Стрит Филмз, Айкон Интер...</td>\n",
       "      <td>США</td>\n",
       "      <td>Джон Туртурро</td>\n",
       "      <td>Джон Пенотти, Джон Туртурро</td>\n",
       "      <td>«18+» - запрещено для детей</td>\n",
       "      <td>NaN</td>\n",
       "      <td>NaN</td>\n",
       "      <td>NaN</td>\n",
       "      <td>NaN</td>\n",
       "      <td>6.6</td>\n",
       "      <td>мюзикл,мелодрама,комедия</td>\n",
       "    </tr>\n",
       "    <tr>\n",
       "      <td>8</td>\n",
       "      <td>Отпетые мошенники.</td>\n",
       "      <td>121011416</td>\n",
       "      <td>2016-05-05T12:00:00.000Z</td>\n",
       "      <td>Художественный</td>\n",
       "      <td>Пульсар Продюксьон, ТФ1 Фильм</td>\n",
       "      <td>Франция</td>\n",
       "      <td>Эрик Беснард</td>\n",
       "      <td>Патрис Леду</td>\n",
       "      <td>«18+» - запрещено для детей</td>\n",
       "      <td>NaN</td>\n",
       "      <td>NaN</td>\n",
       "      <td>NaN</td>\n",
       "      <td>NaN</td>\n",
       "      <td>8.0</td>\n",
       "      <td>комедия,криминал</td>\n",
       "    </tr>\n",
       "    <tr>\n",
       "      <td>9</td>\n",
       "      <td>Отпуск за свой счет</td>\n",
       "      <td>111019114</td>\n",
       "      <td>2014-12-01T12:00:00.000Z</td>\n",
       "      <td>Художественный</td>\n",
       "      <td>Киностудия \"Мосфильм\", Телевидение ВНР</td>\n",
       "      <td>СССР, Венгрия</td>\n",
       "      <td>В.Титов</td>\n",
       "      <td>NaN</td>\n",
       "      <td>«12+» - для детей старше 12 лет</td>\n",
       "      <td>NaN</td>\n",
       "      <td>NaN</td>\n",
       "      <td>NaN</td>\n",
       "      <td>NaN</td>\n",
       "      <td>7.8</td>\n",
       "      <td>мелодрама,комедия</td>\n",
       "    </tr>\n",
       "  </tbody>\n",
       "</table>\n",
       "</div>"
      ],
      "text/plain": [
       "                  title   puNumber           show_start_date            type  \\\n",
       "0      Открытый простор  221048915  2015-11-27T12:00:00.000Z  Художественный   \n",
       "1  Особо важное задание  111013716  2016-09-13T12:00:00.000Z  Художественный   \n",
       "2          Особо опасен  221038416  2016-10-10T12:00:00.000Z  Художественный   \n",
       "3          Особо опасен  221026916  2016-06-10T12:00:00.000Z  Художественный   \n",
       "4          Особо опасен  221030815  2015-07-29T12:00:00.000Z  Художественный   \n",
       "5     Остановился поезд  111013816  2016-09-13T12:00:00.000Z  Художественный   \n",
       "6       Любовь и голуби  111007013  2013-10-18T12:00:00.000Z  Художественный   \n",
       "7     Любовь и сигареты  221074614  2014-12-29T12:00:00.000Z  Художественный   \n",
       "8    Отпетые мошенники.  121011416  2016-05-05T12:00:00.000Z  Художественный   \n",
       "9   Отпуск за свой счет  111019114  2014-12-01T12:00:00.000Z  Художественный   \n",
       "\n",
       "                                         film_studio production_country  \\\n",
       "0  Тачстоун Пикчерз, Кобальт Пикчерз, Бикон Пикче...                США   \n",
       "1                              Киностудия \"Мосфильм\"               СССР   \n",
       "2  Юниверсал Пикчерз, Кикстарт Продакшнз, Марк Пл...                США   \n",
       "3  Юниверсал Пикчерз, Кикстарт Продакшнз, Марк Пл...                США   \n",
       "4  Юниверсал Пикчерз, Кикстарт Продакшнз, Марк Пл...                США   \n",
       "5                              Киностудия \"Мосфильм\"               СССР   \n",
       "6                              Киностудия \"Мосфильм\"               СССР   \n",
       "7  Юнайтед Артистс, Грин Стрит Филмз, Айкон Интер...                США   \n",
       "8                     Пульсар Продюксьон, ТФ1 Фильм             Франция   \n",
       "9             Киностудия \"Мосфильм\", Телевидение ВНР      СССР, Венгрия   \n",
       "\n",
       "            director                                           producer  \\\n",
       "0      Кевин Костнер          Дэвид Валдес, Кевин Костнер, Джейк Эбертс   \n",
       "1          Е.Матвеев                                                NaN   \n",
       "2  Тимур Бекмамбетов  Джим Лемли, Джейсон Нетер, Марк Е.Платт, Яйн Смит   \n",
       "3  Тимур Бекмамбетов  Джим Лемли, Джейсон Нетер, Марк Е.Платт, Яйн Смит   \n",
       "4  Тимур Бекмамбетов  Джим Лемли, Джейсон Нетер, Марк Е.Платт, Яйн Смит   \n",
       "5       В.Абдрашитов                                                NaN   \n",
       "6          В.Меньшов                                                NaN   \n",
       "7      Джон Туртурро                        Джон Пенотти, Джон Туртурро   \n",
       "8       Эрик Беснард                                        Патрис Леду   \n",
       "9            В.Титов                                                NaN   \n",
       "\n",
       "                   age_restriction  refundable_support  nonrefundable_support  \\\n",
       "0      «18+» - запрещено для детей                 NaN                    NaN   \n",
       "1    «6+» - для детей старше 6 лет                 NaN                    NaN   \n",
       "2      «18+» - запрещено для детей                 NaN                    NaN   \n",
       "3      «18+» - запрещено для детей                 NaN                    NaN   \n",
       "4      «18+» - запрещено для детей                 NaN                    NaN   \n",
       "5    «6+» - для детей старше 6 лет                 NaN                    NaN   \n",
       "6  «12+» - для детей старше 12 лет                 NaN                    NaN   \n",
       "7      «18+» - запрещено для детей                 NaN                    NaN   \n",
       "8      «18+» - запрещено для детей                 NaN                    NaN   \n",
       "9  «12+» - для детей старше 12 лет                 NaN                    NaN   \n",
       "\n",
       "   budget financing_source ratings                     genres  \n",
       "0     NaN              NaN     7.2     боевик,драма,мелодрама  \n",
       "1     NaN              NaN     6.6              драма,военный  \n",
       "2     NaN              NaN     6.8  фантастика,боевик,триллер  \n",
       "3     NaN              NaN     6.8  фантастика,боевик,триллер  \n",
       "4     NaN              NaN     6.8  фантастика,боевик,триллер  \n",
       "5     NaN              NaN     7.7                      драма  \n",
       "6     NaN              NaN     8.3          мелодрама,комедия  \n",
       "7     NaN              NaN     6.6   мюзикл,мелодрама,комедия  \n",
       "8     NaN              NaN     8.0           комедия,криминал  \n",
       "9     NaN              NaN     7.8          мелодрама,комедия  "
      ]
     },
     "execution_count": 2,
     "metadata": {},
     "output_type": "execute_result"
    }
   ],
   "source": [
    "try: \n",
    "    data1 = pd.read_csv('/datasets/mkrf_movies.csv') #Серверный путь\n",
    "except:\n",
    "    data1 = pd.read_csv('C:/Users/datasets/mkrf_movies.csv') #Локальный путь\n",
    "        \n",
    "data1.head(10)"
   ]
  },
  {
   "cell_type": "markdown",
   "metadata": {},
   "source": [
    "Второй файл аналогично."
   ]
  },
  {
   "cell_type": "code",
   "execution_count": 3,
   "metadata": {
    "scrolled": true
   },
   "outputs": [
    {
     "data": {
      "text/html": [
       "<div>\n",
       "<style scoped>\n",
       "    .dataframe tbody tr th:only-of-type {\n",
       "        vertical-align: middle;\n",
       "    }\n",
       "\n",
       "    .dataframe tbody tr th {\n",
       "        vertical-align: top;\n",
       "    }\n",
       "\n",
       "    .dataframe thead th {\n",
       "        text-align: right;\n",
       "    }\n",
       "</style>\n",
       "<table border=\"1\" class=\"dataframe\">\n",
       "  <thead>\n",
       "    <tr style=\"text-align: right;\">\n",
       "      <th></th>\n",
       "      <th>puNumber</th>\n",
       "      <th>box_office</th>\n",
       "    </tr>\n",
       "  </thead>\n",
       "  <tbody>\n",
       "    <tr>\n",
       "      <td>0</td>\n",
       "      <td>111000113</td>\n",
       "      <td>2.450000e+03</td>\n",
       "    </tr>\n",
       "    <tr>\n",
       "      <td>1</td>\n",
       "      <td>111000115</td>\n",
       "      <td>6.104000e+04</td>\n",
       "    </tr>\n",
       "    <tr>\n",
       "      <td>2</td>\n",
       "      <td>111000116</td>\n",
       "      <td>1.530300e+08</td>\n",
       "    </tr>\n",
       "    <tr>\n",
       "      <td>3</td>\n",
       "      <td>111000117</td>\n",
       "      <td>1.226096e+07</td>\n",
       "    </tr>\n",
       "    <tr>\n",
       "      <td>4</td>\n",
       "      <td>111000118</td>\n",
       "      <td>1.636841e+08</td>\n",
       "    </tr>\n",
       "    <tr>\n",
       "      <td>5</td>\n",
       "      <td>111000119</td>\n",
       "      <td>4.293650e+06</td>\n",
       "    </tr>\n",
       "    <tr>\n",
       "      <td>6</td>\n",
       "      <td>111000212</td>\n",
       "      <td>2.000000e+02</td>\n",
       "    </tr>\n",
       "    <tr>\n",
       "      <td>7</td>\n",
       "      <td>111000216</td>\n",
       "      <td>3.555670e+05</td>\n",
       "    </tr>\n",
       "    <tr>\n",
       "      <td>8</td>\n",
       "      <td>111000313</td>\n",
       "      <td>7.100000e+02</td>\n",
       "    </tr>\n",
       "    <tr>\n",
       "      <td>9</td>\n",
       "      <td>111000314</td>\n",
       "      <td>1.607970e+06</td>\n",
       "    </tr>\n",
       "  </tbody>\n",
       "</table>\n",
       "</div>"
      ],
      "text/plain": [
       "    puNumber    box_office\n",
       "0  111000113  2.450000e+03\n",
       "1  111000115  6.104000e+04\n",
       "2  111000116  1.530300e+08\n",
       "3  111000117  1.226096e+07\n",
       "4  111000118  1.636841e+08\n",
       "5  111000119  4.293650e+06\n",
       "6  111000212  2.000000e+02\n",
       "7  111000216  3.555670e+05\n",
       "8  111000313  7.100000e+02\n",
       "9  111000314  1.607970e+06"
      ]
     },
     "execution_count": 3,
     "metadata": {},
     "output_type": "execute_result"
    }
   ],
   "source": [
    "try:\n",
    "    data2 = pd.read_csv('/datasets/mkrf_shows.csv') #Серверный путь\n",
    "except:\n",
    "    data2 = pd.read_csv('C:/Users/datasets/mkrf_shows.csv') #Локальный путь\n",
    "data2.head(10)"
   ]
  },
  {
   "cell_type": "code",
   "execution_count": 4,
   "metadata": {
    "scrolled": false
   },
   "outputs": [
    {
     "name": "stdout",
     "output_type": "stream",
     "text": [
      "<class 'pandas.core.frame.DataFrame'>\n",
      "RangeIndex: 7486 entries, 0 to 7485\n",
      "Data columns (total 15 columns):\n",
      "title                    7486 non-null object\n",
      "puNumber                 7486 non-null object\n",
      "show_start_date          7486 non-null object\n",
      "type                     7486 non-null object\n",
      "film_studio              7468 non-null object\n",
      "production_country       7484 non-null object\n",
      "director                 7477 non-null object\n",
      "producer                 6918 non-null object\n",
      "age_restriction          7486 non-null object\n",
      "refundable_support       332 non-null float64\n",
      "nonrefundable_support    332 non-null float64\n",
      "budget                   332 non-null float64\n",
      "financing_source         332 non-null object\n",
      "ratings                  6519 non-null object\n",
      "genres                   6510 non-null object\n",
      "dtypes: float64(3), object(12)\n",
      "memory usage: 877.4+ KB\n"
     ]
    }
   ],
   "source": [
    "data1.info()"
   ]
  },
  {
   "cell_type": "code",
   "execution_count": 5,
   "metadata": {
    "scrolled": true
   },
   "outputs": [
    {
     "name": "stdout",
     "output_type": "stream",
     "text": [
      "<class 'pandas.core.frame.DataFrame'>\n",
      "RangeIndex: 3158 entries, 0 to 3157\n",
      "Data columns (total 2 columns):\n",
      "puNumber      3158 non-null int64\n",
      "box_office    3158 non-null float64\n",
      "dtypes: float64(1), int64(1)\n",
      "memory usage: 49.5 KB\n"
     ]
    }
   ],
   "source": [
    "data2.info()"
   ]
  },
  {
   "cell_type": "markdown",
   "metadata": {},
   "source": [
    "Объединять файлы будем по столбцу `puNumber`, но в датасетах этот столбец представлен разными форматами. Просто поменять тип в первом датасете не удалось из-за значения 'нет' в нём. Заменим это значение и переведем формат столбца."
   ]
  },
  {
   "cell_type": "code",
   "execution_count": 6,
   "metadata": {},
   "outputs": [
    {
     "data": {
      "text/html": [
       "<div>\n",
       "<style scoped>\n",
       "    .dataframe tbody tr th:only-of-type {\n",
       "        vertical-align: middle;\n",
       "    }\n",
       "\n",
       "    .dataframe tbody tr th {\n",
       "        vertical-align: top;\n",
       "    }\n",
       "\n",
       "    .dataframe thead th {\n",
       "        text-align: right;\n",
       "    }\n",
       "</style>\n",
       "<table border=\"1\" class=\"dataframe\">\n",
       "  <thead>\n",
       "    <tr style=\"text-align: right;\">\n",
       "      <th></th>\n",
       "      <th>title</th>\n",
       "      <th>puNumber</th>\n",
       "      <th>show_start_date</th>\n",
       "      <th>type</th>\n",
       "      <th>film_studio</th>\n",
       "      <th>production_country</th>\n",
       "      <th>director</th>\n",
       "      <th>producer</th>\n",
       "      <th>age_restriction</th>\n",
       "      <th>refundable_support</th>\n",
       "      <th>nonrefundable_support</th>\n",
       "      <th>budget</th>\n",
       "      <th>financing_source</th>\n",
       "      <th>ratings</th>\n",
       "      <th>genres</th>\n",
       "    </tr>\n",
       "  </thead>\n",
       "  <tbody>\n",
       "    <tr>\n",
       "      <td>1797</td>\n",
       "      <td>Курбан-роман. (История с жертвой)</td>\n",
       "      <td>нет</td>\n",
       "      <td>2014-05-15T12:00:00.000Z</td>\n",
       "      <td>Художественный</td>\n",
       "      <td>ФОНД \"ИННОВАЦИЯ\"</td>\n",
       "      <td>Россия</td>\n",
       "      <td>С.Юзеев</td>\n",
       "      <td>М.Галицкая</td>\n",
       "      <td>«12+» - для детей старше 12 лет</td>\n",
       "      <td>NaN</td>\n",
       "      <td>NaN</td>\n",
       "      <td>NaN</td>\n",
       "      <td>NaN</td>\n",
       "      <td>NaN</td>\n",
       "      <td>NaN</td>\n",
       "    </tr>\n",
       "  </tbody>\n",
       "</table>\n",
       "</div>"
      ],
      "text/plain": [
       "                                  title puNumber           show_start_date  \\\n",
       "1797  Курбан-роман. (История с жертвой)      нет  2014-05-15T12:00:00.000Z   \n",
       "\n",
       "                type       film_studio production_country director  \\\n",
       "1797  Художественный  ФОНД \"ИННОВАЦИЯ\"             Россия  С.Юзеев   \n",
       "\n",
       "        producer                  age_restriction  refundable_support  \\\n",
       "1797  М.Галицкая  «12+» - для детей старше 12 лет                 NaN   \n",
       "\n",
       "      nonrefundable_support  budget financing_source ratings genres  \n",
       "1797                    NaN     NaN              NaN     NaN    NaN  "
      ]
     },
     "execution_count": 6,
     "metadata": {},
     "output_type": "execute_result"
    }
   ],
   "source": [
    "data1.loc[data1['puNumber'] == 'нет']"
   ]
  },
  {
   "cell_type": "code",
   "execution_count": 7,
   "metadata": {},
   "outputs": [],
   "source": [
    "data1['puNumber'] = data1['puNumber'].mask(data1['puNumber'] == 'нет', 0)"
   ]
  },
  {
   "cell_type": "code",
   "execution_count": 8,
   "metadata": {},
   "outputs": [],
   "source": [
    "data1['puNumber'] = data1['puNumber'].astype('int64')"
   ]
  },
  {
   "cell_type": "code",
   "execution_count": 9,
   "metadata": {
    "scrolled": true
   },
   "outputs": [
    {
     "name": "stdout",
     "output_type": "stream",
     "text": [
      "<class 'pandas.core.frame.DataFrame'>\n",
      "RangeIndex: 7486 entries, 0 to 7485\n",
      "Data columns (total 15 columns):\n",
      "title                    7486 non-null object\n",
      "puNumber                 7486 non-null int64\n",
      "show_start_date          7486 non-null object\n",
      "type                     7486 non-null object\n",
      "film_studio              7468 non-null object\n",
      "production_country       7484 non-null object\n",
      "director                 7477 non-null object\n",
      "producer                 6918 non-null object\n",
      "age_restriction          7486 non-null object\n",
      "refundable_support       332 non-null float64\n",
      "nonrefundable_support    332 non-null float64\n",
      "budget                   332 non-null float64\n",
      "financing_source         332 non-null object\n",
      "ratings                  6519 non-null object\n",
      "genres                   6510 non-null object\n",
      "dtypes: float64(3), int64(1), object(11)\n",
      "memory usage: 877.4+ KB\n"
     ]
    }
   ],
   "source": [
    "data1.info()"
   ]
  },
  {
   "cell_type": "markdown",
   "metadata": {},
   "source": [
    "Теперь можно объединить датасеты в один."
   ]
  },
  {
   "cell_type": "code",
   "execution_count": 10,
   "metadata": {
    "scrolled": true
   },
   "outputs": [],
   "source": [
    "data = data1.merge(data2, how = 'left')"
   ]
  },
  {
   "cell_type": "markdown",
   "metadata": {},
   "source": [
    "#### Выводы"
   ]
  },
  {
   "cell_type": "markdown",
   "metadata": {},
   "source": [
    "Таблицы объединили. В данных много пропусков в графах с финансированием, возможно, на месте пропусков подразумевается, что финансирование просто отсутствовало из данных источников. Возможно наличие дубликатов, поскольку данные подробно расписаны и могут присутствовать различные записи одного и того же. Есть проблема с форматом столбца с датой, а также стилистические ошибки в названии столбцов."
   ]
  },
  {
   "cell_type": "markdown",
   "metadata": {
    "id": "KLDGpPG0gFyM"
   },
   "source": [
    "### Шаг 2. Предобработка данных"
   ]
  },
  {
   "cell_type": "markdown",
   "metadata": {
    "id": "ssWwKXsxgFyO"
   },
   "source": [
    "#### Шаг 2.1. Проверьте типы данных\n",
    "\n",
    "Проверим типы данных в датафрейме."
   ]
  },
  {
   "cell_type": "code",
   "execution_count": 11,
   "metadata": {
    "id": "kVGSplJOgFyO",
    "scrolled": true
   },
   "outputs": [
    {
     "name": "stdout",
     "output_type": "stream",
     "text": [
      "<class 'pandas.core.frame.DataFrame'>\n",
      "Int64Index: 7486 entries, 0 to 7485\n",
      "Data columns (total 16 columns):\n",
      "title                    7486 non-null object\n",
      "puNumber                 7486 non-null int64\n",
      "show_start_date          7486 non-null object\n",
      "type                     7486 non-null object\n",
      "film_studio              7468 non-null object\n",
      "production_country       7484 non-null object\n",
      "director                 7477 non-null object\n",
      "producer                 6918 non-null object\n",
      "age_restriction          7486 non-null object\n",
      "refundable_support       332 non-null float64\n",
      "nonrefundable_support    332 non-null float64\n",
      "budget                   332 non-null float64\n",
      "financing_source         332 non-null object\n",
      "ratings                  6519 non-null object\n",
      "genres                   6510 non-null object\n",
      "box_office               3158 non-null float64\n",
      "dtypes: float64(4), int64(1), object(11)\n",
      "memory usage: 994.2+ KB\n"
     ]
    }
   ],
   "source": [
    "data.info()"
   ]
  },
  {
   "cell_type": "markdown",
   "metadata": {},
   "source": [
    "Видим, что дата представлена в неудобном формате, а также рейтинг хотелось бы представить в числовом формате. Исправим это."
   ]
  },
  {
   "cell_type": "code",
   "execution_count": 12,
   "metadata": {
    "scrolled": true
   },
   "outputs": [
    {
     "data": {
      "text/plain": [
       "array(['7.2', '6.6', '6.8', '7.7', '8.3', '8.0', '7.8', '8.1', '7.1',\n",
       "       '6.0', '7.4', '5.8', '8.7', '6.3', '6.9', '5.0', '4.3', '7.3',\n",
       "       '7.0', '6.4', nan, '8.2', '7.5', '6.7', '7.9', '5.9', '6.2', '5.6',\n",
       "       '6.5', '2.4', '7.6', '6.1', '8.6', '8.5', '8.8', '5.5', '5.1',\n",
       "       '5.7', '5.4', '99%', '4.4', '4.5', '5.3', '4.1', '8.4', '2.6',\n",
       "       '3.8', '4.6', '4.8', '4.0', '3.0', '1.6', '4.2', '5.2', '4.7',\n",
       "       '4.9', '3.9', '2.7', '3.3', '2.9', '28%', '3.7', '1.4', '3.1',\n",
       "       '97%', '3.5', '3.2', '2.8', '1.5', '2.1', '2.5', '9.2', '3.4',\n",
       "       '1.1', '3.6', '83%', '64%', '91%', '94%', '62%', '79%', '90%',\n",
       "       '19%', '88%', '1.0', '89%', '1.3', '1.9', '1.8', '1.2', '1.7',\n",
       "       '9.0', '98%', '8.9', '9.1'], dtype=object)"
      ]
     },
     "execution_count": 12,
     "metadata": {},
     "output_type": "execute_result"
    }
   ],
   "source": [
    "data['ratings'].unique()"
   ]
  },
  {
   "cell_type": "markdown",
   "metadata": {},
   "source": [
    "Возникает проблема с этим столбцом, данные приведены в виде балла и процента, надо привести их к единому виду. Судя по этим данным и по тому, как обычно оценивают фильмы, максимальный балл составляет 10.0. Приведем всё к единому виду, избавимся от %."
   ]
  },
  {
   "cell_type": "code",
   "execution_count": 13,
   "metadata": {
    "scrolled": true
   },
   "outputs": [],
   "source": [
    "l = [x for x in data.ratings if str(x)[2] == '%']\n",
    "for x in l:\n",
    "    data.loc[data.ratings == x, 'ratings'] = np.nan\n",
    "data.ratings = data.ratings.astype('float')\n"
   ]
  },
  {
   "cell_type": "code",
   "execution_count": 14,
   "metadata": {},
   "outputs": [
    {
     "data": {
      "text/plain": [
       "array([7.2, 6.6, 6.8, 7.7, 8.3, 8. , 7.8, 8.1, 7.1, 6. , 7.4, 5.8, 8.7,\n",
       "       6.3, 6.9, 5. , 4.3, 7.3, 7. , 6.4, nan, 8.2, 7.5, 6.7, 7.9, 5.9,\n",
       "       6.2, 5.6, 6.5, 2.4, 7.6, 6.1, 8.6, 8.5, 8.8, 5.5, 5.1, 5.7, 5.4,\n",
       "       4.4, 4.5, 5.3, 4.1, 8.4, 2.6, 3.8, 4.6, 4.8, 4. , 3. , 1.6, 4.2,\n",
       "       5.2, 4.7, 4.9, 3.9, 2.7, 3.3, 2.9, 3.7, 1.4, 3.1, 3.5, 3.2, 2.8,\n",
       "       1.5, 2.1, 2.5, 9.2, 3.4, 1.1, 3.6, 1. , 1.3, 1.9, 1.8, 1.2, 1.7,\n",
       "       9. , 8.9, 9.1])"
      ]
     },
     "execution_count": 14,
     "metadata": {},
     "output_type": "execute_result"
    }
   ],
   "source": [
    "data['ratings'].unique()"
   ]
  },
  {
   "cell_type": "markdown",
   "metadata": {},
   "source": [
    "Заменим формат столбца с датой."
   ]
  },
  {
   "cell_type": "code",
   "execution_count": 15,
   "metadata": {},
   "outputs": [],
   "source": [
    "data['show_start_date'] = pd.to_datetime(data['show_start_date'], format=\"%Y-%m-%dT%H:%M:%S.000Z\")"
   ]
  },
  {
   "cell_type": "code",
   "execution_count": 16,
   "metadata": {
    "scrolled": true
   },
   "outputs": [
    {
     "name": "stdout",
     "output_type": "stream",
     "text": [
      "<class 'pandas.core.frame.DataFrame'>\n",
      "Int64Index: 7486 entries, 0 to 7485\n",
      "Data columns (total 16 columns):\n",
      "title                    7486 non-null object\n",
      "puNumber                 7486 non-null int64\n",
      "show_start_date          7486 non-null datetime64[ns]\n",
      "type                     7486 non-null object\n",
      "film_studio              7468 non-null object\n",
      "production_country       7484 non-null object\n",
      "director                 7477 non-null object\n",
      "producer                 6918 non-null object\n",
      "age_restriction          7486 non-null object\n",
      "refundable_support       332 non-null float64\n",
      "nonrefundable_support    332 non-null float64\n",
      "budget                   332 non-null float64\n",
      "financing_source         332 non-null object\n",
      "ratings                  6490 non-null float64\n",
      "genres                   6510 non-null object\n",
      "box_office               3158 non-null float64\n",
      "dtypes: datetime64[ns](1), float64(5), int64(1), object(9)\n",
      "memory usage: 994.2+ KB\n"
     ]
    }
   ],
   "source": [
    "data.info()"
   ]
  },
  {
   "cell_type": "code",
   "execution_count": 17,
   "metadata": {},
   "outputs": [
    {
     "data": {
      "text/html": [
       "<div>\n",
       "<style scoped>\n",
       "    .dataframe tbody tr th:only-of-type {\n",
       "        vertical-align: middle;\n",
       "    }\n",
       "\n",
       "    .dataframe tbody tr th {\n",
       "        vertical-align: top;\n",
       "    }\n",
       "\n",
       "    .dataframe thead th {\n",
       "        text-align: right;\n",
       "    }\n",
       "</style>\n",
       "<table border=\"1\" class=\"dataframe\">\n",
       "  <thead>\n",
       "    <tr style=\"text-align: right;\">\n",
       "      <th></th>\n",
       "      <th>title</th>\n",
       "      <th>puNumber</th>\n",
       "      <th>show_start_date</th>\n",
       "      <th>type</th>\n",
       "      <th>film_studio</th>\n",
       "      <th>production_country</th>\n",
       "      <th>director</th>\n",
       "      <th>producer</th>\n",
       "      <th>age_restriction</th>\n",
       "      <th>refundable_support</th>\n",
       "      <th>nonrefundable_support</th>\n",
       "      <th>budget</th>\n",
       "      <th>financing_source</th>\n",
       "      <th>ratings</th>\n",
       "      <th>genres</th>\n",
       "      <th>box_office</th>\n",
       "    </tr>\n",
       "  </thead>\n",
       "  <tbody>\n",
       "    <tr>\n",
       "      <td>0</td>\n",
       "      <td>Открытый простор</td>\n",
       "      <td>221048915</td>\n",
       "      <td>2015-11-27 12:00:00</td>\n",
       "      <td>Художественный</td>\n",
       "      <td>Тачстоун Пикчерз, Кобальт Пикчерз, Бикон Пикче...</td>\n",
       "      <td>США</td>\n",
       "      <td>Кевин Костнер</td>\n",
       "      <td>Дэвид Валдес, Кевин Костнер, Джейк Эбертс</td>\n",
       "      <td>«18+» - запрещено для детей</td>\n",
       "      <td>NaN</td>\n",
       "      <td>NaN</td>\n",
       "      <td>NaN</td>\n",
       "      <td>NaN</td>\n",
       "      <td>7.2</td>\n",
       "      <td>боевик,драма,мелодрама</td>\n",
       "      <td>NaN</td>\n",
       "    </tr>\n",
       "    <tr>\n",
       "      <td>1</td>\n",
       "      <td>Особо важное задание</td>\n",
       "      <td>111013716</td>\n",
       "      <td>2016-09-13 12:00:00</td>\n",
       "      <td>Художественный</td>\n",
       "      <td>Киностудия \"Мосфильм\"</td>\n",
       "      <td>СССР</td>\n",
       "      <td>Е.Матвеев</td>\n",
       "      <td>NaN</td>\n",
       "      <td>«6+» - для детей старше 6 лет</td>\n",
       "      <td>NaN</td>\n",
       "      <td>NaN</td>\n",
       "      <td>NaN</td>\n",
       "      <td>NaN</td>\n",
       "      <td>6.6</td>\n",
       "      <td>драма,военный</td>\n",
       "      <td>NaN</td>\n",
       "    </tr>\n",
       "    <tr>\n",
       "      <td>2</td>\n",
       "      <td>Особо опасен</td>\n",
       "      <td>221038416</td>\n",
       "      <td>2016-10-10 12:00:00</td>\n",
       "      <td>Художественный</td>\n",
       "      <td>Юниверсал Пикчерз, Кикстарт Продакшнз, Марк Пл...</td>\n",
       "      <td>США</td>\n",
       "      <td>Тимур Бекмамбетов</td>\n",
       "      <td>Джим Лемли, Джейсон Нетер, Марк Е.Платт, Яйн Смит</td>\n",
       "      <td>«18+» - запрещено для детей</td>\n",
       "      <td>NaN</td>\n",
       "      <td>NaN</td>\n",
       "      <td>NaN</td>\n",
       "      <td>NaN</td>\n",
       "      <td>6.8</td>\n",
       "      <td>фантастика,боевик,триллер</td>\n",
       "      <td>NaN</td>\n",
       "    </tr>\n",
       "    <tr>\n",
       "      <td>3</td>\n",
       "      <td>Особо опасен</td>\n",
       "      <td>221026916</td>\n",
       "      <td>2016-06-10 12:00:00</td>\n",
       "      <td>Художественный</td>\n",
       "      <td>Юниверсал Пикчерз, Кикстарт Продакшнз, Марк Пл...</td>\n",
       "      <td>США</td>\n",
       "      <td>Тимур Бекмамбетов</td>\n",
       "      <td>Джим Лемли, Джейсон Нетер, Марк Е.Платт, Яйн Смит</td>\n",
       "      <td>«18+» - запрещено для детей</td>\n",
       "      <td>NaN</td>\n",
       "      <td>NaN</td>\n",
       "      <td>NaN</td>\n",
       "      <td>NaN</td>\n",
       "      <td>6.8</td>\n",
       "      <td>фантастика,боевик,триллер</td>\n",
       "      <td>NaN</td>\n",
       "    </tr>\n",
       "    <tr>\n",
       "      <td>4</td>\n",
       "      <td>Особо опасен</td>\n",
       "      <td>221030815</td>\n",
       "      <td>2015-07-29 12:00:00</td>\n",
       "      <td>Художественный</td>\n",
       "      <td>Юниверсал Пикчерз, Кикстарт Продакшнз, Марк Пл...</td>\n",
       "      <td>США</td>\n",
       "      <td>Тимур Бекмамбетов</td>\n",
       "      <td>Джим Лемли, Джейсон Нетер, Марк Е.Платт, Яйн Смит</td>\n",
       "      <td>«18+» - запрещено для детей</td>\n",
       "      <td>NaN</td>\n",
       "      <td>NaN</td>\n",
       "      <td>NaN</td>\n",
       "      <td>NaN</td>\n",
       "      <td>6.8</td>\n",
       "      <td>фантастика,боевик,триллер</td>\n",
       "      <td>NaN</td>\n",
       "    </tr>\n",
       "  </tbody>\n",
       "</table>\n",
       "</div>"
      ],
      "text/plain": [
       "                  title   puNumber     show_start_date            type  \\\n",
       "0      Открытый простор  221048915 2015-11-27 12:00:00  Художественный   \n",
       "1  Особо важное задание  111013716 2016-09-13 12:00:00  Художественный   \n",
       "2          Особо опасен  221038416 2016-10-10 12:00:00  Художественный   \n",
       "3          Особо опасен  221026916 2016-06-10 12:00:00  Художественный   \n",
       "4          Особо опасен  221030815 2015-07-29 12:00:00  Художественный   \n",
       "\n",
       "                                         film_studio production_country  \\\n",
       "0  Тачстоун Пикчерз, Кобальт Пикчерз, Бикон Пикче...                США   \n",
       "1                              Киностудия \"Мосфильм\"               СССР   \n",
       "2  Юниверсал Пикчерз, Кикстарт Продакшнз, Марк Пл...                США   \n",
       "3  Юниверсал Пикчерз, Кикстарт Продакшнз, Марк Пл...                США   \n",
       "4  Юниверсал Пикчерз, Кикстарт Продакшнз, Марк Пл...                США   \n",
       "\n",
       "            director                                           producer  \\\n",
       "0      Кевин Костнер          Дэвид Валдес, Кевин Костнер, Джейк Эбертс   \n",
       "1          Е.Матвеев                                                NaN   \n",
       "2  Тимур Бекмамбетов  Джим Лемли, Джейсон Нетер, Марк Е.Платт, Яйн Смит   \n",
       "3  Тимур Бекмамбетов  Джим Лемли, Джейсон Нетер, Марк Е.Платт, Яйн Смит   \n",
       "4  Тимур Бекмамбетов  Джим Лемли, Джейсон Нетер, Марк Е.Платт, Яйн Смит   \n",
       "\n",
       "                 age_restriction  refundable_support  nonrefundable_support  \\\n",
       "0    «18+» - запрещено для детей                 NaN                    NaN   \n",
       "1  «6+» - для детей старше 6 лет                 NaN                    NaN   \n",
       "2    «18+» - запрещено для детей                 NaN                    NaN   \n",
       "3    «18+» - запрещено для детей                 NaN                    NaN   \n",
       "4    «18+» - запрещено для детей                 NaN                    NaN   \n",
       "\n",
       "   budget financing_source  ratings                     genres  box_office  \n",
       "0     NaN              NaN      7.2     боевик,драма,мелодрама         NaN  \n",
       "1     NaN              NaN      6.6              драма,военный         NaN  \n",
       "2     NaN              NaN      6.8  фантастика,боевик,триллер         NaN  \n",
       "3     NaN              NaN      6.8  фантастика,боевик,триллер         NaN  \n",
       "4     NaN              NaN      6.8  фантастика,боевик,триллер         NaN  "
      ]
     },
     "execution_count": 17,
     "metadata": {},
     "output_type": "execute_result"
    }
   ],
   "source": [
    "data.head()"
   ]
  },
  {
   "cell_type": "markdown",
   "metadata": {
    "id": "i0MOLbF-gFyP"
   },
   "source": [
    "#### Шаг 2.2. Изучите пропуски в датафрейме\n",
    "\n",
    "- Объясните, почему заполнили пропуски определённым образом или почему не стали этого делать."
   ]
  },
  {
   "cell_type": "markdown",
   "metadata": {},
   "source": [
    "Посмотрим, в каких столбцах встречаются пропуски."
   ]
  },
  {
   "cell_type": "code",
   "execution_count": 18,
   "metadata": {},
   "outputs": [
    {
     "data": {
      "text/plain": [
       "title                       0\n",
       "puNumber                    0\n",
       "show_start_date             0\n",
       "type                        0\n",
       "film_studio                18\n",
       "production_country          2\n",
       "director                    9\n",
       "producer                  568\n",
       "age_restriction             0\n",
       "refundable_support       7154\n",
       "nonrefundable_support    7154\n",
       "budget                   7154\n",
       "financing_source         7154\n",
       "ratings                   996\n",
       "genres                    976\n",
       "box_office               4328\n",
       "dtype: int64"
      ]
     },
     "execution_count": 18,
     "metadata": {},
     "output_type": "execute_result"
    }
   ],
   "source": [
    "data.isna().sum()"
   ]
  },
  {
   "cell_type": "code",
   "execution_count": 19,
   "metadata": {
    "id": "8MJD_lkngFyP",
    "scrolled": false
   },
   "outputs": [
    {
     "data": {
      "text/plain": [
       "title                     0.000000\n",
       "puNumber                  0.000000\n",
       "show_start_date           0.000000\n",
       "type                      0.000000\n",
       "film_studio               0.240449\n",
       "production_country        0.026717\n",
       "director                  0.120224\n",
       "producer                  7.587497\n",
       "age_restriction           0.000000\n",
       "refundable_support       95.565055\n",
       "nonrefundable_support    95.565055\n",
       "budget                   95.565055\n",
       "financing_source         95.565055\n",
       "ratings                  13.304836\n",
       "genres                   13.037670\n",
       "box_office               57.814587\n",
       "dtype: float64"
      ]
     },
     "execution_count": 19,
     "metadata": {},
     "output_type": "execute_result"
    }
   ],
   "source": [
    "data.isna().mean()*100"
   ]
  },
  {
   "cell_type": "markdown",
   "metadata": {},
   "source": [
    "Оценим их процентное содержание."
   ]
  },
  {
   "cell_type": "markdown",
   "metadata": {},
   "source": [
    "Мы видим 95% пропусков сразу в четырех столбцах, связанным с финансированием. Здесь логично предположить, что значения отсутствуют там, где изначально отсутствовало финансирование из этого канала. Однако из описания данных знаем, что в столбце `budget` есть сумма только для фильмов с господдержкой. Поэтому, учитывая, что математические действия с NaN возможны, можем оставить пропуски не заполняя, либо заполнить 0. Также большое количество пропусков (58%) в столбце со сборами в рублях. "
   ]
  },
  {
   "cell_type": "markdown",
   "metadata": {
    "id": "4c6k1t9ygFyQ"
   },
   "source": [
    "#### Шаг 2.3. Изучите дубликаты в датафрейме\n",
    "- Проверьте, есть ли в данных дубликаты. Опишите причины, которые могли повлиять на появление дублей."
   ]
  },
  {
   "cell_type": "code",
   "execution_count": 20,
   "metadata": {
    "id": "aKck8RIdgFyQ"
   },
   "outputs": [
    {
     "data": {
      "text/plain": [
       "0"
      ]
     },
     "execution_count": 20,
     "metadata": {},
     "output_type": "execute_result"
    }
   ],
   "source": [
    "data.duplicated().sum()"
   ]
  },
  {
   "cell_type": "markdown",
   "metadata": {},
   "source": [
    "Явных дубликатов нет, попробуем поискать подробнее. По условию, у одного фильма может быть несколько прокатных номеров, но, получается, что одному прокатному номеру соответствует 1 фильм."
   ]
  },
  {
   "cell_type": "code",
   "execution_count": 21,
   "metadata": {},
   "outputs": [
    {
     "data": {
      "text/plain": [
       "121026619    1\n",
       "221098811    1\n",
       "121012216    1\n",
       "221005815    1\n",
       "121016310    1\n",
       "            ..\n",
       "124000315    1\n",
       "126001212    1\n",
       "111013918    1\n",
       "221154310    2\n",
       "221054410    2\n",
       "Name: puNumber, Length: 7484, dtype: int64"
      ]
     },
     "execution_count": 21,
     "metadata": {},
     "output_type": "execute_result"
    }
   ],
   "source": [
    "data['puNumber'].value_counts().sort_values()"
   ]
  },
  {
   "cell_type": "code",
   "execution_count": 22,
   "metadata": {
    "scrolled": true
   },
   "outputs": [
    {
     "data": {
      "text/html": [
       "<div>\n",
       "<style scoped>\n",
       "    .dataframe tbody tr th:only-of-type {\n",
       "        vertical-align: middle;\n",
       "    }\n",
       "\n",
       "    .dataframe tbody tr th {\n",
       "        vertical-align: top;\n",
       "    }\n",
       "\n",
       "    .dataframe thead th {\n",
       "        text-align: right;\n",
       "    }\n",
       "</style>\n",
       "<table border=\"1\" class=\"dataframe\">\n",
       "  <thead>\n",
       "    <tr style=\"text-align: right;\">\n",
       "      <th></th>\n",
       "      <th>title</th>\n",
       "      <th>puNumber</th>\n",
       "      <th>show_start_date</th>\n",
       "      <th>type</th>\n",
       "      <th>film_studio</th>\n",
       "      <th>production_country</th>\n",
       "      <th>director</th>\n",
       "      <th>producer</th>\n",
       "      <th>age_restriction</th>\n",
       "      <th>refundable_support</th>\n",
       "      <th>nonrefundable_support</th>\n",
       "      <th>budget</th>\n",
       "      <th>financing_source</th>\n",
       "      <th>ratings</th>\n",
       "      <th>genres</th>\n",
       "      <th>box_office</th>\n",
       "    </tr>\n",
       "  </thead>\n",
       "  <tbody>\n",
       "    <tr>\n",
       "      <td>4638</td>\n",
       "      <td>Как жениться и остаться холостым</td>\n",
       "      <td>221154310</td>\n",
       "      <td>2010-12-17 12:00:00</td>\n",
       "      <td>Художественный</td>\n",
       "      <td>Ше Вам, Скрипт Ассосье, Тэ Фэ 1 Фильм Продюксь...</td>\n",
       "      <td>Франция</td>\n",
       "      <td>Эрик Лартиго</td>\n",
       "      <td>Амандин Било, Алан Шаба</td>\n",
       "      <td>«16+» - для детей старше 16 лет</td>\n",
       "      <td>NaN</td>\n",
       "      <td>NaN</td>\n",
       "      <td>NaN</td>\n",
       "      <td>NaN</td>\n",
       "      <td>7.0</td>\n",
       "      <td>мелодрама,комедия</td>\n",
       "      <td>NaN</td>\n",
       "    </tr>\n",
       "    <tr>\n",
       "      <td>4639</td>\n",
       "      <td>Иоанна - женщина на папском престоле /По роман...</td>\n",
       "      <td>221154310</td>\n",
       "      <td>2010-12-17 12:00:00</td>\n",
       "      <td>Художественный</td>\n",
       "      <td>Константин Фильм, А Эр Ди Дегето Фильм, Дюне ...</td>\n",
       "      <td>Германия - Великобритания - Италия - Испания</td>\n",
       "      <td>Зенке Вортманн</td>\n",
       "      <td>Оливер Бербен, Дорис Д.Хайнце, Фарук Элтан</td>\n",
       "      <td>«16+» - для детей старше 16 лет</td>\n",
       "      <td>NaN</td>\n",
       "      <td>NaN</td>\n",
       "      <td>NaN</td>\n",
       "      <td>NaN</td>\n",
       "      <td>7.6</td>\n",
       "      <td>драма,мелодрама,история</td>\n",
       "      <td>NaN</td>\n",
       "    </tr>\n",
       "    <tr>\n",
       "      <td>5067</td>\n",
       "      <td>Анализируй это!</td>\n",
       "      <td>221054410</td>\n",
       "      <td>2010-05-25 12:00:00</td>\n",
       "      <td>Художественный</td>\n",
       "      <td>Уорнер Бразерс, Вилладж Роудшоу Филмз ЛТД</td>\n",
       "      <td>США-Австралия</td>\n",
       "      <td>ХЭрольд Рэмис</td>\n",
       "      <td>Джейн Розенталь, Пола Уейнстейн</td>\n",
       "      <td>«16+» - для детей старше 16 лет</td>\n",
       "      <td>NaN</td>\n",
       "      <td>NaN</td>\n",
       "      <td>NaN</td>\n",
       "      <td>NaN</td>\n",
       "      <td>7.4</td>\n",
       "      <td>комедия,криминал</td>\n",
       "      <td>NaN</td>\n",
       "    </tr>\n",
       "    <tr>\n",
       "      <td>5068</td>\n",
       "      <td>Анализируй то!</td>\n",
       "      <td>221054410</td>\n",
       "      <td>2010-05-25 12:00:00</td>\n",
       "      <td>Художественный</td>\n",
       "      <td>Уорнер Бразерс, Виллидж Роадшоу Пикчерз, Эн-Пи...</td>\n",
       "      <td>США</td>\n",
       "      <td>Гарольд Реймис</td>\n",
       "      <td>Джейн Розенталь, Паул Уэйнстейн</td>\n",
       "      <td>«12+» - для детей старше 12 лет</td>\n",
       "      <td>NaN</td>\n",
       "      <td>NaN</td>\n",
       "      <td>NaN</td>\n",
       "      <td>NaN</td>\n",
       "      <td>6.8</td>\n",
       "      <td>комедия,криминал</td>\n",
       "      <td>NaN</td>\n",
       "    </tr>\n",
       "  </tbody>\n",
       "</table>\n",
       "</div>"
      ],
      "text/plain": [
       "                                                  title   puNumber  \\\n",
       "4638                   Как жениться и остаться холостым  221154310   \n",
       "4639  Иоанна - женщина на папском престоле /По роман...  221154310   \n",
       "5067                                    Анализируй это!  221054410   \n",
       "5068                                     Анализируй то!  221054410   \n",
       "\n",
       "         show_start_date            type  \\\n",
       "4638 2010-12-17 12:00:00  Художественный   \n",
       "4639 2010-12-17 12:00:00  Художественный   \n",
       "5067 2010-05-25 12:00:00  Художественный   \n",
       "5068 2010-05-25 12:00:00  Художественный   \n",
       "\n",
       "                                            film_studio  \\\n",
       "4638  Ше Вам, Скрипт Ассосье, Тэ Фэ 1 Фильм Продюксь...   \n",
       "4639   Константин Фильм, А Эр Ди Дегето Фильм, Дюне ...   \n",
       "5067          Уорнер Бразерс, Вилладж Роудшоу Филмз ЛТД   \n",
       "5068  Уорнер Бразерс, Виллидж Роадшоу Пикчерз, Эн-Пи...   \n",
       "\n",
       "                                production_country        director  \\\n",
       "4638                                       Франция    Эрик Лартиго   \n",
       "4639  Германия - Великобритания - Италия - Испания  Зенке Вортманн   \n",
       "5067                                 США-Австралия   ХЭрольд Рэмис   \n",
       "5068                                           США  Гарольд Реймис   \n",
       "\n",
       "                                        producer  \\\n",
       "4638                     Амандин Било, Алан Шаба   \n",
       "4639  Оливер Бербен, Дорис Д.Хайнце, Фарук Элтан   \n",
       "5067             Джейн Розенталь, Пола Уейнстейн   \n",
       "5068             Джейн Розенталь, Паул Уэйнстейн   \n",
       "\n",
       "                      age_restriction  refundable_support  \\\n",
       "4638  «16+» - для детей старше 16 лет                 NaN   \n",
       "4639  «16+» - для детей старше 16 лет                 NaN   \n",
       "5067  «16+» - для детей старше 16 лет                 NaN   \n",
       "5068  «12+» - для детей старше 12 лет                 NaN   \n",
       "\n",
       "      nonrefundable_support  budget financing_source  ratings  \\\n",
       "4638                    NaN     NaN              NaN      7.0   \n",
       "4639                    NaN     NaN              NaN      7.6   \n",
       "5067                    NaN     NaN              NaN      7.4   \n",
       "5068                    NaN     NaN              NaN      6.8   \n",
       "\n",
       "                       genres  box_office  \n",
       "4638        мелодрама,комедия         NaN  \n",
       "4639  драма,мелодрама,история         NaN  \n",
       "5067         комедия,криминал         NaN  \n",
       "5068         комедия,криминал         NaN  "
      ]
     },
     "execution_count": 22,
     "metadata": {},
     "output_type": "execute_result"
    }
   ],
   "source": [
    "data.query('puNumber == 221154310 | puNumber == 221054410')"
   ]
  },
  {
   "cell_type": "markdown",
   "metadata": {},
   "source": [
    "Судя по всему, была допущена опечатка, поскольку фильмы под этими номерами различны и существуют. Уберем их из датасета, к этим фильмам нет информации о сборах, так что в исследовании они нам не сильно помогут."
   ]
  },
  {
   "cell_type": "code",
   "execution_count": 23,
   "metadata": {},
   "outputs": [],
   "source": [
    "data.drop(labels = [4638, 4639, 5067, 5068], inplace = True)"
   ]
  },
  {
   "cell_type": "markdown",
   "metadata": {
    "id": "52fOPrEBgFyQ"
   },
   "source": [
    "#### Шаг 2.4. Изучите категориальные значения\n",
    "\n",
    "- Посмотрите, какая общая проблема встречается почти во всех категориальных столбцах;\n",
    "- Исправьте проблемные значения в поле `type`.\n",
    "\n",
    "<div id=\"accordion\">\n",
    "    <div class=\"card\">\n",
    "        <div class=\"card-header\" id=\"headingThree\">\n",
    "            <button class=\"btn btn-link collapsed\" data-toggle=\"collapse\" data-target=\"#collapseHint_1\" aria-expanded=\"false\" aria-controls=\"collapseHint_1\">Подсказка</button>\n",
    "        </div>\n",
    "        <div id=\"collapseHint_1\" class=\"collapse\" aria-labelledby=\"headingThree\" data-parent=\"#accordion\">\n",
    "            <div class=\"card-body\">\n",
    "В поле <code>type</code> есть несколько значений, у которых появился пробел в начале строки. Самый простой способ их «починить» -- использовать метод <a href=\"https://pandas.pydata.org/docs/reference/api/pandas.Series.str.strip.html#pandas.Series.str.strip\">.str.strip</a>. Этот метод удаляет все пробелы, которые встречаются в начале и в конце строки. Применяют его таким образом:<br>\n",
    "<code>df['type'].str.strip()</code>\n",
    "            </div>\n",
    "        </div>\n",
    "    </div>\n",
    "</div>"
   ]
  },
  {
   "cell_type": "code",
   "execution_count": 24,
   "metadata": {
    "id": "PnXKIVdFgFyR"
   },
   "outputs": [
    {
     "data": {
      "text/plain": [
       "array(['Художественный', 'Анимационный', 'Прочие', 'Документальный',\n",
       "       'Научно-популярный', ' Художественный', ' Анимационный',\n",
       "       'Музыкально-развлекательный'], dtype=object)"
      ]
     },
     "execution_count": 24,
     "metadata": {},
     "output_type": "execute_result"
    }
   ],
   "source": [
    "data['type'].unique()"
   ]
  },
  {
   "cell_type": "code",
   "execution_count": 25,
   "metadata": {},
   "outputs": [],
   "source": [
    "data['type'] = data['type'].str.strip()"
   ]
  },
  {
   "cell_type": "code",
   "execution_count": 26,
   "metadata": {
    "scrolled": true
   },
   "outputs": [
    {
     "data": {
      "text/plain": [
       "array(['Художественный', 'Анимационный', 'Прочие', 'Документальный',\n",
       "       'Научно-популярный', 'Музыкально-развлекательный'], dtype=object)"
      ]
     },
     "execution_count": 26,
     "metadata": {},
     "output_type": "execute_result"
    }
   ],
   "source": [
    "data['type'].unique()"
   ]
  },
  {
   "cell_type": "code",
   "execution_count": 27,
   "metadata": {},
   "outputs": [
    {
     "data": {
      "text/plain": [
       "array(['США', 'СССР', 'Франция', 'СССР, Венгрия',\n",
       "       'Германия-Великобритания', 'Великобритания - Италия',\n",
       "       'Чехословакия', 'США - Франция - Турция', 'Новая Зеландия',\n",
       "       'Канада - Франция - Испания', 'США-Германия',\n",
       "       'США - Великобритания', 'Великобритания', 'США - Германия',\n",
       "       'Франция - Мексика - США', 'Россия, Казахстан, США',\n",
       "       'СССР, Швеция', 'СССР, Франция, Англия, Куба, ГДР', 'Германия',\n",
       "       'Великобритания-США-Германия-КНР',\n",
       "       'СССР, ЧССР, Западный Берлин, ПНР', 'СССР, Италия', 'Гонконг, КНР',\n",
       "       'США - Франция', 'США - Япония - Франция - Великобритания',\n",
       "       'Гонконг - Сингапур - Таиланд - Великобритания', 'США-Канада',\n",
       "       'Франция - Италия - Великобритания - США', 'Франция - США',\n",
       "       'Ирландия-Великобритания-Германия', 'Чехия', 'США-Австралия',\n",
       "       'СССР, Финляндия', 'США-Франция-Великобритания-Австрия',\n",
       "       'США - Бельгия', 'США - Ирландия - Великобритания',\n",
       "       'Великобритания - США',\n",
       "       'Люксембург - Нидерланды - Испания - Великобритания - США - Италия',\n",
       "       'Великобритания - Франция - США', 'Новая Зеландия - США',\n",
       "       'США - Великобритания - Чехия',\n",
       "       'Канада - Франция - Великобритания', 'Ирландия',\n",
       "       'Великобритания - Германия - США',\n",
       "       'США - Франция - Великобритания', 'Япония', 'СССР, Польша',\n",
       "       'Франция - Испания', 'Канада-Франция', 'Германия - Италия - США',\n",
       "       'Аргентина - Бразилия', 'Дания - Швейцария - Бельгия - Франция',\n",
       "       'США - Испания', 'Германия - США',\n",
       "       'Франция - Австрия - Германия - Италия - США', 'Австрия',\n",
       "       'США - Канада - Германия', 'США - Канада',\n",
       "       'СССР - Швейцария - Франция', 'Россия - Казахстан', 'Гонконг',\n",
       "       'Италия', 'США - ОАЭ', 'Россия',\n",
       "       'США - Франция - Испания - Великобритания',\n",
       "       'Великобритания - Франция', 'США-Италия-Испания-Аргентина',\n",
       "       'Франция-Великобритания', 'КНР - Гонконг',\n",
       "       'Франция - Италия - Швейцария', 'США - Новая Зеландия',\n",
       "       'Франция - Бельгия', 'КНР', 'Германия - Великобритания - Австрия',\n",
       "       'Великобритания - Израиль - Франция - Япония - США', 'Швеция',\n",
       "       'Испания', 'Дания', 'Франция - Бельгия - Люксембург',\n",
       "       'США - Индия - ОАЭ',\n",
       "       'Германия-Канада-Великобритания-Швейцария-Франция',\n",
       "       'Мексика - Чили', 'Аргентина', 'Бразилия', 'Чили', 'Австралия',\n",
       "       'Португалия - Франция', 'США - ЮАР', 'Исландия-Ирландия-Германия',\n",
       "       'США-Индонезия', 'Южная Корея', 'Мексика - Испания - Дания - США',\n",
       "       'Великобритания-США', 'Франция - Италия', 'США-Франция',\n",
       "       'США - Венгрия - Великобритания', 'Бельгия-Франция-Италия',\n",
       "       'Чехия - Германия', 'Германия - Франция', 'США-Нидерланды',\n",
       "       'Украина', 'Великобритания - Германия', 'Франция-Бельгия',\n",
       "       'США-Франция-Испания', 'Италия - Франция', 'Канада',\n",
       "       'Швеция-Франция-Дания', 'Германия-Франция-Польша',\n",
       "       'Франция-Великобритания - Германия',\n",
       "       'США - Бразилия - Франция - Австралия - Великобритания - Германия',\n",
       "       'Германия-Австрия', 'Германия-Италия- Шри-Ланка',\n",
       "       'Великобритания - Испания',\n",
       "       'США - Великобритания - Канада - Швеция',\n",
       "       'Босния и Герцеговина - Франция - Великобритания - Германия - Словения - Бельгия - Сербия',\n",
       "       'Великобритания - Франция - Италия - США', 'США-ОАЭ',\n",
       "       'Испания - Франция', 'США-Великобритания', 'США-ЮАР',\n",
       "       'Великобритания-Австралия - США',\n",
       "       'Норвегия - Швеция - Дания - Германия', 'Норвегия', 'Швейцария',\n",
       "       'Греция - Германия - Франция', 'Норвения', 'Южная Корея - США',\n",
       "       'Чили - Франция - США', 'Австрия - Германия - Франция',\n",
       "       'Швеция - Дания', 'Великобритания - Франция - Бельгия - Италия',\n",
       "       'Франция - Германия', 'Грузия - Франция - Люксембург',\n",
       "       'США - Франция - Великобритания - Бразилия ', 'США - КНР',\n",
       "       'Мексика - Франция', 'США - Германия - Гонконг - Сингапур',\n",
       "       'Финляндия - Австрия - Россия', 'Испания - Куба',\n",
       "       'Великобритания - ЮАР', 'Великобритания - Ирландия', 'Израиль',\n",
       "       'Бразилия - Германия - Порртугалия - Франция ',\n",
       "       'Франция - Канада - Бельгия', 'Франция-Испания',\n",
       "       'Испания - Канада - Япония', 'Иран', 'Швеция-Куба',\n",
       "       'США-Великобритания-Ирландия', 'Гонконг - КНР', 'Нидерланды',\n",
       "       'Испания - Канада', 'Япония-Великобритания',\n",
       "       'Великобритания - Норвегия - Дания - Германия',\n",
       "       'Финляндия - Франция - Германия',\n",
       "       'Мексика - Франция - Нидерланды - Германия', 'США - Индия',\n",
       "       'США-Великобритания-Индия', 'США-Канада-Бельгия',\n",
       "       'Республика Узбекистан', 'Италия ', 'Турция',\n",
       "       'Сербия - Словения - Хорватия - Черногория - Македония',\n",
       "       'Киргизия', 'Германия - Нидерланды - Беларусь - Россия - Латвия',\n",
       "       'Индия', 'Нидерланды - Россия - Германия',\n",
       "       'Великобритания - Нидерланды - Франция - Хорватия',\n",
       "       'Канада - Южная Корея',\n",
       "       'Великобритания - Польша - КНР - Индия - Норвегия',\n",
       "       'Япония - Франция - США - Южная Корея - Турция',\n",
       "       'Мексика - Аргентина - Великобритания', 'Израиль - Франция',\n",
       "       'Польша - Португалия - Франция - Великобритания',\n",
       "       'Австралия - США', 'США - Великобритания ',\n",
       "       'Франция - Люксембург - Бельгия', 'Армения',\n",
       "       'Бельгия - Люксембург - Франция - Швейцария',\n",
       "       'США - Великобритания - Канада', 'Норвегия - Швеция',\n",
       "       'Канада - Франция', 'КНР - Гонконг - США',\n",
       "       'США - Сингапур - Малайзия - Индонезия', 'Германия - Россия',\n",
       "       'Япония - Канада', 'Финляндия - Дания - Германия - Ирландия',\n",
       "       'Франция - Люксембург - Германия - Бельгия - Швейцария - Великобритания ',\n",
       "       'Канада - США', 'США-Италия-Испания', 'США-Испания',\n",
       "       'США - Швейцария - Франция', 'Испания - США - Колумбия',\n",
       "       'Канада-ЮАР', 'Франция - Россия',\n",
       "       'Германия - Финляндия - Австралия', 'Дания - Швеция', 'Бельгия',\n",
       "       'Германия - Франция - Австрия', 'Франция-Индия', 'ЮАР',\n",
       "       'Франция-Перу', 'Франция - Канада', 'Республика Беларусь',\n",
       "       'Великобритания - Австрия - Франция - США',\n",
       "       'Австрия-Германия-Франция', 'США-Россия', 'Германия-США',\n",
       "       'США - Южная Корея', 'Канада - КНР',\n",
       "       'Дания - Швеция - Италия - Франция - Германия',\n",
       "       'Франция-Италия-Испания-Венгрия', 'Франция - Германия - Бельгия',\n",
       "       'Франция-Великобритания-Чехия', 'Румыния - Франция - Бельгия',\n",
       "       'Болгария - Франция - Изриль',\n",
       "       'Израиль - Германия - Польша - Бельгия - Франция - Люксембург',\n",
       "       'Россия, Германия, Франция, Бельгия', 'Индонезия',\n",
       "       'Франция - Португалия', 'Великобритания - Пуэрто-Рико',\n",
       "       'СССР, ФРГ, Западный Берлин', 'Россия, Республика Беларусь',\n",
       "       'США, Великобритания', 'Франция - Австрия', 'Бельгия-Нидерланды',\n",
       "       'Великобритания - США - Индия', 'США - Великобритания - Австралия',\n",
       "       'Канада - Франция - США - ОАЭ - Великобритания',\n",
       "       'США - Австралия - Франция',\n",
       "       'Дания-Франция-Бельгия-Германия-Великобритания',\n",
       "       'Испания - Аргентина', 'Исландия - Финляндия',\n",
       "       'Россия-Польша-Голландия-Словакия', 'Дания - Германия - Швеция',\n",
       "       'Южная Корея - США - Канада', 'Таиланд', 'США-Мальта',\n",
       "       'США -Германия',\n",
       "       'Великобритания - Германия - Франция - Кипр - США', 'Мексика',\n",
       "       'США - Великобритания - Ирландия', 'США - Украина',\n",
       "       'США - Финляндия - Испания - Великобритания - Франция',\n",
       "       'Австралия-Великобритания',\n",
       "       'США - Канада - Афганистан - Бельгия - Франция',\n",
       "       'США - Великобритания - Германия - Новая Зеландия - Бельгия - Франция',\n",
       "       'Франция-Канада',\n",
       "       'Ирландия - Финляндия - Бельгия - Великобритания - США - Швейцария',\n",
       "       'Малайзия - США', 'Германия - Италия',\n",
       "       'США - Франция - Бельгия - Италия', 'Франция - Ирландия - Швеция',\n",
       "       'Азербайджан-Россия', 'Великобритания - Италия - Швейцария',\n",
       "       'США - Германия - Великобритания',\n",
       "       'Германия - Бельгия - США -Франция', 'США-Китай', 'Чили - Испания',\n",
       "       'Франция - Швейцария', 'Канада - Испания',\n",
       "       'США - Румыния - Великобритания', 'США - Япония',\n",
       "       'США - Россия - Франция', 'Франция-США', 'Парагвай',\n",
       "       'Германия - Канада', 'США - Канада - Великобритания',\n",
       "       'Финляндия - Канада', 'Уругвай-Мексика-Германия ', 'США - Чили',\n",
       "       'Германия - Аргентина - Нидерланды - Чили',\n",
       "       'США - Канада - Индонезия', 'Армения - Казахстан', 'Финляндия',\n",
       "       'Испания - Италия - Франция',\n",
       "       'Бельгия - Испания - Канада - Нидерланды',\n",
       "       'Великобритания - Франция - Швеция - Бельгия',\n",
       "       'Мексика - Эквадор - Канада - США - Франция - Малайзия - Италия - Аргентина - Германия - Индия  ',\n",
       "       'Франция - Бенльгия', 'Индия - Великобритания',\n",
       "       'Япония - Великобритания - Франция',\n",
       "       'Испания - Уругвай - Аргентина',\n",
       "       'Франция - Италия - Бельгия - Люксембург',\n",
       "       'Франция - Украина - Грузия - Армения',\n",
       "       'Сербия - Германия - Венгрия', 'Франция-Польша', 'Франция ',\n",
       "       'Румыния-США', 'Россия-Азербайджан',\n",
       "       'США - Нидерланды - Бельгия - Венгрия - Греция - Канада',\n",
       "       'Германия - Франция - Люксембург', 'США - Россия',\n",
       "       'Великобритания - США - Франция', 'США - Австралия - Дания',\n",
       "       'Бельгия-Франция', 'США-Мексика',\n",
       "       'Норвегия - Азербайджан - Россия - Колумбия - Великобритания - Венгрия - Румыния - Франция - Грузия',\n",
       "       'СЩА', 'Бразилия - Испания', 'Россия, Франция, Латвия',\n",
       "       'Нидерланды - США - Германия - Канада - Франция - Ирландия - Великобритания',\n",
       "       'Уругвай - Колумбия', 'США - Испания - Болгария',\n",
       "       'Армения - Германия', 'США - Великобритания- Франция - Швеция',\n",
       "       'США - Мексика', 'Австралия-Турция-США', 'Швеция - Германия',\n",
       "       'Польша - Италия - Россия', 'Франция - Бразилия',\n",
       "       'США - Канада - КНР', 'СССР, Венгрия, ЧССР, ГДР',\n",
       "       'Бельгия - Германия - Люксембург', 'СССР  ', 'СССР ', ' СССР ',\n",
       "       'США - Австралия', 'Бразилия - США',\n",
       "       'США - Великобритания - Канада - КНР', 'Франция - Чили',\n",
       "       'Франция - США - Великобритания - Колумбия - Бельгия - Россия',\n",
       "       'Дания - Великобритания - ЮАР', 'СССР   ',\n",
       "       'Россия-США-Канада-Люксембург', 'Россия - Республика Кипр',\n",
       "       'Германия - США - Швеция - Франция',\n",
       "       'Великобритания-Германия-Канада-ЮАР', ' СССР   ', 'СССР     ',\n",
       "       'Ирландия, Канада',\n",
       "       'Япония - Великобритания - Швейцария - Ирландия - Дания - Франция - Польша - Австралия - Канада  ',\n",
       "       'Великобритания, Канада', 'Бельгия - США',\n",
       "       'Великобритания - США - Россия', 'Россия-Украина',\n",
       "       'Германия - США - Великобритания - Израиль', 'Канада - Германия',\n",
       "       'США- Ю.Корея', 'Индия - Мексика',\n",
       "       'Великобритания - Франция - Республика Кипр - Швейцария - США - Сербия',\n",
       "       'Испания - Аргентина - Индия - США',\n",
       "       'Норвегия - Исландия - США - Великобритания ',\n",
       "       'Турция - Германя - Франция', 'Германия - Великобритания',\n",
       "       'Австралия - Германия', 'Мексика - Испания',\n",
       "       'Великобритания - США - Германия - Бельгия',\n",
       "       'США - Чехия - Франция', 'Россия - Италия', 'Франция-Россия',\n",
       "       'Норвегия - Дания - Швеция', 'Франция - Швейцария - Германия',\n",
       "       'Грузия - Украина', 'Россия - Эстония - Финляндия - Беларусь',\n",
       "       'США - Франция - ЮАР', 'Великобритания - США - Швейцария',\n",
       "       'Канада-США', 'Мексика - Нидерланды - Германия - Франция',\n",
       "       'США - Испания - Франция', 'США - Великобритания - КНР',\n",
       "       'США-Франция-Канада',\n",
       "       'Япония, Великобритания, Австрия, Германия, Ю.Корея',\n",
       "       'Великобритания - Ирландия - США', 'Бельгия - Италия - Франция ',\n",
       "       'Швейцария-Германия-ЮАР', 'Великобритания - США - Германия',\n",
       "       'Германия - Исландия', 'Испания - США', 'СССР    ', 'Хорватия',\n",
       "       'Финляндия - Исландия - Швеция',\n",
       "       'Канада - США - Германия - Франция',\n",
       "       'США - Великобритания - Испания', 'Ирландия-Великобритания',\n",
       "       'Аргентина - Испания', 'Австрия - Германия', ' СССР',\n",
       "       'Германия - Швейцария - Франция - Южная Корея - США',\n",
       "       'Украина - Нидерланды', 'Венгрия - Германия - Швеция',\n",
       "       'Германия - Франция -  Польша - Турция - Канада - Италия - Россия ',\n",
       "       'СССР, Афганистан', 'СССР, Монголия', 'Россия-Кипр',\n",
       "       'Россия, Грузия, Испания',\n",
       "       'Великобритания - Нидерланды - Германия - Франция - Бельгия - Австрия ',\n",
       "       'Испания - Великобритания - Франция',\n",
       "       'Дания - Норвегия - Великобритания',\n",
       "       'Бельгия - Франция - Люксембург',\n",
       "       'Италия - Франция - Швейцария - Великобритания',\n",
       "       'Франция - Бельгия - Великобритания - Испания - Германия - США',\n",
       "       'Швейцария - Израиль - Франция - Великобритания',\n",
       "       'Великобритания - США - Канада - Нидерланды - Франция',\n",
       "       'Россия, Италия', 'СССР, Албания',\n",
       "       'Россия, Украина, Республика Беларусь, Литва',\n",
       "       'Финляндия - Великобритания - Германия', 'Россия, Украина, Польша',\n",
       "       'Франция - Италия - Бельгия - КНР',\n",
       "       'Германия - Бельгия - Люксембург - Ирландия', 'КНР - Сингапур',\n",
       "       'Франция - Бельгия - Великобритания - США - Нидерланды - Канада',\n",
       "       'США - Россия - Польша - Германия - Пуэрто Рико',\n",
       "       'Франция - Бельгия - Канада', 'США ', 'Мексика - США',\n",
       "       'США - Гонконг - КНР ', 'Греция - Россия',\n",
       "       'Ирландия - Дания - Бельгия - Люксембург - Франция',\n",
       "       'Эстония - Россия',\n",
       "       'Великобритания - Исландия - Испания - Швейцария - США',\n",
       "       'Австралия - Великобритания - Бельгия - Индия',\n",
       "       'Швеция - Германия - Франция - Норвегия',\n",
       "       'Нидерланды - Бельгия - Германия - Ирландия',\n",
       "       'Нидерланды - Великобритания - Бельгия',\n",
       "       'США - Колумбия - Испания', 'Франция-Испания-Бельгия-Панама',\n",
       "       'США-Великобритания-Чехия-Румыния',\n",
       "       'Аргентина - Уругвай - Россия - Германия - Франция - Нидерланды',\n",
       "       'Швеция - Франция - Норвегия - Дания',\n",
       "       'Италия-Франция-Великобритания', 'Великобритания, Франция',\n",
       "       'Австралия, США', 'Венесуэла',\n",
       "       'Великобритания - США - Австралия - Ирландия - Германия - Куба - Канада',\n",
       "       'Южная Корея - КНР',\n",
       "       'Аргентина - Мексика - Бразилия - Франция - США', 'Швеция - США',\n",
       "       'Франция - Германия - Турция - Катар', 'Франция-Китай',\n",
       "       'Россия, Германия, Великобритания',\n",
       "       'Великобритания - Италия - Испания', 'Италия - Россия',\n",
       "       'Япония - КНР - Южная Корея', 'Россия, Германия',\n",
       "       'Россия-Ирландия', 'Македония - Франция - Великобритания',\n",
       "       'Франция - Бразилия - Италия', 'Россия-США', 'Армения-Россия',\n",
       "       'Россия, Румыния', 'Франция -  Бельгия', 'Грузия-Франция',\n",
       "       'ЮАР - США', 'Великобритания-США-Франция',\n",
       "       'Великобритания - США - Германия - Канада - Австралия',\n",
       "       'США-Ирландия', 'Россия, Республика Кипр',\n",
       "       'Германия - Люксембург - Франция', 'Россия-Франция',\n",
       "       'США - Нидерланды - Финляндия - Великобритания - Италия',\n",
       "       'Республика Кипр', 'Венгрия', 'Франция - США - Норвегия - Дания',\n",
       "       'Германия - Австрия - Ирландия', 'США - Финляндия',\n",
       "       'Италия-Великобритания', 'Россия, Испания',\n",
       "       'США - Великобритания - Болгария', 'Великобритания - Люксембург',\n",
       "       'Индия - США', 'США - Канада - Россия - Франция - Чили - Ирландия',\n",
       "       'Грузия-Россия',\n",
       "       'Дания - Австрия - Ирландия - Финляндия - Норвегия - Швеция - Нидерланды',\n",
       "       'США-КНР', 'Грузия', 'Австралия - Ирландия',\n",
       "       'Великобритания - Канада', 'Италия - Аргентина - Словения ',\n",
       "       'Испания - Франция - Нидерланды - Германия - Бельгия - Великобритания - Канада',\n",
       "       'Франция - Чехия - Бельгия',\n",
       "       'Великобритания - Франция - Германия - США',\n",
       "       'Ирландия - Великобритания - Франция - США - Германия - Нидерланды',\n",
       "       'США - Канада - Япония - КНР', 'Италия-Франция',\n",
       "       'США - Великобритания - Исландия', 'Великобритания-Франция',\n",
       "       'Франция - Германия - Нидерланды', 'Иран ',\n",
       "       'Франция - Германия - Швеция - США - Чехия - Словакия - Великобритания - Нидерланды',\n",
       "       'Франция - Канада - Н.Зеландия - США - Нидерланды - Германия - Швеция - Россия',\n",
       "       'Турция - США',\n",
       "       'Великобритания - США - Канада - Бельгия - Нидерланды - Австрия - Германия',\n",
       "       'Израиль - Франция - Германия - Палестина - США - Австрия - Великобритания',\n",
       "       'Аргентина - Франция - Испания', 'СССР, Россия',\n",
       "       'Великобритания - Франция - Италия - Индия - Дания - КНР - Бангладеш - Камбоджа - Гаити - Уганда',\n",
       "       'Италия - Франция - Швейцария',\n",
       "       'Ирландия - Великобритания - Канада', 'Перу', 'США - Норвегия',\n",
       "       'Испания-Канада', 'Китай-Гонконг', 'США - Германия - КНР',\n",
       "       'Великобритания - Новая Зеландия',\n",
       "       'Франция - Дания - Швеция - КНР',\n",
       "       'США - Великобритания - Германия - Бельгия - Дания',\n",
       "       'США - Франция - Канада - Германия - Австралия - Индия', nan,\n",
       "       'СССР, Румыния, Франция', 'СССР, ГДР', 'Австралия-Ирландия',\n",
       "       'США - Китай', 'Великобритания - Франция - Австрия - Швеция',\n",
       "       'Россия, Таджикистан', 'Нидерланды - Бельгия - Болгария',\n",
       "       'Великобритания - Канада - США', 'Франция - Бельгия - Испания',\n",
       "       'Китай-Гонконг-США', 'Франция - Великобритания', 'США - Вьетнам',\n",
       "       'США - Германия - Франция', 'Германия - Франция - Бельгия',\n",
       "       'США - Италия',\n",
       "       'Германия - Дания - Испания - Швеция - Канада - Эстония - Франция',\n",
       "       'Княжество Андорра - Украина', 'Германия - Люксембург - Бельгия',\n",
       "       'Великобритания - Россия - Украина - США',\n",
       "       'Германия - Бельгия - Люксембург - Норвегия',\n",
       "       'США - Австралия - Новая Зеландия - Великобритания',\n",
       "       'США - Франция - Канада - Великобритания', 'Испания-Колумбия',\n",
       "       'Великобритания - Чехия - Франция', 'Россия, Украина', 'Исландия',\n",
       "       'Великобритания - Франция - Венгрия',\n",
       "       'Россия, Франция, Германия, Бельгия', 'Франция - Македония',\n",
       "       'Нидерланды - Франция - Германия - Бельгия - Швеция - Великобритания',\n",
       "       'Испания - США - Великобритания - Канада', 'Германия - Австрия',\n",
       "       'Республика Казахстан',\n",
       "       'Франция - Испания - Дания - Венгрия - Швейцария', 'Франция-КНР',\n",
       "       'США - Пуэрто-Рико - Франция ', 'Мексика - Тайвань - США',\n",
       "       'Великобритания - Испания - Непал - Индия - Венгрия - Гонконг - Германия - Дания - Бахрейн',\n",
       "       'Великобритания - Аргентина - США - Франция - Россия - Испания',\n",
       "       'КНР - США', 'Италия - США', 'Финляндия - Швеция - Германия',\n",
       "       'Канада- Испания', 'Франция - Бельгия - Чехия',\n",
       "       'Франция-Бельгия-Канада', 'Франция - Германия - США',\n",
       "       'США - Дания', 'Индия - КНР', 'Чехия-Великобритания-США',\n",
       "       'США-ФРГ-Россия', 'Ирландия-Нидерланды-Франция-США-Великобритания',\n",
       "       'Россия, Грузия, Хорватия, Испания',\n",
       "       'Финляндия - Швеция - Норвегия', 'Сербия - Великобритания - США',\n",
       "       'США - Великобритания - Франция - Гонконг', 'Швейцария - Франция',\n",
       "       'Швейцария - Великобритания', 'ОАЭ - США',\n",
       "       'США - Франция - Германия - Канада - Австралия ',\n",
       "       'Германия - Австралия', 'Иран, Франция',\n",
       "       'США - Великобритания - Новая Зеландия', 'США-Колумбия',\n",
       "       'США-Франция-Ирландия', 'Великобритания - Франция - Бельгия',\n",
       "       'США - Великобритания - Япония', 'США - Франция - Германия',\n",
       "       'Польша - Ирландия', 'Ирландия - Великобритания - Франция - США',\n",
       "       'США - Бельгия - Великобритания', 'СССР, ВНР',\n",
       "       'Испания - Франция - США - Великобритания - Бельгия',\n",
       "       'Франция - Дания - США', 'США - Гонконг', 'Бразилия - К;анада',\n",
       "       'Франция-Германия', 'США - Колумбия',\n",
       "       'США - Ирландия - Великобритания - Франция',\n",
       "       'Великобритания - США - Канада', 'Польша - Франция',\n",
       "       'Канада - США - Нидерланды - Великобритания - Аргентина',\n",
       "       'Великобритания - Дания', 'Франция - Бельгия - Япония',\n",
       "       'Россия,  Испания', 'Франция -Бельгия',\n",
       "       'США - Канада - Германия - Франция', 'США-Канада-Франция',\n",
       "       'Россия - Германия', 'Россия-Италия', 'Китай - Гонконг',\n",
       "       'Германия-Австрия-Франция-Италия', 'США-Япония',\n",
       "       'США - Германия - Канада', 'Испания-Мексика',\n",
       "       'США - Япония - Канада - Великобритания - Германия - Франция',\n",
       "       'США -Великобритания - Австралия', 'Россия-Украина-Германия',\n",
       "       'Израиль - Франция - Великобритания - Германия', 'Корея',\n",
       "       'Россия - Болгария', 'США-Индия',\n",
       "       'Германия-Канада-Франция-Бельгия', 'Германия-Кения',\n",
       "       'Франция - Монако', 'Франция-Испания-Швейцария',\n",
       "       'Австрия-Франция-Германия', 'Румыния',\n",
       "       'США-Великобритания-Франция', 'Канада-Великобритания',\n",
       "       'Канада-Бразилия-Япония', 'Германия - Дания - Норвегия',\n",
       "       'Дания - Германия', 'СССР - Италия',\n",
       "       'СССР - ГДР - Польша - Италия',\n",
       "       'США - Испания - Франция - Великобритания', 'Китай',\n",
       "       'Мексика-Аргентина',\n",
       "       'Германия - Великобритания - Италия - Испания',\n",
       "       'Франция-Германия-Великобритания', 'Россия - Германия - Швейцария',\n",
       "       'Франция-Австралия', 'Голландия', 'Швейцария-Франция',\n",
       "       'Россия-Белоруссия', 'Франция - Испания - Тайвань',\n",
       "       'США-Южная Корея-Новая Зеландия', 'Великобритания-Венгрия',\n",
       "       'Россия-Германия', 'Великобритания-Франция-Германия',\n",
       "       'Франция-Германия-Италия', 'Швеция-Финляндия-Франция-Норвегия',\n",
       "       'Франция-Италия', 'Германия-Израиль',\n",
       "       'Швеция - Германия - Дания - Норвегия', 'США-Бельгия',\n",
       "       'Франция-Гонконг-Ирландия', 'Эстония', 'Литва-Россия-Украина',\n",
       "       'Германия - Италия - Франция',\n",
       "       'Великобритания - Австрия - Германия', 'Бельгия - Франция',\n",
       "       'Россия-Казахстан', 'Испания - Мальта',\n",
       "       'Франция-Россия-Румыния-Италия-Бельгия', 'Россия - Польша',\n",
       "       'Испания - Мексика', 'США-Аргентина', 'Великобритания ',\n",
       "       'Израиль-США-Франция', 'США - Новая Зеландия - Япония',\n",
       "       'Франция - Чехия - Великобритания', 'Россия-Польша',\n",
       "       'Германия-Франция-Великобритания', 'США-Германия-Канада',\n",
       "       'США-Гонконг-Китай', 'США - Великобритания - Германия',\n",
       "       'США-Канада-Австралия', 'Япония-США-Франция',\n",
       "       'Франция-Испания-Германия', 'США - Хорватия - Босния-Герцеговина',\n",
       "       'Великобритания - Чехия - Франция - Италия',\n",
       "       'США - Германия - Нидерланды', 'Германия - Франция - Канада',\n",
       "       'Франция-Грузия-Германия-Россия-Украина-Бельгия',\n",
       "       'Великобритания - Франция - Италия', 'Россия - США',\n",
       "       'Франция - Италия - Иран', 'Россия - Азербайджан', 'Греция',\n",
       "       'Дания - США', 'США-Великобритания-Новая Зеландия',\n",
       "       'США-Германия-Австралия', 'США-Канада-Италия',\n",
       "       'США - Япония - Германия', 'Австралия-США',\n",
       "       'Франция - Великобритания - Багамские острова - США',\n",
       "       'Швейцария - Люксембург', 'Швейцария - Австрия',\n",
       "       'Германия - Швейцария', 'Дания-Швеция-Франция-Германия', 'Польша',\n",
       "       'Швейцария-Австрия', 'Бразилия - Канада - США',\n",
       "       'Нидерланды - Россия', 'Португалия', 'Франция-Аргентина',\n",
       "       'Швеция-Франция', 'Франция-Украина', 'Германия-Украина-Нидерланды',\n",
       "       'Италия-Швейцария', 'США-Германия-Великобритания',\n",
       "       'Латвия - Россия', 'Германия-Франция-Великобритания-США',\n",
       "       'Канада - Италия', 'США - Объединенные Арабские Эмираты',\n",
       "       'США-Венгрия', 'Малайзия', 'Россия - Германия - Украина',\n",
       "       'США - Австралия - Мексика', 'Литва - Венгрия', 'Германия - Китай',\n",
       "       'Казахстан', 'Республика Корея',\n",
       "       'США - Германия - Франция - Великобритания - Канада ',\n",
       "       'Бельгия - Германия - Люксембург - Франция', 'Франция - Греция',\n",
       "       'Италия - Канада', 'США - Великобритания - Франция',\n",
       "       'США-Италия-Греция', 'Германия - США - Великобритания - Ирландия',\n",
       "       'Великобритания - Франция - Германия',\n",
       "       'Германия - Нидерланды - ЮАР',\n",
       "       'США-Япония-Германия-Великобритания-Нидерланды',\n",
       "       'США-Япония-Германия-Великобритания',\n",
       "       'Германия - Франция - Польша',\n",
       "       'Таиланд-Великобритания-Франция-Германия-Испания-Нидерланды',\n",
       "       'Германия-Италия-Швейцария',\n",
       "       'Дания - Швеция - Великобритания - Франция - Германия - Нидерланды - Норвегия - Финляндия',\n",
       "       'Франция - Великобритания - Нидерланды - Люксембург',\n",
       "       'Нидерланды-Великобритания-Франция-Италия-Япония',\n",
       "       'Финляндия-Дания-Германия-Ирландия', 'Испания-Аргентина',\n",
       "       'Великобритания - Нидерланды - Франция - США', 'Канада - Мексика',\n",
       "       'США, Франция', 'Канада-Южная Корея-США',\n",
       "       'Великобритания - Франция - Бельгия - США', 'КНР - Канада - США',\n",
       "       'Италия - Франция - Германия',\n",
       "       'Швеция - Германия - Франция - Дания', 'Франция - США - Бельгия',\n",
       "       'Украина - Германия - Латвия - Эстония', 'Австрия - Люксембург',\n",
       "       'Великобритания - КНР', 'Монголия', 'Франция - Дания',\n",
       "       'Швеция - Дания - Финляндия',\n",
       "       'Сингапур - Великобритания - Индонезия - Канада - США',\n",
       "       'США - Германия - Япония', 'Таиланд - США', 'Франция - Нидерланды',\n",
       "       'Великобритания - Румыния', 'США - Мальта',\n",
       "       'Великобритания - Германия - Нидерланды - Дания',\n",
       "       'Франция - Германия - Литва - Нидерланды - Россия',\n",
       "       'США - ЮАР - Гонконг', 'Австралия - Колумбия',\n",
       "       'Великобритания - Польша', 'США - Великобритания - Швеция',\n",
       "       'Франция - Швеция - Дания - Норвегия', 'Болгария - США',\n",
       "       'СССР, ФРГ', 'Бельгия - Нидерланды - Франция',\n",
       "       'Финляндия - Германия', 'Болгария',\n",
       "       'Грузия - Россия - Украина - Хорватия - Германия',\n",
       "       'Франция - Люксембург', 'Франция - Германия - Австрия',\n",
       "       'Норвегия - США', 'Германия-Швеция', 'Франция - Германия - Италия',\n",
       "       'Франция-Германия-Австрия', 'КНР-США',\n",
       "       'Великобритания - Ирландия - США ',\n",
       "       'Дания - Латвия - Россия - США', 'Финляндия - Польша',\n",
       "       'Германия - Бельгия', 'Германия - США - Франция - Испания',\n",
       "       'Бельгия-Германия-Канада-Франция-США-Великобритания',\n",
       "       'Нидерланды - Бельгия - Люксембург', 'Канада-Германия',\n",
       "       'Люксембург - Бельгия - Франция', 'США-Великобритания-Австралия',\n",
       "       'Великобритания, Новая Зеландия', 'Бельгия, Великобритания, США',\n",
       "       'Великобритания, Австралия', 'Исландия, Бельгия',\n",
       "       'Испания - Швейцария - Великобритания - Германия - Новая Зеландия - Нидерланды - Канада',\n",
       "       'Франция, Бельгия', 'Великобритания, США', 'Киргизия-Россия',\n",
       "       'Германия, США', 'Великобритания, США, Испания',\n",
       "       'Италия - Швейцария - Германия', 'Россия, Армения',\n",
       "       'Франция, Германия', 'Китай, Канада, США', 'Германия, Австралия',\n",
       "       'КНР, США', 'США, Великобритания, Люксембург',\n",
       "       'Испания, Ирландия, Бельгия, Франция',\n",
       "       'Великобритания - Гонконг - Венгрия - США - Ирландия',\n",
       "       'США - Пуэрто Рико', 'Аргентина - Испания - Уругвай',\n",
       "       'Израиль - Германия - Франция - Швейцария',\n",
       "       'Великобритания - Мексика - США', 'Испания - Болгария - США',\n",
       "       'Россия-Словакия-Чехия',\n",
       "       'Швейцария - КНР - США - Россия - Республика Корея - Великобритания',\n",
       "       'Россия, Нидерланды, Финляндия',\n",
       "       'Испания - Бельгия - Франция - Португалия - Великобритания',\n",
       "       'Бразилия - Португалия - Франция', 'Швеция - Норвегия',\n",
       "       'Франция - Польша - Бельгия', 'CША', 'Китай, США',\n",
       "       'Италия, Франция, Германия', 'Германия - Австрия - Франция',\n",
       "       'Чехия - Словакия - Хорватия', 'Россия, Польша, Финляндия',\n",
       "       'Россия, Латвия, Чешская Республика',\n",
       "       'Франция - Великобритания - Камбоджа - США - КНР',\n",
       "       'Чехия - Испания - США', 'Германия - Люксембург - Дания',\n",
       "       'Великобритания - Испания - Германия', 'Дания - Исландия',\n",
       "       'Германия, Франция, Великобритания',\n",
       "       'Великобритания - Испания - Италия - Латвия - Франция - Эстония',\n",
       "       'Дания, Швеция, Великобритания, Франция, Германия, Норвегия, Финляндия, Нидерланды, Италия',\n",
       "       'Польша - Франция - Великобритания',\n",
       "       'Дания, Норвегия, Венгрия, Чехия',\n",
       "       'Дания - Франция - Германия - Швеция',\n",
       "       'Великобритания, Швеция, США',\n",
       "       'Канада, Франция, Италия, Швейцария, США', 'США, Индия',\n",
       "       'США - Великобритания - Германия - - Швеция - Канада',\n",
       "       'Италия, Франция', 'Республика Беларусь, Германия, США, Россия',\n",
       "       'Италия-Швейцария-Франция-Германия ',\n",
       "       'Россия - Франция - Великобритания - Латвия', 'Россия-Беларусь',\n",
       "       'Франция - Испания - Румыния - США - Бельгия', 'Италия-США',\n",
       "       'Россия, Австрия', 'Ирландия - Великобритания - США',\n",
       "       'Швейцария, Великобритания, Франция, США, Ирландия',\n",
       "       'Мексика, Франция, Германия, Дания, Швеция', 'Нидерланды, Бельгия',\n",
       "       'Швеция, Норвегия, Финляндия, Франция', 'Испания, Франция, Италия',\n",
       "       'Испания-Франция-Греция-Индия-США-Россия-Великобритания',\n",
       "       'Великобритания - Япония - США',\n",
       "       'Дания, Канада, Норвегия, Австралия, США', 'Аргентина, Испания',\n",
       "       'Россия, Германия, Казахстан, Польша, Китай',\n",
       "       'Португалия, Франция, Польша, США', 'США - Канада - Аргентина',\n",
       "       'Ливан-США', 'Япония - США', 'США, Гонконг ',\n",
       "       'Франция - Россия - Швейцария - Румыния - Венгрия',\n",
       "       'Аргентина-Испания', 'Россия, Сербия', 'США - Болгария - Мексика',\n",
       "       'США - Великобритания - Швейцария - Франция',\n",
       "       'Таиланд - КНР - США',\n",
       "       'Великобритания, Нидерланды, Польша, Швейцария, Франция',\n",
       "       'Ирландия - США',\n",
       "       'Германия - Франция - Великобритания - Польша - США',\n",
       "       'Великобритания-Франция-Италия', 'США - Австралия - Индия',\n",
       "       'Франция - КНР', 'Великобритания - Израиль',\n",
       "       'Великобритания - Норвегия - Кения - Хорватия',\n",
       "       'США - Бразилия - Великобритания - Канада', 'Германия, Бельгия',\n",
       "       'Австралия, Канада', 'США, Великобритания, Франция',\n",
       "       'Кения, Германия', 'Нидерланды, Бельгия, Люксембург', 'Колумбия',\n",
       "       'Латвия - Франция', 'Ирландия, Великобритания',\n",
       "       'Франция - Израиль - Германия', 'Швеция, Франция, Великобритания',\n",
       "       'Бельгия - Люксембург', 'Германия - Бельгия - Великобритания',\n",
       "       'Испания, Франция, Великобритания, Дания, Бельгия, Германия',\n",
       "       'Румыния, ЮАР, Иран, Франция, Канада, Великобритания',\n",
       "       'Германия, Франция', 'США, Япония',\n",
       "       'США, Великобритания, Ирландия, Люксембург', 'Республика Армения',\n",
       "       'США, Франция, Япония', 'Япония, США', 'Канада, США',\n",
       "       'Республика Кипр - Россия',\n",
       "       'Дания - Франция - Италия - Бельгия - Нидерланды',\n",
       "       'Россия - Грузия', 'Италия, Германия', 'Норвегия, Швеция, Дания',\n",
       "       'Республика Кипр, Россия', 'КНР, Индия, Гонконг, США',\n",
       "       'Израиль, Украина', 'США, Россия', 'США - КНР - Индия - Ю.Корея',\n",
       "       'США - Швеция', 'Франция, Канада', 'Россия-Китай',\n",
       "       'Канада, Великобритания', 'США, Германия',\n",
       "       'Канада, США, Каймановы острова',\n",
       "       'Бразилия, Уругвай, Дания, Норвегия, Чили, Швеция',\n",
       "       'Пуэрто-Рико, Великобритания, США',\n",
       "       'Уругвай - Аргентина - Испания',\n",
       "       'США - Великобритания - Италия - Израиль - Сербия - Индия',\n",
       "       'США - Канада - Франция - Индия', 'Великобритания - Россия - КНР',\n",
       "       'Франция, Новая Зеландия', 'Франция, Люксембург, Бельгия',\n",
       "       'Канада, США, Норвегия', 'Италия, Испания',\n",
       "       'Испания - Германия - Нидерланды', 'Бразилия - США - КНР ',\n",
       "       'Великобритания, Германия, Дания, США', '2019',\n",
       "       'Италия - Фрация - Бразилия - Германия',\n",
       "       'Норвегия - Швеция - Россия', 'Великобритания, Япония, США',\n",
       "       'Сша, Канада', 'Бельгия, Канада',\n",
       "       'Великобритания - Австралия - США', 'США, Канада', 'КНР - США ',\n",
       "       'Франция - Финляндия', 'Колумбия - США',\n",
       "       'Великобритания, Франция, Бельгия', 'Норвегия - Нидерланды',\n",
       "       'Великобритания, Канада, США', 'Япония, Великобритания',\n",
       "       'Италия - Бельгия - Франция', 'Россия, Бельгия, Финляндия',\n",
       "       'США, Украина', 'Франция, Норвегия',\n",
       "       'Великобритания, Южная Корея, Канада, США, Индия, Китай, Япония',\n",
       "       'Канада - Норвегия', 'Республика Кипр-Россия', 'Германия, Россия',\n",
       "       'Польша - Франция - Испания - Бразилия - Швеция',\n",
       "       'Австрия, Великобритания, Германия', 'Франция - Сенегал - Бельгия',\n",
       "       'Франция, Бельгия, Люксембург', 'Финляндия, Латвия', 'Пакистан',\n",
       "       'Германия, Франция, США', 'Германия - Великобритания - США',\n",
       "       'КНР - Франция', 'Дания, Норвегия, Швеция, Исландия',\n",
       "       'Республика Кипр, США, Россия', 'Новая Зеландия - КНР',\n",
       "       'Дания - Канада - Швеция - Франция - Германия - Великобритания - США'],\n",
       "      dtype=object)"
      ]
     },
     "execution_count": 27,
     "metadata": {},
     "output_type": "execute_result"
    }
   ],
   "source": [
    "data['production_country'].unique()"
   ]
  },
  {
   "cell_type": "code",
   "execution_count": 28,
   "metadata": {},
   "outputs": [],
   "source": [
    "data.production_country = data.production_country.str.replace(' ', '').str.strip()"
   ]
  },
  {
   "cell_type": "code",
   "execution_count": 29,
   "metadata": {},
   "outputs": [
    {
     "data": {
      "text/plain": [
       "array(['США', 'СССР', 'Франция', 'СССР,Венгрия',\n",
       "       'Германия-Великобритания', 'Великобритания-Италия', 'Чехословакия',\n",
       "       'США-Франция-Турция', 'НоваяЗеландия', 'Канада-Франция-Испания',\n",
       "       'США-Германия', 'США-Великобритания', 'Великобритания',\n",
       "       'Франция-Мексика-США', 'Россия,Казахстан,США', 'СССР,Швеция',\n",
       "       'СССР,Франция,Англия,Куба,ГДР', 'Германия',\n",
       "       'Великобритания-США-Германия-КНР', 'СССР,ЧССР,ЗападныйБерлин,ПНР',\n",
       "       'СССР,Италия', 'Гонконг,КНР', 'США-Франция',\n",
       "       'США-Япония-Франция-Великобритания',\n",
       "       'Гонконг-Сингапур-Таиланд-Великобритания', 'США-Канада',\n",
       "       'Франция-Италия-Великобритания-США', 'Франция-США',\n",
       "       'Ирландия-Великобритания-Германия', 'Чехия', 'США-Австралия',\n",
       "       'СССР,Финляндия', 'США-Франция-Великобритания-Австрия',\n",
       "       'США-Бельгия', 'США-Ирландия-Великобритания', 'Великобритания-США',\n",
       "       'Люксембург-Нидерланды-Испания-Великобритания-США-Италия',\n",
       "       'Великобритания-Франция-США', 'НоваяЗеландия-США',\n",
       "       'США-Великобритания-Чехия', 'Канада-Франция-Великобритания',\n",
       "       'Ирландия', 'Великобритания-Германия-США',\n",
       "       'США-Франция-Великобритания', 'Япония', 'СССР,Польша',\n",
       "       'Франция-Испания', 'Канада-Франция', 'Германия-Италия-США',\n",
       "       'Аргентина-Бразилия', 'Дания-Швейцария-Бельгия-Франция',\n",
       "       'США-Испания', 'Германия-США',\n",
       "       'Франция-Австрия-Германия-Италия-США', 'Австрия',\n",
       "       'США-Канада-Германия', 'СССР-Швейцария-Франция',\n",
       "       'Россия-Казахстан', 'Гонконг', 'Италия', 'США-ОАЭ', 'Россия',\n",
       "       'США-Франция-Испания-Великобритания', 'Великобритания-Франция',\n",
       "       'США-Италия-Испания-Аргентина', 'Франция-Великобритания',\n",
       "       'КНР-Гонконг', 'Франция-Италия-Швейцария', 'США-НоваяЗеландия',\n",
       "       'Франция-Бельгия', 'КНР', 'Германия-Великобритания-Австрия',\n",
       "       'Великобритания-Израиль-Франция-Япония-США', 'Швеция', 'Испания',\n",
       "       'Дания', 'Франция-Бельгия-Люксембург', 'США-Индия-ОАЭ',\n",
       "       'Германия-Канада-Великобритания-Швейцария-Франция', 'Мексика-Чили',\n",
       "       'Аргентина', 'Бразилия', 'Чили', 'Австралия', 'Португалия-Франция',\n",
       "       'США-ЮАР', 'Исландия-Ирландия-Германия', 'США-Индонезия',\n",
       "       'ЮжнаяКорея', 'Мексика-Испания-Дания-США', 'Франция-Италия',\n",
       "       'США-Венгрия-Великобритания', 'Бельгия-Франция-Италия',\n",
       "       'Чехия-Германия', 'Германия-Франция', 'США-Нидерланды', 'Украина',\n",
       "       'Великобритания-Германия', 'США-Франция-Испания', 'Италия-Франция',\n",
       "       'Канада', 'Швеция-Франция-Дания', 'Германия-Франция-Польша',\n",
       "       'Франция-Великобритания-Германия',\n",
       "       'США-Бразилия-Франция-Австралия-Великобритания-Германия',\n",
       "       'Германия-Австрия', 'Германия-Италия-Шри-Ланка',\n",
       "       'Великобритания-Испания', 'США-Великобритания-Канада-Швеция',\n",
       "       'БоснияиГерцеговина-Франция-Великобритания-Германия-Словения-Бельгия-Сербия',\n",
       "       'Великобритания-Франция-Италия-США', 'Испания-Франция',\n",
       "       'Великобритания-Австралия-США', 'Норвегия-Швеция-Дания-Германия',\n",
       "       'Норвегия', 'Швейцария', 'Греция-Германия-Франция', 'Норвения',\n",
       "       'ЮжнаяКорея-США', 'Чили-Франция-США', 'Австрия-Германия-Франция',\n",
       "       'Швеция-Дания', 'Великобритания-Франция-Бельгия-Италия',\n",
       "       'Франция-Германия', 'Грузия-Франция-Люксембург',\n",
       "       'США-Франция-Великобритания-Бразилия', 'США-КНР',\n",
       "       'Мексика-Франция', 'США-Германия-Гонконг-Сингапур',\n",
       "       'Финляндия-Австрия-Россия', 'Испания-Куба', 'Великобритания-ЮАР',\n",
       "       'Великобритания-Ирландия', 'Израиль',\n",
       "       'Бразилия-Германия-Порртугалия-Франция', 'Франция-Канада-Бельгия',\n",
       "       'Испания-Канада-Япония', 'Иран', 'Швеция-Куба',\n",
       "       'США-Великобритания-Ирландия', 'Гонконг-КНР', 'Нидерланды',\n",
       "       'Испания-Канада', 'Япония-Великобритания',\n",
       "       'Великобритания-Норвегия-Дания-Германия',\n",
       "       'Финляндия-Франция-Германия',\n",
       "       'Мексика-Франция-Нидерланды-Германия', 'США-Индия',\n",
       "       'США-Великобритания-Индия', 'США-Канада-Бельгия',\n",
       "       'РеспубликаУзбекистан', 'Турция',\n",
       "       'Сербия-Словения-Хорватия-Черногория-Македония', 'Киргизия',\n",
       "       'Германия-Нидерланды-Беларусь-Россия-Латвия', 'Индия',\n",
       "       'Нидерланды-Россия-Германия',\n",
       "       'Великобритания-Нидерланды-Франция-Хорватия', 'Канада-ЮжнаяКорея',\n",
       "       'Великобритания-Польша-КНР-Индия-Норвегия',\n",
       "       'Япония-Франция-США-ЮжнаяКорея-Турция',\n",
       "       'Мексика-Аргентина-Великобритания', 'Израиль-Франция',\n",
       "       'Польша-Португалия-Франция-Великобритания', 'Австралия-США',\n",
       "       'Франция-Люксембург-Бельгия', 'Армения',\n",
       "       'Бельгия-Люксембург-Франция-Швейцария',\n",
       "       'США-Великобритания-Канада', 'Норвегия-Швеция', 'КНР-Гонконг-США',\n",
       "       'США-Сингапур-Малайзия-Индонезия', 'Германия-Россия',\n",
       "       'Япония-Канада', 'Финляндия-Дания-Германия-Ирландия',\n",
       "       'Франция-Люксембург-Германия-Бельгия-Швейцария-Великобритания',\n",
       "       'Канада-США', 'США-Италия-Испания', 'США-Швейцария-Франция',\n",
       "       'Испания-США-Колумбия', 'Канада-ЮАР', 'Франция-Россия',\n",
       "       'Германия-Финляндия-Австралия', 'Дания-Швеция', 'Бельгия',\n",
       "       'Германия-Франция-Австрия', 'Франция-Индия', 'ЮАР', 'Франция-Перу',\n",
       "       'Франция-Канада', 'РеспубликаБеларусь',\n",
       "       'Великобритания-Австрия-Франция-США', 'США-Россия',\n",
       "       'США-ЮжнаяКорея', 'Канада-КНР',\n",
       "       'Дания-Швеция-Италия-Франция-Германия',\n",
       "       'Франция-Италия-Испания-Венгрия', 'Франция-Германия-Бельгия',\n",
       "       'Франция-Великобритания-Чехия', 'Румыния-Франция-Бельгия',\n",
       "       'Болгария-Франция-Изриль',\n",
       "       'Израиль-Германия-Польша-Бельгия-Франция-Люксембург',\n",
       "       'Россия,Германия,Франция,Бельгия', 'Индонезия',\n",
       "       'Франция-Португалия', 'Великобритания-Пуэрто-Рико',\n",
       "       'СССР,ФРГ,ЗападныйБерлин', 'Россия,РеспубликаБеларусь',\n",
       "       'США,Великобритания', 'Франция-Австрия', 'Бельгия-Нидерланды',\n",
       "       'Великобритания-США-Индия', 'США-Великобритания-Австралия',\n",
       "       'Канада-Франция-США-ОАЭ-Великобритания', 'США-Австралия-Франция',\n",
       "       'Дания-Франция-Бельгия-Германия-Великобритания',\n",
       "       'Испания-Аргентина', 'Исландия-Финляндия',\n",
       "       'Россия-Польша-Голландия-Словакия', 'Дания-Германия-Швеция',\n",
       "       'ЮжнаяКорея-США-Канада', 'Таиланд', 'США-Мальта',\n",
       "       'Великобритания-Германия-Франция-Кипр-США', 'Мексика',\n",
       "       'США-Украина', 'США-Финляндия-Испания-Великобритания-Франция',\n",
       "       'Австралия-Великобритания',\n",
       "       'США-Канада-Афганистан-Бельгия-Франция',\n",
       "       'США-Великобритания-Германия-НоваяЗеландия-Бельгия-Франция',\n",
       "       'Ирландия-Финляндия-Бельгия-Великобритания-США-Швейцария',\n",
       "       'Малайзия-США', 'Германия-Италия', 'США-Франция-Бельгия-Италия',\n",
       "       'Франция-Ирландия-Швеция', 'Азербайджан-Россия',\n",
       "       'Великобритания-Италия-Швейцария', 'США-Германия-Великобритания',\n",
       "       'Германия-Бельгия-США-Франция', 'США-Китай', 'Чили-Испания',\n",
       "       'Франция-Швейцария', 'Канада-Испания',\n",
       "       'США-Румыния-Великобритания', 'США-Япония', 'США-Россия-Франция',\n",
       "       'Парагвай', 'Германия-Канада', 'США-Канада-Великобритания',\n",
       "       'Финляндия-Канада', 'Уругвай-Мексика-Германия', 'США-Чили',\n",
       "       'Германия-Аргентина-Нидерланды-Чили', 'США-Канада-Индонезия',\n",
       "       'Армения-Казахстан', 'Финляндия', 'Испания-Италия-Франция',\n",
       "       'Бельгия-Испания-Канада-Нидерланды',\n",
       "       'Великобритания-Франция-Швеция-Бельгия',\n",
       "       'Мексика-Эквадор-Канада-США-Франция-Малайзия-Италия-Аргентина-Германия-Индия',\n",
       "       'Франция-Бенльгия', 'Индия-Великобритания',\n",
       "       'Япония-Великобритания-Франция', 'Испания-Уругвай-Аргентина',\n",
       "       'Франция-Италия-Бельгия-Люксембург',\n",
       "       'Франция-Украина-Грузия-Армения', 'Сербия-Германия-Венгрия',\n",
       "       'Франция-Польша', 'Румыния-США', 'Россия-Азербайджан',\n",
       "       'США-Нидерланды-Бельгия-Венгрия-Греция-Канада',\n",
       "       'Германия-Франция-Люксембург', 'Великобритания-США-Франция',\n",
       "       'США-Австралия-Дания', 'Бельгия-Франция', 'США-Мексика',\n",
       "       'Норвегия-Азербайджан-Россия-Колумбия-Великобритания-Венгрия-Румыния-Франция-Грузия',\n",
       "       'СЩА', 'Бразилия-Испания', 'Россия,Франция,Латвия',\n",
       "       'Нидерланды-США-Германия-Канада-Франция-Ирландия-Великобритания',\n",
       "       'Уругвай-Колумбия', 'США-Испания-Болгария', 'Армения-Германия',\n",
       "       'США-Великобритания-Франция-Швеция', 'Австралия-Турция-США',\n",
       "       'Швеция-Германия', 'Польша-Италия-Россия', 'Франция-Бразилия',\n",
       "       'США-Канада-КНР', 'СССР,Венгрия,ЧССР,ГДР',\n",
       "       'Бельгия-Германия-Люксембург', 'Бразилия-США',\n",
       "       'США-Великобритания-Канада-КНР', 'Франция-Чили',\n",
       "       'Франция-США-Великобритания-Колумбия-Бельгия-Россия',\n",
       "       'Дания-Великобритания-ЮАР', 'Россия-США-Канада-Люксембург',\n",
       "       'Россия-РеспубликаКипр', 'Германия-США-Швеция-Франция',\n",
       "       'Великобритания-Германия-Канада-ЮАР', 'Ирландия,Канада',\n",
       "       'Япония-Великобритания-Швейцария-Ирландия-Дания-Франция-Польша-Австралия-Канада',\n",
       "       'Великобритания,Канада', 'Бельгия-США',\n",
       "       'Великобритания-США-Россия', 'Россия-Украина',\n",
       "       'Германия-США-Великобритания-Израиль', 'Канада-Германия',\n",
       "       'США-Ю.Корея', 'Индия-Мексика',\n",
       "       'Великобритания-Франция-РеспубликаКипр-Швейцария-США-Сербия',\n",
       "       'Испания-Аргентина-Индия-США',\n",
       "       'Норвегия-Исландия-США-Великобритания', 'Турция-Германя-Франция',\n",
       "       'Австралия-Германия', 'Мексика-Испания',\n",
       "       'Великобритания-США-Германия-Бельгия', 'США-Чехия-Франция',\n",
       "       'Россия-Италия', 'Норвегия-Дания-Швеция',\n",
       "       'Франция-Швейцария-Германия', 'Грузия-Украина',\n",
       "       'Россия-Эстония-Финляндия-Беларусь', 'США-Франция-ЮАР',\n",
       "       'Великобритания-США-Швейцария',\n",
       "       'Мексика-Нидерланды-Германия-Франция', 'США-Испания-Франция',\n",
       "       'США-Великобритания-КНР', 'США-Франция-Канада',\n",
       "       'Япония,Великобритания,Австрия,Германия,Ю.Корея',\n",
       "       'Великобритания-Ирландия-США', 'Бельгия-Италия-Франция',\n",
       "       'Швейцария-Германия-ЮАР', 'Великобритания-США-Германия',\n",
       "       'Германия-Исландия', 'Испания-США', 'Хорватия',\n",
       "       'Финляндия-Исландия-Швеция', 'Канада-США-Германия-Франция',\n",
       "       'США-Великобритания-Испания', 'Ирландия-Великобритания',\n",
       "       'Аргентина-Испания', 'Австрия-Германия',\n",
       "       'Германия-Швейцария-Франция-ЮжнаяКорея-США', 'Украина-Нидерланды',\n",
       "       'Венгрия-Германия-Швеция',\n",
       "       'Германия-Франция-Польша-Турция-Канада-Италия-Россия',\n",
       "       'СССР,Афганистан', 'СССР,Монголия', 'Россия-Кипр',\n",
       "       'Россия,Грузия,Испания',\n",
       "       'Великобритания-Нидерланды-Германия-Франция-Бельгия-Австрия',\n",
       "       'Испания-Великобритания-Франция', 'Дания-Норвегия-Великобритания',\n",
       "       'Бельгия-Франция-Люксембург',\n",
       "       'Италия-Франция-Швейцария-Великобритания',\n",
       "       'Франция-Бельгия-Великобритания-Испания-Германия-США',\n",
       "       'Швейцария-Израиль-Франция-Великобритания',\n",
       "       'Великобритания-США-Канада-Нидерланды-Франция', 'Россия,Италия',\n",
       "       'СССР,Албания', 'Россия,Украина,РеспубликаБеларусь,Литва',\n",
       "       'Финляндия-Великобритания-Германия', 'Россия,Украина,Польша',\n",
       "       'Франция-Италия-Бельгия-КНР',\n",
       "       'Германия-Бельгия-Люксембург-Ирландия', 'КНР-Сингапур',\n",
       "       'Франция-Бельгия-Великобритания-США-Нидерланды-Канада',\n",
       "       'США-Россия-Польша-Германия-ПуэртоРико', 'Франция-Бельгия-Канада',\n",
       "       'Мексика-США', 'США-Гонконг-КНР', 'Греция-Россия',\n",
       "       'Ирландия-Дания-Бельгия-Люксембург-Франция', 'Эстония-Россия',\n",
       "       'Великобритания-Исландия-Испания-Швейцария-США',\n",
       "       'Австралия-Великобритания-Бельгия-Индия',\n",
       "       'Швеция-Германия-Франция-Норвегия',\n",
       "       'Нидерланды-Бельгия-Германия-Ирландия',\n",
       "       'Нидерланды-Великобритания-Бельгия', 'США-Колумбия-Испания',\n",
       "       'Франция-Испания-Бельгия-Панама',\n",
       "       'США-Великобритания-Чехия-Румыния',\n",
       "       'Аргентина-Уругвай-Россия-Германия-Франция-Нидерланды',\n",
       "       'Швеция-Франция-Норвегия-Дания', 'Италия-Франция-Великобритания',\n",
       "       'Великобритания,Франция', 'Австралия,США', 'Венесуэла',\n",
       "       'Великобритания-США-Австралия-Ирландия-Германия-Куба-Канада',\n",
       "       'ЮжнаяКорея-КНР', 'Аргентина-Мексика-Бразилия-Франция-США',\n",
       "       'Швеция-США', 'Франция-Германия-Турция-Катар', 'Франция-Китай',\n",
       "       'Россия,Германия,Великобритания', 'Великобритания-Италия-Испания',\n",
       "       'Италия-Россия', 'Япония-КНР-ЮжнаяКорея', 'Россия,Германия',\n",
       "       'Россия-Ирландия', 'Македония-Франция-Великобритания',\n",
       "       'Франция-Бразилия-Италия', 'Россия-США', 'Армения-Россия',\n",
       "       'Россия,Румыния', 'Грузия-Франция', 'ЮАР-США',\n",
       "       'Великобритания-США-Германия-Канада-Австралия', 'США-Ирландия',\n",
       "       'Россия,РеспубликаКипр', 'Германия-Люксембург-Франция',\n",
       "       'Россия-Франция', 'США-Нидерланды-Финляндия-Великобритания-Италия',\n",
       "       'РеспубликаКипр', 'Венгрия', 'Франция-США-Норвегия-Дания',\n",
       "       'Германия-Австрия-Ирландия', 'США-Финляндия',\n",
       "       'Италия-Великобритания', 'Россия,Испания',\n",
       "       'США-Великобритания-Болгария', 'Великобритания-Люксембург',\n",
       "       'Индия-США', 'США-Канада-Россия-Франция-Чили-Ирландия',\n",
       "       'Грузия-Россия',\n",
       "       'Дания-Австрия-Ирландия-Финляндия-Норвегия-Швеция-Нидерланды',\n",
       "       'Грузия', 'Австралия-Ирландия', 'Великобритания-Канада',\n",
       "       'Италия-Аргентина-Словения',\n",
       "       'Испания-Франция-Нидерланды-Германия-Бельгия-Великобритания-Канада',\n",
       "       'Франция-Чехия-Бельгия', 'Великобритания-Франция-Германия-США',\n",
       "       'Ирландия-Великобритания-Франция-США-Германия-Нидерланды',\n",
       "       'США-Канада-Япония-КНР', 'США-Великобритания-Исландия',\n",
       "       'Франция-Германия-Нидерланды',\n",
       "       'Франция-Германия-Швеция-США-Чехия-Словакия-Великобритания-Нидерланды',\n",
       "       'Франция-Канада-Н.Зеландия-США-Нидерланды-Германия-Швеция-Россия',\n",
       "       'Турция-США',\n",
       "       'Великобритания-США-Канада-Бельгия-Нидерланды-Австрия-Германия',\n",
       "       'Израиль-Франция-Германия-Палестина-США-Австрия-Великобритания',\n",
       "       'Аргентина-Франция-Испания', 'СССР,Россия',\n",
       "       'Великобритания-Франция-Италия-Индия-Дания-КНР-Бангладеш-Камбоджа-Гаити-Уганда',\n",
       "       'Италия-Франция-Швейцария', 'Ирландия-Великобритания-Канада',\n",
       "       'Перу', 'США-Норвегия', 'Китай-Гонконг', 'США-Германия-КНР',\n",
       "       'Великобритания-НоваяЗеландия', 'Франция-Дания-Швеция-КНР',\n",
       "       'США-Великобритания-Германия-Бельгия-Дания',\n",
       "       'США-Франция-Канада-Германия-Австралия-Индия', nan,\n",
       "       'СССР,Румыния,Франция', 'СССР,ГДР',\n",
       "       'Великобритания-Франция-Австрия-Швеция', 'Россия,Таджикистан',\n",
       "       'Нидерланды-Бельгия-Болгария', 'Великобритания-Канада-США',\n",
       "       'Франция-Бельгия-Испания', 'Китай-Гонконг-США', 'США-Вьетнам',\n",
       "       'США-Германия-Франция', 'Германия-Франция-Бельгия', 'США-Италия',\n",
       "       'Германия-Дания-Испания-Швеция-Канада-Эстония-Франция',\n",
       "       'КняжествоАндорра-Украина', 'Германия-Люксембург-Бельгия',\n",
       "       'Великобритания-Россия-Украина-США',\n",
       "       'Германия-Бельгия-Люксембург-Норвегия',\n",
       "       'США-Австралия-НоваяЗеландия-Великобритания',\n",
       "       'США-Франция-Канада-Великобритания', 'Испания-Колумбия',\n",
       "       'Великобритания-Чехия-Франция', 'Россия,Украина', 'Исландия',\n",
       "       'Великобритания-Франция-Венгрия',\n",
       "       'Россия,Франция,Германия,Бельгия', 'Франция-Македония',\n",
       "       'Нидерланды-Франция-Германия-Бельгия-Швеция-Великобритания',\n",
       "       'Испания-США-Великобритания-Канада', 'РеспубликаКазахстан',\n",
       "       'Франция-Испания-Дания-Венгрия-Швейцария', 'Франция-КНР',\n",
       "       'США-Пуэрто-Рико-Франция', 'Мексика-Тайвань-США',\n",
       "       'Великобритания-Испания-Непал-Индия-Венгрия-Гонконг-Германия-Дания-Бахрейн',\n",
       "       'Великобритания-Аргентина-США-Франция-Россия-Испания', 'КНР-США',\n",
       "       'Италия-США', 'Финляндия-Швеция-Германия', 'Франция-Бельгия-Чехия',\n",
       "       'Франция-Германия-США', 'США-Дания', 'Индия-КНР',\n",
       "       'Чехия-Великобритания-США', 'США-ФРГ-Россия',\n",
       "       'Ирландия-Нидерланды-Франция-США-Великобритания',\n",
       "       'Россия,Грузия,Хорватия,Испания', 'Финляндия-Швеция-Норвегия',\n",
       "       'Сербия-Великобритания-США', 'США-Великобритания-Франция-Гонконг',\n",
       "       'Швейцария-Франция', 'Швейцария-Великобритания', 'ОАЭ-США',\n",
       "       'США-Франция-Германия-Канада-Австралия', 'Германия-Австралия',\n",
       "       'Иран,Франция', 'США-Великобритания-НоваяЗеландия', 'США-Колумбия',\n",
       "       'США-Франция-Ирландия', 'Великобритания-Франция-Бельгия',\n",
       "       'США-Великобритания-Япония', 'США-Франция-Германия',\n",
       "       'Польша-Ирландия', 'Ирландия-Великобритания-Франция-США',\n",
       "       'США-Бельгия-Великобритания', 'СССР,ВНР',\n",
       "       'Испания-Франция-США-Великобритания-Бельгия', 'Франция-Дания-США',\n",
       "       'США-Гонконг', 'Бразилия-К;анада',\n",
       "       'США-Ирландия-Великобритания-Франция', 'Великобритания-США-Канада',\n",
       "       'Польша-Франция', 'Канада-США-Нидерланды-Великобритания-Аргентина',\n",
       "       'Великобритания-Дания', 'Франция-Бельгия-Япония',\n",
       "       'США-Канада-Германия-Франция', 'США-Канада-Франция',\n",
       "       'Россия-Германия', 'Германия-Австрия-Франция-Италия',\n",
       "       'США-Германия-Канада', 'Испания-Мексика',\n",
       "       'США-Япония-Канада-Великобритания-Германия-Франция',\n",
       "       'Россия-Украина-Германия',\n",
       "       'Израиль-Франция-Великобритания-Германия', 'Корея',\n",
       "       'Россия-Болгария', 'Германия-Канада-Франция-Бельгия',\n",
       "       'Германия-Кения', 'Франция-Монако', 'Франция-Испания-Швейцария',\n",
       "       'Австрия-Франция-Германия', 'Румыния',\n",
       "       'США-Великобритания-Франция', 'Канада-Великобритания',\n",
       "       'Канада-Бразилия-Япония', 'Германия-Дания-Норвегия',\n",
       "       'Дания-Германия', 'СССР-Италия', 'СССР-ГДР-Польша-Италия',\n",
       "       'США-Испания-Франция-Великобритания', 'Китай', 'Мексика-Аргентина',\n",
       "       'Германия-Великобритания-Италия-Испания',\n",
       "       'Франция-Германия-Великобритания', 'Россия-Германия-Швейцария',\n",
       "       'Франция-Австралия', 'Голландия', 'Россия-Белоруссия',\n",
       "       'Франция-Испания-Тайвань', 'США-ЮжнаяКорея-НоваяЗеландия',\n",
       "       'Великобритания-Венгрия', 'Великобритания-Франция-Германия',\n",
       "       'Франция-Германия-Италия', 'Швеция-Финляндия-Франция-Норвегия',\n",
       "       'Германия-Израиль', 'Швеция-Германия-Дания-Норвегия',\n",
       "       'Франция-Гонконг-Ирландия', 'Эстония', 'Литва-Россия-Украина',\n",
       "       'Германия-Италия-Франция', 'Великобритания-Австрия-Германия',\n",
       "       'Испания-Мальта', 'Франция-Россия-Румыния-Италия-Бельгия',\n",
       "       'Россия-Польша', 'США-Аргентина', 'Израиль-США-Франция',\n",
       "       'США-НоваяЗеландия-Япония', 'Франция-Чехия-Великобритания',\n",
       "       'Германия-Франция-Великобритания', 'США-Гонконг-Китай',\n",
       "       'США-Великобритания-Германия', 'США-Канада-Австралия',\n",
       "       'Япония-США-Франция', 'Франция-Испания-Германия',\n",
       "       'США-Хорватия-Босния-Герцеговина',\n",
       "       'Великобритания-Чехия-Франция-Италия', 'США-Германия-Нидерланды',\n",
       "       'Германия-Франция-Канада',\n",
       "       'Франция-Грузия-Германия-Россия-Украина-Бельгия',\n",
       "       'Великобритания-Франция-Италия', 'Франция-Италия-Иран', 'Греция',\n",
       "       'Дания-США', 'США-Германия-Австралия', 'США-Канада-Италия',\n",
       "       'США-Япония-Германия',\n",
       "       'Франция-Великобритания-Багамскиеострова-США',\n",
       "       'Швейцария-Люксембург', 'Швейцария-Австрия', 'Германия-Швейцария',\n",
       "       'Дания-Швеция-Франция-Германия', 'Польша', 'Бразилия-Канада-США',\n",
       "       'Нидерланды-Россия', 'Португалия', 'Франция-Аргентина',\n",
       "       'Швеция-Франция', 'Франция-Украина', 'Германия-Украина-Нидерланды',\n",
       "       'Италия-Швейцария', 'Латвия-Россия',\n",
       "       'Германия-Франция-Великобритания-США', 'Канада-Италия',\n",
       "       'США-ОбъединенныеАрабскиеЭмираты', 'США-Венгрия', 'Малайзия',\n",
       "       'Россия-Германия-Украина', 'США-Австралия-Мексика',\n",
       "       'Литва-Венгрия', 'Германия-Китай', 'Казахстан', 'РеспубликаКорея',\n",
       "       'США-Германия-Франция-Великобритания-Канада',\n",
       "       'Бельгия-Германия-Люксембург-Франция', 'Франция-Греция',\n",
       "       'Италия-Канада', 'США-Италия-Греция',\n",
       "       'Германия-США-Великобритания-Ирландия', 'Германия-Нидерланды-ЮАР',\n",
       "       'США-Япония-Германия-Великобритания-Нидерланды',\n",
       "       'США-Япония-Германия-Великобритания',\n",
       "       'Таиланд-Великобритания-Франция-Германия-Испания-Нидерланды',\n",
       "       'Германия-Италия-Швейцария',\n",
       "       'Дания-Швеция-Великобритания-Франция-Германия-Нидерланды-Норвегия-Финляндия',\n",
       "       'Франция-Великобритания-Нидерланды-Люксембург',\n",
       "       'Нидерланды-Великобритания-Франция-Италия-Япония',\n",
       "       'Великобритания-Нидерланды-Франция-США', 'Канада-Мексика',\n",
       "       'США,Франция', 'Канада-ЮжнаяКорея-США',\n",
       "       'Великобритания-Франция-Бельгия-США', 'КНР-Канада-США',\n",
       "       'Италия-Франция-Германия', 'Швеция-Германия-Франция-Дания',\n",
       "       'Франция-США-Бельгия', 'Украина-Германия-Латвия-Эстония',\n",
       "       'Австрия-Люксембург', 'Великобритания-КНР', 'Монголия',\n",
       "       'Франция-Дания', 'Швеция-Дания-Финляндия',\n",
       "       'Сингапур-Великобритания-Индонезия-Канада-США',\n",
       "       'США-Германия-Япония', 'Таиланд-США', 'Франция-Нидерланды',\n",
       "       'Великобритания-Румыния',\n",
       "       'Великобритания-Германия-Нидерланды-Дания',\n",
       "       'Франция-Германия-Литва-Нидерланды-Россия', 'США-ЮАР-Гонконг',\n",
       "       'Австралия-Колумбия', 'Великобритания-Польша',\n",
       "       'США-Великобритания-Швеция', 'Франция-Швеция-Дания-Норвегия',\n",
       "       'Болгария-США', 'СССР,ФРГ', 'Бельгия-Нидерланды-Франция',\n",
       "       'Финляндия-Германия', 'Болгария',\n",
       "       'Грузия-Россия-Украина-Хорватия-Германия', 'Франция-Люксембург',\n",
       "       'Франция-Германия-Австрия', 'Норвегия-США', 'Германия-Швеция',\n",
       "       'Дания-Латвия-Россия-США', 'Финляндия-Польша', 'Германия-Бельгия',\n",
       "       'Германия-США-Франция-Испания',\n",
       "       'Бельгия-Германия-Канада-Франция-США-Великобритания',\n",
       "       'Нидерланды-Бельгия-Люксембург', 'Люксембург-Бельгия-Франция',\n",
       "       'Великобритания,НоваяЗеландия', 'Бельгия,Великобритания,США',\n",
       "       'Великобритания,Австралия', 'Исландия,Бельгия',\n",
       "       'Испания-Швейцария-Великобритания-Германия-НоваяЗеландия-Нидерланды-Канада',\n",
       "       'Франция,Бельгия', 'Великобритания,США', 'Киргизия-Россия',\n",
       "       'Германия,США', 'Великобритания,США,Испания',\n",
       "       'Италия-Швейцария-Германия', 'Россия,Армения', 'Франция,Германия',\n",
       "       'Китай,Канада,США', 'Германия,Австралия', 'КНР,США',\n",
       "       'США,Великобритания,Люксембург',\n",
       "       'Испания,Ирландия,Бельгия,Франция',\n",
       "       'Великобритания-Гонконг-Венгрия-США-Ирландия', 'США-ПуэртоРико',\n",
       "       'Аргентина-Испания-Уругвай', 'Израиль-Германия-Франция-Швейцария',\n",
       "       'Великобритания-Мексика-США', 'Испания-Болгария-США',\n",
       "       'Россия-Словакия-Чехия',\n",
       "       'Швейцария-КНР-США-Россия-РеспубликаКорея-Великобритания',\n",
       "       'Россия,Нидерланды,Финляндия',\n",
       "       'Испания-Бельгия-Франция-Португалия-Великобритания',\n",
       "       'Бразилия-Португалия-Франция', 'Швеция-Норвегия',\n",
       "       'Франция-Польша-Бельгия', 'CША', 'Китай,США',\n",
       "       'Италия,Франция,Германия', 'Германия-Австрия-Франция',\n",
       "       'Чехия-Словакия-Хорватия', 'Россия,Польша,Финляндия',\n",
       "       'Россия,Латвия,ЧешскаяРеспублика',\n",
       "       'Франция-Великобритания-Камбоджа-США-КНР', 'Чехия-Испания-США',\n",
       "       'Германия-Люксембург-Дания', 'Великобритания-Испания-Германия',\n",
       "       'Дания-Исландия', 'Германия,Франция,Великобритания',\n",
       "       'Великобритания-Испания-Италия-Латвия-Франция-Эстония',\n",
       "       'Дания,Швеция,Великобритания,Франция,Германия,Норвегия,Финляндия,Нидерланды,Италия',\n",
       "       'Польша-Франция-Великобритания', 'Дания,Норвегия,Венгрия,Чехия',\n",
       "       'Дания-Франция-Германия-Швеция', 'Великобритания,Швеция,США',\n",
       "       'Канада,Франция,Италия,Швейцария,США', 'США,Индия',\n",
       "       'США-Великобритания-Германия--Швеция-Канада', 'Италия,Франция',\n",
       "       'РеспубликаБеларусь,Германия,США,Россия',\n",
       "       'Италия-Швейцария-Франция-Германия',\n",
       "       'Россия-Франция-Великобритания-Латвия', 'Россия-Беларусь',\n",
       "       'Франция-Испания-Румыния-США-Бельгия', 'Россия,Австрия',\n",
       "       'Ирландия-Великобритания-США',\n",
       "       'Швейцария,Великобритания,Франция,США,Ирландия',\n",
       "       'Мексика,Франция,Германия,Дания,Швеция', 'Нидерланды,Бельгия',\n",
       "       'Швеция,Норвегия,Финляндия,Франция', 'Испания,Франция,Италия',\n",
       "       'Испания-Франция-Греция-Индия-США-Россия-Великобритания',\n",
       "       'Великобритания-Япония-США', 'Дания,Канада,Норвегия,Австралия,США',\n",
       "       'Аргентина,Испания', 'Россия,Германия,Казахстан,Польша,Китай',\n",
       "       'Португалия,Франция,Польша,США', 'США-Канада-Аргентина',\n",
       "       'Ливан-США', 'Япония-США', 'США,Гонконг',\n",
       "       'Франция-Россия-Швейцария-Румыния-Венгрия', 'Россия,Сербия',\n",
       "       'США-Болгария-Мексика', 'США-Великобритания-Швейцария-Франция',\n",
       "       'Таиланд-КНР-США',\n",
       "       'Великобритания,Нидерланды,Польша,Швейцария,Франция',\n",
       "       'Ирландия-США', 'Германия-Франция-Великобритания-Польша-США',\n",
       "       'США-Австралия-Индия', 'Великобритания-Израиль',\n",
       "       'Великобритания-Норвегия-Кения-Хорватия',\n",
       "       'США-Бразилия-Великобритания-Канада', 'Германия,Бельгия',\n",
       "       'Австралия,Канада', 'США,Великобритания,Франция', 'Кения,Германия',\n",
       "       'Нидерланды,Бельгия,Люксембург', 'Колумбия', 'Латвия-Франция',\n",
       "       'Ирландия,Великобритания', 'Франция-Израиль-Германия',\n",
       "       'Швеция,Франция,Великобритания', 'Бельгия-Люксембург',\n",
       "       'Германия-Бельгия-Великобритания',\n",
       "       'Испания,Франция,Великобритания,Дания,Бельгия,Германия',\n",
       "       'Румыния,ЮАР,Иран,Франция,Канада,Великобритания',\n",
       "       'Германия,Франция', 'США,Япония',\n",
       "       'США,Великобритания,Ирландия,Люксембург', 'РеспубликаАрмения',\n",
       "       'США,Франция,Япония', 'Япония,США', 'Канада,США',\n",
       "       'РеспубликаКипр-Россия', 'Дания-Франция-Италия-Бельгия-Нидерланды',\n",
       "       'Россия-Грузия', 'Италия,Германия', 'Норвегия,Швеция,Дания',\n",
       "       'РеспубликаКипр,Россия', 'КНР,Индия,Гонконг,США',\n",
       "       'Израиль,Украина', 'США,Россия', 'США-КНР-Индия-Ю.Корея',\n",
       "       'США-Швеция', 'Франция,Канада', 'Россия-Китай',\n",
       "       'Канада,Великобритания', 'США,Германия',\n",
       "       'Канада,США,Каймановыострова',\n",
       "       'Бразилия,Уругвай,Дания,Норвегия,Чили,Швеция',\n",
       "       'Пуэрто-Рико,Великобритания,США', 'Уругвай-Аргентина-Испания',\n",
       "       'США-Великобритания-Италия-Израиль-Сербия-Индия',\n",
       "       'США-Канада-Франция-Индия', 'Великобритания-Россия-КНР',\n",
       "       'Франция,НоваяЗеландия', 'Франция,Люксембург,Бельгия',\n",
       "       'Канада,США,Норвегия', 'Италия,Испания',\n",
       "       'Испания-Германия-Нидерланды', 'Бразилия-США-КНР',\n",
       "       'Великобритания,Германия,Дания,США', '2019',\n",
       "       'Италия-Фрация-Бразилия-Германия', 'Норвегия-Швеция-Россия',\n",
       "       'Великобритания,Япония,США', 'Сша,Канада', 'Бельгия,Канада',\n",
       "       'США,Канада', 'Франция-Финляндия', 'Колумбия-США',\n",
       "       'Великобритания,Франция,Бельгия', 'Норвегия-Нидерланды',\n",
       "       'Великобритания,Канада,США', 'Япония,Великобритания',\n",
       "       'Италия-Бельгия-Франция', 'Россия,Бельгия,Финляндия',\n",
       "       'США,Украина', 'Франция,Норвегия',\n",
       "       'Великобритания,ЮжнаяКорея,Канада,США,Индия,Китай,Япония',\n",
       "       'Канада-Норвегия', 'Германия,Россия',\n",
       "       'Польша-Франция-Испания-Бразилия-Швеция',\n",
       "       'Австрия,Великобритания,Германия', 'Франция-Сенегал-Бельгия',\n",
       "       'Франция,Бельгия,Люксембург', 'Финляндия,Латвия', 'Пакистан',\n",
       "       'Германия,Франция,США', 'Германия-Великобритания-США',\n",
       "       'КНР-Франция', 'Дания,Норвегия,Швеция,Исландия',\n",
       "       'РеспубликаКипр,США,Россия', 'НоваяЗеландия-КНР',\n",
       "       'Дания-Канада-Швеция-Франция-Германия-Великобритания-США'],\n",
       "      dtype=object)"
      ]
     },
     "execution_count": 29,
     "metadata": {},
     "output_type": "execute_result"
    }
   ],
   "source": [
    "data['production_country'].unique()"
   ]
  },
  {
   "cell_type": "markdown",
   "metadata": {},
   "source": [
    "В столбцах с категориальными переменными встречается много дубликатов, вызванных наличием лишних пробелов и это касается нескольких столбцов."
   ]
  },
  {
   "cell_type": "markdown",
   "metadata": {
    "id": "XFSN5lrEgFyR"
   },
   "source": [
    "#### Шаг 2.5. Проверьте количественные значения\n",
    "\n",
    "- Проверьте, обнаружились ли в таких столбцах подозрительные данные. Как с такими данными лучше поступить?\n",
    "\n",
    "<div id=\"accordion\">\n",
    "    <div class=\"card\">\n",
    "        <div class=\"card-header\" id=\"headingThree\">\n",
    "            <button class=\"btn btn-link collapsed\" data-toggle=\"collapse\" data-target=\"#collapseHint_budget\" aria-expanded=\"false\" aria-controls=\"collapseHint_budget\">Подсказка</button>\n",
    "        </div>\n",
    "        <div id=\"collapseHint_budget\" class=\"collapse\" aria-labelledby=\"headingThree\" data-parent=\"#accordion\">\n",
    "            <div class=\"card-body\">\n",
    "Обратите внимание на описание столбца <code>budget</code>. Как этот столбец соотносится с двумя другими: <code>refundable_support</code> и <code>nonrefundable_support</code>?\n",
    "            </div>\n",
    "        </div>\n",
    "    </div>\n",
    "</div>"
   ]
  },
  {
   "cell_type": "code",
   "execution_count": 30,
   "metadata": {
    "id": "YbzClBxagFyS"
   },
   "outputs": [
    {
     "data": {
      "text/html": [
       "<div>\n",
       "<style scoped>\n",
       "    .dataframe tbody tr th:only-of-type {\n",
       "        vertical-align: middle;\n",
       "    }\n",
       "\n",
       "    .dataframe tbody tr th {\n",
       "        vertical-align: top;\n",
       "    }\n",
       "\n",
       "    .dataframe thead th {\n",
       "        text-align: right;\n",
       "    }\n",
       "</style>\n",
       "<table border=\"1\" class=\"dataframe\">\n",
       "  <thead>\n",
       "    <tr style=\"text-align: right;\">\n",
       "      <th></th>\n",
       "      <th>puNumber</th>\n",
       "      <th>refundable_support</th>\n",
       "      <th>nonrefundable_support</th>\n",
       "      <th>budget</th>\n",
       "      <th>ratings</th>\n",
       "      <th>box_office</th>\n",
       "    </tr>\n",
       "  </thead>\n",
       "  <tbody>\n",
       "    <tr>\n",
       "      <td>count</td>\n",
       "      <td>7.482000e+03</td>\n",
       "      <td>3.320000e+02</td>\n",
       "      <td>3.320000e+02</td>\n",
       "      <td>3.320000e+02</td>\n",
       "      <td>6486.000000</td>\n",
       "      <td>3.158000e+03</td>\n",
       "    </tr>\n",
       "    <tr>\n",
       "      <td>mean</td>\n",
       "      <td>1.351326e+08</td>\n",
       "      <td>1.186446e+07</td>\n",
       "      <td>4.898099e+07</td>\n",
       "      <td>1.272297e+08</td>\n",
       "      <td>6.478800</td>\n",
       "      <td>7.647870e+07</td>\n",
       "    </tr>\n",
       "    <tr>\n",
       "      <td>std</td>\n",
       "      <td>3.834096e+07</td>\n",
       "      <td>2.491656e+07</td>\n",
       "      <td>5.998012e+07</td>\n",
       "      <td>1.885883e+08</td>\n",
       "      <td>1.101831</td>\n",
       "      <td>2.403531e+08</td>\n",
       "    </tr>\n",
       "    <tr>\n",
       "      <td>min</td>\n",
       "      <td>0.000000e+00</td>\n",
       "      <td>0.000000e+00</td>\n",
       "      <td>0.000000e+00</td>\n",
       "      <td>0.000000e+00</td>\n",
       "      <td>1.000000</td>\n",
       "      <td>0.000000e+00</td>\n",
       "    </tr>\n",
       "    <tr>\n",
       "      <td>25%</td>\n",
       "      <td>1.120249e+08</td>\n",
       "      <td>0.000000e+00</td>\n",
       "      <td>2.500000e+07</td>\n",
       "      <td>4.200000e+07</td>\n",
       "      <td>5.900000</td>\n",
       "      <td>8.623900e+04</td>\n",
       "    </tr>\n",
       "    <tr>\n",
       "      <td>50%</td>\n",
       "      <td>1.210154e+08</td>\n",
       "      <td>0.000000e+00</td>\n",
       "      <td>3.000000e+07</td>\n",
       "      <td>6.864992e+07</td>\n",
       "      <td>6.600000</td>\n",
       "      <td>2.327988e+06</td>\n",
       "    </tr>\n",
       "    <tr>\n",
       "      <td>75%</td>\n",
       "      <td>1.240032e+08</td>\n",
       "      <td>1.500000e+07</td>\n",
       "      <td>4.037500e+07</td>\n",
       "      <td>1.419853e+08</td>\n",
       "      <td>7.200000</td>\n",
       "      <td>2.397967e+07</td>\n",
       "    </tr>\n",
       "    <tr>\n",
       "      <td>max</td>\n",
       "      <td>2.310011e+08</td>\n",
       "      <td>1.800000e+08</td>\n",
       "      <td>4.000000e+08</td>\n",
       "      <td>2.305074e+09</td>\n",
       "      <td>9.200000</td>\n",
       "      <td>3.073569e+09</td>\n",
       "    </tr>\n",
       "  </tbody>\n",
       "</table>\n",
       "</div>"
      ],
      "text/plain": [
       "           puNumber  refundable_support  nonrefundable_support        budget  \\\n",
       "count  7.482000e+03        3.320000e+02           3.320000e+02  3.320000e+02   \n",
       "mean   1.351326e+08        1.186446e+07           4.898099e+07  1.272297e+08   \n",
       "std    3.834096e+07        2.491656e+07           5.998012e+07  1.885883e+08   \n",
       "min    0.000000e+00        0.000000e+00           0.000000e+00  0.000000e+00   \n",
       "25%    1.120249e+08        0.000000e+00           2.500000e+07  4.200000e+07   \n",
       "50%    1.210154e+08        0.000000e+00           3.000000e+07  6.864992e+07   \n",
       "75%    1.240032e+08        1.500000e+07           4.037500e+07  1.419853e+08   \n",
       "max    2.310011e+08        1.800000e+08           4.000000e+08  2.305074e+09   \n",
       "\n",
       "           ratings    box_office  \n",
       "count  6486.000000  3.158000e+03  \n",
       "mean      6.478800  7.647870e+07  \n",
       "std       1.101831  2.403531e+08  \n",
       "min       1.000000  0.000000e+00  \n",
       "25%       5.900000  8.623900e+04  \n",
       "50%       6.600000  2.327988e+06  \n",
       "75%       7.200000  2.397967e+07  \n",
       "max       9.200000  3.073569e+09  "
      ]
     },
     "execution_count": 30,
     "metadata": {},
     "output_type": "execute_result"
    }
   ],
   "source": [
    "data.describe()"
   ]
  },
  {
   "cell_type": "markdown",
   "metadata": {},
   "source": [
    "Складывается впечатление, что господдержка составляет обычно как минимум в два раза меньше бюджета фильма, а иногда отличается на порядок."
   ]
  },
  {
   "cell_type": "code",
   "execution_count": 31,
   "metadata": {
    "scrolled": true
   },
   "outputs": [
    {
     "data": {
      "text/html": [
       "<div>\n",
       "<style scoped>\n",
       "    .dataframe tbody tr th:only-of-type {\n",
       "        vertical-align: middle;\n",
       "    }\n",
       "\n",
       "    .dataframe tbody tr th {\n",
       "        vertical-align: top;\n",
       "    }\n",
       "\n",
       "    .dataframe thead th {\n",
       "        text-align: right;\n",
       "    }\n",
       "</style>\n",
       "<table border=\"1\" class=\"dataframe\">\n",
       "  <thead>\n",
       "    <tr style=\"text-align: right;\">\n",
       "      <th></th>\n",
       "      <th>title</th>\n",
       "      <th>puNumber</th>\n",
       "      <th>show_start_date</th>\n",
       "      <th>type</th>\n",
       "      <th>film_studio</th>\n",
       "      <th>production_country</th>\n",
       "      <th>director</th>\n",
       "      <th>producer</th>\n",
       "      <th>age_restriction</th>\n",
       "      <th>refundable_support</th>\n",
       "      <th>nonrefundable_support</th>\n",
       "      <th>budget</th>\n",
       "      <th>financing_source</th>\n",
       "      <th>ratings</th>\n",
       "      <th>genres</th>\n",
       "      <th>box_office</th>\n",
       "    </tr>\n",
       "  </thead>\n",
       "  <tbody>\n",
       "    <tr>\n",
       "      <td>2053</td>\n",
       "      <td>14+</td>\n",
       "      <td>111023614</td>\n",
       "      <td>2014-12-19 12:00:00</td>\n",
       "      <td>Художественный</td>\n",
       "      <td>ООО Киностудия  \"Сентябрь\"</td>\n",
       "      <td>Россия</td>\n",
       "      <td>А.Зайцев</td>\n",
       "      <td>О.Гранина, А.Зайцев</td>\n",
       "      <td>«16+» - для детей старше 16 лет</td>\n",
       "      <td>0.0</td>\n",
       "      <td>23000000.0</td>\n",
       "      <td>0.0</td>\n",
       "      <td>Министерство культуры, Фонд кино</td>\n",
       "      <td>6.6</td>\n",
       "      <td>мелодрама</td>\n",
       "      <td>1.023402e+07</td>\n",
       "    </tr>\n",
       "    <tr>\n",
       "      <td>2058</td>\n",
       "      <td>Дуxless 2</td>\n",
       "      <td>111000415</td>\n",
       "      <td>2015-01-26 12:00:00</td>\n",
       "      <td>Художественный</td>\n",
       "      <td>ООО \"Киностудия \"Слово\", ООО \"Арт Пикчерс Студия\"</td>\n",
       "      <td>Россия</td>\n",
       "      <td>Р.Прыгунов</td>\n",
       "      <td>П.Ануров, Ф.Бондарчук, Д.Рудовский</td>\n",
       "      <td>«16+» - для детей старше 16 лет</td>\n",
       "      <td>0.0</td>\n",
       "      <td>75000000.0</td>\n",
       "      <td>0.0</td>\n",
       "      <td>Фонд кино</td>\n",
       "      <td>6.6</td>\n",
       "      <td>драма</td>\n",
       "      <td>4.461635e+08</td>\n",
       "    </tr>\n",
       "    <tr>\n",
       "      <td>2472</td>\n",
       "      <td>Воин (2015)</td>\n",
       "      <td>111017315</td>\n",
       "      <td>2015-09-28 12:00:00</td>\n",
       "      <td>Художественный</td>\n",
       "      <td>ООО \"Форпост Продакшн\", ООО \"Арт Пикчерс Студия\"</td>\n",
       "      <td>Россия</td>\n",
       "      <td>А.Андрианов</td>\n",
       "      <td>ООО \"Арт Пикчерс Студия\"</td>\n",
       "      <td>«12+» - для детей старше 12 лет</td>\n",
       "      <td>10000000.0</td>\n",
       "      <td>70000000.0</td>\n",
       "      <td>0.0</td>\n",
       "      <td>Фонд кино</td>\n",
       "      <td>7.8</td>\n",
       "      <td>боевик,драма,криминал</td>\n",
       "      <td>1.965724e+08</td>\n",
       "    </tr>\n",
       "    <tr>\n",
       "      <td>2532</td>\n",
       "      <td>Бармен.</td>\n",
       "      <td>111009615</td>\n",
       "      <td>2015-05-26 12:00:00</td>\n",
       "      <td>Художественный</td>\n",
       "      <td>АО \"ВайТ Медиа\", ООО \"Арт Пикчерс Студия\"</td>\n",
       "      <td>Россия</td>\n",
       "      <td>Д.Штурманова</td>\n",
       "      <td>Т.Вайнштейн</td>\n",
       "      <td>«16+» - для детей старше 16 лет</td>\n",
       "      <td>20000000.0</td>\n",
       "      <td>0.0</td>\n",
       "      <td>0.0</td>\n",
       "      <td>Фонд кино</td>\n",
       "      <td>6.2</td>\n",
       "      <td>комедия,фэнтези</td>\n",
       "      <td>6.741897e+07</td>\n",
       "    </tr>\n",
       "    <tr>\n",
       "      <td>2615</td>\n",
       "      <td>Савва. Сердце воина</td>\n",
       "      <td>114001715</td>\n",
       "      <td>2015-07-21 12:00:00</td>\n",
       "      <td>Анимационный</td>\n",
       "      <td>ООО \"Глюкоза Продакшн\", ООО \"Арт Пикчерс Студия\"</td>\n",
       "      <td>Россия</td>\n",
       "      <td>М.Фадеев</td>\n",
       "      <td>А.Чистяков</td>\n",
       "      <td>«6+» - для детей старше 6 лет</td>\n",
       "      <td>60000000.0</td>\n",
       "      <td>100000000.0</td>\n",
       "      <td>0.0</td>\n",
       "      <td>Фонд кино</td>\n",
       "      <td>4.6</td>\n",
       "      <td>мультфильм,приключения,фэнтези</td>\n",
       "      <td>1.844876e+08</td>\n",
       "    </tr>\n",
       "    <tr>\n",
       "      <td>2684</td>\n",
       "      <td>Тряпичный союз</td>\n",
       "      <td>111010215</td>\n",
       "      <td>2015-06-08 12:00:00</td>\n",
       "      <td>Художественный</td>\n",
       "      <td>ООО \"Кинокомпания \"КОКТЕБЕЛЬ\"</td>\n",
       "      <td>Россия</td>\n",
       "      <td>М.Местецкий</td>\n",
       "      <td>Р.Борисевич, А.Кушаев</td>\n",
       "      <td>«18+» - запрещено для детей</td>\n",
       "      <td>0.0</td>\n",
       "      <td>59000000.0</td>\n",
       "      <td>0.0</td>\n",
       "      <td>Фонд кино</td>\n",
       "      <td>6.3</td>\n",
       "      <td>комедия,драма</td>\n",
       "      <td>1.957739e+06</td>\n",
       "    </tr>\n",
       "    <tr>\n",
       "      <td>2788</td>\n",
       "      <td>Срочно выйду замуж</td>\n",
       "      <td>111017115</td>\n",
       "      <td>2015-09-30 12:00:00</td>\n",
       "      <td>Художественный</td>\n",
       "      <td>АО \"ВайТ Медиа\", ООО \"Арт Пикчерс Студия\"</td>\n",
       "      <td>Россия</td>\n",
       "      <td>С Чекалов</td>\n",
       "      <td>Ф.Бондарчук, Т.Вайнштейн, Д.Рудовский</td>\n",
       "      <td>«16+» - для детей старше 16 лет</td>\n",
       "      <td>0.0</td>\n",
       "      <td>35000000.0</td>\n",
       "      <td>0.0</td>\n",
       "      <td>Фонд кино</td>\n",
       "      <td>5.1</td>\n",
       "      <td>комедия,мелодрама</td>\n",
       "      <td>7.293778e+07</td>\n",
       "    </tr>\n",
       "    <tr>\n",
       "      <td>2874</td>\n",
       "      <td>Помню - не помню!</td>\n",
       "      <td>111004916</td>\n",
       "      <td>2016-03-01 12:00:00</td>\n",
       "      <td>Художественный</td>\n",
       "      <td>ООО \"КиноФирма\"</td>\n",
       "      <td>Россия</td>\n",
       "      <td>В.Ровенский</td>\n",
       "      <td>ООО \"КиноФирма\"</td>\n",
       "      <td>«12+» - для детей старше 12 лет</td>\n",
       "      <td>0.0</td>\n",
       "      <td>6000000.0</td>\n",
       "      <td>0.0</td>\n",
       "      <td>Министерство культуры</td>\n",
       "      <td>4.3</td>\n",
       "      <td>комедия</td>\n",
       "      <td>1.536293e+07</td>\n",
       "    </tr>\n",
       "    <tr>\n",
       "      <td>3047</td>\n",
       "      <td>Любовь с ограничениями</td>\n",
       "      <td>111008216</td>\n",
       "      <td>2016-04-29 12:00:00</td>\n",
       "      <td>Художественный</td>\n",
       "      <td>АО \"ВайТ Медиа\", ООО \"Арт Пикчерс Студия\"</td>\n",
       "      <td>Россия</td>\n",
       "      <td>Д.Тюрин</td>\n",
       "      <td>Ф.Бондарчук, Т.Вайнштейн, Д.Рудовский</td>\n",
       "      <td>«16+» - для детей старше 16 лет</td>\n",
       "      <td>19000000.0</td>\n",
       "      <td>51000000.0</td>\n",
       "      <td>0.0</td>\n",
       "      <td>Фонд кино</td>\n",
       "      <td>6.3</td>\n",
       "      <td>комедия,мелодрама</td>\n",
       "      <td>7.029905e+07</td>\n",
       "    </tr>\n",
       "    <tr>\n",
       "      <td>3565</td>\n",
       "      <td>Притяжение (2016)</td>\n",
       "      <td>111018116</td>\n",
       "      <td>2016-12-16 12:00:00</td>\n",
       "      <td>Художественный</td>\n",
       "      <td>ООО \"Водород 2011\",  ООО \"Арт Пикчерс Студия\"</td>\n",
       "      <td>Россия</td>\n",
       "      <td>Ф.Бондарчук</td>\n",
       "      <td>ООО \"Арт Пикчерс Студия\"</td>\n",
       "      <td>«12+» - для детей старше 12 лет</td>\n",
       "      <td>0.0</td>\n",
       "      <td>250000000.0</td>\n",
       "      <td>0.0</td>\n",
       "      <td>Фонд кино</td>\n",
       "      <td>5.6</td>\n",
       "      <td>фантастика</td>\n",
       "      <td>1.038321e+09</td>\n",
       "    </tr>\n",
       "    <tr>\n",
       "      <td>3675</td>\n",
       "      <td>Чудо-юдо</td>\n",
       "      <td>114001817</td>\n",
       "      <td>2017-06-27 12:00:00</td>\n",
       "      <td>Анимационный</td>\n",
       "      <td>ООО \"КиноФирма\"</td>\n",
       "      <td>Россия</td>\n",
       "      <td>А.Лукичев</td>\n",
       "      <td>ООО \"КиноФирма\"</td>\n",
       "      <td>«6+» - для детей старше 6 лет</td>\n",
       "      <td>20000000.0</td>\n",
       "      <td>20000000.0</td>\n",
       "      <td>0.0</td>\n",
       "      <td>Фонд кино</td>\n",
       "      <td>5.2</td>\n",
       "      <td>мультфильм,фэнтези,семейный</td>\n",
       "      <td>5.510801e+07</td>\n",
       "    </tr>\n",
       "    <tr>\n",
       "      <td>3739</td>\n",
       "      <td>Мифы</td>\n",
       "      <td>111004317</td>\n",
       "      <td>2017-06-07 12:00:00</td>\n",
       "      <td>Художественный</td>\n",
       "      <td>ООО \"ХАЙПФИЛМ\", ООО \"Арт Пикчерс Студия\"</td>\n",
       "      <td>Россия</td>\n",
       "      <td>А.Молочников</td>\n",
       "      <td>Ф.Бондарчук, Д.Рудовский, И.Стюарт, М.Османн, ...</td>\n",
       "      <td>«16+» - для детей старше 16 лет</td>\n",
       "      <td>25000000.0</td>\n",
       "      <td>20000000.0</td>\n",
       "      <td>0.0</td>\n",
       "      <td>Фонд кино</td>\n",
       "      <td>4.8</td>\n",
       "      <td>комедия</td>\n",
       "      <td>5.045195e+07</td>\n",
       "    </tr>\n",
       "    <tr>\n",
       "      <td>5673</td>\n",
       "      <td>Селфи</td>\n",
       "      <td>111012117</td>\n",
       "      <td>2018-02-01 12:00:00</td>\n",
       "      <td>Художественный</td>\n",
       "      <td>ООО \"Киностудия \"Слово\", ООО \"Арт Пикчерс Студия\"</td>\n",
       "      <td>Россия</td>\n",
       "      <td>Н.Хомерики</td>\n",
       "      <td>П.Ануров, Ф.Бондарчук, Д.Рудовский</td>\n",
       "      <td>«16+» - для детей старше 16 лет</td>\n",
       "      <td>20000000.0</td>\n",
       "      <td>40000000.0</td>\n",
       "      <td>0.0</td>\n",
       "      <td>Фонд кино</td>\n",
       "      <td>5.8</td>\n",
       "      <td>триллер,драма</td>\n",
       "      <td>2.251964e+08</td>\n",
       "    </tr>\n",
       "    <tr>\n",
       "      <td>5806</td>\n",
       "      <td>Два хвоста</td>\n",
       "      <td>114001018</td>\n",
       "      <td>2018-05-31 12:00:00</td>\n",
       "      <td>Анимационный</td>\n",
       "      <td>ООО \"ЛИЦЕНЗИОННЫЕ БРЕНДЫ\"</td>\n",
       "      <td>Россия</td>\n",
       "      <td>В.Ровенский, Н.Лопато, В.Азеев</td>\n",
       "      <td>ООО \"ЛИЦЕНЗИОННЫЕ БРЕНДЫ\"</td>\n",
       "      <td>«6+» - для детей старше 6 лет</td>\n",
       "      <td>10000000.0</td>\n",
       "      <td>60000000.0</td>\n",
       "      <td>0.0</td>\n",
       "      <td>Фонд кино</td>\n",
       "      <td>5.0</td>\n",
       "      <td>мультфильм,детский</td>\n",
       "      <td>1.065143e+08</td>\n",
       "    </tr>\n",
       "    <tr>\n",
       "      <td>6008</td>\n",
       "      <td>Принцесса и дракон</td>\n",
       "      <td>114003018</td>\n",
       "      <td>2018-08-23 12:00:00</td>\n",
       "      <td>Анимационный</td>\n",
       "      <td>ООО \"ЛИЦЕНЗИОННЫЕ БРЕНДЫ\"</td>\n",
       "      <td>Россия</td>\n",
       "      <td>М.Нефедова</td>\n",
       "      <td>ООО \"ЛИЦЕНЗИОННЫЕ БРЕНДЫ\"</td>\n",
       "      <td>«6+» - для детей старше 6 лет</td>\n",
       "      <td>40000000.0</td>\n",
       "      <td>40000000.0</td>\n",
       "      <td>0.0</td>\n",
       "      <td>Фонд кино</td>\n",
       "      <td>5.2</td>\n",
       "      <td>мультфильм,фэнтези,детский</td>\n",
       "      <td>8.336633e+07</td>\n",
       "    </tr>\n",
       "    <tr>\n",
       "      <td>6323</td>\n",
       "      <td>Баба Яга</td>\n",
       "      <td>114006518</td>\n",
       "      <td>2018-11-08 12:00:00</td>\n",
       "      <td>Анимационный</td>\n",
       "      <td>ООО \"Арт Пикчерс Студия\"</td>\n",
       "      <td>Россия</td>\n",
       "      <td>В.Саков</td>\n",
       "      <td>ООО \"Арт Пикчерс Студия\", ООО \"КРИЭЙТИВ АНИМЭЙ...</td>\n",
       "      <td>«6+» - для детей старше 6 лет</td>\n",
       "      <td>0.0</td>\n",
       "      <td>138969465.0</td>\n",
       "      <td>0.0</td>\n",
       "      <td>Фонд кино</td>\n",
       "      <td>NaN</td>\n",
       "      <td>NaN</td>\n",
       "      <td>1.334699e+06</td>\n",
       "    </tr>\n",
       "    <tr>\n",
       "      <td>6823</td>\n",
       "      <td>Большое путешествие</td>\n",
       "      <td>114002419</td>\n",
       "      <td>2019-04-20 12:00:00</td>\n",
       "      <td>Анимационный</td>\n",
       "      <td>ООО \"ЛИЦЕНЗИОННЫЕ БРЕНДЫ\"</td>\n",
       "      <td>Россия</td>\n",
       "      <td>Н.Лопато, В.Ровенский</td>\n",
       "      <td>ООО \"ЛИЦЕНЗИОННЫЕ БРЕНДЫ\"</td>\n",
       "      <td>«6+» - для детей старше 6 лет</td>\n",
       "      <td>60000000.0</td>\n",
       "      <td>120000000.0</td>\n",
       "      <td>0.0</td>\n",
       "      <td>Фонд кино</td>\n",
       "      <td>6.2</td>\n",
       "      <td>мультфильм,комедия,приключения</td>\n",
       "      <td>1.476068e+08</td>\n",
       "    </tr>\n",
       "  </tbody>\n",
       "</table>\n",
       "</div>"
      ],
      "text/plain": [
       "                       title   puNumber     show_start_date            type  \\\n",
       "2053                     14+  111023614 2014-12-19 12:00:00  Художественный   \n",
       "2058               Дуxless 2  111000415 2015-01-26 12:00:00  Художественный   \n",
       "2472             Воин (2015)  111017315 2015-09-28 12:00:00  Художественный   \n",
       "2532                 Бармен.  111009615 2015-05-26 12:00:00  Художественный   \n",
       "2615     Савва. Сердце воина  114001715 2015-07-21 12:00:00    Анимационный   \n",
       "2684          Тряпичный союз  111010215 2015-06-08 12:00:00  Художественный   \n",
       "2788      Срочно выйду замуж  111017115 2015-09-30 12:00:00  Художественный   \n",
       "2874       Помню - не помню!  111004916 2016-03-01 12:00:00  Художественный   \n",
       "3047  Любовь с ограничениями  111008216 2016-04-29 12:00:00  Художественный   \n",
       "3565       Притяжение (2016)  111018116 2016-12-16 12:00:00  Художественный   \n",
       "3675                Чудо-юдо  114001817 2017-06-27 12:00:00    Анимационный   \n",
       "3739                    Мифы  111004317 2017-06-07 12:00:00  Художественный   \n",
       "5673                   Селфи  111012117 2018-02-01 12:00:00  Художественный   \n",
       "5806              Два хвоста  114001018 2018-05-31 12:00:00    Анимационный   \n",
       "6008      Принцесса и дракон  114003018 2018-08-23 12:00:00    Анимационный   \n",
       "6323                Баба Яга  114006518 2018-11-08 12:00:00    Анимационный   \n",
       "6823     Большое путешествие  114002419 2019-04-20 12:00:00    Анимационный   \n",
       "\n",
       "                                            film_studio production_country  \\\n",
       "2053                         ООО Киностудия  \"Сентябрь\"             Россия   \n",
       "2058  ООО \"Киностудия \"Слово\", ООО \"Арт Пикчерс Студия\"             Россия   \n",
       "2472   ООО \"Форпост Продакшн\", ООО \"Арт Пикчерс Студия\"             Россия   \n",
       "2532          АО \"ВайТ Медиа\", ООО \"Арт Пикчерс Студия\"             Россия   \n",
       "2615   ООО \"Глюкоза Продакшн\", ООО \"Арт Пикчерс Студия\"             Россия   \n",
       "2684                      ООО \"Кинокомпания \"КОКТЕБЕЛЬ\"             Россия   \n",
       "2788          АО \"ВайТ Медиа\", ООО \"Арт Пикчерс Студия\"             Россия   \n",
       "2874                                    ООО \"КиноФирма\"             Россия   \n",
       "3047          АО \"ВайТ Медиа\", ООО \"Арт Пикчерс Студия\"             Россия   \n",
       "3565      ООО \"Водород 2011\",  ООО \"Арт Пикчерс Студия\"             Россия   \n",
       "3675                                    ООО \"КиноФирма\"             Россия   \n",
       "3739           ООО \"ХАЙПФИЛМ\", ООО \"Арт Пикчерс Студия\"             Россия   \n",
       "5673  ООО \"Киностудия \"Слово\", ООО \"Арт Пикчерс Студия\"             Россия   \n",
       "5806                          ООО \"ЛИЦЕНЗИОННЫЕ БРЕНДЫ\"             Россия   \n",
       "6008                          ООО \"ЛИЦЕНЗИОННЫЕ БРЕНДЫ\"             Россия   \n",
       "6323                           ООО \"Арт Пикчерс Студия\"             Россия   \n",
       "6823                          ООО \"ЛИЦЕНЗИОННЫЕ БРЕНДЫ\"             Россия   \n",
       "\n",
       "                            director  \\\n",
       "2053                        А.Зайцев   \n",
       "2058                      Р.Прыгунов   \n",
       "2472                     А.Андрианов   \n",
       "2532                    Д.Штурманова   \n",
       "2615                        М.Фадеев   \n",
       "2684                     М.Местецкий   \n",
       "2788                       С Чекалов   \n",
       "2874                     В.Ровенский   \n",
       "3047                         Д.Тюрин   \n",
       "3565                     Ф.Бондарчук   \n",
       "3675                       А.Лукичев   \n",
       "3739                    А.Молочников   \n",
       "5673                      Н.Хомерики   \n",
       "5806  В.Ровенский, Н.Лопато, В.Азеев   \n",
       "6008                      М.Нефедова   \n",
       "6323                         В.Саков   \n",
       "6823           Н.Лопато, В.Ровенский   \n",
       "\n",
       "                                               producer  \\\n",
       "2053                                О.Гранина, А.Зайцев   \n",
       "2058                 П.Ануров, Ф.Бондарчук, Д.Рудовский   \n",
       "2472                           ООО \"Арт Пикчерс Студия\"   \n",
       "2532                                        Т.Вайнштейн   \n",
       "2615                                         А.Чистяков   \n",
       "2684                              Р.Борисевич, А.Кушаев   \n",
       "2788              Ф.Бондарчук, Т.Вайнштейн, Д.Рудовский   \n",
       "2874                                    ООО \"КиноФирма\"   \n",
       "3047              Ф.Бондарчук, Т.Вайнштейн, Д.Рудовский   \n",
       "3565                           ООО \"Арт Пикчерс Студия\"   \n",
       "3675                                    ООО \"КиноФирма\"   \n",
       "3739  Ф.Бондарчук, Д.Рудовский, И.Стюарт, М.Османн, ...   \n",
       "5673                 П.Ануров, Ф.Бондарчук, Д.Рудовский   \n",
       "5806                          ООО \"ЛИЦЕНЗИОННЫЕ БРЕНДЫ\"   \n",
       "6008                          ООО \"ЛИЦЕНЗИОННЫЕ БРЕНДЫ\"   \n",
       "6323  ООО \"Арт Пикчерс Студия\", ООО \"КРИЭЙТИВ АНИМЭЙ...   \n",
       "6823                          ООО \"ЛИЦЕНЗИОННЫЕ БРЕНДЫ\"   \n",
       "\n",
       "                      age_restriction  refundable_support  \\\n",
       "2053  «16+» - для детей старше 16 лет                 0.0   \n",
       "2058  «16+» - для детей старше 16 лет                 0.0   \n",
       "2472  «12+» - для детей старше 12 лет          10000000.0   \n",
       "2532  «16+» - для детей старше 16 лет          20000000.0   \n",
       "2615    «6+» - для детей старше 6 лет          60000000.0   \n",
       "2684      «18+» - запрещено для детей                 0.0   \n",
       "2788  «16+» - для детей старше 16 лет                 0.0   \n",
       "2874  «12+» - для детей старше 12 лет                 0.0   \n",
       "3047  «16+» - для детей старше 16 лет          19000000.0   \n",
       "3565  «12+» - для детей старше 12 лет                 0.0   \n",
       "3675    «6+» - для детей старше 6 лет          20000000.0   \n",
       "3739  «16+» - для детей старше 16 лет          25000000.0   \n",
       "5673  «16+» - для детей старше 16 лет          20000000.0   \n",
       "5806    «6+» - для детей старше 6 лет          10000000.0   \n",
       "6008    «6+» - для детей старше 6 лет          40000000.0   \n",
       "6323    «6+» - для детей старше 6 лет                 0.0   \n",
       "6823    «6+» - для детей старше 6 лет          60000000.0   \n",
       "\n",
       "      nonrefundable_support  budget                  financing_source  \\\n",
       "2053             23000000.0     0.0  Министерство культуры, Фонд кино   \n",
       "2058             75000000.0     0.0                         Фонд кино   \n",
       "2472             70000000.0     0.0                         Фонд кино   \n",
       "2532                    0.0     0.0                         Фонд кино   \n",
       "2615            100000000.0     0.0                         Фонд кино   \n",
       "2684             59000000.0     0.0                         Фонд кино   \n",
       "2788             35000000.0     0.0                         Фонд кино   \n",
       "2874              6000000.0     0.0             Министерство культуры   \n",
       "3047             51000000.0     0.0                         Фонд кино   \n",
       "3565            250000000.0     0.0                         Фонд кино   \n",
       "3675             20000000.0     0.0                         Фонд кино   \n",
       "3739             20000000.0     0.0                         Фонд кино   \n",
       "5673             40000000.0     0.0                         Фонд кино   \n",
       "5806             60000000.0     0.0                         Фонд кино   \n",
       "6008             40000000.0     0.0                         Фонд кино   \n",
       "6323            138969465.0     0.0                         Фонд кино   \n",
       "6823            120000000.0     0.0                         Фонд кино   \n",
       "\n",
       "      ratings                          genres    box_office  \n",
       "2053      6.6                       мелодрама  1.023402e+07  \n",
       "2058      6.6                           драма  4.461635e+08  \n",
       "2472      7.8           боевик,драма,криминал  1.965724e+08  \n",
       "2532      6.2                 комедия,фэнтези  6.741897e+07  \n",
       "2615      4.6  мультфильм,приключения,фэнтези  1.844876e+08  \n",
       "2684      6.3                   комедия,драма  1.957739e+06  \n",
       "2788      5.1               комедия,мелодрама  7.293778e+07  \n",
       "2874      4.3                         комедия  1.536293e+07  \n",
       "3047      6.3               комедия,мелодрама  7.029905e+07  \n",
       "3565      5.6                      фантастика  1.038321e+09  \n",
       "3675      5.2     мультфильм,фэнтези,семейный  5.510801e+07  \n",
       "3739      4.8                         комедия  5.045195e+07  \n",
       "5673      5.8                   триллер,драма  2.251964e+08  \n",
       "5806      5.0              мультфильм,детский  1.065143e+08  \n",
       "6008      5.2      мультфильм,фэнтези,детский  8.336633e+07  \n",
       "6323      NaN                             NaN  1.334699e+06  \n",
       "6823      6.2  мультфильм,комедия,приключения  1.476068e+08  "
      ]
     },
     "execution_count": 31,
     "metadata": {},
     "output_type": "execute_result"
    }
   ],
   "source": [
    "data.query('budget < (refundable_support + nonrefundable_support)')"
   ]
  },
  {
   "cell_type": "markdown",
   "metadata": {},
   "source": [
    "В датасете встречаются 17 фильмов, у которых размер бюджета меньше, чем господдержка, чего быть не может. "
   ]
  },
  {
   "cell_type": "code",
   "execution_count": 32,
   "metadata": {
    "scrolled": true
   },
   "outputs": [
    {
     "data": {
      "text/plain": [
       "2053    0.0\n",
       "2058    0.0\n",
       "2472    0.0\n",
       "2532    0.0\n",
       "2615    0.0\n",
       "2684    0.0\n",
       "2788    0.0\n",
       "2874    0.0\n",
       "3047    0.0\n",
       "3565    0.0\n",
       "3675    0.0\n",
       "3739    0.0\n",
       "5673    0.0\n",
       "5806    0.0\n",
       "6008    0.0\n",
       "6323    0.0\n",
       "6823    0.0\n",
       "Name: budget, dtype: float64"
      ]
     },
     "execution_count": 32,
     "metadata": {},
     "output_type": "execute_result"
    }
   ],
   "source": [
    "data.query('budget < (refundable_support + nonrefundable_support)')['budget']"
   ]
  },
  {
   "cell_type": "markdown",
   "metadata": {},
   "source": [
    "Бюджет этих фильмов оказался нулевым, хотя в данных есть информация о господдержке. Для исследования нам требуется информация не только о господдержке, но и о сторонней. Без этого исследование будет неполным. Фильмов с отсутствующим значением всего около 5% от фильмов с ненулевым бюджетом. Поскольку далее мы будем рассматривать фильмы с бюджетом >0, то, в принципе, эти значения нам не мешают."
   ]
  },
  {
   "cell_type": "markdown",
   "metadata": {
    "id": "Eu6oWp2CgFyS"
   },
   "source": [
    "#### Шаг 2.6. Добавьте новые столбцы\n",
    "\n",
    "\n",
    "\n"
   ]
  },
  {
   "cell_type": "markdown",
   "metadata": {
    "id": "7GgW-UpAgFyS"
   },
   "source": [
    "Создадим столбец с информацией о годе проката. Выделим год из даты премьеры фильма."
   ]
  },
  {
   "cell_type": "code",
   "execution_count": 33,
   "metadata": {
    "id": "I-yd1DkWgFyT"
   },
   "outputs": [],
   "source": [
    "data['show_start_year'] = data['show_start_date'].dt.year"
   ]
  },
  {
   "cell_type": "markdown",
   "metadata": {
    "id": "nFTDLDYOgFyT"
   },
   "source": [
    "Создадим два столбца: с именем и фамилией главного режиссёра и основным жанром фильма. В столбцы войдут первые значения из списка режиссёров и жанров соответственно.\n",
    "\n",
    "<div id=\"accordion\">\n",
    "    <div class=\"card\">\n",
    "        <div class=\"card-header\" id=\"headingThree\">\n",
    "            <button class=\"btn btn-link collapsed\" data-toggle=\"collapse\" data-target=\"#collapseHint_2\" aria-expanded=\"false\" aria-controls=\"collapseHint_2\">Подсказка</button>\n",
    "        </div>\n",
    "        <div id=\"collapseHint_2\" class=\"collapse\" aria-labelledby=\"headingThree\" data-parent=\"#accordion\">\n",
    "            <div class=\"card-body\">\n",
    "Чтобы создать такие столбцы, лучше всего использовать собственную функцию. Эту функцию можно применить к двум столбцам сразу. \n",
    "            </div>\n",
    "        </div>\n",
    "    </div>\n",
    "</div>"
   ]
  },
  {
   "cell_type": "code",
   "execution_count": 34,
   "metadata": {
    "id": "LSbRZKbMgFyU"
   },
   "outputs": [],
   "source": [
    "data['main_genre'] = data['genres'].str.split(',').str[0] \n",
    "data['main_director'] = data['director'].str.split(',').str[0]"
   ]
  },
  {
   "cell_type": "markdown",
   "metadata": {
    "id": "1FsCXHwdgFyU"
   },
   "source": [
    "Посчитаем, какую долю от общего бюджета фильма составляет государственная поддержка, мы знаем, что в общий бюджет входит весь объем господдержки + стороннее финансирование и можем найти сумму господдержки из данных."
   ]
  },
  {
   "cell_type": "code",
   "execution_count": 35,
   "metadata": {
    "id": "LV6qFuZLgFyV"
   },
   "outputs": [],
   "source": [
    "data['financial_part'] = (data['refundable_support'] + data['nonrefundable_support']) / data['budget']"
   ]
  },
  {
   "cell_type": "code",
   "execution_count": 36,
   "metadata": {},
   "outputs": [],
   "source": [
    "data['all_support'] = data['refundable_support'] + data['nonrefundable_support']\n",
    "data['payback'] = data['box_office'] - data['budget']"
   ]
  },
  {
   "cell_type": "markdown",
   "metadata": {
    "id": "6t4EukPLgFyV"
   },
   "source": [
    "### Шаг 3. Проведите исследовательский анализ данных\n"
   ]
  },
  {
   "cell_type": "markdown",
   "metadata": {
    "id": "vAH8WCzugFyV"
   },
   "source": [
    "- Посмотрите, сколько фильмов выходило в прокат каждый год. Обратите внимание, что данные о прокате в кинотеатрах известны не для всех фильмов. Посчитайте, какую долю составляют фильмы с указанной информацией о прокате в кинотеатрах."
   ]
  },
  {
   "cell_type": "code",
   "execution_count": 37,
   "metadata": {
    "id": "ABeV47y7gFyW"
   },
   "outputs": [
    {
     "data": {
      "text/plain": [
       "0.4188719593691526"
      ]
     },
     "execution_count": 37,
     "metadata": {},
     "output_type": "execute_result"
    }
   ],
   "source": [
    "data_rental = data.query('box_office > 0')\n",
    "len(data_rental)/len(data)"
   ]
  },
  {
   "cell_type": "markdown",
   "metadata": {},
   "source": [
    "Получается, что менее половины фильмов имеют информацию о прокате. Сгруппируем по годам выпуска фильмы и посмотрим когда сколько фильмов выходило."
   ]
  },
  {
   "cell_type": "code",
   "execution_count": 38,
   "metadata": {},
   "outputs": [
    {
     "data": {
      "image/png": "[encoded data removed]",
      "text/plain": [
       "<Figure size 432x288 with 1 Axes>"
      ]
     },
     "metadata": {
      "needs_background": "light"
     },
     "output_type": "display_data"
    }
   ],
   "source": [
    "data_rental_pivot_table = data_rental.pivot_table(index = 'show_start_year', values = 'title', aggfunc = 'count')\n",
    "data_rental_pivot_table.plot(legend = False)\n",
    "plt.title('Количество выпущенных в прокат фильмов в зависимости от года')\n",
    "plt.ylabel('number_of_films')\n",
    "plt.show()"
   ]
  },
  {
   "cell_type": "markdown",
   "metadata": {},
   "source": [
    "Видим, что c 2010 года число фильмов увеличивается с максимумом в 2016 году (фильмы с указанными суммами проката). Есть локальный минимум в 2017 году."
   ]
  },
  {
   "cell_type": "code",
   "execution_count": 39,
   "metadata": {
    "scrolled": true
   },
   "outputs": [
    {
     "data": {
      "text/plain": [
       "show_start_year\n",
       "2010    0.032227\n",
       "2011    0.034780\n",
       "2012    0.039247\n",
       "2013    0.057116\n",
       "2014    0.087109\n",
       "2015    0.147415\n",
       "2016    0.167518\n",
       "2017    0.113912\n",
       "2018    0.151563\n",
       "2019    0.169113\n",
       "Name: title, dtype: float64"
      ]
     },
     "execution_count": 39,
     "metadata": {},
     "output_type": "execute_result"
    }
   ],
   "source": [
    "data_rental.groupby('show_start_year')['title'].count()/len(data_rental)"
   ]
  },
  {
   "cell_type": "markdown",
   "metadata": {},
   "source": [
    "Получается, что за 2015-2019 года представлено значительно больше данных, нежели в 2010-2014."
   ]
  },
  {
   "cell_type": "markdown",
   "metadata": {
    "id": "BEOdcIrIgFyW"
   },
   "source": [
    "- Изучите, как менялась динамика проката по годам. В каком году сумма сборов была минимальной? А максимальной?"
   ]
  },
  {
   "cell_type": "code",
   "execution_count": 40,
   "metadata": {
    "id": "tfEhofYvgFyX"
   },
   "outputs": [
    {
     "data": {
      "image/png": "[encoded data removed]",
      "text/plain": [
       "<Figure size 432x288 with 1 Axes>"
      ]
     },
     "metadata": {
      "needs_background": "light"
     },
     "output_type": "display_data"
    }
   ],
   "source": [
    "data_box_pivot_table = data.pivot_table(index = 'show_start_year', values = 'box_office', aggfunc = 'sum')\n",
    "data_box_pivot_table.plot(legend = False)\n",
    "plt.title('Сборы в прокате по годам')\n",
    "plt.ylabel('box_office_sum')\n",
    "plt.show()"
   ]
  },
  {
   "cell_type": "markdown",
   "metadata": {},
   "source": [
    "Судя по всему данные по сборам есть только с 2013 по 2019 года, поскольку всё время до этого сумма сборов составляет 0. При этом мы видим резкий скачок в 2014-2015 годах.Можно сказать, что наименьшие, не равные 0 сборы были в 2014 году, а максимальные в 2018."
   ]
  },
  {
   "cell_type": "markdown",
   "metadata": {
    "id": "G-7qS-N-gFyY"
   },
   "source": [
    "- С помощью сводной таблицы посчитайте среднюю и медианную сумму сборов для каждого года."
   ]
  },
  {
   "cell_type": "code",
   "execution_count": 41,
   "metadata": {
    "id": "jmp-rgg9gFyY",
    "scrolled": true
   },
   "outputs": [
    {
     "data": {
      "text/html": [
       "<div>\n",
       "<style scoped>\n",
       "    .dataframe tbody tr th:only-of-type {\n",
       "        vertical-align: middle;\n",
       "    }\n",
       "\n",
       "    .dataframe tbody tr th {\n",
       "        vertical-align: top;\n",
       "    }\n",
       "\n",
       "    .dataframe thead th {\n",
       "        text-align: right;\n",
       "    }\n",
       "</style>\n",
       "<table border=\"1\" class=\"dataframe\">\n",
       "  <thead>\n",
       "    <tr style=\"text-align: right;\">\n",
       "      <th></th>\n",
       "      <th>mean</th>\n",
       "      <th>median</th>\n",
       "    </tr>\n",
       "    <tr>\n",
       "      <th>show_start_year</th>\n",
       "      <th></th>\n",
       "      <th></th>\n",
       "    </tr>\n",
       "  </thead>\n",
       "  <tbody>\n",
       "    <tr>\n",
       "      <td>2010</td>\n",
       "      <td>2.313004e+04</td>\n",
       "      <td>1700.000</td>\n",
       "    </tr>\n",
       "    <tr>\n",
       "      <td>2011</td>\n",
       "      <td>1.293832e+05</td>\n",
       "      <td>3000.000</td>\n",
       "    </tr>\n",
       "    <tr>\n",
       "      <td>2012</td>\n",
       "      <td>5.433924e+04</td>\n",
       "      <td>5660.000</td>\n",
       "    </tr>\n",
       "    <tr>\n",
       "      <td>2013</td>\n",
       "      <td>1.619549e+05</td>\n",
       "      <td>3522.500</td>\n",
       "    </tr>\n",
       "    <tr>\n",
       "      <td>2014</td>\n",
       "      <td>2.668442e+07</td>\n",
       "      <td>18160.000</td>\n",
       "    </tr>\n",
       "    <tr>\n",
       "      <td>2015</td>\n",
       "      <td>8.494057e+07</td>\n",
       "      <td>4920933.000</td>\n",
       "    </tr>\n",
       "    <tr>\n",
       "      <td>2016</td>\n",
       "      <td>9.100057e+07</td>\n",
       "      <td>3846679.410</td>\n",
       "    </tr>\n",
       "    <tr>\n",
       "      <td>2017</td>\n",
       "      <td>1.360328e+08</td>\n",
       "      <td>9968340.000</td>\n",
       "    </tr>\n",
       "    <tr>\n",
       "      <td>2018</td>\n",
       "      <td>1.045651e+08</td>\n",
       "      <td>8891102.210</td>\n",
       "    </tr>\n",
       "    <tr>\n",
       "      <td>2019</td>\n",
       "      <td>9.136926e+07</td>\n",
       "      <td>4627798.345</td>\n",
       "    </tr>\n",
       "  </tbody>\n",
       "</table>\n",
       "</div>"
      ],
      "text/plain": [
       "                         mean       median\n",
       "show_start_year                           \n",
       "2010             2.313004e+04     1700.000\n",
       "2011             1.293832e+05     3000.000\n",
       "2012             5.433924e+04     5660.000\n",
       "2013             1.619549e+05     3522.500\n",
       "2014             2.668442e+07    18160.000\n",
       "2015             8.494057e+07  4920933.000\n",
       "2016             9.100057e+07  3846679.410\n",
       "2017             1.360328e+08  9968340.000\n",
       "2018             1.045651e+08  8891102.210\n",
       "2019             9.136926e+07  4627798.345"
      ]
     },
     "execution_count": 41,
     "metadata": {},
     "output_type": "execute_result"
    }
   ],
   "source": [
    "data_box_pivot_table_sr = data.pivot_table(index = 'show_start_year', values = 'box_office', aggfunc = ['mean', 'median'])\n",
    "data_box_pivot_table_sr.columns = ['mean', 'median']\n",
    "data_box_pivot_table_sr"
   ]
  },
  {
   "cell_type": "markdown",
   "metadata": {},
   "source": [
    "Видим, что в 2010 - 2013 годах сборы были всё-таки не нулевыми, но с подозрительно маленькой суммой. Либо это были совсем провальные фильмы, либо есть какая-то ошибка в порядке записи чисел. Это следовало бы уточнить при выгрузке данных. При этом между средним и медианой достаточно большой разрыв, то есть скорее всего были как и очень удачные фильмы, так и собравшие совсем немного."
   ]
  },
  {
   "cell_type": "markdown",
   "metadata": {
    "id": "Ok89WFwJgFyZ"
   },
   "source": [
    "- Определите, влияет ли возрастное ограничение аудитории («6+», «12+», «16+», «18+» и т. д.) на сборы фильма в прокате в период с 2015 по 2019 год? Фильмы с каким возрастным ограничением собрали больше всего денег в прокате? Меняется ли картина в зависимости от года? Если да, предположите, с чем это может быть связано."
   ]
  },
  {
   "cell_type": "markdown",
   "metadata": {},
   "source": [
    "Выделим фильмы, вышедшие в 2015-2019 годах."
   ]
  },
  {
   "cell_type": "code",
   "execution_count": 42,
   "metadata": {
    "id": "jsSbEqfjgFya"
   },
   "outputs": [],
   "source": [
    "data_age_restriction = data.query('show_start_year in (2015, 2016, 2017, 2018, 2019)')"
   ]
  },
  {
   "cell_type": "code",
   "execution_count": 43,
   "metadata": {
    "scrolled": true
   },
   "outputs": [
    {
     "data": {
      "text/plain": [
       "age_restriction\n",
       "«0+» - для любой зрительской аудитории    8.090774e+08\n",
       "«12+» - для детей старше 12 лет           6.061945e+10\n",
       "«16+» - для детей старше 16 лет           7.603473e+10\n",
       "«18+» - запрещено для детей               4.075962e+10\n",
       "«6+» - для детей старше 6 лет             5.579861e+10\n",
       "Name: box_office, dtype: float64"
      ]
     },
     "execution_count": 43,
     "metadata": {},
     "output_type": "execute_result"
    }
   ],
   "source": [
    "data_age_restriction.groupby('age_restriction')['box_office'].sum()"
   ]
  },
  {
   "cell_type": "markdown",
   "metadata": {},
   "source": [
    "Если смотреть в общем, без разбиения по годам, то видим, что больше всего собирают фильмы с возрастным ограничением 16+. Это может быть связано с тем, что такие фильмы как раз вызывают интерес у молодежи, под такой рейтинг попадает большинство триллеров, детективов, комедий, фантастики, то есть это самое универсальное возрастное ограничение для не совсем детских интересных фильмов при этом без жестокости в сюжете. Меньше всех набирают фильмы 0+, скорее всего это связано с тем, что чаще всего такие фильмы рассчитаны на маленьких детей, что сразу отметает большую часть взрослой и подростковой аудитории. Попробуем посмотреть по годам в отдельности. Рассмотрим количество фильмов в каждый из годов."
   ]
  },
  {
   "cell_type": "code",
   "execution_count": 44,
   "metadata": {
    "scrolled": true
   },
   "outputs": [
    {
     "data": {
      "text/plain": [
       "show_start_year  age_restriction                       \n",
       "2015             «0+» - для любой зрительской аудитории     39\n",
       "                 «12+» - для детей старше 12 лет            73\n",
       "                 «16+» - для детей старше 16 лет           168\n",
       "                 «18+» - запрещено для детей               132\n",
       "                 «6+» - для детей старше 6 лет              53\n",
       "2016             «0+» - для любой зрительской аудитории     41\n",
       "                 «12+» - для детей старше 12 лет            82\n",
       "                 «16+» - для детей старше 16 лет           182\n",
       "                 «18+» - запрещено для детей               151\n",
       "                 «6+» - для детей старше 6 лет              70\n",
       "2017             «0+» - для любой зрительской аудитории      3\n",
       "                 «12+» - для детей старше 12 лет            41\n",
       "                 «16+» - для детей старше 16 лет           121\n",
       "                 «18+» - запрещено для детей               147\n",
       "                 «6+» - для детей старше 6 лет              45\n",
       "2018             «0+» - для любой зрительской аудитории      5\n",
       "                 «12+» - для детей старше 12 лет            67\n",
       "                 «16+» - для детей старше 16 лет           156\n",
       "                 «18+» - запрещено для детей               179\n",
       "                 «6+» - для детей старше 6 лет              68\n",
       "2019             «0+» - для любой зрительской аудитории      3\n",
       "                 «12+» - для детей старше 12 лет            85\n",
       "                 «16+» - для детей старше 16 лет           178\n",
       "                 «18+» - запрещено для детей               183\n",
       "                 «6+» - для детей старше 6 лет              81\n",
       "Name: box_office, dtype: int64"
      ]
     },
     "execution_count": 44,
     "metadata": {},
     "output_type": "execute_result"
    }
   ],
   "source": [
    "data_age_restriction.groupby(['show_start_year', 'age_restriction'])['box_office'].count()"
   ]
  },
  {
   "cell_type": "markdown",
   "metadata": {},
   "source": [
    "Получается, что в некоторых категориях в определенные года было выпущено совсем небольшое количество фильмов, и будет необъективно считать сумму сборов, поэтому найдем медианные сборы по каждой категории."
   ]
  },
  {
   "cell_type": "code",
   "execution_count": 45,
   "metadata": {},
   "outputs": [
    {
     "data": {
      "text/plain": [
       "show_start_year  age_restriction                       \n",
       "2015             «0+» - для любой зрительской аудитории    2.943319e+06\n",
       "                 «12+» - для детей старше 12 лет           1.535156e+07\n",
       "                 «16+» - для детей старше 16 лет           4.676819e+06\n",
       "                 «18+» - запрещено для детей               4.616615e+06\n",
       "                 «6+» - для детей старше 6 лет             2.038098e+07\n",
       "2016             «0+» - для любой зрительской аудитории    2.571294e+06\n",
       "                 «12+» - для детей старше 12 лет           4.690635e+06\n",
       "                 «16+» - для детей старше 16 лет           5.133022e+06\n",
       "                 «18+» - запрещено для детей               6.107002e+06\n",
       "                 «6+» - для детей старше 6 лет             3.026256e+06\n",
       "2017             «0+» - для любой зрительской аудитории    2.217896e+07\n",
       "                 «12+» - для детей старше 12 лет           9.010548e+06\n",
       "                 «16+» - для детей старше 16 лет           9.702077e+06\n",
       "                 «18+» - запрещено для детей               8.212677e+06\n",
       "                 «6+» - для детей старше 6 лет             5.199210e+07\n",
       "2018             «0+» - для любой зрительской аудитории    3.616937e+06\n",
       "                 «12+» - для детей старше 12 лет           8.931966e+06\n",
       "                 «16+» - для детей старше 16 лет           9.010639e+06\n",
       "                 «18+» - запрещено для детей               7.179466e+06\n",
       "                 «6+» - для детей старше 6 лет             1.468885e+07\n",
       "2019             «0+» - для любой зрительской аудитории    3.885434e+06\n",
       "                 «12+» - для детей старше 12 лет           3.405546e+06\n",
       "                 «16+» - для детей старше 16 лет           3.210718e+06\n",
       "                 «18+» - запрещено для детей               5.603217e+06\n",
       "                 «6+» - для детей старше 6 лет             1.287535e+07\n",
       "Name: box_office, dtype: float64"
      ]
     },
     "execution_count": 45,
     "metadata": {},
     "output_type": "execute_result"
    }
   ],
   "source": [
    "data_age_restriction.groupby(['show_start_year', 'age_restriction'])['box_office'].median()"
   ]
  },
  {
   "cell_type": "markdown",
   "metadata": {},
   "source": [
    "Фильмы с возрастным ограничением 0+ стабильно набирают меньше всего во время проката (за исключением 2017 года, видимо, там вышли фильмы, которые пользовались большой популярностью), скорее всего это связано с описанными выше причинами. А вот больше всего в каждый год набирают разные возрастные категории. Возможно, это как-то связано с настроением населения, ситуацией в стране, на такой вывод наталкивает ситуация в 2015 году, этот год можно считать самым сложным из перечисленных, и именно в него лидируют фильмы 6+. Возможно, что просто в разные года выходили хорошие картины под разными возрастными ограничениями и это зависит от качества фильмов в тот или иной промежуток."
   ]
  },
  {
   "cell_type": "markdown",
   "metadata": {
    "id": "l_Kg6Ku4gFya"
   },
   "source": [
    "### Шаг 4. Исследуйте фильмы, которые получили государственную поддержку\n",
    "\n",
    "На этом этапе нет конкретных инструкций и заданий — поищите интересные закономерности в данных. Посмотрите, сколько выделяют средств на поддержку кино. Проверьте, хорошо ли окупаются такие фильмы, какой у них рейтинг."
   ]
  },
  {
   "cell_type": "markdown",
   "metadata": {
    "id": "W9QKpjUdgFyb"
   },
   "source": [
    "Соберем все фильмы с госфинансированием в один датасет, бюджет указан всего лишь у 5% данных."
   ]
  },
  {
   "cell_type": "code",
   "execution_count": 46,
   "metadata": {
    "scrolled": true
   },
   "outputs": [
    {
     "data": {
      "text/plain": [
       "332"
      ]
     },
     "execution_count": 46,
     "metadata": {},
     "output_type": "execute_result"
    }
   ],
   "source": [
    "data_support = data.query('budget >=0')\n",
    "len(data_support)"
   ]
  },
  {
   "cell_type": "code",
   "execution_count": 47,
   "metadata": {},
   "outputs": [
    {
     "data": {
      "text/plain": [
       "count    314.000000\n",
       "mean       6.000637\n",
       "std        1.123948\n",
       "min        1.000000\n",
       "25%        5.300000\n",
       "50%        6.200000\n",
       "75%        6.700000\n",
       "max        8.500000\n",
       "Name: ratings, dtype: float64"
      ]
     },
     "execution_count": 47,
     "metadata": {},
     "output_type": "execute_result"
    }
   ],
   "source": [
    "data_support['ratings'].describe()"
   ]
  },
  {
   "cell_type": "code",
   "execution_count": 48,
   "metadata": {
    "scrolled": true
   },
   "outputs": [
    {
     "data": {
      "text/html": [
       "<div>\n",
       "<style scoped>\n",
       "    .dataframe tbody tr th:only-of-type {\n",
       "        vertical-align: middle;\n",
       "    }\n",
       "\n",
       "    .dataframe tbody tr th {\n",
       "        vertical-align: top;\n",
       "    }\n",
       "\n",
       "    .dataframe thead th {\n",
       "        text-align: right;\n",
       "    }\n",
       "</style>\n",
       "<table border=\"1\" class=\"dataframe\">\n",
       "  <thead>\n",
       "    <tr style=\"text-align: right;\">\n",
       "      <th></th>\n",
       "      <th>mean</th>\n",
       "      <th>count</th>\n",
       "      <th>median</th>\n",
       "    </tr>\n",
       "    <tr>\n",
       "      <th>show_start_year</th>\n",
       "      <th></th>\n",
       "      <th></th>\n",
       "      <th></th>\n",
       "    </tr>\n",
       "  </thead>\n",
       "  <tbody>\n",
       "    <tr>\n",
       "      <td>2013</td>\n",
       "      <td>6.700000</td>\n",
       "      <td>2</td>\n",
       "      <td>6.7</td>\n",
       "    </tr>\n",
       "    <tr>\n",
       "      <td>2014</td>\n",
       "      <td>6.006667</td>\n",
       "      <td>15</td>\n",
       "      <td>6.4</td>\n",
       "    </tr>\n",
       "    <tr>\n",
       "      <td>2015</td>\n",
       "      <td>6.064198</td>\n",
       "      <td>81</td>\n",
       "      <td>6.2</td>\n",
       "    </tr>\n",
       "    <tr>\n",
       "      <td>2016</td>\n",
       "      <td>5.677193</td>\n",
       "      <td>57</td>\n",
       "      <td>5.8</td>\n",
       "    </tr>\n",
       "    <tr>\n",
       "      <td>2017</td>\n",
       "      <td>6.000000</td>\n",
       "      <td>39</td>\n",
       "      <td>6.2</td>\n",
       "    </tr>\n",
       "    <tr>\n",
       "      <td>2018</td>\n",
       "      <td>6.001887</td>\n",
       "      <td>53</td>\n",
       "      <td>6.2</td>\n",
       "    </tr>\n",
       "    <tr>\n",
       "      <td>2019</td>\n",
       "      <td>6.176119</td>\n",
       "      <td>67</td>\n",
       "      <td>6.2</td>\n",
       "    </tr>\n",
       "  </tbody>\n",
       "</table>\n",
       "</div>"
      ],
      "text/plain": [
       "                     mean  count  median\n",
       "show_start_year                         \n",
       "2013             6.700000      2     6.7\n",
       "2014             6.006667     15     6.4\n",
       "2015             6.064198     81     6.2\n",
       "2016             5.677193     57     5.8\n",
       "2017             6.000000     39     6.2\n",
       "2018             6.001887     53     6.2\n",
       "2019             6.176119     67     6.2"
      ]
     },
     "execution_count": 48,
     "metadata": {},
     "output_type": "execute_result"
    }
   ],
   "source": [
    "data_ratings_pivot_table = data_support.pivot_table(index = 'show_start_year', values = 'ratings', aggfunc = ['mean', 'count', 'median'])\n",
    "data_ratings_pivot_table.columns = ['mean', 'count', 'median']\n",
    "data_ratings_pivot_table"
   ]
  },
  {
   "cell_type": "markdown",
   "metadata": {},
   "source": [
    "Рейтинги оставляют желать лучшего. Фильмы, судя по всему, выходят достаточно посредственными и не могут набрать нормальный рейтинг. Однако встречаются исключения как совсем провальные с рейтингом 1, так и хорошие с рейтингом 8,5."
   ]
  },
  {
   "cell_type": "markdown",
   "metadata": {},
   "source": [
    "Посмотрим как распределялся объем финансирования по годам."
   ]
  },
  {
   "cell_type": "code",
   "execution_count": 49,
   "metadata": {
    "scrolled": true
   },
   "outputs": [
    {
     "data": {
      "image/png": "[encoded data removed]",
      "text/plain": [
       "<Figure size 432x288 with 1 Axes>"
      ]
     },
     "metadata": {
      "needs_background": "light"
     },
     "output_type": "display_data"
    }
   ],
   "source": [
    "data_financial_pivot_table = data_support.pivot_table(index = 'show_start_year', values = 'all_support')\n",
    "data_financial_pivot_table.plot(legend = False)\n",
    "plt.title('Зависимость объема господдержки от года выпуска фильма')\n",
    "plt.ylabel('all_support')\n",
    "plt.show()"
   ]
  },
  {
   "cell_type": "markdown",
   "metadata": {},
   "source": [
    "Получается, что в 2017 году объемы спонсирования были самыми большими, однако этот год не отличился большим количеством фильмов и высокими рейтингами, если сравнивать это со сводной таблицей выше."
   ]
  },
  {
   "cell_type": "code",
   "execution_count": 50,
   "metadata": {
    "scrolled": false
   },
   "outputs": [
    {
     "data": {
      "image/png": "[encoded data removed]",
      "text/plain": [
       "<Figure size 432x576 with 2 Axes>"
      ]
     },
     "metadata": {
      "needs_background": "light"
     },
     "output_type": "display_data"
    }
   ],
   "source": [
    "data_support.plot(kind ='scatter', x = 'show_start_year', y = 'payback', c = 'ratings', cmap='RdYlGn', figsize = (6, 8), title = 'Зависимость окупаемости от года выпуска')\n",
    "plt.show()"
   ]
  },
  {
   "cell_type": "markdown",
   "metadata": {},
   "source": [
    "Получается, что даже фильмы с относительно неплохим рейтингом часто не окупаются, а большая часть фильмов, судя по всему, выходит в ноль, а то и в отрицательные значения. "
   ]
  },
  {
   "cell_type": "markdown",
   "metadata": {
    "id": "V2gYwMcPgFyd"
   },
   "source": [
    "## Общий вывод"
   ]
  },
  {
   "cell_type": "markdown",
   "metadata": {
    "id": "AYRg3dzXgFye"
   },
   "source": [
    "Изначально мы получили данные с огромным количеством пропусков в финансировании. После предобработки и добавления требуемых столбцов, мы выявили некоторые интересные вещи:\n",
    "- сборы фильма сильно зависят от возрастного ограничения, категория 0+ стабильно имеет меньше всего сборов, скорее всего это связано со спецификой сюжетов и тем, что такие фильмы чаще пользуются популярностью у детей.\n",
    "- фильмы выпускаются в прокат неравномерно в зависимости от года, так, в 2017 году наблюдается минимальное количество выпущенных фильмов, хотя видимых причин для этого нет, однако данные о прокате представлены лишь для половины датасета, возможно, при заполнении неизвестных значений картина бы изменилась.\n",
    "- если говорить о сборах, то их количество резко возрастает с 2014 года и увеличивается на несколько порядков.\n",
    "\n",
    "Если говорить о фильмах, получивших государственную поддержку, то:\n",
    "- рейтинги фильмов составляют обычно около 6, это не особо хороший показатель, который говорит не о самом лучшем их приеме среди публики\n",
    "- объем финансирования отличается от года к году, так, видим, что в 2014 году наблюдалась минимальная сумма господдержки, а в 2017 ее максимум, хотя нельзя сказать, что в 2017 появилось больше фильмов, чем в другие года, рейтинги их тоже не сильно отличаются\n",
    "- можно сделать вывод, что окупаемость фильма не сильно зависит от размера вложений в него и рейтинга, есть примеры, когда фильмы с хорошими рейтингами не окупаются, а с плохими выходят в плюс\n",
    "\n",
    "Сложно сказать, что господдержка сильно влияет на качество фильмов, судя по данным фильмы не сильно окупаются, скорее всего требуется наладить более строгий отбор проектов для финансирования или лучше изучить потребности аудитории и тренжды в кинематографе для финансирования чего-то стоящего."
   ]
  }
 ],
 "metadata": {
  "ExecuteTimeLog": [
   {
    "duration": 537,
    "start_time": "2021-07-07T10:12:08.634Z"
   },
   {
    "duration": 206,
    "start_time": "2021-07-07T10:12:30.191Z"
   },
   {
    "duration": 227,
    "start_time": "2021-07-07T10:12:33.078Z"
   },
   {
    "duration": 153,
    "start_time": "2021-07-07T10:13:42.146Z"
   },
   {
    "duration": 233,
    "start_time": "2021-07-07T10:30:09.252Z"
   },
   {
    "duration": 19,
    "start_time": "2021-07-07T10:30:15.577Z"
   },
   {
    "duration": 18,
    "start_time": "2021-07-07T10:30:57.348Z"
   },
   {
    "duration": 19,
    "start_time": "2021-07-07T10:31:17.452Z"
   },
   {
    "duration": 21,
    "start_time": "2021-07-07T10:31:32.227Z"
   },
   {
    "duration": 27,
    "start_time": "2021-07-07T10:32:06.588Z"
   },
   {
    "duration": 23,
    "start_time": "2021-07-07T10:32:43.645Z"
   },
   {
    "duration": 24,
    "start_time": "2021-07-07T10:33:06.948Z"
   },
   {
    "duration": 7,
    "start_time": "2021-07-07T10:33:28.558Z"
   },
   {
    "duration": 23,
    "start_time": "2021-07-07T10:33:43.761Z"
   },
   {
    "duration": 28,
    "start_time": "2021-07-07T10:34:13.466Z"
   },
   {
    "duration": 23,
    "start_time": "2021-07-07T10:35:56.187Z"
   },
   {
    "duration": 6,
    "start_time": "2021-07-07T10:36:48.182Z"
   },
   {
    "duration": 14,
    "start_time": "2021-07-07T10:37:49.641Z"
   },
   {
    "duration": 6,
    "start_time": "2021-07-07T10:38:06.694Z"
   },
   {
    "duration": 6,
    "start_time": "2021-07-07T10:38:13.493Z"
   },
   {
    "duration": 19,
    "start_time": "2021-07-07T10:38:44.056Z"
   },
   {
    "duration": 186,
    "start_time": "2021-07-07T10:48:35.618Z"
   },
   {
    "duration": 24,
    "start_time": "2021-07-07T10:48:51.498Z"
   },
   {
    "duration": 20,
    "start_time": "2021-07-07T10:48:59.415Z"
   },
   {
    "duration": 20,
    "start_time": "2021-07-07T10:53:02.195Z"
   },
   {
    "duration": 188,
    "start_time": "2021-07-07T10:54:40.486Z"
   },
   {
    "duration": 115,
    "start_time": "2021-07-07T10:54:52.552Z"
   },
   {
    "duration": 214,
    "start_time": "2021-07-07T10:54:56.354Z"
   },
   {
    "duration": 47,
    "start_time": "2021-07-07T10:54:58.282Z"
   },
   {
    "duration": 217,
    "start_time": "2021-07-07T10:59:16.075Z"
   },
   {
    "duration": 51,
    "start_time": "2021-07-07T10:59:16.243Z"
   },
   {
    "duration": 578,
    "start_time": "2021-07-07T10:59:18.774Z"
   },
   {
    "duration": 161,
    "start_time": "2021-07-07T10:59:21.238Z"
   },
   {
    "duration": 59,
    "start_time": "2021-07-07T10:59:21.453Z"
   },
   {
    "duration": 3,
    "start_time": "2021-07-07T11:02:10.786Z"
   },
   {
    "duration": 13,
    "start_time": "2021-07-07T11:07:07.722Z"
   },
   {
    "duration": 26,
    "start_time": "2021-07-07T11:07:17.958Z"
   },
   {
    "duration": 22,
    "start_time": "2021-07-07T11:08:17.939Z"
   },
   {
    "duration": 212,
    "start_time": "2021-07-07T11:08:19.665Z"
   },
   {
    "duration": 21,
    "start_time": "2021-07-07T11:08:29.945Z"
   },
   {
    "duration": 31,
    "start_time": "2021-07-07T11:08:38.899Z"
   },
   {
    "duration": 23,
    "start_time": "2021-07-07T11:08:54.527Z"
   },
   {
    "duration": 8,
    "start_time": "2021-07-07T11:18:55.974Z"
   },
   {
    "duration": 7,
    "start_time": "2021-07-07T11:19:03.639Z"
   },
   {
    "duration": 7,
    "start_time": "2021-07-07T11:19:06.444Z"
   },
   {
    "duration": 578,
    "start_time": "2021-07-07T12:09:59.576Z"
   },
   {
    "duration": 195,
    "start_time": "2021-07-07T12:10:00.156Z"
   },
   {
    "duration": 115,
    "start_time": "2021-07-07T12:10:00.353Z"
   },
   {
    "duration": 3,
    "start_time": "2021-07-07T12:10:00.470Z"
   },
   {
    "duration": 32,
    "start_time": "2021-07-07T12:10:00.474Z"
   },
   {
    "duration": 23,
    "start_time": "2021-07-07T12:10:00.508Z"
   },
   {
    "duration": 19,
    "start_time": "2021-07-07T12:10:00.533Z"
   },
   {
    "duration": 44,
    "start_time": "2021-07-07T12:10:00.553Z"
   },
   {
    "duration": 7,
    "start_time": "2021-07-07T12:10:00.600Z"
   },
   {
    "duration": 7,
    "start_time": "2021-07-07T12:19:45.761Z"
   },
   {
    "duration": 21,
    "start_time": "2021-07-07T12:21:35.482Z"
   },
   {
    "duration": 21,
    "start_time": "2021-07-07T12:29:23.569Z"
   },
   {
    "duration": 525,
    "start_time": "2021-07-07T12:29:44.542Z"
   },
   {
    "duration": 214,
    "start_time": "2021-07-07T12:29:45.069Z"
   },
   {
    "duration": 92,
    "start_time": "2021-07-07T12:29:45.285Z"
   },
   {
    "duration": 3,
    "start_time": "2021-07-07T12:29:45.379Z"
   },
   {
    "duration": 28,
    "start_time": "2021-07-07T12:29:45.384Z"
   },
   {
    "duration": 23,
    "start_time": "2021-07-07T12:29:45.413Z"
   },
   {
    "duration": 21,
    "start_time": "2021-07-07T12:29:45.437Z"
   },
   {
    "duration": 41,
    "start_time": "2021-07-07T12:29:45.460Z"
   },
   {
    "duration": 7,
    "start_time": "2021-07-07T12:29:45.502Z"
   },
   {
    "duration": 20,
    "start_time": "2021-07-07T12:29:45.511Z"
   },
   {
    "duration": 12,
    "start_time": "2021-07-07T12:34:02.800Z"
   },
   {
    "duration": 7,
    "start_time": "2021-07-07T12:35:10.479Z"
   },
   {
    "duration": 8,
    "start_time": "2021-07-07T12:35:22.440Z"
   },
   {
    "duration": 6,
    "start_time": "2021-07-07T12:35:35.649Z"
   },
   {
    "duration": 6,
    "start_time": "2021-07-07T12:35:43.107Z"
   },
   {
    "duration": 22,
    "start_time": "2021-07-07T12:38:03.029Z"
   },
   {
    "duration": 10,
    "start_time": "2021-07-07T12:38:06.592Z"
   },
   {
    "duration": 563,
    "start_time": "2021-07-07T12:38:46.493Z"
   },
   {
    "duration": 265,
    "start_time": "2021-07-07T12:38:47.058Z"
   },
   {
    "duration": 94,
    "start_time": "2021-07-07T12:38:47.325Z"
   },
   {
    "duration": 3,
    "start_time": "2021-07-07T12:38:47.422Z"
   },
   {
    "duration": 30,
    "start_time": "2021-07-07T12:38:47.427Z"
   },
   {
    "duration": 16,
    "start_time": "2021-07-07T12:38:53.305Z"
   },
   {
    "duration": 10,
    "start_time": "2021-07-07T12:38:53.499Z"
   },
   {
    "duration": 8,
    "start_time": "2021-07-07T12:39:48.161Z"
   },
   {
    "duration": 27,
    "start_time": "2021-07-07T12:41:17.629Z"
   },
   {
    "duration": 17,
    "start_time": "2021-07-07T12:41:17.867Z"
   },
   {
    "duration": 21,
    "start_time": "2021-07-07T12:41:19.310Z"
   },
   {
    "duration": 7,
    "start_time": "2021-07-07T12:41:19.544Z"
   },
   {
    "duration": 20,
    "start_time": "2021-07-07T12:41:20.504Z"
   },
   {
    "duration": 554,
    "start_time": "2021-07-07T12:56:23.696Z"
   },
   {
    "duration": 200,
    "start_time": "2021-07-07T12:56:25.234Z"
   },
   {
    "duration": 119,
    "start_time": "2021-07-07T12:56:25.480Z"
   },
   {
    "duration": 4,
    "start_time": "2021-07-07T12:56:25.762Z"
   },
   {
    "duration": 26,
    "start_time": "2021-07-07T12:56:27.172Z"
   },
   {
    "duration": 12,
    "start_time": "2021-07-07T12:56:29.051Z"
   },
   {
    "duration": 10,
    "start_time": "2021-07-07T12:56:29.291Z"
   },
   {
    "duration": 8,
    "start_time": "2021-07-07T12:56:29.623Z"
   },
   {
    "duration": 28,
    "start_time": "2021-07-07T12:56:32.137Z"
   },
   {
    "duration": 19,
    "start_time": "2021-07-07T12:56:39.785Z"
   },
   {
    "duration": 20,
    "start_time": "2021-07-07T12:56:44.297Z"
   },
   {
    "duration": 7,
    "start_time": "2021-07-07T12:56:45.392Z"
   },
   {
    "duration": 23,
    "start_time": "2021-07-07T12:56:46.615Z"
   },
   {
    "duration": 4,
    "start_time": "2021-07-07T12:57:06.625Z"
   },
   {
    "duration": 32,
    "start_time": "2021-07-07T12:57:36.690Z"
   },
   {
    "duration": 18,
    "start_time": "2021-07-07T12:58:00.149Z"
   },
   {
    "duration": 15,
    "start_time": "2021-07-07T12:59:16.793Z"
   },
   {
    "duration": 7,
    "start_time": "2021-07-07T13:19:22.624Z"
   },
   {
    "duration": 6,
    "start_time": "2021-07-07T14:17:33.527Z"
   },
   {
    "duration": 9,
    "start_time": "2021-07-07T14:17:48.409Z"
   },
   {
    "duration": 8,
    "start_time": "2021-07-07T14:20:13.060Z"
   },
   {
    "duration": 8,
    "start_time": "2021-07-07T14:20:37.957Z"
   },
   {
    "duration": 8,
    "start_time": "2021-07-07T14:20:47.470Z"
   },
   {
    "duration": 9,
    "start_time": "2021-07-07T14:20:54.503Z"
   },
   {
    "duration": 10,
    "start_time": "2021-07-07T14:28:57.763Z"
   },
   {
    "duration": 3,
    "start_time": "2021-07-07T14:30:23.377Z"
   },
   {
    "duration": 3,
    "start_time": "2021-07-07T14:30:36.489Z"
   },
   {
    "duration": 103,
    "start_time": "2021-07-07T14:30:52.351Z"
   },
   {
    "duration": 8,
    "start_time": "2021-07-07T14:30:54.763Z"
   },
   {
    "duration": 8,
    "start_time": "2021-07-07T14:31:29.301Z"
   },
   {
    "duration": 13,
    "start_time": "2021-07-07T14:31:44.516Z"
   },
   {
    "duration": 7,
    "start_time": "2021-07-07T14:33:10.972Z"
   },
   {
    "duration": 11,
    "start_time": "2021-07-07T14:33:27.780Z"
   },
   {
    "duration": 8,
    "start_time": "2021-07-07T14:34:44.588Z"
   },
   {
    "duration": 57,
    "start_time": "2021-07-07T14:35:59.042Z"
   },
   {
    "duration": 3,
    "start_time": "2021-07-07T14:36:28.168Z"
   },
   {
    "duration": 5,
    "start_time": "2021-07-07T14:36:46.254Z"
   },
   {
    "duration": 4,
    "start_time": "2021-07-07T14:36:52.714Z"
   },
   {
    "duration": 3,
    "start_time": "2021-07-07T14:36:56.612Z"
   },
   {
    "duration": 4,
    "start_time": "2021-07-07T14:36:57.049Z"
   },
   {
    "duration": 3,
    "start_time": "2021-07-07T14:39:21.214Z"
   },
   {
    "duration": 7,
    "start_time": "2021-07-07T14:39:52.406Z"
   },
   {
    "duration": 11,
    "start_time": "2021-07-07T14:39:58.576Z"
   },
   {
    "duration": 9,
    "start_time": "2021-07-07T14:40:26.301Z"
   },
   {
    "duration": 10,
    "start_time": "2021-07-07T14:40:31.704Z"
   },
   {
    "duration": 11,
    "start_time": "2021-07-07T14:40:36.249Z"
   },
   {
    "duration": 10,
    "start_time": "2021-07-07T14:40:39.783Z"
   },
   {
    "duration": 9,
    "start_time": "2021-07-07T14:40:48.558Z"
   },
   {
    "duration": 10,
    "start_time": "2021-07-07T14:40:57.143Z"
   },
   {
    "duration": 9,
    "start_time": "2021-07-07T14:41:06.074Z"
   },
   {
    "duration": 4324,
    "start_time": "2021-07-07T14:41:22.004Z"
   },
   {
    "duration": 11,
    "start_time": "2021-07-07T14:41:33.392Z"
   },
   {
    "duration": 9,
    "start_time": "2021-07-07T14:41:39.288Z"
   },
   {
    "duration": 569,
    "start_time": "2021-07-07T14:42:14.387Z"
   },
   {
    "duration": 197,
    "start_time": "2021-07-07T14:42:14.959Z"
   },
   {
    "duration": 84,
    "start_time": "2021-07-07T14:42:16.052Z"
   },
   {
    "duration": 4,
    "start_time": "2021-07-07T14:42:16.900Z"
   },
   {
    "duration": 27,
    "start_time": "2021-07-07T14:42:19.898Z"
   },
   {
    "duration": 12,
    "start_time": "2021-07-07T14:42:21.577Z"
   },
   {
    "duration": 9,
    "start_time": "2021-07-07T14:42:21.813Z"
   },
   {
    "duration": 9,
    "start_time": "2021-07-07T14:42:22.569Z"
   },
   {
    "duration": 29,
    "start_time": "2021-07-07T14:42:25.837Z"
   },
   {
    "duration": 20,
    "start_time": "2021-07-07T14:42:27.003Z"
   },
   {
    "duration": 21,
    "start_time": "2021-07-07T14:42:28.767Z"
   },
   {
    "duration": 7,
    "start_time": "2021-07-07T14:42:29.838Z"
   },
   {
    "duration": 4,
    "start_time": "2021-07-07T14:43:25.493Z"
   },
   {
    "duration": 7,
    "start_time": "2021-07-07T14:43:26.573Z"
   },
   {
    "duration": 10,
    "start_time": "2021-07-07T14:43:31.639Z"
   },
   {
    "duration": 9,
    "start_time": "2021-07-07T14:43:32.046Z"
   },
   {
    "duration": 10,
    "start_time": "2021-07-07T14:43:33.301Z"
   },
   {
    "duration": 12,
    "start_time": "2021-07-07T14:43:33.658Z"
   },
   {
    "duration": 8,
    "start_time": "2021-07-07T14:43:34.552Z"
   },
   {
    "duration": 9,
    "start_time": "2021-07-07T14:43:35.058Z"
   },
   {
    "duration": 12,
    "start_time": "2021-07-07T14:43:35.914Z"
   },
   {
    "duration": 17,
    "start_time": "2021-07-07T14:45:34.368Z"
   },
   {
    "duration": 512,
    "start_time": "2021-07-07T14:51:58.236Z"
   },
   {
    "duration": 223,
    "start_time": "2021-07-07T14:51:58.750Z"
   },
   {
    "duration": 93,
    "start_time": "2021-07-07T14:51:58.977Z"
   },
   {
    "duration": 4,
    "start_time": "2021-07-07T14:51:59.071Z"
   },
   {
    "duration": 37,
    "start_time": "2021-07-07T14:51:59.077Z"
   },
   {
    "duration": 18,
    "start_time": "2021-07-07T14:51:59.116Z"
   },
   {
    "duration": 10,
    "start_time": "2021-07-07T14:51:59.137Z"
   },
   {
    "duration": 8,
    "start_time": "2021-07-07T14:51:59.149Z"
   },
   {
    "duration": 54,
    "start_time": "2021-07-07T14:51:59.158Z"
   },
   {
    "duration": 18,
    "start_time": "2021-07-07T14:51:59.213Z"
   },
   {
    "duration": 22,
    "start_time": "2021-07-07T14:51:59.232Z"
   },
   {
    "duration": 36,
    "start_time": "2021-07-07T14:51:59.255Z"
   },
   {
    "duration": 7,
    "start_time": "2021-07-07T14:51:59.293Z"
   },
   {
    "duration": 10,
    "start_time": "2021-07-07T14:51:59.302Z"
   },
   {
    "duration": 9,
    "start_time": "2021-07-07T14:51:59.313Z"
   },
   {
    "duration": 11,
    "start_time": "2021-07-07T14:51:59.324Z"
   },
   {
    "duration": 8,
    "start_time": "2021-07-07T14:51:59.337Z"
   },
   {
    "duration": 46,
    "start_time": "2021-07-07T14:51:59.347Z"
   },
   {
    "duration": 22,
    "start_time": "2021-07-07T14:51:59.395Z"
   },
   {
    "duration": 24,
    "start_time": "2021-07-07T14:57:32.911Z"
   },
   {
    "duration": 7,
    "start_time": "2021-07-07T14:58:22.070Z"
   },
   {
    "duration": 4,
    "start_time": "2021-07-07T14:59:11.239Z"
   },
   {
    "duration": 25,
    "start_time": "2021-07-07T15:07:22.208Z"
   },
   {
    "duration": 16,
    "start_time": "2021-07-07T15:08:25.560Z"
   },
   {
    "duration": 15,
    "start_time": "2021-07-07T15:08:40.647Z"
   },
   {
    "duration": 14,
    "start_time": "2021-07-07T15:08:46.669Z"
   },
   {
    "duration": 533,
    "start_time": "2021-07-07T15:18:07.440Z"
   },
   {
    "duration": 173,
    "start_time": "2021-07-07T15:18:07.974Z"
   },
   {
    "duration": 84,
    "start_time": "2021-07-07T15:18:08.149Z"
   },
   {
    "duration": 3,
    "start_time": "2021-07-07T15:18:08.235Z"
   },
   {
    "duration": 30,
    "start_time": "2021-07-07T15:18:08.240Z"
   },
   {
    "duration": 22,
    "start_time": "2021-07-07T15:18:08.272Z"
   },
   {
    "duration": 11,
    "start_time": "2021-07-07T15:18:08.295Z"
   },
   {
    "duration": 11,
    "start_time": "2021-07-07T15:18:08.309Z"
   },
   {
    "duration": 40,
    "start_time": "2021-07-07T15:18:08.322Z"
   },
   {
    "duration": 42,
    "start_time": "2021-07-07T15:18:08.364Z"
   },
   {
    "duration": 22,
    "start_time": "2021-07-07T15:18:08.408Z"
   },
   {
    "duration": 5,
    "start_time": "2021-07-07T15:18:08.432Z"
   },
   {
    "duration": 13,
    "start_time": "2021-07-07T15:18:08.439Z"
   },
   {
    "duration": 9,
    "start_time": "2021-07-07T15:18:08.454Z"
   },
   {
    "duration": 32,
    "start_time": "2021-07-07T15:18:08.465Z"
   },
   {
    "duration": 10,
    "start_time": "2021-07-07T15:18:08.501Z"
   },
   {
    "duration": 7,
    "start_time": "2021-07-07T15:18:08.513Z"
   },
   {
    "duration": 11,
    "start_time": "2021-07-07T15:18:08.521Z"
   },
   {
    "duration": 17,
    "start_time": "2021-07-07T15:18:08.534Z"
   },
   {
    "duration": 44,
    "start_time": "2021-07-07T15:18:08.553Z"
   },
   {
    "duration": 22,
    "start_time": "2021-07-07T15:18:08.599Z"
   },
   {
    "duration": 61,
    "start_time": "2021-07-07T15:18:08.622Z"
   },
   {
    "duration": 7,
    "start_time": "2021-07-07T15:18:39.457Z"
   },
   {
    "duration": 5,
    "start_time": "2021-07-07T16:05:17.020Z"
   },
   {
    "duration": 5,
    "start_time": "2021-07-07T16:51:28.794Z"
   },
   {
    "duration": 546,
    "start_time": "2021-07-07T16:52:26.306Z"
   },
   {
    "duration": 203,
    "start_time": "2021-07-07T16:52:27.523Z"
   },
   {
    "duration": 85,
    "start_time": "2021-07-07T16:52:27.736Z"
   },
   {
    "duration": 4,
    "start_time": "2021-07-07T16:52:27.899Z"
   },
   {
    "duration": 25,
    "start_time": "2021-07-07T16:52:28.674Z"
   },
   {
    "duration": 8,
    "start_time": "2021-07-07T16:52:32.956Z"
   },
   {
    "duration": 18,
    "start_time": "2021-07-07T16:52:35.616Z"
   },
   {
    "duration": 6,
    "start_time": "2021-07-07T16:52:36.913Z"
   },
   {
    "duration": 11,
    "start_time": "2021-07-07T16:52:40.258Z"
   },
   {
    "duration": 10,
    "start_time": "2021-07-07T16:52:46.251Z"
   },
   {
    "duration": 8,
    "start_time": "2021-07-07T16:52:47.182Z"
   },
   {
    "duration": 27,
    "start_time": "2021-07-07T16:53:20.391Z"
   },
   {
    "duration": 20,
    "start_time": "2021-07-07T16:53:22.022Z"
   },
   {
    "duration": 23,
    "start_time": "2021-07-07T16:53:23.690Z"
   },
   {
    "duration": 8,
    "start_time": "2021-07-07T16:53:24.261Z"
   },
   {
    "duration": 4,
    "start_time": "2021-07-07T16:53:38.733Z"
   },
   {
    "duration": 7,
    "start_time": "2021-07-07T16:53:40.445Z"
   },
   {
    "duration": 11,
    "start_time": "2021-07-07T16:53:41.348Z"
   },
   {
    "duration": 13,
    "start_time": "2021-07-07T16:53:45.250Z"
   },
   {
    "duration": 12,
    "start_time": "2021-07-07T16:53:45.467Z"
   },
   {
    "duration": 4,
    "start_time": "2021-07-07T16:55:32.704Z"
   },
   {
    "duration": 12,
    "start_time": "2021-07-07T16:55:49.012Z"
   },
   {
    "duration": 18,
    "start_time": "2021-07-07T16:55:49.547Z"
   },
   {
    "duration": 611,
    "start_time": "2021-07-07T16:58:35.156Z"
   },
   {
    "duration": 200,
    "start_time": "2021-07-07T16:58:35.770Z"
   },
   {
    "duration": 86,
    "start_time": "2021-07-07T16:58:35.972Z"
   },
   {
    "duration": 3,
    "start_time": "2021-07-07T16:58:36.060Z"
   },
   {
    "duration": 27,
    "start_time": "2021-07-07T16:58:36.065Z"
   },
   {
    "duration": 8,
    "start_time": "2021-07-07T16:58:36.094Z"
   },
   {
    "duration": 17,
    "start_time": "2021-07-07T16:58:36.103Z"
   },
   {
    "duration": 5,
    "start_time": "2021-07-07T16:58:36.123Z"
   },
   {
    "duration": 11,
    "start_time": "2021-07-07T16:58:36.130Z"
   },
   {
    "duration": 7,
    "start_time": "2021-07-07T16:58:36.143Z"
   },
   {
    "duration": 37,
    "start_time": "2021-07-07T16:58:36.152Z"
   },
   {
    "duration": 27,
    "start_time": "2021-07-07T16:58:36.191Z"
   },
   {
    "duration": 19,
    "start_time": "2021-07-07T16:58:36.219Z"
   },
   {
    "duration": 49,
    "start_time": "2021-07-07T16:58:36.240Z"
   },
   {
    "duration": 6,
    "start_time": "2021-07-07T16:58:36.291Z"
   },
   {
    "duration": 3,
    "start_time": "2021-07-07T16:58:36.299Z"
   },
   {
    "duration": 13,
    "start_time": "2021-07-07T16:58:36.304Z"
   },
   {
    "duration": 10,
    "start_time": "2021-07-07T16:58:36.319Z"
   },
   {
    "duration": 10,
    "start_time": "2021-07-07T16:58:36.331Z"
   },
   {
    "duration": 44,
    "start_time": "2021-07-07T16:58:36.343Z"
   },
   {
    "duration": 4,
    "start_time": "2021-07-07T16:58:36.388Z"
   },
   {
    "duration": 13,
    "start_time": "2021-07-07T16:58:36.394Z"
   },
   {
    "duration": 16,
    "start_time": "2021-07-07T16:58:36.410Z"
   },
   {
    "duration": 8,
    "start_time": "2021-07-07T17:02:31.629Z"
   },
   {
    "duration": 8,
    "start_time": "2021-07-07T17:02:34.308Z"
   },
   {
    "duration": 6,
    "start_time": "2021-07-07T17:05:13.483Z"
   },
   {
    "duration": 17,
    "start_time": "2021-07-07T17:05:20.606Z"
   },
   {
    "duration": 7,
    "start_time": "2021-07-07T17:05:34.638Z"
   },
   {
    "duration": 3,
    "start_time": "2021-07-07T17:06:31.883Z"
   },
   {
    "duration": 570,
    "start_time": "2021-07-07T17:06:37.165Z"
   },
   {
    "duration": 174,
    "start_time": "2021-07-07T17:06:37.737Z"
   },
   {
    "duration": 47,
    "start_time": "2021-07-07T17:06:37.913Z"
   },
   {
    "duration": 3,
    "start_time": "2021-07-07T17:06:37.962Z"
   },
   {
    "duration": 27,
    "start_time": "2021-07-07T17:06:37.967Z"
   },
   {
    "duration": 7,
    "start_time": "2021-07-07T17:06:37.996Z"
   },
   {
    "duration": 16,
    "start_time": "2021-07-07T17:06:38.005Z"
   },
   {
    "duration": 6,
    "start_time": "2021-07-07T17:06:38.024Z"
   },
   {
    "duration": 12,
    "start_time": "2021-07-07T17:06:38.031Z"
   },
   {
    "duration": 41,
    "start_time": "2021-07-07T17:06:38.045Z"
   },
   {
    "duration": 8,
    "start_time": "2021-07-07T17:06:38.088Z"
   },
   {
    "duration": 26,
    "start_time": "2021-07-07T17:06:38.098Z"
   },
   {
    "duration": 17,
    "start_time": "2021-07-07T17:06:38.126Z"
   },
   {
    "duration": 43,
    "start_time": "2021-07-07T17:06:38.144Z"
   },
   {
    "duration": 6,
    "start_time": "2021-07-07T17:06:38.188Z"
   },
   {
    "duration": 5,
    "start_time": "2021-07-07T17:06:38.195Z"
   },
   {
    "duration": 9,
    "start_time": "2021-07-07T17:06:38.201Z"
   },
   {
    "duration": 12,
    "start_time": "2021-07-07T17:06:38.212Z"
   },
   {
    "duration": 11,
    "start_time": "2021-07-07T17:06:38.226Z"
   },
   {
    "duration": 47,
    "start_time": "2021-07-07T17:06:38.239Z"
   },
   {
    "duration": 4,
    "start_time": "2021-07-07T17:06:38.288Z"
   },
   {
    "duration": 13,
    "start_time": "2021-07-07T17:06:38.293Z"
   },
   {
    "duration": 5,
    "start_time": "2021-07-07T17:06:38.309Z"
   },
   {
    "duration": 18,
    "start_time": "2021-07-07T17:06:38.325Z"
   },
   {
    "duration": 20,
    "start_time": "2021-07-07T17:07:02.805Z"
   },
   {
    "duration": 19,
    "start_time": "2021-07-07T17:07:08.527Z"
   },
   {
    "duration": 19,
    "start_time": "2021-07-07T17:07:12.758Z"
   },
   {
    "duration": 22,
    "start_time": "2021-07-07T17:07:17.497Z"
   },
   {
    "duration": 19,
    "start_time": "2021-07-07T17:07:19.645Z"
   },
   {
    "duration": 10,
    "start_time": "2021-07-07T17:07:34.239Z"
   },
   {
    "duration": 17,
    "start_time": "2021-07-07T17:07:54.144Z"
   },
   {
    "duration": 14,
    "start_time": "2021-07-07T17:08:14.357Z"
   },
   {
    "duration": 616,
    "start_time": "2021-07-07T17:08:45.254Z"
   },
   {
    "duration": 178,
    "start_time": "2021-07-07T17:08:45.872Z"
   },
   {
    "duration": 60,
    "start_time": "2021-07-07T17:08:46.054Z"
   },
   {
    "duration": 3,
    "start_time": "2021-07-07T17:08:46.116Z"
   },
   {
    "duration": 26,
    "start_time": "2021-07-07T17:08:46.121Z"
   },
   {
    "duration": 7,
    "start_time": "2021-07-07T17:08:46.149Z"
   },
   {
    "duration": 17,
    "start_time": "2021-07-07T17:08:46.158Z"
   },
   {
    "duration": 14,
    "start_time": "2021-07-07T17:08:46.176Z"
   },
   {
    "duration": 17,
    "start_time": "2021-07-07T17:08:46.193Z"
   },
   {
    "duration": 9,
    "start_time": "2021-07-07T17:08:46.211Z"
   },
   {
    "duration": 21,
    "start_time": "2021-07-07T17:08:46.221Z"
   },
   {
    "duration": 49,
    "start_time": "2021-07-07T17:08:46.244Z"
   },
   {
    "duration": 24,
    "start_time": "2021-07-07T17:08:46.295Z"
   },
   {
    "duration": 22,
    "start_time": "2021-07-07T17:08:46.321Z"
   },
   {
    "duration": 6,
    "start_time": "2021-07-07T17:08:46.345Z"
   },
   {
    "duration": 5,
    "start_time": "2021-07-07T17:08:46.353Z"
   },
   {
    "duration": 13,
    "start_time": "2021-07-07T17:08:46.386Z"
   },
   {
    "duration": 12,
    "start_time": "2021-07-07T17:08:46.402Z"
   },
   {
    "duration": 10,
    "start_time": "2021-07-07T17:08:46.415Z"
   },
   {
    "duration": 7,
    "start_time": "2021-07-07T17:08:46.427Z"
   },
   {
    "duration": 8,
    "start_time": "2021-07-07T17:08:46.435Z"
   },
   {
    "duration": 68,
    "start_time": "2021-07-07T17:08:46.446Z"
   },
   {
    "duration": 13,
    "start_time": "2021-07-07T17:08:46.516Z"
   },
   {
    "duration": 78,
    "start_time": "2021-07-07T17:08:46.530Z"
   },
   {
    "duration": 40,
    "start_time": "2021-07-07T17:09:08.185Z"
   },
   {
    "duration": 16,
    "start_time": "2021-07-07T17:09:19.324Z"
   },
   {
    "duration": 21,
    "start_time": "2021-07-07T17:09:23.290Z"
   },
   {
    "duration": 13,
    "start_time": "2021-07-07T17:09:54.812Z"
   },
   {
    "duration": 13,
    "start_time": "2021-07-07T17:10:02.039Z"
   },
   {
    "duration": 10,
    "start_time": "2021-07-07T17:10:29.632Z"
   },
   {
    "duration": 13,
    "start_time": "2021-07-07T17:10:52.372Z"
   },
   {
    "duration": 13,
    "start_time": "2021-07-07T17:11:17.270Z"
   },
   {
    "duration": 13,
    "start_time": "2021-07-07T17:14:59.284Z"
   },
   {
    "duration": 547,
    "start_time": "2021-07-07T17:18:52.403Z"
   },
   {
    "duration": 163,
    "start_time": "2021-07-07T17:18:52.952Z"
   },
   {
    "duration": 44,
    "start_time": "2021-07-07T17:18:53.117Z"
   },
   {
    "duration": 3,
    "start_time": "2021-07-07T17:18:53.162Z"
   },
   {
    "duration": 26,
    "start_time": "2021-07-07T17:18:53.167Z"
   },
   {
    "duration": 6,
    "start_time": "2021-07-07T17:18:53.195Z"
   },
   {
    "duration": 15,
    "start_time": "2021-07-07T17:18:53.203Z"
   },
   {
    "duration": 5,
    "start_time": "2021-07-07T17:18:53.220Z"
   },
   {
    "duration": 11,
    "start_time": "2021-07-07T17:18:53.228Z"
   },
   {
    "duration": 9,
    "start_time": "2021-07-07T17:18:53.241Z"
   },
   {
    "duration": 41,
    "start_time": "2021-07-07T17:18:53.252Z"
   },
   {
    "duration": 33,
    "start_time": "2021-07-07T17:18:53.295Z"
   },
   {
    "duration": 19,
    "start_time": "2021-07-07T17:18:53.330Z"
   },
   {
    "duration": 49,
    "start_time": "2021-07-07T17:18:53.350Z"
   },
   {
    "duration": 5,
    "start_time": "2021-07-07T17:18:53.401Z"
   },
   {
    "duration": 5,
    "start_time": "2021-07-07T17:18:53.408Z"
   },
   {
    "duration": 11,
    "start_time": "2021-07-07T17:18:53.414Z"
   },
   {
    "duration": 9,
    "start_time": "2021-07-07T17:18:53.427Z"
   },
   {
    "duration": 10,
    "start_time": "2021-07-07T17:18:53.437Z"
   },
   {
    "duration": 39,
    "start_time": "2021-07-07T17:18:53.448Z"
   },
   {
    "duration": 26,
    "start_time": "2021-07-07T17:18:55.799Z"
   },
   {
    "duration": 598,
    "start_time": "2021-07-07T17:20:17.862Z"
   },
   {
    "duration": 161,
    "start_time": "2021-07-07T17:20:18.462Z"
   },
   {
    "duration": 45,
    "start_time": "2021-07-07T17:20:18.626Z"
   },
   {
    "duration": 4,
    "start_time": "2021-07-07T17:20:18.673Z"
   },
   {
    "duration": 38,
    "start_time": "2021-07-07T17:20:26.877Z"
   },
   {
    "duration": 7,
    "start_time": "2021-07-07T17:20:37.405Z"
   },
   {
    "duration": 19,
    "start_time": "2021-07-07T17:20:51.534Z"
   },
   {
    "duration": 5,
    "start_time": "2021-07-07T17:20:57.228Z"
   },
   {
    "duration": 7,
    "start_time": "2021-07-07T17:21:08.235Z"
   },
   {
    "duration": 19,
    "start_time": "2021-07-07T17:21:42.158Z"
   },
   {
    "duration": 14,
    "start_time": "2021-07-07T17:21:50.225Z"
   },
   {
    "duration": 22,
    "start_time": "2021-07-07T17:22:54.104Z"
   },
   {
    "duration": 5,
    "start_time": "2021-07-07T17:22:56.371Z"
   },
   {
    "duration": 14,
    "start_time": "2021-07-07T17:22:58.316Z"
   },
   {
    "duration": 5,
    "start_time": "2021-07-07T17:22:58.493Z"
   },
   {
    "duration": 35,
    "start_time": "2021-07-07T17:22:59.666Z"
   },
   {
    "duration": 6,
    "start_time": "2021-07-07T17:23:02.410Z"
   },
   {
    "duration": 611,
    "start_time": "2021-07-07T17:24:59.664Z"
   },
   {
    "duration": 178,
    "start_time": "2021-07-07T17:25:01.945Z"
   },
   {
    "duration": 47,
    "start_time": "2021-07-07T17:25:02.125Z"
   },
   {
    "duration": 2,
    "start_time": "2021-07-07T17:25:07.903Z"
   },
   {
    "duration": 254,
    "start_time": "2021-07-07T17:25:08.232Z"
   },
   {
    "duration": 182,
    "start_time": "2021-07-07T17:25:08.671Z"
   },
   {
    "duration": 6,
    "start_time": "2021-07-07T17:25:13.104Z"
   },
   {
    "duration": 36,
    "start_time": "2021-07-07T17:25:13.662Z"
   },
   {
    "duration": 7,
    "start_time": "2021-07-07T17:25:14.528Z"
   },
   {
    "duration": 24,
    "start_time": "2021-07-07T17:25:27.982Z"
   },
   {
    "duration": 3,
    "start_time": "2021-07-07T17:25:48.982Z"
   },
   {
    "duration": 165,
    "start_time": "2021-07-07T17:25:48.987Z"
   },
   {
    "duration": 50,
    "start_time": "2021-07-07T17:25:49.154Z"
   },
   {
    "duration": 4,
    "start_time": "2021-07-07T17:25:49.206Z"
   },
   {
    "duration": 26,
    "start_time": "2021-07-07T17:25:49.212Z"
   },
   {
    "duration": 7,
    "start_time": "2021-07-07T17:25:49.240Z"
   },
   {
    "duration": 16,
    "start_time": "2021-07-07T17:25:49.249Z"
   },
   {
    "duration": 22,
    "start_time": "2021-07-07T17:25:49.266Z"
   },
   {
    "duration": 16,
    "start_time": "2021-07-07T17:25:49.291Z"
   },
   {
    "duration": 9,
    "start_time": "2021-07-07T17:25:49.309Z"
   },
   {
    "duration": 7,
    "start_time": "2021-07-07T17:25:49.319Z"
   },
   {
    "duration": 28,
    "start_time": "2021-07-07T17:25:49.328Z"
   },
   {
    "duration": 44,
    "start_time": "2021-07-07T17:25:49.357Z"
   },
   {
    "duration": 22,
    "start_time": "2021-07-07T17:25:49.403Z"
   },
   {
    "duration": 7,
    "start_time": "2021-07-07T17:25:49.427Z"
   },
   {
    "duration": 3,
    "start_time": "2021-07-07T17:25:49.436Z"
   },
   {
    "duration": 44,
    "start_time": "2021-07-07T17:25:49.441Z"
   },
   {
    "duration": 12,
    "start_time": "2021-07-07T17:25:49.488Z"
   },
   {
    "duration": 13,
    "start_time": "2021-07-07T17:25:49.502Z"
   },
   {
    "duration": 10,
    "start_time": "2021-07-07T17:25:49.516Z"
   },
   {
    "duration": 62,
    "start_time": "2021-07-07T17:25:49.527Z"
   },
   {
    "duration": 26,
    "start_time": "2021-07-07T17:26:51.809Z"
   },
   {
    "duration": 26,
    "start_time": "2021-07-07T17:26:55.759Z"
   },
   {
    "duration": 26,
    "start_time": "2021-07-07T17:27:04.501Z"
   },
   {
    "duration": 25,
    "start_time": "2021-07-07T17:28:24.859Z"
   },
   {
    "duration": 21,
    "start_time": "2021-07-07T17:28:55.250Z"
   },
   {
    "duration": 21,
    "start_time": "2021-07-07T17:28:58.885Z"
   },
   {
    "duration": 7,
    "start_time": "2021-07-07T17:45:40.972Z"
   },
   {
    "duration": 13,
    "start_time": "2021-07-07T17:45:42.529Z"
   },
   {
    "duration": 27,
    "start_time": "2021-07-07T17:45:51.026Z"
   },
   {
    "duration": 518,
    "start_time": "2021-07-07T17:46:15.532Z"
   },
   {
    "duration": 235,
    "start_time": "2021-07-07T17:46:16.053Z"
   },
   {
    "duration": 80,
    "start_time": "2021-07-07T17:46:16.292Z"
   },
   {
    "duration": 5,
    "start_time": "2021-07-07T17:46:16.373Z"
   },
   {
    "duration": 26,
    "start_time": "2021-07-07T17:46:16.380Z"
   },
   {
    "duration": 7,
    "start_time": "2021-07-07T17:46:16.408Z"
   },
   {
    "duration": 16,
    "start_time": "2021-07-07T17:46:16.418Z"
   },
   {
    "duration": 5,
    "start_time": "2021-07-07T17:46:16.436Z"
   },
   {
    "duration": 13,
    "start_time": "2021-07-07T17:46:16.442Z"
   },
   {
    "duration": 35,
    "start_time": "2021-07-07T17:46:16.456Z"
   },
   {
    "duration": 8,
    "start_time": "2021-07-07T17:46:16.493Z"
   },
   {
    "duration": 28,
    "start_time": "2021-07-07T17:46:16.502Z"
   },
   {
    "duration": 17,
    "start_time": "2021-07-07T17:46:16.532Z"
   },
   {
    "duration": 44,
    "start_time": "2021-07-07T17:46:16.551Z"
   },
   {
    "duration": 6,
    "start_time": "2021-07-07T17:46:16.597Z"
   },
   {
    "duration": 4,
    "start_time": "2021-07-07T17:46:16.605Z"
   },
   {
    "duration": 9,
    "start_time": "2021-07-07T17:46:16.610Z"
   },
   {
    "duration": 9,
    "start_time": "2021-07-07T17:46:16.621Z"
   },
   {
    "duration": 10,
    "start_time": "2021-07-07T17:46:16.632Z"
   },
   {
    "duration": 43,
    "start_time": "2021-07-07T17:46:16.644Z"
   },
   {
    "duration": 26,
    "start_time": "2021-07-07T17:46:16.689Z"
   },
   {
    "duration": 19,
    "start_time": "2021-07-07T17:46:16.718Z"
   },
   {
    "duration": 8,
    "start_time": "2021-07-07T17:46:16.738Z"
   },
   {
    "duration": 43,
    "start_time": "2021-07-07T17:46:16.747Z"
   },
   {
    "duration": 19,
    "start_time": "2021-07-07T17:46:16.791Z"
   },
   {
    "duration": 9,
    "start_time": "2021-07-07T17:46:16.812Z"
   },
   {
    "duration": 60,
    "start_time": "2021-07-07T17:46:16.822Z"
   },
   {
    "duration": -8,
    "start_time": "2021-07-07T17:46:16.892Z"
   },
   {
    "duration": 12,
    "start_time": "2021-07-07T17:48:47.707Z"
   },
   {
    "duration": 553,
    "start_time": "2021-07-07T18:10:09.350Z"
   },
   {
    "duration": 230,
    "start_time": "2021-07-07T18:10:09.905Z"
   },
   {
    "duration": 97,
    "start_time": "2021-07-07T18:10:10.137Z"
   },
   {
    "duration": 5,
    "start_time": "2021-07-07T18:10:10.236Z"
   },
   {
    "duration": 29,
    "start_time": "2021-07-07T18:10:10.242Z"
   },
   {
    "duration": 7,
    "start_time": "2021-07-07T18:10:10.272Z"
   },
   {
    "duration": 15,
    "start_time": "2021-07-07T18:10:10.281Z"
   },
   {
    "duration": 4,
    "start_time": "2021-07-07T18:10:10.299Z"
   },
   {
    "duration": 14,
    "start_time": "2021-07-07T18:10:10.305Z"
   },
   {
    "duration": 8,
    "start_time": "2021-07-07T18:10:10.321Z"
   },
   {
    "duration": 8,
    "start_time": "2021-07-07T18:10:10.331Z"
   },
   {
    "duration": 56,
    "start_time": "2021-07-07T18:10:10.341Z"
   },
   {
    "duration": 19,
    "start_time": "2021-07-07T18:10:10.399Z"
   },
   {
    "duration": 23,
    "start_time": "2021-07-07T18:10:10.419Z"
   },
   {
    "duration": 6,
    "start_time": "2021-07-07T18:10:10.444Z"
   },
   {
    "duration": 9,
    "start_time": "2021-07-07T18:10:10.451Z"
   },
   {
    "duration": 30,
    "start_time": "2021-07-07T18:10:10.462Z"
   },
   {
    "duration": 9,
    "start_time": "2021-07-07T18:10:10.494Z"
   },
   {
    "duration": 14,
    "start_time": "2021-07-07T18:10:10.505Z"
   },
   {
    "duration": 7,
    "start_time": "2021-07-07T18:10:10.521Z"
   },
   {
    "duration": 26,
    "start_time": "2021-07-07T18:10:10.530Z"
   },
   {
    "duration": 44,
    "start_time": "2021-07-07T18:10:10.558Z"
   },
   {
    "duration": 7,
    "start_time": "2021-07-07T18:10:10.605Z"
   },
   {
    "duration": 11,
    "start_time": "2021-07-07T18:10:10.614Z"
   },
   {
    "duration": 19,
    "start_time": "2021-07-07T18:10:10.626Z"
   },
   {
    "duration": 44,
    "start_time": "2021-07-07T18:10:10.646Z"
   },
   {
    "duration": 516,
    "start_time": "2021-07-07T18:14:00.826Z"
   },
   {
    "duration": 230,
    "start_time": "2021-07-07T18:14:01.344Z"
   },
   {
    "duration": 105,
    "start_time": "2021-07-07T18:14:01.576Z"
   },
   {
    "duration": 5,
    "start_time": "2021-07-07T18:14:01.683Z"
   },
   {
    "duration": 46,
    "start_time": "2021-07-07T18:14:01.690Z"
   },
   {
    "duration": 7,
    "start_time": "2021-07-07T18:14:01.738Z"
   },
   {
    "duration": 20,
    "start_time": "2021-07-07T18:14:01.747Z"
   },
   {
    "duration": 16,
    "start_time": "2021-07-07T18:14:01.769Z"
   },
   {
    "duration": 14,
    "start_time": "2021-07-07T18:14:01.787Z"
   },
   {
    "duration": 15,
    "start_time": "2021-07-07T18:14:01.803Z"
   },
   {
    "duration": 12,
    "start_time": "2021-07-07T18:14:01.820Z"
   },
   {
    "duration": 35,
    "start_time": "2021-07-07T18:14:01.833Z"
   },
   {
    "duration": 31,
    "start_time": "2021-07-07T18:14:01.869Z"
   },
   {
    "duration": 37,
    "start_time": "2021-07-07T18:14:01.902Z"
   },
   {
    "duration": 8,
    "start_time": "2021-07-07T18:14:01.942Z"
   },
   {
    "duration": 16,
    "start_time": "2021-07-07T18:14:01.952Z"
   },
   {
    "duration": 13,
    "start_time": "2021-07-07T18:14:01.970Z"
   },
   {
    "duration": 32,
    "start_time": "2021-07-07T18:14:01.985Z"
   },
   {
    "duration": 11,
    "start_time": "2021-07-07T18:14:02.019Z"
   },
   {
    "duration": 22,
    "start_time": "2021-07-07T18:14:02.031Z"
   },
   {
    "duration": 27,
    "start_time": "2021-07-07T18:14:02.055Z"
   },
   {
    "duration": 18,
    "start_time": "2021-07-07T18:14:02.084Z"
   },
   {
    "duration": 18,
    "start_time": "2021-07-07T18:14:02.106Z"
   },
   {
    "duration": 11,
    "start_time": "2021-07-07T18:14:02.126Z"
   },
   {
    "duration": 21,
    "start_time": "2021-07-07T18:14:02.138Z"
   },
   {
    "duration": 32,
    "start_time": "2021-07-07T18:14:02.161Z"
   },
   {
    "duration": 28,
    "start_time": "2021-07-07T18:14:44.295Z"
   },
   {
    "duration": 6,
    "start_time": "2021-07-07T18:15:05.834Z"
   },
   {
    "duration": 511,
    "start_time": "2021-07-07T18:15:41.541Z"
   },
   {
    "duration": 183,
    "start_time": "2021-07-07T18:15:42.054Z"
   },
   {
    "duration": 50,
    "start_time": "2021-07-07T18:15:42.239Z"
   },
   {
    "duration": 5,
    "start_time": "2021-07-07T18:15:42.291Z"
   },
   {
    "duration": 48,
    "start_time": "2021-07-07T18:15:42.297Z"
   },
   {
    "duration": 8,
    "start_time": "2021-07-07T18:15:42.346Z"
   },
   {
    "duration": 17,
    "start_time": "2021-07-07T18:15:42.356Z"
   },
   {
    "duration": 15,
    "start_time": "2021-07-07T18:15:42.375Z"
   },
   {
    "duration": 12,
    "start_time": "2021-07-07T18:15:42.392Z"
   },
   {
    "duration": 7,
    "start_time": "2021-07-07T18:15:42.406Z"
   },
   {
    "duration": 7,
    "start_time": "2021-07-07T18:15:42.415Z"
   },
   {
    "duration": 29,
    "start_time": "2021-07-07T18:15:42.423Z"
   },
   {
    "duration": 43,
    "start_time": "2021-07-07T18:15:42.453Z"
   },
   {
    "duration": 18,
    "start_time": "2021-07-07T18:15:42.497Z"
   },
   {
    "duration": 6,
    "start_time": "2021-07-07T18:15:42.516Z"
   },
   {
    "duration": 3,
    "start_time": "2021-07-07T18:15:42.523Z"
   },
   {
    "duration": 18,
    "start_time": "2021-07-07T18:15:42.528Z"
   },
   {
    "duration": 10,
    "start_time": "2021-07-07T18:15:42.547Z"
   },
   {
    "duration": 36,
    "start_time": "2021-07-07T18:15:42.559Z"
   },
   {
    "duration": 8,
    "start_time": "2021-07-07T18:15:42.597Z"
   },
   {
    "duration": 28,
    "start_time": "2021-07-07T18:15:42.606Z"
   },
   {
    "duration": 52,
    "start_time": "2021-07-07T18:15:42.635Z"
   },
   {
    "duration": 7,
    "start_time": "2021-07-07T18:15:42.690Z"
   },
   {
    "duration": 10,
    "start_time": "2021-07-07T18:15:42.699Z"
   },
   {
    "duration": 19,
    "start_time": "2021-07-07T18:15:42.711Z"
   },
   {
    "duration": 9,
    "start_time": "2021-07-07T18:15:42.732Z"
   },
   {
    "duration": 5,
    "start_time": "2021-07-07T18:15:42.743Z"
   },
   {
    "duration": 1450,
    "start_time": "2021-07-07T18:15:51.984Z"
   },
   {
    "duration": 161,
    "start_time": "2021-07-07T18:15:53.435Z"
   },
   {
    "duration": 124,
    "start_time": "2021-07-07T18:15:53.598Z"
   },
   {
    "duration": 5,
    "start_time": "2021-07-07T18:15:53.724Z"
   },
   {
    "duration": 34,
    "start_time": "2021-07-07T18:15:53.730Z"
   },
   {
    "duration": 7,
    "start_time": "2021-07-07T18:15:53.765Z"
   },
   {
    "duration": 15,
    "start_time": "2021-07-07T18:15:53.773Z"
   },
   {
    "duration": 5,
    "start_time": "2021-07-07T18:15:53.791Z"
   },
   {
    "duration": 19,
    "start_time": "2021-07-07T18:15:53.798Z"
   },
   {
    "duration": 9,
    "start_time": "2021-07-07T18:15:53.818Z"
   },
   {
    "duration": 19,
    "start_time": "2021-07-07T18:15:53.828Z"
   },
   {
    "duration": 27,
    "start_time": "2021-07-07T18:15:53.848Z"
   },
   {
    "duration": 16,
    "start_time": "2021-07-07T18:15:53.884Z"
   },
   {
    "duration": 29,
    "start_time": "2021-07-07T18:15:53.901Z"
   },
   {
    "duration": 5,
    "start_time": "2021-07-07T18:15:53.932Z"
   },
   {
    "duration": 15,
    "start_time": "2021-07-07T18:15:53.939Z"
   },
   {
    "duration": 13,
    "start_time": "2021-07-07T18:15:53.956Z"
   },
   {
    "duration": 20,
    "start_time": "2021-07-07T18:15:53.971Z"
   },
   {
    "duration": 14,
    "start_time": "2021-07-07T18:15:53.992Z"
   },
   {
    "duration": 9,
    "start_time": "2021-07-07T18:15:54.009Z"
   },
   {
    "duration": 28,
    "start_time": "2021-07-07T18:15:54.020Z"
   },
   {
    "duration": 50,
    "start_time": "2021-07-07T18:15:54.051Z"
   },
   {
    "duration": 8,
    "start_time": "2021-07-07T18:15:54.105Z"
   },
   {
    "duration": 11,
    "start_time": "2021-07-07T18:15:54.115Z"
   },
   {
    "duration": 20,
    "start_time": "2021-07-07T18:15:54.128Z"
   },
   {
    "duration": 13,
    "start_time": "2021-07-07T18:15:54.184Z"
   },
   {
    "duration": 7,
    "start_time": "2021-07-07T18:15:54.199Z"
   },
   {
    "duration": 7,
    "start_time": "2021-07-07T18:17:08.042Z"
   },
   {
    "duration": 8,
    "start_time": "2021-07-07T18:17:21.008Z"
   },
   {
    "duration": 7,
    "start_time": "2021-07-07T18:17:29.003Z"
   },
   {
    "duration": 8,
    "start_time": "2021-07-07T18:17:32.492Z"
   },
   {
    "duration": 9,
    "start_time": "2021-07-07T18:17:41.758Z"
   },
   {
    "duration": 255,
    "start_time": "2021-07-07T18:20:20.897Z"
   },
   {
    "duration": 173,
    "start_time": "2021-07-07T18:20:26.636Z"
   },
   {
    "duration": 7,
    "start_time": "2021-07-07T18:21:47.164Z"
   },
   {
    "duration": 254,
    "start_time": "2021-07-07T18:23:08.703Z"
   },
   {
    "duration": 21,
    "start_time": "2021-07-07T18:23:22.506Z"
   },
   {
    "duration": 315,
    "start_time": "2021-07-07T18:25:54.801Z"
   },
   {
    "duration": 34,
    "start_time": "2021-07-07T18:26:51.817Z"
   },
   {
    "duration": 327,
    "start_time": "2021-07-07T18:26:56.147Z"
   },
   {
    "duration": 342,
    "start_time": "2021-07-07T18:27:15.887Z"
   },
   {
    "duration": 302,
    "start_time": "2021-07-07T18:28:18.569Z"
   },
   {
    "duration": 226,
    "start_time": "2021-07-07T18:29:20.879Z"
   },
   {
    "duration": 207,
    "start_time": "2021-07-07T18:29:58.114Z"
   },
   {
    "duration": 140,
    "start_time": "2021-07-07T18:32:04.372Z"
   },
   {
    "duration": 158,
    "start_time": "2021-07-07T18:32:32.508Z"
   },
   {
    "duration": 145,
    "start_time": "2021-07-07T18:32:41.365Z"
   },
   {
    "duration": 132,
    "start_time": "2021-07-07T18:32:45.199Z"
   },
   {
    "duration": 11,
    "start_time": "2021-07-07T18:35:24.679Z"
   },
   {
    "duration": 268,
    "start_time": "2021-07-07T18:36:16.145Z"
   },
   {
    "duration": 227,
    "start_time": "2021-07-07T18:37:04.918Z"
   },
   {
    "duration": 3,
    "start_time": "2021-07-07T18:37:33.012Z"
   },
   {
    "duration": 671,
    "start_time": "2021-07-07T18:37:38.295Z"
   },
   {
    "duration": 54,
    "start_time": "2021-07-07T18:37:53.406Z"
   },
   {
    "duration": 631,
    "start_time": "2021-07-07T18:37:56.463Z"
   },
   {
    "duration": 19,
    "start_time": "2021-07-07T18:39:40.535Z"
   },
   {
    "duration": 20,
    "start_time": "2021-07-07T18:40:12.236Z"
   },
   {
    "duration": 633,
    "start_time": "2021-07-07T18:42:00.398Z"
   },
   {
    "duration": 218,
    "start_time": "2021-07-07T18:42:01.033Z"
   },
   {
    "duration": 49,
    "start_time": "2021-07-07T18:42:01.253Z"
   },
   {
    "duration": 5,
    "start_time": "2021-07-07T18:42:01.303Z"
   },
   {
    "duration": 27,
    "start_time": "2021-07-07T18:42:01.310Z"
   },
   {
    "duration": 8,
    "start_time": "2021-07-07T18:42:01.339Z"
   },
   {
    "duration": 20,
    "start_time": "2021-07-07T18:42:01.348Z"
   },
   {
    "duration": 6,
    "start_time": "2021-07-07T18:42:01.386Z"
   },
   {
    "duration": 16,
    "start_time": "2021-07-07T18:42:01.394Z"
   },
   {
    "duration": 9,
    "start_time": "2021-07-07T18:42:01.411Z"
   },
   {
    "duration": 11,
    "start_time": "2021-07-07T18:42:01.421Z"
   },
   {
    "duration": 31,
    "start_time": "2021-07-07T18:42:01.434Z"
   },
   {
    "duration": 18,
    "start_time": "2021-07-07T18:42:01.485Z"
   },
   {
    "duration": 23,
    "start_time": "2021-07-07T18:42:01.505Z"
   },
   {
    "duration": 6,
    "start_time": "2021-07-07T18:42:01.530Z"
   },
   {
    "duration": 10,
    "start_time": "2021-07-07T18:42:01.538Z"
   },
   {
    "duration": 13,
    "start_time": "2021-07-07T18:42:01.550Z"
   },
   {
    "duration": 24,
    "start_time": "2021-07-07T18:42:01.564Z"
   },
   {
    "duration": 20,
    "start_time": "2021-07-07T18:42:01.590Z"
   },
   {
    "duration": 8,
    "start_time": "2021-07-07T18:42:01.611Z"
   },
   {
    "duration": 31,
    "start_time": "2021-07-07T18:42:01.620Z"
   },
   {
    "duration": 39,
    "start_time": "2021-07-07T18:42:01.653Z"
   },
   {
    "duration": 8,
    "start_time": "2021-07-07T18:42:01.696Z"
   },
   {
    "duration": 13,
    "start_time": "2021-07-07T18:42:01.705Z"
   },
   {
    "duration": 20,
    "start_time": "2021-07-07T18:42:01.720Z"
   },
   {
    "duration": 12,
    "start_time": "2021-07-07T18:42:01.741Z"
   },
   {
    "duration": 35,
    "start_time": "2021-07-07T18:42:01.755Z"
   },
   {
    "duration": 14,
    "start_time": "2021-07-07T18:42:01.792Z"
   },
   {
    "duration": 188,
    "start_time": "2021-07-07T18:42:01.808Z"
   },
   {
    "duration": 19,
    "start_time": "2021-07-07T18:42:01.998Z"
   },
   {
    "duration": 175,
    "start_time": "2021-07-07T18:42:02.019Z"
   },
   {
    "duration": 134,
    "start_time": "2021-07-07T18:42:02.196Z"
   },
   {
    "duration": 10,
    "start_time": "2021-07-07T18:42:02.331Z"
   },
   {
    "duration": 19,
    "start_time": "2021-07-07T18:42:02.343Z"
   },
   {
    "duration": 628,
    "start_time": "2021-07-07T18:46:30.701Z"
   },
   {
    "duration": 183,
    "start_time": "2021-07-07T18:46:31.331Z"
   },
   {
    "duration": 48,
    "start_time": "2021-07-07T18:46:31.516Z"
   },
   {
    "duration": 5,
    "start_time": "2021-07-07T18:46:31.566Z"
   },
   {
    "duration": 28,
    "start_time": "2021-07-07T18:46:31.572Z"
   },
   {
    "duration": 8,
    "start_time": "2021-07-07T18:46:31.602Z"
   },
   {
    "duration": 19,
    "start_time": "2021-07-07T18:46:31.611Z"
   },
   {
    "duration": 6,
    "start_time": "2021-07-07T18:46:31.633Z"
   },
   {
    "duration": 17,
    "start_time": "2021-07-07T18:46:31.642Z"
   },
   {
    "duration": 10,
    "start_time": "2021-07-07T18:46:31.684Z"
   },
   {
    "duration": 9,
    "start_time": "2021-07-07T18:46:31.695Z"
   },
   {
    "duration": 28,
    "start_time": "2021-07-07T18:46:31.705Z"
   },
   {
    "duration": 18,
    "start_time": "2021-07-07T18:46:31.735Z"
   },
   {
    "duration": 48,
    "start_time": "2021-07-07T18:46:31.755Z"
   },
   {
    "duration": 6,
    "start_time": "2021-07-07T18:46:31.804Z"
   },
   {
    "duration": 4,
    "start_time": "2021-07-07T18:46:31.812Z"
   },
   {
    "duration": 9,
    "start_time": "2021-07-07T18:46:31.817Z"
   },
   {
    "duration": 10,
    "start_time": "2021-07-07T18:46:31.827Z"
   },
   {
    "duration": 12,
    "start_time": "2021-07-07T18:46:31.838Z"
   },
   {
    "duration": 39,
    "start_time": "2021-07-07T18:46:31.851Z"
   },
   {
    "duration": 24,
    "start_time": "2021-07-07T18:46:31.892Z"
   },
   {
    "duration": 15,
    "start_time": "2021-07-07T18:46:31.918Z"
   },
   {
    "duration": 7,
    "start_time": "2021-07-07T18:46:31.936Z"
   },
   {
    "duration": 8,
    "start_time": "2021-07-07T18:46:31.944Z"
   },
   {
    "duration": 19,
    "start_time": "2021-07-07T18:46:31.984Z"
   },
   {
    "duration": 10,
    "start_time": "2021-07-07T18:46:32.004Z"
   },
   {
    "duration": 5,
    "start_time": "2021-07-07T18:46:32.016Z"
   },
   {
    "duration": 9,
    "start_time": "2021-07-07T18:46:32.023Z"
   },
   {
    "duration": 199,
    "start_time": "2021-07-07T18:46:32.033Z"
   },
   {
    "duration": 19,
    "start_time": "2021-07-07T18:46:32.234Z"
   },
   {
    "duration": 159,
    "start_time": "2021-07-07T18:46:32.255Z"
   },
   {
    "duration": 134,
    "start_time": "2021-07-07T18:46:32.416Z"
   },
   {
    "duration": 10,
    "start_time": "2021-07-07T18:46:32.552Z"
   },
   {
    "duration": 34,
    "start_time": "2021-07-07T18:46:32.563Z"
   },
   {
    "duration": 1039,
    "start_time": "2021-07-08T08:41:09.419Z"
   },
   {
    "duration": 333,
    "start_time": "2021-07-08T08:41:10.459Z"
   },
   {
    "duration": 173,
    "start_time": "2021-07-08T08:41:10.794Z"
   },
   {
    "duration": 5,
    "start_time": "2021-07-08T08:41:10.968Z"
   },
   {
    "duration": 25,
    "start_time": "2021-07-08T08:41:10.975Z"
   },
   {
    "duration": 9,
    "start_time": "2021-07-08T08:41:11.002Z"
   },
   {
    "duration": 18,
    "start_time": "2021-07-08T08:41:11.013Z"
   },
   {
    "duration": 6,
    "start_time": "2021-07-08T08:41:11.033Z"
   },
   {
    "duration": 44,
    "start_time": "2021-07-08T08:41:11.042Z"
   },
   {
    "duration": 10,
    "start_time": "2021-07-08T08:41:11.088Z"
   },
   {
    "duration": 9,
    "start_time": "2021-07-08T08:41:11.100Z"
   },
   {
    "duration": 27,
    "start_time": "2021-07-08T08:41:11.111Z"
   },
   {
    "duration": 46,
    "start_time": "2021-07-08T08:41:11.140Z"
   },
   {
    "duration": 17,
    "start_time": "2021-07-08T08:41:11.187Z"
   },
   {
    "duration": 6,
    "start_time": "2021-07-08T08:41:11.206Z"
   },
   {
    "duration": 5,
    "start_time": "2021-07-08T08:41:11.213Z"
   },
   {
    "duration": 10,
    "start_time": "2021-07-08T08:41:11.219Z"
   },
   {
    "duration": 9,
    "start_time": "2021-07-08T08:41:11.230Z"
   },
   {
    "duration": 45,
    "start_time": "2021-07-08T08:41:11.241Z"
   },
   {
    "duration": 7,
    "start_time": "2021-07-08T08:41:11.287Z"
   },
   {
    "duration": 24,
    "start_time": "2021-07-08T08:41:11.296Z"
   },
   {
    "duration": 16,
    "start_time": "2021-07-08T08:41:11.322Z"
   },
   {
    "duration": 7,
    "start_time": "2021-07-08T08:41:11.341Z"
   },
   {
    "duration": 41,
    "start_time": "2021-07-08T08:41:11.349Z"
   },
   {
    "duration": 17,
    "start_time": "2021-07-08T08:41:11.391Z"
   },
   {
    "duration": 9,
    "start_time": "2021-07-08T08:41:11.410Z"
   },
   {
    "duration": 5,
    "start_time": "2021-07-08T08:41:11.421Z"
   },
   {
    "duration": 6,
    "start_time": "2021-07-08T08:41:11.428Z"
   },
   {
    "duration": 198,
    "start_time": "2021-07-08T08:41:11.435Z"
   },
   {
    "duration": 18,
    "start_time": "2021-07-08T08:41:11.635Z"
   },
   {
    "duration": 155,
    "start_time": "2021-07-08T08:41:11.655Z"
   },
   {
    "duration": 138,
    "start_time": "2021-07-08T08:41:11.811Z"
   },
   {
    "duration": 10,
    "start_time": "2021-07-08T08:41:11.950Z"
   },
   {
    "duration": 29,
    "start_time": "2021-07-08T08:41:11.961Z"
   },
   {
    "duration": 171,
    "start_time": "2021-07-08T08:47:44.522Z"
   },
   {
    "duration": 124,
    "start_time": "2021-07-08T08:47:46.872Z"
   },
   {
    "duration": 191,
    "start_time": "2021-07-08T08:47:58.148Z"
   },
   {
    "duration": 191,
    "start_time": "2021-07-08T08:48:07.412Z"
   },
   {
    "duration": 261,
    "start_time": "2021-07-08T08:48:10.385Z"
   },
   {
    "duration": 255,
    "start_time": "2021-07-08T08:48:14.494Z"
   },
   {
    "duration": 219,
    "start_time": "2021-07-08T08:48:22.752Z"
   },
   {
    "duration": 173,
    "start_time": "2021-07-08T08:49:06.395Z"
   },
   {
    "duration": 180,
    "start_time": "2021-07-08T08:49:21.011Z"
   },
   {
    "duration": 6,
    "start_time": "2021-07-08T08:50:31.697Z"
   },
   {
    "duration": 10,
    "start_time": "2021-07-08T08:50:47.394Z"
   },
   {
    "duration": 11,
    "start_time": "2021-07-08T08:53:49.332Z"
   },
   {
    "duration": 171,
    "start_time": "2021-07-08T08:54:28.408Z"
   },
   {
    "duration": 636,
    "start_time": "2021-07-08T09:02:48.385Z"
   },
   {
    "duration": 227,
    "start_time": "2021-07-08T09:02:49.023Z"
   },
   {
    "duration": 104,
    "start_time": "2021-07-08T09:02:49.252Z"
   },
   {
    "duration": 5,
    "start_time": "2021-07-08T09:02:49.358Z"
   },
   {
    "duration": 27,
    "start_time": "2021-07-08T09:02:49.365Z"
   },
   {
    "duration": 8,
    "start_time": "2021-07-08T09:02:49.394Z"
   },
   {
    "duration": 18,
    "start_time": "2021-07-08T09:02:49.404Z"
   },
   {
    "duration": 6,
    "start_time": "2021-07-08T09:02:49.424Z"
   },
   {
    "duration": 11,
    "start_time": "2021-07-08T09:02:49.433Z"
   },
   {
    "duration": 13,
    "start_time": "2021-07-08T09:02:49.485Z"
   },
   {
    "duration": 9,
    "start_time": "2021-07-08T09:02:49.500Z"
   },
   {
    "duration": 38,
    "start_time": "2021-07-08T09:02:49.511Z"
   },
   {
    "duration": 42,
    "start_time": "2021-07-08T09:02:49.551Z"
   },
   {
    "duration": 21,
    "start_time": "2021-07-08T09:02:49.594Z"
   },
   {
    "duration": 6,
    "start_time": "2021-07-08T09:02:49.616Z"
   },
   {
    "duration": 3,
    "start_time": "2021-07-08T09:02:49.623Z"
   },
   {
    "duration": 9,
    "start_time": "2021-07-08T09:02:49.628Z"
   },
   {
    "duration": 52,
    "start_time": "2021-07-08T09:02:49.638Z"
   },
   {
    "duration": 11,
    "start_time": "2021-07-08T09:02:49.692Z"
   },
   {
    "duration": 8,
    "start_time": "2021-07-08T09:02:49.704Z"
   },
   {
    "duration": 27,
    "start_time": "2021-07-08T09:02:49.713Z"
   },
   {
    "duration": 59,
    "start_time": "2021-07-08T09:02:49.741Z"
   },
   {
    "duration": 8,
    "start_time": "2021-07-08T09:02:49.803Z"
   },
   {
    "duration": 14,
    "start_time": "2021-07-08T09:02:49.813Z"
   },
   {
    "duration": 20,
    "start_time": "2021-07-08T09:02:49.829Z"
   },
   {
    "duration": 44,
    "start_time": "2021-07-08T09:02:49.851Z"
   },
   {
    "duration": 14,
    "start_time": "2021-07-08T09:02:49.896Z"
   },
   {
    "duration": 221,
    "start_time": "2021-07-08T09:02:49.912Z"
   },
   {
    "duration": 6,
    "start_time": "2021-07-08T09:02:50.134Z"
   },
   {
    "duration": 206,
    "start_time": "2021-07-08T09:02:50.142Z"
   },
   {
    "duration": 19,
    "start_time": "2021-07-08T09:02:50.350Z"
   },
   {
    "duration": 21,
    "start_time": "2021-07-08T09:02:50.370Z"
   },
   {
    "duration": 20,
    "start_time": "2021-07-08T09:02:50.393Z"
   },
   {
    "duration": 5,
    "start_time": "2021-07-08T09:02:50.414Z"
   },
   {
    "duration": 5,
    "start_time": "2021-07-08T09:03:34.173Z"
   },
   {
    "duration": 6,
    "start_time": "2021-07-08T09:04:49.062Z"
   },
   {
    "duration": 9,
    "start_time": "2021-07-08T09:04:50.118Z"
   },
   {
    "duration": 14,
    "start_time": "2021-07-08T09:04:58.512Z"
   },
   {
    "duration": 9,
    "start_time": "2021-07-08T09:05:10.988Z"
   },
   {
    "duration": 11,
    "start_time": "2021-07-08T09:05:11.743Z"
   },
   {
    "duration": 7,
    "start_time": "2021-07-08T09:05:25.677Z"
   },
   {
    "duration": 13,
    "start_time": "2021-07-08T09:05:47.189Z"
   },
   {
    "duration": 13,
    "start_time": "2021-07-08T09:05:54.755Z"
   },
   {
    "duration": 4,
    "start_time": "2021-07-08T09:06:29.189Z"
   },
   {
    "duration": 244,
    "start_time": "2021-07-08T09:06:29.195Z"
   },
   {
    "duration": 91,
    "start_time": "2021-07-08T09:06:29.441Z"
   },
   {
    "duration": 4,
    "start_time": "2021-07-08T09:06:29.534Z"
   },
   {
    "duration": 28,
    "start_time": "2021-07-08T09:06:29.540Z"
   },
   {
    "duration": 6,
    "start_time": "2021-07-08T09:06:29.570Z"
   },
   {
    "duration": 18,
    "start_time": "2021-07-08T09:06:29.578Z"
   },
   {
    "duration": 5,
    "start_time": "2021-07-08T09:06:29.597Z"
   },
   {
    "duration": 13,
    "start_time": "2021-07-08T09:06:29.605Z"
   },
   {
    "duration": 8,
    "start_time": "2021-07-08T09:06:29.620Z"
   },
   {
    "duration": 7,
    "start_time": "2021-07-08T09:06:29.630Z"
   },
   {
    "duration": 63,
    "start_time": "2021-07-08T09:06:29.639Z"
   },
   {
    "duration": 17,
    "start_time": "2021-07-08T09:06:29.704Z"
   },
   {
    "duration": 20,
    "start_time": "2021-07-08T09:06:29.723Z"
   },
   {
    "duration": 6,
    "start_time": "2021-07-08T09:06:29.745Z"
   },
   {
    "duration": 3,
    "start_time": "2021-07-08T09:06:29.752Z"
   },
   {
    "duration": 7,
    "start_time": "2021-07-08T09:06:29.785Z"
   },
   {
    "duration": 11,
    "start_time": "2021-07-08T09:06:29.794Z"
   },
   {
    "duration": 15,
    "start_time": "2021-07-08T09:06:29.807Z"
   },
   {
    "duration": 8,
    "start_time": "2021-07-08T09:06:29.823Z"
   },
   {
    "duration": 70,
    "start_time": "2021-07-08T09:06:29.832Z"
   },
   {
    "duration": 17,
    "start_time": "2021-07-08T09:06:29.903Z"
   },
   {
    "duration": 9,
    "start_time": "2021-07-08T09:06:29.921Z"
   },
   {
    "duration": 9,
    "start_time": "2021-07-08T09:06:29.932Z"
   },
   {
    "duration": 57,
    "start_time": "2021-07-08T09:06:29.942Z"
   },
   {
    "duration": 11,
    "start_time": "2021-07-08T09:06:30.001Z"
   },
   {
    "duration": 19,
    "start_time": "2021-07-08T09:06:30.016Z"
   },
   {
    "duration": 217,
    "start_time": "2021-07-08T09:06:30.037Z"
   },
   {
    "duration": 6,
    "start_time": "2021-07-08T09:06:30.255Z"
   },
   {
    "duration": 205,
    "start_time": "2021-07-08T09:06:30.263Z"
   },
   {
    "duration": 27,
    "start_time": "2021-07-08T09:06:30.470Z"
   },
   {
    "duration": 11,
    "start_time": "2021-07-08T09:06:30.500Z"
   },
   {
    "duration": 31,
    "start_time": "2021-07-08T09:06:30.513Z"
   },
   {
    "duration": 18,
    "start_time": "2021-07-08T09:06:30.546Z"
   },
   {
    "duration": 11,
    "start_time": "2021-07-08T09:06:30.566Z"
   },
   {
    "duration": 19,
    "start_time": "2021-07-08T09:06:30.579Z"
   },
   {
    "duration": 20,
    "start_time": "2021-07-08T09:06:49.466Z"
   },
   {
    "duration": 9,
    "start_time": "2021-07-08T09:06:51.994Z"
   },
   {
    "duration": 20,
    "start_time": "2021-07-08T09:06:52.273Z"
   },
   {
    "duration": 246,
    "start_time": "2021-07-08T09:10:21.272Z"
   },
   {
    "duration": 84,
    "start_time": "2021-07-08T09:10:21.436Z"
   },
   {
    "duration": 7,
    "start_time": "2021-07-08T09:10:37.608Z"
   },
   {
    "duration": 189,
    "start_time": "2021-07-08T09:10:38.573Z"
   },
   {
    "duration": 185,
    "start_time": "2021-07-08T09:10:53.181Z"
   },
   {
    "duration": 11,
    "start_time": "2021-07-08T09:10:59.549Z"
   },
   {
    "duration": 42,
    "start_time": "2021-07-08T09:10:59.709Z"
   },
   {
    "duration": 12,
    "start_time": "2021-07-08T09:11:02.857Z"
   },
   {
    "duration": 28,
    "start_time": "2021-07-08T09:11:10.062Z"
   },
   {
    "duration": 249,
    "start_time": "2021-07-08T09:11:37.388Z"
   },
   {
    "duration": 232,
    "start_time": "2021-07-08T09:11:49.485Z"
   },
   {
    "duration": 453,
    "start_time": "2021-07-08T09:12:01.546Z"
   },
   {
    "duration": 440,
    "start_time": "2021-07-08T09:12:12.347Z"
   },
   {
    "duration": 213,
    "start_time": "2021-07-08T09:13:32.196Z"
   },
   {
    "duration": 172,
    "start_time": "2021-07-08T09:14:07.400Z"
   },
   {
    "duration": 185,
    "start_time": "2021-07-08T09:14:14.905Z"
   },
   {
    "duration": 209,
    "start_time": "2021-07-08T09:14:40.109Z"
   },
   {
    "duration": 201,
    "start_time": "2021-07-08T09:14:54.506Z"
   },
   {
    "duration": 622,
    "start_time": "2021-07-08T09:18:14.497Z"
   },
   {
    "duration": 220,
    "start_time": "2021-07-08T09:18:15.121Z"
   },
   {
    "duration": 79,
    "start_time": "2021-07-08T09:18:15.343Z"
   },
   {
    "duration": 4,
    "start_time": "2021-07-08T09:18:15.425Z"
   },
   {
    "duration": 24,
    "start_time": "2021-07-08T09:18:15.431Z"
   },
   {
    "duration": 8,
    "start_time": "2021-07-08T09:18:15.457Z"
   },
   {
    "duration": 16,
    "start_time": "2021-07-08T09:18:15.466Z"
   },
   {
    "duration": 5,
    "start_time": "2021-07-08T09:18:15.484Z"
   },
   {
    "duration": 10,
    "start_time": "2021-07-08T09:18:15.493Z"
   },
   {
    "duration": 8,
    "start_time": "2021-07-08T09:18:15.504Z"
   },
   {
    "duration": 7,
    "start_time": "2021-07-08T09:18:15.513Z"
   },
   {
    "duration": 26,
    "start_time": "2021-07-08T09:18:15.522Z"
   },
   {
    "duration": 49,
    "start_time": "2021-07-08T09:18:15.550Z"
   },
   {
    "duration": 21,
    "start_time": "2021-07-08T09:18:15.601Z"
   },
   {
    "duration": 8,
    "start_time": "2021-07-08T09:18:15.624Z"
   },
   {
    "duration": 3,
    "start_time": "2021-07-08T09:18:15.634Z"
   },
   {
    "duration": 8,
    "start_time": "2021-07-08T09:18:15.639Z"
   },
   {
    "duration": 45,
    "start_time": "2021-07-08T09:18:15.649Z"
   },
   {
    "duration": 13,
    "start_time": "2021-07-08T09:18:15.696Z"
   },
   {
    "duration": 10,
    "start_time": "2021-07-08T09:18:15.711Z"
   },
   {
    "duration": 64,
    "start_time": "2021-07-08T09:18:15.722Z"
   },
   {
    "duration": 19,
    "start_time": "2021-07-08T09:18:15.788Z"
   },
   {
    "duration": 9,
    "start_time": "2021-07-08T09:18:15.809Z"
   },
   {
    "duration": 9,
    "start_time": "2021-07-08T09:18:15.820Z"
   },
   {
    "duration": 18,
    "start_time": "2021-07-08T09:18:15.831Z"
   },
   {
    "duration": 43,
    "start_time": "2021-07-08T09:18:15.851Z"
   },
   {
    "duration": 12,
    "start_time": "2021-07-08T09:18:15.897Z"
   },
   {
    "duration": 219,
    "start_time": "2021-07-08T09:18:15.911Z"
   },
   {
    "duration": 8,
    "start_time": "2021-07-08T09:18:16.132Z"
   },
   {
    "duration": 199,
    "start_time": "2021-07-08T09:18:16.141Z"
   },
   {
    "duration": 18,
    "start_time": "2021-07-08T09:18:16.341Z"
   },
   {
    "duration": 24,
    "start_time": "2021-07-08T09:18:16.361Z"
   },
   {
    "duration": 24,
    "start_time": "2021-07-08T09:18:16.387Z"
   },
   {
    "duration": 211,
    "start_time": "2021-07-08T09:18:16.413Z"
   },
   {
    "duration": 18,
    "start_time": "2021-07-08T09:18:16.626Z"
   },
   {
    "duration": 596,
    "start_time": "2021-07-08T10:06:33.623Z"
   },
   {
    "duration": 181,
    "start_time": "2021-07-08T10:06:34.221Z"
   },
   {
    "duration": 176,
    "start_time": "2021-07-08T10:06:34.635Z"
   },
   {
    "duration": 239,
    "start_time": "2021-07-08T10:06:55.572Z"
   },
   {
    "duration": 6,
    "start_time": "2021-07-08T10:06:57.687Z"
   },
   {
    "duration": 4,
    "start_time": "2021-07-08T10:07:03.956Z"
   },
   {
    "duration": 4,
    "start_time": "2021-07-08T10:07:10.376Z"
   },
   {
    "duration": 4,
    "start_time": "2021-07-08T10:17:19.889Z"
   },
   {
    "duration": 3,
    "start_time": "2021-07-08T10:19:19.407Z"
   },
   {
    "duration": 197,
    "start_time": "2021-07-08T10:19:19.412Z"
   },
   {
    "duration": 127,
    "start_time": "2021-07-08T10:19:19.611Z"
   },
   {
    "duration": 4,
    "start_time": "2021-07-08T10:19:19.740Z"
   },
   {
    "duration": 27,
    "start_time": "2021-07-08T10:19:19.746Z"
   },
   {
    "duration": 7,
    "start_time": "2021-07-08T10:19:19.775Z"
   },
   {
    "duration": 30,
    "start_time": "2021-07-08T10:19:19.784Z"
   },
   {
    "duration": 7,
    "start_time": "2021-07-08T10:19:19.817Z"
   },
   {
    "duration": 26,
    "start_time": "2021-07-08T10:19:19.826Z"
   },
   {
    "duration": 18,
    "start_time": "2021-07-08T10:19:19.854Z"
   },
   {
    "duration": 14,
    "start_time": "2021-07-08T10:19:19.874Z"
   },
   {
    "duration": 48,
    "start_time": "2021-07-08T10:19:19.890Z"
   },
   {
    "duration": 17,
    "start_time": "2021-07-08T10:19:19.940Z"
   },
   {
    "duration": 38,
    "start_time": "2021-07-08T10:19:19.959Z"
   },
   {
    "duration": 8,
    "start_time": "2021-07-08T10:19:19.999Z"
   },
   {
    "duration": 15,
    "start_time": "2021-07-08T10:19:20.009Z"
   },
   {
    "duration": 22,
    "start_time": "2021-07-08T10:19:20.026Z"
   },
   {
    "duration": 10,
    "start_time": "2021-07-08T10:19:20.050Z"
   },
   {
    "duration": 10,
    "start_time": "2021-07-08T10:19:20.062Z"
   },
   {
    "duration": 20,
    "start_time": "2021-07-08T10:19:20.073Z"
   },
   {
    "duration": 29,
    "start_time": "2021-07-08T10:19:20.095Z"
   },
   {
    "duration": 17,
    "start_time": "2021-07-08T10:19:20.126Z"
   },
   {
    "duration": 40,
    "start_time": "2021-07-08T10:19:20.146Z"
   },
   {
    "duration": 15,
    "start_time": "2021-07-08T10:19:20.189Z"
   },
   {
    "duration": 19,
    "start_time": "2021-07-08T10:19:20.206Z"
   },
   {
    "duration": 10,
    "start_time": "2021-07-08T10:19:20.226Z"
   },
   {
    "duration": 11,
    "start_time": "2021-07-08T10:19:20.238Z"
   },
   {
    "duration": 297,
    "start_time": "2021-07-08T10:19:20.250Z"
   },
   {
    "duration": 6,
    "start_time": "2021-07-08T10:19:20.549Z"
   },
   {
    "duration": 191,
    "start_time": "2021-07-08T10:19:20.557Z"
   },
   {
    "duration": 19,
    "start_time": "2021-07-08T10:19:20.750Z"
   },
   {
    "duration": 20,
    "start_time": "2021-07-08T10:19:20.771Z"
   },
   {
    "duration": 15,
    "start_time": "2021-07-08T10:19:20.793Z"
   },
   {
    "duration": 222,
    "start_time": "2021-07-08T10:19:20.809Z"
   },
   {
    "duration": 20,
    "start_time": "2021-07-08T10:19:21.033Z"
   },
   {
    "duration": 27,
    "start_time": "2021-07-08T10:45:04.055Z"
   },
   {
    "duration": 8,
    "start_time": "2021-07-08T10:45:08.478Z"
   },
   {
    "duration": 8,
    "start_time": "2021-07-08T10:45:31.982Z"
   },
   {
    "duration": 10,
    "start_time": "2021-07-08T10:46:01.221Z"
   },
   {
    "duration": 17,
    "start_time": "2021-07-08T10:46:40.011Z"
   },
   {
    "duration": 193,
    "start_time": "2021-07-08T10:48:19.471Z"
   },
   {
    "duration": 225,
    "start_time": "2021-07-08T10:49:26.480Z"
   },
   {
    "duration": 204,
    "start_time": "2021-07-08T10:49:59.992Z"
   },
   {
    "duration": 435,
    "start_time": "2021-07-08T10:50:06.779Z"
   },
   {
    "duration": 199,
    "start_time": "2021-07-08T10:50:14.891Z"
   },
   {
    "duration": 204,
    "start_time": "2021-07-08T10:50:18.501Z"
   },
   {
    "duration": 244,
    "start_time": "2021-07-08T10:50:23.359Z"
   },
   {
    "duration": 192,
    "start_time": "2021-07-08T10:50:29.135Z"
   },
   {
    "duration": 218,
    "start_time": "2021-07-08T10:50:33.092Z"
   },
   {
    "duration": 207,
    "start_time": "2021-07-08T10:52:45.381Z"
   },
   {
    "duration": 5,
    "start_time": "2021-07-08T10:53:34.641Z"
   },
   {
    "duration": 196,
    "start_time": "2021-07-08T10:53:41.478Z"
   },
   {
    "duration": 43,
    "start_time": "2021-07-08T10:53:50.335Z"
   },
   {
    "duration": 32,
    "start_time": "2021-07-08T10:53:55.294Z"
   },
   {
    "duration": 55,
    "start_time": "2021-07-08T10:54:09.675Z"
   },
   {
    "duration": 16,
    "start_time": "2021-07-08T10:54:12.260Z"
   },
   {
    "duration": 15,
    "start_time": "2021-07-08T10:54:49.150Z"
   },
   {
    "duration": 20,
    "start_time": "2021-07-08T10:56:07.596Z"
   },
   {
    "duration": 16,
    "start_time": "2021-07-08T10:58:26.276Z"
   },
   {
    "duration": 22,
    "start_time": "2021-07-08T10:59:00.486Z"
   },
   {
    "duration": 18,
    "start_time": "2021-07-08T11:02:09.653Z"
   },
   {
    "duration": 10,
    "start_time": "2021-07-08T11:03:44.331Z"
   },
   {
    "duration": 10,
    "start_time": "2021-07-08T11:03:54.055Z"
   },
   {
    "duration": 12,
    "start_time": "2021-07-08T11:04:41.967Z"
   },
   {
    "duration": 24,
    "start_time": "2021-07-08T11:07:30.732Z"
   },
   {
    "duration": 6,
    "start_time": "2021-07-08T11:07:37.364Z"
   },
   {
    "duration": 16,
    "start_time": "2021-07-08T11:08:01.819Z"
   },
   {
    "duration": 17,
    "start_time": "2021-07-08T11:09:47.488Z"
   },
   {
    "duration": 246,
    "start_time": "2021-07-08T11:10:00.830Z"
   },
   {
    "duration": 18,
    "start_time": "2021-07-08T11:13:55.195Z"
   },
   {
    "duration": 204,
    "start_time": "2021-07-08T11:14:04.951Z"
   },
   {
    "duration": 19,
    "start_time": "2021-07-08T11:15:10.613Z"
   },
   {
    "duration": 680,
    "start_time": "2021-07-08T11:16:25.793Z"
   },
   {
    "duration": 451,
    "start_time": "2021-07-08T11:16:40.313Z"
   },
   {
    "duration": 469,
    "start_time": "2021-07-08T11:17:21.286Z"
   },
   {
    "duration": 20,
    "start_time": "2021-07-08T11:19:12.554Z"
   },
   {
    "duration": 35,
    "start_time": "2021-07-08T11:20:05.484Z"
   },
   {
    "duration": 53,
    "start_time": "2021-07-08T11:21:40.050Z"
   },
   {
    "duration": 13,
    "start_time": "2021-07-08T11:22:26.059Z"
   },
   {
    "duration": 19,
    "start_time": "2021-07-08T11:22:47.419Z"
   },
   {
    "duration": 25,
    "start_time": "2021-07-08T11:23:19.958Z"
   },
   {
    "duration": 29,
    "start_time": "2021-07-08T11:23:25.415Z"
   },
   {
    "duration": 10,
    "start_time": "2021-07-08T11:24:45.138Z"
   },
   {
    "duration": 19,
    "start_time": "2021-07-08T11:24:54.498Z"
   },
   {
    "duration": 12,
    "start_time": "2021-07-08T11:25:32.225Z"
   },
   {
    "duration": 19,
    "start_time": "2021-07-08T11:25:37.092Z"
   },
   {
    "duration": 17,
    "start_time": "2021-07-08T11:25:58.116Z"
   },
   {
    "duration": 15,
    "start_time": "2021-07-08T11:26:02.258Z"
   },
   {
    "duration": 8,
    "start_time": "2021-07-08T11:26:59.682Z"
   },
   {
    "duration": 184,
    "start_time": "2021-07-08T11:27:21.894Z"
   },
   {
    "duration": 8,
    "start_time": "2021-07-08T11:27:23.824Z"
   },
   {
    "duration": 202,
    "start_time": "2021-07-08T11:27:23.962Z"
   },
   {
    "duration": 360,
    "start_time": "2021-07-08T11:28:33.215Z"
   },
   {
    "duration": 231,
    "start_time": "2021-07-08T11:32:05.542Z"
   },
   {
    "duration": 607,
    "start_time": "2021-07-08T11:36:27.854Z"
   },
   {
    "duration": 241,
    "start_time": "2021-07-08T11:36:28.463Z"
   },
   {
    "duration": 67,
    "start_time": "2021-07-08T11:36:28.709Z"
   },
   {
    "duration": 5,
    "start_time": "2021-07-08T11:36:28.778Z"
   },
   {
    "duration": 32,
    "start_time": "2021-07-08T11:36:28.784Z"
   },
   {
    "duration": 11,
    "start_time": "2021-07-08T11:36:28.819Z"
   },
   {
    "duration": 20,
    "start_time": "2021-07-08T11:36:28.834Z"
   },
   {
    "duration": 36,
    "start_time": "2021-07-08T11:36:28.857Z"
   },
   {
    "duration": 16,
    "start_time": "2021-07-08T11:36:28.895Z"
   },
   {
    "duration": 14,
    "start_time": "2021-07-08T11:36:28.913Z"
   },
   {
    "duration": 9,
    "start_time": "2021-07-08T11:36:28.930Z"
   },
   {
    "duration": 55,
    "start_time": "2021-07-08T11:36:28.941Z"
   },
   {
    "duration": 27,
    "start_time": "2021-07-08T11:36:28.999Z"
   },
   {
    "duration": 30,
    "start_time": "2021-07-08T11:36:29.028Z"
   },
   {
    "duration": 31,
    "start_time": "2021-07-08T11:36:29.060Z"
   },
   {
    "duration": 3,
    "start_time": "2021-07-08T11:36:29.093Z"
   },
   {
    "duration": 12,
    "start_time": "2021-07-08T11:36:29.099Z"
   },
   {
    "duration": 11,
    "start_time": "2021-07-08T11:36:29.112Z"
   },
   {
    "duration": 12,
    "start_time": "2021-07-08T11:36:29.125Z"
   },
   {
    "duration": 9,
    "start_time": "2021-07-08T11:36:29.139Z"
   },
   {
    "duration": 31,
    "start_time": "2021-07-08T11:36:29.191Z"
   },
   {
    "duration": 17,
    "start_time": "2021-07-08T11:36:29.226Z"
   },
   {
    "duration": 7,
    "start_time": "2021-07-08T11:36:29.245Z"
   },
   {
    "duration": 10,
    "start_time": "2021-07-08T11:36:29.254Z"
   },
   {
    "duration": 30,
    "start_time": "2021-07-08T11:36:29.292Z"
   },
   {
    "duration": 11,
    "start_time": "2021-07-08T11:36:29.324Z"
   },
   {
    "duration": 11,
    "start_time": "2021-07-08T11:36:29.337Z"
   },
   {
    "duration": 230,
    "start_time": "2021-07-08T11:36:29.349Z"
   },
   {
    "duration": 13,
    "start_time": "2021-07-08T11:36:29.588Z"
   },
   {
    "duration": 205,
    "start_time": "2021-07-08T11:36:29.603Z"
   },
   {
    "duration": 20,
    "start_time": "2021-07-08T11:36:29.810Z"
   },
   {
    "duration": 9,
    "start_time": "2021-07-08T11:36:29.832Z"
   },
   {
    "duration": 16,
    "start_time": "2021-07-08T11:36:29.843Z"
   },
   {
    "duration": 283,
    "start_time": "2021-07-08T11:36:29.861Z"
   },
   {
    "duration": 50,
    "start_time": "2021-07-08T11:36:30.146Z"
   },
   {
    "duration": 14,
    "start_time": "2021-07-08T11:36:30.198Z"
   },
   {
    "duration": 11,
    "start_time": "2021-07-08T11:36:30.214Z"
   },
   {
    "duration": 245,
    "start_time": "2021-07-08T11:36:30.227Z"
   },
   {
    "duration": 439,
    "start_time": "2021-07-08T11:36:30.474Z"
   },
   {
    "duration": 210,
    "start_time": "2021-07-08T11:36:30.915Z"
   },
   {
    "duration": 15,
    "start_time": "2021-07-08T11:36:31.127Z"
   },
   {
    "duration": 17,
    "start_time": "2021-07-08T11:38:20.451Z"
   },
   {
    "duration": 642,
    "start_time": "2021-07-08T11:46:17.881Z"
   },
   {
    "duration": 210,
    "start_time": "2021-07-08T11:46:18.525Z"
   },
   {
    "duration": 104,
    "start_time": "2021-07-08T11:46:18.741Z"
   },
   {
    "duration": 8,
    "start_time": "2021-07-08T11:46:18.847Z"
   },
   {
    "duration": 25,
    "start_time": "2021-07-08T11:46:18.857Z"
   },
   {
    "duration": 14,
    "start_time": "2021-07-08T11:46:18.884Z"
   },
   {
    "duration": 22,
    "start_time": "2021-07-08T11:46:18.900Z"
   },
   {
    "duration": 5,
    "start_time": "2021-07-08T11:46:18.924Z"
   },
   {
    "duration": 13,
    "start_time": "2021-07-08T11:46:18.931Z"
   },
   {
    "duration": 45,
    "start_time": "2021-07-08T11:46:18.946Z"
   },
   {
    "duration": 12,
    "start_time": "2021-07-08T11:46:18.993Z"
   },
   {
    "duration": 38,
    "start_time": "2021-07-08T11:46:19.006Z"
   },
   {
    "duration": 50,
    "start_time": "2021-07-08T11:46:19.046Z"
   },
   {
    "duration": 29,
    "start_time": "2021-07-08T11:46:19.099Z"
   },
   {
    "duration": 7,
    "start_time": "2021-07-08T11:46:19.130Z"
   },
   {
    "duration": 3,
    "start_time": "2021-07-08T11:46:19.139Z"
   },
   {
    "duration": 11,
    "start_time": "2021-07-08T11:46:19.144Z"
   },
   {
    "duration": 40,
    "start_time": "2021-07-08T11:46:19.157Z"
   },
   {
    "duration": 15,
    "start_time": "2021-07-08T11:46:19.199Z"
   },
   {
    "duration": 10,
    "start_time": "2021-07-08T11:46:19.217Z"
   },
   {
    "duration": 68,
    "start_time": "2021-07-08T11:46:19.230Z"
   },
   {
    "duration": 17,
    "start_time": "2021-07-08T11:46:19.301Z"
   },
   {
    "duration": 7,
    "start_time": "2021-07-08T11:46:19.321Z"
   },
   {
    "duration": 11,
    "start_time": "2021-07-08T11:46:19.330Z"
   },
   {
    "duration": 59,
    "start_time": "2021-07-08T11:46:19.343Z"
   },
   {
    "duration": 17,
    "start_time": "2021-07-08T11:46:19.405Z"
   },
   {
    "duration": 16,
    "start_time": "2021-07-08T11:46:19.424Z"
   },
   {
    "duration": 252,
    "start_time": "2021-07-08T11:46:19.443Z"
   },
   {
    "duration": 9,
    "start_time": "2021-07-08T11:46:19.697Z"
   },
   {
    "duration": 224,
    "start_time": "2021-07-08T11:46:19.708Z"
   },
   {
    "duration": 21,
    "start_time": "2021-07-08T11:46:19.934Z"
   },
   {
    "duration": 9,
    "start_time": "2021-07-08T11:46:19.956Z"
   },
   {
    "duration": 32,
    "start_time": "2021-07-08T11:46:19.967Z"
   },
   {
    "duration": 288,
    "start_time": "2021-07-08T11:46:20.004Z"
   },
   {
    "duration": 23,
    "start_time": "2021-07-08T11:46:20.300Z"
   },
   {
    "duration": 11,
    "start_time": "2021-07-08T11:46:20.325Z"
   },
   {
    "duration": 11,
    "start_time": "2021-07-08T11:46:20.339Z"
   },
   {
    "duration": 259,
    "start_time": "2021-07-08T11:46:20.352Z"
   },
   {
    "duration": 438,
    "start_time": "2021-07-08T11:46:20.613Z"
   },
   {
    "duration": 207,
    "start_time": "2021-07-08T11:46:21.054Z"
   },
   {
    "duration": 27,
    "start_time": "2021-07-08T11:46:21.262Z"
   },
   {
    "duration": 19,
    "start_time": "2021-07-08T11:46:21.291Z"
   },
   {
    "duration": 820,
    "start_time": "2021-07-08T11:49:01.655Z"
   },
   {
    "duration": 372,
    "start_time": "2021-07-08T11:49:02.478Z"
   },
   {
    "duration": 98,
    "start_time": "2021-07-08T11:49:02.853Z"
   },
   {
    "duration": 6,
    "start_time": "2021-07-08T11:49:02.953Z"
   },
   {
    "duration": 39,
    "start_time": "2021-07-08T11:49:02.960Z"
   },
   {
    "duration": 9,
    "start_time": "2021-07-08T11:49:03.003Z"
   },
   {
    "duration": 23,
    "start_time": "2021-07-08T11:49:03.014Z"
   },
   {
    "duration": 6,
    "start_time": "2021-07-08T11:49:03.041Z"
   },
   {
    "duration": 20,
    "start_time": "2021-07-08T11:49:03.049Z"
   },
   {
    "duration": 18,
    "start_time": "2021-07-08T11:49:03.084Z"
   },
   {
    "duration": 14,
    "start_time": "2021-07-08T11:49:03.104Z"
   },
   {
    "duration": 39,
    "start_time": "2021-07-08T11:49:03.119Z"
   },
   {
    "duration": 38,
    "start_time": "2021-07-08T11:49:03.160Z"
   },
   {
    "duration": 26,
    "start_time": "2021-07-08T11:49:03.200Z"
   },
   {
    "duration": 7,
    "start_time": "2021-07-08T11:49:03.227Z"
   },
   {
    "duration": 4,
    "start_time": "2021-07-08T11:49:03.236Z"
   },
   {
    "duration": 15,
    "start_time": "2021-07-08T11:49:03.243Z"
   },
   {
    "duration": 21,
    "start_time": "2021-07-08T11:49:03.285Z"
   },
   {
    "duration": 17,
    "start_time": "2021-07-08T11:49:03.309Z"
   },
   {
    "duration": 10,
    "start_time": "2021-07-08T11:49:03.328Z"
   },
   {
    "duration": 65,
    "start_time": "2021-07-08T11:49:03.340Z"
   },
   {
    "duration": 18,
    "start_time": "2021-07-08T11:49:03.407Z"
   },
   {
    "duration": 8,
    "start_time": "2021-07-08T11:49:03.428Z"
   },
   {
    "duration": 15,
    "start_time": "2021-07-08T11:49:03.438Z"
   },
   {
    "duration": 40,
    "start_time": "2021-07-08T11:49:03.455Z"
   },
   {
    "duration": 12,
    "start_time": "2021-07-08T11:49:03.497Z"
   },
   {
    "duration": 29,
    "start_time": "2021-07-08T11:49:03.511Z"
   },
   {
    "duration": 285,
    "start_time": "2021-07-08T11:49:03.542Z"
   },
   {
    "duration": 8,
    "start_time": "2021-07-08T11:49:03.829Z"
   },
   {
    "duration": 227,
    "start_time": "2021-07-08T11:49:03.838Z"
   },
   {
    "duration": 40,
    "start_time": "2021-07-08T11:49:04.066Z"
   },
   {
    "duration": 10,
    "start_time": "2021-07-08T11:49:04.108Z"
   },
   {
    "duration": 26,
    "start_time": "2021-07-08T11:49:04.121Z"
   },
   {
    "duration": 290,
    "start_time": "2021-07-08T11:49:04.149Z"
   },
   {
    "duration": 26,
    "start_time": "2021-07-08T11:49:04.441Z"
   },
   {
    "duration": 31,
    "start_time": "2021-07-08T11:49:04.470Z"
   },
   {
    "duration": 14,
    "start_time": "2021-07-08T11:49:04.503Z"
   },
   {
    "duration": 259,
    "start_time": "2021-07-08T11:49:04.521Z"
   },
   {
    "duration": 480,
    "start_time": "2021-07-08T11:49:04.782Z"
   },
   {
    "duration": 225,
    "start_time": "2021-07-08T11:49:05.264Z"
   },
   {
    "duration": 22,
    "start_time": "2021-07-08T11:49:05.491Z"
   },
   {
    "duration": 24,
    "start_time": "2021-07-08T11:49:05.515Z"
   },
   {
    "duration": 634,
    "start_time": "2021-07-08T11:52:24.960Z"
   },
   {
    "duration": 199,
    "start_time": "2021-07-08T11:52:25.599Z"
   },
   {
    "duration": 106,
    "start_time": "2021-07-08T11:52:25.803Z"
   },
   {
    "duration": 7,
    "start_time": "2021-07-08T11:52:25.911Z"
   },
   {
    "duration": 29,
    "start_time": "2021-07-08T11:52:25.920Z"
   },
   {
    "duration": 7,
    "start_time": "2021-07-08T11:52:25.951Z"
   },
   {
    "duration": 26,
    "start_time": "2021-07-08T11:52:25.961Z"
   },
   {
    "duration": 11,
    "start_time": "2021-07-08T11:52:25.990Z"
   },
   {
    "duration": 29,
    "start_time": "2021-07-08T11:52:26.005Z"
   },
   {
    "duration": 9,
    "start_time": "2021-07-08T11:52:26.036Z"
   },
   {
    "duration": 8,
    "start_time": "2021-07-08T11:52:26.047Z"
   },
   {
    "duration": 63,
    "start_time": "2021-07-08T11:52:26.057Z"
   },
   {
    "duration": 17,
    "start_time": "2021-07-08T11:52:26.122Z"
   },
   {
    "duration": 43,
    "start_time": "2021-07-08T11:52:26.142Z"
   },
   {
    "duration": 17,
    "start_time": "2021-07-08T11:52:26.187Z"
   },
   {
    "duration": 5,
    "start_time": "2021-07-08T11:52:26.206Z"
   },
   {
    "duration": 12,
    "start_time": "2021-07-08T11:52:26.212Z"
   },
   {
    "duration": 11,
    "start_time": "2021-07-08T11:52:26.226Z"
   },
   {
    "duration": 12,
    "start_time": "2021-07-08T11:52:26.238Z"
   },
   {
    "duration": 38,
    "start_time": "2021-07-08T11:52:26.252Z"
   },
   {
    "duration": 40,
    "start_time": "2021-07-08T11:52:26.292Z"
   },
   {
    "duration": 17,
    "start_time": "2021-07-08T11:52:26.336Z"
   },
   {
    "duration": 39,
    "start_time": "2021-07-08T11:52:26.355Z"
   },
   {
    "duration": 11,
    "start_time": "2021-07-08T11:52:26.395Z"
   },
   {
    "duration": 23,
    "start_time": "2021-07-08T11:52:26.408Z"
   },
   {
    "duration": 12,
    "start_time": "2021-07-08T11:52:26.432Z"
   },
   {
    "duration": 41,
    "start_time": "2021-07-08T11:52:26.446Z"
   },
   {
    "duration": 215,
    "start_time": "2021-07-08T11:52:26.493Z"
   },
   {
    "duration": 8,
    "start_time": "2021-07-08T11:52:26.710Z"
   },
   {
    "duration": 228,
    "start_time": "2021-07-08T11:52:26.720Z"
   },
   {
    "duration": 18,
    "start_time": "2021-07-08T11:52:26.950Z"
   },
   {
    "duration": 35,
    "start_time": "2021-07-08T11:52:26.969Z"
   },
   {
    "duration": 23,
    "start_time": "2021-07-08T11:52:27.006Z"
   },
   {
    "duration": 258,
    "start_time": "2021-07-08T11:52:27.030Z"
   },
   {
    "duration": 24,
    "start_time": "2021-07-08T11:52:27.290Z"
   },
   {
    "duration": 12,
    "start_time": "2021-07-08T11:52:27.316Z"
   },
   {
    "duration": 10,
    "start_time": "2021-07-08T11:52:27.329Z"
   },
   {
    "duration": 298,
    "start_time": "2021-07-08T11:52:27.341Z"
   },
   {
    "duration": 436,
    "start_time": "2021-07-08T11:52:27.641Z"
   },
   {
    "duration": 216,
    "start_time": "2021-07-08T11:52:28.079Z"
   },
   {
    "duration": 20,
    "start_time": "2021-07-08T11:52:28.297Z"
   },
   {
    "duration": 17,
    "start_time": "2021-07-08T11:52:28.319Z"
   },
   {
    "duration": 503,
    "start_time": "2021-12-27T09:56:43.677Z"
   },
   {
    "duration": 790,
    "start_time": "2021-12-27T09:56:59.421Z"
   },
   {
    "duration": 109,
    "start_time": "2021-12-27T09:57:01.545Z"
   },
   {
    "duration": 46,
    "start_time": "2021-12-27T09:57:58.499Z"
   },
   {
    "duration": 15,
    "start_time": "2021-12-27T09:58:47.685Z"
   },
   {
    "duration": 9,
    "start_time": "2021-12-27T09:58:56.743Z"
   },
   {
    "duration": 321,
    "start_time": "2021-12-27T10:00:58.242Z"
   },
   {
    "duration": 909,
    "start_time": "2021-12-27T10:02:17.985Z"
   },
   {
    "duration": 100,
    "start_time": "2021-12-27T10:02:18.897Z"
   },
   {
    "duration": 47,
    "start_time": "2021-12-27T10:02:19.000Z"
   },
   {
    "duration": 15,
    "start_time": "2021-12-27T10:02:19.050Z"
   },
   {
    "duration": 7,
    "start_time": "2021-12-27T10:02:19.067Z"
   },
   {
    "duration": 396,
    "start_time": "2021-12-27T10:02:19.077Z"
   },
   {
    "duration": 1535,
    "start_time": "2021-12-27T10:03:05.702Z"
   },
   {
    "duration": 335,
    "start_time": "2021-12-27T10:03:27.477Z"
   },
   {
    "duration": 1911,
    "start_time": "2021-12-27T10:11:23.575Z"
   },
   {
    "duration": 8,
    "start_time": "2021-12-27T10:11:46.530Z"
   },
   {
    "duration": 383,
    "start_time": "2021-12-27T10:11:59.970Z"
   },
   {
    "duration": 41,
    "start_time": "2021-12-27T10:12:07.179Z"
   },
   {
    "duration": 1218,
    "start_time": "2021-12-27T10:28:45.510Z"
   },
   {
    "duration": 280,
    "start_time": "2021-12-27T10:28:50.918Z"
   },
   {
    "duration": 1798,
    "start_time": "2021-12-27T10:36:36.447Z"
   },
   {
    "duration": 322,
    "start_time": "2021-12-27T10:37:04.806Z"
   },
   {
    "duration": 108,
    "start_time": "2021-12-27T10:37:24.962Z"
   },
   {
    "duration": 97,
    "start_time": "2021-12-27T10:37:35.231Z"
   },
   {
    "duration": 8,
    "start_time": "2021-12-27T10:37:39.600Z"
   },
   {
    "duration": 29,
    "start_time": "2021-12-27T11:18:10.802Z"
   },
   {
    "duration": 9,
    "start_time": "2021-12-27T11:19:20.243Z"
   },
   {
    "duration": 21,
    "start_time": "2021-12-27T11:19:32.959Z"
   },
   {
    "duration": 96,
    "start_time": "2021-12-27T11:20:56.023Z"
   },
   {
    "duration": 316,
    "start_time": "2021-12-27T11:21:06.952Z"
   },
   {
    "duration": 9,
    "start_time": "2021-12-27T11:21:47.651Z"
   },
   {
    "duration": 290,
    "start_time": "2021-12-27T11:22:22.065Z"
   },
   {
    "duration": 983,
    "start_time": "2021-12-27T11:22:33.711Z"
   },
   {
    "duration": 104,
    "start_time": "2021-12-27T11:22:34.697Z"
   },
   {
    "duration": 49,
    "start_time": "2021-12-27T11:22:34.804Z"
   },
   {
    "duration": 16,
    "start_time": "2021-12-27T11:22:34.856Z"
   },
   {
    "duration": 7,
    "start_time": "2021-12-27T11:22:34.875Z"
   },
   {
    "duration": 30,
    "start_time": "2021-12-27T11:22:34.885Z"
   },
   {
    "duration": 8,
    "start_time": "2021-12-27T11:22:34.917Z"
   },
   {
    "duration": 419,
    "start_time": "2021-12-27T11:22:34.964Z"
   },
   {
    "duration": 1161,
    "start_time": "2021-12-27T11:22:43.478Z"
   },
   {
    "duration": 10,
    "start_time": "2021-12-27T11:24:27.408Z"
   },
   {
    "duration": 1187,
    "start_time": "2021-12-27T11:24:33.195Z"
   },
   {
    "duration": 8,
    "start_time": "2021-12-27T11:27:08.708Z"
   },
   {
    "duration": 352,
    "start_time": "2021-12-27T15:45:09.690Z"
   },
   {
    "duration": 13,
    "start_time": "2021-12-27T15:45:23.358Z"
   },
   {
    "duration": 6,
    "start_time": "2021-12-27T15:45:29.816Z"
   },
   {
    "duration": 16,
    "start_time": "2021-12-27T15:45:44.685Z"
   },
   {
    "duration": 287,
    "start_time": "2021-12-27T15:57:18.947Z"
   },
   {
    "duration": 49,
    "start_time": "2021-12-27T15:57:43.547Z"
   },
   {
    "duration": 19,
    "start_time": "2021-12-27T16:15:47.169Z"
   },
   {
    "duration": 20,
    "start_time": "2021-12-27T16:15:55.501Z"
   },
   {
    "duration": 301,
    "start_time": "2021-12-27T16:19:11.827Z"
   },
   {
    "duration": 8,
    "start_time": "2021-12-27T16:19:28.857Z"
   },
   {
    "duration": 481,
    "start_time": "2021-12-28T08:16:29.290Z"
   },
   {
    "duration": 921,
    "start_time": "2021-12-28T08:16:36.421Z"
   },
   {
    "duration": 107,
    "start_time": "2021-12-28T08:16:37.348Z"
   },
   {
    "duration": 49,
    "start_time": "2021-12-28T08:16:37.459Z"
   },
   {
    "duration": 25,
    "start_time": "2021-12-28T08:16:37.511Z"
   },
   {
    "duration": 11,
    "start_time": "2021-12-28T08:16:37.539Z"
   },
   {
    "duration": 45,
    "start_time": "2021-12-28T08:16:37.553Z"
   },
   {
    "duration": 14,
    "start_time": "2021-12-28T08:16:37.601Z"
   },
   {
    "duration": 10,
    "start_time": "2021-12-28T08:16:37.620Z"
   },
   {
    "duration": 48,
    "start_time": "2021-12-28T08:16:37.633Z"
   },
   {
    "duration": 17,
    "start_time": "2021-12-28T08:16:37.684Z"
   },
   {
    "duration": 17,
    "start_time": "2021-12-28T08:16:37.703Z"
   },
   {
    "duration": 6,
    "start_time": "2021-12-28T08:16:37.722Z"
   },
   {
    "duration": 43,
    "start_time": "2021-12-28T08:16:37.730Z"
   },
   {
    "duration": 7,
    "start_time": "2021-12-28T08:16:53.197Z"
   },
   {
    "duration": 6,
    "start_time": "2021-12-28T08:17:22.165Z"
   },
   {
    "duration": 7,
    "start_time": "2021-12-28T08:17:24.543Z"
   },
   {
    "duration": 94,
    "start_time": "2021-12-28T08:18:58.266Z"
   },
   {
    "duration": 8,
    "start_time": "2021-12-28T08:20:13.081Z"
   },
   {
    "duration": 8,
    "start_time": "2021-12-28T08:20:16.517Z"
   },
   {
    "duration": 347,
    "start_time": "2021-12-28T08:20:48.361Z"
   },
   {
    "duration": 313,
    "start_time": "2021-12-28T08:20:56.873Z"
   },
   {
    "duration": 257,
    "start_time": "2021-12-28T08:29:01.132Z"
   },
   {
    "duration": 5,
    "start_time": "2021-12-28T08:29:13.956Z"
   },
   {
    "duration": 5,
    "start_time": "2021-12-28T08:29:40.576Z"
   },
   {
    "duration": 9,
    "start_time": "2021-12-28T08:29:49.412Z"
   },
   {
    "duration": 10,
    "start_time": "2021-12-28T08:39:26.505Z"
   },
   {
    "duration": 870,
    "start_time": "2021-12-28T08:45:52.474Z"
   },
   {
    "duration": 102,
    "start_time": "2021-12-28T08:45:53.347Z"
   },
   {
    "duration": 47,
    "start_time": "2021-12-28T08:45:53.452Z"
   },
   {
    "duration": 15,
    "start_time": "2021-12-28T08:45:53.502Z"
   },
   {
    "duration": 13,
    "start_time": "2021-12-28T08:45:53.519Z"
   },
   {
    "duration": 33,
    "start_time": "2021-12-28T08:45:53.534Z"
   },
   {
    "duration": 10,
    "start_time": "2021-12-28T08:45:53.570Z"
   },
   {
    "duration": 11,
    "start_time": "2021-12-28T08:45:53.584Z"
   },
   {
    "duration": 14,
    "start_time": "2021-12-28T08:45:53.598Z"
   },
   {
    "duration": 18,
    "start_time": "2021-12-28T08:45:53.615Z"
   },
   {
    "duration": 43,
    "start_time": "2021-12-28T08:45:53.636Z"
   },
   {
    "duration": 7,
    "start_time": "2021-12-28T08:45:53.681Z"
   },
   {
    "duration": 7,
    "start_time": "2021-12-28T08:45:53.691Z"
   },
   {
    "duration": 20,
    "start_time": "2021-12-28T08:45:53.700Z"
   },
   {
    "duration": 12,
    "start_time": "2021-12-28T08:48:41.625Z"
   },
   {
    "duration": 6,
    "start_time": "2021-12-28T08:49:02.245Z"
   },
   {
    "duration": 843,
    "start_time": "2021-12-28T08:49:10.103Z"
   },
   {
    "duration": 103,
    "start_time": "2021-12-28T08:49:10.949Z"
   },
   {
    "duration": 46,
    "start_time": "2021-12-28T08:49:11.055Z"
   },
   {
    "duration": 16,
    "start_time": "2021-12-28T08:49:11.104Z"
   },
   {
    "duration": 7,
    "start_time": "2021-12-28T08:49:11.123Z"
   },
   {
    "duration": 36,
    "start_time": "2021-12-28T08:49:11.133Z"
   },
   {
    "duration": 12,
    "start_time": "2021-12-28T08:49:11.171Z"
   },
   {
    "duration": 7,
    "start_time": "2021-12-28T08:49:11.187Z"
   },
   {
    "duration": 16,
    "start_time": "2021-12-28T08:49:11.196Z"
   },
   {
    "duration": 52,
    "start_time": "2021-12-28T08:49:11.215Z"
   },
   {
    "duration": 17,
    "start_time": "2021-12-28T08:49:11.270Z"
   },
   {
    "duration": 6,
    "start_time": "2021-12-28T08:49:11.289Z"
   },
   {
    "duration": 11,
    "start_time": "2021-12-28T08:49:11.297Z"
   },
   {
    "duration": 13,
    "start_time": "2021-12-28T08:49:11.311Z"
   },
   {
    "duration": 42,
    "start_time": "2021-12-28T08:49:11.326Z"
   },
   {
    "duration": 11,
    "start_time": "2021-12-28T08:52:02.596Z"
   },
   {
    "duration": 6,
    "start_time": "2021-12-28T08:52:05.459Z"
   },
   {
    "duration": 874,
    "start_time": "2021-12-28T08:52:45.144Z"
   },
   {
    "duration": 112,
    "start_time": "2021-12-28T08:52:46.027Z"
   },
   {
    "duration": 40,
    "start_time": "2021-12-28T08:52:46.143Z"
   },
   {
    "duration": 18,
    "start_time": "2021-12-28T08:52:46.185Z"
   },
   {
    "duration": 16,
    "start_time": "2021-12-28T08:52:46.206Z"
   },
   {
    "duration": 53,
    "start_time": "2021-12-28T08:52:46.224Z"
   },
   {
    "duration": 11,
    "start_time": "2021-12-28T08:52:46.281Z"
   },
   {
    "duration": 7,
    "start_time": "2021-12-28T08:52:46.295Z"
   },
   {
    "duration": 15,
    "start_time": "2021-12-28T08:52:46.304Z"
   },
   {
    "duration": 54,
    "start_time": "2021-12-28T08:52:46.322Z"
   },
   {
    "duration": 17,
    "start_time": "2021-12-28T08:52:46.379Z"
   },
   {
    "duration": 6,
    "start_time": "2021-12-28T08:52:46.398Z"
   },
   {
    "duration": 7,
    "start_time": "2021-12-28T08:52:46.407Z"
   },
   {
    "duration": 15,
    "start_time": "2021-12-28T08:52:46.416Z"
   },
   {
    "duration": 6,
    "start_time": "2021-12-28T08:52:46.468Z"
   },
   {
    "duration": 10,
    "start_time": "2021-12-28T08:53:10.278Z"
   },
   {
    "duration": 7,
    "start_time": "2021-12-28T08:53:13.050Z"
   },
   {
    "duration": 913,
    "start_time": "2021-12-28T08:53:20.183Z"
   },
   {
    "duration": 102,
    "start_time": "2021-12-28T08:53:21.098Z"
   },
   {
    "duration": 37,
    "start_time": "2021-12-28T08:53:21.203Z"
   },
   {
    "duration": 15,
    "start_time": "2021-12-28T08:53:21.243Z"
   },
   {
    "duration": 13,
    "start_time": "2021-12-28T08:53:21.261Z"
   },
   {
    "duration": 31,
    "start_time": "2021-12-28T08:53:21.277Z"
   },
   {
    "duration": 8,
    "start_time": "2021-12-28T08:53:21.311Z"
   },
   {
    "duration": 6,
    "start_time": "2021-12-28T08:53:21.324Z"
   },
   {
    "duration": 46,
    "start_time": "2021-12-28T08:53:21.332Z"
   },
   {
    "duration": 20,
    "start_time": "2021-12-28T08:53:21.380Z"
   },
   {
    "duration": 18,
    "start_time": "2021-12-28T08:53:21.403Z"
   },
   {
    "duration": 7,
    "start_time": "2021-12-28T08:53:21.424Z"
   },
   {
    "duration": 40,
    "start_time": "2021-12-28T08:53:21.433Z"
   },
   {
    "duration": 13,
    "start_time": "2021-12-28T08:53:21.476Z"
   },
   {
    "duration": 9,
    "start_time": "2021-12-28T08:53:21.492Z"
   },
   {
    "duration": 888,
    "start_time": "2021-12-28T08:56:26.949Z"
   },
   {
    "duration": 102,
    "start_time": "2021-12-28T08:56:27.839Z"
   },
   {
    "duration": 38,
    "start_time": "2021-12-28T08:56:27.944Z"
   },
   {
    "duration": 16,
    "start_time": "2021-12-28T08:56:27.984Z"
   },
   {
    "duration": 9,
    "start_time": "2021-12-28T08:56:28.003Z"
   },
   {
    "duration": 54,
    "start_time": "2021-12-28T08:56:28.015Z"
   },
   {
    "duration": 15,
    "start_time": "2021-12-28T08:56:28.071Z"
   },
   {
    "duration": 6,
    "start_time": "2021-12-28T08:56:28.090Z"
   },
   {
    "duration": 14,
    "start_time": "2021-12-28T08:56:28.099Z"
   },
   {
    "duration": 18,
    "start_time": "2021-12-28T08:56:28.116Z"
   },
   {
    "duration": 47,
    "start_time": "2021-12-28T08:56:28.137Z"
   },
   {
    "duration": 7,
    "start_time": "2021-12-28T08:56:28.187Z"
   },
   {
    "duration": 9,
    "start_time": "2021-12-28T08:56:28.196Z"
   },
   {
    "duration": 58,
    "start_time": "2021-12-28T08:56:28.209Z"
   },
   {
    "duration": 6,
    "start_time": "2021-12-28T08:56:28.270Z"
   },
   {
    "duration": 11,
    "start_time": "2021-12-28T09:02:03.514Z"
   },
   {
    "duration": 857,
    "start_time": "2021-12-28T09:02:35.792Z"
   },
   {
    "duration": 118,
    "start_time": "2021-12-28T09:02:36.651Z"
   },
   {
    "duration": 51,
    "start_time": "2021-12-28T09:02:36.773Z"
   },
   {
    "duration": 19,
    "start_time": "2021-12-28T09:02:36.827Z"
   },
   {
    "duration": 8,
    "start_time": "2021-12-28T09:02:36.849Z"
   },
   {
    "duration": 25,
    "start_time": "2021-12-28T09:02:36.868Z"
   },
   {
    "duration": 12,
    "start_time": "2021-12-28T09:02:36.896Z"
   },
   {
    "duration": 7,
    "start_time": "2021-12-28T09:02:36.912Z"
   },
   {
    "duration": 52,
    "start_time": "2021-12-28T09:02:36.922Z"
   },
   {
    "duration": 19,
    "start_time": "2021-12-28T09:02:36.977Z"
   },
   {
    "duration": 17,
    "start_time": "2021-12-28T09:02:36.999Z"
   },
   {
    "duration": 6,
    "start_time": "2021-12-28T09:02:37.019Z"
   },
   {
    "duration": 48,
    "start_time": "2021-12-28T09:02:37.027Z"
   },
   {
    "duration": 9,
    "start_time": "2021-12-28T09:02:37.078Z"
   },
   {
    "duration": 11,
    "start_time": "2021-12-28T09:02:37.089Z"
   },
   {
    "duration": 13,
    "start_time": "2021-12-28T09:02:37.103Z"
   },
   {
    "duration": 28,
    "start_time": "2021-12-28T09:02:53.037Z"
   },
   {
    "duration": 14,
    "start_time": "2021-12-28T09:04:02.253Z"
   },
   {
    "duration": 1762,
    "start_time": "2021-12-28T09:07:24.591Z"
   },
   {
    "duration": 430,
    "start_time": "2021-12-28T09:07:44.237Z"
   },
   {
    "duration": 7,
    "start_time": "2021-12-28T09:07:57.510Z"
   },
   {
    "duration": 8,
    "start_time": "2021-12-28T09:08:12.668Z"
   },
   {
    "duration": 7,
    "start_time": "2021-12-28T09:10:38.627Z"
   },
   {
    "duration": 16,
    "start_time": "2021-12-28T09:10:44.959Z"
   },
   {
    "duration": 23,
    "start_time": "2021-12-28T09:11:08.387Z"
   },
   {
    "duration": 822,
    "start_time": "2021-12-28T09:11:21.015Z"
   },
   {
    "duration": 105,
    "start_time": "2021-12-28T09:11:21.840Z"
   },
   {
    "duration": 39,
    "start_time": "2021-12-28T09:11:21.948Z"
   },
   {
    "duration": 17,
    "start_time": "2021-12-28T09:11:21.990Z"
   },
   {
    "duration": 9,
    "start_time": "2021-12-28T09:11:22.010Z"
   },
   {
    "duration": 50,
    "start_time": "2021-12-28T09:11:22.022Z"
   },
   {
    "duration": 15,
    "start_time": "2021-12-28T09:11:22.075Z"
   },
   {
    "duration": 9,
    "start_time": "2021-12-28T09:11:22.095Z"
   },
   {
    "duration": 17,
    "start_time": "2021-12-28T09:11:22.107Z"
   },
   {
    "duration": 48,
    "start_time": "2021-12-28T09:11:22.127Z"
   },
   {
    "duration": 17,
    "start_time": "2021-12-28T09:11:22.178Z"
   },
   {
    "duration": 6,
    "start_time": "2021-12-28T09:11:22.197Z"
   },
   {
    "duration": 21,
    "start_time": "2021-12-28T09:11:22.205Z"
   },
   {
    "duration": 10,
    "start_time": "2021-12-28T09:11:22.228Z"
   },
   {
    "duration": 29,
    "start_time": "2021-12-28T09:11:22.240Z"
   },
   {
    "duration": 5,
    "start_time": "2021-12-28T09:11:22.271Z"
   },
   {
    "duration": 19,
    "start_time": "2021-12-28T09:11:22.278Z"
   },
   {
    "duration": 1876,
    "start_time": "2021-12-28T09:11:22.300Z"
   },
   {
    "duration": 3502,
    "start_time": "2021-12-28T09:11:20.677Z"
   },
   {
    "duration": 3499,
    "start_time": "2021-12-28T09:11:20.681Z"
   },
   {
    "duration": 20,
    "start_time": "2021-12-28T09:11:43.600Z"
   },
   {
    "duration": 15,
    "start_time": "2021-12-28T09:11:46.590Z"
   },
   {
    "duration": 26,
    "start_time": "2021-12-28T09:11:49.538Z"
   },
   {
    "duration": 266,
    "start_time": "2021-12-28T09:15:20.177Z"
   },
   {
    "duration": 15,
    "start_time": "2021-12-28T09:25:36.371Z"
   },
   {
    "duration": 100,
    "start_time": "2021-12-28T09:35:46.478Z"
   },
   {
    "duration": 8,
    "start_time": "2021-12-28T09:35:51.154Z"
   },
   {
    "duration": 543,
    "start_time": "2021-12-28T09:50:02.996Z"
   },
   {
    "duration": 10,
    "start_time": "2021-12-28T09:50:10.109Z"
   },
   {
    "duration": 10,
    "start_time": "2021-12-28T09:56:47.289Z"
   },
   {
    "duration": 7,
    "start_time": "2021-12-28T09:56:57.128Z"
   },
   {
    "duration": 832,
    "start_time": "2021-12-28T09:57:06.801Z"
   },
   {
    "duration": 103,
    "start_time": "2021-12-28T09:57:07.636Z"
   },
   {
    "duration": 37,
    "start_time": "2021-12-28T09:57:07.742Z"
   },
   {
    "duration": 21,
    "start_time": "2021-12-28T09:57:07.782Z"
   },
   {
    "duration": 8,
    "start_time": "2021-12-28T09:57:07.806Z"
   },
   {
    "duration": 26,
    "start_time": "2021-12-28T09:57:07.816Z"
   },
   {
    "duration": 11,
    "start_time": "2021-12-28T09:57:07.867Z"
   },
   {
    "duration": 6,
    "start_time": "2021-12-28T09:57:07.882Z"
   },
   {
    "duration": 15,
    "start_time": "2021-12-28T09:57:07.891Z"
   },
   {
    "duration": 18,
    "start_time": "2021-12-28T09:57:07.909Z"
   },
   {
    "duration": 50,
    "start_time": "2021-12-28T09:57:07.929Z"
   },
   {
    "duration": 6,
    "start_time": "2021-12-28T09:57:07.981Z"
   },
   {
    "duration": 134,
    "start_time": "2021-12-28T09:57:07.990Z"
   },
   {
    "duration": 7,
    "start_time": "2021-12-28T09:57:08.126Z"
   },
   {
    "duration": 39,
    "start_time": "2021-12-28T09:57:08.135Z"
   },
   {
    "duration": 15,
    "start_time": "2021-12-28T09:57:08.176Z"
   },
   {
    "duration": 27,
    "start_time": "2021-12-28T09:57:08.193Z"
   },
   {
    "duration": 18,
    "start_time": "2021-12-28T09:58:57.922Z"
   },
   {
    "duration": 9,
    "start_time": "2021-12-28T09:59:10.828Z"
   },
   {
    "duration": 13,
    "start_time": "2021-12-28T10:00:14.329Z"
   },
   {
    "duration": 8,
    "start_time": "2021-12-28T10:00:17.094Z"
   },
   {
    "duration": 7,
    "start_time": "2021-12-28T10:01:54.472Z"
   },
   {
    "duration": 11,
    "start_time": "2021-12-28T10:02:44.347Z"
   },
   {
    "duration": 8,
    "start_time": "2021-12-28T10:02:46.694Z"
   },
   {
    "duration": 918,
    "start_time": "2021-12-28T10:02:54.137Z"
   },
   {
    "duration": 100,
    "start_time": "2021-12-28T10:02:55.058Z"
   },
   {
    "duration": 38,
    "start_time": "2021-12-28T10:02:55.166Z"
   },
   {
    "duration": 16,
    "start_time": "2021-12-28T10:02:55.207Z"
   },
   {
    "duration": 8,
    "start_time": "2021-12-28T10:02:55.226Z"
   },
   {
    "duration": 41,
    "start_time": "2021-12-28T10:02:55.236Z"
   },
   {
    "duration": 19,
    "start_time": "2021-12-28T10:02:55.280Z"
   },
   {
    "duration": 6,
    "start_time": "2021-12-28T10:02:55.302Z"
   },
   {
    "duration": 16,
    "start_time": "2021-12-28T10:02:55.312Z"
   },
   {
    "duration": 46,
    "start_time": "2021-12-28T10:02:55.331Z"
   },
   {
    "duration": 17,
    "start_time": "2021-12-28T10:02:55.379Z"
   },
   {
    "duration": 6,
    "start_time": "2021-12-28T10:02:55.399Z"
   },
   {
    "duration": 545,
    "start_time": "2021-12-28T10:02:55.407Z"
   },
   {
    "duration": 3598,
    "start_time": "2021-12-28T10:02:52.356Z"
   },
   {
    "duration": 3584,
    "start_time": "2021-12-28T10:02:52.372Z"
   },
   {
    "duration": 3568,
    "start_time": "2021-12-28T10:02:52.389Z"
   },
   {
    "duration": 3564,
    "start_time": "2021-12-28T10:02:52.395Z"
   },
   {
    "duration": 3560,
    "start_time": "2021-12-28T10:02:52.400Z"
   },
   {
    "duration": 106,
    "start_time": "2021-12-28T10:03:18.806Z"
   },
   {
    "duration": 10,
    "start_time": "2021-12-28T10:03:23.283Z"
   },
   {
    "duration": 837,
    "start_time": "2021-12-28T10:03:36.308Z"
   },
   {
    "duration": 106,
    "start_time": "2021-12-28T10:03:37.149Z"
   },
   {
    "duration": 40,
    "start_time": "2021-12-28T10:03:37.257Z"
   },
   {
    "duration": 16,
    "start_time": "2021-12-28T10:03:37.300Z"
   },
   {
    "duration": 11,
    "start_time": "2021-12-28T10:03:37.319Z"
   },
   {
    "duration": 44,
    "start_time": "2021-12-28T10:03:37.332Z"
   },
   {
    "duration": 22,
    "start_time": "2021-12-28T10:03:37.379Z"
   },
   {
    "duration": 6,
    "start_time": "2021-12-28T10:03:37.405Z"
   },
   {
    "duration": 23,
    "start_time": "2021-12-28T10:03:37.415Z"
   },
   {
    "duration": 47,
    "start_time": "2021-12-28T10:03:37.441Z"
   },
   {
    "duration": 17,
    "start_time": "2021-12-28T10:03:37.491Z"
   },
   {
    "duration": 6,
    "start_time": "2021-12-28T10:03:37.511Z"
   },
   {
    "duration": 163,
    "start_time": "2021-12-28T10:03:37.520Z"
   },
   {
    "duration": 7,
    "start_time": "2021-12-28T10:03:37.685Z"
   },
   {
    "duration": 26,
    "start_time": "2021-12-28T10:03:37.694Z"
   },
   {
    "duration": 16,
    "start_time": "2021-12-28T10:03:37.723Z"
   },
   {
    "duration": 24,
    "start_time": "2021-12-28T10:03:37.769Z"
   },
   {
    "duration": 8,
    "start_time": "2021-12-28T10:03:37.797Z"
   },
   {
    "duration": 14,
    "start_time": "2021-12-28T10:04:06.320Z"
   },
   {
    "duration": 8,
    "start_time": "2021-12-28T10:04:08.404Z"
   },
   {
    "duration": 17,
    "start_time": "2021-12-28T10:04:34.418Z"
   },
   {
    "duration": 8,
    "start_time": "2021-12-28T10:04:36.954Z"
   },
   {
    "duration": 826,
    "start_time": "2021-12-28T10:04:42.821Z"
   },
   {
    "duration": 107,
    "start_time": "2021-12-28T10:04:43.650Z"
   },
   {
    "duration": 45,
    "start_time": "2021-12-28T10:04:43.760Z"
   },
   {
    "duration": 19,
    "start_time": "2021-12-28T10:04:43.808Z"
   },
   {
    "duration": 10,
    "start_time": "2021-12-28T10:04:43.830Z"
   },
   {
    "duration": 45,
    "start_time": "2021-12-28T10:04:43.842Z"
   },
   {
    "duration": 19,
    "start_time": "2021-12-28T10:04:43.889Z"
   },
   {
    "duration": 10,
    "start_time": "2021-12-28T10:04:43.912Z"
   },
   {
    "duration": 21,
    "start_time": "2021-12-28T10:04:43.925Z"
   },
   {
    "duration": 21,
    "start_time": "2021-12-28T10:04:43.968Z"
   },
   {
    "duration": 19,
    "start_time": "2021-12-28T10:04:43.991Z"
   },
   {
    "duration": 7,
    "start_time": "2021-12-28T10:04:44.014Z"
   },
   {
    "duration": 158,
    "start_time": "2021-12-28T10:04:44.024Z"
   },
   {
    "duration": 16,
    "start_time": "2021-12-28T10:04:44.185Z"
   },
   {
    "duration": 21,
    "start_time": "2021-12-28T10:04:44.204Z"
   },
   {
    "duration": 15,
    "start_time": "2021-12-28T10:04:44.228Z"
   },
   {
    "duration": 25,
    "start_time": "2021-12-28T10:04:44.266Z"
   },
   {
    "duration": 7,
    "start_time": "2021-12-28T10:04:44.294Z"
   },
   {
    "duration": 93,
    "start_time": "2021-12-28T13:27:08.465Z"
   },
   {
    "duration": 89,
    "start_time": "2021-12-28T13:27:13.966Z"
   },
   {
    "duration": 101,
    "start_time": "2021-12-28T13:28:57.651Z"
   },
   {
    "duration": 88,
    "start_time": "2021-12-28T13:29:08.255Z"
   },
   {
    "duration": 91,
    "start_time": "2021-12-28T13:29:15.852Z"
   },
   {
    "duration": 88,
    "start_time": "2021-12-28T13:29:23.022Z"
   },
   {
    "duration": 3,
    "start_time": "2021-12-28T13:30:19.181Z"
   },
   {
    "duration": 297,
    "start_time": "2021-12-28T13:31:03.293Z"
   },
   {
    "duration": 677,
    "start_time": "2021-12-28T13:31:10.785Z"
   },
   {
    "duration": 247,
    "start_time": "2021-12-28T13:31:11.464Z"
   },
   {
    "duration": 46,
    "start_time": "2021-12-28T13:31:11.716Z"
   },
   {
    "duration": 18,
    "start_time": "2021-12-28T13:31:11.764Z"
   },
   {
    "duration": 26,
    "start_time": "2021-12-28T13:31:11.784Z"
   },
   {
    "duration": 25,
    "start_time": "2021-12-28T13:31:11.812Z"
   },
   {
    "duration": 19,
    "start_time": "2021-12-28T13:31:11.840Z"
   },
   {
    "duration": 31,
    "start_time": "2021-12-28T13:31:11.861Z"
   },
   {
    "duration": 33,
    "start_time": "2021-12-28T13:31:11.894Z"
   },
   {
    "duration": 18,
    "start_time": "2021-12-28T13:31:11.929Z"
   },
   {
    "duration": 29,
    "start_time": "2021-12-28T13:31:11.949Z"
   },
   {
    "duration": 14,
    "start_time": "2021-12-28T13:31:11.981Z"
   },
   {
    "duration": 84,
    "start_time": "2021-12-28T13:31:11.996Z"
   },
   {
    "duration": 22,
    "start_time": "2021-12-28T13:31:12.082Z"
   },
   {
    "duration": 28,
    "start_time": "2021-12-28T13:31:12.105Z"
   },
   {
    "duration": 12,
    "start_time": "2021-12-28T13:31:12.135Z"
   },
   {
    "duration": 24,
    "start_time": "2021-12-28T13:31:12.148Z"
   },
   {
    "duration": 12,
    "start_time": "2021-12-28T13:31:12.174Z"
   },
   {
    "duration": 14,
    "start_time": "2021-12-28T13:31:12.188Z"
   },
   {
    "duration": 379,
    "start_time": "2021-12-28T13:31:12.204Z"
   },
   {
    "duration": 8,
    "start_time": "2021-12-28T13:31:34.322Z"
   },
   {
    "duration": 4,
    "start_time": "2021-12-28T13:32:42.787Z"
   },
   {
    "duration": 43,
    "start_time": "2021-12-28T13:32:45.098Z"
   },
   {
    "duration": 882,
    "start_time": "2021-12-28T13:32:50.918Z"
   },
   {
    "duration": 115,
    "start_time": "2021-12-28T13:32:51.803Z"
   },
   {
    "duration": 40,
    "start_time": "2021-12-28T13:32:51.921Z"
   },
   {
    "duration": 12,
    "start_time": "2021-12-28T13:32:51.963Z"
   },
   {
    "duration": 11,
    "start_time": "2021-12-28T13:32:51.976Z"
   },
   {
    "duration": 16,
    "start_time": "2021-12-28T13:32:51.988Z"
   },
   {
    "duration": 15,
    "start_time": "2021-12-28T13:32:52.006Z"
   },
   {
    "duration": 5,
    "start_time": "2021-12-28T13:32:52.023Z"
   },
   {
    "duration": 38,
    "start_time": "2021-12-28T13:32:52.030Z"
   },
   {
    "duration": 15,
    "start_time": "2021-12-28T13:32:52.070Z"
   },
   {
    "duration": 14,
    "start_time": "2021-12-28T13:32:52.087Z"
   },
   {
    "duration": 4,
    "start_time": "2021-12-28T13:32:52.103Z"
   },
   {
    "duration": 127,
    "start_time": "2021-12-28T13:32:52.108Z"
   },
   {
    "duration": 7,
    "start_time": "2021-12-28T13:32:52.237Z"
   },
   {
    "duration": 29,
    "start_time": "2021-12-28T13:32:52.246Z"
   },
   {
    "duration": 10,
    "start_time": "2021-12-28T13:32:52.277Z"
   },
   {
    "duration": 16,
    "start_time": "2021-12-28T13:32:52.289Z"
   },
   {
    "duration": 23,
    "start_time": "2021-12-28T13:32:52.306Z"
   },
   {
    "duration": 28,
    "start_time": "2021-12-28T13:32:52.331Z"
   },
   {
    "duration": 50,
    "start_time": "2021-12-28T13:32:52.361Z"
   },
   {
    "duration": 13,
    "start_time": "2021-12-28T13:33:29.241Z"
   },
   {
    "duration": 14,
    "start_time": "2021-12-28T13:33:55.252Z"
   },
   {
    "duration": 10,
    "start_time": "2021-12-28T13:34:03.682Z"
   },
   {
    "duration": 373,
    "start_time": "2021-12-28T13:35:24.898Z"
   },
   {
    "duration": 10,
    "start_time": "2021-12-28T13:35:32.556Z"
   },
   {
    "duration": 419,
    "start_time": "2021-12-29T05:06:13.283Z"
   },
   {
    "duration": 850,
    "start_time": "2021-12-29T05:06:22.711Z"
   },
   {
    "duration": 100,
    "start_time": "2021-12-29T05:06:23.564Z"
   },
   {
    "duration": 89,
    "start_time": "2021-12-29T05:06:23.668Z"
   },
   {
    "duration": 15,
    "start_time": "2021-12-29T05:06:23.760Z"
   },
   {
    "duration": 10,
    "start_time": "2021-12-29T05:06:23.778Z"
   },
   {
    "duration": 23,
    "start_time": "2021-12-29T05:06:23.790Z"
   },
   {
    "duration": 43,
    "start_time": "2021-12-29T05:06:23.816Z"
   },
   {
    "duration": 7,
    "start_time": "2021-12-29T05:06:23.863Z"
   },
   {
    "duration": 17,
    "start_time": "2021-12-29T05:06:23.873Z"
   },
   {
    "duration": 19,
    "start_time": "2021-12-29T05:06:23.892Z"
   },
   {
    "duration": 51,
    "start_time": "2021-12-29T05:06:23.914Z"
   },
   {
    "duration": 7,
    "start_time": "2021-12-29T05:06:23.967Z"
   },
   {
    "duration": 133,
    "start_time": "2021-12-29T05:06:23.977Z"
   },
   {
    "duration": 8,
    "start_time": "2021-12-29T05:06:24.112Z"
   },
   {
    "duration": 40,
    "start_time": "2021-12-29T05:06:24.123Z"
   },
   {
    "duration": 14,
    "start_time": "2021-12-29T05:06:24.165Z"
   },
   {
    "duration": 22,
    "start_time": "2021-12-29T05:06:24.181Z"
   },
   {
    "duration": 10,
    "start_time": "2021-12-29T05:06:24.205Z"
   },
   {
    "duration": 5,
    "start_time": "2021-12-29T05:06:24.217Z"
   },
   {
    "duration": 38,
    "start_time": "2021-12-29T05:06:24.259Z"
   },
   {
    "duration": 11,
    "start_time": "2021-12-29T05:06:24.300Z"
   },
   {
    "duration": 12,
    "start_time": "2021-12-29T05:06:24.314Z"
   },
   {
    "duration": 30,
    "start_time": "2021-12-29T05:06:24.359Z"
   },
   {
    "duration": 25,
    "start_time": "2021-12-29T05:06:34.717Z"
   },
   {
    "duration": 26,
    "start_time": "2021-12-29T05:06:42.301Z"
   },
   {
    "duration": 24,
    "start_time": "2021-12-29T07:30:00.847Z"
   },
   {
    "duration": 502,
    "start_time": "2021-12-29T07:30:56.758Z"
   },
   {
    "duration": 860,
    "start_time": "2021-12-29T07:31:11.292Z"
   },
   {
    "duration": 153,
    "start_time": "2021-12-29T07:31:12.156Z"
   },
   {
    "duration": 62,
    "start_time": "2021-12-29T07:31:12.314Z"
   },
   {
    "duration": 24,
    "start_time": "2021-12-29T07:31:12.380Z"
   },
   {
    "duration": 11,
    "start_time": "2021-12-29T07:31:12.408Z"
   },
   {
    "duration": 66,
    "start_time": "2021-12-29T07:31:12.422Z"
   },
   {
    "duration": 19,
    "start_time": "2021-12-29T07:31:12.492Z"
   },
   {
    "duration": 9,
    "start_time": "2021-12-29T07:31:12.517Z"
   },
   {
    "duration": 43,
    "start_time": "2021-12-29T07:31:12.531Z"
   },
   {
    "duration": 26,
    "start_time": "2021-12-29T07:31:12.577Z"
   },
   {
    "duration": 55,
    "start_time": "2021-12-29T07:31:12.606Z"
   },
   {
    "duration": 8,
    "start_time": "2021-12-29T07:31:12.665Z"
   },
   {
    "duration": 195,
    "start_time": "2021-12-29T07:31:12.676Z"
   },
   {
    "duration": 9,
    "start_time": "2021-12-29T07:31:12.874Z"
   },
   {
    "duration": 19,
    "start_time": "2021-12-29T07:31:12.885Z"
   },
   {
    "duration": 15,
    "start_time": "2021-12-29T07:31:12.907Z"
   },
   {
    "duration": 55,
    "start_time": "2021-12-29T07:31:12.926Z"
   },
   {
    "duration": 7,
    "start_time": "2021-12-29T07:31:12.983Z"
   },
   {
    "duration": 5,
    "start_time": "2021-12-29T07:31:12.992Z"
   },
   {
    "duration": 80,
    "start_time": "2021-12-29T07:31:12.999Z"
   },
   {
    "duration": 12,
    "start_time": "2021-12-29T07:31:13.081Z"
   },
   {
    "duration": 15,
    "start_time": "2021-12-29T07:31:13.095Z"
   },
   {
    "duration": 60,
    "start_time": "2021-12-29T07:31:13.114Z"
   },
   {
    "duration": 468,
    "start_time": "2021-12-29T07:31:13.177Z"
   },
   {
    "duration": 6,
    "start_time": "2021-12-29T07:31:25.281Z"
   },
   {
    "duration": 7,
    "start_time": "2021-12-29T07:31:33.440Z"
   },
   {
    "duration": 9,
    "start_time": "2021-12-29T07:31:59.439Z"
   },
   {
    "duration": 12,
    "start_time": "2021-12-29T07:32:27.915Z"
   },
   {
    "duration": 28,
    "start_time": "2021-12-29T07:37:56.101Z"
   },
   {
    "duration": 161,
    "start_time": "2021-12-29T07:42:24.533Z"
   },
   {
    "duration": 15,
    "start_time": "2021-12-29T07:42:32.106Z"
   },
   {
    "duration": 15,
    "start_time": "2021-12-29T07:42:53.885Z"
   },
   {
    "duration": 15,
    "start_time": "2021-12-29T07:43:12.136Z"
   },
   {
    "duration": 14,
    "start_time": "2021-12-29T07:43:20.692Z"
   },
   {
    "duration": 14,
    "start_time": "2021-12-29T07:43:41.387Z"
   },
   {
    "duration": 6,
    "start_time": "2021-12-29T07:44:22.333Z"
   },
   {
    "duration": 8,
    "start_time": "2021-12-29T07:45:47.803Z"
   },
   {
    "duration": 6,
    "start_time": "2021-12-29T07:46:04.433Z"
   },
   {
    "duration": 6,
    "start_time": "2021-12-29T07:46:13.863Z"
   },
   {
    "duration": 7,
    "start_time": "2021-12-29T07:47:01.815Z"
   },
   {
    "duration": 7,
    "start_time": "2021-12-29T07:47:04.063Z"
   },
   {
    "duration": 129,
    "start_time": "2021-12-29T07:48:55.639Z"
   },
   {
    "duration": 11,
    "start_time": "2021-12-29T07:49:00.049Z"
   },
   {
    "duration": 6,
    "start_time": "2021-12-29T07:50:27.554Z"
   },
   {
    "duration": 11090,
    "start_time": "2021-12-29T08:45:33.591Z"
   },
   {
    "duration": 6,
    "start_time": "2021-12-29T08:47:37.884Z"
   },
   {
    "duration": 1803,
    "start_time": "2021-12-29T08:54:50.670Z"
   },
   {
    "duration": 9,
    "start_time": "2021-12-29T08:59:12.394Z"
   },
   {
    "duration": 9385,
    "start_time": "2021-12-29T09:00:54.439Z"
   },
   {
    "duration": 379,
    "start_time": "2021-12-29T09:01:39.863Z"
   },
   {
    "duration": 141,
    "start_time": "2021-12-29T09:07:32.492Z"
   },
   {
    "duration": 5,
    "start_time": "2021-12-29T09:07:37.965Z"
   },
   {
    "duration": 7,
    "start_time": "2021-12-29T09:08:01.780Z"
   },
   {
    "duration": 153,
    "start_time": "2021-12-29T09:08:29.630Z"
   },
   {
    "duration": 48,
    "start_time": "2021-12-29T09:08:48.739Z"
   },
   {
    "duration": 445,
    "start_time": "2021-12-29T09:09:26.315Z"
   },
   {
    "duration": 129,
    "start_time": "2021-12-29T09:09:41.483Z"
   },
   {
    "duration": 49,
    "start_time": "2021-12-29T09:11:24.629Z"
   },
   {
    "duration": 381,
    "start_time": "2021-12-29T09:11:40.903Z"
   },
   {
    "duration": 48,
    "start_time": "2021-12-29T09:11:59.410Z"
   },
   {
    "duration": 368,
    "start_time": "2021-12-29T09:17:33.433Z"
   },
   {
    "duration": 17,
    "start_time": "2021-12-29T09:19:27.420Z"
   },
   {
    "duration": 7,
    "start_time": "2021-12-29T09:19:48.367Z"
   },
   {
    "duration": 17,
    "start_time": "2021-12-29T09:20:01.586Z"
   },
   {
    "duration": 7,
    "start_time": "2021-12-29T09:20:03.746Z"
   },
   {
    "duration": 7,
    "start_time": "2021-12-29T09:20:30.063Z"
   },
   {
    "duration": 33,
    "start_time": "2021-12-29T09:21:49.988Z"
   },
   {
    "duration": 9,
    "start_time": "2021-12-29T09:22:00.412Z"
   },
   {
    "duration": 6,
    "start_time": "2021-12-29T09:26:02.538Z"
   },
   {
    "duration": 906,
    "start_time": "2021-12-29T09:26:10.745Z"
   },
   {
    "duration": 97,
    "start_time": "2021-12-29T09:26:11.654Z"
   },
   {
    "duration": 46,
    "start_time": "2021-12-29T09:26:11.755Z"
   },
   {
    "duration": 16,
    "start_time": "2021-12-29T09:26:11.804Z"
   },
   {
    "duration": 7,
    "start_time": "2021-12-29T09:26:11.823Z"
   },
   {
    "duration": 22,
    "start_time": "2021-12-29T09:26:11.832Z"
   },
   {
    "duration": 10,
    "start_time": "2021-12-29T09:26:11.860Z"
   },
   {
    "duration": 6,
    "start_time": "2021-12-29T09:26:11.875Z"
   },
   {
    "duration": 16,
    "start_time": "2021-12-29T09:26:11.885Z"
   },
   {
    "duration": 66,
    "start_time": "2021-12-29T09:26:11.904Z"
   },
   {
    "duration": 18,
    "start_time": "2021-12-29T09:26:11.973Z"
   },
   {
    "duration": 7,
    "start_time": "2021-12-29T09:26:11.994Z"
   },
   {
    "duration": 135,
    "start_time": "2021-12-29T09:26:12.003Z"
   },
   {
    "duration": 21,
    "start_time": "2021-12-29T09:26:12.140Z"
   },
   {
    "duration": 20,
    "start_time": "2021-12-29T09:26:12.163Z"
   },
   {
    "duration": 16,
    "start_time": "2021-12-29T09:26:12.185Z"
   },
   {
    "duration": 57,
    "start_time": "2021-12-29T09:26:12.204Z"
   },
   {
    "duration": 13,
    "start_time": "2021-12-29T09:26:12.264Z"
   },
   {
    "duration": 13,
    "start_time": "2021-12-29T09:26:12.279Z"
   },
   {
    "duration": 28,
    "start_time": "2021-12-29T09:26:12.294Z"
   },
   {
    "duration": 11,
    "start_time": "2021-12-29T09:26:12.358Z"
   },
   {
    "duration": 14,
    "start_time": "2021-12-29T09:26:12.372Z"
   },
   {
    "duration": 27,
    "start_time": "2021-12-29T09:26:12.390Z"
   },
   {
    "duration": 43,
    "start_time": "2021-12-29T09:26:12.420Z"
   },
   {
    "duration": 7,
    "start_time": "2021-12-29T09:26:12.465Z"
   },
   {
    "duration": 32,
    "start_time": "2021-12-29T09:26:12.475Z"
   },
   {
    "duration": 6,
    "start_time": "2021-12-29T09:26:12.509Z"
   },
   {
    "duration": 11,
    "start_time": "2021-12-29T10:34:03.574Z"
   },
   {
    "duration": 7,
    "start_time": "2021-12-29T10:34:22.685Z"
   },
   {
    "duration": 472,
    "start_time": "2021-12-29T10:34:36.508Z"
   },
   {
    "duration": 7,
    "start_time": "2021-12-29T10:34:41.388Z"
   },
   {
    "duration": 55,
    "start_time": "2021-12-29T10:37:50.526Z"
   },
   {
    "duration": 9,
    "start_time": "2021-12-29T10:41:32.197Z"
   },
   {
    "duration": 49,
    "start_time": "2021-12-29T10:41:39.106Z"
   },
   {
    "duration": 934,
    "start_time": "2021-12-29T10:41:58.347Z"
   },
   {
    "duration": 103,
    "start_time": "2021-12-29T10:41:59.284Z"
   },
   {
    "duration": 56,
    "start_time": "2021-12-29T10:41:59.389Z"
   },
   {
    "duration": 16,
    "start_time": "2021-12-29T10:41:59.448Z"
   },
   {
    "duration": 9,
    "start_time": "2021-12-29T10:41:59.466Z"
   },
   {
    "duration": 30,
    "start_time": "2021-12-29T10:41:59.477Z"
   },
   {
    "duration": 13,
    "start_time": "2021-12-29T10:41:59.510Z"
   },
   {
    "duration": 6,
    "start_time": "2021-12-29T10:41:59.527Z"
   },
   {
    "duration": 15,
    "start_time": "2021-12-29T10:41:59.561Z"
   },
   {
    "duration": 17,
    "start_time": "2021-12-29T10:41:59.579Z"
   },
   {
    "duration": 18,
    "start_time": "2021-12-29T10:41:59.598Z"
   },
   {
    "duration": 43,
    "start_time": "2021-12-29T10:41:59.618Z"
   },
   {
    "duration": 126,
    "start_time": "2021-12-29T10:41:59.663Z"
   },
   {
    "duration": 12,
    "start_time": "2021-12-29T10:41:59.792Z"
   },
   {
    "duration": 25,
    "start_time": "2021-12-29T10:41:59.807Z"
   },
   {
    "duration": 17,
    "start_time": "2021-12-29T10:41:59.859Z"
   },
   {
    "duration": 23,
    "start_time": "2021-12-29T10:41:59.879Z"
   },
   {
    "duration": 14,
    "start_time": "2021-12-29T10:41:59.904Z"
   },
   {
    "duration": 49,
    "start_time": "2021-12-29T10:41:59.920Z"
   },
   {
    "duration": 30,
    "start_time": "2021-12-29T10:41:59.971Z"
   },
   {
    "duration": 12,
    "start_time": "2021-12-29T10:42:00.004Z"
   },
   {
    "duration": 58,
    "start_time": "2021-12-29T10:42:00.018Z"
   },
   {
    "duration": 40,
    "start_time": "2021-12-29T10:42:00.082Z"
   },
   {
    "duration": 11,
    "start_time": "2021-12-29T10:42:00.126Z"
   },
   {
    "duration": 7,
    "start_time": "2021-12-29T10:42:00.159Z"
   },
   {
    "duration": 7,
    "start_time": "2021-12-29T10:42:00.169Z"
   },
   {
    "duration": 43,
    "start_time": "2021-12-29T10:42:00.178Z"
   },
   {
    "duration": 5,
    "start_time": "2021-12-29T10:42:00.224Z"
   },
   {
    "duration": 34,
    "start_time": "2021-12-29T10:42:00.261Z"
   },
   {
    "duration": 5,
    "start_time": "2021-12-29T10:42:00.297Z"
   },
   {
    "duration": 399,
    "start_time": "2021-12-29T19:07:36.685Z"
   },
   {
    "duration": 656,
    "start_time": "2021-12-29T19:07:43.666Z"
   },
   {
    "duration": 72,
    "start_time": "2021-12-29T19:07:44.324Z"
   },
   {
    "duration": 53,
    "start_time": "2021-12-29T19:07:44.398Z"
   },
   {
    "duration": 9,
    "start_time": "2021-12-29T19:07:44.454Z"
   },
   {
    "duration": 7,
    "start_time": "2021-12-29T19:07:44.465Z"
   },
   {
    "duration": 14,
    "start_time": "2021-12-29T19:07:44.473Z"
   },
   {
    "duration": 7,
    "start_time": "2021-12-29T19:07:44.488Z"
   },
   {
    "duration": 5,
    "start_time": "2021-12-29T19:07:44.498Z"
   },
   {
    "duration": 28,
    "start_time": "2021-12-29T19:07:44.505Z"
   },
   {
    "duration": 13,
    "start_time": "2021-12-29T19:07:44.535Z"
   },
   {
    "duration": 12,
    "start_time": "2021-12-29T19:07:44.549Z"
   },
   {
    "duration": 5,
    "start_time": "2021-12-29T19:07:44.563Z"
   },
   {
    "duration": 90,
    "start_time": "2021-12-29T19:07:44.569Z"
   },
   {
    "duration": 6,
    "start_time": "2021-12-29T19:07:44.661Z"
   },
   {
    "duration": 14,
    "start_time": "2021-12-29T19:07:44.669Z"
   },
   {
    "duration": 10,
    "start_time": "2021-12-29T19:07:44.685Z"
   },
   {
    "duration": 44,
    "start_time": "2021-12-29T19:07:44.697Z"
   },
   {
    "duration": 10,
    "start_time": "2021-12-29T19:07:44.743Z"
   },
   {
    "duration": 10,
    "start_time": "2021-12-29T19:07:44.755Z"
   },
   {
    "duration": 20,
    "start_time": "2021-12-29T19:07:44.767Z"
   },
   {
    "duration": 38,
    "start_time": "2021-12-29T19:07:44.789Z"
   },
   {
    "duration": 11,
    "start_time": "2021-12-29T19:07:44.830Z"
   },
   {
    "duration": 17,
    "start_time": "2021-12-29T19:07:44.845Z"
   },
   {
    "duration": 3,
    "start_time": "2021-12-29T19:07:44.864Z"
   },
   {
    "duration": 9,
    "start_time": "2021-12-29T19:07:44.869Z"
   },
   {
    "duration": 6,
    "start_time": "2021-12-29T19:07:44.879Z"
   },
   {
    "duration": 59,
    "start_time": "2021-12-29T19:07:44.887Z"
   },
   {
    "duration": 4,
    "start_time": "2021-12-29T19:07:44.948Z"
   },
   {
    "duration": 19,
    "start_time": "2021-12-29T19:07:44.953Z"
   },
   {
    "duration": 5,
    "start_time": "2021-12-29T19:07:44.974Z"
   },
   {
    "duration": 11,
    "start_time": "2021-12-29T19:07:44.980Z"
   },
   {
    "duration": 1670,
    "start_time": "2021-12-29T19:08:07.924Z"
   },
   {
    "duration": 9,
    "start_time": "2021-12-29T19:08:15.186Z"
   },
   {
    "duration": 9,
    "start_time": "2021-12-29T19:12:10.117Z"
   },
   {
    "duration": 218,
    "start_time": "2021-12-29T19:12:25.111Z"
   },
   {
    "duration": 169,
    "start_time": "2021-12-29T19:12:42.197Z"
   },
   {
    "duration": 203,
    "start_time": "2021-12-29T19:13:06.798Z"
   },
   {
    "duration": 171,
    "start_time": "2021-12-29T19:14:29.133Z"
   },
   {
    "duration": 128,
    "start_time": "2021-12-29T19:17:57.016Z"
   },
   {
    "duration": 17,
    "start_time": "2021-12-29T19:18:02.929Z"
   },
   {
    "duration": 187,
    "start_time": "2021-12-29T19:18:19.365Z"
   },
   {
    "duration": 175,
    "start_time": "2021-12-29T19:18:44.162Z"
   },
   {
    "duration": 178,
    "start_time": "2021-12-29T19:19:04.327Z"
   },
   {
    "duration": 13,
    "start_time": "2021-12-29T19:19:58.006Z"
   },
   {
    "duration": 163,
    "start_time": "2021-12-29T19:21:32.437Z"
   },
   {
    "duration": 168,
    "start_time": "2021-12-29T19:22:22.840Z"
   },
   {
    "duration": 8,
    "start_time": "2021-12-29T20:29:16.563Z"
   },
   {
    "duration": 342,
    "start_time": "2021-12-29T20:30:01.172Z"
   },
   {
    "duration": 369,
    "start_time": "2021-12-29T20:30:07.685Z"
   },
   {
    "duration": 639,
    "start_time": "2021-12-29T20:30:18.949Z"
   },
   {
    "duration": 9,
    "start_time": "2021-12-29T20:30:25.254Z"
   },
   {
    "duration": 5,
    "start_time": "2021-12-29T20:30:47.667Z"
   },
   {
    "duration": 9,
    "start_time": "2021-12-29T20:31:10.000Z"
   },
   {
    "duration": 8,
    "start_time": "2021-12-29T20:34:03.431Z"
   },
   {
    "duration": 7,
    "start_time": "2021-12-29T20:34:06.684Z"
   },
   {
    "duration": 7,
    "start_time": "2021-12-29T20:34:58.905Z"
   },
   {
    "duration": 347,
    "start_time": "2021-12-29T20:42:13.507Z"
   },
   {
    "duration": 19,
    "start_time": "2021-12-29T20:42:21.171Z"
   },
   {
    "duration": 7,
    "start_time": "2021-12-29T20:47:35.745Z"
   },
   {
    "duration": 29,
    "start_time": "2021-12-29T20:47:47.463Z"
   },
   {
    "duration": 7,
    "start_time": "2021-12-29T20:48:43.162Z"
   },
   {
    "duration": 356,
    "start_time": "2021-12-29T20:49:25.429Z"
   },
   {
    "duration": 447,
    "start_time": "2021-12-29T20:50:03.511Z"
   },
   {
    "duration": 5,
    "start_time": "2021-12-29T20:50:40.058Z"
   },
   {
    "duration": 9,
    "start_time": "2021-12-29T20:51:06.614Z"
   },
   {
    "duration": 334,
    "start_time": "2021-12-29T20:56:27.615Z"
   },
   {
    "duration": 395,
    "start_time": "2021-12-29T20:59:17.195Z"
   },
   {
    "duration": 11,
    "start_time": "2021-12-29T20:59:33.353Z"
   },
   {
    "duration": 168,
    "start_time": "2021-12-29T21:01:13.393Z"
   },
   {
    "duration": 194,
    "start_time": "2021-12-29T21:02:43.313Z"
   },
   {
    "duration": 169,
    "start_time": "2021-12-29T21:02:50.352Z"
   },
   {
    "duration": 181,
    "start_time": "2021-12-29T21:03:33.595Z"
   },
   {
    "duration": 8,
    "start_time": "2021-12-29T21:04:20.908Z"
   },
   {
    "duration": 228,
    "start_time": "2021-12-29T21:05:35.367Z"
   },
   {
    "duration": 9,
    "start_time": "2021-12-29T21:05:45.216Z"
   },
   {
    "duration": 347,
    "start_time": "2021-12-30T07:32:13.325Z"
   },
   {
    "duration": 858,
    "start_time": "2021-12-30T07:32:22.822Z"
   },
   {
    "duration": 99,
    "start_time": "2021-12-30T07:32:23.683Z"
   },
   {
    "duration": 38,
    "start_time": "2021-12-30T07:32:23.785Z"
   },
   {
    "duration": 14,
    "start_time": "2021-12-30T07:32:23.825Z"
   },
   {
    "duration": 9,
    "start_time": "2021-12-30T07:32:23.842Z"
   },
   {
    "duration": 25,
    "start_time": "2021-12-30T07:32:23.854Z"
   },
   {
    "duration": 42,
    "start_time": "2021-12-30T07:32:23.882Z"
   },
   {
    "duration": 12,
    "start_time": "2021-12-30T07:32:23.928Z"
   },
   {
    "duration": 16,
    "start_time": "2021-12-30T07:32:23.943Z"
   },
   {
    "duration": 16,
    "start_time": "2021-12-30T07:32:23.961Z"
   },
   {
    "duration": 46,
    "start_time": "2021-12-30T07:32:23.979Z"
   },
   {
    "duration": 6,
    "start_time": "2021-12-30T07:32:24.028Z"
   },
   {
    "duration": 131,
    "start_time": "2021-12-30T07:32:24.037Z"
   },
   {
    "duration": 10,
    "start_time": "2021-12-30T07:32:24.171Z"
   },
   {
    "duration": 44,
    "start_time": "2021-12-30T07:32:24.183Z"
   },
   {
    "duration": 16,
    "start_time": "2021-12-30T07:32:24.229Z"
   },
   {
    "duration": 23,
    "start_time": "2021-12-30T07:32:24.247Z"
   },
   {
    "duration": 51,
    "start_time": "2021-12-30T07:32:24.273Z"
   },
   {
    "duration": 13,
    "start_time": "2021-12-30T07:32:24.327Z"
   },
   {
    "duration": 25,
    "start_time": "2021-12-30T07:32:24.343Z"
   },
   {
    "duration": 10,
    "start_time": "2021-12-30T07:32:24.371Z"
   },
   {
    "duration": 63,
    "start_time": "2021-12-30T07:32:24.384Z"
   },
   {
    "duration": 6,
    "start_time": "2021-12-30T07:32:24.452Z"
   },
   {
    "duration": 16,
    "start_time": "2021-12-30T07:32:24.462Z"
   },
   {
    "duration": 8,
    "start_time": "2021-12-30T07:32:24.481Z"
   },
   {
    "duration": 39,
    "start_time": "2021-12-30T07:32:24.492Z"
   },
   {
    "duration": 13,
    "start_time": "2021-12-30T07:32:24.533Z"
   },
   {
    "duration": 14,
    "start_time": "2021-12-30T07:32:24.549Z"
   },
   {
    "duration": 80,
    "start_time": "2021-12-30T07:32:24.565Z"
   },
   {
    "duration": 5,
    "start_time": "2021-12-30T07:32:24.647Z"
   },
   {
    "duration": 28,
    "start_time": "2021-12-30T07:32:24.654Z"
   },
   {
    "duration": 6,
    "start_time": "2021-12-30T07:32:24.685Z"
   },
   {
    "duration": 37,
    "start_time": "2021-12-30T07:32:24.693Z"
   },
   {
    "duration": 334,
    "start_time": "2021-12-30T07:32:24.733Z"
   },
   {
    "duration": 311,
    "start_time": "2021-12-30T07:32:25.070Z"
   },
   {
    "duration": 42,
    "start_time": "2021-12-30T07:32:25.384Z"
   },
   {
    "duration": 9,
    "start_time": "2021-12-30T07:32:25.429Z"
   },
   {
    "duration": 12,
    "start_time": "2021-12-30T07:32:25.440Z"
   },
   {
    "duration": 84,
    "start_time": "2021-12-30T07:32:25.454Z"
   },
   {
    "duration": 8,
    "start_time": "2021-12-30T07:32:25.541Z"
   },
   {
    "duration": 9,
    "start_time": "2021-12-30T07:32:36.567Z"
   },
   {
    "duration": 14,
    "start_time": "2021-12-30T07:38:38.491Z"
   },
   {
    "duration": 302,
    "start_time": "2021-12-30T07:38:51.903Z"
   },
   {
    "duration": 314,
    "start_time": "2021-12-30T07:40:01.728Z"
   },
   {
    "duration": 299,
    "start_time": "2021-12-30T07:41:33.821Z"
   },
   {
    "duration": 288,
    "start_time": "2021-12-30T07:42:03.563Z"
   },
   {
    "duration": 21,
    "start_time": "2021-12-30T07:43:21.319Z"
   },
   {
    "duration": 296,
    "start_time": "2021-12-30T07:43:50.678Z"
   },
   {
    "duration": 308,
    "start_time": "2021-12-30T07:44:14.357Z"
   },
   {
    "duration": 989,
    "start_time": "2021-12-30T07:44:27.393Z"
   },
   {
    "duration": 102,
    "start_time": "2021-12-30T07:44:28.386Z"
   },
   {
    "duration": 41,
    "start_time": "2021-12-30T07:44:28.492Z"
   },
   {
    "duration": 15,
    "start_time": "2021-12-30T07:44:28.536Z"
   },
   {
    "duration": 9,
    "start_time": "2021-12-30T07:44:28.553Z"
   },
   {
    "duration": 22,
    "start_time": "2021-12-30T07:44:28.564Z"
   },
   {
    "duration": 8,
    "start_time": "2021-12-30T07:44:28.623Z"
   },
   {
    "duration": 21,
    "start_time": "2021-12-30T07:44:28.635Z"
   },
   {
    "duration": 20,
    "start_time": "2021-12-30T07:44:28.659Z"
   },
   {
    "duration": 18,
    "start_time": "2021-12-30T07:44:28.682Z"
   },
   {
    "duration": 36,
    "start_time": "2021-12-30T07:44:28.702Z"
   },
   {
    "duration": 6,
    "start_time": "2021-12-30T07:44:28.741Z"
   },
   {
    "duration": 121,
    "start_time": "2021-12-30T07:44:28.750Z"
   },
   {
    "duration": 12,
    "start_time": "2021-12-30T07:44:28.873Z"
   },
   {
    "duration": 39,
    "start_time": "2021-12-30T07:44:28.888Z"
   },
   {
    "duration": 14,
    "start_time": "2021-12-30T07:44:28.931Z"
   },
   {
    "duration": 22,
    "start_time": "2021-12-30T07:44:28.947Z"
   },
   {
    "duration": 20,
    "start_time": "2021-12-30T07:44:28.971Z"
   },
   {
    "duration": 40,
    "start_time": "2021-12-30T07:44:28.993Z"
   },
   {
    "duration": 25,
    "start_time": "2021-12-30T07:44:29.036Z"
   },
   {
    "duration": 10,
    "start_time": "2021-12-30T07:44:29.064Z"
   },
   {
    "duration": 62,
    "start_time": "2021-12-30T07:44:29.076Z"
   },
   {
    "duration": 6,
    "start_time": "2021-12-30T07:44:29.144Z"
   },
   {
    "duration": 9,
    "start_time": "2021-12-30T07:44:29.153Z"
   },
   {
    "duration": 7,
    "start_time": "2021-12-30T07:44:29.165Z"
   },
   {
    "duration": 48,
    "start_time": "2021-12-30T07:44:29.175Z"
   },
   {
    "duration": 13,
    "start_time": "2021-12-30T07:44:29.226Z"
   },
   {
    "duration": 16,
    "start_time": "2021-12-30T07:44:29.242Z"
   },
   {
    "duration": 66,
    "start_time": "2021-12-30T07:44:29.260Z"
   },
   {
    "duration": 6,
    "start_time": "2021-12-30T07:44:29.329Z"
   },
   {
    "duration": 32,
    "start_time": "2021-12-30T07:44:29.337Z"
   },
   {
    "duration": 15,
    "start_time": "2021-12-30T07:44:29.371Z"
   },
   {
    "duration": 41,
    "start_time": "2021-12-30T07:44:29.389Z"
   },
   {
    "duration": 321,
    "start_time": "2021-12-30T07:44:29.432Z"
   },
   {
    "duration": 302,
    "start_time": "2021-12-30T07:44:29.755Z"
   },
   {
    "duration": 30,
    "start_time": "2021-12-30T07:44:30.059Z"
   },
   {
    "duration": 33,
    "start_time": "2021-12-30T07:44:30.092Z"
   },
   {
    "duration": 52,
    "start_time": "2021-12-30T07:44:30.128Z"
   },
   {
    "duration": 87,
    "start_time": "2021-12-30T07:44:30.182Z"
   },
   {
    "duration": 9,
    "start_time": "2021-12-30T07:44:30.271Z"
   },
   {
    "duration": 334,
    "start_time": "2021-12-30T07:44:30.282Z"
   },
   {
    "duration": 304,
    "start_time": "2021-12-30T07:44:44.656Z"
   },
   {
    "duration": 701,
    "start_time": "2021-12-30T07:45:17.905Z"
   },
   {
    "duration": 302,
    "start_time": "2021-12-30T07:45:39.931Z"
   },
   {
    "duration": 6,
    "start_time": "2021-12-30T07:47:51.207Z"
   },
   {
    "duration": 873,
    "start_time": "2021-12-30T07:50:42.189Z"
   },
   {
    "duration": 116,
    "start_time": "2021-12-30T07:50:43.065Z"
   },
   {
    "duration": 39,
    "start_time": "2021-12-30T07:50:43.184Z"
   },
   {
    "duration": 16,
    "start_time": "2021-12-30T07:50:43.226Z"
   },
   {
    "duration": 8,
    "start_time": "2021-12-30T07:50:43.244Z"
   },
   {
    "duration": 24,
    "start_time": "2021-12-30T07:50:43.255Z"
   },
   {
    "duration": 53,
    "start_time": "2021-12-30T07:50:43.281Z"
   },
   {
    "duration": 6,
    "start_time": "2021-12-30T07:50:43.338Z"
   },
   {
    "duration": 20,
    "start_time": "2021-12-30T07:50:43.347Z"
   },
   {
    "duration": 17,
    "start_time": "2021-12-30T07:50:43.370Z"
   },
   {
    "duration": 45,
    "start_time": "2021-12-30T07:50:43.389Z"
   },
   {
    "duration": 6,
    "start_time": "2021-12-30T07:50:43.436Z"
   },
   {
    "duration": 124,
    "start_time": "2021-12-30T07:50:43.445Z"
   },
   {
    "duration": 7,
    "start_time": "2021-12-30T07:50:43.572Z"
   },
   {
    "duration": 19,
    "start_time": "2021-12-30T07:50:43.581Z"
   },
   {
    "duration": 14,
    "start_time": "2021-12-30T07:50:43.624Z"
   },
   {
    "duration": 24,
    "start_time": "2021-12-30T07:50:43.640Z"
   },
   {
    "duration": 19,
    "start_time": "2021-12-30T07:50:43.666Z"
   },
   {
    "duration": 41,
    "start_time": "2021-12-30T07:50:43.687Z"
   },
   {
    "duration": 32,
    "start_time": "2021-12-30T07:50:43.730Z"
   },
   {
    "duration": 9,
    "start_time": "2021-12-30T07:50:43.764Z"
   },
   {
    "duration": 48,
    "start_time": "2021-12-30T07:50:43.776Z"
   },
   {
    "duration": 6,
    "start_time": "2021-12-30T07:50:43.829Z"
   },
   {
    "duration": 26,
    "start_time": "2021-12-30T07:50:43.838Z"
   },
   {
    "duration": 18,
    "start_time": "2021-12-30T07:50:43.866Z"
   },
   {
    "duration": 17,
    "start_time": "2021-12-30T07:50:43.886Z"
   },
   {
    "duration": 22,
    "start_time": "2021-12-30T07:50:43.905Z"
   },
   {
    "duration": 23,
    "start_time": "2021-12-30T07:50:43.929Z"
   },
   {
    "duration": 48,
    "start_time": "2021-12-30T07:50:43.955Z"
   },
   {
    "duration": 17,
    "start_time": "2021-12-30T07:50:44.006Z"
   },
   {
    "duration": 31,
    "start_time": "2021-12-30T07:50:44.026Z"
   },
   {
    "duration": 5,
    "start_time": "2021-12-30T07:50:44.059Z"
   },
   {
    "duration": 27,
    "start_time": "2021-12-30T07:50:44.066Z"
   },
   {
    "duration": 313,
    "start_time": "2021-12-30T07:50:44.096Z"
   },
   {
    "duration": 305,
    "start_time": "2021-12-30T07:50:44.412Z"
   },
   {
    "duration": 29,
    "start_time": "2021-12-30T07:50:44.723Z"
   },
   {
    "duration": 17,
    "start_time": "2021-12-30T07:50:44.754Z"
   },
   {
    "duration": 23,
    "start_time": "2021-12-30T07:50:44.773Z"
   },
   {
    "duration": 66,
    "start_time": "2021-12-30T07:50:44.798Z"
   },
   {
    "duration": 8,
    "start_time": "2021-12-30T07:50:44.866Z"
   },
   {
    "duration": 7,
    "start_time": "2021-12-30T07:50:44.876Z"
   },
   {
    "duration": 346,
    "start_time": "2021-12-30T07:50:44.885Z"
   },
   {
    "duration": 10,
    "start_time": "2021-12-30T07:51:03.831Z"
   },
   {
    "duration": 7,
    "start_time": "2021-12-30T07:51:34.695Z"
   },
   {
    "duration": 7388,
    "start_time": "2021-12-30T08:29:27.276Z"
   },
   {
    "duration": 12,
    "start_time": "2021-12-30T08:30:01.010Z"
   },
   {
    "duration": 324,
    "start_time": "2021-12-30T08:37:22.088Z"
   },
   {
    "duration": 23,
    "start_time": "2021-12-30T08:37:55.283Z"
   },
   {
    "duration": 348,
    "start_time": "2021-12-30T08:38:26.785Z"
   },
   {
    "duration": 22,
    "start_time": "2021-12-30T08:38:43.671Z"
   },
   {
    "duration": 32,
    "start_time": "2021-12-30T08:38:52.542Z"
   },
   {
    "duration": 368,
    "start_time": "2021-12-30T08:40:05.235Z"
   },
   {
    "duration": 40,
    "start_time": "2021-12-30T08:41:03.379Z"
   },
   {
    "duration": 580,
    "start_time": "2021-12-30T08:43:25.277Z"
   },
   {
    "duration": 313,
    "start_time": "2021-12-30T08:43:56.536Z"
   },
   {
    "duration": 38,
    "start_time": "2021-12-30T08:44:08.367Z"
   },
   {
    "duration": 14,
    "start_time": "2021-12-30T08:45:51.573Z"
   },
   {
    "duration": 284,
    "start_time": "2021-12-30T08:53:36.778Z"
   },
   {
    "duration": 283,
    "start_time": "2021-12-30T09:14:34.356Z"
   },
   {
    "duration": 310,
    "start_time": "2021-12-30T09:15:09.247Z"
   },
   {
    "duration": 287,
    "start_time": "2021-12-30T09:15:34.258Z"
   },
   {
    "duration": 326,
    "start_time": "2021-12-30T09:16:17.918Z"
   },
   {
    "duration": 5,
    "start_time": "2021-12-30T10:29:20.106Z"
   },
   {
    "duration": 922,
    "start_time": "2021-12-30T10:29:43.744Z"
   },
   {
    "duration": 94,
    "start_time": "2021-12-30T10:29:44.668Z"
   },
   {
    "duration": 38,
    "start_time": "2021-12-30T10:29:44.764Z"
   },
   {
    "duration": 15,
    "start_time": "2021-12-30T10:29:44.804Z"
   },
   {
    "duration": 9,
    "start_time": "2021-12-30T10:29:44.821Z"
   },
   {
    "duration": 21,
    "start_time": "2021-12-30T10:29:44.832Z"
   },
   {
    "duration": 11,
    "start_time": "2021-12-30T10:29:44.855Z"
   },
   {
    "duration": 6,
    "start_time": "2021-12-30T10:29:44.869Z"
   },
   {
    "duration": 46,
    "start_time": "2021-12-30T10:29:44.879Z"
   },
   {
    "duration": 17,
    "start_time": "2021-12-30T10:29:44.927Z"
   },
   {
    "duration": 16,
    "start_time": "2021-12-30T10:29:44.946Z"
   },
   {
    "duration": 6,
    "start_time": "2021-12-30T10:29:44.964Z"
   },
   {
    "duration": 150,
    "start_time": "2021-12-30T10:29:44.973Z"
   },
   {
    "duration": 10,
    "start_time": "2021-12-30T10:29:45.126Z"
   },
   {
    "duration": 21,
    "start_time": "2021-12-30T10:29:45.138Z"
   },
   {
    "duration": 16,
    "start_time": "2021-12-30T10:29:45.161Z"
   },
   {
    "duration": 64,
    "start_time": "2021-12-30T10:29:45.180Z"
   },
   {
    "duration": 12,
    "start_time": "2021-12-30T10:29:45.247Z"
   },
   {
    "duration": 12,
    "start_time": "2021-12-30T10:29:45.261Z"
   },
   {
    "duration": 58,
    "start_time": "2021-12-30T10:29:45.276Z"
   },
   {
    "duration": 10,
    "start_time": "2021-12-30T10:29:45.337Z"
   },
   {
    "duration": 25,
    "start_time": "2021-12-30T10:29:45.350Z"
   },
   {
    "duration": 5,
    "start_time": "2021-12-30T10:29:45.380Z"
   },
   {
    "duration": 41,
    "start_time": "2021-12-30T10:29:45.388Z"
   },
   {
    "duration": 7,
    "start_time": "2021-12-30T10:29:45.431Z"
   },
   {
    "duration": 12,
    "start_time": "2021-12-30T10:29:45.440Z"
   },
   {
    "duration": 12,
    "start_time": "2021-12-30T10:29:45.455Z"
   },
   {
    "duration": 56,
    "start_time": "2021-12-30T10:29:45.469Z"
   },
   {
    "duration": 41,
    "start_time": "2021-12-30T10:29:45.527Z"
   },
   {
    "duration": 5,
    "start_time": "2021-12-30T10:29:45.571Z"
   },
   {
    "duration": 57,
    "start_time": "2021-12-30T10:29:45.578Z"
   },
   {
    "duration": 7,
    "start_time": "2021-12-30T10:29:45.637Z"
   },
   {
    "duration": 7,
    "start_time": "2021-12-30T10:29:45.647Z"
   },
   {
    "duration": 17,
    "start_time": "2021-12-30T10:29:45.656Z"
   },
   {
    "duration": 317,
    "start_time": "2021-12-30T10:29:45.675Z"
   },
   {
    "duration": 305,
    "start_time": "2021-12-30T10:29:45.996Z"
   },
   {
    "duration": 42,
    "start_time": "2021-12-30T10:29:46.304Z"
   },
   {
    "duration": 9,
    "start_time": "2021-12-30T10:29:46.348Z"
   },
   {
    "duration": 9,
    "start_time": "2021-12-30T10:29:46.360Z"
   },
   {
    "duration": 86,
    "start_time": "2021-12-30T10:29:46.371Z"
   },
   {
    "duration": 9,
    "start_time": "2021-12-30T10:29:46.459Z"
   },
   {
    "duration": 11,
    "start_time": "2021-12-30T10:29:46.470Z"
   },
   {
    "duration": 64,
    "start_time": "2021-12-30T10:29:46.483Z"
   },
   {
    "duration": 295,
    "start_time": "2021-12-30T10:29:46.549Z"
   },
   {
    "duration": 297,
    "start_time": "2021-12-30T10:46:39.868Z"
   },
   {
    "duration": 291,
    "start_time": "2021-12-30T10:46:49.734Z"
   },
   {
    "duration": 278,
    "start_time": "2021-12-30T11:54:41.921Z"
   },
   {
    "duration": 6,
    "start_time": "2021-12-30T12:06:38.617Z"
   },
   {
    "duration": 919,
    "start_time": "2021-12-30T12:06:47.904Z"
   },
   {
    "duration": 98,
    "start_time": "2021-12-30T12:06:48.826Z"
   },
   {
    "duration": 45,
    "start_time": "2021-12-30T12:06:48.927Z"
   },
   {
    "duration": 15,
    "start_time": "2021-12-30T12:06:48.974Z"
   },
   {
    "duration": 7,
    "start_time": "2021-12-30T12:06:48.991Z"
   },
   {
    "duration": 29,
    "start_time": "2021-12-30T12:06:49.000Z"
   },
   {
    "duration": 13,
    "start_time": "2021-12-30T12:06:49.031Z"
   },
   {
    "duration": 6,
    "start_time": "2021-12-30T12:06:49.047Z"
   },
   {
    "duration": 23,
    "start_time": "2021-12-30T12:06:49.056Z"
   },
   {
    "duration": 16,
    "start_time": "2021-12-30T12:06:49.081Z"
   },
   {
    "duration": 37,
    "start_time": "2021-12-30T12:06:49.100Z"
   },
   {
    "duration": 6,
    "start_time": "2021-12-30T12:06:49.139Z"
   },
   {
    "duration": 128,
    "start_time": "2021-12-30T12:06:49.148Z"
   },
   {
    "duration": 8,
    "start_time": "2021-12-30T12:06:49.278Z"
   },
   {
    "duration": 38,
    "start_time": "2021-12-30T12:06:49.289Z"
   },
   {
    "duration": 13,
    "start_time": "2021-12-30T12:06:49.329Z"
   },
   {
    "duration": 22,
    "start_time": "2021-12-30T12:06:49.345Z"
   },
   {
    "duration": 11,
    "start_time": "2021-12-30T12:06:49.370Z"
   },
   {
    "duration": 51,
    "start_time": "2021-12-30T12:06:49.384Z"
   },
   {
    "duration": 27,
    "start_time": "2021-12-30T12:06:49.437Z"
   },
   {
    "duration": 12,
    "start_time": "2021-12-30T12:06:49.467Z"
   },
   {
    "duration": 64,
    "start_time": "2021-12-30T12:06:49.481Z"
   },
   {
    "duration": 5,
    "start_time": "2021-12-30T12:06:49.549Z"
   },
   {
    "duration": 7,
    "start_time": "2021-12-30T12:06:49.557Z"
   },
   {
    "duration": 7,
    "start_time": "2021-12-30T12:06:49.567Z"
   },
   {
    "duration": 54,
    "start_time": "2021-12-30T12:06:49.577Z"
   },
   {
    "duration": 12,
    "start_time": "2021-12-30T12:06:49.633Z"
   },
   {
    "duration": 15,
    "start_time": "2021-12-30T12:06:49.647Z"
   },
   {
    "duration": 68,
    "start_time": "2021-12-30T12:06:49.664Z"
   },
   {
    "duration": 5,
    "start_time": "2021-12-30T12:06:49.734Z"
   },
   {
    "duration": 28,
    "start_time": "2021-12-30T12:06:49.741Z"
   },
   {
    "duration": 6,
    "start_time": "2021-12-30T12:06:49.771Z"
   },
   {
    "duration": 7,
    "start_time": "2021-12-30T12:06:49.779Z"
   },
   {
    "duration": 42,
    "start_time": "2021-12-30T12:06:49.788Z"
   },
   {
    "duration": 329,
    "start_time": "2021-12-30T12:06:49.832Z"
   },
   {
    "duration": 288,
    "start_time": "2021-12-30T12:06:50.164Z"
   },
   {
    "duration": 28,
    "start_time": "2021-12-30T12:06:50.454Z"
   },
   {
    "duration": 8,
    "start_time": "2021-12-30T12:06:50.485Z"
   },
   {
    "duration": 31,
    "start_time": "2021-12-30T12:06:50.495Z"
   },
   {
    "duration": 54,
    "start_time": "2021-12-30T12:06:50.528Z"
   },
   {
    "duration": 8,
    "start_time": "2021-12-30T12:06:50.584Z"
   },
   {
    "duration": 36,
    "start_time": "2021-12-30T12:06:50.595Z"
   },
   {
    "duration": 39,
    "start_time": "2021-12-30T12:06:50.633Z"
   },
   {
    "duration": 287,
    "start_time": "2021-12-30T12:06:50.674Z"
   },
   {
    "duration": 415,
    "start_time": "2021-12-30T12:42:06.109Z"
   },
   {
    "duration": 852,
    "start_time": "2021-12-30T12:43:02.534Z"
   },
   {
    "duration": 708,
    "start_time": "2021-12-30T12:43:59.202Z"
   },
   {
    "duration": 96,
    "start_time": "2021-12-30T12:44:52.316Z"
   },
   {
    "duration": 120,
    "start_time": "2021-12-30T12:45:05.245Z"
   },
   {
    "duration": 713,
    "start_time": "2021-12-30T12:45:16.310Z"
   },
   {
    "duration": 715,
    "start_time": "2021-12-30T12:45:32.612Z"
   },
   {
    "duration": 142,
    "start_time": "2021-12-30T12:46:15.418Z"
   },
   {
    "duration": 845,
    "start_time": "2021-12-30T12:46:21.397Z"
   },
   {
    "duration": 947,
    "start_time": "2021-12-30T12:46:33.432Z"
   },
   {
    "duration": 826,
    "start_time": "2022-01-01T09:14:03.538Z"
   },
   {
    "duration": 91,
    "start_time": "2022-01-01T09:14:04.366Z"
   },
   {
    "duration": 61,
    "start_time": "2022-01-01T09:14:04.463Z"
   },
   {
    "duration": 14,
    "start_time": "2022-01-01T09:14:04.526Z"
   },
   {
    "duration": 7,
    "start_time": "2022-01-01T09:14:04.542Z"
   },
   {
    "duration": 20,
    "start_time": "2022-01-01T09:14:04.552Z"
   },
   {
    "duration": 12,
    "start_time": "2022-01-01T09:14:04.576Z"
   },
   {
    "duration": 6,
    "start_time": "2022-01-01T09:14:04.624Z"
   },
   {
    "duration": 21,
    "start_time": "2022-01-01T09:14:04.632Z"
   },
   {
    "duration": 17,
    "start_time": "2022-01-01T09:14:04.655Z"
   },
   {
    "duration": 16,
    "start_time": "2022-01-01T09:14:04.674Z"
   },
   {
    "duration": 34,
    "start_time": "2022-01-01T09:14:04.692Z"
   },
   {
    "duration": 120,
    "start_time": "2022-01-01T09:14:04.728Z"
   },
   {
    "duration": 9,
    "start_time": "2022-01-01T09:14:04.850Z"
   },
   {
    "duration": 17,
    "start_time": "2022-01-01T09:14:04.861Z"
   },
   {
    "duration": 13,
    "start_time": "2022-01-01T09:14:04.880Z"
   },
   {
    "duration": 21,
    "start_time": "2022-01-01T09:14:04.923Z"
   },
   {
    "duration": 11,
    "start_time": "2022-01-01T09:14:04.946Z"
   },
   {
    "duration": 11,
    "start_time": "2022-01-01T09:14:04.959Z"
   },
   {
    "duration": 65,
    "start_time": "2022-01-01T09:14:04.973Z"
   },
   {
    "duration": 11,
    "start_time": "2022-01-01T09:14:05.041Z"
   },
   {
    "duration": 26,
    "start_time": "2022-01-01T09:14:05.059Z"
   },
   {
    "duration": 39,
    "start_time": "2022-01-01T09:14:05.089Z"
   },
   {
    "duration": 9,
    "start_time": "2022-01-01T09:14:05.131Z"
   },
   {
    "duration": 11,
    "start_time": "2022-01-01T09:14:05.142Z"
   },
   {
    "duration": 15,
    "start_time": "2022-01-01T09:14:05.155Z"
   },
   {
    "duration": 51,
    "start_time": "2022-01-01T09:14:05.172Z"
   },
   {
    "duration": 12,
    "start_time": "2022-01-01T09:14:05.225Z"
   },
   {
    "duration": 41,
    "start_time": "2022-01-01T09:14:05.239Z"
   },
   {
    "duration": 6,
    "start_time": "2022-01-01T09:14:05.282Z"
   },
   {
    "duration": 59,
    "start_time": "2022-01-01T09:14:05.290Z"
   },
   {
    "duration": 8,
    "start_time": "2022-01-01T09:14:05.351Z"
   },
   {
    "duration": 7,
    "start_time": "2022-01-01T09:14:05.362Z"
   },
   {
    "duration": 16,
    "start_time": "2022-01-01T09:14:05.371Z"
   },
   {
    "duration": 314,
    "start_time": "2022-01-01T09:14:05.389Z"
   },
   {
    "duration": 282,
    "start_time": "2022-01-01T09:14:05.705Z"
   },
   {
    "duration": 41,
    "start_time": "2022-01-01T09:14:05.989Z"
   },
   {
    "duration": 9,
    "start_time": "2022-01-01T09:14:06.033Z"
   },
   {
    "duration": 13,
    "start_time": "2022-01-01T09:14:06.044Z"
   },
   {
    "duration": 72,
    "start_time": "2022-01-01T09:14:06.059Z"
   },
   {
    "duration": 8,
    "start_time": "2022-01-01T09:14:06.134Z"
   },
   {
    "duration": 14,
    "start_time": "2022-01-01T09:14:06.144Z"
   },
   {
    "duration": 68,
    "start_time": "2022-01-01T09:14:06.160Z"
   },
   {
    "duration": 267,
    "start_time": "2022-01-01T09:14:06.230Z"
   },
   {
    "duration": 726,
    "start_time": "2022-01-01T09:14:06.499Z"
   },
   {
    "duration": 35,
    "start_time": "2022-01-01T09:16:59.785Z"
   },
   {
    "duration": 19,
    "start_time": "2022-01-01T09:17:08.558Z"
   },
   {
    "duration": 32,
    "start_time": "2022-01-01T09:17:43.178Z"
   },
   {
    "duration": 11,
    "start_time": "2022-01-01T09:18:02.631Z"
   },
   {
    "duration": 11,
    "start_time": "2022-01-01T09:18:18.968Z"
   },
   {
    "duration": 12,
    "start_time": "2022-01-01T09:18:29.175Z"
   },
   {
    "duration": 24,
    "start_time": "2022-01-01T09:18:36.722Z"
   },
   {
    "duration": 11,
    "start_time": "2022-01-01T09:18:41.578Z"
   },
   {
    "duration": 15,
    "start_time": "2022-01-01T09:34:18.446Z"
   },
   {
    "duration": 16,
    "start_time": "2022-01-01T09:35:57.586Z"
   },
   {
    "duration": 361,
    "start_time": "2022-01-19T14:53:38.538Z"
   },
   {
    "duration": 623,
    "start_time": "2022-01-19T14:53:45.539Z"
   },
   {
    "duration": 68,
    "start_time": "2022-01-19T14:53:46.163Z"
   },
   {
    "duration": 61,
    "start_time": "2022-01-19T14:53:46.233Z"
   },
   {
    "duration": 30,
    "start_time": "2022-01-19T14:53:46.295Z"
   },
   {
    "duration": 14,
    "start_time": "2022-01-19T14:53:46.326Z"
   },
   {
    "duration": 37,
    "start_time": "2022-01-19T14:53:46.341Z"
   },
   {
    "duration": 9,
    "start_time": "2022-01-19T14:53:46.380Z"
   },
   {
    "duration": 33,
    "start_time": "2022-01-19T14:53:46.390Z"
   },
   {
    "duration": 23,
    "start_time": "2022-01-19T14:53:46.425Z"
   },
   {
    "duration": 33,
    "start_time": "2022-01-19T14:53:46.450Z"
   },
   {
    "duration": 19,
    "start_time": "2022-01-19T14:53:46.485Z"
   },
   {
    "duration": 4,
    "start_time": "2022-01-19T14:53:46.505Z"
   },
   {
    "duration": 65,
    "start_time": "2022-01-19T14:53:46.510Z"
   },
   {
    "duration": 4,
    "start_time": "2022-01-19T14:53:46.577Z"
   },
   {
    "duration": 15,
    "start_time": "2022-01-19T14:53:46.582Z"
   },
   {
    "duration": 9,
    "start_time": "2022-01-19T14:53:46.598Z"
   },
   {
    "duration": 26,
    "start_time": "2022-01-19T14:53:46.609Z"
   },
   {
    "duration": 11,
    "start_time": "2022-01-19T14:53:46.636Z"
   },
   {
    "duration": 11,
    "start_time": "2022-01-19T14:53:46.648Z"
   },
   {
    "duration": 21,
    "start_time": "2022-01-19T14:53:46.660Z"
   },
   {
    "duration": 6,
    "start_time": "2022-01-19T14:53:46.682Z"
   },
   {
    "duration": 39,
    "start_time": "2022-01-19T14:53:46.689Z"
   },
   {
    "duration": 6,
    "start_time": "2022-01-19T14:53:46.730Z"
   },
   {
    "duration": 5,
    "start_time": "2022-01-19T14:53:46.737Z"
   },
   {
    "duration": 5,
    "start_time": "2022-01-19T14:53:46.744Z"
   },
   {
    "duration": 9,
    "start_time": "2022-01-19T14:53:46.750Z"
   },
   {
    "duration": 7,
    "start_time": "2022-01-19T14:53:46.762Z"
   },
   {
    "duration": 9,
    "start_time": "2022-01-19T14:53:46.770Z"
   },
   {
    "duration": 53,
    "start_time": "2022-01-19T14:53:46.781Z"
   },
   {
    "duration": 4,
    "start_time": "2022-01-19T14:53:46.835Z"
   },
   {
    "duration": 19,
    "start_time": "2022-01-19T14:53:46.840Z"
   },
   {
    "duration": 5,
    "start_time": "2022-01-19T14:53:46.860Z"
   },
   {
    "duration": 5,
    "start_time": "2022-01-19T14:53:46.867Z"
   },
   {
    "duration": 17,
    "start_time": "2022-01-19T14:53:46.873Z"
   },
   {
    "duration": 179,
    "start_time": "2022-01-19T14:53:46.891Z"
   },
   {
    "duration": 171,
    "start_time": "2022-01-19T14:53:47.071Z"
   },
   {
    "duration": 17,
    "start_time": "2022-01-19T14:53:47.243Z"
   },
   {
    "duration": 6,
    "start_time": "2022-01-19T14:53:47.261Z"
   },
   {
    "duration": 7,
    "start_time": "2022-01-19T14:53:47.268Z"
   },
   {
    "duration": 58,
    "start_time": "2022-01-19T14:53:47.276Z"
   },
   {
    "duration": 6,
    "start_time": "2022-01-19T14:53:47.335Z"
   },
   {
    "duration": 9,
    "start_time": "2022-01-19T14:53:47.342Z"
   },
   {
    "duration": 22,
    "start_time": "2022-01-19T14:53:47.352Z"
   },
   {
    "duration": 174,
    "start_time": "2022-01-19T14:53:47.375Z"
   },
   {
    "duration": 451,
    "start_time": "2022-01-19T14:53:47.551Z"
   },
   {
    "duration": 9,
    "start_time": "2022-01-19T14:54:11.172Z"
   },
   {
    "duration": 9,
    "start_time": "2022-01-19T14:54:51.470Z"
   },
   {
    "duration": 381,
    "start_time": "2022-01-19T15:06:52.197Z"
   },
   {
    "duration": 21,
    "start_time": "2022-01-19T15:07:29.564Z"
   },
   {
    "duration": 25,
    "start_time": "2022-01-19T15:07:37.693Z"
   },
   {
    "duration": 21,
    "start_time": "2022-01-19T15:07:46.320Z"
   },
   {
    "duration": 23,
    "start_time": "2022-01-19T15:07:51.627Z"
   },
   {
    "duration": 20,
    "start_time": "2022-01-19T15:07:57.324Z"
   },
   {
    "duration": 21,
    "start_time": "2022-01-19T15:08:07.851Z"
   },
   {
    "duration": 20,
    "start_time": "2022-01-19T15:08:17.600Z"
   },
   {
    "duration": 21,
    "start_time": "2022-01-19T15:08:25.797Z"
   },
   {
    "duration": 21,
    "start_time": "2022-01-19T15:08:31.996Z"
   },
   {
    "duration": 16,
    "start_time": "2022-01-19T15:09:43.706Z"
   },
   {
    "duration": 20,
    "start_time": "2022-01-19T15:09:52.844Z"
   },
   {
    "duration": 1428,
    "start_time": "2022-01-19T15:10:04.778Z"
   },
   {
    "duration": 69,
    "start_time": "2022-01-19T15:10:06.208Z"
   },
   {
    "duration": 72,
    "start_time": "2022-01-19T15:10:06.279Z"
   },
   {
    "duration": 11,
    "start_time": "2022-01-19T15:10:06.353Z"
   },
   {
    "duration": 7,
    "start_time": "2022-01-19T15:10:06.365Z"
   },
   {
    "duration": 20,
    "start_time": "2022-01-19T15:10:06.374Z"
   },
   {
    "duration": 16,
    "start_time": "2022-01-19T15:10:06.395Z"
   },
   {
    "duration": 6,
    "start_time": "2022-01-19T15:10:06.413Z"
   },
   {
    "duration": 10,
    "start_time": "2022-01-19T15:10:06.421Z"
   },
   {
    "duration": 10,
    "start_time": "2022-01-19T15:10:06.433Z"
   },
   {
    "duration": 10,
    "start_time": "2022-01-19T15:10:06.445Z"
   },
   {
    "duration": 4,
    "start_time": "2022-01-19T15:10:06.456Z"
   },
   {
    "duration": 67,
    "start_time": "2022-01-19T15:10:06.461Z"
   },
   {
    "duration": 17,
    "start_time": "2022-01-19T15:10:06.530Z"
   },
   {
    "duration": 12,
    "start_time": "2022-01-19T15:10:06.548Z"
   },
   {
    "duration": 8,
    "start_time": "2022-01-19T15:10:06.562Z"
   },
   {
    "duration": 15,
    "start_time": "2022-01-19T15:10:06.571Z"
   },
   {
    "duration": 12,
    "start_time": "2022-01-19T15:10:06.587Z"
   },
   {
    "duration": 8,
    "start_time": "2022-01-19T15:10:06.600Z"
   },
   {
    "duration": 31,
    "start_time": "2022-01-19T15:10:06.609Z"
   },
   {
    "duration": 6,
    "start_time": "2022-01-19T15:10:06.641Z"
   },
   {
    "duration": 15,
    "start_time": "2022-01-19T15:10:06.649Z"
   },
   {
    "duration": 10,
    "start_time": "2022-01-19T15:10:06.667Z"
   },
   {
    "duration": 8,
    "start_time": "2022-01-19T15:10:06.678Z"
   },
   {
    "duration": 10,
    "start_time": "2022-01-19T15:10:06.687Z"
   },
   {
    "duration": 30,
    "start_time": "2022-01-19T15:10:06.698Z"
   },
   {
    "duration": 7,
    "start_time": "2022-01-19T15:10:06.730Z"
   },
   {
    "duration": 9,
    "start_time": "2022-01-19T15:10:06.739Z"
   },
   {
    "duration": 11,
    "start_time": "2022-01-19T15:10:06.750Z"
   },
   {
    "duration": 26,
    "start_time": "2022-01-19T15:10:06.762Z"
   },
   {
    "duration": 3,
    "start_time": "2022-01-19T15:10:06.789Z"
   },
   {
    "duration": 40,
    "start_time": "2022-01-19T15:10:06.794Z"
   },
   {
    "duration": 6,
    "start_time": "2022-01-19T15:10:06.836Z"
   },
   {
    "duration": 5,
    "start_time": "2022-01-19T15:10:06.843Z"
   },
   {
    "duration": 13,
    "start_time": "2022-01-19T15:10:06.849Z"
   },
   {
    "duration": 184,
    "start_time": "2022-01-19T15:10:06.864Z"
   },
   {
    "duration": 178,
    "start_time": "2022-01-19T15:10:07.049Z"
   },
   {
    "duration": 17,
    "start_time": "2022-01-19T15:10:07.229Z"
   },
   {
    "duration": 6,
    "start_time": "2022-01-19T15:10:07.247Z"
   },
   {
    "duration": 11,
    "start_time": "2022-01-19T15:10:07.254Z"
   },
   {
    "duration": 49,
    "start_time": "2022-01-19T15:10:07.267Z"
   },
   {
    "duration": 14,
    "start_time": "2022-01-19T15:10:07.317Z"
   },
   {
    "duration": 8,
    "start_time": "2022-01-19T15:10:07.332Z"
   },
   {
    "duration": 21,
    "start_time": "2022-01-19T15:10:07.341Z"
   },
   {
    "duration": 168,
    "start_time": "2022-01-19T15:10:07.364Z"
   },
   {
    "duration": 468,
    "start_time": "2022-01-19T15:10:07.533Z"
   },
   {
    "duration": 38,
    "start_time": "2022-01-19T15:10:37.665Z"
   },
   {
    "duration": 6,
    "start_time": "2022-01-19T15:11:03.705Z"
   },
   {
    "duration": 658,
    "start_time": "2022-01-19T15:18:29.580Z"
   },
   {
    "duration": 29,
    "start_time": "2022-01-19T15:18:37.516Z"
   },
   {
    "duration": 7,
    "start_time": "2022-01-19T15:51:51.184Z"
   },
   {
    "duration": 28,
    "start_time": "2022-01-19T15:52:27.245Z"
   },
   {
    "duration": 7,
    "start_time": "2022-01-19T15:53:03.724Z"
   },
   {
    "duration": 7880,
    "start_time": "2022-01-19T15:53:25.493Z"
   },
   {
    "duration": 4285,
    "start_time": "2022-01-19T15:53:55.241Z"
   },
   {
    "duration": 7,
    "start_time": "2022-01-19T15:54:17.709Z"
   },
   {
    "duration": 15,
    "start_time": "2022-01-19T16:06:33.003Z"
   },
   {
    "duration": 7,
    "start_time": "2022-01-19T16:07:08.925Z"
   },
   {
    "duration": 689,
    "start_time": "2022-01-23T17:44:26.598Z"
   },
   {
    "duration": 83,
    "start_time": "2022-01-23T17:44:27.289Z"
   },
   {
    "duration": 44,
    "start_time": "2022-01-23T17:44:27.374Z"
   },
   {
    "duration": 11,
    "start_time": "2022-01-23T17:44:27.420Z"
   },
   {
    "duration": 5,
    "start_time": "2022-01-23T17:44:27.433Z"
   },
   {
    "duration": 14,
    "start_time": "2022-01-23T17:44:27.440Z"
   },
   {
    "duration": 5,
    "start_time": "2022-01-23T17:44:27.456Z"
   },
   {
    "duration": 4,
    "start_time": "2022-01-23T17:44:27.464Z"
   },
   {
    "duration": 42,
    "start_time": "2022-01-23T17:44:27.471Z"
   },
   {
    "duration": 15,
    "start_time": "2022-01-23T17:44:27.515Z"
   },
   {
    "duration": 11,
    "start_time": "2022-01-23T17:44:27.532Z"
   },
   {
    "duration": 4,
    "start_time": "2022-01-23T17:44:27.545Z"
   },
   {
    "duration": 83,
    "start_time": "2022-01-23T17:44:27.551Z"
   },
   {
    "duration": 5,
    "start_time": "2022-01-23T17:44:27.635Z"
   },
   {
    "duration": 14,
    "start_time": "2022-01-23T17:44:27.642Z"
   },
   {
    "duration": 9,
    "start_time": "2022-01-23T17:44:27.658Z"
   },
   {
    "duration": 43,
    "start_time": "2022-01-23T17:44:27.669Z"
   },
   {
    "duration": 14,
    "start_time": "2022-01-23T17:44:27.714Z"
   },
   {
    "duration": 8,
    "start_time": "2022-01-23T17:44:27.731Z"
   },
   {
    "duration": 19,
    "start_time": "2022-01-23T17:44:27.741Z"
   },
   {
    "duration": 6,
    "start_time": "2022-01-23T17:44:27.761Z"
   },
   {
    "duration": 46,
    "start_time": "2022-01-23T17:44:27.769Z"
   },
   {
    "duration": 6,
    "start_time": "2022-01-23T17:44:27.818Z"
   },
   {
    "duration": 5,
    "start_time": "2022-01-23T17:44:27.826Z"
   },
   {
    "duration": 6,
    "start_time": "2022-01-23T17:44:27.832Z"
   },
   {
    "duration": 5,
    "start_time": "2022-01-23T17:44:27.840Z"
   },
   {
    "duration": 8,
    "start_time": "2022-01-23T17:44:27.847Z"
   },
   {
    "duration": 53,
    "start_time": "2022-01-23T17:44:27.857Z"
   },
   {
    "duration": 11,
    "start_time": "2022-01-23T17:44:27.912Z"
   },
   {
    "duration": 35,
    "start_time": "2022-01-23T17:44:27.925Z"
   },
   {
    "duration": 50,
    "start_time": "2022-01-23T17:44:27.962Z"
   },
   {
    "duration": 8,
    "start_time": "2022-01-23T17:44:28.014Z"
   },
   {
    "duration": 5,
    "start_time": "2022-01-23T17:44:28.024Z"
   },
   {
    "duration": 22,
    "start_time": "2022-01-23T17:44:28.030Z"
   },
   {
    "duration": 7,
    "start_time": "2022-01-23T17:44:28.054Z"
   },
   {
    "duration": 5,
    "start_time": "2022-01-23T17:44:28.063Z"
   },
   {
    "duration": 44,
    "start_time": "2022-01-23T17:44:28.070Z"
   },
   {
    "duration": 219,
    "start_time": "2022-01-23T17:44:28.117Z"
   },
   {
    "duration": 213,
    "start_time": "2022-01-23T17:44:28.337Z"
   },
   {
    "duration": 18,
    "start_time": "2022-01-23T17:44:28.552Z"
   },
   {
    "duration": 6,
    "start_time": "2022-01-23T17:44:28.572Z"
   },
   {
    "duration": 25,
    "start_time": "2022-01-23T17:44:28.579Z"
   },
   {
    "duration": 56,
    "start_time": "2022-01-23T17:44:28.605Z"
   },
   {
    "duration": 7,
    "start_time": "2022-01-23T17:44:28.663Z"
   },
   {
    "duration": 6,
    "start_time": "2022-01-23T17:44:28.672Z"
   },
   {
    "duration": 26,
    "start_time": "2022-01-23T17:44:28.679Z"
   },
   {
    "duration": 26,
    "start_time": "2022-01-23T17:44:28.714Z"
   },
   {
    "duration": 216,
    "start_time": "2022-01-23T17:44:28.742Z"
   },
   {
    "duration": 558,
    "start_time": "2022-01-23T17:44:28.960Z"
   },
   {
    "duration": 8,
    "start_time": "2022-01-23T17:49:55.873Z"
   },
   {
    "duration": 6,
    "start_time": "2022-01-23T19:03:50.059Z"
   },
   {
    "duration": 7,
    "start_time": "2022-01-23T19:04:29.161Z"
   },
   {
    "duration": 8,
    "start_time": "2022-01-23T19:04:37.211Z"
   },
   {
    "duration": 7,
    "start_time": "2022-01-23T19:08:29.360Z"
   },
   {
    "duration": 6,
    "start_time": "2022-01-23T19:08:43.851Z"
   },
   {
    "duration": 196,
    "start_time": "2022-01-23T19:11:09.632Z"
   },
   {
    "duration": 8,
    "start_time": "2022-01-23T19:11:18.004Z"
   },
   {
    "duration": 678,
    "start_time": "2022-01-24T18:38:59.475Z"
   },
   {
    "duration": 91,
    "start_time": "2022-01-24T18:39:00.155Z"
   },
   {
    "duration": 60,
    "start_time": "2022-01-24T18:39:00.248Z"
   },
   {
    "duration": 18,
    "start_time": "2022-01-24T18:39:00.310Z"
   },
   {
    "duration": 6,
    "start_time": "2022-01-24T18:39:00.330Z"
   },
   {
    "duration": 17,
    "start_time": "2022-01-24T18:39:00.338Z"
   },
   {
    "duration": 7,
    "start_time": "2022-01-24T18:39:00.356Z"
   },
   {
    "duration": 36,
    "start_time": "2022-01-24T18:39:00.366Z"
   },
   {
    "duration": 15,
    "start_time": "2022-01-24T18:39:00.405Z"
   },
   {
    "duration": 13,
    "start_time": "2022-01-24T18:39:00.422Z"
   },
   {
    "duration": 13,
    "start_time": "2022-01-24T18:39:00.436Z"
   },
   {
    "duration": 4,
    "start_time": "2022-01-24T18:39:00.450Z"
   },
   {
    "duration": 109,
    "start_time": "2022-01-24T18:39:00.456Z"
   },
   {
    "duration": 4,
    "start_time": "2022-01-24T18:39:00.567Z"
   },
   {
    "duration": 28,
    "start_time": "2022-01-24T18:39:00.573Z"
   },
   {
    "duration": 13,
    "start_time": "2022-01-24T18:39:00.603Z"
   },
   {
    "duration": 21,
    "start_time": "2022-01-24T18:39:00.618Z"
   },
   {
    "duration": 16,
    "start_time": "2022-01-24T18:39:00.640Z"
   },
   {
    "duration": 9,
    "start_time": "2022-01-24T18:39:00.657Z"
   },
   {
    "duration": 39,
    "start_time": "2022-01-24T18:39:00.668Z"
   },
   {
    "duration": 8,
    "start_time": "2022-01-24T18:39:00.710Z"
   },
   {
    "duration": 21,
    "start_time": "2022-01-24T18:39:00.720Z"
   },
   {
    "duration": 16,
    "start_time": "2022-01-24T18:39:00.744Z"
   },
   {
    "duration": 10,
    "start_time": "2022-01-24T18:39:00.762Z"
   },
   {
    "duration": 26,
    "start_time": "2022-01-24T18:39:00.773Z"
   },
   {
    "duration": 20,
    "start_time": "2022-01-24T18:39:00.801Z"
   },
   {
    "duration": 18,
    "start_time": "2022-01-24T18:39:00.823Z"
   },
   {
    "duration": 28,
    "start_time": "2022-01-24T18:39:00.843Z"
   },
   {
    "duration": 25,
    "start_time": "2022-01-24T18:39:00.873Z"
   },
   {
    "duration": 41,
    "start_time": "2022-01-24T18:39:00.901Z"
   },
   {
    "duration": 33,
    "start_time": "2022-01-24T18:39:00.944Z"
   },
   {
    "duration": 17,
    "start_time": "2022-01-24T18:39:00.979Z"
   },
   {
    "duration": 20,
    "start_time": "2022-01-24T18:39:00.998Z"
   },
   {
    "duration": 38,
    "start_time": "2022-01-24T18:39:01.020Z"
   },
   {
    "duration": 6,
    "start_time": "2022-01-24T18:39:01.059Z"
   },
   {
    "duration": 24,
    "start_time": "2022-01-24T18:39:01.067Z"
   },
   {
    "duration": 34,
    "start_time": "2022-01-24T18:39:01.092Z"
   },
   {
    "duration": 239,
    "start_time": "2022-01-24T18:39:01.129Z"
   },
   {
    "duration": 7,
    "start_time": "2022-01-24T18:39:01.370Z"
   },
   {
    "duration": 252,
    "start_time": "2022-01-24T18:39:01.378Z"
   },
   {
    "duration": 22,
    "start_time": "2022-01-24T18:39:01.632Z"
   },
   {
    "duration": 8,
    "start_time": "2022-01-24T18:39:01.655Z"
   },
   {
    "duration": 19,
    "start_time": "2022-01-24T18:39:01.665Z"
   },
   {
    "duration": 69,
    "start_time": "2022-01-24T18:39:01.685Z"
   },
   {
    "duration": 17,
    "start_time": "2022-01-24T18:39:01.757Z"
   },
   {
    "duration": 21,
    "start_time": "2022-01-24T18:39:01.776Z"
   },
   {
    "duration": 28,
    "start_time": "2022-01-24T18:39:01.799Z"
   },
   {
    "duration": 55,
    "start_time": "2022-01-24T18:39:01.829Z"
   },
   {
    "duration": 225,
    "start_time": "2022-01-24T18:39:01.886Z"
   },
   {
    "duration": 634,
    "start_time": "2022-01-24T18:39:02.114Z"
   },
   {
    "duration": 4,
    "start_time": "2022-01-24T18:39:56.495Z"
   },
   {
    "duration": 296,
    "start_time": "2022-01-24T18:44:54.979Z"
   }
  ],
  "colab": {
   "name": "DA+. Сборный проект 1. Шаблон (1).ipynb",
   "provenance": []
  },
  "kernelspec": {
   "display_name": "Python 3 (ipykernel)",
   "language": "python",
   "name": "python3"
  },
  "language_info": {
   "codemirror_mode": {
    "name": "ipython",
    "version": 3
   },
   "file_extension": ".py",
   "mimetype": "text/x-python",
   "name": "python",
   "nbconvert_exporter": "python",
   "pygments_lexer": "ipython3",
   "version": "3.9.5"
  },
  "toc": {
   "base_numbering": 1,
   "nav_menu": {},
   "number_sections": true,
   "sideBar": true,
   "skip_h1_title": true,
   "title_cell": "Table of Contents",
   "title_sidebar": "Contents",
   "toc_cell": false,
   "toc_position": {
    "height": "calc(100% - 180px)",
    "left": "10px",
    "top": "150px",
    "width": "375.391px"
   },
   "toc_section_display": true,
   "toc_window_display": false
  }
 },
 "nbformat": 4,
 "nbformat_minor": 1
}
