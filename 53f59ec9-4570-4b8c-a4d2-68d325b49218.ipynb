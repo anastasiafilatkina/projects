{
 "cells": [
  {
   "cell_type": "markdown",
   "metadata": {
    "id": "E0vqbgi9ay0H"
   },
   "source": [
    "# Яндекс.Музыка"
   ]
  },
  {
   "cell_type": "markdown",
   "metadata": {
    "id": "VUC88oWjTJw2"
   },
   "source": [
    "Сравнение Москвы и Петербурга окружено мифами. Например:\n",
    " * Москва — мегаполис, подчинённый жёсткому ритму рабочей недели;\n",
    " * Петербург — культурная столица, со своими вкусами.\n",
    "\n",
    "На данных Яндекс.Музыки вы сравните поведение пользователей двух столиц.\n",
    "\n",
    "**Цель исследования** — проверьте три гипотезы:\n",
    "1. Активность пользователей зависит от дня недели. Причём в Москве и Петербурге это проявляется по-разному.\n",
    "2. В понедельник утром в Москве преобладают одни жанры, а в Петербурге — другие. Так же и вечером пятницы преобладают разные жанры — в зависимости от города. \n",
    "3. Москва и Петербург предпочитают разные жанры музыки. В Москве чаще слушают поп-музыку, в Петербурге — русский рэп.\n",
    "\n",
    "**Ход исследования**\n",
    "\n",
    "Данные о поведении пользователей вы получите из файла `yandex_music_project.csv`. О качестве данных ничего не известно. Поэтому перед проверкой гипотез понадобится обзор данных. \n",
    "\n",
    "Вы проверите данные на ошибки и оцените их влияние на исследование. Затем, на этапе предобработки вы поищете возможность исправить самые критичные ошибки данных.\n",
    " \n",
    "Таким образом, исследование пройдёт в три этапа:\n",
    " 1. Обзор данных.\n",
    " 2. Предобработка данных.\n",
    " 3. Проверка гипотез.\n",
    "\n"
   ]
  },
  {
   "cell_type": "markdown",
   "metadata": {
    "id": "Ml1hmfXC_Zcs"
   },
   "source": [
    "## Обзор данных\n",
    "\n",
    "Составьте первое представление о данных Яндекс.Музыки.\n",
    "\n",
    "\n"
   ]
  },
  {
   "cell_type": "markdown",
   "metadata": {
    "id": "57eAOGIz_Zcs"
   },
   "source": [
    "Основной инструмент аналитика — `pandas`. Импортируйте эту библиотеку."
   ]
  },
  {
   "cell_type": "code",
   "execution_count": 1,
   "metadata": {
    "id": "AXN7PHPN_Zcs"
   },
   "outputs": [],
   "source": [
    "import pandas as pd# импорт библиотеки pandas"
   ]
  },
  {
   "cell_type": "markdown",
   "metadata": {
    "id": "SG23P8tt_Zcs"
   },
   "source": [
    "Прочитайте файл `yandex_music_project.csv` из папки `/datasets` и сохраните его в переменной `df`:"
   ]
  },
  {
   "cell_type": "code",
   "execution_count": 2,
   "metadata": {
    "id": "fFVu7vqh_Zct"
   },
   "outputs": [],
   "source": [
    "df = pd.read_csv('/datasets/yandex_music_project.csv')# чтение файла с данными и сохранение в df"
   ]
  },
  {
   "cell_type": "markdown",
   "metadata": {
    "id": "rDoOMd3uTqnZ"
   },
   "source": [
    "Выведите на экран первые десять строк таблицы:"
   ]
  },
  {
   "cell_type": "code",
   "execution_count": 3,
   "metadata": {
    "id": "oWTVX3gW_Zct",
    "scrolled": true
   },
   "outputs": [
    {
     "data": {
      "text/html": [
       "<div>\n",
       "<style scoped>\n",
       "    .dataframe tbody tr th:only-of-type {\n",
       "        vertical-align: middle;\n",
       "    }\n",
       "\n",
       "    .dataframe tbody tr th {\n",
       "        vertical-align: top;\n",
       "    }\n",
       "\n",
       "    .dataframe thead th {\n",
       "        text-align: right;\n",
       "    }\n",
       "</style>\n",
       "<table border=\"1\" class=\"dataframe\">\n",
       "  <thead>\n",
       "    <tr style=\"text-align: right;\">\n",
       "      <th></th>\n",
       "      <th>userID</th>\n",
       "      <th>Track</th>\n",
       "      <th>artist</th>\n",
       "      <th>genre</th>\n",
       "      <th>City</th>\n",
       "      <th>time</th>\n",
       "      <th>Day</th>\n",
       "    </tr>\n",
       "  </thead>\n",
       "  <tbody>\n",
       "    <tr>\n",
       "      <td>0</td>\n",
       "      <td>FFB692EC</td>\n",
       "      <td>Kamigata To Boots</td>\n",
       "      <td>The Mass Missile</td>\n",
       "      <td>rock</td>\n",
       "      <td>Saint-Petersburg</td>\n",
       "      <td>20:28:33</td>\n",
       "      <td>Wednesday</td>\n",
       "    </tr>\n",
       "    <tr>\n",
       "      <td>1</td>\n",
       "      <td>55204538</td>\n",
       "      <td>Delayed Because of Accident</td>\n",
       "      <td>Andreas Rönnberg</td>\n",
       "      <td>rock</td>\n",
       "      <td>Moscow</td>\n",
       "      <td>14:07:09</td>\n",
       "      <td>Friday</td>\n",
       "    </tr>\n",
       "    <tr>\n",
       "      <td>2</td>\n",
       "      <td>20EC38</td>\n",
       "      <td>Funiculì funiculà</td>\n",
       "      <td>Mario Lanza</td>\n",
       "      <td>pop</td>\n",
       "      <td>Saint-Petersburg</td>\n",
       "      <td>20:58:07</td>\n",
       "      <td>Wednesday</td>\n",
       "    </tr>\n",
       "    <tr>\n",
       "      <td>3</td>\n",
       "      <td>A3DD03C9</td>\n",
       "      <td>Dragons in the Sunset</td>\n",
       "      <td>Fire + Ice</td>\n",
       "      <td>folk</td>\n",
       "      <td>Saint-Petersburg</td>\n",
       "      <td>08:37:09</td>\n",
       "      <td>Monday</td>\n",
       "    </tr>\n",
       "    <tr>\n",
       "      <td>4</td>\n",
       "      <td>E2DC1FAE</td>\n",
       "      <td>Soul People</td>\n",
       "      <td>Space Echo</td>\n",
       "      <td>dance</td>\n",
       "      <td>Moscow</td>\n",
       "      <td>08:34:34</td>\n",
       "      <td>Monday</td>\n",
       "    </tr>\n",
       "    <tr>\n",
       "      <td>5</td>\n",
       "      <td>842029A1</td>\n",
       "      <td>Преданная</td>\n",
       "      <td>IMPERVTOR</td>\n",
       "      <td>rusrap</td>\n",
       "      <td>Saint-Petersburg</td>\n",
       "      <td>13:09:41</td>\n",
       "      <td>Friday</td>\n",
       "    </tr>\n",
       "    <tr>\n",
       "      <td>6</td>\n",
       "      <td>4CB90AA5</td>\n",
       "      <td>True</td>\n",
       "      <td>Roman Messer</td>\n",
       "      <td>dance</td>\n",
       "      <td>Moscow</td>\n",
       "      <td>13:00:07</td>\n",
       "      <td>Wednesday</td>\n",
       "    </tr>\n",
       "    <tr>\n",
       "      <td>7</td>\n",
       "      <td>F03E1C1F</td>\n",
       "      <td>Feeling This Way</td>\n",
       "      <td>Polina Griffith</td>\n",
       "      <td>dance</td>\n",
       "      <td>Moscow</td>\n",
       "      <td>20:47:49</td>\n",
       "      <td>Wednesday</td>\n",
       "    </tr>\n",
       "    <tr>\n",
       "      <td>8</td>\n",
       "      <td>8FA1D3BE</td>\n",
       "      <td>И вновь продолжается бой</td>\n",
       "      <td>NaN</td>\n",
       "      <td>ruspop</td>\n",
       "      <td>Moscow</td>\n",
       "      <td>09:17:40</td>\n",
       "      <td>Friday</td>\n",
       "    </tr>\n",
       "    <tr>\n",
       "      <td>9</td>\n",
       "      <td>E772D5C0</td>\n",
       "      <td>Pessimist</td>\n",
       "      <td>NaN</td>\n",
       "      <td>dance</td>\n",
       "      <td>Saint-Petersburg</td>\n",
       "      <td>21:20:49</td>\n",
       "      <td>Wednesday</td>\n",
       "    </tr>\n",
       "  </tbody>\n",
       "</table>\n",
       "</div>"
      ],
      "text/plain": [
       "     userID                        Track            artist   genre  \\\n",
       "0  FFB692EC            Kamigata To Boots  The Mass Missile    rock   \n",
       "1  55204538  Delayed Because of Accident  Andreas Rönnberg    rock   \n",
       "2    20EC38            Funiculì funiculà       Mario Lanza     pop   \n",
       "3  A3DD03C9        Dragons in the Sunset        Fire + Ice    folk   \n",
       "4  E2DC1FAE                  Soul People        Space Echo   dance   \n",
       "5  842029A1                    Преданная         IMPERVTOR  rusrap   \n",
       "6  4CB90AA5                         True      Roman Messer   dance   \n",
       "7  F03E1C1F             Feeling This Way   Polina Griffith   dance   \n",
       "8  8FA1D3BE     И вновь продолжается бой               NaN  ruspop   \n",
       "9  E772D5C0                    Pessimist               NaN   dance   \n",
       "\n",
       "             City        time        Day  \n",
       "0  Saint-Petersburg  20:28:33  Wednesday  \n",
       "1            Moscow  14:07:09     Friday  \n",
       "2  Saint-Petersburg  20:58:07  Wednesday  \n",
       "3  Saint-Petersburg  08:37:09     Monday  \n",
       "4            Moscow  08:34:34     Monday  \n",
       "5  Saint-Petersburg  13:09:41     Friday  \n",
       "6            Moscow  13:00:07  Wednesday  \n",
       "7            Moscow  20:47:49  Wednesday  \n",
       "8            Moscow  09:17:40     Friday  \n",
       "9  Saint-Petersburg  21:20:49  Wednesday  "
      ]
     },
     "execution_count": 3,
     "metadata": {},
     "output_type": "execute_result"
    }
   ],
   "source": [
    "df.head(10)# получение первых 10 строк таблицы df"
   ]
  },
  {
   "cell_type": "markdown",
   "metadata": {},
   "source": [
    "<div class=\"alert alert-warning\">\n",
    "<b>Комментарий ревьюера: </b> Действительно, чтобы вывести датафрейм в виде таблицы нужно использовать `display()`, но если в ячейке всего одна строка или же строка, которую ты хочешь вывести, последняя в ячейке, то юпитер выведет ее автоматически без `print()` и `display()`. </div>"
   ]
  },
  {
   "cell_type": "markdown",
   "metadata": {},
   "source": [
    "<div class=\"alert alert-success\">\n",
    "<b>Комментарий ревьюера v2: </b> 👍</div>"
   ]
  },
  {
   "cell_type": "markdown",
   "metadata": {
    "id": "EO73Kwic_Zct"
   },
   "source": [
    "Одной командой получить общую информацию о таблице:"
   ]
  },
  {
   "cell_type": "code",
   "execution_count": 4,
   "metadata": {
    "id": "DSf2kIb-_Zct"
   },
   "outputs": [
    {
     "name": "stdout",
     "output_type": "stream",
     "text": [
      "<class 'pandas.core.frame.DataFrame'>\n",
      "RangeIndex: 65079 entries, 0 to 65078\n",
      "Data columns (total 7 columns):\n",
      "  userID    65079 non-null object\n",
      "Track       63848 non-null object\n",
      "artist      57876 non-null object\n",
      "genre       63881 non-null object\n",
      "  City      65079 non-null object\n",
      "time        65079 non-null object\n",
      "Day         65079 non-null object\n",
      "dtypes: object(7)\n",
      "memory usage: 3.5+ MB\n"
     ]
    }
   ],
   "source": [
    "df.info()# получение общей информации о данных в таблице df"
   ]
  },
  {
   "cell_type": "markdown",
   "metadata": {
    "id": "TaQ2Iwbr_Zct"
   },
   "source": [
    "Итак, в таблице семь столбцов. Тип данных во всех столбцах — `object`.\n",
    "\n",
    "Согласно документации к данным:\n",
    "* `userID` — идентификатор пользователя;\n",
    "* `Track` — название трека;  \n",
    "* `artist` — имя исполнителя;\n",
    "* `genre` — название жанра;\n",
    "* `City` — город пользователя;\n",
    "* `time` — время начала прослушивания;\n",
    "* `Day` — день недели.\n",
    "\n",
    "В названиях колонок видны три нарушения стиля:\n",
    "1. Строчные буквы сочетаются с прописными.\n",
    "2. Встречаются пробелы.\n",
    "3. Найдите ещё одну проблему в названии колонок и опишите её в этом пункте.\n",
    "\n",
    "\n",
    "\n",
    "Количество значений в столбцах различается. Значит, в данных есть пропущенные значения.\n"
   ]
  },
  {
   "cell_type": "markdown",
   "metadata": {
    "id": "MCB6-dXG_Zct"
   },
   "source": [
    "**Выводы**\n",
    "\n",
    "В каждой строке таблицы — данные о прослушанном треке. Часть колонок описывает саму композицию: название, исполнителя и жанр. Остальные данные рассказывают о пользователе: из какого он города, когда он слушал музыку. \n",
    "\n",
    "Предварительно можно утверждать, что, данных достаточно для проверки гипотез. Но встречаются пропуски в данных, а в названиях колонок — расхождения с хорошим стилем.\n",
    "\n",
    "Чтобы двигаться дальше, нужно устранить проблемы в данных."
   ]
  },
  {
   "cell_type": "markdown",
   "metadata": {
    "id": "SjYF6Ub9_Zct"
   },
   "source": [
    "## Предобработка данных\n",
    "Исправьте стиль в заголовках столбцов, исключите пропуски. Затем проверьте данные на дубликаты."
   ]
  },
  {
   "cell_type": "markdown",
   "metadata": {
    "id": "dIaKXr29_Zct"
   },
   "source": [
    "### Стиль заголовков\n",
    "Выведите на экран названия столбцов:"
   ]
  },
  {
   "cell_type": "code",
   "execution_count": 5,
   "metadata": {
    "id": "oKOTdF_Q_Zct"
   },
   "outputs": [
    {
     "data": {
      "text/plain": [
       "Index(['  userID', 'Track', 'artist', 'genre', '  City  ', 'time', 'Day'], dtype='object')"
      ]
     },
     "execution_count": 5,
     "metadata": {},
     "output_type": "execute_result"
    }
   ],
   "source": [
    "df.columns# перечень названий столбцов таблицы df"
   ]
  },
  {
   "cell_type": "markdown",
   "metadata": {
    "id": "FPZA3ki8xe7T"
   },
   "source": []
  },
  {
   "cell_type": "markdown",
   "metadata": {
    "id": "zj5534cv_Zct"
   },
   "source": [
    "Приведите названия в соответствие с хорошим стилем:\n",
    "* несколько слов в названии запишите в «змеином_регистре»,\n",
    "* все символы сделайте строчными,\n",
    "* устраните пробелы.\n",
    "\n",
    "Для этого переименуйте колонки так:\n",
    "* `'  userID'` → `'user_id'`;\n",
    "* `'Track'` → `'track'`;\n",
    "* `'  City  '` → `'city'`;\n",
    "* `'Day'` → `'day'`."
   ]
  },
  {
   "cell_type": "code",
   "execution_count": 6,
   "metadata": {
    "id": "ISlFqs5y_Zct"
   },
   "outputs": [],
   "source": [
    "df = df.rename(columns = {'  userID':'user_id', 'Track':'track', '  City  ':'city', 'Day':'day'})# переименование столбцов"
   ]
  },
  {
   "cell_type": "markdown",
   "metadata": {
    "id": "1dqbh00J_Zct"
   },
   "source": [
    "Проверьте результат. Для этого ещё раз выведите на экран названия столбцов:"
   ]
  },
  {
   "cell_type": "code",
   "execution_count": 7,
   "metadata": {
    "id": "d4NOAmTW_Zct"
   },
   "outputs": [
    {
     "data": {
      "text/plain": [
       "Index(['user_id', 'track', 'artist', 'genre', 'city', 'time', 'day'], dtype='object')"
      ]
     },
     "execution_count": 7,
     "metadata": {},
     "output_type": "execute_result"
    }
   ],
   "source": [
    "df.columns# проверка результатов - перечень названий столбцов"
   ]
  },
  {
   "cell_type": "markdown",
   "metadata": {
    "id": "5ISfbcfY_Zct"
   },
   "source": [
    "### Пропуски значений\n",
    "Сначала посчитайте, сколько в таблице пропущенных значений. Для этого достаточно двух методов `pandas`:"
   ]
  },
  {
   "cell_type": "code",
   "execution_count": 8,
   "metadata": {
    "id": "RskX29qr_Zct"
   },
   "outputs": [
    {
     "data": {
      "text/plain": [
       "user_id       0\n",
       "track      1231\n",
       "artist     7203\n",
       "genre      1198\n",
       "city          0\n",
       "time          0\n",
       "day           0\n",
       "dtype: int64"
      ]
     },
     "execution_count": 8,
     "metadata": {},
     "output_type": "execute_result"
    }
   ],
   "source": [
    "df.isna().sum()# подсчёт пропусков"
   ]
  },
  {
   "cell_type": "markdown",
   "metadata": {
    "id": "qubhgnlO_Zct"
   },
   "source": [
    "Не все пропущенные значения влияют на исследование. Так в `track` и `artist` пропуски не важны для вашей работы. Достаточно заменить их явными обозначениями.\n",
    "\n",
    "Но пропуски в `genre` могут помешать сравнению музыкальных вкусов в Москве и Санкт-Петербурге. На практике было бы правильно установить причину пропусков и восстановить данные. Такой возможности нет в учебном проекте. Придётся:\n",
    "* заполнить и эти пропуски явными обозначениями,\n",
    "* оценить, насколько они повредят расчётам. "
   ]
  },
  {
   "cell_type": "markdown",
   "metadata": {
    "id": "fSv2laPA_Zct"
   },
   "source": [
    "Замените пропущенные значения в столбцах `track`, `artist` и `genre` на строку `'unknown'`. Для этого создайте список `columns_to_replace`, переберите его элементы циклом `for` и для каждого столбца выполните замену пропущенных значений:"
   ]
  },
  {
   "cell_type": "code",
   "execution_count": 9,
   "metadata": {
    "id": "KplB5qWs_Zct"
   },
   "outputs": [],
   "source": [
    "columns_to_replace = ['track', 'artist', 'genre']\n",
    "for column in columns_to_replace:\n",
    "    df[column] = df[column].fillna('unknown')# перебор названий столбцов в цикле и замена пропущенных значений на 'unknown'"
   ]
  },
  {
   "cell_type": "markdown",
   "metadata": {
    "id": "Ilsm-MZo_Zct"
   },
   "source": [
    "Убедитесь, что в таблице не осталось пропусков. Для этого ещё раз посчитайте пропущенные значения."
   ]
  },
  {
   "cell_type": "code",
   "execution_count": 10,
   "metadata": {
    "id": "Tq4nYRX4_Zct"
   },
   "outputs": [
    {
     "data": {
      "text/plain": [
       "user_id    0\n",
       "track      0\n",
       "artist     0\n",
       "genre      0\n",
       "city       0\n",
       "time       0\n",
       "day        0\n",
       "dtype: int64"
      ]
     },
     "execution_count": 10,
     "metadata": {},
     "output_type": "execute_result"
    }
   ],
   "source": [
    "df.isna().sum()# подсчёт пропусков"
   ]
  },
  {
   "cell_type": "markdown",
   "metadata": {
    "id": "BWKRtBJ3_Zct"
   },
   "source": [
    "### Дубликаты\n",
    "Посчитайте явные дубликаты в таблице одной командой:"
   ]
  },
  {
   "cell_type": "code",
   "execution_count": 11,
   "metadata": {
    "id": "36eES_S0_Zct"
   },
   "outputs": [
    {
     "data": {
      "text/plain": [
       "3826"
      ]
     },
     "execution_count": 11,
     "metadata": {},
     "output_type": "execute_result"
    }
   ],
   "source": [
    "df.duplicated().sum()# подсчёт явных дубликатов"
   ]
  },
  {
   "cell_type": "markdown",
   "metadata": {
    "id": "Ot25h6XR_Zct"
   },
   "source": [
    "Вызовите специальный метод `pandas`, чтобы удалить явные дубликаты:"
   ]
  },
  {
   "cell_type": "code",
   "execution_count": 12,
   "metadata": {
    "id": "exFHq6tt_Zct"
   },
   "outputs": [],
   "source": [
    "df = df.drop_duplicates().reset_index(drop=True) # удаление явных дубликатов (с удалением старых индексов и формированием новых)"
   ]
  },
  {
   "cell_type": "markdown",
   "metadata": {
    "id": "Im2YwBEG_Zct"
   },
   "source": [
    "Ещё раз посчитайте явные дубликаты в таблице — убедитесь, что полностью от них избавились:"
   ]
  },
  {
   "cell_type": "code",
   "execution_count": 13,
   "metadata": {
    "id": "-8PuNWQ0_Zct"
   },
   "outputs": [
    {
     "data": {
      "text/plain": [
       "0"
      ]
     },
     "execution_count": 13,
     "metadata": {},
     "output_type": "execute_result"
    }
   ],
   "source": [
    "df.duplicated().sum()# проверка на отсутствие дубликатов"
   ]
  },
  {
   "cell_type": "markdown",
   "metadata": {
    "id": "QlFBsxAr_Zct"
   },
   "source": [
    "Теперь избавьтесь от неявных дубликатов в колонке `genre`. Например, название одного и того же жанра может быть записано немного по-разному. Такие ошибки тоже повлияют на результат исследования."
   ]
  },
  {
   "cell_type": "markdown",
   "metadata": {
    "id": "eSjWwsOh_Zct"
   },
   "source": [
    "Выведите на экран список уникальных названий жанров, отсортированный в алфавитном порядке. Для этого:\n",
    "* извлеките нужный столбец датафрейма, \n",
    "* примените к нему метод сортировки,\n",
    "* для отсортированного столбца вызовите метод, который вернёт уникальные значения из столбца."
   ]
  },
  {
   "cell_type": "code",
   "execution_count": 14,
   "metadata": {
    "id": "JIUcqzZN_Zct"
   },
   "outputs": [
    {
     "data": {
      "text/plain": [
       "['acid',\n",
       " 'acoustic',\n",
       " 'action',\n",
       " 'adult',\n",
       " 'africa',\n",
       " 'afrikaans',\n",
       " 'alternative',\n",
       " 'alternativepunk',\n",
       " 'ambient',\n",
       " 'americana',\n",
       " 'animated',\n",
       " 'anime',\n",
       " 'arabesk',\n",
       " 'arabic',\n",
       " 'arena',\n",
       " 'argentinetango',\n",
       " 'art',\n",
       " 'audiobook',\n",
       " 'author',\n",
       " 'avantgarde',\n",
       " 'axé',\n",
       " 'baile',\n",
       " 'balkan',\n",
       " 'beats',\n",
       " 'bigroom',\n",
       " 'black',\n",
       " 'bluegrass',\n",
       " 'blues',\n",
       " 'bollywood',\n",
       " 'bossa',\n",
       " 'brazilian',\n",
       " 'breakbeat',\n",
       " 'breaks',\n",
       " 'broadway',\n",
       " 'cantautori',\n",
       " 'cantopop',\n",
       " 'canzone',\n",
       " 'caribbean',\n",
       " 'caucasian',\n",
       " 'celtic',\n",
       " 'chamber',\n",
       " 'chanson',\n",
       " 'children',\n",
       " 'chill',\n",
       " 'chinese',\n",
       " 'choral',\n",
       " 'christian',\n",
       " 'christmas',\n",
       " 'classical',\n",
       " 'classicmetal',\n",
       " 'club',\n",
       " 'colombian',\n",
       " 'comedy',\n",
       " 'conjazz',\n",
       " 'contemporary',\n",
       " 'country',\n",
       " 'cuban',\n",
       " 'dance',\n",
       " 'dancehall',\n",
       " 'dancepop',\n",
       " 'dark',\n",
       " 'death',\n",
       " 'deep',\n",
       " 'deutschrock',\n",
       " 'deutschspr',\n",
       " 'dirty',\n",
       " 'disco',\n",
       " 'dnb',\n",
       " 'documentary',\n",
       " 'downbeat',\n",
       " 'downtempo',\n",
       " 'drum',\n",
       " 'dub',\n",
       " 'dubstep',\n",
       " 'eastern',\n",
       " 'easy',\n",
       " 'electronic',\n",
       " 'electropop',\n",
       " 'emo',\n",
       " 'entehno',\n",
       " 'epicmetal',\n",
       " 'estrada',\n",
       " 'ethnic',\n",
       " 'eurofolk',\n",
       " 'european',\n",
       " 'experimental',\n",
       " 'extrememetal',\n",
       " 'fado',\n",
       " 'fairytail',\n",
       " 'film',\n",
       " 'fitness',\n",
       " 'flamenco',\n",
       " 'folk',\n",
       " 'folklore',\n",
       " 'folkmetal',\n",
       " 'folkrock',\n",
       " 'folktronica',\n",
       " 'forró',\n",
       " 'frankreich',\n",
       " 'französisch',\n",
       " 'french',\n",
       " 'funk',\n",
       " 'future',\n",
       " 'gangsta',\n",
       " 'garage',\n",
       " 'german',\n",
       " 'ghazal',\n",
       " 'gitarre',\n",
       " 'glitch',\n",
       " 'gospel',\n",
       " 'gothic',\n",
       " 'grime',\n",
       " 'grunge',\n",
       " 'gypsy',\n",
       " 'handsup',\n",
       " \"hard'n'heavy\",\n",
       " 'hardcore',\n",
       " 'hardstyle',\n",
       " 'hardtechno',\n",
       " 'hip',\n",
       " 'hip-hop',\n",
       " 'hiphop',\n",
       " 'historisch',\n",
       " 'holiday',\n",
       " 'hop',\n",
       " 'horror',\n",
       " 'house',\n",
       " 'hymn',\n",
       " 'idm',\n",
       " 'independent',\n",
       " 'indian',\n",
       " 'indie',\n",
       " 'indipop',\n",
       " 'industrial',\n",
       " 'inspirational',\n",
       " 'instrumental',\n",
       " 'international',\n",
       " 'irish',\n",
       " 'jam',\n",
       " 'japanese',\n",
       " 'jazz',\n",
       " 'jewish',\n",
       " 'jpop',\n",
       " 'jungle',\n",
       " 'k-pop',\n",
       " 'karadeniz',\n",
       " 'karaoke',\n",
       " 'kayokyoku',\n",
       " 'korean',\n",
       " 'laiko',\n",
       " 'latin',\n",
       " 'latino',\n",
       " 'leftfield',\n",
       " 'local',\n",
       " 'lounge',\n",
       " 'loungeelectronic',\n",
       " 'lovers',\n",
       " 'malaysian',\n",
       " 'mandopop',\n",
       " 'marschmusik',\n",
       " 'meditative',\n",
       " 'mediterranean',\n",
       " 'melodic',\n",
       " 'metal',\n",
       " 'metalcore',\n",
       " 'mexican',\n",
       " 'middle',\n",
       " 'minimal',\n",
       " 'miscellaneous',\n",
       " 'modern',\n",
       " 'mood',\n",
       " 'mpb',\n",
       " 'muslim',\n",
       " 'native',\n",
       " 'neoklassik',\n",
       " 'neue',\n",
       " 'new',\n",
       " 'newage',\n",
       " 'newwave',\n",
       " 'nu',\n",
       " 'nujazz',\n",
       " 'numetal',\n",
       " 'oceania',\n",
       " 'old',\n",
       " 'opera',\n",
       " 'orchestral',\n",
       " 'other',\n",
       " 'piano',\n",
       " 'podcasts',\n",
       " 'pop',\n",
       " 'popdance',\n",
       " 'popelectronic',\n",
       " 'popeurodance',\n",
       " 'poprussian',\n",
       " 'post',\n",
       " 'posthardcore',\n",
       " 'postrock',\n",
       " 'power',\n",
       " 'progmetal',\n",
       " 'progressive',\n",
       " 'psychedelic',\n",
       " 'punjabi',\n",
       " 'punk',\n",
       " 'quebecois',\n",
       " 'ragga',\n",
       " 'ram',\n",
       " 'rancheras',\n",
       " 'rap',\n",
       " 'rave',\n",
       " 'reggae',\n",
       " 'reggaeton',\n",
       " 'regional',\n",
       " 'relax',\n",
       " 'religious',\n",
       " 'retro',\n",
       " 'rhythm',\n",
       " 'rnb',\n",
       " 'rnr',\n",
       " 'rock',\n",
       " 'rockabilly',\n",
       " 'rockalternative',\n",
       " 'rockindie',\n",
       " 'rockother',\n",
       " 'romance',\n",
       " 'roots',\n",
       " 'ruspop',\n",
       " 'rusrap',\n",
       " 'rusrock',\n",
       " 'russian',\n",
       " 'salsa',\n",
       " 'samba',\n",
       " 'scenic',\n",
       " 'schlager',\n",
       " 'self',\n",
       " 'sertanejo',\n",
       " 'shanson',\n",
       " 'shoegazing',\n",
       " 'showtunes',\n",
       " 'singer',\n",
       " 'ska',\n",
       " 'skarock',\n",
       " 'slow',\n",
       " 'smooth',\n",
       " 'soft',\n",
       " 'soul',\n",
       " 'soulful',\n",
       " 'sound',\n",
       " 'soundtrack',\n",
       " 'southern',\n",
       " 'specialty',\n",
       " 'speech',\n",
       " 'spiritual',\n",
       " 'sport',\n",
       " 'stonerrock',\n",
       " 'surf',\n",
       " 'swing',\n",
       " 'synthpop',\n",
       " 'synthrock',\n",
       " 'sängerportrait',\n",
       " 'tango',\n",
       " 'tanzorchester',\n",
       " 'taraftar',\n",
       " 'tatar',\n",
       " 'tech',\n",
       " 'techno',\n",
       " 'teen',\n",
       " 'thrash',\n",
       " 'top',\n",
       " 'traditional',\n",
       " 'tradjazz',\n",
       " 'trance',\n",
       " 'tribal',\n",
       " 'trip',\n",
       " 'triphop',\n",
       " 'tropical',\n",
       " 'türk',\n",
       " 'türkçe',\n",
       " 'ukrrock',\n",
       " 'unknown',\n",
       " 'urban',\n",
       " 'uzbek',\n",
       " 'variété',\n",
       " 'vi',\n",
       " 'videogame',\n",
       " 'vocal',\n",
       " 'western',\n",
       " 'world',\n",
       " 'worldbeat',\n",
       " 'ïîï',\n",
       " 'электроника']"
      ]
     },
     "execution_count": 14,
     "metadata": {},
     "output_type": "execute_result"
    }
   ],
   "source": [
    "sorted(df['genre'].unique())# Просмотр уникальных названий жанров"
   ]
  },
  {
   "cell_type": "markdown",
   "metadata": {
    "id": "qej-Qmuo_Zct"
   },
   "source": [
    "Просмотрите список и найдите неявные дубликаты названия `hiphop`. Это могут быть названия с ошибками или альтернативные названия того же жанра.\n",
    "\n",
    "Вы увидите следующие неявные дубликаты:\n",
    "* *hip*,\n",
    "* *hop*,\n",
    "* *hip-hop*.\n",
    "\n",
    "Чтобы очистить от них таблицу, напишите функцию `replace_wrong_genres()` с двумя параметрами: \n",
    "* `wrong_genres` — список дубликатов,\n",
    "* `correct_genre` — строка с правильным значением.\n",
    "\n",
    "Функция должна исправить колонку `genre` в таблице `df`: заменить каждое значение из списка `wrong_genres` на значение из `correct_genre`."
   ]
  },
  {
   "cell_type": "code",
   "execution_count": 15,
   "metadata": {
    "id": "ErNDkmns_Zct"
   },
   "outputs": [],
   "source": [
    "def replace_wrong_genres(wrong_genres, correct_genre):\n",
    "    for genre in wrong_genres:\n",
    "        df['genre'] = df['genre'].replace(genre, correct_genre)\n",
    "\n",
    "# Функция для замены неявных дубликатов"
   ]
  },
  {
   "cell_type": "markdown",
   "metadata": {
    "id": "aDoBJxbA_Zct"
   },
   "source": [
    "Вызовите `replace_wrong_genres()` и передайте ей такие аргументы, чтобы она устранила неявные дубликаты: вместо `hip`, `hop` и `hip-hop` в таблице должно быть значение `hiphop`:"
   ]
  },
  {
   "cell_type": "code",
   "execution_count": 16,
   "metadata": {
    "id": "YN5i2hpmSo09"
   },
   "outputs": [],
   "source": [
    "wrong_genres = ['hip', 'hop', 'hip-hop']\n",
    "replace_wrong_genres(wrong_genres, 'hiphop')\n",
    "\n",
    "# Устранение неявных дубликатов"
   ]
  },
  {
   "cell_type": "markdown",
   "metadata": {
    "id": "zQKF16_RG15m"
   },
   "source": [
    "Проверьте, что заменили неправильные названия:\n",
    "\n",
    "*   hip\n",
    "*   hop\n",
    "*   hip-hop\n",
    "\n",
    "Выведите отсортированный список уникальных значений столбца `genre`:"
   ]
  },
  {
   "cell_type": "code",
   "execution_count": 17,
   "metadata": {
    "id": "wvixALnFG15m"
   },
   "outputs": [
    {
     "data": {
      "text/plain": [
       "['acid',\n",
       " 'acoustic',\n",
       " 'action',\n",
       " 'adult',\n",
       " 'africa',\n",
       " 'afrikaans',\n",
       " 'alternative',\n",
       " 'alternativepunk',\n",
       " 'ambient',\n",
       " 'americana',\n",
       " 'animated',\n",
       " 'anime',\n",
       " 'arabesk',\n",
       " 'arabic',\n",
       " 'arena',\n",
       " 'argentinetango',\n",
       " 'art',\n",
       " 'audiobook',\n",
       " 'author',\n",
       " 'avantgarde',\n",
       " 'axé',\n",
       " 'baile',\n",
       " 'balkan',\n",
       " 'beats',\n",
       " 'bigroom',\n",
       " 'black',\n",
       " 'bluegrass',\n",
       " 'blues',\n",
       " 'bollywood',\n",
       " 'bossa',\n",
       " 'brazilian',\n",
       " 'breakbeat',\n",
       " 'breaks',\n",
       " 'broadway',\n",
       " 'cantautori',\n",
       " 'cantopop',\n",
       " 'canzone',\n",
       " 'caribbean',\n",
       " 'caucasian',\n",
       " 'celtic',\n",
       " 'chamber',\n",
       " 'chanson',\n",
       " 'children',\n",
       " 'chill',\n",
       " 'chinese',\n",
       " 'choral',\n",
       " 'christian',\n",
       " 'christmas',\n",
       " 'classical',\n",
       " 'classicmetal',\n",
       " 'club',\n",
       " 'colombian',\n",
       " 'comedy',\n",
       " 'conjazz',\n",
       " 'contemporary',\n",
       " 'country',\n",
       " 'cuban',\n",
       " 'dance',\n",
       " 'dancehall',\n",
       " 'dancepop',\n",
       " 'dark',\n",
       " 'death',\n",
       " 'deep',\n",
       " 'deutschrock',\n",
       " 'deutschspr',\n",
       " 'dirty',\n",
       " 'disco',\n",
       " 'dnb',\n",
       " 'documentary',\n",
       " 'downbeat',\n",
       " 'downtempo',\n",
       " 'drum',\n",
       " 'dub',\n",
       " 'dubstep',\n",
       " 'eastern',\n",
       " 'easy',\n",
       " 'electronic',\n",
       " 'electropop',\n",
       " 'emo',\n",
       " 'entehno',\n",
       " 'epicmetal',\n",
       " 'estrada',\n",
       " 'ethnic',\n",
       " 'eurofolk',\n",
       " 'european',\n",
       " 'experimental',\n",
       " 'extrememetal',\n",
       " 'fado',\n",
       " 'fairytail',\n",
       " 'film',\n",
       " 'fitness',\n",
       " 'flamenco',\n",
       " 'folk',\n",
       " 'folklore',\n",
       " 'folkmetal',\n",
       " 'folkrock',\n",
       " 'folktronica',\n",
       " 'forró',\n",
       " 'frankreich',\n",
       " 'französisch',\n",
       " 'french',\n",
       " 'funk',\n",
       " 'future',\n",
       " 'gangsta',\n",
       " 'garage',\n",
       " 'german',\n",
       " 'ghazal',\n",
       " 'gitarre',\n",
       " 'glitch',\n",
       " 'gospel',\n",
       " 'gothic',\n",
       " 'grime',\n",
       " 'grunge',\n",
       " 'gypsy',\n",
       " 'handsup',\n",
       " \"hard'n'heavy\",\n",
       " 'hardcore',\n",
       " 'hardstyle',\n",
       " 'hardtechno',\n",
       " 'hiphop',\n",
       " 'historisch',\n",
       " 'holiday',\n",
       " 'horror',\n",
       " 'house',\n",
       " 'hymn',\n",
       " 'idm',\n",
       " 'independent',\n",
       " 'indian',\n",
       " 'indie',\n",
       " 'indipop',\n",
       " 'industrial',\n",
       " 'inspirational',\n",
       " 'instrumental',\n",
       " 'international',\n",
       " 'irish',\n",
       " 'jam',\n",
       " 'japanese',\n",
       " 'jazz',\n",
       " 'jewish',\n",
       " 'jpop',\n",
       " 'jungle',\n",
       " 'k-pop',\n",
       " 'karadeniz',\n",
       " 'karaoke',\n",
       " 'kayokyoku',\n",
       " 'korean',\n",
       " 'laiko',\n",
       " 'latin',\n",
       " 'latino',\n",
       " 'leftfield',\n",
       " 'local',\n",
       " 'lounge',\n",
       " 'loungeelectronic',\n",
       " 'lovers',\n",
       " 'malaysian',\n",
       " 'mandopop',\n",
       " 'marschmusik',\n",
       " 'meditative',\n",
       " 'mediterranean',\n",
       " 'melodic',\n",
       " 'metal',\n",
       " 'metalcore',\n",
       " 'mexican',\n",
       " 'middle',\n",
       " 'minimal',\n",
       " 'miscellaneous',\n",
       " 'modern',\n",
       " 'mood',\n",
       " 'mpb',\n",
       " 'muslim',\n",
       " 'native',\n",
       " 'neoklassik',\n",
       " 'neue',\n",
       " 'new',\n",
       " 'newage',\n",
       " 'newwave',\n",
       " 'nu',\n",
       " 'nujazz',\n",
       " 'numetal',\n",
       " 'oceania',\n",
       " 'old',\n",
       " 'opera',\n",
       " 'orchestral',\n",
       " 'other',\n",
       " 'piano',\n",
       " 'podcasts',\n",
       " 'pop',\n",
       " 'popdance',\n",
       " 'popelectronic',\n",
       " 'popeurodance',\n",
       " 'poprussian',\n",
       " 'post',\n",
       " 'posthardcore',\n",
       " 'postrock',\n",
       " 'power',\n",
       " 'progmetal',\n",
       " 'progressive',\n",
       " 'psychedelic',\n",
       " 'punjabi',\n",
       " 'punk',\n",
       " 'quebecois',\n",
       " 'ragga',\n",
       " 'ram',\n",
       " 'rancheras',\n",
       " 'rap',\n",
       " 'rave',\n",
       " 'reggae',\n",
       " 'reggaeton',\n",
       " 'regional',\n",
       " 'relax',\n",
       " 'religious',\n",
       " 'retro',\n",
       " 'rhythm',\n",
       " 'rnb',\n",
       " 'rnr',\n",
       " 'rock',\n",
       " 'rockabilly',\n",
       " 'rockalternative',\n",
       " 'rockindie',\n",
       " 'rockother',\n",
       " 'romance',\n",
       " 'roots',\n",
       " 'ruspop',\n",
       " 'rusrap',\n",
       " 'rusrock',\n",
       " 'russian',\n",
       " 'salsa',\n",
       " 'samba',\n",
       " 'scenic',\n",
       " 'schlager',\n",
       " 'self',\n",
       " 'sertanejo',\n",
       " 'shanson',\n",
       " 'shoegazing',\n",
       " 'showtunes',\n",
       " 'singer',\n",
       " 'ska',\n",
       " 'skarock',\n",
       " 'slow',\n",
       " 'smooth',\n",
       " 'soft',\n",
       " 'soul',\n",
       " 'soulful',\n",
       " 'sound',\n",
       " 'soundtrack',\n",
       " 'southern',\n",
       " 'specialty',\n",
       " 'speech',\n",
       " 'spiritual',\n",
       " 'sport',\n",
       " 'stonerrock',\n",
       " 'surf',\n",
       " 'swing',\n",
       " 'synthpop',\n",
       " 'synthrock',\n",
       " 'sängerportrait',\n",
       " 'tango',\n",
       " 'tanzorchester',\n",
       " 'taraftar',\n",
       " 'tatar',\n",
       " 'tech',\n",
       " 'techno',\n",
       " 'teen',\n",
       " 'thrash',\n",
       " 'top',\n",
       " 'traditional',\n",
       " 'tradjazz',\n",
       " 'trance',\n",
       " 'tribal',\n",
       " 'trip',\n",
       " 'triphop',\n",
       " 'tropical',\n",
       " 'türk',\n",
       " 'türkçe',\n",
       " 'ukrrock',\n",
       " 'unknown',\n",
       " 'urban',\n",
       " 'uzbek',\n",
       " 'variété',\n",
       " 'vi',\n",
       " 'videogame',\n",
       " 'vocal',\n",
       " 'western',\n",
       " 'world',\n",
       " 'worldbeat',\n",
       " 'ïîï',\n",
       " 'электроника']"
      ]
     },
     "execution_count": 17,
     "metadata": {},
     "output_type": "execute_result"
    }
   ],
   "source": [
    "sorted(df['genre'].unique())# Проверка на неявные дубликаты"
   ]
  },
  {
   "cell_type": "markdown",
   "metadata": {
    "id": "jz6a9-7HQUDd"
   },
   "source": [
    "**Выводы**\n",
    "\n",
    "Предобработка обнаружила три проблемы в данных:\n",
    "\n",
    "- нарушения в стиле заголовков,\n",
    "- пропущенные значения,\n",
    "- дубликаты — явные и неявные.\n",
    "\n",
    "Вы исправили заголовки, чтобы упростить работу с таблицей. Без дубликатов исследование станет более точным.\n",
    "\n",
    "Пропущенные значения вы заменили на `'unknown'`. Ещё предстоит увидеть, не повредят ли исследованию пропуски в колонке `genre`.\n",
    "\n",
    "Теперь можно перейти к проверке гипотез. "
   ]
  },
  {
   "cell_type": "markdown",
   "metadata": {
    "id": "WttZHXH0SqKk"
   },
   "source": [
    "## Проверка гипотез"
   ]
  },
  {
   "cell_type": "markdown",
   "metadata": {
    "id": "Im936VVi_Zcu"
   },
   "source": [
    "### Сравнение поведения пользователей двух столиц"
   ]
  },
  {
   "cell_type": "markdown",
   "metadata": {
    "id": "nwt_MuaL_Zcu"
   },
   "source": [
    "Первая гипотеза утверждает, что пользователи по-разному слушают музыку в Москве и Санкт-Петербурге. Проверьте это предположение по данным о трёх днях недели — понедельнике, среде и пятнице. Для этого:\n",
    "\n",
    "* Разделите пользователей Москвы и Санкт-Петербурга\n",
    "* Сравните, сколько треков послушала каждая группа пользователей в понедельник, среду и пятницу.\n"
   ]
  },
  {
   "cell_type": "markdown",
   "metadata": {
    "id": "8Dw_YMmT_Zcu"
   },
   "source": [
    "Для тренировки сначала выполните каждый из расчётов по отдельности. \n",
    "\n",
    "Оцените активность пользователей в каждом городе. Сгруппируйте данные по городу и посчитайте прослушивания в каждой группе.\n",
    "\n"
   ]
  },
  {
   "cell_type": "code",
   "execution_count": 18,
   "metadata": {
    "id": "0_Qs96oh_Zcu",
    "scrolled": false
   },
   "outputs": [
    {
     "data": {
      "text/plain": [
       "city\n",
       "Moscow              42741\n",
       "Saint-Petersburg    18512\n",
       "Name: artist, dtype: int64"
      ]
     },
     "execution_count": 18,
     "metadata": {},
     "output_type": "execute_result"
    }
   ],
   "source": [
    "df.groupby('city')['artist'].count()# Подсчёт прослушиваний в каждом городе"
   ]
  },
  {
   "cell_type": "markdown",
   "metadata": {
    "id": "dzli3w8o_Zcu"
   },
   "source": [
    "В Москве прослушиваний больше, чем в Петербурге. Из этого не следует, что московские пользователи чаще слушают музыку. Просто самих пользователей в Москве больше.\n",
    "\n",
    "Теперь сгруппируйте данные по дню недели и подсчитайте прослушивания в понедельник, среду и пятницу. Учтите, что в данных есть информация только о прослушиваниях только за эти дни.\n"
   ]
  },
  {
   "cell_type": "code",
   "execution_count": 19,
   "metadata": {
    "id": "uZMKjiJz_Zcu",
    "scrolled": true
   },
   "outputs": [
    {
     "data": {
      "text/plain": [
       "day\n",
       "Friday       21840\n",
       "Monday       21354\n",
       "Wednesday    18059\n",
       "Name: artist, dtype: int64"
      ]
     },
     "execution_count": 19,
     "metadata": {},
     "output_type": "execute_result"
    }
   ],
   "source": [
    "df.groupby('day')['artist'].count()# Подсчёт прослушиваний в каждый из трёх дней"
   ]
  },
  {
   "cell_type": "markdown",
   "metadata": {
    "id": "cC2tNrlL_Zcu"
   },
   "source": [
    "В среднем пользователи из двух городов менее активны по средам. Но картина может измениться, если рассмотреть каждый город в отдельности."
   ]
  },
  {
   "cell_type": "markdown",
   "metadata": {
    "id": "POzs8bGa_Zcu"
   },
   "source": [
    "Вы видели, как работает группировка по городу и по дням недели. Теперь напишите функцию, которая объединит два эти расчёта.\n",
    "\n",
    "Создайте функцию `number_tracks()`, которая посчитает прослушивания для заданного дня и города. Ей понадобятся два параметра:\n",
    "* день недели,\n",
    "* название города.\n",
    "\n",
    "В функции сохраните в переменную строки исходной таблицы, у которых значение:\n",
    "  * в колонке `day` равно параметру `day`,\n",
    "  * в колонке `city` равно параметру `city`.\n",
    "\n",
    "Для этого примените последовательную фильтрацию с логической индексацией.\n",
    "\n",
    "Затем посчитайте значения в столбце `user_id` получившейся таблицы. Результат сохраните в новую переменную. Верните эту переменную из функции."
   ]
  },
  {
   "cell_type": "code",
   "execution_count": 20,
   "metadata": {
    "id": "Nz3GdQB1_Zcu"
   },
   "outputs": [],
   "source": [
    "def number_tracks(day, city):\n",
    "    track_list = df.loc[(df['day'] == day) & (df['city'] == city)]\n",
    "    track_list_count = track_list['user_id'].count()\n",
    "    return track_list_count\n",
    "\n",
    "# Функция для подсчёта прослушиваний для конкретного города и дня"
   ]
  },
  {
   "cell_type": "markdown",
   "metadata": {
    "id": "ytf7xFrFJQ2r"
   },
   "source": [
    "Вызовите `number_tracks()` шесть раз, меняя значение параметров — так, чтобы получить данные для каждого города в каждый из трёх дней."
   ]
  },
  {
   "cell_type": "code",
   "execution_count": 21,
   "metadata": {
    "id": "rJcRATNQ_Zcu"
   },
   "outputs": [
    {
     "data": {
      "text/plain": [
       "15740"
      ]
     },
     "execution_count": 21,
     "metadata": {},
     "output_type": "execute_result"
    }
   ],
   "source": [
    "number_tracks('Monday', 'Moscow')\n",
    "# количество прослушиваний в Москве по понедельникам"
   ]
  },
  {
   "cell_type": "code",
   "execution_count": 22,
   "metadata": {
    "id": "hq_ncZ5T_Zcu"
   },
   "outputs": [
    {
     "data": {
      "text/plain": [
       "5614"
      ]
     },
     "execution_count": 22,
     "metadata": {},
     "output_type": "execute_result"
    }
   ],
   "source": [
    "number_tracks('Monday', 'Saint-Petersburg')\n",
    "# количество прослушиваний в Санкт-Петербурге по понедельникам"
   ]
  },
  {
   "cell_type": "code",
   "execution_count": 23,
   "metadata": {
    "id": "_NTy2VPU_Zcu"
   },
   "outputs": [
    {
     "data": {
      "text/plain": [
       "11056"
      ]
     },
     "execution_count": 23,
     "metadata": {},
     "output_type": "execute_result"
    }
   ],
   "source": [
    "number_tracks('Wednesday', 'Moscow')\n",
    "# количество прослушиваний в Москве по средам"
   ]
  },
  {
   "cell_type": "code",
   "execution_count": 24,
   "metadata": {
    "id": "j2y3TAwo_Zcu"
   },
   "outputs": [
    {
     "data": {
      "text/plain": [
       "7003"
      ]
     },
     "execution_count": 24,
     "metadata": {},
     "output_type": "execute_result"
    }
   ],
   "source": [
    "number_tracks('Wednesday', 'Saint-Petersburg')\n",
    "# количество прослушиваний в Санкт-Петербурге по средам"
   ]
  },
  {
   "cell_type": "code",
   "execution_count": 25,
   "metadata": {
    "id": "vYDw5u_K_Zcu"
   },
   "outputs": [
    {
     "data": {
      "text/plain": [
       "15945"
      ]
     },
     "execution_count": 25,
     "metadata": {},
     "output_type": "execute_result"
    }
   ],
   "source": [
    "number_tracks('Friday', 'Moscow')\n",
    "# количество прослушиваний в Москве по пятницам"
   ]
  },
  {
   "cell_type": "code",
   "execution_count": 26,
   "metadata": {
    "id": "8_yzFtW3_Zcu"
   },
   "outputs": [
    {
     "data": {
      "text/plain": [
       "5895"
      ]
     },
     "execution_count": 26,
     "metadata": {},
     "output_type": "execute_result"
    }
   ],
   "source": [
    "number_tracks('Friday', 'Saint-Petersburg')\n",
    "# количество прослушиваний в Санкт-Петербурге по пятницам"
   ]
  },
  {
   "cell_type": "markdown",
   "metadata": {
    "id": "7QXffbO-_Zcu"
   },
   "source": [
    "Создайте c помощью конструктора `pd.DataFrame` таблицу, где\n",
    "* названия колонок — `['city', 'monday', 'wednesday', 'friday']`;\n",
    "* данные — результаты, которые вы получили с помощью `number_tracks`."
   ]
  },
  {
   "cell_type": "code",
   "execution_count": 27,
   "metadata": {
    "id": "APAcLpOr_Zcu"
   },
   "outputs": [
    {
     "data": {
      "text/html": [
       "<div>\n",
       "<style scoped>\n",
       "    .dataframe tbody tr th:only-of-type {\n",
       "        vertical-align: middle;\n",
       "    }\n",
       "\n",
       "    .dataframe tbody tr th {\n",
       "        vertical-align: top;\n",
       "    }\n",
       "\n",
       "    .dataframe thead th {\n",
       "        text-align: right;\n",
       "    }\n",
       "</style>\n",
       "<table border=\"1\" class=\"dataframe\">\n",
       "  <thead>\n",
       "    <tr style=\"text-align: right;\">\n",
       "      <th></th>\n",
       "      <th>city</th>\n",
       "      <th>monday</th>\n",
       "      <th>wednesday</th>\n",
       "      <th>friday</th>\n",
       "    </tr>\n",
       "  </thead>\n",
       "  <tbody>\n",
       "    <tr>\n",
       "      <td>0</td>\n",
       "      <td>Moscow</td>\n",
       "      <td>15740</td>\n",
       "      <td>11056</td>\n",
       "      <td>15945</td>\n",
       "    </tr>\n",
       "    <tr>\n",
       "      <td>1</td>\n",
       "      <td>Saint-Peterburg</td>\n",
       "      <td>5614</td>\n",
       "      <td>7003</td>\n",
       "      <td>5895</td>\n",
       "    </tr>\n",
       "  </tbody>\n",
       "</table>\n",
       "</div>"
      ],
      "text/plain": [
       "              city  monday  wednesday  friday\n",
       "0           Moscow   15740      11056   15945\n",
       "1  Saint-Peterburg    5614       7003    5895"
      ]
     },
     "metadata": {},
     "output_type": "display_data"
    }
   ],
   "source": [
    "columns = ['city', 'monday', 'wednesday', 'friday']\n",
    "data = [\n",
    "    ['Moscow', 15740, 11056, 15945],\n",
    "    ['Saint-Peterburg', 5614, 7003, 5895]\n",
    "]\n",
    "results = pd.DataFrame(columns = columns, data = data) #Таблица с результатами\n",
    "display (results) "
   ]
  },
  {
   "cell_type": "markdown",
   "metadata": {
    "id": "-EgPIHYu_Zcu"
   },
   "source": [
    "**Выводы**\n",
    "\n",
    "Данные показывают разницу поведения пользователей:\n",
    "\n",
    "- В Москве пик прослушиваний приходится на понедельник и пятницу, а в среду заметен спад.\n",
    "- В Петербурге, наоборот, больше слушают музыку по средам. Активность в понедельник и пятницу здесь почти в равной мере уступает среде.\n",
    "\n",
    "Значит, данные говорят в пользу первой гипотезы."
   ]
  },
  {
   "cell_type": "markdown",
   "metadata": {
    "id": "atZAxtq4_Zcu"
   },
   "source": [
    "### Музыка в начале и в конце недели"
   ]
  },
  {
   "cell_type": "markdown",
   "metadata": {
    "id": "eXrQqXFH_Zcu"
   },
   "source": [
    "Согласно второй гипотезе, утром в понедельник в Москве преобладают одни жанры, а в Петербурге — другие. Так же и вечером пятницы преобладают разные жанры — в зависимости от города."
   ]
  },
  {
   "cell_type": "markdown",
   "metadata": {
    "id": "S8UcW6Hw_Zcu"
   },
   "source": [
    "Сохраните таблицы с данными в две переменные:\n",
    "* по Москве — в `moscow_general`;\n",
    "* по Санкт-Петербургу — в `spb_general`."
   ]
  },
  {
   "cell_type": "code",
   "execution_count": 28,
   "metadata": {
    "id": "qeaFfM_P_Zcu"
   },
   "outputs": [],
   "source": [
    "moscow_general = df.loc[df['city'] == 'Moscow']# получение таблицы moscow_general из тех строк таблицы df, \n",
    "# для которых значение в столбце 'city' равно 'Moscow'\n"
   ]
  },
  {
   "cell_type": "code",
   "execution_count": 29,
   "metadata": {
    "id": "ORaVRKto_Zcu"
   },
   "outputs": [],
   "source": [
    "spb_general = df.loc[df['city'] == 'Saint-Petersburg']# получение таблицы spb_general из тех строк таблицы df,\n",
    "# для которых значение в столбце 'city' равно 'Saint-Petersburg'\n"
   ]
  },
  {
   "cell_type": "markdown",
   "metadata": {
    "id": "MEJV-CX2_Zcu"
   },
   "source": [
    "Создайте функцию `genre_weekday()` с четырьмя параметрами:\n",
    "* таблица (датафрейм) с данными,\n",
    "* день недели,\n",
    "* начальная временная метка в формате 'hh:mm', \n",
    "* последняя временная метка в формате 'hh:mm'.\n",
    "\n",
    "Функция должна вернуть информацию о топ-10 жанров тех треков, которые прослушивали в указанный день, в промежутке между двумя отметками времени."
   ]
  },
  {
   "cell_type": "code",
   "execution_count": 30,
   "metadata": {
    "id": "laJT9BYl_Zcu"
   },
   "outputs": [],
   "source": [
    "def genre_weekday(table, day, time1, time2):\n",
    "    genre_df =  table.loc[(table['day'] == day) & (table['time'] > time1) & (table['time'] < time2)]\n",
    "    genre_df_count = genre_df.groupby('genre')['genre'].count()\n",
    "    genre_df_sorted = genre_df_count.sort_values(ascending = False)\n",
    "    return genre_df_sorted[:10]\n",
    "\n",
    "\n",
    "# Объявление функции genre_weekday() с параметрами table, day, time1, time2,\n",
    "# которая возвращает информацию о самых популярных жанрах в указанный день в\n",
    "# заданное время:\n",
    "# 1) в переменную genre_df сохраняются те строки переданного датафрейма table, для\n",
    "#    которых одновременно:\n",
    "#    - значение в столбце day равно значению аргумента day\n",
    "#    - значение в столбце time больше значения аргумента time1\n",
    "#    - значение в столбце time меньше значения аргумента time2\n",
    "#    Используйте последовательную фильтрацию с помощью логической индексации.\n",
    "# 2) сгруппировать датафрейм genre_df по столбцу genre, взять один из его\n",
    "#    столбцов и посчитать методом count() количество записей для каждого из\n",
    "#    присутствующих жанров, получившийся Series записать в переменную\n",
    "#    genre_df_count\n",
    "# 3) отсортировать genre_df_count по убыванию встречаемости и сохранить\n",
    "#    в переменную genre_df_sorted\n",
    "# 4) вернуть Series из 10 первых значений genre_df_sorted, это будут топ-10\n",
    "#    популярных жанров (в указанный день, в заданное время)"
   ]
  },
  {
   "cell_type": "markdown",
   "metadata": {
    "id": "la2s2_PF_Zcu"
   },
   "source": [
    "Cравните результаты функции `genre_weekday()` для Москвы и Санкт-Петербурга в понедельник утром (с 7:00 до 11:00) и в пятницу вечером (с 17:00 до 23:00):"
   ]
  },
  {
   "cell_type": "code",
   "execution_count": 31,
   "metadata": {
    "id": "yz7itPUQ_Zcu"
   },
   "outputs": [
    {
     "data": {
      "text/plain": [
       "genre\n",
       "pop            781\n",
       "dance          549\n",
       "electronic     480\n",
       "rock           474\n",
       "hiphop         286\n",
       "ruspop         186\n",
       "world          181\n",
       "rusrap         175\n",
       "alternative    164\n",
       "unknown        161\n",
       "Name: genre, dtype: int64"
      ]
     },
     "execution_count": 31,
     "metadata": {},
     "output_type": "execute_result"
    }
   ],
   "source": [
    "genre_weekday(moscow_general, 'Monday', '07:00', '11:00')# вызов функции для утра понедельника в Москве "
   ]
  },
  {
   "cell_type": "code",
   "execution_count": 32,
   "metadata": {
    "id": "kwUcHPdy_Zcu"
   },
   "outputs": [
    {
     "data": {
      "text/plain": [
       "genre\n",
       "pop            218\n",
       "dance          182\n",
       "rock           162\n",
       "electronic     147\n",
       "hiphop          80\n",
       "ruspop          64\n",
       "alternative     58\n",
       "rusrap          55\n",
       "jazz            44\n",
       "classical       40\n",
       "Name: genre, dtype: int64"
      ]
     },
     "execution_count": 32,
     "metadata": {},
     "output_type": "execute_result"
    }
   ],
   "source": [
    "genre_weekday(spb_general, 'Monday', '07:00', '11:00')# вызов функции для утра понедельника в Петербурге "
   ]
  },
  {
   "cell_type": "code",
   "execution_count": 33,
   "metadata": {
    "id": "EzXVRE1o_Zcu"
   },
   "outputs": [
    {
     "data": {
      "text/plain": [
       "genre\n",
       "pop            713\n",
       "rock           517\n",
       "dance          495\n",
       "electronic     482\n",
       "hiphop         273\n",
       "world          208\n",
       "ruspop         170\n",
       "alternative    163\n",
       "classical      163\n",
       "rusrap         142\n",
       "Name: genre, dtype: int64"
      ]
     },
     "execution_count": 33,
     "metadata": {},
     "output_type": "execute_result"
    }
   ],
   "source": [
    "genre_weekday(moscow_general, 'Friday', '17:00', '23:00')# вызов функции для вечера пятницы в Москве"
   ]
  },
  {
   "cell_type": "code",
   "execution_count": 34,
   "metadata": {
    "id": "JZaEKu5v_Zcu"
   },
   "outputs": [
    {
     "data": {
      "text/plain": [
       "genre\n",
       "pop            256\n",
       "rock           216\n",
       "electronic     216\n",
       "dance          210\n",
       "hiphop          97\n",
       "alternative     63\n",
       "jazz            61\n",
       "classical       60\n",
       "rusrap          59\n",
       "world           54\n",
       "Name: genre, dtype: int64"
      ]
     },
     "execution_count": 34,
     "metadata": {},
     "output_type": "execute_result"
    }
   ],
   "source": [
    "genre_weekday(spb_general, 'Friday', '17:00', '23:00')# вызов функции для вечера пятницы в Петербурге"
   ]
  },
  {
   "cell_type": "markdown",
   "metadata": {
    "id": "wrCe4MNX_Zcu"
   },
   "source": [
    "**Выводы**\n",
    "\n",
    "Если сравнить топ-10 жанров в понедельник утром, можно сделать такие выводы:\n",
    "\n",
    "1. В Москве и Петербурге слушают похожую музыку. Единственное отличие — в московский рейтинг вошёл жанр “world”, а в петербургский — джаз и классика.\n",
    "\n",
    "2. В Москве пропущенных значений оказалось так много, что значение `'unknown'` заняло десятое место среди самых популярных жанров. Значит, пропущенные значения занимают существенную долю в данных и угрожают достоверности исследования.\n",
    "\n",
    "Вечер пятницы не меняет эту картину. Некоторые жанры поднимаются немного выше, другие спускаются, но в целом топ-10 остаётся тем же самым.\n",
    "\n",
    "Таким образом, вторая гипотеза подтвердилась лишь частично:\n",
    "* Пользователи слушают похожую музыку в начале недели и в конце.\n",
    "* Разница между Москвой и Петербургом не слишком выражена. В Москве чаще слушают русскую популярную музыку, в Петербурге — джаз.\n",
    "\n",
    "Однако пропуски в данных ставят под сомнение этот результат. В Москве их так много, что рейтинг топ-10 мог бы выглядеть иначе, если бы не утерянные  данные о жанрах."
   ]
  },
  {
   "cell_type": "markdown",
   "metadata": {
    "id": "JolODAqr_Zcu"
   },
   "source": [
    "### Жанровые предпочтения в Москве и Петербурге\n",
    "\n",
    "Гипотеза: Петербург — столица рэпа, музыку этого жанра там слушают чаще, чем в Москве.  А Москва — город контрастов, в котором, тем не менее, преобладает поп-музыка."
   ]
  },
  {
   "cell_type": "markdown",
   "metadata": {
    "id": "DlegSvaT_Zcu"
   },
   "source": [
    "Сгруппируйте таблицу `moscow_general` по жанру и посчитайте прослушивания треков каждого жанра методом `count()`. Затем отсортируйте результат в порядке убывания и сохраните его в таблице `moscow_genres`."
   ]
  },
  {
   "cell_type": "code",
   "execution_count": 35,
   "metadata": {
    "id": "r19lIPke_Zcu"
   },
   "outputs": [],
   "source": [
    "moscow_genres = moscow_general.groupby('genre')['genre'].count().sort_values(ascending = False)# одной строкой: группировка таблицы moscow_general по столбцу 'genre', \n",
    "# подсчёт числа значений 'genre' в этой группировке методом count(), \n",
    "# сортировка получившегося Series в порядке убывания и сохранение в moscow_genres"
   ]
  },
  {
   "cell_type": "markdown",
   "metadata": {
    "id": "6kMuomxTiIr8"
   },
   "source": [
    "Выведите на экран первые десять строк `moscow_genres`:"
   ]
  },
  {
   "cell_type": "code",
   "execution_count": 36,
   "metadata": {
    "id": "WhCSooF8_Zcv"
   },
   "outputs": [
    {
     "data": {
      "text/plain": [
       "genre\n",
       "pop            5892\n",
       "dance          4435\n",
       "rock           3965\n",
       "electronic     3786\n",
       "hiphop         2096\n",
       "classical      1616\n",
       "world          1432\n",
       "alternative    1379\n",
       "ruspop         1372\n",
       "rusrap         1161\n",
       "Name: genre, dtype: int64"
      ]
     },
     "execution_count": 36,
     "metadata": {},
     "output_type": "execute_result"
    }
   ],
   "source": [
    "moscow_genres.head(10)# просмотр первых 10 строк moscow_genres"
   ]
  },
  {
   "cell_type": "markdown",
   "metadata": {
    "id": "cnPG2vnN_Zcv"
   },
   "source": [
    "Теперь повторите то же и для Петербурга.\n",
    "\n",
    "Сгруппируйте таблицу `spb_general` по жанру. Посчитайте прослушивания треков каждого жанра. Результат отсортируйте в порядке убывания и сохраните в таблице `spb_genres`:\n"
   ]
  },
  {
   "cell_type": "code",
   "execution_count": 37,
   "metadata": {
    "id": "gluLIpE7_Zcv"
   },
   "outputs": [],
   "source": [
    "spb_genres = spb_general.groupby('genre')['genre'].count().sort_values(ascending = False)# одной строкой: группировка таблицы spb_general по столбцу 'genre', \n",
    "# подсчёт числа значений 'genre' в этой группировке методом count(), \n",
    "# сортировка получившегося Series в порядке убывания и сохранение в spb_genres"
   ]
  },
  {
   "cell_type": "markdown",
   "metadata": {
    "id": "5Doha_ODgyQ8"
   },
   "source": [
    "Выведите на экран первые десять строк `spb_genres`:"
   ]
  },
  {
   "cell_type": "code",
   "execution_count": 38,
   "metadata": {
    "id": "uaGJHjVU_Zcv"
   },
   "outputs": [
    {
     "data": {
      "text/plain": [
       "genre\n",
       "pop            2431\n",
       "dance          1932\n",
       "rock           1879\n",
       "electronic     1736\n",
       "hiphop          960\n",
       "alternative     649\n",
       "classical       646\n",
       "rusrap          564\n",
       "ruspop          538\n",
       "world           515\n",
       "Name: genre, dtype: int64"
      ]
     },
     "execution_count": 38,
     "metadata": {},
     "output_type": "execute_result"
    }
   ],
   "source": [
    "spb_genres.head(10)# просмотр первых 10 строк spb_genres"
   ]
  },
  {
   "cell_type": "markdown",
   "metadata": {
    "id": "RY51YJYu_Zcv"
   },
   "source": [
    "**Выводы**"
   ]
  },
  {
   "cell_type": "markdown",
   "metadata": {
    "id": "nVhnJEm__Zcv"
   },
   "source": [
    "Гипотеза частично подтвердилась:\n",
    "* Поп-музыка — самый популярный жанр в Москве, как и предполагала гипотеза. Более того, в топ-10 жанров встречается близкий жанр — русская популярная музыка.\n",
    "* Вопреки ожиданиям, рэп одинаково популярен в Москве и Петербурге. \n"
   ]
  },
  {
   "cell_type": "markdown",
   "metadata": {
    "id": "ykKQ0N65_Zcv"
   },
   "source": [
    "## Итоги исследования"
   ]
  },
  {
   "cell_type": "markdown",
   "metadata": {
    "id": "tjUwbHb3_Zcv"
   },
   "source": [
    "Вы проверили три гипотезы и установили:\n",
    "\n",
    "1. День недели по-разному влияет на активность пользователей в Москве и Петербурге. \n",
    "\n",
    "Первая гипотеза полностью подтвердилась.\n",
    "\n",
    "2. Музыкальные предпочтения не сильно меняются в течение недели — будь то Москва или Петербург. Небольшие различия заметны в начале недели, по понедельникам:\n",
    "* в Москве слушают музыку жанра “world”,\n",
    "* в Петербурге — джаз и классику.\n",
    "\n",
    "Таким образом, вторая гипотеза подтвердилась лишь отчасти. Этот результат мог оказаться иным, если бы не пропуски в данных.\n",
    "\n",
    "3. Во вкусах пользователей Москвы и Петербурга больше общего чем различий. Вопреки ожиданиям, предпочтения жанров в Петербурге напоминают московские.\n",
    "\n",
    "Третья гипотеза не подтвердилась. Если различия в предпочтениях и существуют, на основной массе пользователей они незаметны.\n",
    "\n",
    "**На практике исследования содержат проверки статистических гипотез.**\n",
    "Из данных одного сервиса не всегда можно сделать вывод о всех жителях города.\n",
    "Проверки статистических гипотез покажут, насколько они достоверны, исходя из имеющихся данных. \n",
    "С методами проверок гипотез вы ещё познакомитесь в следующих темах."
   ]
  }
 ],
 "metadata": {
  "ExecuteTimeLog": [
   {
    "duration": 740,
    "start_time": "2021-10-17T13:59:50.799Z"
   },
   {
    "duration": 182,
    "start_time": "2021-10-17T14:01:07.983Z"
   },
   {
    "duration": 26,
    "start_time": "2021-10-17T14:03:08.226Z"
   },
   {
    "duration": 12,
    "start_time": "2021-10-17T14:03:39.605Z"
   },
   {
    "duration": 32,
    "start_time": "2021-10-17T14:04:07.183Z"
   },
   {
    "duration": 479,
    "start_time": "2021-10-17T14:05:03.765Z"
   },
   {
    "duration": 5,
    "start_time": "2021-10-17T14:05:09.860Z"
   },
   {
    "duration": 40,
    "start_time": "2021-10-17T14:06:51.804Z"
   },
   {
    "duration": 6,
    "start_time": "2021-10-17T14:07:16.457Z"
   },
   {
    "duration": 28,
    "start_time": "2021-10-17T14:09:25.620Z"
   },
   {
    "duration": 6,
    "start_time": "2021-10-17T14:09:31.655Z"
   },
   {
    "duration": 31,
    "start_time": "2021-10-17T14:10:01.045Z"
   },
   {
    "duration": 30,
    "start_time": "2021-10-17T14:11:21.427Z"
   },
   {
    "duration": 368,
    "start_time": "2021-10-17T14:13:52.714Z"
   },
   {
    "duration": 19,
    "start_time": "2021-10-17T14:14:37.235Z"
   },
   {
    "duration": 31,
    "start_time": "2021-10-17T14:14:54.029Z"
   },
   {
    "duration": 20,
    "start_time": "2021-10-17T14:15:28.624Z"
   },
   {
    "duration": 30,
    "start_time": "2021-10-17T14:15:31.583Z"
   },
   {
    "duration": 23,
    "start_time": "2021-10-17T14:16:57.389Z"
   },
   {
    "duration": 30,
    "start_time": "2021-10-17T14:17:00.668Z"
   },
   {
    "duration": 376,
    "start_time": "2021-10-17T14:17:25.413Z"
   },
   {
    "duration": 79,
    "start_time": "2021-10-17T14:17:44.817Z"
   },
   {
    "duration": 95,
    "start_time": "2021-10-17T14:18:08.202Z"
   },
   {
    "duration": 87,
    "start_time": "2021-10-17T14:18:14.979Z"
   },
   {
    "duration": 79,
    "start_time": "2021-10-17T14:18:27.384Z"
   },
   {
    "duration": 10,
    "start_time": "2021-10-17T14:19:10.811Z"
   },
   {
    "duration": 403,
    "start_time": "2021-10-17T14:19:49.551Z"
   },
   {
    "duration": 367,
    "start_time": "2021-10-17T14:19:59.383Z"
   },
   {
    "duration": 391,
    "start_time": "2021-10-17T14:20:50.537Z"
   },
   {
    "duration": 453,
    "start_time": "2021-10-17T14:59:03.471Z"
   },
   {
    "duration": 92,
    "start_time": "2021-10-17T15:03:18.701Z"
   },
   {
    "duration": 77,
    "start_time": "2021-10-17T15:03:23.065Z"
   },
   {
    "duration": 9,
    "start_time": "2021-10-17T15:03:37.858Z"
   },
   {
    "duration": 93,
    "start_time": "2021-10-17T15:04:50.976Z"
   },
   {
    "duration": 122,
    "start_time": "2021-10-17T15:04:55.310Z"
   },
   {
    "duration": 14,
    "start_time": "2021-10-17T15:06:06.644Z"
   },
   {
    "duration": 126,
    "start_time": "2021-10-17T15:12:32.567Z"
   },
   {
    "duration": 385,
    "start_time": "2021-10-17T15:12:44.945Z"
   },
   {
    "duration": 908,
    "start_time": "2021-10-17T15:12:58.041Z"
   },
   {
    "duration": 4,
    "start_time": "2021-10-17T15:16:58.596Z"
   },
   {
    "duration": 122,
    "start_time": "2021-10-17T15:18:04.929Z"
   },
   {
    "duration": 183,
    "start_time": "2021-10-17T15:26:44.091Z"
   },
   {
    "duration": 15,
    "start_time": "2021-10-17T15:27:17.204Z"
   },
   {
    "duration": 15,
    "start_time": "2021-10-17T15:28:01.330Z"
   },
   {
    "duration": 22,
    "start_time": "2021-10-17T15:29:43.795Z"
   },
   {
    "duration": 24,
    "start_time": "2021-10-17T15:30:05.486Z"
   },
   {
    "duration": 25,
    "start_time": "2021-10-17T15:31:19.580Z"
   },
   {
    "duration": 132,
    "start_time": "2021-10-17T17:53:40.264Z"
   },
   {
    "duration": 122,
    "start_time": "2021-10-17T17:53:51.249Z"
   },
   {
    "duration": 426,
    "start_time": "2021-10-17T17:54:00.610Z"
   },
   {
    "duration": 122,
    "start_time": "2021-10-17T17:54:15.801Z"
   },
   {
    "duration": 5,
    "start_time": "2021-10-17T17:56:30.465Z"
   },
   {
    "duration": 710,
    "start_time": "2021-10-17T17:56:35.377Z"
   },
   {
    "duration": 786,
    "start_time": "2021-10-17T17:57:33.040Z"
   },
   {
    "duration": 751,
    "start_time": "2021-10-17T17:57:46.016Z"
   },
   {
    "duration": 792,
    "start_time": "2021-10-17T18:12:47.228Z"
   },
   {
    "duration": 373,
    "start_time": "2021-10-18T14:34:54.931Z"
   },
   {
    "duration": 378,
    "start_time": "2021-10-18T14:35:27.694Z"
   },
   {
    "duration": 315,
    "start_time": "2021-10-18T14:51:22.824Z"
   },
   {
    "duration": 3,
    "start_time": "2021-10-18T15:15:38.618Z"
   },
   {
    "duration": 679,
    "start_time": "2021-10-18T15:15:41.793Z"
   },
   {
    "duration": 612,
    "start_time": "2021-10-18T15:24:12.497Z"
   },
   {
    "duration": 131,
    "start_time": "2021-10-18T15:24:13.111Z"
   },
   {
    "duration": 15,
    "start_time": "2021-10-18T15:24:13.245Z"
   },
   {
    "duration": 43,
    "start_time": "2021-10-18T15:24:13.262Z"
   },
   {
    "duration": 5,
    "start_time": "2021-10-18T15:24:13.307Z"
   },
   {
    "duration": 20,
    "start_time": "2021-10-18T15:24:13.314Z"
   },
   {
    "duration": 6,
    "start_time": "2021-10-18T15:24:13.336Z"
   },
   {
    "duration": 42,
    "start_time": "2021-10-18T15:24:13.344Z"
   },
   {
    "duration": 16,
    "start_time": "2021-10-18T15:24:13.389Z"
   },
   {
    "duration": 20,
    "start_time": "2021-10-18T15:24:13.407Z"
   },
   {
    "duration": 80,
    "start_time": "2021-10-18T15:24:13.429Z"
   },
   {
    "duration": 67,
    "start_time": "2021-10-18T15:24:13.510Z"
   },
   {
    "duration": 54,
    "start_time": "2021-10-18T15:24:13.579Z"
   },
   {
    "duration": 8,
    "start_time": "2021-10-18T15:24:13.635Z"
   },
   {
    "duration": 3,
    "start_time": "2021-10-18T15:24:13.645Z"
   },
   {
    "duration": 32,
    "start_time": "2021-10-18T15:24:13.650Z"
   },
   {
    "duration": 11,
    "start_time": "2021-10-18T15:24:13.684Z"
   },
   {
    "duration": 4683,
    "start_time": "2021-10-18T15:24:13.696Z"
   },
   {
    "duration": 2143,
    "start_time": "2021-10-18T15:24:18.381Z"
   },
   {
    "duration": 3,
    "start_time": "2021-10-18T15:24:20.526Z"
   },
   {
    "duration": 18,
    "start_time": "2021-10-18T15:24:20.530Z"
   },
   {
    "duration": 143,
    "start_time": "2021-10-18T15:24:20.550Z"
   },
   {
    "duration": 3203,
    "start_time": "2021-10-18T15:24:17.492Z"
   },
   {
    "duration": 3199,
    "start_time": "2021-10-18T15:24:17.497Z"
   },
   {
    "duration": 3195,
    "start_time": "2021-10-18T15:24:17.502Z"
   },
   {
    "duration": 3183,
    "start_time": "2021-10-18T15:24:17.515Z"
   },
   {
    "duration": 3170,
    "start_time": "2021-10-18T15:24:17.529Z"
   },
   {
    "duration": 3166,
    "start_time": "2021-10-18T15:24:17.534Z"
   },
   {
    "duration": 3157,
    "start_time": "2021-10-18T15:24:17.544Z"
   },
   {
    "duration": 3154,
    "start_time": "2021-10-18T15:24:17.548Z"
   },
   {
    "duration": 3145,
    "start_time": "2021-10-18T15:24:17.558Z"
   },
   {
    "duration": 3141,
    "start_time": "2021-10-18T15:24:17.563Z"
   },
   {
    "duration": 3136,
    "start_time": "2021-10-18T15:24:17.569Z"
   },
   {
    "duration": 3134,
    "start_time": "2021-10-18T15:24:17.572Z"
   },
   {
    "duration": 3130,
    "start_time": "2021-10-18T15:24:17.577Z"
   },
   {
    "duration": 3128,
    "start_time": "2021-10-18T15:24:17.580Z"
   },
   {
    "duration": 3124,
    "start_time": "2021-10-18T15:24:17.585Z"
   },
   {
    "duration": 3121,
    "start_time": "2021-10-18T15:24:17.588Z"
   },
   {
    "duration": 14,
    "start_time": "2021-10-18T15:24:55.613Z"
   },
   {
    "duration": 16,
    "start_time": "2021-10-18T15:26:51.387Z"
   },
   {
    "duration": 14,
    "start_time": "2021-10-18T15:26:54.500Z"
   },
   {
    "duration": 17,
    "start_time": "2021-10-18T15:28:42.716Z"
   },
   {
    "duration": 16,
    "start_time": "2021-10-18T15:28:47.352Z"
   },
   {
    "duration": 112,
    "start_time": "2021-10-18T15:43:13.918Z"
   },
   {
    "duration": 151,
    "start_time": "2021-10-18T15:43:24.712Z"
   },
   {
    "duration": 585,
    "start_time": "2021-10-18T15:43:34.912Z"
   },
   {
    "duration": 329,
    "start_time": "2021-10-18T15:44:08.161Z"
   },
   {
    "duration": 755,
    "start_time": "2021-10-18T15:45:18.169Z"
   },
   {
    "duration": 317,
    "start_time": "2021-10-18T15:45:22.414Z"
   },
   {
    "duration": 8,
    "start_time": "2021-10-18T15:45:42.670Z"
   },
   {
    "duration": 117,
    "start_time": "2021-10-18T15:46:37.229Z"
   },
   {
    "duration": 8,
    "start_time": "2021-10-18T15:46:41.999Z"
   },
   {
    "duration": 12,
    "start_time": "2021-10-18T15:49:11.095Z"
   },
   {
    "duration": 9,
    "start_time": "2021-10-18T15:49:15.171Z"
   },
   {
    "duration": 102,
    "start_time": "2021-10-18T16:00:45.822Z"
   },
   {
    "duration": 4,
    "start_time": "2021-10-18T16:00:55.498Z"
   },
   {
    "duration": 713,
    "start_time": "2021-10-18T16:01:56.850Z"
   },
   {
    "duration": 4,
    "start_time": "2021-10-18T16:28:00.962Z"
   },
   {
    "duration": 19,
    "start_time": "2021-10-18T16:28:05.299Z"
   },
   {
    "duration": 4,
    "start_time": "2021-10-18T16:30:51.599Z"
   },
   {
    "duration": 20,
    "start_time": "2021-10-18T16:30:56.202Z"
   },
   {
    "duration": 5,
    "start_time": "2021-10-19T12:22:25.444Z"
   },
   {
    "duration": 297,
    "start_time": "2021-10-19T12:22:31.811Z"
   },
   {
    "duration": 643,
    "start_time": "2021-10-19T12:22:44.437Z"
   },
   {
    "duration": 152,
    "start_time": "2021-10-19T12:22:45.082Z"
   },
   {
    "duration": 17,
    "start_time": "2021-10-19T12:22:45.236Z"
   },
   {
    "duration": 31,
    "start_time": "2021-10-19T12:22:45.255Z"
   },
   {
    "duration": 15,
    "start_time": "2021-10-19T12:22:45.288Z"
   },
   {
    "duration": 34,
    "start_time": "2021-10-19T12:22:45.305Z"
   },
   {
    "duration": 4,
    "start_time": "2021-10-19T12:22:45.341Z"
   },
   {
    "duration": 30,
    "start_time": "2021-10-19T12:22:45.348Z"
   },
   {
    "duration": 27,
    "start_time": "2021-10-19T12:22:45.380Z"
   },
   {
    "duration": 32,
    "start_time": "2021-10-19T12:22:45.409Z"
   },
   {
    "duration": 66,
    "start_time": "2021-10-19T12:22:45.443Z"
   },
   {
    "duration": 79,
    "start_time": "2021-10-19T12:22:45.511Z"
   },
   {
    "duration": 53,
    "start_time": "2021-10-19T12:22:45.592Z"
   },
   {
    "duration": 23,
    "start_time": "2021-10-19T12:22:45.646Z"
   },
   {
    "duration": 3,
    "start_time": "2021-10-19T12:22:45.670Z"
   },
   {
    "duration": 20,
    "start_time": "2021-10-19T12:22:45.675Z"
   },
   {
    "duration": 10,
    "start_time": "2021-10-19T12:22:45.696Z"
   },
   {
    "duration": 4588,
    "start_time": "2021-10-19T12:22:45.707Z"
   },
   {
    "duration": 2167,
    "start_time": "2021-10-19T12:22:50.297Z"
   },
   {
    "duration": 4,
    "start_time": "2021-10-19T12:22:52.465Z"
   },
   {
    "duration": 25,
    "start_time": "2021-10-19T12:22:52.471Z"
   },
   {
    "duration": 16,
    "start_time": "2021-10-19T12:22:52.498Z"
   },
   {
    "duration": 17,
    "start_time": "2021-10-19T12:22:52.517Z"
   },
   {
    "duration": 40,
    "start_time": "2021-10-19T12:22:52.536Z"
   },
   {
    "duration": 18,
    "start_time": "2021-10-19T12:22:52.577Z"
   },
   {
    "duration": 17,
    "start_time": "2021-10-19T12:22:52.596Z"
   },
   {
    "duration": 7,
    "start_time": "2021-10-19T12:22:52.614Z"
   },
   {
    "duration": 41,
    "start_time": "2021-10-19T12:22:52.623Z"
   },
   {
    "duration": 9,
    "start_time": "2021-10-19T12:22:52.666Z"
   },
   {
    "duration": 3,
    "start_time": "2021-10-19T12:22:52.677Z"
   },
   {
    "duration": 677,
    "start_time": "2021-10-19T12:22:52.682Z"
   },
   {
    "duration": 4288,
    "start_time": "2021-10-19T12:22:49.073Z"
   },
   {
    "duration": 4285,
    "start_time": "2021-10-19T12:22:49.077Z"
   },
   {
    "duration": 4280,
    "start_time": "2021-10-19T12:22:49.083Z"
   },
   {
    "duration": 4276,
    "start_time": "2021-10-19T12:22:49.087Z"
   },
   {
    "duration": 4272,
    "start_time": "2021-10-19T12:22:49.092Z"
   },
   {
    "duration": 4268,
    "start_time": "2021-10-19T12:22:49.097Z"
   },
   {
    "duration": 4263,
    "start_time": "2021-10-19T12:22:49.103Z"
   },
   {
    "duration": 4,
    "start_time": "2021-10-19T12:23:16.194Z"
   },
   {
    "duration": 1412,
    "start_time": "2021-10-19T12:23:20.387Z"
   },
   {
    "duration": 554,
    "start_time": "2021-10-20T18:34:15.202Z"
   },
   {
    "duration": 139,
    "start_time": "2021-10-20T18:34:15.758Z"
   },
   {
    "duration": 15,
    "start_time": "2021-10-20T18:34:15.899Z"
   },
   {
    "duration": 33,
    "start_time": "2021-10-20T18:34:15.916Z"
   },
   {
    "duration": 5,
    "start_time": "2021-10-20T18:34:15.952Z"
   },
   {
    "duration": 22,
    "start_time": "2021-10-20T18:34:15.960Z"
   },
   {
    "duration": 6,
    "start_time": "2021-10-20T18:34:15.984Z"
   },
   {
    "duration": 56,
    "start_time": "2021-10-20T18:34:15.993Z"
   },
   {
    "duration": 17,
    "start_time": "2021-10-20T18:34:16.051Z"
   },
   {
    "duration": 26,
    "start_time": "2021-10-20T18:34:16.070Z"
   },
   {
    "duration": 89,
    "start_time": "2021-10-20T18:34:16.098Z"
   },
   {
    "duration": 81,
    "start_time": "2021-10-20T18:34:16.189Z"
   },
   {
    "duration": 49,
    "start_time": "2021-10-20T18:34:16.272Z"
   },
   {
    "duration": 24,
    "start_time": "2021-10-20T18:34:16.322Z"
   },
   {
    "duration": 5,
    "start_time": "2021-10-20T18:34:16.349Z"
   },
   {
    "duration": 12,
    "start_time": "2021-10-20T18:34:16.370Z"
   },
   {
    "duration": 9,
    "start_time": "2021-10-20T18:34:16.383Z"
   },
   {
    "duration": 4546,
    "start_time": "2021-10-20T18:34:16.394Z"
   },
   {
    "duration": 2243,
    "start_time": "2021-10-20T18:34:20.944Z"
   },
   {
    "duration": 4,
    "start_time": "2021-10-20T18:34:23.189Z"
   },
   {
    "duration": 25,
    "start_time": "2021-10-20T18:34:23.195Z"
   },
   {
    "duration": 35,
    "start_time": "2021-10-20T18:34:23.222Z"
   },
   {
    "duration": 19,
    "start_time": "2021-10-20T18:34:23.261Z"
   },
   {
    "duration": 20,
    "start_time": "2021-10-20T18:34:23.283Z"
   },
   {
    "duration": 49,
    "start_time": "2021-10-20T18:34:23.305Z"
   },
   {
    "duration": 19,
    "start_time": "2021-10-20T18:34:23.357Z"
   },
   {
    "duration": 9,
    "start_time": "2021-10-20T18:34:23.378Z"
   },
   {
    "duration": 12,
    "start_time": "2021-10-20T18:34:23.388Z"
   },
   {
    "duration": 12,
    "start_time": "2021-10-20T18:34:23.402Z"
   },
   {
    "duration": 30,
    "start_time": "2021-10-20T18:34:23.416Z"
   },
   {
    "duration": 703,
    "start_time": "2021-10-20T18:34:23.448Z"
   },
   {
    "duration": 4799,
    "start_time": "2021-10-20T18:34:19.355Z"
   },
   {
    "duration": 4804,
    "start_time": "2021-10-20T18:34:19.359Z"
   },
   {
    "duration": 4802,
    "start_time": "2021-10-20T18:34:19.363Z"
   },
   {
    "duration": 4799,
    "start_time": "2021-10-20T18:34:19.367Z"
   },
   {
    "duration": 4797,
    "start_time": "2021-10-20T18:34:19.370Z"
   },
   {
    "duration": 4795,
    "start_time": "2021-10-20T18:34:19.374Z"
   },
   {
    "duration": 4792,
    "start_time": "2021-10-20T18:34:19.378Z"
   },
   {
    "duration": 4,
    "start_time": "2021-10-20T18:35:32.665Z"
   },
   {
    "duration": 18,
    "start_time": "2021-10-20T18:35:36.488Z"
   },
   {
    "duration": 7,
    "start_time": "2021-10-20T18:35:58.648Z"
   },
   {
    "duration": 581,
    "start_time": "2021-10-20T18:36:02.025Z"
   },
   {
    "duration": 5,
    "start_time": "2021-10-20T18:36:46.893Z"
   },
   {
    "duration": 26,
    "start_time": "2021-10-20T18:36:57.621Z"
   },
   {
    "duration": 6,
    "start_time": "2021-10-20T18:37:08.753Z"
   },
   {
    "duration": 23,
    "start_time": "2021-10-20T18:37:15.949Z"
   },
   {
    "duration": 10,
    "start_time": "2021-10-20T18:50:06.735Z"
   },
   {
    "duration": 11,
    "start_time": "2021-10-20T18:50:59.826Z"
   },
   {
    "duration": 9,
    "start_time": "2021-10-20T18:51:03.758Z"
   },
   {
    "duration": 16,
    "start_time": "2021-10-20T18:51:42.637Z"
   },
   {
    "duration": 96,
    "start_time": "2021-10-20T18:51:55.583Z"
   },
   {
    "duration": 20,
    "start_time": "2021-10-20T18:52:04.494Z"
   },
   {
    "duration": 15,
    "start_time": "2021-10-20T18:52:43.127Z"
   },
   {
    "duration": 13,
    "start_time": "2021-10-20T18:53:12.108Z"
   },
   {
    "duration": 294,
    "start_time": "2021-10-20T18:55:03.999Z"
   },
   {
    "duration": 10,
    "start_time": "2021-10-20T18:56:04.566Z"
   },
   {
    "duration": 283,
    "start_time": "2021-10-20T18:56:47.716Z"
   },
   {
    "duration": 8,
    "start_time": "2021-10-20T18:57:10.603Z"
   },
   {
    "duration": 5,
    "start_time": "2021-10-20T18:57:17.835Z"
   },
   {
    "duration": 361,
    "start_time": "2021-10-20T19:00:57.582Z"
   },
   {
    "duration": 6,
    "start_time": "2021-10-20T19:01:26.186Z"
   },
   {
    "duration": 7,
    "start_time": "2021-10-20T19:01:46.774Z"
   },
   {
    "duration": 147,
    "start_time": "2021-10-20T19:01:58.170Z"
   },
   {
    "duration": 6,
    "start_time": "2021-10-20T19:02:06.176Z"
   },
   {
    "duration": 789,
    "start_time": "2021-10-22T09:36:14.153Z"
   },
   {
    "duration": 200,
    "start_time": "2021-10-22T09:36:14.944Z"
   },
   {
    "duration": 34,
    "start_time": "2021-10-22T09:36:15.148Z"
   },
   {
    "duration": 42,
    "start_time": "2021-10-22T09:36:15.186Z"
   },
   {
    "duration": 6,
    "start_time": "2021-10-22T09:36:15.230Z"
   },
   {
    "duration": 40,
    "start_time": "2021-10-22T09:36:15.269Z"
   },
   {
    "duration": 18,
    "start_time": "2021-10-22T09:36:15.312Z"
   },
   {
    "duration": 48,
    "start_time": "2021-10-22T09:36:15.333Z"
   },
   {
    "duration": 24,
    "start_time": "2021-10-22T09:36:15.385Z"
   },
   {
    "duration": 58,
    "start_time": "2021-10-22T09:36:15.413Z"
   },
   {
    "duration": 110,
    "start_time": "2021-10-22T09:36:15.474Z"
   },
   {
    "duration": 113,
    "start_time": "2021-10-22T09:36:15.586Z"
   },
   {
    "duration": 88,
    "start_time": "2021-10-22T09:36:15.701Z"
   },
   {
    "duration": 17,
    "start_time": "2021-10-22T09:36:15.792Z"
   },
   {
    "duration": 3,
    "start_time": "2021-10-22T09:36:15.812Z"
   },
   {
    "duration": 19,
    "start_time": "2021-10-22T09:36:15.818Z"
   },
   {
    "duration": 15,
    "start_time": "2021-10-22T09:36:15.868Z"
   },
   {
    "duration": 7999,
    "start_time": "2021-10-22T09:36:15.886Z"
   },
   {
    "duration": 4491,
    "start_time": "2021-10-22T09:36:23.888Z"
   },
   {
    "duration": 5,
    "start_time": "2021-10-22T09:36:28.381Z"
   },
   {
    "duration": 28,
    "start_time": "2021-10-22T09:36:28.388Z"
   },
   {
    "duration": 19,
    "start_time": "2021-10-22T09:36:28.419Z"
   },
   {
    "duration": 44,
    "start_time": "2021-10-22T09:36:28.441Z"
   },
   {
    "duration": 18,
    "start_time": "2021-10-22T09:36:28.488Z"
   },
   {
    "duration": 23,
    "start_time": "2021-10-22T09:36:28.508Z"
   },
   {
    "duration": 54,
    "start_time": "2021-10-22T09:36:28.533Z"
   },
   {
    "duration": 13,
    "start_time": "2021-10-22T09:36:28.591Z"
   },
   {
    "duration": 15,
    "start_time": "2021-10-22T09:36:28.607Z"
   },
   {
    "duration": 44,
    "start_time": "2021-10-22T09:36:28.624Z"
   },
   {
    "duration": 6,
    "start_time": "2021-10-22T09:36:28.671Z"
   },
   {
    "duration": 33,
    "start_time": "2021-10-22T09:36:28.679Z"
   },
   {
    "duration": 17,
    "start_time": "2021-10-22T09:36:28.714Z"
   },
   {
    "duration": 49,
    "start_time": "2021-10-22T09:36:28.734Z"
   },
   {
    "duration": 16,
    "start_time": "2021-10-22T09:36:28.786Z"
   },
   {
    "duration": 9,
    "start_time": "2021-10-22T09:36:28.804Z"
   },
   {
    "duration": 8,
    "start_time": "2021-10-22T09:36:28.816Z"
   },
   {
    "duration": 42,
    "start_time": "2021-10-22T09:36:28.826Z"
   },
   {
    "duration": 10,
    "start_time": "2021-10-22T09:36:28.871Z"
   },
   {
    "duration": 88,
    "start_time": "2021-10-22T09:38:34.013Z"
   },
   {
    "duration": 5,
    "start_time": "2021-10-22T09:38:42.798Z"
   },
   {
    "duration": 6,
    "start_time": "2021-10-22T09:38:50.333Z"
   },
   {
    "duration": 32,
    "start_time": "2021-10-22T09:39:49.403Z"
   },
   {
    "duration": 703,
    "start_time": "2021-10-22T10:04:38.914Z"
   },
   {
    "duration": 186,
    "start_time": "2021-10-22T10:04:39.619Z"
   },
   {
    "duration": 27,
    "start_time": "2021-10-22T10:04:39.809Z"
   },
   {
    "duration": 51,
    "start_time": "2021-10-22T10:04:39.839Z"
   },
   {
    "duration": 5,
    "start_time": "2021-10-22T10:04:39.893Z"
   },
   {
    "duration": 30,
    "start_time": "2021-10-22T10:04:39.901Z"
   },
   {
    "duration": 35,
    "start_time": "2021-10-22T10:04:39.934Z"
   },
   {
    "duration": 31,
    "start_time": "2021-10-22T10:04:39.971Z"
   },
   {
    "duration": 23,
    "start_time": "2021-10-22T10:04:40.006Z"
   },
   {
    "duration": 55,
    "start_time": "2021-10-22T10:04:40.033Z"
   },
   {
    "duration": 111,
    "start_time": "2021-10-22T10:04:40.091Z"
   },
   {
    "duration": 114,
    "start_time": "2021-10-22T10:04:40.205Z"
   },
   {
    "duration": 86,
    "start_time": "2021-10-22T10:04:40.322Z"
   },
   {
    "duration": 14,
    "start_time": "2021-10-22T10:04:40.411Z"
   },
   {
    "duration": 4,
    "start_time": "2021-10-22T10:04:40.428Z"
   },
   {
    "duration": 39,
    "start_time": "2021-10-22T10:04:40.435Z"
   },
   {
    "duration": 14,
    "start_time": "2021-10-22T10:04:40.476Z"
   },
   {
    "duration": 8462,
    "start_time": "2021-10-22T10:04:40.493Z"
   },
   {
    "duration": 4668,
    "start_time": "2021-10-22T10:04:48.958Z"
   },
   {
    "duration": 5,
    "start_time": "2021-10-22T10:04:53.628Z"
   },
   {
    "duration": 41,
    "start_time": "2021-10-22T10:04:53.635Z"
   },
   {
    "duration": 25,
    "start_time": "2021-10-22T10:04:53.680Z"
   },
   {
    "duration": 19,
    "start_time": "2021-10-22T10:04:53.707Z"
   },
   {
    "duration": 47,
    "start_time": "2021-10-22T10:04:53.728Z"
   },
   {
    "duration": 23,
    "start_time": "2021-10-22T10:04:53.778Z"
   },
   {
    "duration": 20,
    "start_time": "2021-10-22T10:04:53.803Z"
   },
   {
    "duration": 41,
    "start_time": "2021-10-22T10:04:53.828Z"
   },
   {
    "duration": 17,
    "start_time": "2021-10-22T10:04:53.872Z"
   },
   {
    "duration": 13,
    "start_time": "2021-10-22T10:04:53.891Z"
   },
   {
    "duration": 10,
    "start_time": "2021-10-22T10:04:53.906Z"
   },
   {
    "duration": 54,
    "start_time": "2021-10-22T10:04:53.918Z"
   },
   {
    "duration": 17,
    "start_time": "2021-10-22T10:04:53.975Z"
   },
   {
    "duration": 23,
    "start_time": "2021-10-22T10:04:53.994Z"
   },
   {
    "duration": 49,
    "start_time": "2021-10-22T10:04:54.019Z"
   },
   {
    "duration": 11,
    "start_time": "2021-10-22T10:04:54.071Z"
   },
   {
    "duration": 7,
    "start_time": "2021-10-22T10:04:54.084Z"
   },
   {
    "duration": 12,
    "start_time": "2021-10-22T10:04:54.094Z"
   },
   {
    "duration": 7,
    "start_time": "2021-10-22T10:04:54.109Z"
   },
   {
    "duration": 11,
    "start_time": "2021-10-22T10:12:16.436Z"
   },
   {
    "duration": 7,
    "start_time": "2021-10-22T10:12:20.840Z"
   },
   {
    "duration": 7,
    "start_time": "2021-10-22T10:13:03.769Z"
   },
   {
    "duration": 6,
    "start_time": "2021-10-22T10:13:08.110Z"
   },
   {
    "duration": 8,
    "start_time": "2021-10-22T10:13:26.398Z"
   },
   {
    "duration": 6,
    "start_time": "2021-10-22T10:13:29.359Z"
   },
   {
    "duration": 796,
    "start_time": "2021-10-22T10:14:01.480Z"
   },
   {
    "duration": 200,
    "start_time": "2021-10-22T10:14:02.279Z"
   },
   {
    "duration": 28,
    "start_time": "2021-10-22T10:14:02.484Z"
   },
   {
    "duration": 60,
    "start_time": "2021-10-22T10:14:02.515Z"
   },
   {
    "duration": 18,
    "start_time": "2021-10-22T10:14:02.578Z"
   },
   {
    "duration": 36,
    "start_time": "2021-10-22T10:14:02.598Z"
   },
   {
    "duration": 8,
    "start_time": "2021-10-22T10:14:02.637Z"
   },
   {
    "duration": 46,
    "start_time": "2021-10-22T10:14:02.648Z"
   },
   {
    "duration": 30,
    "start_time": "2021-10-22T10:14:02.698Z"
   },
   {
    "duration": 49,
    "start_time": "2021-10-22T10:14:02.732Z"
   },
   {
    "duration": 106,
    "start_time": "2021-10-22T10:14:02.783Z"
   },
   {
    "duration": 116,
    "start_time": "2021-10-22T10:14:02.891Z"
   },
   {
    "duration": 91,
    "start_time": "2021-10-22T10:14:03.009Z"
   },
   {
    "duration": 16,
    "start_time": "2021-10-22T10:14:03.102Z"
   },
   {
    "duration": 4,
    "start_time": "2021-10-22T10:14:03.121Z"
   },
   {
    "duration": 47,
    "start_time": "2021-10-22T10:14:03.127Z"
   },
   {
    "duration": 14,
    "start_time": "2021-10-22T10:14:03.176Z"
   },
   {
    "duration": 9194,
    "start_time": "2021-10-22T10:14:03.192Z"
   },
   {
    "duration": 4739,
    "start_time": "2021-10-22T10:14:12.389Z"
   },
   {
    "duration": 4,
    "start_time": "2021-10-22T10:14:17.130Z"
   },
   {
    "duration": 39,
    "start_time": "2021-10-22T10:14:17.136Z"
   },
   {
    "duration": 19,
    "start_time": "2021-10-22T10:14:17.178Z"
   },
   {
    "duration": 19,
    "start_time": "2021-10-22T10:14:17.200Z"
   },
   {
    "duration": 51,
    "start_time": "2021-10-22T10:14:17.222Z"
   },
   {
    "duration": 22,
    "start_time": "2021-10-22T10:14:17.276Z"
   },
   {
    "duration": 20,
    "start_time": "2021-10-22T10:14:17.300Z"
   },
   {
    "duration": 50,
    "start_time": "2021-10-22T10:14:17.325Z"
   },
   {
    "duration": 15,
    "start_time": "2021-10-22T10:14:17.379Z"
   },
   {
    "duration": 12,
    "start_time": "2021-10-22T10:14:17.397Z"
   },
   {
    "duration": 6,
    "start_time": "2021-10-22T10:14:17.412Z"
   },
   {
    "duration": 65,
    "start_time": "2021-10-22T10:14:17.420Z"
   },
   {
    "duration": 18,
    "start_time": "2021-10-22T10:14:17.488Z"
   },
   {
    "duration": 23,
    "start_time": "2021-10-22T10:14:17.508Z"
   },
   {
    "duration": 51,
    "start_time": "2021-10-22T10:14:17.534Z"
   },
   {
    "duration": 16,
    "start_time": "2021-10-22T10:14:17.588Z"
   },
   {
    "duration": 8,
    "start_time": "2021-10-22T10:14:17.607Z"
   },
   {
    "duration": 49,
    "start_time": "2021-10-22T10:14:17.618Z"
   },
   {
    "duration": 8,
    "start_time": "2021-10-22T10:14:17.671Z"
   },
   {
    "duration": 770,
    "start_time": "2021-10-22T12:33:43.746Z"
   },
   {
    "duration": 193,
    "start_time": "2021-10-22T12:33:44.519Z"
   },
   {
    "duration": 25,
    "start_time": "2021-10-22T12:33:44.715Z"
   },
   {
    "duration": 58,
    "start_time": "2021-10-22T12:33:44.743Z"
   },
   {
    "duration": 5,
    "start_time": "2021-10-22T12:33:44.804Z"
   },
   {
    "duration": 33,
    "start_time": "2021-10-22T12:33:44.811Z"
   },
   {
    "duration": 13,
    "start_time": "2021-10-22T12:33:44.846Z"
   },
   {
    "duration": 54,
    "start_time": "2021-10-22T12:33:44.863Z"
   },
   {
    "duration": 22,
    "start_time": "2021-10-22T12:33:44.920Z"
   },
   {
    "duration": 57,
    "start_time": "2021-10-22T12:33:44.945Z"
   },
   {
    "duration": 96,
    "start_time": "2021-10-22T12:33:45.005Z"
   },
   {
    "duration": 105,
    "start_time": "2021-10-22T12:33:45.104Z"
   },
   {
    "duration": 89,
    "start_time": "2021-10-22T12:33:45.212Z"
   },
   {
    "duration": 16,
    "start_time": "2021-10-22T12:33:45.304Z"
   },
   {
    "duration": 5,
    "start_time": "2021-10-22T12:33:45.322Z"
   },
   {
    "duration": 34,
    "start_time": "2021-10-22T12:33:45.330Z"
   },
   {
    "duration": 43,
    "start_time": "2021-10-22T12:33:45.367Z"
   },
   {
    "duration": 8014,
    "start_time": "2021-10-22T12:33:45.414Z"
   },
   {
    "duration": 4627,
    "start_time": "2021-10-22T12:33:53.430Z"
   },
   {
    "duration": 4,
    "start_time": "2021-10-22T12:33:58.059Z"
   },
   {
    "duration": 40,
    "start_time": "2021-10-22T12:33:58.066Z"
   },
   {
    "duration": 18,
    "start_time": "2021-10-22T12:33:58.109Z"
   },
   {
    "duration": 19,
    "start_time": "2021-10-22T12:33:58.132Z"
   },
   {
    "duration": 49,
    "start_time": "2021-10-22T12:33:58.153Z"
   },
   {
    "duration": 22,
    "start_time": "2021-10-22T12:33:58.204Z"
   },
   {
    "duration": 18,
    "start_time": "2021-10-22T12:33:58.228Z"
   },
   {
    "duration": 11,
    "start_time": "2021-10-22T12:33:58.249Z"
   },
   {
    "duration": 49,
    "start_time": "2021-10-22T12:33:58.262Z"
   },
   {
    "duration": 12,
    "start_time": "2021-10-22T12:33:58.313Z"
   },
   {
    "duration": 5,
    "start_time": "2021-10-22T12:33:58.328Z"
   },
   {
    "duration": 30,
    "start_time": "2021-10-22T12:33:58.335Z"
   },
   {
    "duration": 43,
    "start_time": "2021-10-22T12:33:58.367Z"
   },
   {
    "duration": 21,
    "start_time": "2021-10-22T12:33:58.412Z"
   },
   {
    "duration": 16,
    "start_time": "2021-10-22T12:33:58.435Z"
   },
   {
    "duration": 47,
    "start_time": "2021-10-22T12:33:58.453Z"
   },
   {
    "duration": 6,
    "start_time": "2021-10-22T12:33:58.503Z"
   },
   {
    "duration": 11,
    "start_time": "2021-10-22T12:33:58.511Z"
   },
   {
    "duration": 10,
    "start_time": "2021-10-22T12:33:58.524Z"
   },
   {
    "duration": 676,
    "start_time": "2021-10-22T12:37:03.079Z"
   },
   {
    "duration": 18,
    "start_time": "2021-10-22T12:37:05.334Z"
   },
   {
    "duration": 687,
    "start_time": "2021-10-22T13:43:48.936Z"
   },
   {
    "duration": 783,
    "start_time": "2021-10-22T13:44:03.689Z"
   },
   {
    "duration": 188,
    "start_time": "2021-10-22T13:44:04.475Z"
   },
   {
    "duration": 25,
    "start_time": "2021-10-22T13:44:04.666Z"
   },
   {
    "duration": 33,
    "start_time": "2021-10-22T13:44:04.694Z"
   },
   {
    "duration": 31,
    "start_time": "2021-10-22T13:44:04.729Z"
   },
   {
    "duration": 29,
    "start_time": "2021-10-22T13:44:04.762Z"
   },
   {
    "duration": 7,
    "start_time": "2021-10-22T13:44:04.794Z"
   },
   {
    "duration": 68,
    "start_time": "2021-10-22T13:44:04.804Z"
   },
   {
    "duration": 29,
    "start_time": "2021-10-22T13:44:04.876Z"
   },
   {
    "duration": 67,
    "start_time": "2021-10-22T13:44:04.909Z"
   },
   {
    "duration": 114,
    "start_time": "2021-10-22T13:44:04.979Z"
   },
   {
    "duration": 110,
    "start_time": "2021-10-22T13:44:05.096Z"
   },
   {
    "duration": 89,
    "start_time": "2021-10-22T13:44:05.208Z"
   },
   {
    "duration": 18,
    "start_time": "2021-10-22T13:44:05.299Z"
   },
   {
    "duration": 5,
    "start_time": "2021-10-22T13:44:05.320Z"
   },
   {
    "duration": 44,
    "start_time": "2021-10-22T13:44:05.328Z"
   },
   {
    "duration": 18,
    "start_time": "2021-10-22T13:44:05.375Z"
   },
   {
    "duration": 7888,
    "start_time": "2021-10-22T13:44:05.396Z"
   },
   {
    "duration": 4589,
    "start_time": "2021-10-22T13:44:13.286Z"
   },
   {
    "duration": 5,
    "start_time": "2021-10-22T13:44:17.877Z"
   },
   {
    "duration": 37,
    "start_time": "2021-10-22T13:44:17.884Z"
   },
   {
    "duration": 37,
    "start_time": "2021-10-22T13:44:17.924Z"
   },
   {
    "duration": 18,
    "start_time": "2021-10-22T13:44:17.963Z"
   },
   {
    "duration": 22,
    "start_time": "2021-10-22T13:44:17.983Z"
   },
   {
    "duration": 26,
    "start_time": "2021-10-22T13:44:18.007Z"
   },
   {
    "duration": 37,
    "start_time": "2021-10-22T13:44:18.035Z"
   },
   {
    "duration": 11,
    "start_time": "2021-10-22T13:44:18.077Z"
   },
   {
    "duration": 20,
    "start_time": "2021-10-22T13:44:18.091Z"
   },
   {
    "duration": 25,
    "start_time": "2021-10-22T13:44:18.113Z"
   },
   {
    "duration": 22,
    "start_time": "2021-10-22T13:44:18.140Z"
   },
   {
    "duration": 37,
    "start_time": "2021-10-22T13:44:18.164Z"
   },
   {
    "duration": 15,
    "start_time": "2021-10-22T13:44:18.203Z"
   },
   {
    "duration": 43,
    "start_time": "2021-10-22T13:44:18.221Z"
   },
   {
    "duration": 15,
    "start_time": "2021-10-22T13:44:18.267Z"
   },
   {
    "duration": 18,
    "start_time": "2021-10-22T13:44:18.285Z"
   },
   {
    "duration": 19,
    "start_time": "2021-10-22T13:44:18.306Z"
   },
   {
    "duration": 17,
    "start_time": "2021-10-22T13:44:18.328Z"
   },
   {
    "duration": 10,
    "start_time": "2021-10-22T13:44:18.358Z"
   },
   {
    "duration": 474,
    "start_time": "2021-10-26T05:43:29.971Z"
   },
   {
    "duration": 737,
    "start_time": "2021-10-26T05:43:45.102Z"
   },
   {
    "duration": 185,
    "start_time": "2021-10-26T05:43:45.842Z"
   },
   {
    "duration": 33,
    "start_time": "2021-10-26T05:43:46.031Z"
   },
   {
    "duration": 33,
    "start_time": "2021-10-26T05:43:46.067Z"
   },
   {
    "duration": 5,
    "start_time": "2021-10-26T05:43:46.102Z"
   },
   {
    "duration": 59,
    "start_time": "2021-10-26T05:43:46.110Z"
   },
   {
    "duration": 7,
    "start_time": "2021-10-26T05:43:46.171Z"
   },
   {
    "duration": 36,
    "start_time": "2021-10-26T05:43:46.180Z"
   },
   {
    "duration": 45,
    "start_time": "2021-10-26T05:43:46.220Z"
   },
   {
    "duration": 30,
    "start_time": "2021-10-26T05:43:46.268Z"
   },
   {
    "duration": 103,
    "start_time": "2021-10-26T05:43:46.300Z"
   },
   {
    "duration": 103,
    "start_time": "2021-10-26T05:43:46.405Z"
   },
   {
    "duration": 84,
    "start_time": "2021-10-26T05:43:46.511Z"
   },
   {
    "duration": 14,
    "start_time": "2021-10-26T05:43:46.598Z"
   },
   {
    "duration": 3,
    "start_time": "2021-10-26T05:43:46.615Z"
   },
   {
    "duration": 39,
    "start_time": "2021-10-26T05:43:46.621Z"
   },
   {
    "duration": 14,
    "start_time": "2021-10-26T05:43:46.662Z"
   },
   {
    "duration": 7730,
    "start_time": "2021-10-26T05:43:46.679Z"
   },
   {
    "duration": 4392,
    "start_time": "2021-10-26T05:43:54.412Z"
   },
   {
    "duration": 4,
    "start_time": "2021-10-26T05:43:58.807Z"
   },
   {
    "duration": 23,
    "start_time": "2021-10-26T05:43:58.813Z"
   },
   {
    "duration": 35,
    "start_time": "2021-10-26T05:43:58.838Z"
   },
   {
    "duration": 18,
    "start_time": "2021-10-26T05:43:58.876Z"
   },
   {
    "duration": 17,
    "start_time": "2021-10-26T05:43:58.897Z"
   },
   {
    "duration": 55,
    "start_time": "2021-10-26T05:43:58.917Z"
   },
   {
    "duration": 20,
    "start_time": "2021-10-26T05:43:58.974Z"
   },
   {
    "duration": 12,
    "start_time": "2021-10-26T05:43:58.999Z"
   },
   {
    "duration": 48,
    "start_time": "2021-10-26T05:43:59.014Z"
   },
   {
    "duration": 12,
    "start_time": "2021-10-26T05:43:59.065Z"
   },
   {
    "duration": 5,
    "start_time": "2021-10-26T05:43:59.080Z"
   },
   {
    "duration": 26,
    "start_time": "2021-10-26T05:43:59.088Z"
   },
   {
    "duration": 46,
    "start_time": "2021-10-26T05:43:59.117Z"
   },
   {
    "duration": 23,
    "start_time": "2021-10-26T05:43:59.166Z"
   },
   {
    "duration": 16,
    "start_time": "2021-10-26T05:43:59.191Z"
   },
   {
    "duration": 11,
    "start_time": "2021-10-26T05:43:59.210Z"
   },
   {
    "duration": 39,
    "start_time": "2021-10-26T05:43:59.223Z"
   },
   {
    "duration": 10,
    "start_time": "2021-10-26T05:43:59.264Z"
   },
   {
    "duration": 9,
    "start_time": "2021-10-26T05:43:59.276Z"
   },
   {
    "duration": 15,
    "start_time": "2021-10-26T05:45:05.183Z"
   },
   {
    "duration": 4,
    "start_time": "2021-10-26T05:46:53.683Z"
   },
   {
    "duration": 879,
    "start_time": "2021-10-26T05:46:59.375Z"
   },
   {
    "duration": 740,
    "start_time": "2021-10-26T05:47:18.293Z"
   },
   {
    "duration": 181,
    "start_time": "2021-10-26T05:47:19.036Z"
   },
   {
    "duration": 26,
    "start_time": "2021-10-26T05:47:19.220Z"
   },
   {
    "duration": 33,
    "start_time": "2021-10-26T05:47:19.259Z"
   },
   {
    "duration": 5,
    "start_time": "2021-10-26T05:47:19.295Z"
   },
   {
    "duration": 55,
    "start_time": "2021-10-26T05:47:19.302Z"
   },
   {
    "duration": 5,
    "start_time": "2021-10-26T05:47:19.360Z"
   },
   {
    "duration": 33,
    "start_time": "2021-10-26T05:47:19.367Z"
   },
   {
    "duration": 21,
    "start_time": "2021-10-26T05:47:19.404Z"
   },
   {
    "duration": 30,
    "start_time": "2021-10-26T05:47:19.456Z"
   },
   {
    "duration": 96,
    "start_time": "2021-10-26T05:47:19.489Z"
   },
   {
    "duration": 100,
    "start_time": "2021-10-26T05:47:19.587Z"
   },
   {
    "duration": 81,
    "start_time": "2021-10-26T05:47:19.689Z"
   },
   {
    "duration": 14,
    "start_time": "2021-10-26T05:47:19.772Z"
   },
   {
    "duration": 4,
    "start_time": "2021-10-26T05:47:19.789Z"
   },
   {
    "duration": 17,
    "start_time": "2021-10-26T05:47:19.795Z"
   },
   {
    "duration": 44,
    "start_time": "2021-10-26T05:47:19.815Z"
   },
   {
    "duration": 7761,
    "start_time": "2021-10-26T05:47:19.862Z"
   },
   {
    "duration": 15,
    "start_time": "2021-10-26T05:47:27.625Z"
   },
   {
    "duration": 4,
    "start_time": "2021-10-26T05:47:27.658Z"
   },
   {
    "duration": 834,
    "start_time": "2021-10-26T05:47:27.665Z"
   },
   {
    "duration": 4507,
    "start_time": "2021-10-26T05:47:23.995Z"
   },
   {
    "duration": 4497,
    "start_time": "2021-10-26T05:47:24.007Z"
   },
   {
    "duration": 4483,
    "start_time": "2021-10-26T05:47:24.022Z"
   },
   {
    "duration": 4475,
    "start_time": "2021-10-26T05:47:24.032Z"
   },
   {
    "duration": 4472,
    "start_time": "2021-10-26T05:47:24.036Z"
   },
   {
    "duration": 4463,
    "start_time": "2021-10-26T05:47:24.046Z"
   },
   {
    "duration": 4461,
    "start_time": "2021-10-26T05:47:24.050Z"
   },
   {
    "duration": 4457,
    "start_time": "2021-10-26T05:47:24.055Z"
   },
   {
    "duration": 4449,
    "start_time": "2021-10-26T05:47:24.065Z"
   },
   {
    "duration": 4446,
    "start_time": "2021-10-26T05:47:24.069Z"
   },
   {
    "duration": 4433,
    "start_time": "2021-10-26T05:47:24.083Z"
   },
   {
    "duration": 4429,
    "start_time": "2021-10-26T05:47:24.088Z"
   },
   {
    "duration": 4420,
    "start_time": "2021-10-26T05:47:24.099Z"
   },
   {
    "duration": 4416,
    "start_time": "2021-10-26T05:47:24.104Z"
   },
   {
    "duration": 4407,
    "start_time": "2021-10-26T05:47:24.114Z"
   },
   {
    "duration": 4405,
    "start_time": "2021-10-26T05:47:24.118Z"
   },
   {
    "duration": 4396,
    "start_time": "2021-10-26T05:47:24.128Z"
   },
   {
    "duration": 4,
    "start_time": "2021-10-26T05:48:04.086Z"
   },
   {
    "duration": 1813,
    "start_time": "2021-10-26T05:48:06.630Z"
   },
   {
    "duration": 5,
    "start_time": "2021-10-26T05:48:40.438Z"
   },
   {
    "duration": 884,
    "start_time": "2021-10-26T05:48:42.865Z"
   },
   {
    "duration": 4,
    "start_time": "2021-10-26T05:49:24.013Z"
   },
   {
    "duration": 750,
    "start_time": "2021-10-26T05:49:26.665Z"
   },
   {
    "duration": 5,
    "start_time": "2021-10-26T05:49:42.001Z"
   },
   {
    "duration": 1829,
    "start_time": "2021-10-26T05:49:45.159Z"
   },
   {
    "duration": 4,
    "start_time": "2021-10-26T05:53:01.068Z"
   },
   {
    "duration": 21,
    "start_time": "2021-10-26T05:53:04.891Z"
   },
   {
    "duration": 767,
    "start_time": "2021-10-26T05:53:15.367Z"
   },
   {
    "duration": 182,
    "start_time": "2021-10-26T05:53:16.137Z"
   },
   {
    "duration": 37,
    "start_time": "2021-10-26T05:53:16.322Z"
   },
   {
    "duration": 33,
    "start_time": "2021-10-26T05:53:16.362Z"
   },
   {
    "duration": 6,
    "start_time": "2021-10-26T05:53:16.397Z"
   },
   {
    "duration": 57,
    "start_time": "2021-10-26T05:53:16.406Z"
   },
   {
    "duration": 9,
    "start_time": "2021-10-26T05:53:16.466Z"
   },
   {
    "duration": 36,
    "start_time": "2021-10-26T05:53:16.478Z"
   },
   {
    "duration": 42,
    "start_time": "2021-10-26T05:53:16.518Z"
   },
   {
    "duration": 29,
    "start_time": "2021-10-26T05:53:16.564Z"
   },
   {
    "duration": 99,
    "start_time": "2021-10-26T05:53:16.596Z"
   },
   {
    "duration": 114,
    "start_time": "2021-10-26T05:53:16.698Z"
   },
   {
    "duration": 82,
    "start_time": "2021-10-26T05:53:16.815Z"
   },
   {
    "duration": 14,
    "start_time": "2021-10-26T05:53:16.900Z"
   },
   {
    "duration": 8,
    "start_time": "2021-10-26T05:53:16.916Z"
   },
   {
    "duration": 36,
    "start_time": "2021-10-26T05:53:16.927Z"
   },
   {
    "duration": 17,
    "start_time": "2021-10-26T05:53:16.966Z"
   },
   {
    "duration": 7799,
    "start_time": "2021-10-26T05:53:16.986Z"
   },
   {
    "duration": 15,
    "start_time": "2021-10-26T05:53:24.787Z"
   },
   {
    "duration": 4,
    "start_time": "2021-10-26T05:53:24.804Z"
   },
   {
    "duration": 48,
    "start_time": "2021-10-26T05:53:24.811Z"
   },
   {
    "duration": 18,
    "start_time": "2021-10-26T05:53:24.861Z"
   },
   {
    "duration": 18,
    "start_time": "2021-10-26T05:53:24.882Z"
   },
   {
    "duration": 57,
    "start_time": "2021-10-26T05:53:24.902Z"
   },
   {
    "duration": 24,
    "start_time": "2021-10-26T05:53:24.962Z"
   },
   {
    "duration": 20,
    "start_time": "2021-10-26T05:53:24.989Z"
   },
   {
    "duration": 48,
    "start_time": "2021-10-26T05:53:25.016Z"
   },
   {
    "duration": 21,
    "start_time": "2021-10-26T05:53:25.067Z"
   },
   {
    "duration": 16,
    "start_time": "2021-10-26T05:53:25.091Z"
   },
   {
    "duration": 7,
    "start_time": "2021-10-26T05:53:25.110Z"
   },
   {
    "duration": 62,
    "start_time": "2021-10-26T05:53:25.120Z"
   },
   {
    "duration": 19,
    "start_time": "2021-10-26T05:53:25.185Z"
   },
   {
    "duration": 21,
    "start_time": "2021-10-26T05:53:25.206Z"
   },
   {
    "duration": 18,
    "start_time": "2021-10-26T05:53:25.258Z"
   },
   {
    "duration": 11,
    "start_time": "2021-10-26T05:53:25.279Z"
   },
   {
    "duration": 13,
    "start_time": "2021-10-26T05:53:25.292Z"
   },
   {
    "duration": 18,
    "start_time": "2021-10-26T05:53:25.307Z"
   },
   {
    "duration": 32,
    "start_time": "2021-10-26T05:53:25.328Z"
   },
   {
    "duration": 123,
    "start_time": "2021-10-26T05:55:14.566Z"
   },
   {
    "duration": 131,
    "start_time": "2021-10-26T05:55:43.799Z"
   },
   {
    "duration": 6,
    "start_time": "2021-10-26T05:56:22.491Z"
   },
   {
    "duration": 24,
    "start_time": "2021-10-26T05:56:27.963Z"
   },
   {
    "duration": 6,
    "start_time": "2021-10-26T05:58:16.282Z"
   },
   {
    "duration": 804,
    "start_time": "2021-10-26T05:58:25.130Z"
   },
   {
    "duration": 183,
    "start_time": "2021-10-26T05:58:25.936Z"
   },
   {
    "duration": 25,
    "start_time": "2021-10-26T05:58:26.122Z"
   },
   {
    "duration": 34,
    "start_time": "2021-10-26T05:58:26.158Z"
   },
   {
    "duration": 5,
    "start_time": "2021-10-26T05:58:26.194Z"
   },
   {
    "duration": 26,
    "start_time": "2021-10-26T05:58:26.202Z"
   },
   {
    "duration": 6,
    "start_time": "2021-10-26T05:58:26.258Z"
   },
   {
    "duration": 30,
    "start_time": "2021-10-26T05:58:26.268Z"
   },
   {
    "duration": 21,
    "start_time": "2021-10-26T05:58:26.301Z"
   },
   {
    "duration": 59,
    "start_time": "2021-10-26T05:58:26.325Z"
   },
   {
    "duration": 100,
    "start_time": "2021-10-26T05:58:26.386Z"
   },
   {
    "duration": 111,
    "start_time": "2021-10-26T05:58:26.489Z"
   },
   {
    "duration": 82,
    "start_time": "2021-10-26T05:58:26.602Z"
   },
   {
    "duration": 14,
    "start_time": "2021-10-26T05:58:26.686Z"
   },
   {
    "duration": 3,
    "start_time": "2021-10-26T05:58:26.702Z"
   },
   {
    "duration": 21,
    "start_time": "2021-10-26T05:58:26.707Z"
   },
   {
    "duration": 34,
    "start_time": "2021-10-26T05:58:26.730Z"
   },
   {
    "duration": 7656,
    "start_time": "2021-10-26T05:58:26.766Z"
   },
   {
    "duration": 15,
    "start_time": "2021-10-26T05:58:34.424Z"
   },
   {
    "duration": 17,
    "start_time": "2021-10-26T05:58:34.441Z"
   },
   {
    "duration": 24,
    "start_time": "2021-10-26T05:58:34.461Z"
   },
   {
    "duration": 18,
    "start_time": "2021-10-26T05:58:34.488Z"
   },
   {
    "duration": 21,
    "start_time": "2021-10-26T05:58:34.557Z"
   },
   {
    "duration": 19,
    "start_time": "2021-10-26T05:58:34.582Z"
   },
   {
    "duration": 55,
    "start_time": "2021-10-26T05:58:34.604Z"
   },
   {
    "duration": 20,
    "start_time": "2021-10-26T05:58:34.661Z"
   },
   {
    "duration": 13,
    "start_time": "2021-10-26T05:58:34.683Z"
   },
   {
    "duration": 20,
    "start_time": "2021-10-26T05:58:34.699Z"
   },
   {
    "duration": 46,
    "start_time": "2021-10-26T05:58:34.721Z"
   },
   {
    "duration": 5,
    "start_time": "2021-10-26T05:58:34.769Z"
   },
   {
    "duration": 32,
    "start_time": "2021-10-26T05:58:34.776Z"
   },
   {
    "duration": 16,
    "start_time": "2021-10-26T05:58:34.811Z"
   },
   {
    "duration": 52,
    "start_time": "2021-10-26T05:58:34.829Z"
   },
   {
    "duration": 16,
    "start_time": "2021-10-26T05:58:34.883Z"
   },
   {
    "duration": 10,
    "start_time": "2021-10-26T05:58:34.901Z"
   },
   {
    "duration": 5,
    "start_time": "2021-10-26T05:58:34.914Z"
   },
   {
    "duration": 41,
    "start_time": "2021-10-26T05:58:34.922Z"
   },
   {
    "duration": 10,
    "start_time": "2021-10-26T05:58:34.966Z"
   },
   {
    "duration": 123,
    "start_time": "2021-10-26T13:08:39.095Z"
   },
   {
    "duration": 669,
    "start_time": "2021-10-26T13:08:46.120Z"
   },
   {
    "duration": 796,
    "start_time": "2021-10-26T13:08:56.747Z"
   },
   {
    "duration": 187,
    "start_time": "2021-10-26T13:08:57.547Z"
   },
   {
    "duration": 31,
    "start_time": "2021-10-26T13:08:57.737Z"
   },
   {
    "duration": 33,
    "start_time": "2021-10-26T13:08:57.771Z"
   },
   {
    "duration": 11,
    "start_time": "2021-10-26T13:08:57.806Z"
   },
   {
    "duration": 57,
    "start_time": "2021-10-26T13:08:57.819Z"
   },
   {
    "duration": 7,
    "start_time": "2021-10-26T13:08:57.878Z"
   },
   {
    "duration": 34,
    "start_time": "2021-10-26T13:08:57.887Z"
   },
   {
    "duration": 48,
    "start_time": "2021-10-26T13:08:57.924Z"
   },
   {
    "duration": 30,
    "start_time": "2021-10-26T13:08:57.975Z"
   },
   {
    "duration": 106,
    "start_time": "2021-10-26T13:08:58.008Z"
   },
   {
    "duration": 106,
    "start_time": "2021-10-26T13:08:58.116Z"
   },
   {
    "duration": 86,
    "start_time": "2021-10-26T13:08:58.225Z"
   },
   {
    "duration": 13,
    "start_time": "2021-10-26T13:08:58.313Z"
   },
   {
    "duration": 4,
    "start_time": "2021-10-26T13:08:58.329Z"
   },
   {
    "duration": 39,
    "start_time": "2021-10-26T13:08:58.335Z"
   },
   {
    "duration": 14,
    "start_time": "2021-10-26T13:08:58.377Z"
   },
   {
    "duration": 15,
    "start_time": "2021-10-26T13:08:58.394Z"
   },
   {
    "duration": 51,
    "start_time": "2021-10-26T13:08:58.412Z"
   },
   {
    "duration": 3,
    "start_time": "2021-10-26T13:08:58.466Z"
   },
   {
    "duration": 22,
    "start_time": "2021-10-26T13:08:58.472Z"
   },
   {
    "duration": 17,
    "start_time": "2021-10-26T13:08:58.496Z"
   },
   {
    "duration": 22,
    "start_time": "2021-10-26T13:08:58.557Z"
   },
   {
    "duration": 28,
    "start_time": "2021-10-26T13:08:58.582Z"
   },
   {
    "duration": 57,
    "start_time": "2021-10-26T13:08:58.614Z"
   },
   {
    "duration": 28,
    "start_time": "2021-10-26T13:08:58.675Z"
   },
   {
    "duration": 18,
    "start_time": "2021-10-26T13:08:58.711Z"
   },
   {
    "duration": 16,
    "start_time": "2021-10-26T13:08:58.759Z"
   },
   {
    "duration": 14,
    "start_time": "2021-10-26T13:08:58.778Z"
   },
   {
    "duration": 8,
    "start_time": "2021-10-26T13:08:58.796Z"
   },
   {
    "duration": 80,
    "start_time": "2021-10-26T13:08:58.807Z"
   },
   {
    "duration": 29,
    "start_time": "2021-10-26T13:08:58.890Z"
   },
   {
    "duration": 61,
    "start_time": "2021-10-26T13:08:58.922Z"
   },
   {
    "duration": 28,
    "start_time": "2021-10-26T13:08:58.986Z"
   },
   {
    "duration": 49,
    "start_time": "2021-10-26T13:08:59.017Z"
   },
   {
    "duration": 9,
    "start_time": "2021-10-26T13:08:59.069Z"
   },
   {
    "duration": 13,
    "start_time": "2021-10-26T13:08:59.080Z"
   },
   {
    "duration": 7,
    "start_time": "2021-10-26T13:08:59.096Z"
   },
   {
    "duration": 145,
    "start_time": "2021-10-26T13:09:51.875Z"
   },
   {
    "duration": 571,
    "start_time": "2021-10-26T19:46:06.005Z"
   },
   {
    "duration": 143,
    "start_time": "2021-10-26T19:46:06.577Z"
   },
   {
    "duration": 17,
    "start_time": "2021-10-26T19:46:06.722Z"
   },
   {
    "duration": 32,
    "start_time": "2021-10-26T19:46:06.741Z"
   },
   {
    "duration": 4,
    "start_time": "2021-10-26T19:46:06.775Z"
   },
   {
    "duration": 23,
    "start_time": "2021-10-26T19:46:06.780Z"
   },
   {
    "duration": 4,
    "start_time": "2021-10-26T19:46:06.805Z"
   },
   {
    "duration": 27,
    "start_time": "2021-10-26T19:46:06.811Z"
   },
   {
    "duration": 39,
    "start_time": "2021-10-26T19:46:06.840Z"
   },
   {
    "duration": 25,
    "start_time": "2021-10-26T19:46:06.881Z"
   },
   {
    "duration": 88,
    "start_time": "2021-10-26T19:46:06.908Z"
   },
   {
    "duration": 88,
    "start_time": "2021-10-26T19:46:06.998Z"
   },
   {
    "duration": 56,
    "start_time": "2021-10-26T19:46:07.088Z"
   },
   {
    "duration": 23,
    "start_time": "2021-10-26T19:46:07.146Z"
   },
   {
    "duration": 3,
    "start_time": "2021-10-26T19:46:07.171Z"
   },
   {
    "duration": 11,
    "start_time": "2021-10-26T19:46:07.176Z"
   },
   {
    "duration": 9,
    "start_time": "2021-10-26T19:46:07.189Z"
   },
   {
    "duration": 11,
    "start_time": "2021-10-26T19:46:07.200Z"
   },
   {
    "duration": 10,
    "start_time": "2021-10-26T19:46:07.212Z"
   },
   {
    "duration": 3,
    "start_time": "2021-10-26T19:46:07.224Z"
   },
   {
    "duration": 17,
    "start_time": "2021-10-26T19:46:07.263Z"
   },
   {
    "duration": 14,
    "start_time": "2021-10-26T19:46:07.282Z"
   },
   {
    "duration": 15,
    "start_time": "2021-10-26T19:46:07.299Z"
   },
   {
    "duration": 15,
    "start_time": "2021-10-26T19:46:07.316Z"
   },
   {
    "duration": 47,
    "start_time": "2021-10-26T19:46:07.333Z"
   },
   {
    "duration": 15,
    "start_time": "2021-10-26T19:46:07.382Z"
   },
   {
    "duration": 8,
    "start_time": "2021-10-26T19:46:07.399Z"
   },
   {
    "duration": 14,
    "start_time": "2021-10-26T19:46:07.408Z"
   },
   {
    "duration": 39,
    "start_time": "2021-10-26T19:46:07.424Z"
   },
   {
    "duration": 4,
    "start_time": "2021-10-26T19:46:07.465Z"
   },
   {
    "duration": 25,
    "start_time": "2021-10-26T19:46:07.470Z"
   },
   {
    "duration": 14,
    "start_time": "2021-10-26T19:46:07.497Z"
   },
   {
    "duration": 19,
    "start_time": "2021-10-26T19:46:07.512Z"
   },
   {
    "duration": 36,
    "start_time": "2021-10-26T19:46:07.533Z"
   },
   {
    "duration": 14,
    "start_time": "2021-10-26T19:46:07.571Z"
   },
   {
    "duration": 5,
    "start_time": "2021-10-26T19:46:07.587Z"
   },
   {
    "duration": 19,
    "start_time": "2021-10-26T19:46:07.594Z"
   },
   {
    "duration": 8,
    "start_time": "2021-10-26T19:46:07.614Z"
   }
  ],
  "colab": {
   "collapsed_sections": [
    "E0vqbgi9ay0H",
    "VUC88oWjTJw2"
   ],
   "name": "yandex_music_project_2021.2.ipynb",
   "provenance": []
  },
  "kernelspec": {
   "display_name": "Python 3 (ipykernel)",
   "language": "python",
   "name": "python3"
  },
  "language_info": {
   "codemirror_mode": {
    "name": "ipython",
    "version": 3
   },
   "file_extension": ".py",
   "mimetype": "text/x-python",
   "name": "python",
   "nbconvert_exporter": "python",
   "pygments_lexer": "ipython3",
   "version": "3.9.7"
  },
  "toc": {
   "base_numbering": 1,
   "nav_menu": {},
   "number_sections": true,
   "sideBar": true,
   "skip_h1_title": true,
   "title_cell": "Table of Contents",
   "title_sidebar": "Contents",
   "toc_cell": false,
   "toc_position": {
    "height": "calc(100% - 180px)",
    "left": "10px",
    "top": "150px",
    "width": "185px"
   },
   "toc_section_display": true,
   "toc_window_display": false
  }
 },
 "nbformat": 4,
 "nbformat_minor": 1
}
